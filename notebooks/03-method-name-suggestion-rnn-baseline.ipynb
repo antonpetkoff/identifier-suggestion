{
 "cells": [
  {
   "cell_type": "code",
   "execution_count": 1,
   "metadata": {},
   "outputs": [
    {
     "name": "stderr",
     "output_type": "stream",
     "text": [
      "/home/tony/source/programming-tools/.venv/lib/python3.7/site-packages/tqdm/std.py:658: FutureWarning: The Panel class is removed from pandas. Accessing it from the top-level namespace will also be removed in the next version\n",
      "  from pandas import Panel\n"
     ]
    }
   ],
   "source": [
    "import pandas as pd\n",
    "import numpy as np\n",
    "import matplotlib.pyplot as plt\n",
    "import javalang\n",
    "from sklearn.model_selection import train_test_split\n",
    "from tqdm.auto import tqdm\n",
    "from collections import Counter\n",
    "from itertools import chain\n",
    "\n",
    "import tensorflow as tf\n",
    "# import tensorflow_addons as tfa # TODO: find ready to use seq2seq modules here\n",
    "from tensorflow.keras import layers\n",
    "from tensorboard.plugins.hparams import api as hp\n",
    "from tensorflow.keras.preprocessing.sequence import pad_sequences\n",
    "from tensorflow.keras.utils import to_categorical\n",
    "\n",
    "tqdm.pandas()"
   ]
  },
  {
   "cell_type": "code",
   "execution_count": 55,
   "metadata": {},
   "outputs": [
    {
     "name": "stdout",
     "output_type": "stream",
     "text": [
      "PYTHONPATH before: ['/home/tony/source/programming-tools/lib/notebooks', '/home/tony/source/programming-tools/.venv/lib/python37.zip', '/home/tony/source/programming-tools/.venv/lib/python3.7', '/home/tony/source/programming-tools/.venv/lib/python3.7/lib-dynload', '/usr/lib/python3.7', '', '/home/tony/source/programming-tools/.venv/lib/python3.7/site-packages', '/home/tony/source/programming-tools/.venv/lib/python3.7/site-packages/IPython/extensions', '/home/tony/.ipython']\n",
      "PYTHONPATH after: ['/home/tony/source/programming-tools/lib/notebooks', '/home/tony/source/programming-tools/.venv/lib/python37.zip', '/home/tony/source/programming-tools/.venv/lib/python3.7', '/home/tony/source/programming-tools/.venv/lib/python3.7/lib-dynload', '/usr/lib/python3.7', '', '/home/tony/source/programming-tools/.venv/lib/python3.7/site-packages', '/home/tony/source/programming-tools/.venv/lib/python3.7/site-packages/IPython/extensions', '/home/tony/.ipython', '../..']\n"
     ]
    }
   ],
   "source": [
    "import sys\n",
    "print(f'PYTHONPATH before: {sys.path}')\n",
    "sys.path.append('../..')\n",
    "print(f'PYTHONPATH after: {sys.path}')"
   ]
  },
  {
   "cell_type": "code",
   "execution_count": 57,
   "metadata": {},
   "outputs": [
    {
     "data": {
      "text/plain": [
       "['transform', 'search', 'response']"
      ]
     },
     "execution_count": 57,
     "metadata": {},
     "output_type": "execute_result"
    }
   ],
   "source": [
    "from src.preprocessing.tokens import get_subtokens\n",
    "\n",
    "get_subtokens('transformSearchResponse')"
   ]
  },
  {
   "cell_type": "markdown",
   "metadata": {},
   "source": [
    "- [ ] Add a start and end token to each sentence.\n",
    "- [ ] Create a token index and reverse token index (dictionaries mapping from token → id and id → token).\n",
    "- [ ] Pad each sequence to a maximum length."
   ]
  },
  {
   "cell_type": "code",
   "execution_count": 2,
   "metadata": {},
   "outputs": [],
   "source": [
    "data_path = '../../data/method-names-rich/elasticsearch.csv'"
   ]
  },
  {
   "cell_type": "code",
   "execution_count": 3,
   "metadata": {},
   "outputs": [
    {
     "data": {
      "text/html": [
       "<div>\n",
       "<style scoped>\n",
       "    .dataframe tbody tr th:only-of-type {\n",
       "        vertical-align: middle;\n",
       "    }\n",
       "\n",
       "    .dataframe tbody tr th {\n",
       "        vertical-align: top;\n",
       "    }\n",
       "\n",
       "    .dataframe thead th {\n",
       "        text-align: right;\n",
       "    }\n",
       "</style>\n",
       "<table border=\"1\" class=\"dataframe\">\n",
       "  <thead>\n",
       "    <tr style=\"text-align: right;\">\n",
       "      <th></th>\n",
       "      <th>file_name</th>\n",
       "      <th>class_name</th>\n",
       "      <th>method_name</th>\n",
       "      <th>return_type</th>\n",
       "      <th>arguments</th>\n",
       "      <th>body</th>\n",
       "      <th>documentation</th>\n",
       "      <th>modifiers</th>\n",
       "      <th>annotations</th>\n",
       "    </tr>\n",
       "  </thead>\n",
       "  <tbody>\n",
       "    <tr>\n",
       "      <th>0</th>\n",
       "      <td>data/repos/elasticsearch-master/buildSrc/src/t...</td>\n",
       "      <td>RestTestFromSnippetsTaskTests</td>\n",
       "      <td>testInvalidBlockQuote</td>\n",
       "      <td>void</td>\n",
       "      <td>[]</td>\n",
       "      <td>{ String input = \"\\\"foo\\\": \\\"\\\"\\\"bar\\\"\"; expec...</td>\n",
       "      <td>None</td>\n",
       "      <td>['public']</td>\n",
       "      <td>[]</td>\n",
       "    </tr>\n",
       "    <tr>\n",
       "      <th>1</th>\n",
       "      <td>data/repos/elasticsearch-master/buildSrc/src/t...</td>\n",
       "      <td>RestTestFromSnippetsTaskTests</td>\n",
       "      <td>testSimpleBlockQuote</td>\n",
       "      <td>void</td>\n",
       "      <td>[]</td>\n",
       "      <td>{ assertEquals(\"\\\"foo\\\": \\\"bort baz\\\"\", replac...</td>\n",
       "      <td>None</td>\n",
       "      <td>['public']</td>\n",
       "      <td>[]</td>\n",
       "    </tr>\n",
       "    <tr>\n",
       "      <th>2</th>\n",
       "      <td>data/repos/elasticsearch-master/buildSrc/src/t...</td>\n",
       "      <td>RestTestFromSnippetsTaskTests</td>\n",
       "      <td>testMultipleBlockQuotes</td>\n",
       "      <td>void</td>\n",
       "      <td>[]</td>\n",
       "      <td>{ assertEquals( \"\\\"foo\\\": \\\"bort baz\\\", \\\"bar\\...</td>\n",
       "      <td>None</td>\n",
       "      <td>['public']</td>\n",
       "      <td>[]</td>\n",
       "    </tr>\n",
       "    <tr>\n",
       "      <th>3</th>\n",
       "      <td>data/repos/elasticsearch-master/buildSrc/src/t...</td>\n",
       "      <td>RestTestFromSnippetsTaskTests</td>\n",
       "      <td>testEscapingInBlockQuote</td>\n",
       "      <td>void</td>\n",
       "      <td>[]</td>\n",
       "      <td>{ assertEquals(\"\\\"foo\\\": \\\"bort\\\\\\\" baz\\\"\", re...</td>\n",
       "      <td>None</td>\n",
       "      <td>['public']</td>\n",
       "      <td>[]</td>\n",
       "    </tr>\n",
       "    <tr>\n",
       "      <th>4</th>\n",
       "      <td>data/repos/elasticsearch-master/buildSrc/src/t...</td>\n",
       "      <td>RestTestFromSnippetsTaskTests</td>\n",
       "      <td>testIsDocWriteRequest</td>\n",
       "      <td>void</td>\n",
       "      <td>[]</td>\n",
       "      <td>{ assertTrue((boolean) RestTestsFromSnippetsTa...</td>\n",
       "      <td>None</td>\n",
       "      <td>['public']</td>\n",
       "      <td>[]</td>\n",
       "    </tr>\n",
       "  </tbody>\n",
       "</table>\n",
       "</div>"
      ],
      "text/plain": [
       "                                           file_name  \\\n",
       "0  data/repos/elasticsearch-master/buildSrc/src/t...   \n",
       "1  data/repos/elasticsearch-master/buildSrc/src/t...   \n",
       "2  data/repos/elasticsearch-master/buildSrc/src/t...   \n",
       "3  data/repos/elasticsearch-master/buildSrc/src/t...   \n",
       "4  data/repos/elasticsearch-master/buildSrc/src/t...   \n",
       "\n",
       "                      class_name               method_name return_type  \\\n",
       "0  RestTestFromSnippetsTaskTests     testInvalidBlockQuote        void   \n",
       "1  RestTestFromSnippetsTaskTests      testSimpleBlockQuote        void   \n",
       "2  RestTestFromSnippetsTaskTests   testMultipleBlockQuotes        void   \n",
       "3  RestTestFromSnippetsTaskTests  testEscapingInBlockQuote        void   \n",
       "4  RestTestFromSnippetsTaskTests     testIsDocWriteRequest        void   \n",
       "\n",
       "  arguments                                               body documentation  \\\n",
       "0        []  { String input = \"\\\"foo\\\": \\\"\\\"\\\"bar\\\"\"; expec...          None   \n",
       "1        []  { assertEquals(\"\\\"foo\\\": \\\"bort baz\\\"\", replac...          None   \n",
       "2        []  { assertEquals( \"\\\"foo\\\": \\\"bort baz\\\", \\\"bar\\...          None   \n",
       "3        []  { assertEquals(\"\\\"foo\\\": \\\"bort\\\\\\\" baz\\\"\", re...          None   \n",
       "4        []  { assertTrue((boolean) RestTestsFromSnippetsTa...          None   \n",
       "\n",
       "    modifiers annotations  \n",
       "0  ['public']          []  \n",
       "1  ['public']          []  \n",
       "2  ['public']          []  \n",
       "3  ['public']          []  \n",
       "4  ['public']          []  "
      ]
     },
     "execution_count": 3,
     "metadata": {},
     "output_type": "execute_result"
    }
   ],
   "source": [
    "# TODO: we take only a few samples just to run a single training loop\n",
    "# TODO: Think data processing through: put data preprocessing in a separate notebook\n",
    "#      which takes in raw CSV data and spits out tensors?\n",
    "df = pd.read_csv(data_path).dropna().head(1000)\n",
    "df.head()"
   ]
  },
  {
   "cell_type": "code",
   "execution_count": 4,
   "metadata": {},
   "outputs": [
    {
     "name": "stdout",
     "output_type": "stream",
     "text": [
      "['transform', 'search', 'response']\n",
      "['modify', 'search', 'response', 'data']\n"
     ]
    }
   ],
   "source": [
    "def split_camel_case(str):\n",
    "    words = [[str[0]]]\n",
    "  \n",
    "    for c in str[1:]: \n",
    "        if words[-1][-1].islower() and c.isupper(): \n",
    "            words.append(list(c)) \n",
    "        else: \n",
    "            words[-1].append(c) \n",
    "  \n",
    "    return [''.join(word).lower() for word in words]\n",
    "\n",
    "print(split_camel_case('transformSearchResponse'))\n",
    "print(split_camel_case('modifySearchResponseData'))"
   ]
  },
  {
   "cell_type": "code",
   "execution_count": 5,
   "metadata": {},
   "outputs": [
    {
     "data": {
      "text/plain": [
       "{'precision': 0.5, 'recall': 0.6666666666666666, 'f1': 0.5714285714285715}"
      ]
     },
     "execution_count": 5,
     "metadata": {},
     "output_type": "execute_result"
    }
   ],
   "source": [
    "# TODO: use a smarter identifier splitter\n",
    "def get_subtokens(token):\n",
    "    return split_camel_case(token)\n",
    "\n",
    "def compute_loss(target_token, predicted_token):\n",
    "    target_subtokens = get_subtokens(target_token) # a.k.a required subtokens\n",
    "    predicted_subtokens = get_subtokens(predicted_token)\n",
    "    overlapping = Counter(target_subtokens) & Counter(predicted_subtokens)\n",
    "    overlapping_count = sum(overlapping.values())\n",
    "    \n",
    "    precision = 1.0 * overlapping_count / len(predicted_subtokens)\n",
    "    recall = 1.0 * overlapping_count / len(target_subtokens)\n",
    "    f1 = (2.0 * precision * recall) / (precision + recall)\n",
    "    \n",
    "    return { 'precision': precision, 'recall': recall, 'f1': f1 }\n",
    "\n",
    "compute_loss('transformSearchResponse', 'modifySearchResponseData')"
   ]
  },
  {
   "cell_type": "code",
   "execution_count": 6,
   "metadata": {},
   "outputs": [
    {
     "data": {
      "application/vnd.jupyter.widget-view+json": {
       "model_id": "7b822278703c4079b30666542b8d6bfb",
       "version_major": 2,
       "version_minor": 0
      },
      "text/plain": [
       "HBox(children=(FloatProgress(value=0.0, max=1000.0), HTML(value='')))"
      ]
     },
     "metadata": {},
     "output_type": "display_data"
    },
    {
     "name": "stdout",
     "output_type": "stream",
     "text": [
      "\n"
     ]
    },
    {
     "data": {
      "text/plain": [
       "0                             {\n",
       "1                        String\n",
       "2                         input\n",
       "3                             =\n",
       "4        \"\\\"foo\\\": \\\"\\\"\\\"bar\\\"\"\n",
       "                  ...          \n",
       "39715                         )\n",
       "39716                         )\n",
       "39717                         )\n",
       "39718                         ;\n",
       "39719                         }\n",
       "Length: 39720, dtype: object"
      ]
     },
     "execution_count": 6,
     "metadata": {},
     "output_type": "execute_result"
    }
   ],
   "source": [
    "# define input vocabulary\n",
    "\n",
    "# TODO: investigate why source code body is not tokenized by javalang\n",
    "invalid_body_count = 0\n",
    "\n",
    "def tokenize_method_body(code):\n",
    "    global invalid_body_count\n",
    "    \n",
    "    try:\n",
    "        return list(map(lambda token: token.value, javalang.tokenizer.tokenize(code)))\n",
    "    except Exception as e:\n",
    "        invalid_body_count += 1\n",
    "        if invalid_body_count % 1000 == 0:\n",
    "            print(f'invalid_body_count = {invalid_body_count}')\n",
    "        return []\n",
    "\n",
    "repeating_body_tokens = pd.Series(chain.from_iterable(\n",
    "    df.body \\\n",
    "        .progress_apply(tokenize_method_body) \\\n",
    "        .values\n",
    "))\n",
    "repeating_body_tokens"
   ]
  },
  {
   "cell_type": "code",
   "execution_count": 7,
   "metadata": {},
   "outputs": [
    {
     "data": {
      "text/html": [
       "<div>\n",
       "<style scoped>\n",
       "    .dataframe tbody tr th:only-of-type {\n",
       "        vertical-align: middle;\n",
       "    }\n",
       "\n",
       "    .dataframe tbody tr th {\n",
       "        vertical-align: top;\n",
       "    }\n",
       "\n",
       "    .dataframe thead th {\n",
       "        text-align: right;\n",
       "    }\n",
       "</style>\n",
       "<table border=\"1\" class=\"dataframe\">\n",
       "  <thead>\n",
       "    <tr style=\"text-align: right;\">\n",
       "      <th></th>\n",
       "      <th>token</th>\n",
       "      <th>count</th>\n",
       "    </tr>\n",
       "  </thead>\n",
       "  <tbody>\n",
       "    <tr>\n",
       "      <th>0</th>\n",
       "      <td>)</td>\n",
       "      <td>5043</td>\n",
       "    </tr>\n",
       "    <tr>\n",
       "      <th>1</th>\n",
       "      <td>(</td>\n",
       "      <td>5030</td>\n",
       "    </tr>\n",
       "    <tr>\n",
       "      <th>2</th>\n",
       "      <td>.</td>\n",
       "      <td>3491</td>\n",
       "    </tr>\n",
       "    <tr>\n",
       "      <th>3</th>\n",
       "      <td>;</td>\n",
       "      <td>2670</td>\n",
       "    </tr>\n",
       "    <tr>\n",
       "      <th>4</th>\n",
       "      <td>,</td>\n",
       "      <td>2037</td>\n",
       "    </tr>\n",
       "    <tr>\n",
       "      <th>5</th>\n",
       "      <td>{</td>\n",
       "      <td>1441</td>\n",
       "    </tr>\n",
       "    <tr>\n",
       "      <th>6</th>\n",
       "      <td>}</td>\n",
       "      <td>1415</td>\n",
       "    </tr>\n",
       "    <tr>\n",
       "      <th>7</th>\n",
       "      <td>=</td>\n",
       "      <td>726</td>\n",
       "    </tr>\n",
       "    <tr>\n",
       "      <th>8</th>\n",
       "      <td>+</td>\n",
       "      <td>506</td>\n",
       "    </tr>\n",
       "    <tr>\n",
       "      <th>9</th>\n",
       "      <td>return</td>\n",
       "      <td>471</td>\n",
       "    </tr>\n",
       "    <tr>\n",
       "      <th>10</th>\n",
       "      <td>new</td>\n",
       "      <td>368</td>\n",
       "    </tr>\n",
       "    <tr>\n",
       "      <th>11</th>\n",
       "      <td>if</td>\n",
       "      <td>255</td>\n",
       "    </tr>\n",
       "    <tr>\n",
       "      <th>12</th>\n",
       "      <td>String</td>\n",
       "      <td>236</td>\n",
       "    </tr>\n",
       "    <tr>\n",
       "      <th>13</th>\n",
       "      <td>&lt;</td>\n",
       "      <td>223</td>\n",
       "    </tr>\n",
       "    <tr>\n",
       "      <th>14</th>\n",
       "      <td>&gt;</td>\n",
       "      <td>215</td>\n",
       "    </tr>\n",
       "    <tr>\n",
       "      <th>15</th>\n",
       "      <td>project</td>\n",
       "      <td>212</td>\n",
       "    </tr>\n",
       "    <tr>\n",
       "      <th>16</th>\n",
       "      <td>-&gt;</td>\n",
       "      <td>190</td>\n",
       "    </tr>\n",
       "    <tr>\n",
       "      <th>17</th>\n",
       "      <td>final</td>\n",
       "      <td>165</td>\n",
       "    </tr>\n",
       "    <tr>\n",
       "      <th>18</th>\n",
       "      <td>null</td>\n",
       "      <td>161</td>\n",
       "    </tr>\n",
       "    <tr>\n",
       "      <th>19</th>\n",
       "      <td>==</td>\n",
       "      <td>149</td>\n",
       "    </tr>\n",
       "    <tr>\n",
       "      <th>20</th>\n",
       "      <td>taskQueue</td>\n",
       "      <td>138</td>\n",
       "    </tr>\n",
       "    <tr>\n",
       "      <th>21</th>\n",
       "      <td>this</td>\n",
       "      <td>120</td>\n",
       "    </tr>\n",
       "    <tr>\n",
       "      <th>22</th>\n",
       "      <td>throw</td>\n",
       "      <td>112</td>\n",
       "    </tr>\n",
       "    <tr>\n",
       "      <th>23</th>\n",
       "      <td>1</td>\n",
       "      <td>106</td>\n",
       "    </tr>\n",
       "    <tr>\n",
       "      <th>24</th>\n",
       "      <td>class</td>\n",
       "      <td>104</td>\n",
       "    </tr>\n",
       "    <tr>\n",
       "      <th>25</th>\n",
       "      <td>:</td>\n",
       "      <td>101</td>\n",
       "    </tr>\n",
       "    <tr>\n",
       "      <th>26</th>\n",
       "      <td>get</td>\n",
       "      <td>100</td>\n",
       "    </tr>\n",
       "    <tr>\n",
       "      <th>27</th>\n",
       "      <td>result</td>\n",
       "      <td>100</td>\n",
       "    </tr>\n",
       "    <tr>\n",
       "      <th>28</th>\n",
       "      <td>add</td>\n",
       "      <td>98</td>\n",
       "    </tr>\n",
       "    <tr>\n",
       "      <th>29</th>\n",
       "      <td>false</td>\n",
       "      <td>93</td>\n",
       "    </tr>\n",
       "  </tbody>\n",
       "</table>\n",
       "</div>"
      ],
      "text/plain": [
       "        token  count\n",
       "0           )   5043\n",
       "1           (   5030\n",
       "2           .   3491\n",
       "3           ;   2670\n",
       "4           ,   2037\n",
       "5           {   1441\n",
       "6           }   1415\n",
       "7           =    726\n",
       "8           +    506\n",
       "9      return    471\n",
       "10        new    368\n",
       "11         if    255\n",
       "12     String    236\n",
       "13          <    223\n",
       "14          >    215\n",
       "15    project    212\n",
       "16         ->    190\n",
       "17      final    165\n",
       "18       null    161\n",
       "19         ==    149\n",
       "20  taskQueue    138\n",
       "21       this    120\n",
       "22      throw    112\n",
       "23          1    106\n",
       "24      class    104\n",
       "25          :    101\n",
       "26        get    100\n",
       "27     result    100\n",
       "28        add     98\n",
       "29      false     93"
      ]
     },
     "execution_count": 7,
     "metadata": {},
     "output_type": "execute_result"
    }
   ],
   "source": [
    "unique_body_tokens = pd.DataFrame.from_dict(Counter(repeating_body_tokens.values), orient='index') \\\n",
    "    .sort_values(by=0, ascending=False) \\\n",
    "    .reset_index().rename(columns={'index': 'token', 0: 'count'})\n",
    "\n",
    "unique_body_tokens.head(30)"
   ]
  },
  {
   "cell_type": "code",
   "execution_count": 8,
   "metadata": {},
   "outputs": [
    {
     "data": {
      "text/plain": [
       "1618"
      ]
     },
     "execution_count": 8,
     "metadata": {},
     "output_type": "execute_result"
    }
   ],
   "source": [
    "len(unique_body_tokens[unique_body_tokens['count'] >= 2])"
   ]
  },
  {
   "cell_type": "code",
   "execution_count": 9,
   "metadata": {},
   "outputs": [
    {
     "data": {
      "text/plain": [
       "<matplotlib.axes._subplots.AxesSubplot at 0x7fbc103f1f28>"
      ]
     },
     "execution_count": 9,
     "metadata": {},
     "output_type": "execute_result"
    },
    {
     "data": {
      "image/png": "[encoded data removed]",
      "text/plain": [
       "<Figure size 432x288 with 1 Axes>"
      ]
     },
     "metadata": {
      "needs_background": "light"
     },
     "output_type": "display_data"
    }
   ],
   "source": [
    "unique_body_tokens[unique_body_tokens['count'] < 10].plot()"
   ]
  },
  {
   "cell_type": "code",
   "execution_count": 10,
   "metadata": {},
   "outputs": [
    {
     "data": {
      "text/html": [
       "<div>\n",
       "<style scoped>\n",
       "    .dataframe tbody tr th:only-of-type {\n",
       "        vertical-align: middle;\n",
       "    }\n",
       "\n",
       "    .dataframe tbody tr th {\n",
       "        vertical-align: top;\n",
       "    }\n",
       "\n",
       "    .dataframe thead th {\n",
       "        text-align: right;\n",
       "    }\n",
       "</style>\n",
       "<table border=\"1\" class=\"dataframe\">\n",
       "  <thead>\n",
       "    <tr style=\"text-align: right;\">\n",
       "      <th></th>\n",
       "      <th>token</th>\n",
       "      <th>count</th>\n",
       "    </tr>\n",
       "  </thead>\n",
       "  <tbody>\n",
       "    <tr>\n",
       "      <th>2058</th>\n",
       "      <td>CharSequence</td>\n",
       "      <td>1</td>\n",
       "    </tr>\n",
       "    <tr>\n",
       "      <th>2152</th>\n",
       "      <td>\"--scan\"</td>\n",
       "      <td>1</td>\n",
       "    </tr>\n",
       "    <tr>\n",
       "      <th>1641</th>\n",
       "      <td>\"Found invalid patterns:\\n\"</td>\n",
       "      <td>1</td>\n",
       "    </tr>\n",
       "    <tr>\n",
       "      <th>2711</th>\n",
       "      <td>restart</td>\n",
       "      <td>1</td>\n",
       "    </tr>\n",
       "    <tr>\n",
       "      <th>2661</th>\n",
       "      <td>\"Got successful response [{}] from URL [{}]\"</td>\n",
       "      <td>1</td>\n",
       "    </tr>\n",
       "    <tr>\n",
       "      <th>1689</th>\n",
       "      <td>\"-Xmx1g\"</td>\n",
       "      <td>1</td>\n",
       "    </tr>\n",
       "    <tr>\n",
       "      <th>2406</th>\n",
       "      <td>\"src/main/java/Foo.java\"</td>\n",
       "      <td>1</td>\n",
       "    </tr>\n",
       "    <tr>\n",
       "      <th>2640</th>\n",
       "      <td>getExecuted</td>\n",
       "      <td>1</td>\n",
       "    </tr>\n",
       "    <tr>\n",
       "      <th>2811</th>\n",
       "      <td>copyTo</td>\n",
       "      <td>1</td>\n",
       "    </tr>\n",
       "    <tr>\n",
       "      <th>1688</th>\n",
       "      <td>getForbiddenAPIsConfiguration</td>\n",
       "      <td>1</td>\n",
       "    </tr>\n",
       "  </tbody>\n",
       "</table>\n",
       "</div>"
      ],
      "text/plain": [
       "                                             token  count\n",
       "2058                                  CharSequence      1\n",
       "2152                                      \"--scan\"      1\n",
       "1641                   \"Found invalid patterns:\\n\"      1\n",
       "2711                                       restart      1\n",
       "2661  \"Got successful response [{}] from URL [{}]\"      1\n",
       "1689                                      \"-Xmx1g\"      1\n",
       "2406                      \"src/main/java/Foo.java\"      1\n",
       "2640                                   getExecuted      1\n",
       "2811                                        copyTo      1\n",
       "1688                 getForbiddenAPIsConfiguration      1"
      ]
     },
     "execution_count": 10,
     "metadata": {},
     "output_type": "execute_result"
    }
   ],
   "source": [
    "unique_body_tokens[unique_body_tokens['count'] == 1].sample(10)"
   ]
  },
  {
   "cell_type": "code",
   "execution_count": 11,
   "metadata": {},
   "outputs": [
    {
     "data": {
      "text/plain": [
       "[Text(0, 0.5, 'Subtoken frequency'),\n",
       " Text(0.5, 0, 'Rank by frequency count'),\n",
       " Text(0.5, 1.0, 'Distribution of subtoken frequency')]"
      ]
     },
     "execution_count": 11,
     "metadata": {},
     "output_type": "execute_result"
    },
    {
     "data": {
      "image/png": "[encoded data removed]",
      "text/plain": [
       "<Figure size 504x504 with 1 Axes>"
      ]
     },
     "metadata": {
      "needs_background": "light"
     },
     "output_type": "display_data"
    }
   ],
   "source": [
    "# index by position in the list which is sorted by frequency\n",
    "ax = unique_body_tokens[unique_body_tokens['count'] > 10] \\\n",
    "    .plot(loglog=True, figsize=(7, 7))\n",
    "ax.set(title='Distribution of subtoken frequency', xlabel='Rank by frequency count', ylabel='Subtoken frequency')"
   ]
  },
  {
   "cell_type": "code",
   "execution_count": 12,
   "metadata": {},
   "outputs": [],
   "source": [
    "# # yes, the pandas groupby interface is THIS stupid :) ...\n",
    "# unique_body_tokens = repeating_body_tokens \\\n",
    "#     .groupby(lambda index: repeating_body_tokens[index]).count()\n",
    "\n",
    "# unique_body_tokens.head(30)"
   ]
  },
  {
   "cell_type": "code",
   "execution_count": 13,
   "metadata": {},
   "outputs": [
    {
     "data": {
      "application/vnd.jupyter.widget-view+json": {
       "model_id": "3012de7e0c5544e4981f0315c5117785",
       "version_major": 2,
       "version_minor": 0
      },
      "text/plain": [
       "HBox(children=(FloatProgress(value=0.0, max=1000.0), HTML(value='')))"
      ]
     },
     "metadata": {},
     "output_type": "display_data"
    },
    {
     "name": "stdout",
     "output_type": "stream",
     "text": [
      "\n"
     ]
    },
    {
     "data": {
      "text/plain": [
       "get           215\n",
       "test          190\n",
       "set            96\n",
       "check          62\n",
       "version        62\n",
       "file           52\n",
       "task           46\n",
       "assert         40\n",
       "create         39\n",
       "dir            35\n",
       "project        35\n",
       "java           32\n",
       "with           31\n",
       "name           30\n",
       "of             28\n",
       "is             28\n",
       "to             27\n",
       "exception      26\n",
       "build          25\n",
       "jdk            22\n",
       "dependency     19\n",
       "should         19\n",
       "path           18\n",
       "run            18\n",
       "then           18\n",
       "on             17\n",
       "home           17\n",
       "for            16\n",
       "configure      16\n",
       "not            16\n",
       "dtype: int64"
      ]
     },
     "execution_count": 13,
     "metadata": {},
     "output_type": "execute_result"
    }
   ],
   "source": [
    "# define output vocabulary\n",
    "\n",
    "repeating_method_subtokens = pd.Series(chain.from_iterable(df.method_name.progress_apply(get_subtokens).values))\n",
    "\n",
    "# yes, the pandas groupby interface is THIS stupid :) ...\n",
    "unique_method_subtokens = repeating_method_subtokens \\\n",
    "    .groupby(lambda index: repeating_method_subtokens[index]).count() \\\n",
    "    .sort_values(ascending=False)\n",
    "\n",
    "unique_method_subtokens.head(30)"
   ]
  },
  {
   "cell_type": "code",
   "execution_count": 14,
   "metadata": {},
   "outputs": [
    {
     "data": {
      "text/plain": [
       "[Text(0, 0.5, 'Subtoken frequency'),\n",
       " Text(0.5, 0, 'Rank by frequency count'),\n",
       " Text(0.5, 1.0, 'Distribution of subtoken frequency')]"
      ]
     },
     "execution_count": 14,
     "metadata": {},
     "output_type": "execute_result"
    },
    {
     "data": {
      "image/png": "[encoded data removed]",
      "text/plain": [
       "<Figure size 504x504 with 1 Axes>"
      ]
     },
     "metadata": {
      "needs_background": "light"
     },
     "output_type": "display_data"
    }
   ],
   "source": [
    "# index by position in the list which is sorted by frequency\n",
    "ax = unique_method_subtokens \\\n",
    "    .sort_values(ascending=False).reset_index().rename(columns={0: 'subtoken occurrence count'}) \\\n",
    "    .plot(loglog=True, figsize=(7, 7))\n",
    "ax.set(title='Distribution of subtoken frequency', xlabel='Rank by frequency count', ylabel='Subtoken frequency')"
   ]
  },
  {
   "cell_type": "code",
   "execution_count": 15,
   "metadata": {},
   "outputs": [
    {
     "data": {
      "text/plain": [
       "627"
      ]
     },
     "execution_count": 15,
     "metadata": {},
     "output_type": "execute_result"
    }
   ],
   "source": [
    "len(unique_method_subtokens)"
   ]
  },
  {
   "cell_type": "code",
   "execution_count": 16,
   "metadata": {},
   "outputs": [
    {
     "data": {
      "text/html": [
       "<div>\n",
       "<style scoped>\n",
       "    .dataframe tbody tr th:only-of-type {\n",
       "        vertical-align: middle;\n",
       "    }\n",
       "\n",
       "    .dataframe tbody tr th {\n",
       "        vertical-align: top;\n",
       "    }\n",
       "\n",
       "    .dataframe thead th {\n",
       "        text-align: right;\n",
       "    }\n",
       "</style>\n",
       "<table border=\"1\" class=\"dataframe\">\n",
       "  <thead>\n",
       "    <tr style=\"text-align: right;\">\n",
       "      <th></th>\n",
       "      <th>token</th>\n",
       "      <th>count</th>\n",
       "    </tr>\n",
       "  </thead>\n",
       "  <tbody>\n",
       "    <tr>\n",
       "      <th>0</th>\n",
       "      <td>get</td>\n",
       "      <td>215</td>\n",
       "    </tr>\n",
       "    <tr>\n",
       "      <th>1</th>\n",
       "      <td>test</td>\n",
       "      <td>190</td>\n",
       "    </tr>\n",
       "    <tr>\n",
       "      <th>2</th>\n",
       "      <td>set</td>\n",
       "      <td>96</td>\n",
       "    </tr>\n",
       "    <tr>\n",
       "      <th>3</th>\n",
       "      <td>check</td>\n",
       "      <td>62</td>\n",
       "    </tr>\n",
       "    <tr>\n",
       "      <th>4</th>\n",
       "      <td>version</td>\n",
       "      <td>62</td>\n",
       "    </tr>\n",
       "    <tr>\n",
       "      <th>5</th>\n",
       "      <td>file</td>\n",
       "      <td>52</td>\n",
       "    </tr>\n",
       "    <tr>\n",
       "      <th>6</th>\n",
       "      <td>task</td>\n",
       "      <td>46</td>\n",
       "    </tr>\n",
       "    <tr>\n",
       "      <th>7</th>\n",
       "      <td>assert</td>\n",
       "      <td>40</td>\n",
       "    </tr>\n",
       "    <tr>\n",
       "      <th>8</th>\n",
       "      <td>create</td>\n",
       "      <td>39</td>\n",
       "    </tr>\n",
       "    <tr>\n",
       "      <th>9</th>\n",
       "      <td>dir</td>\n",
       "      <td>35</td>\n",
       "    </tr>\n",
       "    <tr>\n",
       "      <th>10</th>\n",
       "      <td>project</td>\n",
       "      <td>35</td>\n",
       "    </tr>\n",
       "    <tr>\n",
       "      <th>11</th>\n",
       "      <td>java</td>\n",
       "      <td>32</td>\n",
       "    </tr>\n",
       "    <tr>\n",
       "      <th>12</th>\n",
       "      <td>with</td>\n",
       "      <td>31</td>\n",
       "    </tr>\n",
       "    <tr>\n",
       "      <th>13</th>\n",
       "      <td>name</td>\n",
       "      <td>30</td>\n",
       "    </tr>\n",
       "    <tr>\n",
       "      <th>14</th>\n",
       "      <td>is</td>\n",
       "      <td>28</td>\n",
       "    </tr>\n",
       "    <tr>\n",
       "      <th>15</th>\n",
       "      <td>of</td>\n",
       "      <td>28</td>\n",
       "    </tr>\n",
       "    <tr>\n",
       "      <th>16</th>\n",
       "      <td>to</td>\n",
       "      <td>27</td>\n",
       "    </tr>\n",
       "    <tr>\n",
       "      <th>17</th>\n",
       "      <td>exception</td>\n",
       "      <td>26</td>\n",
       "    </tr>\n",
       "    <tr>\n",
       "      <th>18</th>\n",
       "      <td>build</td>\n",
       "      <td>25</td>\n",
       "    </tr>\n",
       "    <tr>\n",
       "      <th>19</th>\n",
       "      <td>jdk</td>\n",
       "      <td>22</td>\n",
       "    </tr>\n",
       "    <tr>\n",
       "      <th>20</th>\n",
       "      <td>should</td>\n",
       "      <td>19</td>\n",
       "    </tr>\n",
       "    <tr>\n",
       "      <th>21</th>\n",
       "      <td>dependency</td>\n",
       "      <td>19</td>\n",
       "    </tr>\n",
       "    <tr>\n",
       "      <th>22</th>\n",
       "      <td>run</td>\n",
       "      <td>18</td>\n",
       "    </tr>\n",
       "    <tr>\n",
       "      <th>23</th>\n",
       "      <td>path</td>\n",
       "      <td>18</td>\n",
       "    </tr>\n",
       "    <tr>\n",
       "      <th>24</th>\n",
       "      <td>then</td>\n",
       "      <td>18</td>\n",
       "    </tr>\n",
       "    <tr>\n",
       "      <th>25</th>\n",
       "      <td>on</td>\n",
       "      <td>17</td>\n",
       "    </tr>\n",
       "    <tr>\n",
       "      <th>26</th>\n",
       "      <td>home</td>\n",
       "      <td>17</td>\n",
       "    </tr>\n",
       "    <tr>\n",
       "      <th>27</th>\n",
       "      <td>not</td>\n",
       "      <td>16</td>\n",
       "    </tr>\n",
       "    <tr>\n",
       "      <th>28</th>\n",
       "      <td>configure</td>\n",
       "      <td>16</td>\n",
       "    </tr>\n",
       "    <tr>\n",
       "      <th>29</th>\n",
       "      <td>fail</td>\n",
       "      <td>16</td>\n",
       "    </tr>\n",
       "  </tbody>\n",
       "</table>\n",
       "</div>"
      ],
      "text/plain": [
       "         token  count\n",
       "0          get    215\n",
       "1         test    190\n",
       "2          set     96\n",
       "3        check     62\n",
       "4      version     62\n",
       "5         file     52\n",
       "6         task     46\n",
       "7       assert     40\n",
       "8       create     39\n",
       "9          dir     35\n",
       "10     project     35\n",
       "11        java     32\n",
       "12        with     31\n",
       "13        name     30\n",
       "14          is     28\n",
       "15          of     28\n",
       "16          to     27\n",
       "17   exception     26\n",
       "18       build     25\n",
       "19         jdk     22\n",
       "20      should     19\n",
       "21  dependency     19\n",
       "22         run     18\n",
       "23        path     18\n",
       "24        then     18\n",
       "25          on     17\n",
       "26        home     17\n",
       "27         not     16\n",
       "28   configure     16\n",
       "29        fail     16"
      ]
     },
     "execution_count": 16,
     "metadata": {},
     "output_type": "execute_result"
    }
   ],
   "source": [
    "df_unique_method_name_subtokens = pd.DataFrame.from_dict(Counter(repeating_method_subtokens.values), orient='index') \\\n",
    "    .sort_values(by=0, ascending=False) \\\n",
    "    .reset_index().rename(columns={'index': 'token', 0: 'count'})\n",
    "\n",
    "df_unique_method_name_subtokens.head(30)"
   ]
  },
  {
   "cell_type": "code",
   "execution_count": 17,
   "metadata": {},
   "outputs": [
    {
     "data": {
      "text/html": [
       "<div>\n",
       "<style scoped>\n",
       "    .dataframe tbody tr th:only-of-type {\n",
       "        vertical-align: middle;\n",
       "    }\n",
       "\n",
       "    .dataframe tbody tr th {\n",
       "        vertical-align: top;\n",
       "    }\n",
       "\n",
       "    .dataframe thead th {\n",
       "        text-align: right;\n",
       "    }\n",
       "</style>\n",
       "<table border=\"1\" class=\"dataframe\">\n",
       "  <thead>\n",
       "    <tr style=\"text-align: right;\">\n",
       "      <th></th>\n",
       "      <th>token</th>\n",
       "      <th>count</th>\n",
       "    </tr>\n",
       "  </thead>\n",
       "  <tbody>\n",
       "    <tr>\n",
       "      <th>498</th>\n",
       "      <td>specification</td>\n",
       "      <td>1</td>\n",
       "    </tr>\n",
       "    <tr>\n",
       "      <th>471</th>\n",
       "      <td>past</td>\n",
       "      <td>1</td>\n",
       "    </tr>\n",
       "    <tr>\n",
       "      <th>563</th>\n",
       "      <td>locate</td>\n",
       "      <td>1</td>\n",
       "    </tr>\n",
       "    <tr>\n",
       "      <th>419</th>\n",
       "      <td>exclusions</td>\n",
       "      <td>1</td>\n",
       "    </tr>\n",
       "    <tr>\n",
       "      <th>568</th>\n",
       "      <td>pid</td>\n",
       "      <td>1</td>\n",
       "    </tr>\n",
       "    <tr>\n",
       "      <th>586</th>\n",
       "      <td>retain</td>\n",
       "      <td>1</td>\n",
       "    </tr>\n",
       "    <tr>\n",
       "      <th>411</th>\n",
       "      <td>mock</td>\n",
       "      <td>1</td>\n",
       "    </tr>\n",
       "    <tr>\n",
       "      <th>470</th>\n",
       "      <td>defers</td>\n",
       "      <td>1</td>\n",
       "    </tr>\n",
       "    <tr>\n",
       "      <th>430</th>\n",
       "      <td>builder</td>\n",
       "      <td>1</td>\n",
       "    </tr>\n",
       "    <tr>\n",
       "      <th>577</th>\n",
       "      <td>certificate</td>\n",
       "      <td>1</td>\n",
       "    </tr>\n",
       "  </tbody>\n",
       "</table>\n",
       "</div>"
      ],
      "text/plain": [
       "             token  count\n",
       "498  specification      1\n",
       "471           past      1\n",
       "563         locate      1\n",
       "419     exclusions      1\n",
       "568            pid      1\n",
       "586         retain      1\n",
       "411           mock      1\n",
       "470         defers      1\n",
       "430        builder      1\n",
       "577    certificate      1"
      ]
     },
     "execution_count": 17,
     "metadata": {},
     "output_type": "execute_result"
    }
   ],
   "source": [
    "df_unique_method_name_subtokens[df_unique_method_name_subtokens['count'] == 1].sample(10)"
   ]
  },
  {
   "cell_type": "code",
   "execution_count": 18,
   "metadata": {},
   "outputs": [
    {
     "data": {
      "application/vnd.jupyter.widget-view+json": {
       "model_id": "aaad335536414ec6ba6a7af30ebdebc5",
       "version_major": 2,
       "version_minor": 0
      },
      "text/plain": [
       "HBox(children=(FloatProgress(value=0.0, max=1000.0), HTML(value='')))"
      ]
     },
     "metadata": {},
     "output_type": "display_data"
    },
    {
     "name": "stdout",
     "output_type": "stream",
     "text": [
      "\n"
     ]
    },
    {
     "data": {
      "application/vnd.jupyter.widget-view+json": {
       "model_id": "57e1ab1c5ec14b589992953e69c14f7d",
       "version_major": 2,
       "version_minor": 0
      },
      "text/plain": [
       "HBox(children=(FloatProgress(value=0.0, max=1000.0), HTML(value='')))"
      ]
     },
     "metadata": {},
     "output_type": "display_data"
    },
    {
     "name": "stdout",
     "output_type": "stream",
     "text": [
      "\n"
     ]
    },
    {
     "data": {
      "text/html": [
       "<div>\n",
       "<style scoped>\n",
       "    .dataframe tbody tr th:only-of-type {\n",
       "        vertical-align: middle;\n",
       "    }\n",
       "\n",
       "    .dataframe tbody tr th {\n",
       "        vertical-align: top;\n",
       "    }\n",
       "\n",
       "    .dataframe thead th {\n",
       "        text-align: right;\n",
       "    }\n",
       "</style>\n",
       "<table border=\"1\" class=\"dataframe\">\n",
       "  <thead>\n",
       "    <tr style=\"text-align: right;\">\n",
       "      <th></th>\n",
       "      <th>file_name</th>\n",
       "      <th>class_name</th>\n",
       "      <th>method_name</th>\n",
       "      <th>return_type</th>\n",
       "      <th>arguments</th>\n",
       "      <th>body</th>\n",
       "      <th>documentation</th>\n",
       "      <th>modifiers</th>\n",
       "      <th>annotations</th>\n",
       "      <th>body_tokens</th>\n",
       "      <th>method_name_subtokens</th>\n",
       "    </tr>\n",
       "  </thead>\n",
       "  <tbody>\n",
       "    <tr>\n",
       "      <th>0</th>\n",
       "      <td>data/repos/elasticsearch-master/buildSrc/src/t...</td>\n",
       "      <td>RestTestFromSnippetsTaskTests</td>\n",
       "      <td>testInvalidBlockQuote</td>\n",
       "      <td>void</td>\n",
       "      <td>[]</td>\n",
       "      <td>{ String input = \"\\\"foo\\\": \\\"\\\"\\\"bar\\\"\"; expec...</td>\n",
       "      <td>None</td>\n",
       "      <td>['public']</td>\n",
       "      <td>[]</td>\n",
       "      <td>[{, String, input, =, \"\\\"foo\\\": \\\"\\\"\\\"bar\\\"\", ...</td>\n",
       "      <td>[test, invalid, block, quote]</td>\n",
       "    </tr>\n",
       "    <tr>\n",
       "      <th>1</th>\n",
       "      <td>data/repos/elasticsearch-master/buildSrc/src/t...</td>\n",
       "      <td>RestTestFromSnippetsTaskTests</td>\n",
       "      <td>testSimpleBlockQuote</td>\n",
       "      <td>void</td>\n",
       "      <td>[]</td>\n",
       "      <td>{ assertEquals(\"\\\"foo\\\": \\\"bort baz\\\"\", replac...</td>\n",
       "      <td>None</td>\n",
       "      <td>['public']</td>\n",
       "      <td>[]</td>\n",
       "      <td>[{, assertEquals, (, \"\\\"foo\\\": \\\"bort baz\\\"\", ...</td>\n",
       "      <td>[test, simple, block, quote]</td>\n",
       "    </tr>\n",
       "    <tr>\n",
       "      <th>2</th>\n",
       "      <td>data/repos/elasticsearch-master/buildSrc/src/t...</td>\n",
       "      <td>RestTestFromSnippetsTaskTests</td>\n",
       "      <td>testMultipleBlockQuotes</td>\n",
       "      <td>void</td>\n",
       "      <td>[]</td>\n",
       "      <td>{ assertEquals( \"\\\"foo\\\": \\\"bort baz\\\", \\\"bar\\...</td>\n",
       "      <td>None</td>\n",
       "      <td>['public']</td>\n",
       "      <td>[]</td>\n",
       "      <td>[{, assertEquals, (, \"\\\"foo\\\": \\\"bort baz\\\", \\...</td>\n",
       "      <td>[test, multiple, block, quotes]</td>\n",
       "    </tr>\n",
       "    <tr>\n",
       "      <th>3</th>\n",
       "      <td>data/repos/elasticsearch-master/buildSrc/src/t...</td>\n",
       "      <td>RestTestFromSnippetsTaskTests</td>\n",
       "      <td>testEscapingInBlockQuote</td>\n",
       "      <td>void</td>\n",
       "      <td>[]</td>\n",
       "      <td>{ assertEquals(\"\\\"foo\\\": \\\"bort\\\\\\\" baz\\\"\", re...</td>\n",
       "      <td>None</td>\n",
       "      <td>['public']</td>\n",
       "      <td>[]</td>\n",
       "      <td>[{, assertEquals, (, \"\\\"foo\\\": \\\"bort\\\\\\\" baz\\...</td>\n",
       "      <td>[test, escaping, in, block, quote]</td>\n",
       "    </tr>\n",
       "    <tr>\n",
       "      <th>4</th>\n",
       "      <td>data/repos/elasticsearch-master/buildSrc/src/t...</td>\n",
       "      <td>RestTestFromSnippetsTaskTests</td>\n",
       "      <td>testIsDocWriteRequest</td>\n",
       "      <td>void</td>\n",
       "      <td>[]</td>\n",
       "      <td>{ assertTrue((boolean) RestTestsFromSnippetsTa...</td>\n",
       "      <td>None</td>\n",
       "      <td>['public']</td>\n",
       "      <td>[]</td>\n",
       "      <td>[{, assertTrue, (, (, boolean, ), RestTestsFro...</td>\n",
       "      <td>[test, is, doc, write, request]</td>\n",
       "    </tr>\n",
       "  </tbody>\n",
       "</table>\n",
       "</div>"
      ],
      "text/plain": [
       "                                           file_name  \\\n",
       "0  data/repos/elasticsearch-master/buildSrc/src/t...   \n",
       "1  data/repos/elasticsearch-master/buildSrc/src/t...   \n",
       "2  data/repos/elasticsearch-master/buildSrc/src/t...   \n",
       "3  data/repos/elasticsearch-master/buildSrc/src/t...   \n",
       "4  data/repos/elasticsearch-master/buildSrc/src/t...   \n",
       "\n",
       "                      class_name               method_name return_type  \\\n",
       "0  RestTestFromSnippetsTaskTests     testInvalidBlockQuote        void   \n",
       "1  RestTestFromSnippetsTaskTests      testSimpleBlockQuote        void   \n",
       "2  RestTestFromSnippetsTaskTests   testMultipleBlockQuotes        void   \n",
       "3  RestTestFromSnippetsTaskTests  testEscapingInBlockQuote        void   \n",
       "4  RestTestFromSnippetsTaskTests     testIsDocWriteRequest        void   \n",
       "\n",
       "  arguments                                               body documentation  \\\n",
       "0        []  { String input = \"\\\"foo\\\": \\\"\\\"\\\"bar\\\"\"; expec...          None   \n",
       "1        []  { assertEquals(\"\\\"foo\\\": \\\"bort baz\\\"\", replac...          None   \n",
       "2        []  { assertEquals( \"\\\"foo\\\": \\\"bort baz\\\", \\\"bar\\...          None   \n",
       "3        []  { assertEquals(\"\\\"foo\\\": \\\"bort\\\\\\\" baz\\\"\", re...          None   \n",
       "4        []  { assertTrue((boolean) RestTestsFromSnippetsTa...          None   \n",
       "\n",
       "    modifiers annotations                                        body_tokens  \\\n",
       "0  ['public']          []  [{, String, input, =, \"\\\"foo\\\": \\\"\\\"\\\"bar\\\"\", ...   \n",
       "1  ['public']          []  [{, assertEquals, (, \"\\\"foo\\\": \\\"bort baz\\\"\", ...   \n",
       "2  ['public']          []  [{, assertEquals, (, \"\\\"foo\\\": \\\"bort baz\\\", \\...   \n",
       "3  ['public']          []  [{, assertEquals, (, \"\\\"foo\\\": \\\"bort\\\\\\\" baz\\...   \n",
       "4  ['public']          []  [{, assertTrue, (, (, boolean, ), RestTestsFro...   \n",
       "\n",
       "                method_name_subtokens  \n",
       "0       [test, invalid, block, quote]  \n",
       "1        [test, simple, block, quote]  \n",
       "2     [test, multiple, block, quotes]  \n",
       "3  [test, escaping, in, block, quote]  \n",
       "4     [test, is, doc, write, request]  "
      ]
     },
     "execution_count": 18,
     "metadata": {},
     "output_type": "execute_result"
    }
   ],
   "source": [
    "# dataset\n",
    "\n",
    "df['body_tokens'] = df['body'].progress_apply(tokenize_method_body)\n",
    "\n",
    "# the output sequences are marked with a <start> and <end> special tokens\n",
    "df['method_name_subtokens'] = df['method_name'].progress_apply(get_subtokens)\n",
    "df_clean = df[df.body_tokens.str.len() > 0] # remove invalid methods which cannot be parsed\n",
    "\n",
    "df.head(5)"
   ]
  },
  {
   "cell_type": "code",
   "execution_count": 19,
   "metadata": {},
   "outputs": [
    {
     "data": {
      "application/vnd.jupyter.widget-view+json": {
       "model_id": "c0a6a8e2f93d479fbdcaac7a5ecdd1d8",
       "version_major": 2,
       "version_minor": 0
      },
      "text/plain": [
       "HBox(children=(FloatProgress(value=0.0, max=878.0), HTML(value='')))"
      ]
     },
     "metadata": {},
     "output_type": "display_data"
    },
    {
     "name": "stdout",
     "output_type": "stream",
     "text": [
      "\n",
      "% of method_names being reduced: 0.0375854214123007\n"
     ]
    },
    {
     "data": {
      "image/png": "[encoded data removed]",
      "text/plain": [
       "<Figure size 432x288 with 1 Axes>"
      ]
     },
     "metadata": {
      "needs_background": "light"
     },
     "output_type": "display_data"
    }
   ],
   "source": [
    "method_name_lengths = df_clean.method_name_subtokens.progress_apply(len)\n",
    "\n",
    "method_name_lengths.hist(bins=method_name_lengths.max())\n",
    "\n",
    "# we will add the <start> and <end> tokens which will effectively increase the seq length to 10 during training and prediction\n",
    "max_decoder_seq_length = 8\n",
    "number_of_method_names_below_threshold = len(np.where(method_name_lengths.values < max_decoder_seq_length)[0])\n",
    "print(f\"% of method_names being reduced: {1 - number_of_method_names_below_threshold / len(method_name_lengths)}\")"
   ]
  },
  {
   "cell_type": "code",
   "execution_count": 20,
   "metadata": {},
   "outputs": [
    {
     "data": {
      "application/vnd.jupyter.widget-view+json": {
       "model_id": "38cb55c29bc846489516b25938e4d3dc",
       "version_major": 2,
       "version_minor": 0
      },
      "text/plain": [
       "HBox(children=(FloatProgress(value=0.0, max=878.0), HTML(value='')))"
      ]
     },
     "metadata": {},
     "output_type": "display_data"
    },
    {
     "name": "stdout",
     "output_type": "stream",
     "text": [
      "\n"
     ]
    },
    {
     "data": {
      "application/vnd.jupyter.widget-view+json": {
       "model_id": "4238cfd71ed44a58a8af3602ba7911f7",
       "version_major": 2,
       "version_minor": 0
      },
      "text/plain": [
       "HBox(children=(FloatProgress(value=0.0, max=878.0), HTML(value='')))"
      ]
     },
     "metadata": {},
     "output_type": "display_data"
    },
    {
     "name": "stdout",
     "output_type": "stream",
     "text": [
      "\n"
     ]
    },
    {
     "data": {
      "text/plain": [
       "count    878.000000\n",
       "mean       5.095672\n",
       "std        1.678886\n",
       "min        3.000000\n",
       "25%        4.000000\n",
       "50%        5.000000\n",
       "75%        6.000000\n",
       "max       10.000000\n",
       "Name: method_name_subtokens, dtype: float64"
      ]
     },
     "execution_count": 20,
     "metadata": {},
     "output_type": "execute_result"
    }
   ],
   "source": [
    "# also cut the first max_decoder_seq_length (i.e. 8) subtokens, in order to have a fixed length\n",
    "method_name_subtokens_with_start_and_end = df_clean['method_name_subtokens'] \\\n",
    "    .progress_apply(lambda tokens: ['<start>'] + tokens[:max_decoder_seq_length] + ['<end>'])\n",
    "\n",
    "method_name_subtokens_with_start_and_end.progress_apply(len).describe()"
   ]
  },
  {
   "cell_type": "code",
   "execution_count": 21,
   "metadata": {},
   "outputs": [],
   "source": [
    "def get_vocabulary(series):\n",
    "    all_repeating = pd.Series(chain.from_iterable(series.values))\n",
    "\n",
    "    return pd.DataFrame.from_dict(Counter(all_repeating.values), orient='index') \\\n",
    "        .sort_values(by=0, ascending=False) \\\n",
    "        .reset_index().rename(columns={'index': 'token', 0: 'count'})"
   ]
  },
  {
   "cell_type": "code",
   "execution_count": 22,
   "metadata": {},
   "outputs": [
    {
     "data": {
      "text/plain": [
       "(2870, 579)"
      ]
     },
     "execution_count": 22,
     "metadata": {},
     "output_type": "execute_result"
    }
   ],
   "source": [
    "input_vocabulary = get_vocabulary(df_clean.body_tokens)\n",
    "output_vocabulary = get_vocabulary(method_name_subtokens_with_start_and_end)\n",
    "len(input_vocabulary), len(output_vocabulary)"
   ]
  },
  {
   "cell_type": "code",
   "execution_count": 23,
   "metadata": {},
   "outputs": [],
   "source": [
    "# TODO: compute what percentage of the input tokens (including repetition) will be ignored\n",
    "min_input_token_count = 10\n",
    "reduced_input_vocabulary = pd.Series(['<UNK>']).append(\n",
    "    input_vocabulary[input_vocabulary['count'] >= min_input_token_count]['token']\n",
    ")"
   ]
  },
  {
   "cell_type": "code",
   "execution_count": 24,
   "metadata": {},
   "outputs": [
    {
     "name": "stdout",
     "output_type": "stream",
     "text": [
      "reduced input vocabulary size: 349\n",
      "percentage of ignore input: 0.17769146381237585\n"
     ]
    }
   ],
   "source": [
    "ignored_input_tokens_percentage = input_vocabulary[input_vocabulary['count'] < min_input_token_count]['count'].sum() / input_vocabulary[input_vocabulary['count'] >= min_input_token_count]['count'].sum()\n",
    "print(f'reduced input vocabulary size: {len(reduced_input_vocabulary)}')\n",
    "print(f'percentage of ignore input: {ignored_input_tokens_percentage}')"
   ]
  },
  {
   "cell_type": "code",
   "execution_count": 25,
   "metadata": {},
   "outputs": [],
   "source": [
    "input_token_to_id = { token:id for id, token in enumerate(reduced_input_vocabulary) }\n",
    "id_to_input_token = reduced_input_vocabulary"
   ]
  },
  {
   "cell_type": "code",
   "execution_count": 26,
   "metadata": {},
   "outputs": [
    {
     "data": {
      "text/plain": [
       "(349, 349)"
      ]
     },
     "execution_count": 26,
     "metadata": {},
     "output_type": "execute_result"
    }
   ],
   "source": [
    "len(input_token_to_id), len(id_to_input_token)"
   ]
  },
  {
   "cell_type": "code",
   "execution_count": 27,
   "metadata": {},
   "outputs": [],
   "source": [
    "output_token_to_id = { token:id for id, token in enumerate(output_vocabulary.token) }\n",
    "id_to_output_token = output_vocabulary.token"
   ]
  },
  {
   "cell_type": "code",
   "execution_count": 28,
   "metadata": {},
   "outputs": [
    {
     "data": {
      "text/plain": [
       "[('<start>', 0),\n",
       " ('<end>', 1),\n",
       " ('get', 2),\n",
       " ('test', 3),\n",
       " ('set', 4),\n",
       " ('check', 5),\n",
       " ('version', 6),\n",
       " ('file', 7),\n",
       " ('task', 8),\n",
       " ('assert', 9)]"
      ]
     },
     "execution_count": 28,
     "metadata": {},
     "output_type": "execute_result"
    }
   ],
   "source": [
    "[(key, value) for key, value in output_token_to_id.items()][:10]"
   ]
  },
  {
   "cell_type": "code",
   "execution_count": 29,
   "metadata": {},
   "outputs": [],
   "source": [
    "def input_tokens_to_ids(body_tokens):\n",
    "    return [input_token_to_id[token] if token in input_token_to_id else 0 for token in body_tokens]"
   ]
  },
  {
   "cell_type": "code",
   "execution_count": 30,
   "metadata": {},
   "outputs": [],
   "source": [
    "def output_tokens_to_ids(output_tokens):\n",
    "    return [output_token_to_id[token] if token in output_token_to_id else 0 for token in output_tokens]"
   ]
  },
  {
   "cell_type": "code",
   "execution_count": 31,
   "metadata": {},
   "outputs": [],
   "source": [
    "# raw hyper parameters\n",
    "\n",
    "max_input_length = 100\n",
    "max_output_length = method_name_subtokens_with_start_and_end.apply(len).max() # 10\n",
    "\n",
    "# TODO: limit the input vocabulary size for now\n",
    "input_vocab_size = 10000 # the number of method body tokens\n",
    "input_embedding_dim = 50\n",
    "\n",
    "output_vocab_size = len(output_vocabulary) # used for the softmax layer, like num_classes\n",
    "output_embedding_dim = 50\n",
    "\n",
    "latent_dim = 128 # encoder-decoder latent space dimensions\n",
    "\n",
    "epochs = 10\n",
    "batch_size=64"
   ]
  },
  {
   "cell_type": "code",
   "execution_count": 32,
   "metadata": {},
   "outputs": [
    {
     "data": {
      "application/vnd.jupyter.widget-view+json": {
       "model_id": "d9c8d42532e543a0a4dd7b3e0204f3d5",
       "version_major": 2,
       "version_minor": 0
      },
      "text/plain": [
       "HBox(children=(FloatProgress(value=0.0, max=878.0), HTML(value='')))"
      ]
     },
     "metadata": {},
     "output_type": "display_data"
    },
    {
     "name": "stdout",
     "output_type": "stream",
     "text": [
      "\n"
     ]
    },
    {
     "data": {
      "application/vnd.jupyter.widget-view+json": {
       "model_id": "5a33756bf39743379744985c1c37d130",
       "version_major": 2,
       "version_minor": 0
      },
      "text/plain": [
       "HBox(children=(FloatProgress(value=0.0, max=878.0), HTML(value='')))"
      ]
     },
     "metadata": {},
     "output_type": "display_data"
    },
    {
     "name": "stdout",
     "output_type": "stream",
     "text": [
      "\n"
     ]
    },
    {
     "data": {
      "text/plain": [
       "count    878.000000\n",
       "mean       5.095672\n",
       "std        1.678886\n",
       "min        3.000000\n",
       "25%        4.000000\n",
       "50%        5.000000\n",
       "75%        6.000000\n",
       "max       10.000000\n",
       "Name: method_name_subtokens, dtype: float64"
      ]
     },
     "execution_count": 32,
     "metadata": {},
     "output_type": "execute_result"
    }
   ],
   "source": [
    "method_name_subtoken_ids = method_name_subtokens_with_start_and_end \\\n",
    "    .progress_apply(output_tokens_to_ids)\n",
    "#     .progress_apply(lambda l: l[-max_output_length:])\n",
    "\n",
    "method_name_subtoken_ids.progress_apply(len).describe()"
   ]
  },
  {
   "cell_type": "code",
   "execution_count": 33,
   "metadata": {},
   "outputs": [
    {
     "data": {
      "text/plain": [
       "(['<start>', 'test', 'invalid', 'block', 'quote', '<end>'],\n",
       " [0, 3, 69, 156, 207, 1])"
      ]
     },
     "execution_count": 33,
     "metadata": {},
     "output_type": "execute_result"
    }
   ],
   "source": [
    "method_name_subtokens_with_start_and_end[0], method_name_subtoken_ids[0]"
   ]
  },
  {
   "cell_type": "code",
   "execution_count": 34,
   "metadata": {},
   "outputs": [
    {
     "data": {
      "application/vnd.jupyter.widget-view+json": {
       "model_id": "bc7317cf628c4f42b68cfd7a5e3c18f4",
       "version_major": 2,
       "version_minor": 0
      },
      "text/plain": [
       "HBox(children=(FloatProgress(value=0.0, max=878.0), HTML(value='')))"
      ]
     },
     "metadata": {},
     "output_type": "display_data"
    },
    {
     "name": "stdout",
     "output_type": "stream",
     "text": [
      "\n"
     ]
    },
    {
     "data": {
      "text/plain": [
       "0                         [0, 3, 69, 156, 207]\n",
       "1                        [0, 3, 413, 156, 207]\n",
       "2                        [0, 3, 411, 156, 403]\n",
       "3                    [0, 3, 402, 29, 156, 207]\n",
       "4                     [0, 3, 17, 401, 64, 399]\n",
       "                        ...                   \n",
       "992                           [0, 3, 315, 165]\n",
       "995                   [0, 3, 84, 108, 26, 108]\n",
       "996                  [0, 3, 84, 108, 418, 108]\n",
       "997    [0, 3, 84, 108, 419, 63, 420, 421, 272]\n",
       "999                       [0, 3, 578, 111, 66]\n",
       "Name: method_name_subtokens, Length: 878, dtype: object"
      ]
     },
     "execution_count": 34,
     "metadata": {},
     "output_type": "execute_result"
    }
   ],
   "source": [
    "# decoder_inputs\n",
    "decoder_inputs = method_name_subtoken_ids.progress_apply(lambda seq: seq[:-1])\n",
    "decoder_inputs"
   ]
  },
  {
   "cell_type": "code",
   "execution_count": 35,
   "metadata": {},
   "outputs": [
    {
     "data": {
      "text/plain": [
       "(878, 10)"
      ]
     },
     "execution_count": 35,
     "metadata": {},
     "output_type": "execute_result"
    }
   ],
   "source": [
    "# TODO:\n",
    "# 1. limit output sequences to a max length\n",
    "# 2. add <start> and <end> special tokens\n",
    "# 3. pad the sequencecs\n",
    "# 4. one hot encode the labels\n",
    "padded_output_sequences = pad_sequences(\n",
    "    method_name_subtoken_ids,\n",
    "    maxlen=max_output_length,\n",
    "    dtype='int32',\n",
    "    padding='post',\n",
    "    truncating='post',\n",
    "    value=-1 # TODO: 0 is test and not <UNK>\n",
    ")\n",
    "\n",
    "padded_output_sequences.shape"
   ]
  },
  {
   "cell_type": "code",
   "execution_count": 36,
   "metadata": {},
   "outputs": [
    {
     "data": {
      "text/plain": [
       "878"
      ]
     },
     "execution_count": 36,
     "metadata": {},
     "output_type": "execute_result"
    }
   ],
   "source": [
    "len(padded_output_sequences)"
   ]
  },
  {
   "cell_type": "code",
   "execution_count": 37,
   "metadata": {},
   "outputs": [
    {
     "data": {
      "text/plain": [
       "TensorShape([878, 10, 579])"
      ]
     },
     "execution_count": 37,
     "metadata": {},
     "output_type": "execute_result"
    }
   ],
   "source": [
    "# decoder_outputs = np.zeros(\n",
    "#     (len(padded_output_sequences), max_output_length, output_vocab_size),\n",
    "#     dtype='float32'\n",
    "# )\n",
    "\n",
    "indices = []\n",
    "for seq_id, seq in enumerate(padded_output_sequences):\n",
    "    for token_index, token_id in enumerate(seq):\n",
    "        if token_id >= 0: # ignore the -1 padding value in the output sequences\n",
    "            indices.append([seq_id, token_index, token_id])\n",
    "\n",
    "tensor_decoder_outputs = tf.SparseTensor(\n",
    "    indices=indices,\n",
    "    values=np.ones(len(indices)),\n",
    "    dense_shape=[len(padded_output_sequences), max_output_length, output_vocab_size]\n",
    ")\n",
    "        \n",
    "tensor_decoder_outputs.shape"
   ]
  },
  {
   "cell_type": "code",
   "execution_count": 38,
   "metadata": {},
   "outputs": [
    {
     "data": {
      "application/vnd.jupyter.widget-view+json": {
       "model_id": "ac292043ad8d45ceafe00ee59a1c25c8",
       "version_major": 2,
       "version_minor": 0
      },
      "text/plain": [
       "HBox(children=(FloatProgress(value=0.0, max=878.0), HTML(value='')))"
      ]
     },
     "metadata": {},
     "output_type": "display_data"
    },
    {
     "name": "stdout",
     "output_type": "stream",
     "text": [
      "\n"
     ]
    },
    {
     "data": {
      "application/vnd.jupyter.widget-view+json": {
       "model_id": "0d4f1c3c3e6642be8b44f5c4bfef4b99",
       "version_major": 2,
       "version_minor": 0
      },
      "text/plain": [
       "HBox(children=(FloatProgress(value=0.0, max=878.0), HTML(value='')))"
      ]
     },
     "metadata": {},
     "output_type": "display_data"
    },
    {
     "name": "stdout",
     "output_type": "stream",
     "text": [
      "\n"
     ]
    },
    {
     "data": {
      "application/vnd.jupyter.widget-view+json": {
       "model_id": "1e8d92f095d649b9a3240196c40e7414",
       "version_major": 2,
       "version_minor": 0
      },
      "text/plain": [
       "HBox(children=(FloatProgress(value=0.0, max=878.0), HTML(value='')))"
      ]
     },
     "metadata": {},
     "output_type": "display_data"
    },
    {
     "name": "stdout",
     "output_type": "stream",
     "text": [
      "\n"
     ]
    },
    {
     "data": {
      "text/plain": [
       "count    878.000000\n",
       "mean      35.274487\n",
       "std       31.199488\n",
       "min        2.000000\n",
       "25%       10.000000\n",
       "50%       22.500000\n",
       "75%       53.000000\n",
       "max      100.000000\n",
       "Name: body_tokens, dtype: float64"
      ]
     },
     "execution_count": 38,
     "metadata": {},
     "output_type": "execute_result"
    }
   ],
   "source": [
    "body_token_ids = df_clean.body_tokens.progress_apply(input_tokens_to_ids).progress_apply(lambda l: l[-max_input_length:])\n",
    "body_token_ids.progress_apply(len).describe()"
   ]
  },
  {
   "cell_type": "code",
   "execution_count": 39,
   "metadata": {},
   "outputs": [
    {
     "data": {
      "text/plain": [
       "array([[0, 0, 0, ..., 1, 4, 7],\n",
       "       [0, 0, 0, ..., 1, 4, 7],\n",
       "       [0, 0, 0, ..., 1, 4, 7],\n",
       "       ...,\n",
       "       [0, 0, 0, ..., 1, 4, 7],\n",
       "       [0, 0, 0, ..., 1, 4, 7],\n",
       "       [0, 0, 0, ..., 1, 4, 7]], dtype=int32)"
      ]
     },
     "execution_count": 39,
     "metadata": {},
     "output_type": "execute_result"
    }
   ],
   "source": [
    "padded_input_sequences = pad_sequences(\n",
    "    body_token_ids,\n",
    "    maxlen=max_input_length,\n",
    "    dtype='int32',\n",
    "    padding='pre',\n",
    "    truncating='pre',\n",
    "    value=0 # TODO: 0 should be <UNK>\n",
    ")\n",
    "padded_input_sequences"
   ]
  },
  {
   "cell_type": "code",
   "execution_count": 40,
   "metadata": {},
   "outputs": [],
   "source": [
    "# X_train, X_test, decoder_inputs_train, decoder_inputs_test, decoder_outputs_train, decoder_outputs_test = train_test_split(\n",
    "#     padded_input_sequences,\n",
    "#     decoder_inputs,\n",
    "#     decoder_outputs,\n",
    "#     test_size=0.2,\n",
    "#     random_state=42\n",
    "# )\n",
    "\n",
    "# X_train.shape, X_test.shape, decoder_inputs_train.shape, decoder_inputs_test.shape, decoder_outputs_train.shape, decoder_outputs_test.shape"
   ]
  },
  {
   "cell_type": "code",
   "execution_count": 41,
   "metadata": {},
   "outputs": [
    {
     "data": {
      "text/html": [
       "<div>\n",
       "<style scoped>\n",
       "    .dataframe tbody tr th:only-of-type {\n",
       "        vertical-align: middle;\n",
       "    }\n",
       "\n",
       "    .dataframe tbody tr th {\n",
       "        vertical-align: top;\n",
       "    }\n",
       "\n",
       "    .dataframe thead th {\n",
       "        text-align: right;\n",
       "    }\n",
       "</style>\n",
       "<table border=\"1\" class=\"dataframe\">\n",
       "  <thead>\n",
       "    <tr style=\"text-align: right;\">\n",
       "      <th></th>\n",
       "      <th>count</th>\n",
       "    </tr>\n",
       "    <tr>\n",
       "      <th>length</th>\n",
       "      <th></th>\n",
       "    </tr>\n",
       "  </thead>\n",
       "  <tbody>\n",
       "    <tr>\n",
       "      <th>2</th>\n",
       "      <td>8</td>\n",
       "    </tr>\n",
       "    <tr>\n",
       "      <th>5</th>\n",
       "      <td>87</td>\n",
       "    </tr>\n",
       "    <tr>\n",
       "      <th>7</th>\n",
       "      <td>3</td>\n",
       "    </tr>\n",
       "    <tr>\n",
       "      <th>8</th>\n",
       "      <td>73</td>\n",
       "    </tr>\n",
       "    <tr>\n",
       "      <th>9</th>\n",
       "      <td>44</td>\n",
       "    </tr>\n",
       "  </tbody>\n",
       "</table>\n",
       "</div>"
      ],
      "text/plain": [
       "        count\n",
       "length       \n",
       "2           8\n",
       "5          87\n",
       "7           3\n",
       "8          73\n",
       "9          44"
      ]
     },
     "execution_count": 41,
     "metadata": {},
     "output_type": "execute_result"
    }
   ],
   "source": [
    "df_body_length = pd.DataFrame.from_dict(Counter(df_clean.body_tokens.apply(len)), orient='index') \\\n",
    "    .reset_index().rename(columns={'index': 'length', 0: 'count'}) \\\n",
    "    .sort_values(by=['length']).set_index('length')\n",
    "\n",
    "df_body_length.head(5)"
   ]
  },
  {
   "cell_type": "code",
   "execution_count": 42,
   "metadata": {},
   "outputs": [
    {
     "data": {
      "text/plain": [
       "<matplotlib.axes._subplots.AxesSubplot at 0x7fbc0e295630>"
      ]
     },
     "execution_count": 42,
     "metadata": {},
     "output_type": "execute_result"
    },
    {
     "data": {
      "image/png": "[encoded data removed]",
      "text/plain": [
       "<Figure size 432x288 with 1 Axes>"
      ]
     },
     "metadata": {
      "needs_background": "light"
     },
     "output_type": "display_data"
    }
   ],
   "source": [
    "df_body_length.plot(loglog=True)"
   ]
  },
  {
   "cell_type": "code",
   "execution_count": 43,
   "metadata": {},
   "outputs": [
    {
     "name": "stdout",
     "output_type": "stream",
     "text": [
      "number of methods with body token count less than 100: 782\n"
     ]
    }
   ],
   "source": [
    "print(f'number of methods with body token count less than 100: {df_body_length[df_body_length.index < 100][\"count\"].sum()}')"
   ]
  },
  {
   "cell_type": "code",
   "execution_count": 44,
   "metadata": {},
   "outputs": [
    {
     "data": {
      "text/plain": [
       "count     878.000000\n",
       "mean       45.239180\n",
       "std        87.525711\n",
       "min         2.000000\n",
       "25%        10.000000\n",
       "50%        22.500000\n",
       "75%        53.000000\n",
       "max      1945.000000\n",
       "Name: body_tokens, dtype: float64"
      ]
     },
     "execution_count": 44,
     "metadata": {},
     "output_type": "execute_result"
    }
   ],
   "source": [
    "df_clean.body_tokens.apply(len).describe()"
   ]
  },
  {
   "cell_type": "code",
   "execution_count": 45,
   "metadata": {},
   "outputs": [
    {
     "data": {
      "text/plain": [
       "count    878.000000\n",
       "mean       3.179954\n",
       "std        1.990160\n",
       "min        1.000000\n",
       "25%        2.000000\n",
       "50%        3.000000\n",
       "75%        4.000000\n",
       "max       14.000000\n",
       "Name: method_name_subtokens, dtype: float64"
      ]
     },
     "execution_count": 45,
     "metadata": {},
     "output_type": "execute_result"
    }
   ],
   "source": [
    "df_clean.method_name_subtokens.apply(len).describe()"
   ]
  },
  {
   "cell_type": "code",
   "execution_count": 46,
   "metadata": {},
   "outputs": [],
   "source": [
    "# define model: input embedding > LSTM encoder > LSTM decoder > softmax"
   ]
  },
  {
   "cell_type": "code",
   "execution_count": 47,
   "metadata": {},
   "outputs": [],
   "source": [
    "# TODO: use hyper parameters\n",
    "# HP_NUM_UNITS = hp.HParam('num_units', hp.Discrete([16, 32]))\n",
    "# HP_DROPOUT = hp.HParam('dropout', hp.RealInterval(0.1, 0.2))\n",
    "# HP_OPTIMIZER = hp.HParam('optimizer', hp.Discrete(['adam', 'sgd']))"
   ]
  },
  {
   "cell_type": "code",
   "execution_count": 48,
   "metadata": {},
   "outputs": [],
   "source": [
    "from abc import ABC, abstractmethod\n",
    "\n",
    "class BaseModel(ABC):\n",
    "    @abstractmethod\n",
    "    def fit(self, train_x, train_y): pass\n",
    "\n",
    "    @abstractmethod\n",
    "    def predict(self, test_x): pass\n",
    "\n",
    "    @abstractmethod\n",
    "    def predict_proba(self, test_x): pass\n",
    "\n",
    "    def get_params(self, deep = True):\n",
    "        return {}\n",
    "\n",
    "    def get_grid_params(self):\n",
    "        return {}"
   ]
  },
  {
   "cell_type": "code",
   "execution_count": 49,
   "metadata": {},
   "outputs": [],
   "source": [
    "class Seq2Seq(BaseModel):\n",
    "    def __init__(self, params):\n",
    "        self.params = params\n",
    "\n",
    "        \n",
    "    def _define_model(self):\n",
    "        encoder_input = layers.Input(shape=(None, ), name='encoder_input')\n",
    "        encoder_embeddeding = layers.Embedding(\n",
    "            input_dim=input_vocab_size,\n",
    "            output_dim=input_embedding_dim,\n",
    "            name='encoder_embedding'\n",
    "        )(encoder_input)\n",
    "\n",
    "        # Return states in addition to output\n",
    "        _encoder_output, state_h, state_c = layers.LSTM(\n",
    "            latent_dim,\n",
    "            return_state=True,\n",
    "            name='encoder_lstm'\n",
    "        )(encoder_embeddeding)\n",
    "\n",
    "        encoder_states = [state_h, state_c]\n",
    "\n",
    "        decoder_input = layers.Input(shape=(None, ), name='decoder_input')\n",
    "        decoder_embeddeding = layers.Embedding(\n",
    "            input_dim=output_vocab_size,\n",
    "            output_dim=output_embedding_dim,\n",
    "            name='decoder_embeddeding'\n",
    "        )(decoder_input)\n",
    "\n",
    "        # Pass the 2 states to a new LSTM layer, as initial state\n",
    "        decoder_outputs, _, _ = layers.LSTM(\n",
    "            latent_dim,\n",
    "            return_sequences=True,\n",
    "            return_state=True,\n",
    "            name='decoder_lstm'\n",
    "        )(decoder_embeddeding, initial_state=encoder_states)\n",
    "\n",
    "        output = layers.Dense(\n",
    "            output_vocab_size,\n",
    "            activation='softmax',\n",
    "            name='softmax'\n",
    "        )(decoder_outputs)\n",
    "\n",
    "        model = tf.keras.Model([encoder_input, decoder_input], output)\n",
    "        return model\n",
    "\n",
    "\n",
    "    # train_x is a dataframe with columns head.word, tail.word, sentence\n",
    "    def fit(self, train_x, train_y):\n",
    "        self.train_features = self.transform(train_x)\n",
    "        self.train_labels = self.transform_labels(train_y)\n",
    "\n",
    "        self.model = LogisticRegression(**self.params['logreg_clf_params'])\n",
    "\n",
    "        print('Fitting model...')\n",
    "        self.model.fit(self.train_features, self.train_labels)\n",
    "\n",
    "\n",
    "    def predict(self, test_x):\n",
    "        features = self.transform(test_x)\n",
    "\n",
    "        predictions = self.model.predict(features)\n",
    "\n",
    "        return self.label_encoder.inverse_transform(predictions)\n",
    "\n",
    "\n",
    "    # transforms the input train_x or test_x examples into features for the model\n",
    "    # df is a dataframe with columns head.word, tail.word, sentence\n",
    "    def transform(self, df):\n",
    "        print('Tokenizing sentences...')\n",
    "        df_tokenized = df['sentence'].apply(self.preprocess)\n",
    "        print(df_tokenized.head())\n",
    "\n",
    "        print('Averaging word embeddings...')\n",
    "        df_vectors = df_tokenized.apply(self.average)\n",
    "        print(df_vectors.head())\n",
    "\n",
    "        vectors = np.asarray(flatten(df_vectors)).reshape(-1, self.word_embeddings_dim)\n",
    "        print('Shape of transformed input: {}'.format(vectors.shape))\n",
    "\n",
    "        return vectors\n",
    "\n",
    "\n",
    "    def transform_labels(self, df):\n",
    "        print('Fitting label encoder...')\n",
    "        self.label_encoder.fit(df)\n",
    "        print(self.label_encoder.classes_)\n",
    "\n",
    "        print('Transforming labels...')\n",
    "        labels = self.label_encoder.transform(df)\n",
    "        print('Shape of transformed labels: {}'.format(labels.shape))\n",
    "\n",
    "        return labels\n",
    "\n",
    "\n",
    "    def preprocess(self, text):\n",
    "        # tokenize\n",
    "        word_tokens = self.tokenizer.tokenize(text)\n",
    "\n",
    "        # clean stop words and lower cases\n",
    "        return [\n",
    "            word.lower()\n",
    "            for word in word_tokens\n",
    "            if not word in self.stop_words\n",
    "        ]\n",
    "\n",
    "\n",
    "    @staticmethod\n",
    "    def load_word_embeddings(path):\n",
    "        with open(path) as f:\n",
    "            word_vec = json.load(f)\n",
    "\n",
    "        word_embeddings = {\n",
    "            obj['word']: np.asarray(obj['vec'])\n",
    "            for obj in word_vec\n",
    "        }\n",
    "        return word_embeddings\n",
    "\n",
    "\n",
    "    @staticmethod\n",
    "    def average_embeddings(word_embeddings, word_embeddings_dim, words):\n",
    "        embeddings = [\n",
    "            word_embeddings[word]\n",
    "            for word in words\n",
    "            if word in word_embeddings\n",
    "        ]\n",
    "\n",
    "        if len(embeddings) > 0:\n",
    "            return np.average(embeddings, axis=0)\n",
    "        else:\n",
    "            return np.zeros(word_embeddings_dim)\n",
    "\n",
    "    def get_grid_params(self):\n",
    "        return {\n",
    "            'max_iter': (5, 100),\n",
    "            'solver': ('liblinear', 'sag'),\n",
    "        }\n"
   ]
  },
  {
   "cell_type": "code",
   "execution_count": 50,
   "metadata": {},
   "outputs": [],
   "source": [
    "def build_models():\n",
    "    # first define the training model\n",
    "    encoder_inputs = layers.Input(shape=(None, ), name='encoder_inputs')\n",
    "    encoder_embeddeding = layers.Embedding(\n",
    "        input_dim=input_vocab_size,\n",
    "        output_dim=input_embedding_dim,\n",
    "        name='encoder_embedding'\n",
    "    )(encoder_inputs)\n",
    "\n",
    "    # Return states in addition to output\n",
    "    _encoder_output, state_h, state_c = layers.LSTM(\n",
    "        latent_dim,\n",
    "        return_state=True,\n",
    "        name='encoder_lstm'\n",
    "    )(encoder_embeddeding)\n",
    "\n",
    "    encoder_states = [state_h, state_c]\n",
    "\n",
    "    decoder_inputs = layers.Input(shape=(None, ), name='decoder_inputs')\n",
    "    decoder_embeddeding = layers.Embedding(\n",
    "        input_dim=output_vocab_size,\n",
    "        output_dim=output_embedding_dim,\n",
    "        name='decoder_embeddeding'\n",
    "    )(decoder_inputs)\n",
    "\n",
    "    decoder_lstm = layers.LSTM(\n",
    "        latent_dim,\n",
    "        return_sequences=True,\n",
    "        return_state=True,\n",
    "        name='decoder_lstm'\n",
    "    )\n",
    "    # Pass the 2 states to a new LSTM layer, as initial state\n",
    "    decoder_outputs, _, _ = decoder_lstm(decoder_embeddeding, initial_state=encoder_states)\n",
    "\n",
    "    print(decoder_embeddeding.shape, state_h.shape, state_c.shape)\n",
    "    \n",
    "    decoder_dense = layers.Dense(\n",
    "        output_vocab_size,\n",
    "        activation='softmax',\n",
    "        name='softmax'\n",
    "    )\n",
    "    output = decoder_dense(decoder_outputs)\n",
    "\n",
    "    training_model = tf.keras.Model([encoder_inputs, decoder_inputs], output)\n",
    "\n",
    "    # ---------------------------------------------------------\n",
    "    # now, define the inference model, based on the training model\n",
    "    inference_encoder_model = tf.keras.Model(encoder_inputs, encoder_states)\n",
    "    # define inference decoder inputs\n",
    "    inference_decoder_state_input_h = layers.Input(shape=(latent_dim,))\n",
    "    inference_decoder_state_input_c = layers.Input(shape=(latent_dim,))\n",
    "    inference_decoder_states_inputs = [inference_decoder_state_input_h, inference_decoder_state_input_c]\n",
    "\n",
    "    print(decoder_inputs.shape, inference_decoder_state_input_h.shape, inference_decoder_state_input_c.shape)\n",
    "\n",
    "    # TODO: decoder_lstm errors our with ValueError: Shape (None, None) must have rank at least 3\n",
    "    # because we need to use embeddings as decoder_inputs below\n",
    "    \n",
    "    inference_decoder_outputs, state_h, state_c = decoder_lstm(\n",
    "        decoder_inputs, # taken from the training model's definition\n",
    "        initial_state=inference_decoder_states_inputs\n",
    "    )\n",
    "    inference_decoder_states = [state_h, state_c]\n",
    "    # apply softmax dense layer\n",
    "    inference_decoder_outputs = decoder_dense(decoder_outputs)\n",
    "\n",
    "    inference_decoder_model = Model(\n",
    "        [inference_decoder_inputs] + inference_decoder_states_inputs,\n",
    "        [inference_decoder_outputs] + inference_decoder_states\n",
    "    )\n",
    "\n",
    "    # return all models\n",
    "    models = [training_model, inference_encoder_model, inference_decoder_model]\n",
    "    return models"
   ]
  },
  {
   "cell_type": "code",
   "execution_count": 51,
   "metadata": {},
   "outputs": [
    {
     "name": "stdout",
     "output_type": "stream",
     "text": [
      "(None, None, 50) (None, 128) (None, 128)\n",
      "(None, None) (None, 128) (None, 128)\n"
     ]
    },
    {
     "ename": "ValueError",
     "evalue": "Shape (None, None) must have rank at least 3",
     "output_type": "error",
     "traceback": [
      "\u001b[0;31m---------------------------------------------------------------------------\u001b[0m",
      "\u001b[0;31mValueError\u001b[0m                                Traceback (most recent call last)",
      "\u001b[0;32m<ipython-input-51-89ce39ce8289>\u001b[0m in \u001b[0;36m<module>\u001b[0;34m\u001b[0m\n\u001b[0;32m----> 1\u001b[0;31m \u001b[0mtraining_model\u001b[0m\u001b[0;34m,\u001b[0m \u001b[0minference_encoder_model\u001b[0m\u001b[0;34m,\u001b[0m \u001b[0minference_decoder_model\u001b[0m \u001b[0;34m=\u001b[0m \u001b[0mbuild_models\u001b[0m\u001b[0;34m(\u001b[0m\u001b[0;34m)\u001b[0m\u001b[0;34m\u001b[0m\u001b[0;34m\u001b[0m\u001b[0m\n\u001b[0m\u001b[1;32m      2\u001b[0m \u001b[0;34m\u001b[0m\u001b[0m\n\u001b[1;32m      3\u001b[0m training_model.compile(\n\u001b[1;32m      4\u001b[0m     \u001b[0mloss\u001b[0m\u001b[0;34m=\u001b[0m\u001b[0;34m'categorical_crossentropy'\u001b[0m\u001b[0;34m,\u001b[0m\u001b[0;34m\u001b[0m\u001b[0;34m\u001b[0m\u001b[0m\n\u001b[1;32m      5\u001b[0m     \u001b[0moptimizer\u001b[0m\u001b[0;34m=\u001b[0m\u001b[0;34m'sgd'\u001b[0m\u001b[0;34m,\u001b[0m\u001b[0;34m\u001b[0m\u001b[0;34m\u001b[0m\u001b[0m\n",
      "\u001b[0;32m<ipython-input-50-4831dd6d92f4>\u001b[0m in \u001b[0;36mbuild_models\u001b[0;34m()\u001b[0m\n\u001b[1;32m     59\u001b[0m     inference_decoder_outputs, state_h, state_c = decoder_lstm(\n\u001b[1;32m     60\u001b[0m         \u001b[0mdecoder_inputs\u001b[0m\u001b[0;34m,\u001b[0m \u001b[0;31m# taken from the training model's definition\u001b[0m\u001b[0;34m\u001b[0m\u001b[0;34m\u001b[0m\u001b[0m\n\u001b[0;32m---> 61\u001b[0;31m         \u001b[0minitial_state\u001b[0m\u001b[0;34m=\u001b[0m\u001b[0minference_decoder_states_inputs\u001b[0m\u001b[0;34m\u001b[0m\u001b[0;34m\u001b[0m\u001b[0m\n\u001b[0m\u001b[1;32m     62\u001b[0m     )\n\u001b[1;32m     63\u001b[0m     \u001b[0minference_decoder_states\u001b[0m \u001b[0;34m=\u001b[0m \u001b[0;34m[\u001b[0m\u001b[0mstate_h\u001b[0m\u001b[0;34m,\u001b[0m \u001b[0mstate_c\u001b[0m\u001b[0;34m]\u001b[0m\u001b[0;34m\u001b[0m\u001b[0;34m\u001b[0m\u001b[0m\n",
      "\u001b[0;32m~/source/programming-tools/.venv/lib/python3.7/site-packages/tensorflow_core/python/keras/layers/recurrent.py\u001b[0m in \u001b[0;36m__call__\u001b[0;34m(self, inputs, initial_state, constants, **kwargs)\u001b[0m\n\u001b[1;32m    684\u001b[0m       \u001b[0;31m# Perform the call with temporarily replaced input_spec\u001b[0m\u001b[0;34m\u001b[0m\u001b[0;34m\u001b[0m\u001b[0;34m\u001b[0m\u001b[0m\n\u001b[1;32m    685\u001b[0m       \u001b[0mself\u001b[0m\u001b[0;34m.\u001b[0m\u001b[0minput_spec\u001b[0m \u001b[0;34m=\u001b[0m \u001b[0mfull_input_spec\u001b[0m\u001b[0;34m\u001b[0m\u001b[0;34m\u001b[0m\u001b[0m\n\u001b[0;32m--> 686\u001b[0;31m       \u001b[0moutput\u001b[0m \u001b[0;34m=\u001b[0m \u001b[0msuper\u001b[0m\u001b[0;34m(\u001b[0m\u001b[0mRNN\u001b[0m\u001b[0;34m,\u001b[0m \u001b[0mself\u001b[0m\u001b[0;34m)\u001b[0m\u001b[0;34m.\u001b[0m\u001b[0m__call__\u001b[0m\u001b[0;34m(\u001b[0m\u001b[0mfull_input\u001b[0m\u001b[0;34m,\u001b[0m \u001b[0;34m**\u001b[0m\u001b[0mkwargs\u001b[0m\u001b[0;34m)\u001b[0m\u001b[0;34m\u001b[0m\u001b[0;34m\u001b[0m\u001b[0m\n\u001b[0m\u001b[1;32m    687\u001b[0m       \u001b[0;31m# Remove the additional_specs from input spec and keep the rest. It is\u001b[0m\u001b[0;34m\u001b[0m\u001b[0;34m\u001b[0m\u001b[0;34m\u001b[0m\u001b[0m\n\u001b[1;32m    688\u001b[0m       \u001b[0;31m# important to keep since the input spec was populated by build(), and\u001b[0m\u001b[0;34m\u001b[0m\u001b[0;34m\u001b[0m\u001b[0;34m\u001b[0m\u001b[0m\n",
      "\u001b[0;32m~/source/programming-tools/.venv/lib/python3.7/site-packages/tensorflow_core/python/keras/engine/base_layer.py\u001b[0m in \u001b[0;36m__call__\u001b[0;34m(self, inputs, *args, **kwargs)\u001b[0m\n\u001b[1;32m    771\u001b[0m                     not base_layer_utils.is_in_eager_or_tf_function()):\n\u001b[1;32m    772\u001b[0m                   \u001b[0;32mwith\u001b[0m \u001b[0mauto_control_deps\u001b[0m\u001b[0;34m.\u001b[0m\u001b[0mAutomaticControlDependencies\u001b[0m\u001b[0;34m(\u001b[0m\u001b[0;34m)\u001b[0m \u001b[0;32mas\u001b[0m \u001b[0macd\u001b[0m\u001b[0;34m:\u001b[0m\u001b[0;34m\u001b[0m\u001b[0;34m\u001b[0m\u001b[0m\n\u001b[0;32m--> 773\u001b[0;31m                     \u001b[0moutputs\u001b[0m \u001b[0;34m=\u001b[0m \u001b[0mcall_fn\u001b[0m\u001b[0;34m(\u001b[0m\u001b[0mcast_inputs\u001b[0m\u001b[0;34m,\u001b[0m \u001b[0;34m*\u001b[0m\u001b[0margs\u001b[0m\u001b[0;34m,\u001b[0m \u001b[0;34m**\u001b[0m\u001b[0mkwargs\u001b[0m\u001b[0;34m)\u001b[0m\u001b[0;34m\u001b[0m\u001b[0;34m\u001b[0m\u001b[0m\n\u001b[0m\u001b[1;32m    774\u001b[0m                     \u001b[0;31m# Wrap Tensors in `outputs` in `tf.identity` to avoid\u001b[0m\u001b[0;34m\u001b[0m\u001b[0;34m\u001b[0m\u001b[0;34m\u001b[0m\u001b[0m\n\u001b[1;32m    775\u001b[0m                     \u001b[0;31m# circular dependencies.\u001b[0m\u001b[0;34m\u001b[0m\u001b[0;34m\u001b[0m\u001b[0;34m\u001b[0m\u001b[0m\n",
      "\u001b[0;32m~/source/programming-tools/.venv/lib/python3.7/site-packages/tensorflow_core/python/keras/layers/recurrent_v2.py\u001b[0m in \u001b[0;36mcall\u001b[0;34m(self, inputs, mask, training, initial_state)\u001b[0m\n\u001b[1;32m   1148\u001b[0m       \u001b[0;32melse\u001b[0m\u001b[0;34m:\u001b[0m\u001b[0;34m\u001b[0m\u001b[0;34m\u001b[0m\u001b[0m\n\u001b[1;32m   1149\u001b[0m         (last_output, outputs, new_h, new_c,\n\u001b[0;32m-> 1150\u001b[0;31m          runtime) = lstm_with_backend_selection(**normal_lstm_kwargs)\n\u001b[0m\u001b[1;32m   1151\u001b[0m \u001b[0;34m\u001b[0m\u001b[0m\n\u001b[1;32m   1152\u001b[0m       \u001b[0mstates\u001b[0m \u001b[0;34m=\u001b[0m \u001b[0;34m[\u001b[0m\u001b[0mnew_h\u001b[0m\u001b[0;34m,\u001b[0m \u001b[0mnew_c\u001b[0m\u001b[0;34m]\u001b[0m\u001b[0;34m\u001b[0m\u001b[0;34m\u001b[0m\u001b[0m\n",
      "\u001b[0;32m~/source/programming-tools/.venv/lib/python3.7/site-packages/tensorflow_core/python/keras/layers/recurrent_v2.py\u001b[0m in \u001b[0;36mlstm_with_backend_selection\u001b[0;34m(inputs, init_h, init_c, kernel, recurrent_kernel, bias, mask, time_major, go_backwards, activation, recurrent_activation, sequence_lengths)\u001b[0m\n\u001b[1;32m   1508\u001b[0m   \u001b[0;31m# grappler will kick in during session execution to optimize the graph.\u001b[0m\u001b[0;34m\u001b[0m\u001b[0;34m\u001b[0m\u001b[0;34m\u001b[0m\u001b[0m\n\u001b[1;32m   1509\u001b[0m   last_output, outputs, new_h, new_c, runtime = defun_standard_lstm(\n\u001b[0;32m-> 1510\u001b[0;31m       **params)\n\u001b[0m\u001b[1;32m   1511\u001b[0m   \u001b[0mfunction\u001b[0m\u001b[0;34m.\u001b[0m\u001b[0mregister\u001b[0m\u001b[0;34m(\u001b[0m\u001b[0mdefun_cudnn_lstm\u001b[0m\u001b[0;34m,\u001b[0m \u001b[0;34m**\u001b[0m\u001b[0mparams\u001b[0m\u001b[0;34m)\u001b[0m\u001b[0;34m\u001b[0m\u001b[0;34m\u001b[0m\u001b[0m\n\u001b[1;32m   1512\u001b[0m \u001b[0;34m\u001b[0m\u001b[0m\n",
      "\u001b[0;32m~/source/programming-tools/.venv/lib/python3.7/site-packages/tensorflow_core/python/eager/function.py\u001b[0m in \u001b[0;36m__call__\u001b[0;34m(self, *args, **kwargs)\u001b[0m\n\u001b[1;32m   2360\u001b[0m     \u001b[0;34m\"\"\"Calls a graph function specialized to the inputs.\"\"\"\u001b[0m\u001b[0;34m\u001b[0m\u001b[0;34m\u001b[0m\u001b[0m\n\u001b[1;32m   2361\u001b[0m     \u001b[0;32mwith\u001b[0m \u001b[0mself\u001b[0m\u001b[0;34m.\u001b[0m\u001b[0m_lock\u001b[0m\u001b[0;34m:\u001b[0m\u001b[0;34m\u001b[0m\u001b[0;34m\u001b[0m\u001b[0m\n\u001b[0;32m-> 2362\u001b[0;31m       \u001b[0mgraph_function\u001b[0m\u001b[0;34m,\u001b[0m \u001b[0margs\u001b[0m\u001b[0;34m,\u001b[0m \u001b[0mkwargs\u001b[0m \u001b[0;34m=\u001b[0m \u001b[0mself\u001b[0m\u001b[0;34m.\u001b[0m\u001b[0m_maybe_define_function\u001b[0m\u001b[0;34m(\u001b[0m\u001b[0margs\u001b[0m\u001b[0;34m,\u001b[0m \u001b[0mkwargs\u001b[0m\u001b[0;34m)\u001b[0m\u001b[0;34m\u001b[0m\u001b[0;34m\u001b[0m\u001b[0m\n\u001b[0m\u001b[1;32m   2363\u001b[0m     \u001b[0;32mreturn\u001b[0m \u001b[0mgraph_function\u001b[0m\u001b[0;34m.\u001b[0m\u001b[0m_filtered_call\u001b[0m\u001b[0;34m(\u001b[0m\u001b[0margs\u001b[0m\u001b[0;34m,\u001b[0m \u001b[0mkwargs\u001b[0m\u001b[0;34m)\u001b[0m  \u001b[0;31m# pylint: disable=protected-access\u001b[0m\u001b[0;34m\u001b[0m\u001b[0;34m\u001b[0m\u001b[0m\n\u001b[1;32m   2364\u001b[0m \u001b[0;34m\u001b[0m\u001b[0m\n",
      "\u001b[0;32m~/source/programming-tools/.venv/lib/python3.7/site-packages/tensorflow_core/python/eager/function.py\u001b[0m in \u001b[0;36m_maybe_define_function\u001b[0;34m(self, args, kwargs)\u001b[0m\n\u001b[1;32m   2701\u001b[0m \u001b[0;34m\u001b[0m\u001b[0m\n\u001b[1;32m   2702\u001b[0m       \u001b[0mself\u001b[0m\u001b[0;34m.\u001b[0m\u001b[0m_function_cache\u001b[0m\u001b[0;34m.\u001b[0m\u001b[0mmissed\u001b[0m\u001b[0;34m.\u001b[0m\u001b[0madd\u001b[0m\u001b[0;34m(\u001b[0m\u001b[0mcall_context_key\u001b[0m\u001b[0;34m)\u001b[0m\u001b[0;34m\u001b[0m\u001b[0;34m\u001b[0m\u001b[0m\n\u001b[0;32m-> 2703\u001b[0;31m       \u001b[0mgraph_function\u001b[0m \u001b[0;34m=\u001b[0m \u001b[0mself\u001b[0m\u001b[0;34m.\u001b[0m\u001b[0m_create_graph_function\u001b[0m\u001b[0;34m(\u001b[0m\u001b[0margs\u001b[0m\u001b[0;34m,\u001b[0m \u001b[0mkwargs\u001b[0m\u001b[0;34m)\u001b[0m\u001b[0;34m\u001b[0m\u001b[0;34m\u001b[0m\u001b[0m\n\u001b[0m\u001b[1;32m   2704\u001b[0m       \u001b[0mself\u001b[0m\u001b[0;34m.\u001b[0m\u001b[0m_function_cache\u001b[0m\u001b[0;34m.\u001b[0m\u001b[0mprimary\u001b[0m\u001b[0;34m[\u001b[0m\u001b[0mcache_key\u001b[0m\u001b[0;34m]\u001b[0m \u001b[0;34m=\u001b[0m \u001b[0mgraph_function\u001b[0m\u001b[0;34m\u001b[0m\u001b[0;34m\u001b[0m\u001b[0m\n\u001b[1;32m   2705\u001b[0m       \u001b[0;32mreturn\u001b[0m \u001b[0mgraph_function\u001b[0m\u001b[0;34m,\u001b[0m \u001b[0margs\u001b[0m\u001b[0;34m,\u001b[0m \u001b[0mkwargs\u001b[0m\u001b[0;34m\u001b[0m\u001b[0;34m\u001b[0m\u001b[0m\n",
      "\u001b[0;32m~/source/programming-tools/.venv/lib/python3.7/site-packages/tensorflow_core/python/eager/function.py\u001b[0m in \u001b[0;36m_create_graph_function\u001b[0;34m(self, args, kwargs, override_flat_arg_shapes)\u001b[0m\n\u001b[1;32m   2591\u001b[0m             \u001b[0marg_names\u001b[0m\u001b[0;34m=\u001b[0m\u001b[0marg_names\u001b[0m\u001b[0;34m,\u001b[0m\u001b[0;34m\u001b[0m\u001b[0;34m\u001b[0m\u001b[0m\n\u001b[1;32m   2592\u001b[0m             \u001b[0moverride_flat_arg_shapes\u001b[0m\u001b[0;34m=\u001b[0m\u001b[0moverride_flat_arg_shapes\u001b[0m\u001b[0;34m,\u001b[0m\u001b[0;34m\u001b[0m\u001b[0;34m\u001b[0m\u001b[0m\n\u001b[0;32m-> 2593\u001b[0;31m             capture_by_value=self._capture_by_value),\n\u001b[0m\u001b[1;32m   2594\u001b[0m         \u001b[0mself\u001b[0m\u001b[0;34m.\u001b[0m\u001b[0m_function_attributes\u001b[0m\u001b[0;34m,\u001b[0m\u001b[0;34m\u001b[0m\u001b[0;34m\u001b[0m\u001b[0m\n\u001b[1;32m   2595\u001b[0m         \u001b[0;31m# Tell the ConcreteFunction to clean up its graph once it goes out of\u001b[0m\u001b[0;34m\u001b[0m\u001b[0;34m\u001b[0m\u001b[0;34m\u001b[0m\u001b[0m\n",
      "\u001b[0;32m~/source/programming-tools/.venv/lib/python3.7/site-packages/tensorflow_core/python/framework/func_graph.py\u001b[0m in \u001b[0;36mfunc_graph_from_py_func\u001b[0;34m(name, python_func, args, kwargs, signature, func_graph, autograph, autograph_options, add_control_dependencies, arg_names, op_return_value, collections, capture_by_value, override_flat_arg_shapes)\u001b[0m\n\u001b[1;32m    976\u001b[0m                                           converted_func)\n\u001b[1;32m    977\u001b[0m \u001b[0;34m\u001b[0m\u001b[0m\n\u001b[0;32m--> 978\u001b[0;31m       \u001b[0mfunc_outputs\u001b[0m \u001b[0;34m=\u001b[0m \u001b[0mpython_func\u001b[0m\u001b[0;34m(\u001b[0m\u001b[0;34m*\u001b[0m\u001b[0mfunc_args\u001b[0m\u001b[0;34m,\u001b[0m \u001b[0;34m**\u001b[0m\u001b[0mfunc_kwargs\u001b[0m\u001b[0;34m)\u001b[0m\u001b[0;34m\u001b[0m\u001b[0;34m\u001b[0m\u001b[0m\n\u001b[0m\u001b[1;32m    979\u001b[0m \u001b[0;34m\u001b[0m\u001b[0m\n\u001b[1;32m    980\u001b[0m       \u001b[0;31m# invariant: `func_outputs` contains only Tensors, CompositeTensors,\u001b[0m\u001b[0;34m\u001b[0m\u001b[0;34m\u001b[0m\u001b[0;34m\u001b[0m\u001b[0m\n",
      "\u001b[0;32m~/source/programming-tools/.venv/lib/python3.7/site-packages/tensorflow_core/python/keras/layers/recurrent_v2.py\u001b[0m in \u001b[0;36mstandard_lstm\u001b[0;34m(inputs, init_h, init_c, kernel, recurrent_kernel, bias, activation, recurrent_activation, mask, time_major, go_backwards, sequence_lengths)\u001b[0m\n\u001b[1;32m   1279\u001b[0m       \u001b[0mgo_backwards\u001b[0m\u001b[0;34m=\u001b[0m\u001b[0mgo_backwards\u001b[0m\u001b[0;34m,\u001b[0m\u001b[0;34m\u001b[0m\u001b[0;34m\u001b[0m\u001b[0m\n\u001b[1;32m   1280\u001b[0m       \u001b[0minput_length\u001b[0m\u001b[0;34m=\u001b[0m\u001b[0msequence_lengths\u001b[0m\u001b[0;34m\u001b[0m\u001b[0;34m\u001b[0m\u001b[0m\n\u001b[0;32m-> 1281\u001b[0;31m       if sequence_lengths is not None else timesteps)\n\u001b[0m\u001b[1;32m   1282\u001b[0m   return (last_output, outputs, new_states[0], new_states[1],\n\u001b[1;32m   1283\u001b[0m           _runtime(_RUNTIME_CPU))\n",
      "\u001b[0;32m~/source/programming-tools/.venv/lib/python3.7/site-packages/tensorflow_core/python/keras/backend.py\u001b[0m in \u001b[0;36mrnn\u001b[0;34m(step_function, inputs, initial_states, go_backwards, mask, constants, unroll, input_length, time_major, zero_output_for_mask)\u001b[0m\n\u001b[1;32m   3892\u001b[0m \u001b[0;34m\u001b[0m\u001b[0m\n\u001b[1;32m   3893\u001b[0m   \u001b[0;32mfor\u001b[0m \u001b[0minput_\u001b[0m \u001b[0;32min\u001b[0m \u001b[0mflatted_inputs\u001b[0m\u001b[0;34m:\u001b[0m\u001b[0;34m\u001b[0m\u001b[0;34m\u001b[0m\u001b[0m\n\u001b[0;32m-> 3894\u001b[0;31m     \u001b[0minput_\u001b[0m\u001b[0;34m.\u001b[0m\u001b[0mshape\u001b[0m\u001b[0;34m.\u001b[0m\u001b[0mwith_rank_at_least\u001b[0m\u001b[0;34m(\u001b[0m\u001b[0;36m3\u001b[0m\u001b[0;34m)\u001b[0m\u001b[0;34m\u001b[0m\u001b[0;34m\u001b[0m\u001b[0m\n\u001b[0m\u001b[1;32m   3895\u001b[0m \u001b[0;34m\u001b[0m\u001b[0m\n\u001b[1;32m   3896\u001b[0m   \u001b[0;32mif\u001b[0m \u001b[0mmask\u001b[0m \u001b[0;32mis\u001b[0m \u001b[0;32mnot\u001b[0m \u001b[0;32mNone\u001b[0m\u001b[0;34m:\u001b[0m\u001b[0;34m\u001b[0m\u001b[0;34m\u001b[0m\u001b[0m\n",
      "\u001b[0;32m~/source/programming-tools/.venv/lib/python3.7/site-packages/tensorflow_core/python/framework/tensor_shape.py\u001b[0m in \u001b[0;36mwith_rank_at_least\u001b[0;34m(self, rank)\u001b[0m\n\u001b[1;32m   1025\u001b[0m     \"\"\"\n\u001b[1;32m   1026\u001b[0m     \u001b[0;32mif\u001b[0m \u001b[0mself\u001b[0m\u001b[0;34m.\u001b[0m\u001b[0mrank\u001b[0m \u001b[0;32mis\u001b[0m \u001b[0;32mnot\u001b[0m \u001b[0;32mNone\u001b[0m \u001b[0;32mand\u001b[0m \u001b[0mself\u001b[0m\u001b[0;34m.\u001b[0m\u001b[0mrank\u001b[0m \u001b[0;34m<\u001b[0m \u001b[0mrank\u001b[0m\u001b[0;34m:\u001b[0m\u001b[0;34m\u001b[0m\u001b[0;34m\u001b[0m\u001b[0m\n\u001b[0;32m-> 1027\u001b[0;31m       \u001b[0;32mraise\u001b[0m \u001b[0mValueError\u001b[0m\u001b[0;34m(\u001b[0m\u001b[0;34m\"Shape %s must have rank at least %d\"\u001b[0m \u001b[0;34m%\u001b[0m \u001b[0;34m(\u001b[0m\u001b[0mself\u001b[0m\u001b[0;34m,\u001b[0m \u001b[0mrank\u001b[0m\u001b[0;34m)\u001b[0m\u001b[0;34m)\u001b[0m\u001b[0;34m\u001b[0m\u001b[0;34m\u001b[0m\u001b[0m\n\u001b[0m\u001b[1;32m   1028\u001b[0m     \u001b[0;32melse\u001b[0m\u001b[0;34m:\u001b[0m\u001b[0;34m\u001b[0m\u001b[0;34m\u001b[0m\u001b[0m\n\u001b[1;32m   1029\u001b[0m       \u001b[0;32mreturn\u001b[0m \u001b[0mself\u001b[0m\u001b[0;34m\u001b[0m\u001b[0;34m\u001b[0m\u001b[0m\n",
      "\u001b[0;31mValueError\u001b[0m: Shape (None, None) must have rank at least 3"
     ]
    }
   ],
   "source": [
    "training_model, inference_encoder_model, inference_decoder_model = build_models()\n",
    "\n",
    "training_model.compile(\n",
    "    loss='categorical_crossentropy',\n",
    "    optimizer='sgd',\n",
    "    metrics=['accuracy']\n",
    ")\n",
    "\n",
    "training_model.summary()"
   ]
  },
  {
   "cell_type": "code",
   "execution_count": null,
   "metadata": {},
   "outputs": [],
   "source": [
    "padded_decoder_inputs = pad_sequences(\n",
    "    decoder_inputs,\n",
    "    maxlen=max_output_length,\n",
    "    dtype='int32',\n",
    "    padding='post',\n",
    "    truncating='post',\n",
    "    value=1 # TODO: 0 should be <UNK>\n",
    ")\n",
    "padded_decoder_inputs"
   ]
  },
  {
   "cell_type": "code",
   "execution_count": null,
   "metadata": {},
   "outputs": [],
   "source": [
    "padded_decoder_inputs.shape"
   ]
  },
  {
   "cell_type": "code",
   "execution_count": null,
   "metadata": {},
   "outputs": [],
   "source": [
    "tensor_encoder_inputs = tf.convert_to_tensor(padded_input_sequences)"
   ]
  },
  {
   "cell_type": "code",
   "execution_count": null,
   "metadata": {},
   "outputs": [],
   "source": [
    "tensor_decoder_inputs = tf.convert_to_tensor(padded_decoder_inputs)"
   ]
  },
  {
   "cell_type": "code",
   "execution_count": null,
   "metadata": {},
   "outputs": [],
   "source": [
    "# tensor_decoder_outputs = tf.convert_to_tensor(decoder_outputs)"
   ]
  },
  {
   "cell_type": "code",
   "execution_count": null,
   "metadata": {},
   "outputs": [],
   "source": [
    "tensor_encoder_inputs.shape, tensor_decoder_inputs.shape, tensor_decoder_outputs.shape"
   ]
  },
  {
   "cell_type": "code",
   "execution_count": null,
   "metadata": {},
   "outputs": [],
   "source": [
    "# TODO: WTF https://stackoverflow.com/questions/58352326/running-the-tensorflow-2-0-code-gives-valueerror-tf-function-decorated-functio\n",
    "# see https://www.tensorflow.org/guide/effective_tf2#use_tfconfigexperimental_run_functions_eagerly_when_debugging\n",
    "tf.config.experimental_run_functions_eagerly(True)"
   ]
  },
  {
   "cell_type": "code",
   "execution_count": null,
   "metadata": {},
   "outputs": [],
   "source": [
    "history = model.fit(\n",
    "    [tensor_encoder_inputs, tensor_decoder_inputs],\n",
    "    tf.sparse.to_dense(tensor_decoder_outputs),\n",
    "    epochs=epochs,\n",
    "    batch_size=batch_size,\n",
    "    validation_split=0.2\n",
    ")\n",
    "\n",
    "history"
   ]
  },
  {
   "cell_type": "code",
   "execution_count": null,
   "metadata": {},
   "outputs": [],
   "source": [
    "def plot_history(history, metric='loss'):\n",
    "    plt.plot(history.history[metric], label=f'Training {metric}')\n",
    "    plt.plot(history.history[f'val_{metric}'], label=f'Validation {metric}')\n",
    "    plt.title(f'{metric} per epoch')\n",
    "    plt.ylabel(metric)\n",
    "    plt.xlabel('Epochs')\n",
    "    plt.legend(loc=\"upper left\")\n",
    "    plt.show()\n",
    "    \n",
    "plot_history(history, metric='loss')\n",
    "plot_history(history, metric='accuracy')"
   ]
  },
  {
   "cell_type": "code",
   "execution_count": null,
   "metadata": {},
   "outputs": [],
   "source": [
    "# inference mode (sampling):\n",
    "# 1) encode input and retrieve initial decoder state\n",
    "# 2) run one step of decoder with this initial state\n",
    "# and a \"start of sequence\" token as target.\n",
    "# Output will be the next target token\n",
    "# 3) Repeat with the current target token and current states\n",
    "\n",
    "# Define sampling models\n",
    "encoder_model = Model(encoder_inputs, encoder_states)\n",
    "\n",
    "decoder_state_input_h = Input(shape=(latent_dim,))\n",
    "decoder_state_input_c = Input(shape=(latent_dim,))\n",
    "decoder_states_inputs = [decoder_state_input_h, decoder_state_input_c]\n",
    "decoder_outputs, state_h, state_c = decoder_lstm(\n",
    "    decoder_inputs, initial_state=decoder_states_inputs)\n",
    "decoder_states = [state_h, state_c]\n",
    "decoder_outputs = decoder_dense(decoder_outputs)\n",
    "decoder_model = Model(\n",
    "    [decoder_inputs] + decoder_states_inputs,\n",
    "    [decoder_outputs] + decoder_states)\n",
    "\n",
    "# Reverse-lookup token index to decode sequences back to\n",
    "# something readable.\n",
    "reverse_input_char_index = dict(\n",
    "    (i, char) for char, i in input_token_index.items())\n",
    "reverse_target_char_index = dict(\n",
    "    (i, char) for char, i in target_token_index.items())\n",
    "\n",
    "\n",
    "def decode_sequence(input_seq):\n",
    "    # Encode the input as state vectors.\n",
    "    states_value = encoder_model.predict(input_seq)\n",
    "\n",
    "    # Generate empty target sequence of length 1.\n",
    "    target_seq = np.zeros((1, 1, num_decoder_tokens))\n",
    "    # Populate the first character of target sequence with the start character.\n",
    "    target_seq[0, 0, target_token_index['\\t']] = 1.\n",
    "\n",
    "    # Sampling loop for a batch of sequences\n",
    "    # (to simplify, here we assume a batch of size 1).\n",
    "    stop_condition = False\n",
    "    decoded_sentence = ''\n",
    "    while not stop_condition:\n",
    "        output_tokens, h, c = decoder_model.predict(\n",
    "            [target_seq] + states_value)\n",
    "\n",
    "        # Sample a token\n",
    "        sampled_token_index = np.argmax(output_tokens[0, -1, :])\n",
    "        sampled_char = reverse_target_char_index[sampled_token_index]\n",
    "        decoded_sentence += sampled_char\n",
    "\n",
    "        # Exit condition: either hit max length\n",
    "        # or find stop character.\n",
    "        if (sampled_char == '\\n' or\n",
    "           len(decoded_sentence) > max_decoder_seq_length):\n",
    "            stop_condition = True\n",
    "\n",
    "        # Update the target sequence (of length 1).\n",
    "        target_seq = np.zeros((1, 1, num_decoder_tokens))\n",
    "        target_seq[0, 0, sampled_token_index] = 1.\n",
    "\n",
    "        # Update states\n",
    "        states_value = [h, c]\n",
    "\n",
    "    return decoded_sentence\n",
    "\n",
    "\n",
    "for seq_index in range(100):\n",
    "    # Take one sequence (part of the training set)\n",
    "    # for trying out decoding.\n",
    "    input_seq = encoder_input_data[seq_index: seq_index + 1]\n",
    "    decoded_sentence = decode_sequence(input_seq)\n",
    "    print('-')\n",
    "    print('Input sentence:', input_texts[seq_index])\n",
    "    print('Decoded sentence:', decoded_sentence)"
   ]
  },
  {
   "cell_type": "code",
   "execution_count": null,
   "metadata": {},
   "outputs": [],
   "source": [
    "# %load_ext tensorboard\n",
    "# %tensorboard --logdir ../logs"
   ]
  },
  {
   "cell_type": "code",
   "execution_count": null,
   "metadata": {},
   "outputs": [],
   "source": [
    "df_train.method_name_subtokens.shape"
   ]
  },
  {
   "cell_type": "code",
   "execution_count": null,
   "metadata": {},
   "outputs": [],
   "source": [
    "test_loss, test_acc = model.evaluate(test_x, test_y)"
   ]
  },
  {
   "cell_type": "code",
   "execution_count": null,
   "metadata": {},
   "outputs": [],
   "source": [
    "prediction = class_names[np.argmax(model.predict(test_x[0]))]\n",
    "prediction"
   ]
  },
  {
   "cell_type": "code",
   "execution_count": null,
   "metadata": {},
   "outputs": [],
   "source": [
    "# encoder_input = layers.Input(shape=(None, ))\n",
    "# encoder_embedded = layers.Embedding(input_dim=input_vocab_size, output_dim=input_embedding_dim)(encoder_input)\n",
    "\n",
    "# # Return states in addition to output\n",
    "# output, state_h, state_c = layers.LSTM(latent_dim, return_state=True, name='encoder')(encoder_embedded)\n",
    "# encoder_state = [state_h, state_c]\n",
    "\n",
    "# decoder_input = layers.Input(shape=(None, ))\n",
    "# decoder_embedded = layers.Embedding(input_dim=decoder_vocab, output_dim=64)(decoder_input)\n",
    "\n",
    "# # Pass the 2 states to a new LSTM layer, as initial state\n",
    "# decoder_output = layers.LSTM(decoder_units, name='decoder')(decoder_embedded, initial_state=encoder_state)\n",
    "# output = layers.Dense(10, activation='softmax')(decoder_output)\n",
    "\n",
    "# model = tf.keras.Model([encoder_input, decoder_input], output)\n",
    "\n",
    "# model.compile(loss='categorical_crossentropy',\n",
    "#               optimizer='sgd',\n",
    "#               metrics=['accuracy'])\n",
    "\n",
    "# model.summary()"
   ]
  },
  {
   "cell_type": "code",
   "execution_count": null,
   "metadata": {},
   "outputs": [],
   "source": []
  }
 ],
 "metadata": {
  "kernelspec": {
   "display_name": "Python 3",
   "language": "python",
   "name": "python3"
  },
  "language_info": {
   "codemirror_mode": {
    "name": "ipython",
    "version": 3
   },
   "file_extension": ".py",
   "mimetype": "text/x-python",
   "name": "python",
   "nbconvert_exporter": "python",
   "pygments_lexer": "ipython3",
   "version": "3.7.3"
  }
 },
 "nbformat": 4,
 "nbformat_minor": 4
}
