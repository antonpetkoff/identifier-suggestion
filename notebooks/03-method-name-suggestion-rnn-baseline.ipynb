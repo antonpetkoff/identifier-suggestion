{
 "cells": [
  {
   "cell_type": "code",
   "execution_count": 78,
   "metadata": {},
   "outputs": [
    {
     "name": "stderr",
     "output_type": "stream",
     "text": [
      "/home/tony/source/programming-tools/.venv/lib/python3.7/site-packages/tqdm/std.py:658: FutureWarning: The Panel class is removed from pandas. Accessing it from the top-level namespace will also be removed in the next version\n",
      "  from pandas import Panel\n"
     ]
    }
   ],
   "source": [
    "import pandas as pd\n",
    "import matplotlib.pyplot as plt\n",
    "import javalang\n",
    "from sklearn.model_selection import train_test_split\n",
    "from tqdm.auto import tqdm\n",
    "from collections import Counter\n",
    "from itertools import chain\n",
    "\n",
    "import tensorflow as tf\n",
    "# import tensorflow_addons as tfa # TODO: find ready to use seq2seq modules here\n",
    "from tensorflow.keras import layers\n",
    "from tensorboard.plugins.hparams import api as hp\n",
    "\n",
    "tqdm.pandas()"
   ]
  },
  {
   "cell_type": "code",
   "execution_count": 2,
   "metadata": {},
   "outputs": [],
   "source": [
    "data_path = '../data/method-names-rich/elasticsearch.csv'"
   ]
  },
  {
   "cell_type": "code",
   "execution_count": 48,
   "metadata": {},
   "outputs": [
    {
     "data": {
      "text/html": [
       "<div>\n",
       "<style scoped>\n",
       "    .dataframe tbody tr th:only-of-type {\n",
       "        vertical-align: middle;\n",
       "    }\n",
       "\n",
       "    .dataframe tbody tr th {\n",
       "        vertical-align: top;\n",
       "    }\n",
       "\n",
       "    .dataframe thead th {\n",
       "        text-align: right;\n",
       "    }\n",
       "</style>\n",
       "<table border=\"1\" class=\"dataframe\">\n",
       "  <thead>\n",
       "    <tr style=\"text-align: right;\">\n",
       "      <th></th>\n",
       "      <th>file_name</th>\n",
       "      <th>class_name</th>\n",
       "      <th>method_name</th>\n",
       "      <th>return_type</th>\n",
       "      <th>arguments</th>\n",
       "      <th>body</th>\n",
       "      <th>documentation</th>\n",
       "      <th>modifiers</th>\n",
       "      <th>annotations</th>\n",
       "    </tr>\n",
       "  </thead>\n",
       "  <tbody>\n",
       "    <tr>\n",
       "      <th>0</th>\n",
       "      <td>data/repos/elasticsearch-master/buildSrc/src/t...</td>\n",
       "      <td>RestTestFromSnippetsTaskTests</td>\n",
       "      <td>testInvalidBlockQuote</td>\n",
       "      <td>void</td>\n",
       "      <td>[]</td>\n",
       "      <td>{ String input = \"\\\"foo\\\": \\\"\\\"\\\"bar\\\"\"; expec...</td>\n",
       "      <td>None</td>\n",
       "      <td>['public']</td>\n",
       "      <td>[]</td>\n",
       "    </tr>\n",
       "    <tr>\n",
       "      <th>1</th>\n",
       "      <td>data/repos/elasticsearch-master/buildSrc/src/t...</td>\n",
       "      <td>RestTestFromSnippetsTaskTests</td>\n",
       "      <td>testSimpleBlockQuote</td>\n",
       "      <td>void</td>\n",
       "      <td>[]</td>\n",
       "      <td>{ assertEquals(\"\\\"foo\\\": \\\"bort baz\\\"\", replac...</td>\n",
       "      <td>None</td>\n",
       "      <td>['public']</td>\n",
       "      <td>[]</td>\n",
       "    </tr>\n",
       "    <tr>\n",
       "      <th>2</th>\n",
       "      <td>data/repos/elasticsearch-master/buildSrc/src/t...</td>\n",
       "      <td>RestTestFromSnippetsTaskTests</td>\n",
       "      <td>testMultipleBlockQuotes</td>\n",
       "      <td>void</td>\n",
       "      <td>[]</td>\n",
       "      <td>{ assertEquals( \"\\\"foo\\\": \\\"bort baz\\\", \\\"bar\\...</td>\n",
       "      <td>None</td>\n",
       "      <td>['public']</td>\n",
       "      <td>[]</td>\n",
       "    </tr>\n",
       "    <tr>\n",
       "      <th>3</th>\n",
       "      <td>data/repos/elasticsearch-master/buildSrc/src/t...</td>\n",
       "      <td>RestTestFromSnippetsTaskTests</td>\n",
       "      <td>testEscapingInBlockQuote</td>\n",
       "      <td>void</td>\n",
       "      <td>[]</td>\n",
       "      <td>{ assertEquals(\"\\\"foo\\\": \\\"bort\\\\\\\" baz\\\"\", re...</td>\n",
       "      <td>None</td>\n",
       "      <td>['public']</td>\n",
       "      <td>[]</td>\n",
       "    </tr>\n",
       "    <tr>\n",
       "      <th>4</th>\n",
       "      <td>data/repos/elasticsearch-master/buildSrc/src/t...</td>\n",
       "      <td>RestTestFromSnippetsTaskTests</td>\n",
       "      <td>testIsDocWriteRequest</td>\n",
       "      <td>void</td>\n",
       "      <td>[]</td>\n",
       "      <td>{ assertTrue((boolean) RestTestsFromSnippetsTa...</td>\n",
       "      <td>None</td>\n",
       "      <td>['public']</td>\n",
       "      <td>[]</td>\n",
       "    </tr>\n",
       "  </tbody>\n",
       "</table>\n",
       "</div>"
      ],
      "text/plain": [
       "                                           file_name  \\\n",
       "0  data/repos/elasticsearch-master/buildSrc/src/t...   \n",
       "1  data/repos/elasticsearch-master/buildSrc/src/t...   \n",
       "2  data/repos/elasticsearch-master/buildSrc/src/t...   \n",
       "3  data/repos/elasticsearch-master/buildSrc/src/t...   \n",
       "4  data/repos/elasticsearch-master/buildSrc/src/t...   \n",
       "\n",
       "                      class_name               method_name return_type  \\\n",
       "0  RestTestFromSnippetsTaskTests     testInvalidBlockQuote        void   \n",
       "1  RestTestFromSnippetsTaskTests      testSimpleBlockQuote        void   \n",
       "2  RestTestFromSnippetsTaskTests   testMultipleBlockQuotes        void   \n",
       "3  RestTestFromSnippetsTaskTests  testEscapingInBlockQuote        void   \n",
       "4  RestTestFromSnippetsTaskTests     testIsDocWriteRequest        void   \n",
       "\n",
       "  arguments                                               body documentation  \\\n",
       "0        []  { String input = \"\\\"foo\\\": \\\"\\\"\\\"bar\\\"\"; expec...          None   \n",
       "1        []  { assertEquals(\"\\\"foo\\\": \\\"bort baz\\\"\", replac...          None   \n",
       "2        []  { assertEquals( \"\\\"foo\\\": \\\"bort baz\\\", \\\"bar\\...          None   \n",
       "3        []  { assertEquals(\"\\\"foo\\\": \\\"bort\\\\\\\" baz\\\"\", re...          None   \n",
       "4        []  { assertTrue((boolean) RestTestsFromSnippetsTa...          None   \n",
       "\n",
       "    modifiers annotations  \n",
       "0  ['public']          []  \n",
       "1  ['public']          []  \n",
       "2  ['public']          []  \n",
       "3  ['public']          []  \n",
       "4  ['public']          []  "
      ]
     },
     "execution_count": 48,
     "metadata": {},
     "output_type": "execute_result"
    }
   ],
   "source": [
    "df = pd.read_csv(data_path).dropna()\n",
    "df.head()"
   ]
  },
  {
   "cell_type": "code",
   "execution_count": 4,
   "metadata": {},
   "outputs": [
    {
     "name": "stdout",
     "output_type": "stream",
     "text": [
      "['transform', 'search', 'response']\n",
      "['modify', 'search', 'response', 'data']\n"
     ]
    }
   ],
   "source": [
    "def split_camel_case(str):\n",
    "    words = [[str[0]]]\n",
    "  \n",
    "    for c in str[1:]: \n",
    "        if words[-1][-1].islower() and c.isupper(): \n",
    "            words.append(list(c)) \n",
    "        else: \n",
    "            words[-1].append(c) \n",
    "  \n",
    "    return [''.join(word).lower() for word in words]\n",
    "\n",
    "print(split_camel_case('transformSearchResponse'))\n",
    "print(split_camel_case('modifySearchResponseData'))"
   ]
  },
  {
   "cell_type": "code",
   "execution_count": 5,
   "metadata": {},
   "outputs": [
    {
     "data": {
      "text/plain": [
       "{'precision': 0.5, 'recall': 0.6666666666666666, 'f1': 0.5714285714285715}"
      ]
     },
     "execution_count": 5,
     "metadata": {},
     "output_type": "execute_result"
    }
   ],
   "source": [
    "# TODO: use a smarter identifier splitter\n",
    "def get_subtokens(token):\n",
    "    return split_camel_case(token)\n",
    "\n",
    "def compute_loss(target_token, predicted_token):\n",
    "    target_subtokens = get_subtokens(target_token) # a.k.a required subtokens\n",
    "    predicted_subtokens = get_subtokens(predicted_token)\n",
    "    overlapping = Counter(target_subtokens) & Counter(predicted_subtokens)\n",
    "    overlapping_count = sum(overlapping.values())\n",
    "    \n",
    "    precision = 1.0 * overlapping_count / len(predicted_subtokens)\n",
    "    recall = 1.0 * overlapping_count / len(target_subtokens)\n",
    "    f1 = (2.0 * precision * recall) / (precision + recall)\n",
    "    \n",
    "    return { 'precision': precision, 'recall': recall, 'f1': f1 }\n",
    "\n",
    "compute_loss('transformSearchResponse', 'modifySearchResponseData')"
   ]
  },
  {
   "cell_type": "code",
   "execution_count": 6,
   "metadata": {},
   "outputs": [
    {
     "data": {
      "application/vnd.jupyter.widget-view+json": {
       "model_id": "0f8a469f23af4f9980e7ed7ddd991a96",
       "version_major": 2,
       "version_minor": 0
      },
      "text/plain": [
       "HBox(children=(FloatProgress(value=0.0, max=100377.0), HTML(value='')))"
      ]
     },
     "metadata": {},
     "output_type": "display_data"
    },
    {
     "name": "stdout",
     "output_type": "stream",
     "text": [
      "invalid_body_count = 1000\n",
      "invalid_body_count = 2000\n",
      "invalid_body_count = 3000\n",
      "invalid_body_count = 4000\n",
      "invalid_body_count = 5000\n",
      "invalid_body_count = 6000\n",
      "invalid_body_count = 7000\n",
      "invalid_body_count = 8000\n",
      "invalid_body_count = 9000\n",
      "invalid_body_count = 10000\n",
      "invalid_body_count = 11000\n",
      "invalid_body_count = 12000\n",
      "\n"
     ]
    },
    {
     "data": {
      "text/plain": [
       "0                               {\n",
       "1                          String\n",
       "2                           input\n",
       "3                               =\n",
       "4          \"\\\"foo\\\": \\\"\\\"\\\"bar\\\"\"\n",
       "                    ...          \n",
       "5695258                 remaining\n",
       "5695259                         )\n",
       "5695260                         ;\n",
       "5695261                         }\n",
       "5695262                         }\n",
       "Length: 5695263, dtype: object"
      ]
     },
     "execution_count": 6,
     "metadata": {},
     "output_type": "execute_result"
    }
   ],
   "source": [
    "# define input vocabulary\n",
    "\n",
    "# TODO: investigate why source code body is not tokenized by javalang\n",
    "invalid_body_count = 0\n",
    "\n",
    "def tokenize_method_body(code):\n",
    "    global invalid_body_count\n",
    "    \n",
    "    try:\n",
    "        return list(map(lambda token: token.value, javalang.tokenizer.tokenize(code)))\n",
    "    except Exception as e:\n",
    "        invalid_body_count += 1\n",
    "        if invalid_body_count % 1000 == 0:\n",
    "            print(f'invalid_body_count = {invalid_body_count}')\n",
    "        return []\n",
    "\n",
    "repeating_body_tokens = pd.Series(chain.from_iterable(\n",
    "    df.body \\\n",
    "        .progress_apply(tokenize_method_body) \\\n",
    "        .values\n",
    "))\n",
    "repeating_body_tokens"
   ]
  },
  {
   "cell_type": "code",
   "execution_count": 7,
   "metadata": {},
   "outputs": [
    {
     "data": {
      "text/html": [
       "<div>\n",
       "<style scoped>\n",
       "    .dataframe tbody tr th:only-of-type {\n",
       "        vertical-align: middle;\n",
       "    }\n",
       "\n",
       "    .dataframe tbody tr th {\n",
       "        vertical-align: top;\n",
       "    }\n",
       "\n",
       "    .dataframe thead th {\n",
       "        text-align: right;\n",
       "    }\n",
       "</style>\n",
       "<table border=\"1\" class=\"dataframe\">\n",
       "  <thead>\n",
       "    <tr style=\"text-align: right;\">\n",
       "      <th></th>\n",
       "      <th>token</th>\n",
       "      <th>count</th>\n",
       "    </tr>\n",
       "  </thead>\n",
       "  <tbody>\n",
       "    <tr>\n",
       "      <th>0</th>\n",
       "      <td>)</td>\n",
       "      <td>762858</td>\n",
       "    </tr>\n",
       "    <tr>\n",
       "      <th>1</th>\n",
       "      <td>(</td>\n",
       "      <td>760010</td>\n",
       "    </tr>\n",
       "    <tr>\n",
       "      <th>2</th>\n",
       "      <td>.</td>\n",
       "      <td>506052</td>\n",
       "    </tr>\n",
       "    <tr>\n",
       "      <th>3</th>\n",
       "      <td>;</td>\n",
       "      <td>369714</td>\n",
       "    </tr>\n",
       "    <tr>\n",
       "      <th>4</th>\n",
       "      <td>,</td>\n",
       "      <td>298505</td>\n",
       "    </tr>\n",
       "    <tr>\n",
       "      <th>5</th>\n",
       "      <td>{</td>\n",
       "      <td>159308</td>\n",
       "    </tr>\n",
       "    <tr>\n",
       "      <th>6</th>\n",
       "      <td>}</td>\n",
       "      <td>155349</td>\n",
       "    </tr>\n",
       "    <tr>\n",
       "      <th>7</th>\n",
       "      <td>=</td>\n",
       "      <td>120223</td>\n",
       "    </tr>\n",
       "    <tr>\n",
       "      <th>8</th>\n",
       "      <td>new</td>\n",
       "      <td>71574</td>\n",
       "    </tr>\n",
       "    <tr>\n",
       "      <th>9</th>\n",
       "      <td>return</td>\n",
       "      <td>68737</td>\n",
       "    </tr>\n",
       "    <tr>\n",
       "      <th>10</th>\n",
       "      <td>+</td>\n",
       "      <td>37062</td>\n",
       "    </tr>\n",
       "    <tr>\n",
       "      <th>11</th>\n",
       "      <td>&lt;</td>\n",
       "      <td>35402</td>\n",
       "    </tr>\n",
       "    <tr>\n",
       "      <th>12</th>\n",
       "      <td>&gt;</td>\n",
       "      <td>32438</td>\n",
       "    </tr>\n",
       "    <tr>\n",
       "      <th>13</th>\n",
       "      <td>assertThat</td>\n",
       "      <td>31854</td>\n",
       "    </tr>\n",
       "    <tr>\n",
       "      <th>14</th>\n",
       "      <td>if</td>\n",
       "      <td>30366</td>\n",
       "    </tr>\n",
       "    <tr>\n",
       "      <th>15</th>\n",
       "      <td>null</td>\n",
       "      <td>28721</td>\n",
       "    </tr>\n",
       "    <tr>\n",
       "      <th>16</th>\n",
       "      <td>builder</td>\n",
       "      <td>25324</td>\n",
       "    </tr>\n",
       "    <tr>\n",
       "      <th>17</th>\n",
       "      <td>String</td>\n",
       "      <td>25052</td>\n",
       "    </tr>\n",
       "    <tr>\n",
       "      <th>18</th>\n",
       "      <td>0</td>\n",
       "      <td>23767</td>\n",
       "    </tr>\n",
       "    <tr>\n",
       "      <th>19</th>\n",
       "      <td>get</td>\n",
       "      <td>19741</td>\n",
       "    </tr>\n",
       "    <tr>\n",
       "      <th>20</th>\n",
       "      <td>assertEquals</td>\n",
       "      <td>19091</td>\n",
       "    </tr>\n",
       "    <tr>\n",
       "      <th>21</th>\n",
       "      <td>final</td>\n",
       "      <td>18711</td>\n",
       "    </tr>\n",
       "    <tr>\n",
       "      <th>22</th>\n",
       "      <td>1</td>\n",
       "      <td>18285</td>\n",
       "    </tr>\n",
       "    <tr>\n",
       "      <th>23</th>\n",
       "      <td>equalTo</td>\n",
       "      <td>17336</td>\n",
       "    </tr>\n",
       "    <tr>\n",
       "      <th>24</th>\n",
       "      <td>this</td>\n",
       "      <td>16421</td>\n",
       "    </tr>\n",
       "    <tr>\n",
       "      <th>25</th>\n",
       "      <td>i</td>\n",
       "      <td>15590</td>\n",
       "    </tr>\n",
       "    <tr>\n",
       "      <th>26</th>\n",
       "      <td>==</td>\n",
       "      <td>15444</td>\n",
       "    </tr>\n",
       "    <tr>\n",
       "      <th>27</th>\n",
       "      <td>-&gt;</td>\n",
       "      <td>15338</td>\n",
       "    </tr>\n",
       "    <tr>\n",
       "      <th>28</th>\n",
       "      <td>class</td>\n",
       "      <td>14901</td>\n",
       "    </tr>\n",
       "    <tr>\n",
       "      <th>29</th>\n",
       "      <td>false</td>\n",
       "      <td>13742</td>\n",
       "    </tr>\n",
       "  </tbody>\n",
       "</table>\n",
       "</div>"
      ],
      "text/plain": [
       "           token   count\n",
       "0              )  762858\n",
       "1              (  760010\n",
       "2              .  506052\n",
       "3              ;  369714\n",
       "4              ,  298505\n",
       "5              {  159308\n",
       "6              }  155349\n",
       "7              =  120223\n",
       "8            new   71574\n",
       "9         return   68737\n",
       "10             +   37062\n",
       "11             <   35402\n",
       "12             >   32438\n",
       "13    assertThat   31854\n",
       "14            if   30366\n",
       "15          null   28721\n",
       "16       builder   25324\n",
       "17        String   25052\n",
       "18             0   23767\n",
       "19           get   19741\n",
       "20  assertEquals   19091\n",
       "21         final   18711\n",
       "22             1   18285\n",
       "23       equalTo   17336\n",
       "24          this   16421\n",
       "25             i   15590\n",
       "26            ==   15444\n",
       "27            ->   15338\n",
       "28         class   14901\n",
       "29         false   13742"
      ]
     },
     "execution_count": 7,
     "metadata": {},
     "output_type": "execute_result"
    }
   ],
   "source": [
    "unique_body_tokens = pd.DataFrame.from_dict(Counter(repeating_body_tokens.values), orient='index') \\\n",
    "    .sort_values(by=0, ascending=False) \\\n",
    "    .reset_index().rename(columns={'index': 'token', 0: 'count'})\n",
    "\n",
    "unique_body_tokens.head(30)"
   ]
  },
  {
   "cell_type": "code",
   "execution_count": 8,
   "metadata": {},
   "outputs": [
    {
     "data": {
      "text/plain": [
       "66451"
      ]
     },
     "execution_count": 8,
     "metadata": {},
     "output_type": "execute_result"
    }
   ],
   "source": [
    "len(unique_body_tokens[unique_body_tokens['count'] >= 2])"
   ]
  },
  {
   "cell_type": "code",
   "execution_count": 9,
   "metadata": {},
   "outputs": [
    {
     "data": {
      "text/plain": [
       "<matplotlib.axes._subplots.AxesSubplot at 0x7f8e7e8f7cc0>"
      ]
     },
     "execution_count": 9,
     "metadata": {},
     "output_type": "execute_result"
    },
    {
     "data": {
      "image/png": "[encoded data removed]",
      "text/plain": [
       "<Figure size 432x288 with 1 Axes>"
      ]
     },
     "metadata": {
      "needs_background": "light"
     },
     "output_type": "display_data"
    }
   ],
   "source": [
    "unique_body_tokens[unique_body_tokens['count'] < 10].plot()"
   ]
  },
  {
   "cell_type": "code",
   "execution_count": 10,
   "metadata": {},
   "outputs": [
    {
     "data": {
      "text/html": [
       "<div>\n",
       "<style scoped>\n",
       "    .dataframe tbody tr th:only-of-type {\n",
       "        vertical-align: middle;\n",
       "    }\n",
       "\n",
       "    .dataframe tbody tr th {\n",
       "        vertical-align: top;\n",
       "    }\n",
       "\n",
       "    .dataframe thead th {\n",
       "        text-align: right;\n",
       "    }\n",
       "</style>\n",
       "<table border=\"1\" class=\"dataframe\">\n",
       "  <thead>\n",
       "    <tr style=\"text-align: right;\">\n",
       "      <th></th>\n",
       "      <th>token</th>\n",
       "      <th>count</th>\n",
       "    </tr>\n",
       "  </thead>\n",
       "  <tbody>\n",
       "    <tr>\n",
       "      <th>98817</th>\n",
       "      <td>\"            r[count++] = s.substring(i0, i1);\"</td>\n",
       "      <td>1</td>\n",
       "    </tr>\n",
       "    <tr>\n",
       "      <th>108831</th>\n",
       "      <td>INPUT_ARGUMENTS</td>\n",
       "      <td>1</td>\n",
       "    </tr>\n",
       "    <tr>\n",
       "      <th>105527</th>\n",
       "      <td>\"Timeout waiting for task [\"</td>\n",
       "      <td>1</td>\n",
       "    </tr>\n",
       "    <tr>\n",
       "      <th>85730</th>\n",
       "      <td>\"No negative maxExpansions allowed.\"</td>\n",
       "      <td>1</td>\n",
       "    </tr>\n",
       "    <tr>\n",
       "      <th>69170</th>\n",
       "      <td>\"{\\\"index\\\": {\\\"_index\\\": \\\"geo-data\\\", \\\"_id\\...</td>\n",
       "      <td>1</td>\n",
       "    </tr>\n",
       "    <tr>\n",
       "      <th>113313</th>\n",
       "      <td>RestDeleteByQueryAction</td>\n",
       "      <td>1</td>\n",
       "    </tr>\n",
       "    <tr>\n",
       "      <th>106286</th>\n",
       "      <td>waitForPathToExist</td>\n",
       "      <td>1</td>\n",
       "    </tr>\n",
       "    <tr>\n",
       "      <th>82098</th>\n",
       "      <td>segmentMinDoc</td>\n",
       "      <td>1</td>\n",
       "    </tr>\n",
       "    <tr>\n",
       "      <th>103597</th>\n",
       "      <td>redirectToMlNode</td>\n",
       "      <td>1</td>\n",
       "    </tr>\n",
       "    <tr>\n",
       "      <th>111401</th>\n",
       "      <td>\"Number o = Short.valueOf((short)0); Float b =...</td>\n",
       "      <td>1</td>\n",
       "    </tr>\n",
       "  </tbody>\n",
       "</table>\n",
       "</div>"
      ],
      "text/plain": [
       "                                                    token  count\n",
       "98817     \"            r[count++] = s.substring(i0, i1);\"      1\n",
       "108831                                    INPUT_ARGUMENTS      1\n",
       "105527                       \"Timeout waiting for task [\"      1\n",
       "85730                \"No negative maxExpansions allowed.\"      1\n",
       "69170   \"{\\\"index\\\": {\\\"_index\\\": \\\"geo-data\\\", \\\"_id\\...      1\n",
       "113313                            RestDeleteByQueryAction      1\n",
       "106286                                 waitForPathToExist      1\n",
       "82098                                       segmentMinDoc      1\n",
       "103597                                   redirectToMlNode      1\n",
       "111401  \"Number o = Short.valueOf((short)0); Float b =...      1"
      ]
     },
     "execution_count": 10,
     "metadata": {},
     "output_type": "execute_result"
    }
   ],
   "source": [
    "unique_body_tokens[unique_body_tokens['count'] == 1].sample(10)"
   ]
  },
  {
   "cell_type": "code",
   "execution_count": 11,
   "metadata": {},
   "outputs": [
    {
     "data": {
      "text/plain": [
       "[Text(0, 0.5, 'Subtoken frequency'),\n",
       " Text(0.5, 0, 'Rank by frequency count'),\n",
       " Text(0.5, 1.0, 'Distribution of subtoken frequency')]"
      ]
     },
     "execution_count": 11,
     "metadata": {},
     "output_type": "execute_result"
    },
    {
     "data": {
      "image/png": "[encoded data removed]",
      "text/plain": [
       "<Figure size 504x504 with 1 Axes>"
      ]
     },
     "metadata": {
      "needs_background": "light"
     },
     "output_type": "display_data"
    }
   ],
   "source": [
    "# index by position in the list which is sorted by frequency\n",
    "ax = unique_body_tokens[unique_body_tokens['count'] > 10] \\\n",
    "    .plot(loglog=True, figsize=(7, 7))\n",
    "ax.set(title='Distribution of subtoken frequency', xlabel='Rank by frequency count', ylabel='Subtoken frequency')"
   ]
  },
  {
   "cell_type": "code",
   "execution_count": 13,
   "metadata": {},
   "outputs": [],
   "source": [
    "# # yes, the pandas groupby interface is THIS stupid :) ...\n",
    "# unique_body_tokens = repeating_body_tokens \\\n",
    "#     .groupby(lambda index: repeating_body_tokens[index]).count()\n",
    "\n",
    "# unique_body_tokens.head(30)"
   ]
  },
  {
   "cell_type": "code",
   "execution_count": 14,
   "metadata": {},
   "outputs": [
    {
     "data": {
      "application/vnd.jupyter.widget-view+json": {
       "model_id": "ff2099900fe0488a88d29305d5da58e9",
       "version_major": 2,
       "version_minor": 0
      },
      "text/plain": [
       "HBox(children=(FloatProgress(value=0.0, max=100377.0), HTML(value='')))"
      ]
     },
     "metadata": {},
     "output_type": "display_data"
    },
    {
     "name": "stdout",
     "output_type": "stream",
     "text": [
      "\n"
     ]
    },
    {
     "data": {
      "text/plain": [
       "test        23812\n",
       "get         14262\n",
       "to           6460\n",
       "set          4309\n",
       "create       4088\n",
       "with         3258\n",
       "xcontent     3092\n",
       "index        2840\n",
       "field        2641\n",
       "write        2493\n",
       "instance     2477\n",
       "name         2320\n",
       "do           2317\n",
       "is           2272\n",
       "equals       2241\n",
       "from         2230\n",
       "hash         2171\n",
       "code         2109\n",
       "parse        2093\n",
       "string       2021\n",
       "query        1876\n",
       "type         1747\n",
       "and          1583\n",
       "assert       1549\n",
       "on           1520\n",
       "random       1512\n",
       "request      1504\n",
       "value        1498\n",
       "node         1418\n",
       "add          1362\n",
       "dtype: int64"
      ]
     },
     "execution_count": 14,
     "metadata": {},
     "output_type": "execute_result"
    }
   ],
   "source": [
    "# define output vocabulary\n",
    "\n",
    "repeating_method_subtokens = pd.Series(chain.from_iterable(df.method_name.progress_apply(get_subtokens).values))\n",
    "\n",
    "# yes, the pandas groupby interface is THIS stupid :) ...\n",
    "unique_method_subtokens = repeating_method_subtokens \\\n",
    "    .groupby(lambda index: repeating_method_subtokens[index]).count() \\\n",
    "    .sort_values(ascending=False)\n",
    "\n",
    "unique_method_subtokens.head(30)"
   ]
  },
  {
   "cell_type": "code",
   "execution_count": 15,
   "metadata": {},
   "outputs": [
    {
     "data": {
      "text/plain": [
       "[Text(0, 0.5, 'Subtoken frequency'),\n",
       " Text(0.5, 0, 'Rank by frequency count'),\n",
       " Text(0.5, 1.0, 'Distribution of subtoken frequency')]"
      ]
     },
     "execution_count": 15,
     "metadata": {},
     "output_type": "execute_result"
    },
    {
     "data": {
      "image/png": "[encoded data removed]",
      "text/plain": [
       "<Figure size 504x504 with 1 Axes>"
      ]
     },
     "metadata": {
      "needs_background": "light"
     },
     "output_type": "display_data"
    }
   ],
   "source": [
    "# index by position in the list which is sorted by frequency\n",
    "ax = unique_method_subtokens \\\n",
    "    .sort_values(ascending=False).reset_index().rename(columns={0: 'subtoken occurrence count'}) \\\n",
    "    .plot(loglog=True, figsize=(7, 7))\n",
    "ax.set(title='Distribution of subtoken frequency', xlabel='Rank by frequency count', ylabel='Subtoken frequency')"
   ]
  },
  {
   "cell_type": "code",
   "execution_count": 16,
   "metadata": {},
   "outputs": [
    {
     "data": {
      "text/plain": [
       "6504"
      ]
     },
     "execution_count": 16,
     "metadata": {},
     "output_type": "execute_result"
    }
   ],
   "source": [
    "len(unique_method_subtokens)"
   ]
  },
  {
   "cell_type": "code",
   "execution_count": 22,
   "metadata": {},
   "outputs": [
    {
     "data": {
      "text/html": [
       "<div>\n",
       "<style scoped>\n",
       "    .dataframe tbody tr th:only-of-type {\n",
       "        vertical-align: middle;\n",
       "    }\n",
       "\n",
       "    .dataframe tbody tr th {\n",
       "        vertical-align: top;\n",
       "    }\n",
       "\n",
       "    .dataframe thead th {\n",
       "        text-align: right;\n",
       "    }\n",
       "</style>\n",
       "<table border=\"1\" class=\"dataframe\">\n",
       "  <thead>\n",
       "    <tr style=\"text-align: right;\">\n",
       "      <th></th>\n",
       "      <th>token</th>\n",
       "      <th>count</th>\n",
       "    </tr>\n",
       "  </thead>\n",
       "  <tbody>\n",
       "    <tr>\n",
       "      <th>0</th>\n",
       "      <td>test</td>\n",
       "      <td>23812</td>\n",
       "    </tr>\n",
       "    <tr>\n",
       "      <th>1</th>\n",
       "      <td>get</td>\n",
       "      <td>14262</td>\n",
       "    </tr>\n",
       "    <tr>\n",
       "      <th>2</th>\n",
       "      <td>to</td>\n",
       "      <td>6460</td>\n",
       "    </tr>\n",
       "    <tr>\n",
       "      <th>3</th>\n",
       "      <td>set</td>\n",
       "      <td>4309</td>\n",
       "    </tr>\n",
       "    <tr>\n",
       "      <th>4</th>\n",
       "      <td>create</td>\n",
       "      <td>4088</td>\n",
       "    </tr>\n",
       "    <tr>\n",
       "      <th>5</th>\n",
       "      <td>with</td>\n",
       "      <td>3258</td>\n",
       "    </tr>\n",
       "    <tr>\n",
       "      <th>6</th>\n",
       "      <td>xcontent</td>\n",
       "      <td>3092</td>\n",
       "    </tr>\n",
       "    <tr>\n",
       "      <th>7</th>\n",
       "      <td>index</td>\n",
       "      <td>2840</td>\n",
       "    </tr>\n",
       "    <tr>\n",
       "      <th>8</th>\n",
       "      <td>field</td>\n",
       "      <td>2641</td>\n",
       "    </tr>\n",
       "    <tr>\n",
       "      <th>9</th>\n",
       "      <td>write</td>\n",
       "      <td>2493</td>\n",
       "    </tr>\n",
       "    <tr>\n",
       "      <th>10</th>\n",
       "      <td>instance</td>\n",
       "      <td>2477</td>\n",
       "    </tr>\n",
       "    <tr>\n",
       "      <th>11</th>\n",
       "      <td>name</td>\n",
       "      <td>2320</td>\n",
       "    </tr>\n",
       "    <tr>\n",
       "      <th>12</th>\n",
       "      <td>do</td>\n",
       "      <td>2317</td>\n",
       "    </tr>\n",
       "    <tr>\n",
       "      <th>13</th>\n",
       "      <td>is</td>\n",
       "      <td>2272</td>\n",
       "    </tr>\n",
       "    <tr>\n",
       "      <th>14</th>\n",
       "      <td>equals</td>\n",
       "      <td>2241</td>\n",
       "    </tr>\n",
       "    <tr>\n",
       "      <th>15</th>\n",
       "      <td>from</td>\n",
       "      <td>2230</td>\n",
       "    </tr>\n",
       "    <tr>\n",
       "      <th>16</th>\n",
       "      <td>hash</td>\n",
       "      <td>2171</td>\n",
       "    </tr>\n",
       "    <tr>\n",
       "      <th>17</th>\n",
       "      <td>code</td>\n",
       "      <td>2109</td>\n",
       "    </tr>\n",
       "    <tr>\n",
       "      <th>18</th>\n",
       "      <td>parse</td>\n",
       "      <td>2093</td>\n",
       "    </tr>\n",
       "    <tr>\n",
       "      <th>19</th>\n",
       "      <td>string</td>\n",
       "      <td>2021</td>\n",
       "    </tr>\n",
       "    <tr>\n",
       "      <th>20</th>\n",
       "      <td>query</td>\n",
       "      <td>1876</td>\n",
       "    </tr>\n",
       "    <tr>\n",
       "      <th>21</th>\n",
       "      <td>type</td>\n",
       "      <td>1747</td>\n",
       "    </tr>\n",
       "    <tr>\n",
       "      <th>22</th>\n",
       "      <td>and</td>\n",
       "      <td>1583</td>\n",
       "    </tr>\n",
       "    <tr>\n",
       "      <th>23</th>\n",
       "      <td>assert</td>\n",
       "      <td>1549</td>\n",
       "    </tr>\n",
       "    <tr>\n",
       "      <th>24</th>\n",
       "      <td>on</td>\n",
       "      <td>1520</td>\n",
       "    </tr>\n",
       "    <tr>\n",
       "      <th>25</th>\n",
       "      <td>random</td>\n",
       "      <td>1512</td>\n",
       "    </tr>\n",
       "    <tr>\n",
       "      <th>26</th>\n",
       "      <td>request</td>\n",
       "      <td>1504</td>\n",
       "    </tr>\n",
       "    <tr>\n",
       "      <th>27</th>\n",
       "      <td>value</td>\n",
       "      <td>1498</td>\n",
       "    </tr>\n",
       "    <tr>\n",
       "      <th>28</th>\n",
       "      <td>node</td>\n",
       "      <td>1418</td>\n",
       "    </tr>\n",
       "    <tr>\n",
       "      <th>29</th>\n",
       "      <td>add</td>\n",
       "      <td>1362</td>\n",
       "    </tr>\n",
       "  </tbody>\n",
       "</table>\n",
       "</div>"
      ],
      "text/plain": [
       "       token  count\n",
       "0       test  23812\n",
       "1        get  14262\n",
       "2         to   6460\n",
       "3        set   4309\n",
       "4     create   4088\n",
       "5       with   3258\n",
       "6   xcontent   3092\n",
       "7      index   2840\n",
       "8      field   2641\n",
       "9      write   2493\n",
       "10  instance   2477\n",
       "11      name   2320\n",
       "12        do   2317\n",
       "13        is   2272\n",
       "14    equals   2241\n",
       "15      from   2230\n",
       "16      hash   2171\n",
       "17      code   2109\n",
       "18     parse   2093\n",
       "19    string   2021\n",
       "20     query   1876\n",
       "21      type   1747\n",
       "22       and   1583\n",
       "23    assert   1549\n",
       "24        on   1520\n",
       "25    random   1512\n",
       "26   request   1504\n",
       "27     value   1498\n",
       "28      node   1418\n",
       "29       add   1362"
      ]
     },
     "execution_count": 22,
     "metadata": {},
     "output_type": "execute_result"
    }
   ],
   "source": [
    "df_unique_method_name_subtokens = pd.DataFrame.from_dict(Counter(repeating_method_subtokens.values), orient='index') \\\n",
    "    .sort_values(by=0, ascending=False) \\\n",
    "    .reset_index().rename(columns={'index': 'token', 0: 'count'})\n",
    "\n",
    "df_unique_method_name_subtokens.head(30)"
   ]
  },
  {
   "cell_type": "code",
   "execution_count": 30,
   "metadata": {},
   "outputs": [
    {
     "data": {
      "text/html": [
       "<div>\n",
       "<style scoped>\n",
       "    .dataframe tbody tr th:only-of-type {\n",
       "        vertical-align: middle;\n",
       "    }\n",
       "\n",
       "    .dataframe tbody tr th {\n",
       "        vertical-align: top;\n",
       "    }\n",
       "\n",
       "    .dataframe thead th {\n",
       "        text-align: right;\n",
       "    }\n",
       "</style>\n",
       "<table border=\"1\" class=\"dataframe\">\n",
       "  <thead>\n",
       "    <tr style=\"text-align: right;\">\n",
       "      <th></th>\n",
       "      <th>token</th>\n",
       "      <th>count</th>\n",
       "    </tr>\n",
       "  </thead>\n",
       "  <tbody>\n",
       "    <tr>\n",
       "      <th>4950</th>\n",
       "      <td>unzip</td>\n",
       "      <td>1</td>\n",
       "    </tr>\n",
       "    <tr>\n",
       "      <th>6413</th>\n",
       "      <td>rules_given</td>\n",
       "      <td>1</td>\n",
       "    </tr>\n",
       "    <tr>\n",
       "      <th>5762</th>\n",
       "      <td>completely</td>\n",
       "      <td>1</td>\n",
       "    </tr>\n",
       "    <tr>\n",
       "      <th>4418</th>\n",
       "      <td>lists2</td>\n",
       "      <td>1</td>\n",
       "    </tr>\n",
       "    <tr>\n",
       "      <th>4823</th>\n",
       "      <td>metadatas</td>\n",
       "      <td>1</td>\n",
       "    </tr>\n",
       "    <tr>\n",
       "      <th>5272</th>\n",
       "      <td>config_should</td>\n",
       "      <td>1</td>\n",
       "    </tr>\n",
       "    <tr>\n",
       "      <th>5148</th>\n",
       "      <td>rework</td>\n",
       "      <td>1</td>\n",
       "    </tr>\n",
       "    <tr>\n",
       "      <th>5218</th>\n",
       "      <td>orderby</td>\n",
       "      <td>1</td>\n",
       "    </tr>\n",
       "    <tr>\n",
       "      <th>5109</th>\n",
       "      <td>disappeared</td>\n",
       "      <td>1</td>\n",
       "    </tr>\n",
       "    <tr>\n",
       "      <th>5211</th>\n",
       "      <td>cos</td>\n",
       "      <td>1</td>\n",
       "    </tr>\n",
       "  </tbody>\n",
       "</table>\n",
       "</div>"
      ],
      "text/plain": [
       "              token  count\n",
       "4950          unzip      1\n",
       "6413    rules_given      1\n",
       "5762     completely      1\n",
       "4418         lists2      1\n",
       "4823      metadatas      1\n",
       "5272  config_should      1\n",
       "5148         rework      1\n",
       "5218        orderby      1\n",
       "5109    disappeared      1\n",
       "5211            cos      1"
      ]
     },
     "execution_count": 30,
     "metadata": {},
     "output_type": "execute_result"
    }
   ],
   "source": [
    "df_unique_method_name_subtokens[df_unique_method_name_subtokens['count'] == 1].sample(10)"
   ]
  },
  {
   "cell_type": "code",
   "execution_count": 60,
   "metadata": {},
   "outputs": [
    {
     "data": {
      "application/vnd.jupyter.widget-view+json": {
       "model_id": "e626aeeb4ecb47f6bee6e5ff23caad2d",
       "version_major": 2,
       "version_minor": 0
      },
      "text/plain": [
       "HBox(children=(FloatProgress(value=0.0, max=100377.0), HTML(value='')))"
      ]
     },
     "metadata": {},
     "output_type": "display_data"
    },
    {
     "name": "stdout",
     "output_type": "stream",
     "text": [
      "invalid_body_count = 37000\n",
      "invalid_body_count = 38000\n",
      "invalid_body_count = 39000\n",
      "invalid_body_count = 40000\n",
      "invalid_body_count = 41000\n",
      "invalid_body_count = 42000\n",
      "invalid_body_count = 43000\n",
      "invalid_body_count = 44000\n",
      "invalid_body_count = 45000\n",
      "invalid_body_count = 46000\n",
      "invalid_body_count = 47000\n",
      "invalid_body_count = 48000\n",
      "\n"
     ]
    },
    {
     "data": {
      "application/vnd.jupyter.widget-view+json": {
       "model_id": "eba339dc7df7437e86510ba4ef2e1c83",
       "version_major": 2,
       "version_minor": 0
      },
      "text/plain": [
       "HBox(children=(FloatProgress(value=0.0, max=100377.0), HTML(value='')))"
      ]
     },
     "metadata": {},
     "output_type": "display_data"
    },
    {
     "name": "stdout",
     "output_type": "stream",
     "text": [
      "\n"
     ]
    },
    {
     "data": {
      "text/html": [
       "<div>\n",
       "<style scoped>\n",
       "    .dataframe tbody tr th:only-of-type {\n",
       "        vertical-align: middle;\n",
       "    }\n",
       "\n",
       "    .dataframe tbody tr th {\n",
       "        vertical-align: top;\n",
       "    }\n",
       "\n",
       "    .dataframe thead th {\n",
       "        text-align: right;\n",
       "    }\n",
       "</style>\n",
       "<table border=\"1\" class=\"dataframe\">\n",
       "  <thead>\n",
       "    <tr style=\"text-align: right;\">\n",
       "      <th></th>\n",
       "      <th>file_name</th>\n",
       "      <th>class_name</th>\n",
       "      <th>method_name</th>\n",
       "      <th>return_type</th>\n",
       "      <th>arguments</th>\n",
       "      <th>body</th>\n",
       "      <th>documentation</th>\n",
       "      <th>modifiers</th>\n",
       "      <th>annotations</th>\n",
       "      <th>body_tokens</th>\n",
       "      <th>method_name_subtokens</th>\n",
       "    </tr>\n",
       "  </thead>\n",
       "  <tbody>\n",
       "    <tr>\n",
       "      <th>0</th>\n",
       "      <td>data/repos/elasticsearch-master/buildSrc/src/t...</td>\n",
       "      <td>RestTestFromSnippetsTaskTests</td>\n",
       "      <td>testInvalidBlockQuote</td>\n",
       "      <td>void</td>\n",
       "      <td>[]</td>\n",
       "      <td>{ String input = \"\\\"foo\\\": \\\"\\\"\\\"bar\\\"\"; expec...</td>\n",
       "      <td>None</td>\n",
       "      <td>['public']</td>\n",
       "      <td>[]</td>\n",
       "      <td>[{, String, input, =, \"\\\"foo\\\": \\\"\\\"\\\"bar\\\"\", ...</td>\n",
       "      <td>[test, invalid, block, quote]</td>\n",
       "    </tr>\n",
       "    <tr>\n",
       "      <th>1</th>\n",
       "      <td>data/repos/elasticsearch-master/buildSrc/src/t...</td>\n",
       "      <td>RestTestFromSnippetsTaskTests</td>\n",
       "      <td>testSimpleBlockQuote</td>\n",
       "      <td>void</td>\n",
       "      <td>[]</td>\n",
       "      <td>{ assertEquals(\"\\\"foo\\\": \\\"bort baz\\\"\", replac...</td>\n",
       "      <td>None</td>\n",
       "      <td>['public']</td>\n",
       "      <td>[]</td>\n",
       "      <td>[{, assertEquals, (, \"\\\"foo\\\": \\\"bort baz\\\"\", ...</td>\n",
       "      <td>[test, simple, block, quote]</td>\n",
       "    </tr>\n",
       "    <tr>\n",
       "      <th>2</th>\n",
       "      <td>data/repos/elasticsearch-master/buildSrc/src/t...</td>\n",
       "      <td>RestTestFromSnippetsTaskTests</td>\n",
       "      <td>testMultipleBlockQuotes</td>\n",
       "      <td>void</td>\n",
       "      <td>[]</td>\n",
       "      <td>{ assertEquals( \"\\\"foo\\\": \\\"bort baz\\\", \\\"bar\\...</td>\n",
       "      <td>None</td>\n",
       "      <td>['public']</td>\n",
       "      <td>[]</td>\n",
       "      <td>[{, assertEquals, (, \"\\\"foo\\\": \\\"bort baz\\\", \\...</td>\n",
       "      <td>[test, multiple, block, quotes]</td>\n",
       "    </tr>\n",
       "    <tr>\n",
       "      <th>3</th>\n",
       "      <td>data/repos/elasticsearch-master/buildSrc/src/t...</td>\n",
       "      <td>RestTestFromSnippetsTaskTests</td>\n",
       "      <td>testEscapingInBlockQuote</td>\n",
       "      <td>void</td>\n",
       "      <td>[]</td>\n",
       "      <td>{ assertEquals(\"\\\"foo\\\": \\\"bort\\\\\\\" baz\\\"\", re...</td>\n",
       "      <td>None</td>\n",
       "      <td>['public']</td>\n",
       "      <td>[]</td>\n",
       "      <td>[{, assertEquals, (, \"\\\"foo\\\": \\\"bort\\\\\\\" baz\\...</td>\n",
       "      <td>[test, escaping, in, block, quote]</td>\n",
       "    </tr>\n",
       "    <tr>\n",
       "      <th>4</th>\n",
       "      <td>data/repos/elasticsearch-master/buildSrc/src/t...</td>\n",
       "      <td>RestTestFromSnippetsTaskTests</td>\n",
       "      <td>testIsDocWriteRequest</td>\n",
       "      <td>void</td>\n",
       "      <td>[]</td>\n",
       "      <td>{ assertTrue((boolean) RestTestsFromSnippetsTa...</td>\n",
       "      <td>None</td>\n",
       "      <td>['public']</td>\n",
       "      <td>[]</td>\n",
       "      <td>[{, assertTrue, (, (, boolean, ), RestTestsFro...</td>\n",
       "      <td>[test, is, doc, write, request]</td>\n",
       "    </tr>\n",
       "  </tbody>\n",
       "</table>\n",
       "</div>"
      ],
      "text/plain": [
       "                                           file_name  \\\n",
       "0  data/repos/elasticsearch-master/buildSrc/src/t...   \n",
       "1  data/repos/elasticsearch-master/buildSrc/src/t...   \n",
       "2  data/repos/elasticsearch-master/buildSrc/src/t...   \n",
       "3  data/repos/elasticsearch-master/buildSrc/src/t...   \n",
       "4  data/repos/elasticsearch-master/buildSrc/src/t...   \n",
       "\n",
       "                      class_name               method_name return_type  \\\n",
       "0  RestTestFromSnippetsTaskTests     testInvalidBlockQuote        void   \n",
       "1  RestTestFromSnippetsTaskTests      testSimpleBlockQuote        void   \n",
       "2  RestTestFromSnippetsTaskTests   testMultipleBlockQuotes        void   \n",
       "3  RestTestFromSnippetsTaskTests  testEscapingInBlockQuote        void   \n",
       "4  RestTestFromSnippetsTaskTests     testIsDocWriteRequest        void   \n",
       "\n",
       "  arguments                                               body documentation  \\\n",
       "0        []  { String input = \"\\\"foo\\\": \\\"\\\"\\\"bar\\\"\"; expec...          None   \n",
       "1        []  { assertEquals(\"\\\"foo\\\": \\\"bort baz\\\"\", replac...          None   \n",
       "2        []  { assertEquals( \"\\\"foo\\\": \\\"bort baz\\\", \\\"bar\\...          None   \n",
       "3        []  { assertEquals(\"\\\"foo\\\": \\\"bort\\\\\\\" baz\\\"\", re...          None   \n",
       "4        []  { assertTrue((boolean) RestTestsFromSnippetsTa...          None   \n",
       "\n",
       "    modifiers annotations                                        body_tokens  \\\n",
       "0  ['public']          []  [{, String, input, =, \"\\\"foo\\\": \\\"\\\"\\\"bar\\\"\", ...   \n",
       "1  ['public']          []  [{, assertEquals, (, \"\\\"foo\\\": \\\"bort baz\\\"\", ...   \n",
       "2  ['public']          []  [{, assertEquals, (, \"\\\"foo\\\": \\\"bort baz\\\", \\...   \n",
       "3  ['public']          []  [{, assertEquals, (, \"\\\"foo\\\": \\\"bort\\\\\\\" baz\\...   \n",
       "4  ['public']          []  [{, assertTrue, (, (, boolean, ), RestTestsFro...   \n",
       "\n",
       "                method_name_subtokens  \n",
       "0       [test, invalid, block, quote]  \n",
       "1        [test, simple, block, quote]  \n",
       "2     [test, multiple, block, quotes]  \n",
       "3  [test, escaping, in, block, quote]  \n",
       "4     [test, is, doc, write, request]  "
      ]
     },
     "execution_count": 60,
     "metadata": {},
     "output_type": "execute_result"
    }
   ],
   "source": [
    "# dataset\n",
    "\n",
    "df['body_tokens'] = df['body'].progress_apply(tokenize_method_body)\n",
    "df['method_name_subtokens'] = df['method_name'].progress_apply(get_subtokens)\n",
    "df_clean = df[df.body_tokens.str.len() > 0] # remove invalid methods which cannot be parsed\n",
    "\n",
    "df.head(5)"
   ]
  },
  {
   "cell_type": "code",
   "execution_count": 73,
   "metadata": {},
   "outputs": [],
   "source": [
    "def get_vocabulary(series):\n",
    "    all_repeating = pd.Series(chain.from_iterable(series.values))\n",
    "\n",
    "    return pd.DataFrame.from_dict(Counter(all_repeating.values), orient='index') \\\n",
    "        .sort_values(by=0, ascending=False) \\\n",
    "        .reset_index().rename(columns={'index': 'token', 0: 'count'})"
   ]
  },
  {
   "cell_type": "code",
   "execution_count": 74,
   "metadata": {},
   "outputs": [
    {
     "data": {
      "text/plain": [
       "(114536, 5855)"
      ]
     },
     "execution_count": 74,
     "metadata": {},
     "output_type": "execute_result"
    }
   ],
   "source": [
    "input_vocabulary = get_vocabulary(df_clean.body_tokens)\n",
    "output_vocabulary = get_vocabulary(df_clean.method_name_subtokens)\n",
    "len(input_vocabulary), len(output_vocabulary)"
   ]
  },
  {
   "cell_type": "code",
   "execution_count": 79,
   "metadata": {},
   "outputs": [
    {
     "data": {
      "text/plain": [
       "(70506, 17627)"
      ]
     },
     "execution_count": 79,
     "metadata": {},
     "output_type": "execute_result"
    }
   ],
   "source": [
    "df_train, df_test = train_test_split(df_clean, test_size=0.2)\n",
    "\n",
    "len(df_train), len(df_test)"
   ]
  },
  {
   "cell_type": "code",
   "execution_count": 80,
   "metadata": {},
   "outputs": [
    {
     "data": {
      "text/plain": [
       "16381            [{, return, mutate, (, original, ), ;, }]\n",
       "14810    [{, return, new, TermQuery, (, new, Term, (, \"...\n",
       "15654    [{, assertAcked, (, prepareCreate, (, \"test\", ...\n",
       "43676    [{, return, new, NodeRequest, (, request, ), ;...\n",
       "44636     [{, return, visitor, ., visit, (, this, ), ;, }]\n",
       "                               ...                        \n",
       "99566    [{, final, Settings, ., Builder, clientSetting...\n",
       "98642    [{, return, restHighLevelClient, ., performReq...\n",
       "95612                       [{, return, memoryStats, ;, }]\n",
       "42730    [{, Map, <, Class, <, ?, >, ,, XContentBuilder...\n",
       "70697    [{, assertNull, (, new, StDistance, (, EMPTY, ...\n",
       "Name: body_tokens, Length: 70506, dtype: object"
      ]
     },
     "execution_count": 80,
     "metadata": {},
     "output_type": "execute_result"
    }
   ],
   "source": [
    "df_train.body_tokens"
   ]
  },
  {
   "cell_type": "code",
   "execution_count": 81,
   "metadata": {},
   "outputs": [
    {
     "data": {
      "text/plain": [
       "16381                                  [create, mutation]\n",
       "14810                                         [to, query]\n",
       "15654    [test, create, index, with, aliases, in, source]\n",
       "43676                                [new, node, request]\n",
       "44636                                             [visit]\n",
       "                               ...                       \n",
       "99566                           [create, blob, container]\n",
       "98642                            [get, ssl, certificates]\n",
       "95612                                [get, memory, stats]\n",
       "42730      [get, xcontent, human, readable, transformers]\n",
       "70697                              [test, null, handling]\n",
       "Name: method_name_subtokens, Length: 70506, dtype: object"
      ]
     },
     "execution_count": 81,
     "metadata": {},
     "output_type": "execute_result"
    }
   ],
   "source": [
    "df_train.method_name_subtokens"
   ]
  },
  {
   "cell_type": "code",
   "execution_count": 72,
   "metadata": {},
   "outputs": [
    {
     "data": {
      "text/plain": [
       "15959"
      ]
     },
     "execution_count": 72,
     "metadata": {},
     "output_type": "execute_result"
    }
   ],
   "source": [
    "len(input_vocabulary[input_vocabulary['count'] > 10])"
   ]
  },
  {
   "cell_type": "code",
   "execution_count": 17,
   "metadata": {},
   "outputs": [],
   "source": [
    "# define model: input embedding > LSTM encoder > LSTM decoder > softmax"
   ]
  },
  {
   "cell_type": "code",
   "execution_count": 18,
   "metadata": {},
   "outputs": [],
   "source": [
    "# TODO: use hyper parameters\n",
    "HP_NUM_UNITS = hp.HParam('num_units', hp.Discrete([16, 32]))\n",
    "HP_DROPOUT = hp.HParam('dropout', hp.RealInterval(0.1, 0.2))\n",
    "HP_OPTIMIZER = hp.HParam('optimizer', hp.Discrete(['adam', 'sgd']))"
   ]
  },
  {
   "cell_type": "code",
   "execution_count": 82,
   "metadata": {},
   "outputs": [],
   "source": [
    "# raw hyper parameters\n",
    "\n",
    "# TODO: limit the input vocabulary size for now\n",
    "input_vocab_size = 10000 # the number of method body tokens\n",
    "output_vocab_size = len(output_vocabulary) # used for the softmax layer, like num_classes\n",
    "\n",
    "input_embedding_dim = 50\n",
    "latent_dim = 128 # encoder-decoder latent space dimensions\n",
    "\n",
    "epochs = 10\n",
    "batch_size=64"
   ]
  },
  {
   "cell_type": "code",
   "execution_count": 83,
   "metadata": {},
   "outputs": [
    {
     "name": "stdout",
     "output_type": "stream",
     "text": [
      "Model: \"Simple LSTM\"\n",
      "_________________________________________________________________\n",
      "Layer (type)                 Output Shape              Param #   \n",
      "=================================================================\n",
      "embedding_11 (Embedding)     (None, None, 50)          500000    \n",
      "_________________________________________________________________\n",
      "lstm_5 (LSTM)                (None, 128)               91648     \n",
      "_________________________________________________________________\n",
      "dense_8 (Dense)              (None, 5855)              755295    \n",
      "=================================================================\n",
      "Total params: 1,346,943\n",
      "Trainable params: 1,346,943\n",
      "Non-trainable params: 0\n",
      "_________________________________________________________________\n"
     ]
    }
   ],
   "source": [
    "# TODO: input shape\n",
    "\n",
    "model = tf.keras.Sequential([\n",
    "    layers.Embedding(input_dim=input_vocab_size, output_dim=input_embedding_dim),\n",
    "    layers.LSTM(latent_dim),\n",
    "    layers.Dense(output_vocab_size, activation='softmax')\n",
    "], name='Simple LSTM')\n",
    "\n",
    "model.compile(loss='categorical_crossentropy',\n",
    "              optimizer='sgd',\n",
    "              metrics=['accuracy'])\n",
    "\n",
    "model.summary()"
   ]
  },
  {
   "cell_type": "code",
   "execution_count": 86,
   "metadata": {},
   "outputs": [
    {
     "data": {
      "text/plain": [
       "(70506,)"
      ]
     },
     "execution_count": 86,
     "metadata": {},
     "output_type": "execute_result"
    }
   ],
   "source": [
    "df_train.method_name_subtokens.shape"
   ]
  },
  {
   "cell_type": "code",
   "execution_count": 84,
   "metadata": {},
   "outputs": [
    {
     "ename": "ValueError",
     "evalue": "You are passing a target array of shape (70506, 1) while using as loss `categorical_crossentropy`. `categorical_crossentropy` expects targets to be binary matrices (1s and 0s) of shape (samples, classes). If your targets are integer classes, you can convert them to the expected format via:\n```\nfrom keras.utils import to_categorical\ny_binary = to_categorical(y_int)\n```\n\nAlternatively, you can use the loss function `sparse_categorical_crossentropy` instead, which does expect integer targets.",
     "output_type": "error",
     "traceback": [
      "\u001b[0;31m---------------------------------------------------------------------------\u001b[0m",
      "\u001b[0;31mValueError\u001b[0m                                Traceback (most recent call last)",
      "\u001b[0;32m<ipython-input-84-3a323893e556>\u001b[0m in \u001b[0;36m<module>\u001b[0;34m\u001b[0m\n\u001b[1;32m      3\u001b[0m     \u001b[0mdf_train\u001b[0m\u001b[0;34m.\u001b[0m\u001b[0mmethod_name_subtokens\u001b[0m\u001b[0;34m,\u001b[0m\u001b[0;34m\u001b[0m\u001b[0;34m\u001b[0m\u001b[0m\n\u001b[1;32m      4\u001b[0m     \u001b[0mepochs\u001b[0m\u001b[0;34m=\u001b[0m\u001b[0mepochs\u001b[0m\u001b[0;34m,\u001b[0m\u001b[0;34m\u001b[0m\u001b[0;34m\u001b[0m\u001b[0m\n\u001b[0;32m----> 5\u001b[0;31m     \u001b[0mbatch_size\u001b[0m\u001b[0;34m=\u001b[0m\u001b[0mbatch_size\u001b[0m\u001b[0;34m\u001b[0m\u001b[0;34m\u001b[0m\u001b[0m\n\u001b[0m\u001b[1;32m      6\u001b[0m )\n\u001b[1;32m      7\u001b[0m \u001b[0;34m\u001b[0m\u001b[0m\n",
      "\u001b[0;32m~/source/programming-tools/.venv/lib/python3.7/site-packages/tensorflow_core/python/keras/engine/training.py\u001b[0m in \u001b[0;36mfit\u001b[0;34m(self, x, y, batch_size, epochs, verbose, callbacks, validation_split, validation_data, shuffle, class_weight, sample_weight, initial_epoch, steps_per_epoch, validation_steps, validation_freq, max_queue_size, workers, use_multiprocessing, **kwargs)\u001b[0m\n\u001b[1;32m    817\u001b[0m         \u001b[0mmax_queue_size\u001b[0m\u001b[0;34m=\u001b[0m\u001b[0mmax_queue_size\u001b[0m\u001b[0;34m,\u001b[0m\u001b[0;34m\u001b[0m\u001b[0;34m\u001b[0m\u001b[0m\n\u001b[1;32m    818\u001b[0m         \u001b[0mworkers\u001b[0m\u001b[0;34m=\u001b[0m\u001b[0mworkers\u001b[0m\u001b[0;34m,\u001b[0m\u001b[0;34m\u001b[0m\u001b[0;34m\u001b[0m\u001b[0m\n\u001b[0;32m--> 819\u001b[0;31m         use_multiprocessing=use_multiprocessing)\n\u001b[0m\u001b[1;32m    820\u001b[0m \u001b[0;34m\u001b[0m\u001b[0m\n\u001b[1;32m    821\u001b[0m   def evaluate(self,\n",
      "\u001b[0;32m~/source/programming-tools/.venv/lib/python3.7/site-packages/tensorflow_core/python/keras/engine/training_v2.py\u001b[0m in \u001b[0;36mfit\u001b[0;34m(self, model, x, y, batch_size, epochs, verbose, callbacks, validation_split, validation_data, shuffle, class_weight, sample_weight, initial_epoch, steps_per_epoch, validation_steps, validation_freq, max_queue_size, workers, use_multiprocessing, **kwargs)\u001b[0m\n\u001b[1;32m    233\u001b[0m           \u001b[0mmax_queue_size\u001b[0m\u001b[0;34m=\u001b[0m\u001b[0mmax_queue_size\u001b[0m\u001b[0;34m,\u001b[0m\u001b[0;34m\u001b[0m\u001b[0;34m\u001b[0m\u001b[0m\n\u001b[1;32m    234\u001b[0m           \u001b[0mworkers\u001b[0m\u001b[0;34m=\u001b[0m\u001b[0mworkers\u001b[0m\u001b[0;34m,\u001b[0m\u001b[0;34m\u001b[0m\u001b[0;34m\u001b[0m\u001b[0m\n\u001b[0;32m--> 235\u001b[0;31m           use_multiprocessing=use_multiprocessing)\n\u001b[0m\u001b[1;32m    236\u001b[0m \u001b[0;34m\u001b[0m\u001b[0m\n\u001b[1;32m    237\u001b[0m       \u001b[0mtotal_samples\u001b[0m \u001b[0;34m=\u001b[0m \u001b[0m_get_total_number_of_samples\u001b[0m\u001b[0;34m(\u001b[0m\u001b[0mtraining_data_adapter\u001b[0m\u001b[0;34m)\u001b[0m\u001b[0;34m\u001b[0m\u001b[0;34m\u001b[0m\u001b[0m\n",
      "\u001b[0;32m~/source/programming-tools/.venv/lib/python3.7/site-packages/tensorflow_core/python/keras/engine/training_v2.py\u001b[0m in \u001b[0;36m_process_training_inputs\u001b[0;34m(model, x, y, batch_size, epochs, sample_weights, class_weights, steps_per_epoch, validation_split, validation_data, validation_steps, shuffle, distribution_strategy, max_queue_size, workers, use_multiprocessing)\u001b[0m\n\u001b[1;32m    591\u001b[0m         \u001b[0mmax_queue_size\u001b[0m\u001b[0;34m=\u001b[0m\u001b[0mmax_queue_size\u001b[0m\u001b[0;34m,\u001b[0m\u001b[0;34m\u001b[0m\u001b[0;34m\u001b[0m\u001b[0m\n\u001b[1;32m    592\u001b[0m         \u001b[0mworkers\u001b[0m\u001b[0;34m=\u001b[0m\u001b[0mworkers\u001b[0m\u001b[0;34m,\u001b[0m\u001b[0;34m\u001b[0m\u001b[0;34m\u001b[0m\u001b[0m\n\u001b[0;32m--> 593\u001b[0;31m         use_multiprocessing=use_multiprocessing)\n\u001b[0m\u001b[1;32m    594\u001b[0m     \u001b[0mval_adapter\u001b[0m \u001b[0;34m=\u001b[0m \u001b[0;32mNone\u001b[0m\u001b[0;34m\u001b[0m\u001b[0;34m\u001b[0m\u001b[0m\n\u001b[1;32m    595\u001b[0m     \u001b[0;32mif\u001b[0m \u001b[0mvalidation_data\u001b[0m\u001b[0;34m:\u001b[0m\u001b[0;34m\u001b[0m\u001b[0;34m\u001b[0m\u001b[0m\n",
      "\u001b[0;32m~/source/programming-tools/.venv/lib/python3.7/site-packages/tensorflow_core/python/keras/engine/training_v2.py\u001b[0m in \u001b[0;36m_process_inputs\u001b[0;34m(model, mode, x, y, batch_size, epochs, sample_weights, class_weights, shuffle, steps, distribution_strategy, max_queue_size, workers, use_multiprocessing)\u001b[0m\n\u001b[1;32m    644\u001b[0m     \u001b[0mstandardize_function\u001b[0m \u001b[0;34m=\u001b[0m \u001b[0;32mNone\u001b[0m\u001b[0;34m\u001b[0m\u001b[0;34m\u001b[0m\u001b[0m\n\u001b[1;32m    645\u001b[0m     x, y, sample_weights = standardize(\n\u001b[0;32m--> 646\u001b[0;31m         x, y, sample_weight=sample_weights)\n\u001b[0m\u001b[1;32m    647\u001b[0m   \u001b[0;32melif\u001b[0m \u001b[0madapter_cls\u001b[0m \u001b[0;32mis\u001b[0m \u001b[0mdata_adapter\u001b[0m\u001b[0;34m.\u001b[0m\u001b[0mListsOfScalarsDataAdapter\u001b[0m\u001b[0;34m:\u001b[0m\u001b[0;34m\u001b[0m\u001b[0;34m\u001b[0m\u001b[0m\n\u001b[1;32m    648\u001b[0m     \u001b[0mstandardize_function\u001b[0m \u001b[0;34m=\u001b[0m \u001b[0mstandardize\u001b[0m\u001b[0;34m\u001b[0m\u001b[0;34m\u001b[0m\u001b[0m\n",
      "\u001b[0;32m~/source/programming-tools/.venv/lib/python3.7/site-packages/tensorflow_core/python/keras/engine/training.py\u001b[0m in \u001b[0;36m_standardize_user_data\u001b[0;34m(self, x, y, sample_weight, class_weight, batch_size, check_steps, steps_name, steps, validation_split, shuffle, extract_tensors_from_dataset)\u001b[0m\n\u001b[1;32m   2381\u001b[0m         \u001b[0mis_dataset\u001b[0m\u001b[0;34m=\u001b[0m\u001b[0mis_dataset\u001b[0m\u001b[0;34m,\u001b[0m\u001b[0;34m\u001b[0m\u001b[0;34m\u001b[0m\u001b[0m\n\u001b[1;32m   2382\u001b[0m         \u001b[0mclass_weight\u001b[0m\u001b[0;34m=\u001b[0m\u001b[0mclass_weight\u001b[0m\u001b[0;34m,\u001b[0m\u001b[0;34m\u001b[0m\u001b[0;34m\u001b[0m\u001b[0m\n\u001b[0;32m-> 2383\u001b[0;31m         batch_size=batch_size)\n\u001b[0m\u001b[1;32m   2384\u001b[0m \u001b[0;34m\u001b[0m\u001b[0m\n\u001b[1;32m   2385\u001b[0m   def _standardize_tensors(self, x, y, sample_weight, run_eagerly, dict_inputs,\n",
      "\u001b[0;32m~/source/programming-tools/.venv/lib/python3.7/site-packages/tensorflow_core/python/keras/engine/training.py\u001b[0m in \u001b[0;36m_standardize_tensors\u001b[0;34m(self, x, y, sample_weight, run_eagerly, dict_inputs, is_dataset, class_weight, batch_size)\u001b[0m\n\u001b[1;32m   2487\u001b[0m           \u001b[0;31m# Additional checks to avoid users mistakenly using improper loss fns.\u001b[0m\u001b[0;34m\u001b[0m\u001b[0;34m\u001b[0m\u001b[0;34m\u001b[0m\u001b[0m\n\u001b[1;32m   2488\u001b[0m           training_utils.check_loss_and_target_compatibility(\n\u001b[0;32m-> 2489\u001b[0;31m               y, self._feed_loss_fns, feed_output_shapes)\n\u001b[0m\u001b[1;32m   2490\u001b[0m \u001b[0;34m\u001b[0m\u001b[0m\n\u001b[1;32m   2491\u001b[0m       sample_weights, _, _ = training_utils.handle_partial_sample_weights(\n",
      "\u001b[0;32m~/source/programming-tools/.venv/lib/python3.7/site-packages/tensorflow_core/python/keras/engine/training_utils.py\u001b[0m in \u001b[0;36mcheck_loss_and_target_compatibility\u001b[0;34m(targets, loss_fns, output_shapes)\u001b[0m\n\u001b[1;32m    782\u001b[0m         raise ValueError('You are passing a target array of shape ' +\n\u001b[1;32m    783\u001b[0m                          \u001b[0mstr\u001b[0m\u001b[0;34m(\u001b[0m\u001b[0my\u001b[0m\u001b[0;34m.\u001b[0m\u001b[0mshape\u001b[0m\u001b[0;34m)\u001b[0m \u001b[0;34m+\u001b[0m\u001b[0;34m\u001b[0m\u001b[0;34m\u001b[0m\u001b[0m\n\u001b[0;32m--> 784\u001b[0;31m                          \u001b[0;34m' while using as loss `categorical_crossentropy`. '\u001b[0m\u001b[0;34m\u001b[0m\u001b[0;34m\u001b[0m\u001b[0m\n\u001b[0m\u001b[1;32m    785\u001b[0m                          \u001b[0;34m'`categorical_crossentropy` expects '\u001b[0m\u001b[0;34m\u001b[0m\u001b[0;34m\u001b[0m\u001b[0m\n\u001b[1;32m    786\u001b[0m                          \u001b[0;34m'targets to be binary matrices (1s and 0s) '\u001b[0m\u001b[0;34m\u001b[0m\u001b[0;34m\u001b[0m\u001b[0m\n",
      "\u001b[0;31mValueError\u001b[0m: You are passing a target array of shape (70506, 1) while using as loss `categorical_crossentropy`. `categorical_crossentropy` expects targets to be binary matrices (1s and 0s) of shape (samples, classes). If your targets are integer classes, you can convert them to the expected format via:\n```\nfrom keras.utils import to_categorical\ny_binary = to_categorical(y_int)\n```\n\nAlternatively, you can use the loss function `sparse_categorical_crossentropy` instead, which does expect integer targets."
     ]
    }
   ],
   "source": [
    "history = model.fit(\n",
    "    df_train.body_tokens,\n",
    "    df_train.method_name_subtokens,\n",
    "    epochs=epochs,\n",
    "    batch_size=batch_size\n",
    ")\n",
    "\n",
    "history"
   ]
  },
  {
   "cell_type": "code",
   "execution_count": null,
   "metadata": {},
   "outputs": [],
   "source": [
    "test_loss, test_acc = model.evaluate(test_x, test_y)"
   ]
  },
  {
   "cell_type": "code",
   "execution_count": null,
   "metadata": {},
   "outputs": [],
   "source": [
    "prediction = class_names[np.argmax(model.predict(test_x[0]))]\n",
    "prediction"
   ]
  },
  {
   "cell_type": "code",
   "execution_count": 34,
   "metadata": {},
   "outputs": [
    {
     "name": "stdout",
     "output_type": "stream",
     "text": [
      "Model: \"model_2\"\n",
      "__________________________________________________________________________________________________\n",
      "Layer (type)                    Output Shape         Param #     Connected to                     \n",
      "==================================================================================================\n",
      "input_6 (InputLayer)            [(None, None)]       0                                            \n",
      "__________________________________________________________________________________________________\n",
      "input_7 (InputLayer)            [(None, None)]       0                                            \n",
      "__________________________________________________________________________________________________\n",
      "embedding_4 (Embedding)         (None, None, 50)     500000      input_6[0][0]                    \n",
      "__________________________________________________________________________________________________\n",
      "embedding_5 (Embedding)         (None, None, 64)     128000      input_7[0][0]                    \n",
      "__________________________________________________________________________________________________\n",
      "encoder (LSTM)                  [(None, 64), (None,  29440       embedding_4[0][0]                \n",
      "__________________________________________________________________________________________________\n",
      "decoder (LSTM)                  (None, 64)           33024       embedding_5[0][0]                \n",
      "                                                                 encoder[0][1]                    \n",
      "                                                                 encoder[0][2]                    \n",
      "__________________________________________________________________________________________________\n",
      "dense_2 (Dense)                 (None, 10)           650         decoder[0][0]                    \n",
      "==================================================================================================\n",
      "Total params: 691,114\n",
      "Trainable params: 691,114\n",
      "Non-trainable params: 0\n",
      "__________________________________________________________________________________________________\n"
     ]
    }
   ],
   "source": [
    "encoder_input = layers.Input(shape=(None, ))\n",
    "encoder_embedded = layers.Embedding(input_dim=input_vocab_size, output_dim=input_embedding_dim)(encoder_input)\n",
    "\n",
    "# Return states in addition to output\n",
    "output, state_h, state_c = layers.LSTM(latent_dim, return_state=True, name='encoder')(encoder_embedded)\n",
    "encoder_state = [state_h, state_c]\n",
    "\n",
    "decoder_input = layers.Input(shape=(None, ))\n",
    "decoder_embedded = layers.Embedding(input_dim=decoder_vocab, output_dim=64)(decoder_input)\n",
    "\n",
    "# Pass the 2 states to a new LSTM layer, as initial state\n",
    "decoder_output = layers.LSTM(decoder_units, name='decoder')(decoder_embedded, initial_state=encoder_state)\n",
    "output = layers.Dense(10, activation='softmax')(decoder_output)\n",
    "\n",
    "model = tf.keras.Model([encoder_input, decoder_input], output)\n",
    "\n",
    "model.compile(loss='categorical_crossentropy',\n",
    "              optimizer='sgd',\n",
    "              metrics=['accuracy'])\n",
    "\n",
    "model.summary()"
   ]
  },
  {
   "cell_type": "code",
   "execution_count": null,
   "metadata": {},
   "outputs": [],
   "source": []
  }
 ],
 "metadata": {
  "kernelspec": {
   "display_name": "Python 3",
   "language": "python",
   "name": "python3"
  },
  "language_info": {
   "codemirror_mode": {
    "name": "ipython",
    "version": 3
   },
   "file_extension": ".py",
   "mimetype": "text/x-python",
   "name": "python",
   "nbconvert_exporter": "python",
   "pygments_lexer": "ipython3",
   "version": "3.7.3"
  }
 },
 "nbformat": 4,
 "nbformat_minor": 4
}
