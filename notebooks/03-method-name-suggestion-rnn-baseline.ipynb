{
 "cells": [
  {
   "cell_type": "code",
   "execution_count": 1,
   "metadata": {},
   "outputs": [
    {
     "name": "stderr",
     "output_type": "stream",
     "text": [
      "/home/tony/source/programming-tools/.venv/lib/python3.7/site-packages/tqdm/std.py:658: FutureWarning: The Panel class is removed from pandas. Accessing it from the top-level namespace will also be removed in the next version\n",
      "  from pandas import Panel\n"
     ]
    }
   ],
   "source": [
    "import pandas as pd\n",
    "import numpy as np\n",
    "import matplotlib.pyplot as plt\n",
    "import javalang\n",
    "from sklearn.model_selection import train_test_split\n",
    "from tqdm.auto import tqdm\n",
    "from collections import Counter\n",
    "from itertools import chain\n",
    "\n",
    "import tensorflow as tf\n",
    "# import tensorflow_addons as tfa # TODO: find ready to use seq2seq modules here\n",
    "from tensorflow.keras import layers\n",
    "from tensorboard.plugins.hparams import api as hp\n",
    "from tensorflow.keras.preprocessing.sequence import pad_sequences\n",
    "from tensorflow.keras.utils import to_categorical\n",
    "\n",
    "tqdm.pandas()"
   ]
  },
  {
   "cell_type": "markdown",
   "metadata": {},
   "source": [
    "- [ ] Add a start and end token to each sentence.\n",
    "- [ ] Create a token index and reverse token index (dictionaries mapping from token → id and id → token).\n",
    "- [ ] Pad each sequence to a maximum length."
   ]
  },
  {
   "cell_type": "code",
   "execution_count": 2,
   "metadata": {},
   "outputs": [],
   "source": [
    "data_path = '../data/method-names-rich/elasticsearch.csv'"
   ]
  },
  {
   "cell_type": "code",
   "execution_count": 3,
   "metadata": {},
   "outputs": [
    {
     "data": {
      "text/html": [
       "<div>\n",
       "<style scoped>\n",
       "    .dataframe tbody tr th:only-of-type {\n",
       "        vertical-align: middle;\n",
       "    }\n",
       "\n",
       "    .dataframe tbody tr th {\n",
       "        vertical-align: top;\n",
       "    }\n",
       "\n",
       "    .dataframe thead th {\n",
       "        text-align: right;\n",
       "    }\n",
       "</style>\n",
       "<table border=\"1\" class=\"dataframe\">\n",
       "  <thead>\n",
       "    <tr style=\"text-align: right;\">\n",
       "      <th></th>\n",
       "      <th>file_name</th>\n",
       "      <th>class_name</th>\n",
       "      <th>method_name</th>\n",
       "      <th>return_type</th>\n",
       "      <th>arguments</th>\n",
       "      <th>body</th>\n",
       "      <th>documentation</th>\n",
       "      <th>modifiers</th>\n",
       "      <th>annotations</th>\n",
       "    </tr>\n",
       "  </thead>\n",
       "  <tbody>\n",
       "    <tr>\n",
       "      <th>0</th>\n",
       "      <td>data/repos/elasticsearch-master/buildSrc/src/t...</td>\n",
       "      <td>RestTestFromSnippetsTaskTests</td>\n",
       "      <td>testInvalidBlockQuote</td>\n",
       "      <td>void</td>\n",
       "      <td>[]</td>\n",
       "      <td>{ String input = \"\\\"foo\\\": \\\"\\\"\\\"bar\\\"\"; expec...</td>\n",
       "      <td>None</td>\n",
       "      <td>['public']</td>\n",
       "      <td>[]</td>\n",
       "    </tr>\n",
       "    <tr>\n",
       "      <th>1</th>\n",
       "      <td>data/repos/elasticsearch-master/buildSrc/src/t...</td>\n",
       "      <td>RestTestFromSnippetsTaskTests</td>\n",
       "      <td>testSimpleBlockQuote</td>\n",
       "      <td>void</td>\n",
       "      <td>[]</td>\n",
       "      <td>{ assertEquals(\"\\\"foo\\\": \\\"bort baz\\\"\", replac...</td>\n",
       "      <td>None</td>\n",
       "      <td>['public']</td>\n",
       "      <td>[]</td>\n",
       "    </tr>\n",
       "    <tr>\n",
       "      <th>2</th>\n",
       "      <td>data/repos/elasticsearch-master/buildSrc/src/t...</td>\n",
       "      <td>RestTestFromSnippetsTaskTests</td>\n",
       "      <td>testMultipleBlockQuotes</td>\n",
       "      <td>void</td>\n",
       "      <td>[]</td>\n",
       "      <td>{ assertEquals( \"\\\"foo\\\": \\\"bort baz\\\", \\\"bar\\...</td>\n",
       "      <td>None</td>\n",
       "      <td>['public']</td>\n",
       "      <td>[]</td>\n",
       "    </tr>\n",
       "    <tr>\n",
       "      <th>3</th>\n",
       "      <td>data/repos/elasticsearch-master/buildSrc/src/t...</td>\n",
       "      <td>RestTestFromSnippetsTaskTests</td>\n",
       "      <td>testEscapingInBlockQuote</td>\n",
       "      <td>void</td>\n",
       "      <td>[]</td>\n",
       "      <td>{ assertEquals(\"\\\"foo\\\": \\\"bort\\\\\\\" baz\\\"\", re...</td>\n",
       "      <td>None</td>\n",
       "      <td>['public']</td>\n",
       "      <td>[]</td>\n",
       "    </tr>\n",
       "    <tr>\n",
       "      <th>4</th>\n",
       "      <td>data/repos/elasticsearch-master/buildSrc/src/t...</td>\n",
       "      <td>RestTestFromSnippetsTaskTests</td>\n",
       "      <td>testIsDocWriteRequest</td>\n",
       "      <td>void</td>\n",
       "      <td>[]</td>\n",
       "      <td>{ assertTrue((boolean) RestTestsFromSnippetsTa...</td>\n",
       "      <td>None</td>\n",
       "      <td>['public']</td>\n",
       "      <td>[]</td>\n",
       "    </tr>\n",
       "  </tbody>\n",
       "</table>\n",
       "</div>"
      ],
      "text/plain": [
       "                                           file_name  \\\n",
       "0  data/repos/elasticsearch-master/buildSrc/src/t...   \n",
       "1  data/repos/elasticsearch-master/buildSrc/src/t...   \n",
       "2  data/repos/elasticsearch-master/buildSrc/src/t...   \n",
       "3  data/repos/elasticsearch-master/buildSrc/src/t...   \n",
       "4  data/repos/elasticsearch-master/buildSrc/src/t...   \n",
       "\n",
       "                      class_name               method_name return_type  \\\n",
       "0  RestTestFromSnippetsTaskTests     testInvalidBlockQuote        void   \n",
       "1  RestTestFromSnippetsTaskTests      testSimpleBlockQuote        void   \n",
       "2  RestTestFromSnippetsTaskTests   testMultipleBlockQuotes        void   \n",
       "3  RestTestFromSnippetsTaskTests  testEscapingInBlockQuote        void   \n",
       "4  RestTestFromSnippetsTaskTests     testIsDocWriteRequest        void   \n",
       "\n",
       "  arguments                                               body documentation  \\\n",
       "0        []  { String input = \"\\\"foo\\\": \\\"\\\"\\\"bar\\\"\"; expec...          None   \n",
       "1        []  { assertEquals(\"\\\"foo\\\": \\\"bort baz\\\"\", replac...          None   \n",
       "2        []  { assertEquals( \"\\\"foo\\\": \\\"bort baz\\\", \\\"bar\\...          None   \n",
       "3        []  { assertEquals(\"\\\"foo\\\": \\\"bort\\\\\\\" baz\\\"\", re...          None   \n",
       "4        []  { assertTrue((boolean) RestTestsFromSnippetsTa...          None   \n",
       "\n",
       "    modifiers annotations  \n",
       "0  ['public']          []  \n",
       "1  ['public']          []  \n",
       "2  ['public']          []  \n",
       "3  ['public']          []  \n",
       "4  ['public']          []  "
      ]
     },
     "execution_count": 3,
     "metadata": {},
     "output_type": "execute_result"
    }
   ],
   "source": [
    "df = pd.read_csv(data_path).dropna()\n",
    "df.head()"
   ]
  },
  {
   "cell_type": "code",
   "execution_count": 4,
   "metadata": {},
   "outputs": [
    {
     "name": "stdout",
     "output_type": "stream",
     "text": [
      "['transform', 'search', 'response']\n",
      "['modify', 'search', 'response', 'data']\n"
     ]
    }
   ],
   "source": [
    "def split_camel_case(str):\n",
    "    words = [[str[0]]]\n",
    "  \n",
    "    for c in str[1:]: \n",
    "        if words[-1][-1].islower() and c.isupper(): \n",
    "            words.append(list(c)) \n",
    "        else: \n",
    "            words[-1].append(c) \n",
    "  \n",
    "    return [''.join(word).lower() for word in words]\n",
    "\n",
    "print(split_camel_case('transformSearchResponse'))\n",
    "print(split_camel_case('modifySearchResponseData'))"
   ]
  },
  {
   "cell_type": "code",
   "execution_count": 5,
   "metadata": {},
   "outputs": [
    {
     "data": {
      "text/plain": [
       "{'precision': 0.5, 'recall': 0.6666666666666666, 'f1': 0.5714285714285715}"
      ]
     },
     "execution_count": 5,
     "metadata": {},
     "output_type": "execute_result"
    }
   ],
   "source": [
    "# TODO: use a smarter identifier splitter\n",
    "def get_subtokens(token):\n",
    "    return split_camel_case(token)\n",
    "\n",
    "def compute_loss(target_token, predicted_token):\n",
    "    target_subtokens = get_subtokens(target_token) # a.k.a required subtokens\n",
    "    predicted_subtokens = get_subtokens(predicted_token)\n",
    "    overlapping = Counter(target_subtokens) & Counter(predicted_subtokens)\n",
    "    overlapping_count = sum(overlapping.values())\n",
    "    \n",
    "    precision = 1.0 * overlapping_count / len(predicted_subtokens)\n",
    "    recall = 1.0 * overlapping_count / len(target_subtokens)\n",
    "    f1 = (2.0 * precision * recall) / (precision + recall)\n",
    "    \n",
    "    return { 'precision': precision, 'recall': recall, 'f1': f1 }\n",
    "\n",
    "compute_loss('transformSearchResponse', 'modifySearchResponseData')"
   ]
  },
  {
   "cell_type": "code",
   "execution_count": 6,
   "metadata": {},
   "outputs": [
    {
     "data": {
      "application/vnd.jupyter.widget-view+json": {
       "model_id": "7aecfa8ee5864ec0925329f0de10d92e",
       "version_major": 2,
       "version_minor": 0
      },
      "text/plain": [
       "HBox(children=(FloatProgress(value=0.0, max=100377.0), HTML(value='')))"
      ]
     },
     "metadata": {},
     "output_type": "display_data"
    },
    {
     "name": "stdout",
     "output_type": "stream",
     "text": [
      "invalid_body_count = 1000\n",
      "invalid_body_count = 2000\n",
      "invalid_body_count = 3000\n",
      "invalid_body_count = 4000\n",
      "invalid_body_count = 5000\n",
      "invalid_body_count = 6000\n",
      "invalid_body_count = 7000\n",
      "invalid_body_count = 8000\n",
      "invalid_body_count = 9000\n",
      "invalid_body_count = 10000\n",
      "invalid_body_count = 11000\n",
      "invalid_body_count = 12000\n",
      "\n"
     ]
    },
    {
     "data": {
      "text/plain": [
       "0                               {\n",
       "1                          String\n",
       "2                           input\n",
       "3                               =\n",
       "4          \"\\\"foo\\\": \\\"\\\"\\\"bar\\\"\"\n",
       "                    ...          \n",
       "5695258                 remaining\n",
       "5695259                         )\n",
       "5695260                         ;\n",
       "5695261                         }\n",
       "5695262                         }\n",
       "Length: 5695263, dtype: object"
      ]
     },
     "execution_count": 6,
     "metadata": {},
     "output_type": "execute_result"
    }
   ],
   "source": [
    "# define input vocabulary\n",
    "\n",
    "# TODO: investigate why source code body is not tokenized by javalang\n",
    "invalid_body_count = 0\n",
    "\n",
    "def tokenize_method_body(code):\n",
    "    global invalid_body_count\n",
    "    \n",
    "    try:\n",
    "        return list(map(lambda token: token.value, javalang.tokenizer.tokenize(code)))\n",
    "    except Exception as e:\n",
    "        invalid_body_count += 1\n",
    "        if invalid_body_count % 1000 == 0:\n",
    "            print(f'invalid_body_count = {invalid_body_count}')\n",
    "        return []\n",
    "\n",
    "repeating_body_tokens = pd.Series(chain.from_iterable(\n",
    "    df.body \\\n",
    "        .progress_apply(tokenize_method_body) \\\n",
    "        .values\n",
    "))\n",
    "repeating_body_tokens"
   ]
  },
  {
   "cell_type": "code",
   "execution_count": 7,
   "metadata": {},
   "outputs": [
    {
     "data": {
      "text/html": [
       "<div>\n",
       "<style scoped>\n",
       "    .dataframe tbody tr th:only-of-type {\n",
       "        vertical-align: middle;\n",
       "    }\n",
       "\n",
       "    .dataframe tbody tr th {\n",
       "        vertical-align: top;\n",
       "    }\n",
       "\n",
       "    .dataframe thead th {\n",
       "        text-align: right;\n",
       "    }\n",
       "</style>\n",
       "<table border=\"1\" class=\"dataframe\">\n",
       "  <thead>\n",
       "    <tr style=\"text-align: right;\">\n",
       "      <th></th>\n",
       "      <th>token</th>\n",
       "      <th>count</th>\n",
       "    </tr>\n",
       "  </thead>\n",
       "  <tbody>\n",
       "    <tr>\n",
       "      <th>0</th>\n",
       "      <td>)</td>\n",
       "      <td>762858</td>\n",
       "    </tr>\n",
       "    <tr>\n",
       "      <th>1</th>\n",
       "      <td>(</td>\n",
       "      <td>760010</td>\n",
       "    </tr>\n",
       "    <tr>\n",
       "      <th>2</th>\n",
       "      <td>.</td>\n",
       "      <td>506052</td>\n",
       "    </tr>\n",
       "    <tr>\n",
       "      <th>3</th>\n",
       "      <td>;</td>\n",
       "      <td>369714</td>\n",
       "    </tr>\n",
       "    <tr>\n",
       "      <th>4</th>\n",
       "      <td>,</td>\n",
       "      <td>298505</td>\n",
       "    </tr>\n",
       "    <tr>\n",
       "      <th>5</th>\n",
       "      <td>{</td>\n",
       "      <td>159308</td>\n",
       "    </tr>\n",
       "    <tr>\n",
       "      <th>6</th>\n",
       "      <td>}</td>\n",
       "      <td>155349</td>\n",
       "    </tr>\n",
       "    <tr>\n",
       "      <th>7</th>\n",
       "      <td>=</td>\n",
       "      <td>120223</td>\n",
       "    </tr>\n",
       "    <tr>\n",
       "      <th>8</th>\n",
       "      <td>new</td>\n",
       "      <td>71574</td>\n",
       "    </tr>\n",
       "    <tr>\n",
       "      <th>9</th>\n",
       "      <td>return</td>\n",
       "      <td>68737</td>\n",
       "    </tr>\n",
       "    <tr>\n",
       "      <th>10</th>\n",
       "      <td>+</td>\n",
       "      <td>37062</td>\n",
       "    </tr>\n",
       "    <tr>\n",
       "      <th>11</th>\n",
       "      <td>&lt;</td>\n",
       "      <td>35402</td>\n",
       "    </tr>\n",
       "    <tr>\n",
       "      <th>12</th>\n",
       "      <td>&gt;</td>\n",
       "      <td>32438</td>\n",
       "    </tr>\n",
       "    <tr>\n",
       "      <th>13</th>\n",
       "      <td>assertThat</td>\n",
       "      <td>31854</td>\n",
       "    </tr>\n",
       "    <tr>\n",
       "      <th>14</th>\n",
       "      <td>if</td>\n",
       "      <td>30366</td>\n",
       "    </tr>\n",
       "    <tr>\n",
       "      <th>15</th>\n",
       "      <td>null</td>\n",
       "      <td>28721</td>\n",
       "    </tr>\n",
       "    <tr>\n",
       "      <th>16</th>\n",
       "      <td>builder</td>\n",
       "      <td>25324</td>\n",
       "    </tr>\n",
       "    <tr>\n",
       "      <th>17</th>\n",
       "      <td>String</td>\n",
       "      <td>25052</td>\n",
       "    </tr>\n",
       "    <tr>\n",
       "      <th>18</th>\n",
       "      <td>0</td>\n",
       "      <td>23767</td>\n",
       "    </tr>\n",
       "    <tr>\n",
       "      <th>19</th>\n",
       "      <td>get</td>\n",
       "      <td>19741</td>\n",
       "    </tr>\n",
       "    <tr>\n",
       "      <th>20</th>\n",
       "      <td>assertEquals</td>\n",
       "      <td>19091</td>\n",
       "    </tr>\n",
       "    <tr>\n",
       "      <th>21</th>\n",
       "      <td>final</td>\n",
       "      <td>18711</td>\n",
       "    </tr>\n",
       "    <tr>\n",
       "      <th>22</th>\n",
       "      <td>1</td>\n",
       "      <td>18285</td>\n",
       "    </tr>\n",
       "    <tr>\n",
       "      <th>23</th>\n",
       "      <td>equalTo</td>\n",
       "      <td>17336</td>\n",
       "    </tr>\n",
       "    <tr>\n",
       "      <th>24</th>\n",
       "      <td>this</td>\n",
       "      <td>16421</td>\n",
       "    </tr>\n",
       "    <tr>\n",
       "      <th>25</th>\n",
       "      <td>i</td>\n",
       "      <td>15590</td>\n",
       "    </tr>\n",
       "    <tr>\n",
       "      <th>26</th>\n",
       "      <td>==</td>\n",
       "      <td>15444</td>\n",
       "    </tr>\n",
       "    <tr>\n",
       "      <th>27</th>\n",
       "      <td>-&gt;</td>\n",
       "      <td>15338</td>\n",
       "    </tr>\n",
       "    <tr>\n",
       "      <th>28</th>\n",
       "      <td>class</td>\n",
       "      <td>14901</td>\n",
       "    </tr>\n",
       "    <tr>\n",
       "      <th>29</th>\n",
       "      <td>false</td>\n",
       "      <td>13742</td>\n",
       "    </tr>\n",
       "  </tbody>\n",
       "</table>\n",
       "</div>"
      ],
      "text/plain": [
       "           token   count\n",
       "0              )  762858\n",
       "1              (  760010\n",
       "2              .  506052\n",
       "3              ;  369714\n",
       "4              ,  298505\n",
       "5              {  159308\n",
       "6              }  155349\n",
       "7              =  120223\n",
       "8            new   71574\n",
       "9         return   68737\n",
       "10             +   37062\n",
       "11             <   35402\n",
       "12             >   32438\n",
       "13    assertThat   31854\n",
       "14            if   30366\n",
       "15          null   28721\n",
       "16       builder   25324\n",
       "17        String   25052\n",
       "18             0   23767\n",
       "19           get   19741\n",
       "20  assertEquals   19091\n",
       "21         final   18711\n",
       "22             1   18285\n",
       "23       equalTo   17336\n",
       "24          this   16421\n",
       "25             i   15590\n",
       "26            ==   15444\n",
       "27            ->   15338\n",
       "28         class   14901\n",
       "29         false   13742"
      ]
     },
     "execution_count": 7,
     "metadata": {},
     "output_type": "execute_result"
    }
   ],
   "source": [
    "unique_body_tokens = pd.DataFrame.from_dict(Counter(repeating_body_tokens.values), orient='index') \\\n",
    "    .sort_values(by=0, ascending=False) \\\n",
    "    .reset_index().rename(columns={'index': 'token', 0: 'count'})\n",
    "\n",
    "unique_body_tokens.head(30)"
   ]
  },
  {
   "cell_type": "code",
   "execution_count": 8,
   "metadata": {},
   "outputs": [
    {
     "data": {
      "text/plain": [
       "66451"
      ]
     },
     "execution_count": 8,
     "metadata": {},
     "output_type": "execute_result"
    }
   ],
   "source": [
    "len(unique_body_tokens[unique_body_tokens['count'] >= 2])"
   ]
  },
  {
   "cell_type": "code",
   "execution_count": 9,
   "metadata": {},
   "outputs": [
    {
     "data": {
      "text/plain": [
       "<matplotlib.axes._subplots.AxesSubplot at 0x7fa1faf6d160>"
      ]
     },
     "execution_count": 9,
     "metadata": {},
     "output_type": "execute_result"
    },
    {
     "data": {
      "image/png": "[encoded data removed]",
      "text/plain": [
       "<Figure size 432x288 with 1 Axes>"
      ]
     },
     "metadata": {
      "needs_background": "light"
     },
     "output_type": "display_data"
    }
   ],
   "source": [
    "unique_body_tokens[unique_body_tokens['count'] < 10].plot()"
   ]
  },
  {
   "cell_type": "code",
   "execution_count": 10,
   "metadata": {},
   "outputs": [
    {
     "data": {
      "text/html": [
       "<div>\n",
       "<style scoped>\n",
       "    .dataframe tbody tr th:only-of-type {\n",
       "        vertical-align: middle;\n",
       "    }\n",
       "\n",
       "    .dataframe tbody tr th {\n",
       "        vertical-align: top;\n",
       "    }\n",
       "\n",
       "    .dataframe thead th {\n",
       "        text-align: right;\n",
       "    }\n",
       "</style>\n",
       "<table border=\"1\" class=\"dataframe\">\n",
       "  <thead>\n",
       "    <tr style=\"text-align: right;\">\n",
       "      <th></th>\n",
       "      <th>token</th>\n",
       "      <th>count</th>\n",
       "    </tr>\n",
       "  </thead>\n",
       "  <tbody>\n",
       "    <tr>\n",
       "      <th>111045</th>\n",
       "      <td>\"Number o = Integer.valueOf(0); char b = o;\"</td>\n",
       "      <td>1</td>\n",
       "    </tr>\n",
       "    <tr>\n",
       "      <th>91845</th>\n",
       "      <td>EXPECTED_EXIT_CODES</td>\n",
       "      <td>1</td>\n",
       "    </tr>\n",
       "    <tr>\n",
       "      <th>82402</th>\n",
       "      <td>addPipelineMetrics</td>\n",
       "      <td>1</td>\n",
       "    </tr>\n",
       "    <tr>\n",
       "      <th>69709</th>\n",
       "      <td>keyMarker</td>\n",
       "      <td>1</td>\n",
       "    </tr>\n",
       "    <tr>\n",
       "      <th>91781</th>\n",
       "      <td>\"uFZyTyOMRO\"</td>\n",
       "      <td>1</td>\n",
       "    </tr>\n",
       "    <tr>\n",
       "      <th>84094</th>\n",
       "      <td>\"_alias_id\"</td>\n",
       "      <td>1</td>\n",
       "    </tr>\n",
       "    <tr>\n",
       "      <th>96389</th>\n",
       "      <td>\"fname5\"</td>\n",
       "      <td>1</td>\n",
       "    </tr>\n",
       "    <tr>\n",
       "      <th>98752</th>\n",
       "      <td>\"def x = false; boolean y = false; return x == y\"</td>\n",
       "      <td>1</td>\n",
       "    </tr>\n",
       "    <tr>\n",
       "      <th>86482</th>\n",
       "      <td>MISSING_TIME</td>\n",
       "      <td>1</td>\n",
       "    </tr>\n",
       "    <tr>\n",
       "      <th>96831</th>\n",
       "      <td>\"the_terms&gt;the_sum\"</td>\n",
       "      <td>1</td>\n",
       "    </tr>\n",
       "  </tbody>\n",
       "</table>\n",
       "</div>"
      ],
      "text/plain": [
       "                                                    token  count\n",
       "111045       \"Number o = Integer.valueOf(0); char b = o;\"      1\n",
       "91845                                 EXPECTED_EXIT_CODES      1\n",
       "82402                                  addPipelineMetrics      1\n",
       "69709                                           keyMarker      1\n",
       "91781                                        \"uFZyTyOMRO\"      1\n",
       "84094                                         \"_alias_id\"      1\n",
       "96389                                            \"fname5\"      1\n",
       "98752   \"def x = false; boolean y = false; return x == y\"      1\n",
       "86482                                        MISSING_TIME      1\n",
       "96831                                 \"the_terms>the_sum\"      1"
      ]
     },
     "execution_count": 10,
     "metadata": {},
     "output_type": "execute_result"
    }
   ],
   "source": [
    "unique_body_tokens[unique_body_tokens['count'] == 1].sample(10)"
   ]
  },
  {
   "cell_type": "code",
   "execution_count": 11,
   "metadata": {},
   "outputs": [
    {
     "data": {
      "text/plain": [
       "[Text(0, 0.5, 'Subtoken frequency'),\n",
       " Text(0.5, 0, 'Rank by frequency count'),\n",
       " Text(0.5, 1.0, 'Distribution of subtoken frequency')]"
      ]
     },
     "execution_count": 11,
     "metadata": {},
     "output_type": "execute_result"
    },
    {
     "data": {
      "image/png": "[encoded data removed]",
      "text/plain": [
       "<Figure size 504x504 with 1 Axes>"
      ]
     },
     "metadata": {
      "needs_background": "light"
     },
     "output_type": "display_data"
    }
   ],
   "source": [
    "# index by position in the list which is sorted by frequency\n",
    "ax = unique_body_tokens[unique_body_tokens['count'] > 10] \\\n",
    "    .plot(loglog=True, figsize=(7, 7))\n",
    "ax.set(title='Distribution of subtoken frequency', xlabel='Rank by frequency count', ylabel='Subtoken frequency')"
   ]
  },
  {
   "cell_type": "code",
   "execution_count": 12,
   "metadata": {},
   "outputs": [],
   "source": [
    "# # yes, the pandas groupby interface is THIS stupid :) ...\n",
    "# unique_body_tokens = repeating_body_tokens \\\n",
    "#     .groupby(lambda index: repeating_body_tokens[index]).count()\n",
    "\n",
    "# unique_body_tokens.head(30)"
   ]
  },
  {
   "cell_type": "code",
   "execution_count": 13,
   "metadata": {},
   "outputs": [
    {
     "data": {
      "application/vnd.jupyter.widget-view+json": {
       "model_id": "bee773b58dc445ef8303c22990bd53b3",
       "version_major": 2,
       "version_minor": 0
      },
      "text/plain": [
       "HBox(children=(FloatProgress(value=0.0, max=100377.0), HTML(value='')))"
      ]
     },
     "metadata": {},
     "output_type": "display_data"
    },
    {
     "name": "stdout",
     "output_type": "stream",
     "text": [
      "\n"
     ]
    },
    {
     "data": {
      "text/plain": [
       "test        23812\n",
       "get         14262\n",
       "to           6460\n",
       "set          4309\n",
       "create       4088\n",
       "with         3258\n",
       "xcontent     3092\n",
       "index        2840\n",
       "field        2641\n",
       "write        2493\n",
       "instance     2477\n",
       "name         2320\n",
       "do           2317\n",
       "is           2272\n",
       "equals       2241\n",
       "from         2230\n",
       "hash         2171\n",
       "code         2109\n",
       "parse        2093\n",
       "string       2021\n",
       "query        1876\n",
       "type         1747\n",
       "and          1583\n",
       "assert       1549\n",
       "on           1520\n",
       "random       1512\n",
       "request      1504\n",
       "value        1498\n",
       "node         1418\n",
       "add          1362\n",
       "dtype: int64"
      ]
     },
     "execution_count": 13,
     "metadata": {},
     "output_type": "execute_result"
    }
   ],
   "source": [
    "# define output vocabulary\n",
    "\n",
    "repeating_method_subtokens = pd.Series(chain.from_iterable(df.method_name.progress_apply(get_subtokens).values))\n",
    "\n",
    "# yes, the pandas groupby interface is THIS stupid :) ...\n",
    "unique_method_subtokens = repeating_method_subtokens \\\n",
    "    .groupby(lambda index: repeating_method_subtokens[index]).count() \\\n",
    "    .sort_values(ascending=False)\n",
    "\n",
    "unique_method_subtokens.head(30)"
   ]
  },
  {
   "cell_type": "code",
   "execution_count": 14,
   "metadata": {},
   "outputs": [
    {
     "data": {
      "text/plain": [
       "[Text(0, 0.5, 'Subtoken frequency'),\n",
       " Text(0.5, 0, 'Rank by frequency count'),\n",
       " Text(0.5, 1.0, 'Distribution of subtoken frequency')]"
      ]
     },
     "execution_count": 14,
     "metadata": {},
     "output_type": "execute_result"
    },
    {
     "data": {
      "image/png": "[encoded data removed]",
      "text/plain": [
       "<Figure size 504x504 with 1 Axes>"
      ]
     },
     "metadata": {
      "needs_background": "light"
     },
     "output_type": "display_data"
    }
   ],
   "source": [
    "# index by position in the list which is sorted by frequency\n",
    "ax = unique_method_subtokens \\\n",
    "    .sort_values(ascending=False).reset_index().rename(columns={0: 'subtoken occurrence count'}) \\\n",
    "    .plot(loglog=True, figsize=(7, 7))\n",
    "ax.set(title='Distribution of subtoken frequency', xlabel='Rank by frequency count', ylabel='Subtoken frequency')"
   ]
  },
  {
   "cell_type": "code",
   "execution_count": 15,
   "metadata": {},
   "outputs": [
    {
     "data": {
      "text/plain": [
       "6504"
      ]
     },
     "execution_count": 15,
     "metadata": {},
     "output_type": "execute_result"
    }
   ],
   "source": [
    "len(unique_method_subtokens)"
   ]
  },
  {
   "cell_type": "code",
   "execution_count": 16,
   "metadata": {},
   "outputs": [
    {
     "data": {
      "text/html": [
       "<div>\n",
       "<style scoped>\n",
       "    .dataframe tbody tr th:only-of-type {\n",
       "        vertical-align: middle;\n",
       "    }\n",
       "\n",
       "    .dataframe tbody tr th {\n",
       "        vertical-align: top;\n",
       "    }\n",
       "\n",
       "    .dataframe thead th {\n",
       "        text-align: right;\n",
       "    }\n",
       "</style>\n",
       "<table border=\"1\" class=\"dataframe\">\n",
       "  <thead>\n",
       "    <tr style=\"text-align: right;\">\n",
       "      <th></th>\n",
       "      <th>token</th>\n",
       "      <th>count</th>\n",
       "    </tr>\n",
       "  </thead>\n",
       "  <tbody>\n",
       "    <tr>\n",
       "      <th>0</th>\n",
       "      <td>test</td>\n",
       "      <td>23812</td>\n",
       "    </tr>\n",
       "    <tr>\n",
       "      <th>1</th>\n",
       "      <td>get</td>\n",
       "      <td>14262</td>\n",
       "    </tr>\n",
       "    <tr>\n",
       "      <th>2</th>\n",
       "      <td>to</td>\n",
       "      <td>6460</td>\n",
       "    </tr>\n",
       "    <tr>\n",
       "      <th>3</th>\n",
       "      <td>set</td>\n",
       "      <td>4309</td>\n",
       "    </tr>\n",
       "    <tr>\n",
       "      <th>4</th>\n",
       "      <td>create</td>\n",
       "      <td>4088</td>\n",
       "    </tr>\n",
       "    <tr>\n",
       "      <th>5</th>\n",
       "      <td>with</td>\n",
       "      <td>3258</td>\n",
       "    </tr>\n",
       "    <tr>\n",
       "      <th>6</th>\n",
       "      <td>xcontent</td>\n",
       "      <td>3092</td>\n",
       "    </tr>\n",
       "    <tr>\n",
       "      <th>7</th>\n",
       "      <td>index</td>\n",
       "      <td>2840</td>\n",
       "    </tr>\n",
       "    <tr>\n",
       "      <th>8</th>\n",
       "      <td>field</td>\n",
       "      <td>2641</td>\n",
       "    </tr>\n",
       "    <tr>\n",
       "      <th>9</th>\n",
       "      <td>write</td>\n",
       "      <td>2493</td>\n",
       "    </tr>\n",
       "    <tr>\n",
       "      <th>10</th>\n",
       "      <td>instance</td>\n",
       "      <td>2477</td>\n",
       "    </tr>\n",
       "    <tr>\n",
       "      <th>11</th>\n",
       "      <td>name</td>\n",
       "      <td>2320</td>\n",
       "    </tr>\n",
       "    <tr>\n",
       "      <th>12</th>\n",
       "      <td>do</td>\n",
       "      <td>2317</td>\n",
       "    </tr>\n",
       "    <tr>\n",
       "      <th>13</th>\n",
       "      <td>is</td>\n",
       "      <td>2272</td>\n",
       "    </tr>\n",
       "    <tr>\n",
       "      <th>14</th>\n",
       "      <td>equals</td>\n",
       "      <td>2241</td>\n",
       "    </tr>\n",
       "    <tr>\n",
       "      <th>15</th>\n",
       "      <td>from</td>\n",
       "      <td>2230</td>\n",
       "    </tr>\n",
       "    <tr>\n",
       "      <th>16</th>\n",
       "      <td>hash</td>\n",
       "      <td>2171</td>\n",
       "    </tr>\n",
       "    <tr>\n",
       "      <th>17</th>\n",
       "      <td>code</td>\n",
       "      <td>2109</td>\n",
       "    </tr>\n",
       "    <tr>\n",
       "      <th>18</th>\n",
       "      <td>parse</td>\n",
       "      <td>2093</td>\n",
       "    </tr>\n",
       "    <tr>\n",
       "      <th>19</th>\n",
       "      <td>string</td>\n",
       "      <td>2021</td>\n",
       "    </tr>\n",
       "    <tr>\n",
       "      <th>20</th>\n",
       "      <td>query</td>\n",
       "      <td>1876</td>\n",
       "    </tr>\n",
       "    <tr>\n",
       "      <th>21</th>\n",
       "      <td>type</td>\n",
       "      <td>1747</td>\n",
       "    </tr>\n",
       "    <tr>\n",
       "      <th>22</th>\n",
       "      <td>and</td>\n",
       "      <td>1583</td>\n",
       "    </tr>\n",
       "    <tr>\n",
       "      <th>23</th>\n",
       "      <td>assert</td>\n",
       "      <td>1549</td>\n",
       "    </tr>\n",
       "    <tr>\n",
       "      <th>24</th>\n",
       "      <td>on</td>\n",
       "      <td>1520</td>\n",
       "    </tr>\n",
       "    <tr>\n",
       "      <th>25</th>\n",
       "      <td>random</td>\n",
       "      <td>1512</td>\n",
       "    </tr>\n",
       "    <tr>\n",
       "      <th>26</th>\n",
       "      <td>request</td>\n",
       "      <td>1504</td>\n",
       "    </tr>\n",
       "    <tr>\n",
       "      <th>27</th>\n",
       "      <td>value</td>\n",
       "      <td>1498</td>\n",
       "    </tr>\n",
       "    <tr>\n",
       "      <th>28</th>\n",
       "      <td>node</td>\n",
       "      <td>1418</td>\n",
       "    </tr>\n",
       "    <tr>\n",
       "      <th>29</th>\n",
       "      <td>add</td>\n",
       "      <td>1362</td>\n",
       "    </tr>\n",
       "  </tbody>\n",
       "</table>\n",
       "</div>"
      ],
      "text/plain": [
       "       token  count\n",
       "0       test  23812\n",
       "1        get  14262\n",
       "2         to   6460\n",
       "3        set   4309\n",
       "4     create   4088\n",
       "5       with   3258\n",
       "6   xcontent   3092\n",
       "7      index   2840\n",
       "8      field   2641\n",
       "9      write   2493\n",
       "10  instance   2477\n",
       "11      name   2320\n",
       "12        do   2317\n",
       "13        is   2272\n",
       "14    equals   2241\n",
       "15      from   2230\n",
       "16      hash   2171\n",
       "17      code   2109\n",
       "18     parse   2093\n",
       "19    string   2021\n",
       "20     query   1876\n",
       "21      type   1747\n",
       "22       and   1583\n",
       "23    assert   1549\n",
       "24        on   1520\n",
       "25    random   1512\n",
       "26   request   1504\n",
       "27     value   1498\n",
       "28      node   1418\n",
       "29       add   1362"
      ]
     },
     "execution_count": 16,
     "metadata": {},
     "output_type": "execute_result"
    }
   ],
   "source": [
    "df_unique_method_name_subtokens = pd.DataFrame.from_dict(Counter(repeating_method_subtokens.values), orient='index') \\\n",
    "    .sort_values(by=0, ascending=False) \\\n",
    "    .reset_index().rename(columns={'index': 'token', 0: 'count'})\n",
    "\n",
    "df_unique_method_name_subtokens.head(30)"
   ]
  },
  {
   "cell_type": "code",
   "execution_count": 17,
   "metadata": {},
   "outputs": [
    {
     "data": {
      "text/html": [
       "<div>\n",
       "<style scoped>\n",
       "    .dataframe tbody tr th:only-of-type {\n",
       "        vertical-align: middle;\n",
       "    }\n",
       "\n",
       "    .dataframe tbody tr th {\n",
       "        vertical-align: top;\n",
       "    }\n",
       "\n",
       "    .dataframe thead th {\n",
       "        text-align: right;\n",
       "    }\n",
       "</style>\n",
       "<table border=\"1\" class=\"dataframe\">\n",
       "  <thead>\n",
       "    <tr style=\"text-align: right;\">\n",
       "      <th></th>\n",
       "      <th>token</th>\n",
       "      <th>count</th>\n",
       "    </tr>\n",
       "  </thead>\n",
       "  <tbody>\n",
       "    <tr>\n",
       "      <th>6468</th>\n",
       "      <td>controls</td>\n",
       "      <td>1</td>\n",
       "    </tr>\n",
       "    <tr>\n",
       "      <th>5612</th>\n",
       "      <td>collection_collect</td>\n",
       "      <td>1</td>\n",
       "    </tr>\n",
       "    <tr>\n",
       "      <th>5913</th>\n",
       "      <td>ls</td>\n",
       "      <td>1</td>\n",
       "    </tr>\n",
       "    <tr>\n",
       "      <th>6380</th>\n",
       "      <td>ipv4range</td>\n",
       "      <td>1</td>\n",
       "    </tr>\n",
       "    <tr>\n",
       "      <th>5729</th>\n",
       "      <td>string_field</td>\n",
       "      <td>1</td>\n",
       "    </tr>\n",
       "    <tr>\n",
       "      <th>5899</th>\n",
       "      <td>test120docker</td>\n",
       "      <td>1</td>\n",
       "    </tr>\n",
       "    <tr>\n",
       "      <th>4549</th>\n",
       "      <td>brown</td>\n",
       "      <td>1</td>\n",
       "    </tr>\n",
       "    <tr>\n",
       "      <th>4438</th>\n",
       "      <td>field_get</td>\n",
       "      <td>1</td>\n",
       "    </tr>\n",
       "    <tr>\n",
       "      <th>4480</th>\n",
       "      <td>consensus</td>\n",
       "      <td>1</td>\n",
       "    </tr>\n",
       "    <tr>\n",
       "      <th>5793</th>\n",
       "      <td>groked</td>\n",
       "      <td>1</td>\n",
       "    </tr>\n",
       "  </tbody>\n",
       "</table>\n",
       "</div>"
      ],
      "text/plain": [
       "                   token  count\n",
       "6468            controls      1\n",
       "5612  collection_collect      1\n",
       "5913                  ls      1\n",
       "6380           ipv4range      1\n",
       "5729        string_field      1\n",
       "5899       test120docker      1\n",
       "4549               brown      1\n",
       "4438           field_get      1\n",
       "4480           consensus      1\n",
       "5793              groked      1"
      ]
     },
     "execution_count": 17,
     "metadata": {},
     "output_type": "execute_result"
    }
   ],
   "source": [
    "df_unique_method_name_subtokens[df_unique_method_name_subtokens['count'] == 1].sample(10)"
   ]
  },
  {
   "cell_type": "code",
   "execution_count": 18,
   "metadata": {},
   "outputs": [
    {
     "data": {
      "application/vnd.jupyter.widget-view+json": {
       "model_id": "ddc47acb8739413fbb9a1f7cb2420f77",
       "version_major": 2,
       "version_minor": 0
      },
      "text/plain": [
       "HBox(children=(FloatProgress(value=0.0, max=100377.0), HTML(value='')))"
      ]
     },
     "metadata": {},
     "output_type": "display_data"
    },
    {
     "name": "stdout",
     "output_type": "stream",
     "text": [
      "invalid_body_count = 13000\n",
      "invalid_body_count = 14000\n",
      "invalid_body_count = 15000\n",
      "invalid_body_count = 16000\n",
      "invalid_body_count = 17000\n",
      "invalid_body_count = 18000\n",
      "invalid_body_count = 19000\n",
      "invalid_body_count = 20000\n",
      "invalid_body_count = 21000\n",
      "invalid_body_count = 22000\n",
      "invalid_body_count = 23000\n",
      "invalid_body_count = 24000\n",
      "\n"
     ]
    },
    {
     "data": {
      "application/vnd.jupyter.widget-view+json": {
       "model_id": "da2a7e60abc948d8b904abb015a4c7c4",
       "version_major": 2,
       "version_minor": 0
      },
      "text/plain": [
       "HBox(children=(FloatProgress(value=0.0, max=100377.0), HTML(value='')))"
      ]
     },
     "metadata": {},
     "output_type": "display_data"
    },
    {
     "name": "stdout",
     "output_type": "stream",
     "text": [
      "\n"
     ]
    },
    {
     "data": {
      "text/html": [
       "<div>\n",
       "<style scoped>\n",
       "    .dataframe tbody tr th:only-of-type {\n",
       "        vertical-align: middle;\n",
       "    }\n",
       "\n",
       "    .dataframe tbody tr th {\n",
       "        vertical-align: top;\n",
       "    }\n",
       "\n",
       "    .dataframe thead th {\n",
       "        text-align: right;\n",
       "    }\n",
       "</style>\n",
       "<table border=\"1\" class=\"dataframe\">\n",
       "  <thead>\n",
       "    <tr style=\"text-align: right;\">\n",
       "      <th></th>\n",
       "      <th>file_name</th>\n",
       "      <th>class_name</th>\n",
       "      <th>method_name</th>\n",
       "      <th>return_type</th>\n",
       "      <th>arguments</th>\n",
       "      <th>body</th>\n",
       "      <th>documentation</th>\n",
       "      <th>modifiers</th>\n",
       "      <th>annotations</th>\n",
       "      <th>body_tokens</th>\n",
       "      <th>method_name_subtokens</th>\n",
       "    </tr>\n",
       "  </thead>\n",
       "  <tbody>\n",
       "    <tr>\n",
       "      <th>0</th>\n",
       "      <td>data/repos/elasticsearch-master/buildSrc/src/t...</td>\n",
       "      <td>RestTestFromSnippetsTaskTests</td>\n",
       "      <td>testInvalidBlockQuote</td>\n",
       "      <td>void</td>\n",
       "      <td>[]</td>\n",
       "      <td>{ String input = \"\\\"foo\\\": \\\"\\\"\\\"bar\\\"\"; expec...</td>\n",
       "      <td>None</td>\n",
       "      <td>['public']</td>\n",
       "      <td>[]</td>\n",
       "      <td>[{, String, input, =, \"\\\"foo\\\": \\\"\\\"\\\"bar\\\"\", ...</td>\n",
       "      <td>[test, invalid, block, quote]</td>\n",
       "    </tr>\n",
       "    <tr>\n",
       "      <th>1</th>\n",
       "      <td>data/repos/elasticsearch-master/buildSrc/src/t...</td>\n",
       "      <td>RestTestFromSnippetsTaskTests</td>\n",
       "      <td>testSimpleBlockQuote</td>\n",
       "      <td>void</td>\n",
       "      <td>[]</td>\n",
       "      <td>{ assertEquals(\"\\\"foo\\\": \\\"bort baz\\\"\", replac...</td>\n",
       "      <td>None</td>\n",
       "      <td>['public']</td>\n",
       "      <td>[]</td>\n",
       "      <td>[{, assertEquals, (, \"\\\"foo\\\": \\\"bort baz\\\"\", ...</td>\n",
       "      <td>[test, simple, block, quote]</td>\n",
       "    </tr>\n",
       "    <tr>\n",
       "      <th>2</th>\n",
       "      <td>data/repos/elasticsearch-master/buildSrc/src/t...</td>\n",
       "      <td>RestTestFromSnippetsTaskTests</td>\n",
       "      <td>testMultipleBlockQuotes</td>\n",
       "      <td>void</td>\n",
       "      <td>[]</td>\n",
       "      <td>{ assertEquals( \"\\\"foo\\\": \\\"bort baz\\\", \\\"bar\\...</td>\n",
       "      <td>None</td>\n",
       "      <td>['public']</td>\n",
       "      <td>[]</td>\n",
       "      <td>[{, assertEquals, (, \"\\\"foo\\\": \\\"bort baz\\\", \\...</td>\n",
       "      <td>[test, multiple, block, quotes]</td>\n",
       "    </tr>\n",
       "    <tr>\n",
       "      <th>3</th>\n",
       "      <td>data/repos/elasticsearch-master/buildSrc/src/t...</td>\n",
       "      <td>RestTestFromSnippetsTaskTests</td>\n",
       "      <td>testEscapingInBlockQuote</td>\n",
       "      <td>void</td>\n",
       "      <td>[]</td>\n",
       "      <td>{ assertEquals(\"\\\"foo\\\": \\\"bort\\\\\\\" baz\\\"\", re...</td>\n",
       "      <td>None</td>\n",
       "      <td>['public']</td>\n",
       "      <td>[]</td>\n",
       "      <td>[{, assertEquals, (, \"\\\"foo\\\": \\\"bort\\\\\\\" baz\\...</td>\n",
       "      <td>[test, escaping, in, block, quote]</td>\n",
       "    </tr>\n",
       "    <tr>\n",
       "      <th>4</th>\n",
       "      <td>data/repos/elasticsearch-master/buildSrc/src/t...</td>\n",
       "      <td>RestTestFromSnippetsTaskTests</td>\n",
       "      <td>testIsDocWriteRequest</td>\n",
       "      <td>void</td>\n",
       "      <td>[]</td>\n",
       "      <td>{ assertTrue((boolean) RestTestsFromSnippetsTa...</td>\n",
       "      <td>None</td>\n",
       "      <td>['public']</td>\n",
       "      <td>[]</td>\n",
       "      <td>[{, assertTrue, (, (, boolean, ), RestTestsFro...</td>\n",
       "      <td>[test, is, doc, write, request]</td>\n",
       "    </tr>\n",
       "  </tbody>\n",
       "</table>\n",
       "</div>"
      ],
      "text/plain": [
       "                                           file_name  \\\n",
       "0  data/repos/elasticsearch-master/buildSrc/src/t...   \n",
       "1  data/repos/elasticsearch-master/buildSrc/src/t...   \n",
       "2  data/repos/elasticsearch-master/buildSrc/src/t...   \n",
       "3  data/repos/elasticsearch-master/buildSrc/src/t...   \n",
       "4  data/repos/elasticsearch-master/buildSrc/src/t...   \n",
       "\n",
       "                      class_name               method_name return_type  \\\n",
       "0  RestTestFromSnippetsTaskTests     testInvalidBlockQuote        void   \n",
       "1  RestTestFromSnippetsTaskTests      testSimpleBlockQuote        void   \n",
       "2  RestTestFromSnippetsTaskTests   testMultipleBlockQuotes        void   \n",
       "3  RestTestFromSnippetsTaskTests  testEscapingInBlockQuote        void   \n",
       "4  RestTestFromSnippetsTaskTests     testIsDocWriteRequest        void   \n",
       "\n",
       "  arguments                                               body documentation  \\\n",
       "0        []  { String input = \"\\\"foo\\\": \\\"\\\"\\\"bar\\\"\"; expec...          None   \n",
       "1        []  { assertEquals(\"\\\"foo\\\": \\\"bort baz\\\"\", replac...          None   \n",
       "2        []  { assertEquals( \"\\\"foo\\\": \\\"bort baz\\\", \\\"bar\\...          None   \n",
       "3        []  { assertEquals(\"\\\"foo\\\": \\\"bort\\\\\\\" baz\\\"\", re...          None   \n",
       "4        []  { assertTrue((boolean) RestTestsFromSnippetsTa...          None   \n",
       "\n",
       "    modifiers annotations                                        body_tokens  \\\n",
       "0  ['public']          []  [{, String, input, =, \"\\\"foo\\\": \\\"\\\"\\\"bar\\\"\", ...   \n",
       "1  ['public']          []  [{, assertEquals, (, \"\\\"foo\\\": \\\"bort baz\\\"\", ...   \n",
       "2  ['public']          []  [{, assertEquals, (, \"\\\"foo\\\": \\\"bort baz\\\", \\...   \n",
       "3  ['public']          []  [{, assertEquals, (, \"\\\"foo\\\": \\\"bort\\\\\\\" baz\\...   \n",
       "4  ['public']          []  [{, assertTrue, (, (, boolean, ), RestTestsFro...   \n",
       "\n",
       "                method_name_subtokens  \n",
       "0       [test, invalid, block, quote]  \n",
       "1        [test, simple, block, quote]  \n",
       "2     [test, multiple, block, quotes]  \n",
       "3  [test, escaping, in, block, quote]  \n",
       "4     [test, is, doc, write, request]  "
      ]
     },
     "execution_count": 18,
     "metadata": {},
     "output_type": "execute_result"
    }
   ],
   "source": [
    "# dataset\n",
    "\n",
    "df['body_tokens'] = df['body'].progress_apply(tokenize_method_body)\n",
    "\n",
    "# the output sequences are marked with a <start> and <end> special tokens\n",
    "df['method_name_subtokens'] = df['method_name'].progress_apply(get_subtokens)\n",
    "df_clean = df[df.body_tokens.str.len() > 0] # remove invalid methods which cannot be parsed\n",
    "\n",
    "df.head(5)"
   ]
  },
  {
   "cell_type": "code",
   "execution_count": 19,
   "metadata": {},
   "outputs": [
    {
     "data": {
      "application/vnd.jupyter.widget-view+json": {
       "model_id": "673e306d2de2453d8f55ba395aabb8f6",
       "version_major": 2,
       "version_minor": 0
      },
      "text/plain": [
       "HBox(children=(FloatProgress(value=0.0, max=88133.0), HTML(value='')))"
      ]
     },
     "metadata": {},
     "output_type": "display_data"
    },
    {
     "name": "stdout",
     "output_type": "stream",
     "text": [
      "\n",
      "% of method_names being reduced: 0.024485720445236225\n"
     ]
    },
    {
     "data": {
      "image/png": "[encoded data removed]",
      "text/plain": [
       "<Figure size 432x288 with 1 Axes>"
      ]
     },
     "metadata": {
      "needs_background": "light"
     },
     "output_type": "display_data"
    }
   ],
   "source": [
    "method_name_lengths = df_clean.method_name_subtokens.progress_apply(len)\n",
    "\n",
    "method_name_lengths.hist(bins=method_name_lengths.max())\n",
    "\n",
    "# we will add the <start> and <end> tokens which will effectively increase the seq length to 10 during training and prediction\n",
    "max_decoder_seq_length = 8\n",
    "number_of_method_names_below_threshold = len(np.where(method_name_lengths.values < max_decoder_seq_length)[0])\n",
    "print(f\"% of method_names being reduced: {1 - number_of_method_names_below_threshold / len(method_name_lengths)}\")"
   ]
  },
  {
   "cell_type": "code",
   "execution_count": 20,
   "metadata": {},
   "outputs": [
    {
     "data": {
      "application/vnd.jupyter.widget-view+json": {
       "model_id": "9fdd0f4708ee41a29ae052d5867166b4",
       "version_major": 2,
       "version_minor": 0
      },
      "text/plain": [
       "HBox(children=(FloatProgress(value=0.0, max=88133.0), HTML(value='')))"
      ]
     },
     "metadata": {},
     "output_type": "display_data"
    },
    {
     "name": "stdout",
     "output_type": "stream",
     "text": [
      "\n"
     ]
    },
    {
     "data": {
      "application/vnd.jupyter.widget-view+json": {
       "model_id": "2798827d831a4b479f31f02e7031d798",
       "version_major": 2,
       "version_minor": 0
      },
      "text/plain": [
       "HBox(children=(FloatProgress(value=0.0, max=88133.0), HTML(value='')))"
      ]
     },
     "metadata": {},
     "output_type": "display_data"
    },
    {
     "name": "stdout",
     "output_type": "stream",
     "text": [
      "\n"
     ]
    },
    {
     "data": {
      "text/plain": [
       "count    88133.000000\n",
       "mean         4.821769\n",
       "std          1.576008\n",
       "min          3.000000\n",
       "25%          4.000000\n",
       "50%          4.000000\n",
       "75%          5.000000\n",
       "max         10.000000\n",
       "Name: method_name_subtokens, dtype: float64"
      ]
     },
     "execution_count": 20,
     "metadata": {},
     "output_type": "execute_result"
    }
   ],
   "source": [
    "# also cut the first max_decoder_seq_length (i.e. 8) subtokens, in order to have a fixed length\n",
    "method_name_subtokens_with_start_and_end = df_clean['method_name_subtokens'] \\\n",
    "    .progress_apply(lambda tokens: ['<start>'] + tokens[:max_decoder_seq_length] + ['<end>'])\n",
    "\n",
    "method_name_subtokens_with_start_and_end.progress_apply(len).describe()"
   ]
  },
  {
   "cell_type": "code",
   "execution_count": 21,
   "metadata": {},
   "outputs": [],
   "source": [
    "def get_vocabulary(series):\n",
    "    all_repeating = pd.Series(chain.from_iterable(series.values))\n",
    "\n",
    "    return pd.DataFrame.from_dict(Counter(all_repeating.values), orient='index') \\\n",
    "        .sort_values(by=0, ascending=False) \\\n",
    "        .reset_index().rename(columns={'index': 'token', 0: 'count'})"
   ]
  },
  {
   "cell_type": "code",
   "execution_count": 22,
   "metadata": {},
   "outputs": [
    {
     "data": {
      "text/plain": [
       "(114536, 5809)"
      ]
     },
     "execution_count": 22,
     "metadata": {},
     "output_type": "execute_result"
    }
   ],
   "source": [
    "input_vocabulary = get_vocabulary(df_clean.body_tokens)\n",
    "output_vocabulary = get_vocabulary(method_name_subtokens_with_start_and_end)\n",
    "len(input_vocabulary), len(output_vocabulary)"
   ]
  },
  {
   "cell_type": "code",
   "execution_count": 23,
   "metadata": {},
   "outputs": [],
   "source": [
    "# TODO: compute what percentage of the input tokens (including repetition) will be ignored\n",
    "min_input_token_count = 10\n",
    "reduced_input_vocabulary = pd.Series(['<UNK>']).append(\n",
    "    input_vocabulary[input_vocabulary['count'] >= min_input_token_count]['token']\n",
    ")"
   ]
  },
  {
   "cell_type": "code",
   "execution_count": 24,
   "metadata": {},
   "outputs": [
    {
     "name": "stdout",
     "output_type": "stream",
     "text": [
      "reduced input vocabulary size: 17373\n",
      "percentage of ignore input: 0.04248435521979571\n"
     ]
    }
   ],
   "source": [
    "ignored_input_tokens_percentage = input_vocabulary[input_vocabulary['count'] < min_input_token_count]['count'].sum() / input_vocabulary[input_vocabulary['count'] >= min_input_token_count]['count'].sum()\n",
    "print(f'reduced input vocabulary size: {len(reduced_input_vocabulary)}')\n",
    "print(f'percentage of ignore input: {ignored_input_tokens_percentage}')"
   ]
  },
  {
   "cell_type": "code",
   "execution_count": 25,
   "metadata": {},
   "outputs": [],
   "source": [
    "input_token_to_id = { token:id for id, token in enumerate(reduced_input_vocabulary) }\n",
    "id_to_input_token = reduced_input_vocabulary"
   ]
  },
  {
   "cell_type": "code",
   "execution_count": 26,
   "metadata": {},
   "outputs": [
    {
     "data": {
      "text/plain": [
       "(17373, 17373)"
      ]
     },
     "execution_count": 26,
     "metadata": {},
     "output_type": "execute_result"
    }
   ],
   "source": [
    "len(input_token_to_id), len(id_to_input_token)"
   ]
  },
  {
   "cell_type": "code",
   "execution_count": 27,
   "metadata": {},
   "outputs": [],
   "source": [
    "output_token_to_id = { token:id for id, token in enumerate(output_vocabulary.token) }\n",
    "id_to_output_token = output_vocabulary.token"
   ]
  },
  {
   "cell_type": "code",
   "execution_count": 28,
   "metadata": {},
   "outputs": [
    {
     "data": {
      "text/plain": [
       "[('<start>', 0),\n",
       " ('<end>', 1),\n",
       " ('test', 2),\n",
       " ('get', 3),\n",
       " ('to', 4),\n",
       " ('set', 5),\n",
       " ('create', 6),\n",
       " ('xcontent', 7),\n",
       " ('with', 8),\n",
       " ('instance', 9)]"
      ]
     },
     "execution_count": 28,
     "metadata": {},
     "output_type": "execute_result"
    }
   ],
   "source": [
    "[(key, value) for key, value in output_token_to_id.items()][:10]"
   ]
  },
  {
   "cell_type": "code",
   "execution_count": 29,
   "metadata": {},
   "outputs": [],
   "source": [
    "def input_tokens_to_ids(body_tokens):\n",
    "    return [input_token_to_id[token] if token in input_token_to_id else 0 for token in body_tokens]"
   ]
  },
  {
   "cell_type": "code",
   "execution_count": 30,
   "metadata": {},
   "outputs": [],
   "source": [
    "def output_tokens_to_ids(output_tokens):\n",
    "    return [output_token_to_id[token] if token in output_token_to_id else 0 for token in output_tokens]"
   ]
  },
  {
   "cell_type": "code",
   "execution_count": 31,
   "metadata": {},
   "outputs": [],
   "source": [
    "# raw hyper parameters\n",
    "\n",
    "max_input_length = 100\n",
    "max_output_length = method_name_subtokens_with_start_and_end.apply(len).max() # 10\n",
    "\n",
    "# TODO: limit the input vocabulary size for now\n",
    "input_vocab_size = 10000 # the number of method body tokens\n",
    "input_embedding_dim = 50\n",
    "\n",
    "output_vocab_size = len(output_vocabulary) # used for the softmax layer, like num_classes\n",
    "output_embedding_dim = 50\n",
    "\n",
    "latent_dim = 128 # encoder-decoder latent space dimensions\n",
    "\n",
    "epochs = 10\n",
    "batch_size=64"
   ]
  },
  {
   "cell_type": "code",
   "execution_count": 32,
   "metadata": {},
   "outputs": [
    {
     "data": {
      "application/vnd.jupyter.widget-view+json": {
       "model_id": "e67e21931ba541f491da470b125551b4",
       "version_major": 2,
       "version_minor": 0
      },
      "text/plain": [
       "HBox(children=(FloatProgress(value=0.0, max=88133.0), HTML(value='')))"
      ]
     },
     "metadata": {},
     "output_type": "display_data"
    },
    {
     "name": "stdout",
     "output_type": "stream",
     "text": [
      "\n"
     ]
    },
    {
     "data": {
      "application/vnd.jupyter.widget-view+json": {
       "model_id": "3496c7ed80914dada3546f9abb696e9b",
       "version_major": 2,
       "version_minor": 0
      },
      "text/plain": [
       "HBox(children=(FloatProgress(value=0.0, max=88133.0), HTML(value='')))"
      ]
     },
     "metadata": {},
     "output_type": "display_data"
    },
    {
     "name": "stdout",
     "output_type": "stream",
     "text": [
      "\n"
     ]
    },
    {
     "data": {
      "text/plain": [
       "count    88133.000000\n",
       "mean         4.821769\n",
       "std          1.576008\n",
       "min          3.000000\n",
       "25%          4.000000\n",
       "50%          4.000000\n",
       "75%          5.000000\n",
       "max         10.000000\n",
       "Name: method_name_subtokens, dtype: float64"
      ]
     },
     "execution_count": 32,
     "metadata": {},
     "output_type": "execute_result"
    }
   ],
   "source": [
    "method_name_subtoken_ids = method_name_subtokens_with_start_and_end \\\n",
    "    .progress_apply(output_tokens_to_ids)\n",
    "#     .progress_apply(lambda l: l[-max_output_length:])\n",
    "\n",
    "method_name_subtoken_ids.progress_apply(len).describe()"
   ]
  },
  {
   "cell_type": "code",
   "execution_count": 33,
   "metadata": {},
   "outputs": [
    {
     "data": {
      "text/plain": [
       "(['<start>', 'test', 'invalid', 'block', 'quote', '<end>'],\n",
       " [0, 2, 99, 156, 623, 1])"
      ]
     },
     "execution_count": 33,
     "metadata": {},
     "output_type": "execute_result"
    }
   ],
   "source": [
    "method_name_subtokens_with_start_and_end[0], method_name_subtoken_ids[0]"
   ]
  },
  {
   "cell_type": "code",
   "execution_count": 34,
   "metadata": {},
   "outputs": [
    {
     "data": {
      "application/vnd.jupyter.widget-view+json": {
       "model_id": "7605caa0d7c541da80e2158f99c92cd3",
       "version_major": 2,
       "version_minor": 0
      },
      "text/plain": [
       "HBox(children=(FloatProgress(value=0.0, max=88133.0), HTML(value='')))"
      ]
     },
     "metadata": {},
     "output_type": "display_data"
    },
    {
     "name": "stdout",
     "output_type": "stream",
     "text": [
      "\n"
     ]
    },
    {
     "data": {
      "text/plain": [
       "0                 [0, 2, 99, 156, 623]\n",
       "1                [0, 2, 168, 156, 623]\n",
       "2               [0, 2, 173, 156, 1846]\n",
       "3           [0, 2, 1701, 50, 156, 623]\n",
       "4               [0, 2, 18, 53, 12, 27]\n",
       "                      ...             \n",
       "100375               [0, 108, 738, 27]\n",
       "100376                     [0, 33, 55]\n",
       "100378             [0, 51, 1836, 1490]\n",
       "100379    [0, 303, 98, 1053, 1490, 63]\n",
       "100380              [0, 130, 66, 3018]\n",
       "Name: method_name_subtokens, Length: 88133, dtype: object"
      ]
     },
     "execution_count": 34,
     "metadata": {},
     "output_type": "execute_result"
    }
   ],
   "source": [
    "# decoder_inputs\n",
    "decoder_inputs = method_name_subtoken_ids.progress_apply(lambda seq: seq[:-1])\n",
    "decoder_inputs"
   ]
  },
  {
   "cell_type": "code",
   "execution_count": 35,
   "metadata": {},
   "outputs": [
    {
     "data": {
      "text/plain": [
       "(88133, 10)"
      ]
     },
     "execution_count": 35,
     "metadata": {},
     "output_type": "execute_result"
    }
   ],
   "source": [
    "# TODO:\n",
    "# 1. limit output sequences to a max length\n",
    "# 2. add <start> and <end> special tokens\n",
    "# 3. pad the sequencecs\n",
    "# 4. one hot encode the labels\n",
    "padded_output_sequences = pad_sequences(\n",
    "    method_name_subtoken_ids,\n",
    "    maxlen=max_output_length,\n",
    "    dtype='int32',\n",
    "    padding='post',\n",
    "    truncating='post',\n",
    "    value=-1 # TODO: 0 is test and not <UNK>\n",
    ")\n",
    "\n",
    "padded_output_sequences.shape"
   ]
  },
  {
   "cell_type": "code",
   "execution_count": 36,
   "metadata": {},
   "outputs": [
    {
     "data": {
      "text/plain": [
       "88133"
      ]
     },
     "execution_count": 36,
     "metadata": {},
     "output_type": "execute_result"
    }
   ],
   "source": [
    "len(padded_output_sequences)"
   ]
  },
  {
   "cell_type": "code",
   "execution_count": 37,
   "metadata": {},
   "outputs": [
    {
     "data": {
      "text/plain": [
       "(88133, 10, 5809)"
      ]
     },
     "execution_count": 37,
     "metadata": {},
     "output_type": "execute_result"
    }
   ],
   "source": [
    "decoder_outputs = np.zeros(\n",
    "    (len(padded_output_sequences), max_output_length, output_vocab_size),\n",
    "    dtype='float32'\n",
    ")\n",
    "\n",
    "for seq_id, seq in enumerate(padded_output_sequences):\n",
    "    for token_index, token_id in enumerate(seq):\n",
    "        decoder_outputs[seq_id, token_index, token_id] = 1\n",
    "\n",
    "decoder_outputs.shape"
   ]
  },
  {
   "cell_type": "code",
   "execution_count": 38,
   "metadata": {},
   "outputs": [
    {
     "data": {
      "text/plain": [
       "array([[[1., 0., 0., ..., 0., 0., 0.],\n",
       "        [0., 0., 1., ..., 0., 0., 0.],\n",
       "        [0., 0., 0., ..., 0., 0., 0.],\n",
       "        ...,\n",
       "        [0., 0., 0., ..., 0., 0., 1.],\n",
       "        [0., 0., 0., ..., 0., 0., 1.],\n",
       "        [0., 0., 0., ..., 0., 0., 1.]],\n",
       "\n",
       "       [[1., 0., 0., ..., 0., 0., 0.],\n",
       "        [0., 0., 1., ..., 0., 0., 0.],\n",
       "        [0., 0., 0., ..., 0., 0., 0.],\n",
       "        ...,\n",
       "        [0., 0., 0., ..., 0., 0., 1.],\n",
       "        [0., 0., 0., ..., 0., 0., 1.],\n",
       "        [0., 0., 0., ..., 0., 0., 1.]],\n",
       "\n",
       "       [[1., 0., 0., ..., 0., 0., 0.],\n",
       "        [0., 0., 1., ..., 0., 0., 0.],\n",
       "        [0., 0., 0., ..., 0., 0., 0.],\n",
       "        ...,\n",
       "        [0., 0., 0., ..., 0., 0., 1.],\n",
       "        [0., 0., 0., ..., 0., 0., 1.],\n",
       "        [0., 0., 0., ..., 0., 0., 1.]],\n",
       "\n",
       "       ...,\n",
       "\n",
       "       [[1., 0., 0., ..., 0., 0., 0.],\n",
       "        [0., 0., 0., ..., 0., 0., 0.],\n",
       "        [0., 0., 0., ..., 0., 0., 0.],\n",
       "        ...,\n",
       "        [0., 0., 0., ..., 0., 0., 1.],\n",
       "        [0., 0., 0., ..., 0., 0., 1.],\n",
       "        [0., 0., 0., ..., 0., 0., 1.]],\n",
       "\n",
       "       [[1., 0., 0., ..., 0., 0., 0.],\n",
       "        [0., 0., 0., ..., 0., 0., 0.],\n",
       "        [0., 0., 0., ..., 0., 0., 0.],\n",
       "        ...,\n",
       "        [0., 0., 0., ..., 0., 0., 1.],\n",
       "        [0., 0., 0., ..., 0., 0., 1.],\n",
       "        [0., 0., 0., ..., 0., 0., 1.]],\n",
       "\n",
       "       [[1., 0., 0., ..., 0., 0., 0.],\n",
       "        [0., 0., 0., ..., 0., 0., 0.],\n",
       "        [0., 0., 0., ..., 0., 0., 0.],\n",
       "        ...,\n",
       "        [0., 0., 0., ..., 0., 0., 1.],\n",
       "        [0., 0., 0., ..., 0., 0., 1.],\n",
       "        [0., 0., 0., ..., 0., 0., 1.]]], dtype=float32)"
      ]
     },
     "execution_count": 38,
     "metadata": {},
     "output_type": "execute_result"
    }
   ],
   "source": [
    "decoder_outputs[2:]"
   ]
  },
  {
   "cell_type": "code",
   "execution_count": 40,
   "metadata": {},
   "outputs": [
    {
     "data": {
      "application/vnd.jupyter.widget-view+json": {
       "model_id": "040c0f8883744105a4bb6d442c617b59",
       "version_major": 2,
       "version_minor": 0
      },
      "text/plain": [
       "HBox(children=(FloatProgress(value=0.0, max=88133.0), HTML(value='')))"
      ]
     },
     "metadata": {},
     "output_type": "display_data"
    },
    {
     "name": "stdout",
     "output_type": "stream",
     "text": [
      "\n"
     ]
    },
    {
     "data": {
      "application/vnd.jupyter.widget-view+json": {
       "model_id": "85a588eab68342f0baaa6a30f6dd2a19",
       "version_major": 2,
       "version_minor": 0
      },
      "text/plain": [
       "HBox(children=(FloatProgress(value=0.0, max=88133.0), HTML(value='')))"
      ]
     },
     "metadata": {},
     "output_type": "display_data"
    },
    {
     "name": "stdout",
     "output_type": "stream",
     "text": [
      "\n"
     ]
    },
    {
     "data": {
      "application/vnd.jupyter.widget-view+json": {
       "model_id": "d3f78f3003b44b7cbe20728f7a7ca880",
       "version_major": 2,
       "version_minor": 0
      },
      "text/plain": [
       "HBox(children=(FloatProgress(value=0.0, max=88133.0), HTML(value='')))"
      ]
     },
     "metadata": {},
     "output_type": "display_data"
    },
    {
     "name": "stdout",
     "output_type": "stream",
     "text": [
      "\n"
     ]
    },
    {
     "data": {
      "text/plain": [
       "count    88133.000000\n",
       "mean        40.473954\n",
       "std         36.253899\n",
       "min          2.000000\n",
       "25%          9.000000\n",
       "50%         24.000000\n",
       "75%         74.000000\n",
       "max        100.000000\n",
       "Name: body_tokens, dtype: float64"
      ]
     },
     "execution_count": 40,
     "metadata": {},
     "output_type": "execute_result"
    }
   ],
   "source": [
    "body_token_ids = df_clean.body_tokens.progress_apply(input_tokens_to_ids).progress_apply(lambda l: l[-max_input_length:])\n",
    "body_token_ids.progress_apply(len).describe()"
   ]
  },
  {
   "cell_type": "code",
   "execution_count": 41,
   "metadata": {},
   "outputs": [
    {
     "data": {
      "text/plain": [
       "array([[ 0,  0,  0, ...,  1,  4,  7],\n",
       "       [ 0,  0,  0, ...,  1,  4,  7],\n",
       "       [ 0,  0,  0, ...,  1,  4,  7],\n",
       "       ...,\n",
       "       [ 8, 35,  4, ...,  7,  7,  7],\n",
       "       [ 0,  0,  0, ...,  4,  7,  7],\n",
       "       [ 0,  0,  0, ...,  4,  7,  7]], dtype=int32)"
      ]
     },
     "execution_count": 41,
     "metadata": {},
     "output_type": "execute_result"
    }
   ],
   "source": [
    "padded_input_sequences = pad_sequences(\n",
    "    body_token_ids,\n",
    "    maxlen=max_input_length,\n",
    "    dtype='int32',\n",
    "    padding='pre',\n",
    "    truncating='pre',\n",
    "    value=0 # TODO: 0 should be <UNK>\n",
    ")\n",
    "padded_input_sequences"
   ]
  },
  {
   "cell_type": "code",
   "execution_count": null,
   "metadata": {},
   "outputs": [],
   "source": [
    "# X_train, X_test, decoder_inputs_train, decoder_inputs_test, decoder_outputs_train, decoder_outputs_test = train_test_split(\n",
    "#     padded_input_sequences,\n",
    "#     decoder_inputs,\n",
    "#     decoder_outputs,\n",
    "#     test_size=0.2,\n",
    "#     random_state=42\n",
    "# )\n",
    "\n",
    "# X_train.shape, X_test.shape, decoder_inputs_train.shape, decoder_inputs_test.shape, decoder_outputs_train.shape, decoder_outputs_test.shape"
   ]
  },
  {
   "cell_type": "code",
   "execution_count": null,
   "metadata": {},
   "outputs": [],
   "source": [
    "df_body_length = pd.DataFrame.from_dict(Counter(df_clean.body_tokens.apply(len)), orient='index') \\\n",
    "    .reset_index().rename(columns={'index': 'length', 0: 'count'}) \\\n",
    "    .sort_values(by=['length']).set_index('length')\n",
    "\n",
    "df_body_length.head(5)"
   ]
  },
  {
   "cell_type": "code",
   "execution_count": null,
   "metadata": {},
   "outputs": [],
   "source": [
    "df_body_length.plot(loglog=True)"
   ]
  },
  {
   "cell_type": "code",
   "execution_count": null,
   "metadata": {},
   "outputs": [],
   "source": [
    "print(f'number of methods with body token count less than 100: {df_body_length[df_body_length.index < 100][\"count\"].sum()}')"
   ]
  },
  {
   "cell_type": "code",
   "execution_count": null,
   "metadata": {},
   "outputs": [],
   "source": [
    "df_clean.body_tokens.apply(len).describe()"
   ]
  },
  {
   "cell_type": "code",
   "execution_count": null,
   "metadata": {},
   "outputs": [],
   "source": [
    "df_clean.method_name_subtokens.apply(len).describe()"
   ]
  },
  {
   "cell_type": "code",
   "execution_count": null,
   "metadata": {},
   "outputs": [],
   "source": [
    "# define model: input embedding > LSTM encoder > LSTM decoder > softmax"
   ]
  },
  {
   "cell_type": "code",
   "execution_count": null,
   "metadata": {},
   "outputs": [],
   "source": [
    "# TODO: use hyper parameters\n",
    "# HP_NUM_UNITS = hp.HParam('num_units', hp.Discrete([16, 32]))\n",
    "# HP_DROPOUT = hp.HParam('dropout', hp.RealInterval(0.1, 0.2))\n",
    "# HP_OPTIMIZER = hp.HParam('optimizer', hp.Discrete(['adam', 'sgd']))"
   ]
  },
  {
   "cell_type": "code",
   "execution_count": 47,
   "metadata": {},
   "outputs": [],
   "source": [
    "def build_model():\n",
    "    encoder_input = layers.Input(shape=(None, ), name='encoder_input')\n",
    "    encoder_embeddeding = layers.Embedding(\n",
    "        input_dim=input_vocab_size,\n",
    "        output_dim=input_embedding_dim,\n",
    "        name='encoder_embedding'\n",
    "    )(encoder_input)\n",
    "\n",
    "    # Return states in addition to output\n",
    "    _encoder_output, state_h, state_c = layers.LSTM(\n",
    "        latent_dim,\n",
    "        return_state=True,\n",
    "        name='encoder_lstm'\n",
    "    )(encoder_embeddeding)\n",
    "    \n",
    "    encoder_states = [state_h, state_c]\n",
    "\n",
    "    decoder_input = layers.Input(shape=(None, ), name='decoder_input')\n",
    "    decoder_embeddeding = layers.Embedding(\n",
    "        input_dim=output_vocab_size,\n",
    "        output_dim=output_embedding_dim,\n",
    "        name='decoder_embeddeding'\n",
    "    )(decoder_input)\n",
    "    \n",
    "    # Pass the 2 states to a new LSTM layer, as initial state\n",
    "    decoder_outputs, _, _ = layers.LSTM(\n",
    "        latent_dim,\n",
    "        return_sequences=True,\n",
    "        return_state=True,\n",
    "        name='decoder_lstm'\n",
    "    )(decoder_embeddeding, initial_state=encoder_states)\n",
    "    \n",
    "    output = layers.Dense(\n",
    "        output_vocab_size,\n",
    "        activation='softmax',\n",
    "        name='softmax'\n",
    "    )(decoder_outputs)\n",
    "\n",
    "    model = tf.keras.Model([encoder_input, decoder_input], output)\n",
    "    return model"
   ]
  },
  {
   "cell_type": "code",
   "execution_count": 48,
   "metadata": {},
   "outputs": [
    {
     "name": "stdout",
     "output_type": "stream",
     "text": [
      "Model: \"model_1\"\n",
      "__________________________________________________________________________________________________\n",
      "Layer (type)                    Output Shape         Param #     Connected to                     \n",
      "==================================================================================================\n",
      "encoder_input (InputLayer)      [(None, None)]       0                                            \n",
      "__________________________________________________________________________________________________\n",
      "decoder_input (InputLayer)      [(None, None)]       0                                            \n",
      "__________________________________________________________________________________________________\n",
      "encoder_embedding (Embedding)   (None, None, 50)     500000      encoder_input[0][0]              \n",
      "__________________________________________________________________________________________________\n",
      "decoder_embeddeding (Embedding) (None, None, 50)     290450      decoder_input[0][0]              \n",
      "__________________________________________________________________________________________________\n",
      "encoder_lstm (LSTM)             [(None, 128), (None, 91648       encoder_embedding[0][0]          \n",
      "__________________________________________________________________________________________________\n",
      "decoder_lstm (LSTM)             [(None, None, 128),  91648       decoder_embeddeding[0][0]        \n",
      "                                                                 encoder_lstm[0][1]               \n",
      "                                                                 encoder_lstm[0][2]               \n",
      "__________________________________________________________________________________________________\n",
      "softmax (Dense)                 (None, None, 5809)   749361      decoder_lstm[0][0]               \n",
      "==================================================================================================\n",
      "Total params: 1,723,107\n",
      "Trainable params: 1,723,107\n",
      "Non-trainable params: 0\n",
      "__________________________________________________________________________________________________\n"
     ]
    }
   ],
   "source": [
    "model = build_model()\n",
    "\n",
    "model.compile(loss='categorical_crossentropy',\n",
    "              optimizer='sgd',\n",
    "              metrics=['accuracy'])\n",
    "\n",
    "model.summary()"
   ]
  },
  {
   "cell_type": "code",
   "execution_count": 52,
   "metadata": {},
   "outputs": [
    {
     "data": {
      "text/plain": [
       "0          [0, 2, 99, 156, 623]\n",
       "1         [0, 2, 168, 156, 623]\n",
       "2        [0, 2, 173, 156, 1846]\n",
       "3    [0, 2, 1701, 50, 156, 623]\n",
       "4        [0, 2, 18, 53, 12, 27]\n",
       "Name: method_name_subtokens, dtype: object"
      ]
     },
     "execution_count": 52,
     "metadata": {},
     "output_type": "execute_result"
    }
   ],
   "source": [
    "decoder_inputs.head()"
   ]
  },
  {
   "cell_type": "code",
   "execution_count": 49,
   "metadata": {},
   "outputs": [
    {
     "ename": "ValueError",
     "evalue": "Failed to convert a NumPy array to a Tensor (Unsupported object type list).",
     "output_type": "error",
     "traceback": [
      "\u001b[0;31m---------------------------------------------------------------------------\u001b[0m",
      "\u001b[0;31mValueError\u001b[0m                                Traceback (most recent call last)",
      "\u001b[0;32m<ipython-input-49-5989282caa8a>\u001b[0m in \u001b[0;36m<module>\u001b[0;34m\u001b[0m\n\u001b[1;32m      4\u001b[0m     \u001b[0mepochs\u001b[0m\u001b[0;34m=\u001b[0m\u001b[0mepochs\u001b[0m\u001b[0;34m,\u001b[0m\u001b[0;34m\u001b[0m\u001b[0;34m\u001b[0m\u001b[0m\n\u001b[1;32m      5\u001b[0m     \u001b[0mbatch_size\u001b[0m\u001b[0;34m=\u001b[0m\u001b[0mbatch_size\u001b[0m\u001b[0;34m,\u001b[0m\u001b[0;34m\u001b[0m\u001b[0;34m\u001b[0m\u001b[0m\n\u001b[0;32m----> 6\u001b[0;31m     \u001b[0mvalidation_split\u001b[0m\u001b[0;34m=\u001b[0m\u001b[0;36m0.2\u001b[0m\u001b[0;34m\u001b[0m\u001b[0;34m\u001b[0m\u001b[0m\n\u001b[0m\u001b[1;32m      7\u001b[0m )\n\u001b[1;32m      8\u001b[0m \u001b[0;34m\u001b[0m\u001b[0m\n",
      "\u001b[0;32m~/source/programming-tools/.venv/lib/python3.7/site-packages/tensorflow_core/python/keras/engine/training.py\u001b[0m in \u001b[0;36mfit\u001b[0;34m(self, x, y, batch_size, epochs, verbose, callbacks, validation_split, validation_data, shuffle, class_weight, sample_weight, initial_epoch, steps_per_epoch, validation_steps, validation_freq, max_queue_size, workers, use_multiprocessing, **kwargs)\u001b[0m\n\u001b[1;32m    817\u001b[0m         \u001b[0mmax_queue_size\u001b[0m\u001b[0;34m=\u001b[0m\u001b[0mmax_queue_size\u001b[0m\u001b[0;34m,\u001b[0m\u001b[0;34m\u001b[0m\u001b[0;34m\u001b[0m\u001b[0m\n\u001b[1;32m    818\u001b[0m         \u001b[0mworkers\u001b[0m\u001b[0;34m=\u001b[0m\u001b[0mworkers\u001b[0m\u001b[0;34m,\u001b[0m\u001b[0;34m\u001b[0m\u001b[0;34m\u001b[0m\u001b[0m\n\u001b[0;32m--> 819\u001b[0;31m         use_multiprocessing=use_multiprocessing)\n\u001b[0m\u001b[1;32m    820\u001b[0m \u001b[0;34m\u001b[0m\u001b[0m\n\u001b[1;32m    821\u001b[0m   def evaluate(self,\n",
      "\u001b[0;32m~/source/programming-tools/.venv/lib/python3.7/site-packages/tensorflow_core/python/keras/engine/training_v2.py\u001b[0m in \u001b[0;36mfit\u001b[0;34m(self, model, x, y, batch_size, epochs, verbose, callbacks, validation_split, validation_data, shuffle, class_weight, sample_weight, initial_epoch, steps_per_epoch, validation_steps, validation_freq, max_queue_size, workers, use_multiprocessing, **kwargs)\u001b[0m\n\u001b[1;32m    233\u001b[0m           \u001b[0mmax_queue_size\u001b[0m\u001b[0;34m=\u001b[0m\u001b[0mmax_queue_size\u001b[0m\u001b[0;34m,\u001b[0m\u001b[0;34m\u001b[0m\u001b[0;34m\u001b[0m\u001b[0m\n\u001b[1;32m    234\u001b[0m           \u001b[0mworkers\u001b[0m\u001b[0;34m=\u001b[0m\u001b[0mworkers\u001b[0m\u001b[0;34m,\u001b[0m\u001b[0;34m\u001b[0m\u001b[0;34m\u001b[0m\u001b[0m\n\u001b[0;32m--> 235\u001b[0;31m           use_multiprocessing=use_multiprocessing)\n\u001b[0m\u001b[1;32m    236\u001b[0m \u001b[0;34m\u001b[0m\u001b[0m\n\u001b[1;32m    237\u001b[0m       \u001b[0mtotal_samples\u001b[0m \u001b[0;34m=\u001b[0m \u001b[0m_get_total_number_of_samples\u001b[0m\u001b[0;34m(\u001b[0m\u001b[0mtraining_data_adapter\u001b[0m\u001b[0;34m)\u001b[0m\u001b[0;34m\u001b[0m\u001b[0;34m\u001b[0m\u001b[0m\n",
      "\u001b[0;32m~/source/programming-tools/.venv/lib/python3.7/site-packages/tensorflow_core/python/keras/engine/training_v2.py\u001b[0m in \u001b[0;36m_process_training_inputs\u001b[0;34m(model, x, y, batch_size, epochs, sample_weights, class_weights, steps_per_epoch, validation_split, validation_data, validation_steps, shuffle, distribution_strategy, max_queue_size, workers, use_multiprocessing)\u001b[0m\n\u001b[1;32m    567\u001b[0m         \u001b[0msample_weight_modes\u001b[0m\u001b[0;34m=\u001b[0m\u001b[0msample_weight_modes\u001b[0m\u001b[0;34m,\u001b[0m\u001b[0;34m\u001b[0m\u001b[0;34m\u001b[0m\u001b[0m\n\u001b[1;32m    568\u001b[0m         \u001b[0mshuffle\u001b[0m\u001b[0;34m=\u001b[0m\u001b[0mshuffle\u001b[0m\u001b[0;34m,\u001b[0m\u001b[0;34m\u001b[0m\u001b[0;34m\u001b[0m\u001b[0m\n\u001b[0;32m--> 569\u001b[0;31m         distribution_strategy=distribution_strategy)\n\u001b[0m\u001b[1;32m    570\u001b[0m \u001b[0;34m\u001b[0m\u001b[0m\n\u001b[1;32m    571\u001b[0m     val_adapter = adapter_cls(\n",
      "\u001b[0;32m~/source/programming-tools/.venv/lib/python3.7/site-packages/tensorflow_core/python/keras/engine/data_adapter.py\u001b[0m in \u001b[0;36m__init__\u001b[0;34m(self, x, y, sample_weights, sample_weight_modes, batch_size, epochs, steps, shuffle, **kwargs)\u001b[0m\n\u001b[1;32m    242\u001b[0m                **kwargs):\n\u001b[1;32m    243\u001b[0m     \u001b[0msuper\u001b[0m\u001b[0;34m(\u001b[0m\u001b[0mTensorLikeDataAdapter\u001b[0m\u001b[0;34m,\u001b[0m \u001b[0mself\u001b[0m\u001b[0;34m)\u001b[0m\u001b[0;34m.\u001b[0m\u001b[0m__init__\u001b[0m\u001b[0;34m(\u001b[0m\u001b[0mx\u001b[0m\u001b[0;34m,\u001b[0m \u001b[0my\u001b[0m\u001b[0;34m,\u001b[0m \u001b[0;34m**\u001b[0m\u001b[0mkwargs\u001b[0m\u001b[0;34m)\u001b[0m\u001b[0;34m\u001b[0m\u001b[0;34m\u001b[0m\u001b[0m\n\u001b[0;32m--> 244\u001b[0;31m     \u001b[0mx\u001b[0m \u001b[0;34m=\u001b[0m \u001b[0m_process_numpy_inputs\u001b[0m\u001b[0;34m(\u001b[0m\u001b[0mx\u001b[0m\u001b[0;34m)\u001b[0m\u001b[0;34m\u001b[0m\u001b[0;34m\u001b[0m\u001b[0m\n\u001b[0m\u001b[1;32m    245\u001b[0m     \u001b[0my\u001b[0m \u001b[0;34m=\u001b[0m \u001b[0m_process_numpy_inputs\u001b[0m\u001b[0;34m(\u001b[0m\u001b[0my\u001b[0m\u001b[0;34m)\u001b[0m\u001b[0;34m\u001b[0m\u001b[0;34m\u001b[0m\u001b[0m\n\u001b[1;32m    246\u001b[0m     \u001b[0msample_weights\u001b[0m \u001b[0;34m=\u001b[0m \u001b[0m_process_numpy_inputs\u001b[0m\u001b[0;34m(\u001b[0m\u001b[0msample_weights\u001b[0m\u001b[0;34m)\u001b[0m\u001b[0;34m\u001b[0m\u001b[0;34m\u001b[0m\u001b[0m\n",
      "\u001b[0;32m~/source/programming-tools/.venv/lib/python3.7/site-packages/tensorflow_core/python/keras/engine/data_adapter.py\u001b[0m in \u001b[0;36m_process_numpy_inputs\u001b[0;34m(inputs)\u001b[0m\n\u001b[1;32m   1046\u001b[0m     \u001b[0;32mreturn\u001b[0m \u001b[0mx\u001b[0m\u001b[0;34m\u001b[0m\u001b[0;34m\u001b[0m\u001b[0m\n\u001b[1;32m   1047\u001b[0m \u001b[0;34m\u001b[0m\u001b[0m\n\u001b[0;32m-> 1048\u001b[0;31m   \u001b[0minputs\u001b[0m \u001b[0;34m=\u001b[0m \u001b[0mnest\u001b[0m\u001b[0;34m.\u001b[0m\u001b[0mmap_structure\u001b[0m\u001b[0;34m(\u001b[0m\u001b[0m_convert_non_tensor\u001b[0m\u001b[0;34m,\u001b[0m \u001b[0minputs\u001b[0m\u001b[0;34m)\u001b[0m\u001b[0;34m\u001b[0m\u001b[0;34m\u001b[0m\u001b[0m\n\u001b[0m\u001b[1;32m   1049\u001b[0m   \u001b[0;31m# For more complicated structure, we only convert the out most list to tuple\u001b[0m\u001b[0;34m\u001b[0m\u001b[0;34m\u001b[0m\u001b[0;34m\u001b[0m\u001b[0m\n\u001b[1;32m   1050\u001b[0m   \u001b[0;31m# since dataset will stack the list, but treat elements in the tuple as\u001b[0m\u001b[0;34m\u001b[0m\u001b[0;34m\u001b[0m\u001b[0;34m\u001b[0m\u001b[0m\n",
      "\u001b[0;32m~/source/programming-tools/.venv/lib/python3.7/site-packages/tensorflow_core/python/util/nest.py\u001b[0m in \u001b[0;36mmap_structure\u001b[0;34m(func, *structure, **kwargs)\u001b[0m\n\u001b[1;32m    566\u001b[0m \u001b[0;34m\u001b[0m\u001b[0m\n\u001b[1;32m    567\u001b[0m   return pack_sequence_as(\n\u001b[0;32m--> 568\u001b[0;31m       \u001b[0mstructure\u001b[0m\u001b[0;34m[\u001b[0m\u001b[0;36m0\u001b[0m\u001b[0;34m]\u001b[0m\u001b[0;34m,\u001b[0m \u001b[0;34m[\u001b[0m\u001b[0mfunc\u001b[0m\u001b[0;34m(\u001b[0m\u001b[0;34m*\u001b[0m\u001b[0mx\u001b[0m\u001b[0;34m)\u001b[0m \u001b[0;32mfor\u001b[0m \u001b[0mx\u001b[0m \u001b[0;32min\u001b[0m \u001b[0mentries\u001b[0m\u001b[0;34m]\u001b[0m\u001b[0;34m,\u001b[0m\u001b[0;34m\u001b[0m\u001b[0;34m\u001b[0m\u001b[0m\n\u001b[0m\u001b[1;32m    569\u001b[0m       expand_composites=expand_composites)\n\u001b[1;32m    570\u001b[0m \u001b[0;34m\u001b[0m\u001b[0m\n",
      "\u001b[0;32m~/source/programming-tools/.venv/lib/python3.7/site-packages/tensorflow_core/python/util/nest.py\u001b[0m in \u001b[0;36m<listcomp>\u001b[0;34m(.0)\u001b[0m\n\u001b[1;32m    566\u001b[0m \u001b[0;34m\u001b[0m\u001b[0m\n\u001b[1;32m    567\u001b[0m   return pack_sequence_as(\n\u001b[0;32m--> 568\u001b[0;31m       \u001b[0mstructure\u001b[0m\u001b[0;34m[\u001b[0m\u001b[0;36m0\u001b[0m\u001b[0;34m]\u001b[0m\u001b[0;34m,\u001b[0m \u001b[0;34m[\u001b[0m\u001b[0mfunc\u001b[0m\u001b[0;34m(\u001b[0m\u001b[0;34m*\u001b[0m\u001b[0mx\u001b[0m\u001b[0;34m)\u001b[0m \u001b[0;32mfor\u001b[0m \u001b[0mx\u001b[0m \u001b[0;32min\u001b[0m \u001b[0mentries\u001b[0m\u001b[0;34m]\u001b[0m\u001b[0;34m,\u001b[0m\u001b[0;34m\u001b[0m\u001b[0;34m\u001b[0m\u001b[0m\n\u001b[0m\u001b[1;32m    569\u001b[0m       expand_composites=expand_composites)\n\u001b[1;32m    570\u001b[0m \u001b[0;34m\u001b[0m\u001b[0m\n",
      "\u001b[0;32m~/source/programming-tools/.venv/lib/python3.7/site-packages/tensorflow_core/python/keras/engine/data_adapter.py\u001b[0m in \u001b[0;36m_convert_non_tensor\u001b[0;34m(x)\u001b[0m\n\u001b[1;32m   1043\u001b[0m     \u001b[0;31m# `SparseTensors` can't be converted to `Tensor`.\u001b[0m\u001b[0;34m\u001b[0m\u001b[0;34m\u001b[0m\u001b[0;34m\u001b[0m\u001b[0m\n\u001b[1;32m   1044\u001b[0m     \u001b[0;32mif\u001b[0m \u001b[0misinstance\u001b[0m\u001b[0;34m(\u001b[0m\u001b[0mx\u001b[0m\u001b[0;34m,\u001b[0m \u001b[0mnp\u001b[0m\u001b[0;34m.\u001b[0m\u001b[0mndarray\u001b[0m\u001b[0;34m)\u001b[0m\u001b[0;34m:\u001b[0m\u001b[0;34m\u001b[0m\u001b[0;34m\u001b[0m\u001b[0m\n\u001b[0;32m-> 1045\u001b[0;31m       \u001b[0;32mreturn\u001b[0m \u001b[0mops\u001b[0m\u001b[0;34m.\u001b[0m\u001b[0mconvert_to_tensor\u001b[0m\u001b[0;34m(\u001b[0m\u001b[0mx\u001b[0m\u001b[0;34m)\u001b[0m\u001b[0;34m\u001b[0m\u001b[0;34m\u001b[0m\u001b[0m\n\u001b[0m\u001b[1;32m   1046\u001b[0m     \u001b[0;32mreturn\u001b[0m \u001b[0mx\u001b[0m\u001b[0;34m\u001b[0m\u001b[0;34m\u001b[0m\u001b[0m\n\u001b[1;32m   1047\u001b[0m \u001b[0;34m\u001b[0m\u001b[0m\n",
      "\u001b[0;32m~/source/programming-tools/.venv/lib/python3.7/site-packages/tensorflow_core/python/framework/ops.py\u001b[0m in \u001b[0;36mconvert_to_tensor\u001b[0;34m(value, dtype, name, as_ref, preferred_dtype, dtype_hint, ctx, accepted_result_types)\u001b[0m\n\u001b[1;32m   1312\u001b[0m \u001b[0;34m\u001b[0m\u001b[0m\n\u001b[1;32m   1313\u001b[0m     \u001b[0;32mif\u001b[0m \u001b[0mret\u001b[0m \u001b[0;32mis\u001b[0m \u001b[0;32mNone\u001b[0m\u001b[0;34m:\u001b[0m\u001b[0;34m\u001b[0m\u001b[0;34m\u001b[0m\u001b[0m\n\u001b[0;32m-> 1314\u001b[0;31m       \u001b[0mret\u001b[0m \u001b[0;34m=\u001b[0m \u001b[0mconversion_func\u001b[0m\u001b[0;34m(\u001b[0m\u001b[0mvalue\u001b[0m\u001b[0;34m,\u001b[0m \u001b[0mdtype\u001b[0m\u001b[0;34m=\u001b[0m\u001b[0mdtype\u001b[0m\u001b[0;34m,\u001b[0m \u001b[0mname\u001b[0m\u001b[0;34m=\u001b[0m\u001b[0mname\u001b[0m\u001b[0;34m,\u001b[0m \u001b[0mas_ref\u001b[0m\u001b[0;34m=\u001b[0m\u001b[0mas_ref\u001b[0m\u001b[0;34m)\u001b[0m\u001b[0;34m\u001b[0m\u001b[0;34m\u001b[0m\u001b[0m\n\u001b[0m\u001b[1;32m   1315\u001b[0m \u001b[0;34m\u001b[0m\u001b[0m\n\u001b[1;32m   1316\u001b[0m     \u001b[0;32mif\u001b[0m \u001b[0mret\u001b[0m \u001b[0;32mis\u001b[0m \u001b[0mNotImplemented\u001b[0m\u001b[0;34m:\u001b[0m\u001b[0;34m\u001b[0m\u001b[0;34m\u001b[0m\u001b[0m\n",
      "\u001b[0;32m~/source/programming-tools/.venv/lib/python3.7/site-packages/tensorflow_core/python/framework/tensor_conversion_registry.py\u001b[0m in \u001b[0;36m_default_conversion_function\u001b[0;34m(***failed resolving arguments***)\u001b[0m\n\u001b[1;32m     50\u001b[0m \u001b[0;32mdef\u001b[0m \u001b[0m_default_conversion_function\u001b[0m\u001b[0;34m(\u001b[0m\u001b[0mvalue\u001b[0m\u001b[0;34m,\u001b[0m \u001b[0mdtype\u001b[0m\u001b[0;34m,\u001b[0m \u001b[0mname\u001b[0m\u001b[0;34m,\u001b[0m \u001b[0mas_ref\u001b[0m\u001b[0;34m)\u001b[0m\u001b[0;34m:\u001b[0m\u001b[0;34m\u001b[0m\u001b[0;34m\u001b[0m\u001b[0m\n\u001b[1;32m     51\u001b[0m   \u001b[0;32mdel\u001b[0m \u001b[0mas_ref\u001b[0m  \u001b[0;31m# Unused.\u001b[0m\u001b[0;34m\u001b[0m\u001b[0;34m\u001b[0m\u001b[0m\n\u001b[0;32m---> 52\u001b[0;31m   \u001b[0;32mreturn\u001b[0m \u001b[0mconstant_op\u001b[0m\u001b[0;34m.\u001b[0m\u001b[0mconstant\u001b[0m\u001b[0;34m(\u001b[0m\u001b[0mvalue\u001b[0m\u001b[0;34m,\u001b[0m \u001b[0mdtype\u001b[0m\u001b[0;34m,\u001b[0m \u001b[0mname\u001b[0m\u001b[0;34m=\u001b[0m\u001b[0mname\u001b[0m\u001b[0;34m)\u001b[0m\u001b[0;34m\u001b[0m\u001b[0;34m\u001b[0m\u001b[0m\n\u001b[0m\u001b[1;32m     53\u001b[0m \u001b[0;34m\u001b[0m\u001b[0m\n\u001b[1;32m     54\u001b[0m \u001b[0;34m\u001b[0m\u001b[0m\n",
      "\u001b[0;32m~/source/programming-tools/.venv/lib/python3.7/site-packages/tensorflow_core/python/framework/constant_op.py\u001b[0m in \u001b[0;36mconstant\u001b[0;34m(value, dtype, shape, name)\u001b[0m\n\u001b[1;32m    256\u001b[0m   \"\"\"\n\u001b[1;32m    257\u001b[0m   return _constant_impl(value, dtype, shape, name, verify_shape=False,\n\u001b[0;32m--> 258\u001b[0;31m                         allow_broadcast=True)\n\u001b[0m\u001b[1;32m    259\u001b[0m \u001b[0;34m\u001b[0m\u001b[0m\n\u001b[1;32m    260\u001b[0m \u001b[0;34m\u001b[0m\u001b[0m\n",
      "\u001b[0;32m~/source/programming-tools/.venv/lib/python3.7/site-packages/tensorflow_core/python/framework/constant_op.py\u001b[0m in \u001b[0;36m_constant_impl\u001b[0;34m(value, dtype, shape, name, verify_shape, allow_broadcast)\u001b[0m\n\u001b[1;32m    264\u001b[0m   \u001b[0mctx\u001b[0m \u001b[0;34m=\u001b[0m \u001b[0mcontext\u001b[0m\u001b[0;34m.\u001b[0m\u001b[0mcontext\u001b[0m\u001b[0;34m(\u001b[0m\u001b[0;34m)\u001b[0m\u001b[0;34m\u001b[0m\u001b[0;34m\u001b[0m\u001b[0m\n\u001b[1;32m    265\u001b[0m   \u001b[0;32mif\u001b[0m \u001b[0mctx\u001b[0m\u001b[0;34m.\u001b[0m\u001b[0mexecuting_eagerly\u001b[0m\u001b[0;34m(\u001b[0m\u001b[0;34m)\u001b[0m\u001b[0;34m:\u001b[0m\u001b[0;34m\u001b[0m\u001b[0;34m\u001b[0m\u001b[0m\n\u001b[0;32m--> 266\u001b[0;31m     \u001b[0mt\u001b[0m \u001b[0;34m=\u001b[0m \u001b[0mconvert_to_eager_tensor\u001b[0m\u001b[0;34m(\u001b[0m\u001b[0mvalue\u001b[0m\u001b[0;34m,\u001b[0m \u001b[0mctx\u001b[0m\u001b[0;34m,\u001b[0m \u001b[0mdtype\u001b[0m\u001b[0;34m)\u001b[0m\u001b[0;34m\u001b[0m\u001b[0;34m\u001b[0m\u001b[0m\n\u001b[0m\u001b[1;32m    267\u001b[0m     \u001b[0;32mif\u001b[0m \u001b[0mshape\u001b[0m \u001b[0;32mis\u001b[0m \u001b[0;32mNone\u001b[0m\u001b[0;34m:\u001b[0m\u001b[0;34m\u001b[0m\u001b[0;34m\u001b[0m\u001b[0m\n\u001b[1;32m    268\u001b[0m       \u001b[0;32mreturn\u001b[0m \u001b[0mt\u001b[0m\u001b[0;34m\u001b[0m\u001b[0;34m\u001b[0m\u001b[0m\n",
      "\u001b[0;32m~/source/programming-tools/.venv/lib/python3.7/site-packages/tensorflow_core/python/framework/constant_op.py\u001b[0m in \u001b[0;36mconvert_to_eager_tensor\u001b[0;34m(value, ctx, dtype)\u001b[0m\n\u001b[1;32m     94\u001b[0m       \u001b[0mdtype\u001b[0m \u001b[0;34m=\u001b[0m \u001b[0mdtypes\u001b[0m\u001b[0;34m.\u001b[0m\u001b[0mas_dtype\u001b[0m\u001b[0;34m(\u001b[0m\u001b[0mdtype\u001b[0m\u001b[0;34m)\u001b[0m\u001b[0;34m.\u001b[0m\u001b[0mas_datatype_enum\u001b[0m\u001b[0;34m\u001b[0m\u001b[0;34m\u001b[0m\u001b[0m\n\u001b[1;32m     95\u001b[0m   \u001b[0mctx\u001b[0m\u001b[0;34m.\u001b[0m\u001b[0mensure_initialized\u001b[0m\u001b[0;34m(\u001b[0m\u001b[0;34m)\u001b[0m\u001b[0;34m\u001b[0m\u001b[0;34m\u001b[0m\u001b[0m\n\u001b[0;32m---> 96\u001b[0;31m   \u001b[0;32mreturn\u001b[0m \u001b[0mops\u001b[0m\u001b[0;34m.\u001b[0m\u001b[0mEagerTensor\u001b[0m\u001b[0;34m(\u001b[0m\u001b[0mvalue\u001b[0m\u001b[0;34m,\u001b[0m \u001b[0mctx\u001b[0m\u001b[0;34m.\u001b[0m\u001b[0mdevice_name\u001b[0m\u001b[0;34m,\u001b[0m \u001b[0mdtype\u001b[0m\u001b[0;34m)\u001b[0m\u001b[0;34m\u001b[0m\u001b[0;34m\u001b[0m\u001b[0m\n\u001b[0m\u001b[1;32m     97\u001b[0m \u001b[0;34m\u001b[0m\u001b[0m\n\u001b[1;32m     98\u001b[0m \u001b[0;34m\u001b[0m\u001b[0m\n",
      "\u001b[0;31mValueError\u001b[0m: Failed to convert a NumPy array to a Tensor (Unsupported object type list)."
     ]
    }
   ],
   "source": [
    "history = model.fit(\n",
    "    [padded_input_sequences, decoder_inputs],\n",
    "    decoder_outputs,\n",
    "    epochs=epochs,\n",
    "    batch_size=batch_size,\n",
    "    validation_split=0.2\n",
    ")\n",
    "\n",
    "history"
   ]
  },
  {
   "cell_type": "code",
   "execution_count": null,
   "metadata": {},
   "outputs": [],
   "source": [
    "# %load_ext tensorboard\n",
    "# %tensorboard --logdir ../logs"
   ]
  },
  {
   "cell_type": "code",
   "execution_count": null,
   "metadata": {},
   "outputs": [],
   "source": [
    "df_train.method_name_subtokens.shape"
   ]
  },
  {
   "cell_type": "code",
   "execution_count": null,
   "metadata": {},
   "outputs": [],
   "source": [
    "test_loss, test_acc = model.evaluate(test_x, test_y)"
   ]
  },
  {
   "cell_type": "code",
   "execution_count": null,
   "metadata": {},
   "outputs": [],
   "source": [
    "prediction = class_names[np.argmax(model.predict(test_x[0]))]\n",
    "prediction"
   ]
  },
  {
   "cell_type": "code",
   "execution_count": null,
   "metadata": {},
   "outputs": [],
   "source": [
    "encoder_input = layers.Input(shape=(None, ))\n",
    "encoder_embedded = layers.Embedding(input_dim=input_vocab_size, output_dim=input_embedding_dim)(encoder_input)\n",
    "\n",
    "# Return states in addition to output\n",
    "output, state_h, state_c = layers.LSTM(latent_dim, return_state=True, name='encoder')(encoder_embedded)\n",
    "encoder_state = [state_h, state_c]\n",
    "\n",
    "decoder_input = layers.Input(shape=(None, ))\n",
    "decoder_embedded = layers.Embedding(input_dim=decoder_vocab, output_dim=64)(decoder_input)\n",
    "\n",
    "# Pass the 2 states to a new LSTM layer, as initial state\n",
    "decoder_output = layers.LSTM(decoder_units, name='decoder')(decoder_embedded, initial_state=encoder_state)\n",
    "output = layers.Dense(10, activation='softmax')(decoder_output)\n",
    "\n",
    "model = tf.keras.Model([encoder_input, decoder_input], output)\n",
    "\n",
    "model.compile(loss='categorical_crossentropy',\n",
    "              optimizer='sgd',\n",
    "              metrics=['accuracy'])\n",
    "\n",
    "model.summary()"
   ]
  },
  {
   "cell_type": "code",
   "execution_count": null,
   "metadata": {},
   "outputs": [],
   "source": []
  }
 ],
 "metadata": {
  "kernelspec": {
   "display_name": "Python 3",
   "language": "python",
   "name": "python3"
  },
  "language_info": {
   "codemirror_mode": {
    "name": "ipython",
    "version": 3
   },
   "file_extension": ".py",
   "mimetype": "text/x-python",
   "name": "python",
   "nbconvert_exporter": "python",
   "pygments_lexer": "ipython3",
   "version": "3.7.3"
  }
 },
 "nbformat": 4,
 "nbformat_minor": 4
}
