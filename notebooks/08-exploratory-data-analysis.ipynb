{
 "cells": [
  {
   "cell_type": "code",
   "execution_count": 1,
   "metadata": {},
   "outputs": [
    {
     "name": "stderr",
     "output_type": "stream",
     "text": [
      "/home/tony/source/identifier-suggestion/.venv/lib/python3.7/site-packages/tqdm/std.py:666: FutureWarning: The Panel class is removed from pandas. Accessing it from the top-level namespace will also be removed in the next version\n",
      "  from pandas import Panel\n"
     ]
    }
   ],
   "source": [
    "import sys\n",
    "import javalang\n",
    "import math\n",
    "import matplotlib.pyplot as plt\n",
    "import matplotlib.ticker as tick\n",
    "\n",
    "import numpy as np\n",
    "import pandas as pd\n",
    "import tensorflow as tf\n",
    "\n",
    "from collections import Counter\n",
    "\n",
    "from tqdm import tqdm\n",
    "tqdm.pandas()\n",
    "\n",
    "plt.rcParams['figure.figsize'] = (15, 10)"
   ]
  },
  {
   "cell_type": "code",
   "execution_count": 2,
   "metadata": {},
   "outputs": [],
   "source": [
    "sys.path.append('..')"
   ]
  },
  {
   "cell_type": "code",
   "execution_count": 3,
   "metadata": {},
   "outputs": [],
   "source": [
    "from src.preprocessing.tokens import tokenize_method, split_subtokens\n",
    "from src.utils.pandas import lists_to_series"
   ]
  },
  {
   "cell_type": "code",
   "execution_count": 4,
   "metadata": {},
   "outputs": [
    {
     "name": "stdout",
     "output_type": "stream",
     "text": [
      "total 449148\r\n",
      "drwxr-xr-x 2 tony tony     4096 Jun 13 15:32 .\r\n",
      "drwxr-xr-x 6 tony tony     4096 Jun 13 17:39 ..\r\n",
      "-rw-r--r-- 1 tony tony  2189109 Jun  8 19:45 antlr4.csv\r\n",
      "-rw-r--r-- 1 tony tony 31264895 Jun  8 19:50 bazel.csv\r\n",
      "-rw-r--r-- 1 tony tony  4002518 Jun  8 19:50 bigbluebutton.csv\r\n",
      "-rw-r--r-- 1 tony tony  1581338 Jun  8 19:52 clojure.csv\r\n",
      "-rw-r--r-- 1 tony tony  1895700 Jun  8 19:44 commons-io.csv\r\n",
      "-rw-r--r-- 1 tony tony  5353107 Jun  8 19:51 commons-lang.csv\r\n",
      "-rw-r--r-- 1 tony tony 13547341 Jun  8 19:49 dbeaver.csv\r\n",
      "-rw-r--r-- 1 tony tony  6803490 Jun  8 19:47 dubbo.csv\r\n",
      "-rw-r--r-- 1 tony tony 74709070 Jun  8 20:00 elasticsearch.csv\r\n",
      "-rw-r--r-- 1 tony tony  6303665 Jun  8 19:45 ExoPlayer.csv\r\n",
      "-rw-r--r-- 1 tony tony 41721105 Jun  8 19:51 flink.csv\r\n",
      "-rw-r--r-- 1 tony tony 37672417 Jun  8 19:54 graal.csv\r\n",
      "-rw-r--r-- 1 tony tony  9349965 Jun  8 19:46 groovy.csv\r\n",
      "-rw-r--r-- 1 tony tony  1027063 Jun  8 19:53 gson.csv\r\n",
      "-rw-r--r-- 1 tony tony 23200188 Jun  8 19:51 guava.csv\r\n",
      "-rw-r--r-- 1 tony tony 77850053 Jun  8 19:59 hadoop.csv\r\n",
      "-rw-r--r-- 1 tony tony   494040 Jun  8 19:46 HikariCP.csv\r\n",
      "-rw-r--r-- 1 tony tony  6917594 Jun  8 19:45 jenkins.csv\r\n",
      "-rw-r--r-- 1 tony tony  1221079 Jun  8 19:50 junit4.csv\r\n",
      "-rw-r--r-- 1 tony tony 15578732 Jun  8 19:48 kafka.csv\r\n",
      "-rw-r--r-- 1 tony tony 12529268 Jun  8 19:47 libgdx.csv\r\n",
      "-rw-r--r-- 1 tony tony  2112639 Jun  8 19:44 mockito.csv\r\n",
      "-rw-r--r-- 1 tony tony 21641328 Jun  8 19:55 neo4j.csv\r\n",
      "-rw-r--r-- 1 tony tony 11406209 Jun  8 19:53 netty.csv\r\n",
      "-rw-r--r-- 1 tony tony  9644403 Jun  8 19:55 RxJava.csv\r\n",
      "-rw-r--r-- 1 tony tony   582327 Jun  8 19:44 scribejava.csv\r\n",
      "-rw-r--r-- 1 tony tony  3467976 Jun  8 19:51 selenium.csv\r\n",
      "-rw-r--r-- 1 tony tony 34104711 Jun  8 19:55 spring-framework.csv\r\n",
      "-rw-r--r-- 1 tony tony  1633329 Jun  8 19:49 zxing.csv\r\n"
     ]
    }
   ],
   "source": [
    "!ls -la ../data/interim/repositories/"
   ]
  },
  {
   "cell_type": "code",
   "execution_count": 5,
   "metadata": {},
   "outputs": [],
   "source": [
    "%%bash\n",
    "# if the combined raw CSV file is created, do not create it again\n",
    "[ -f '../data/interim/all.csv' ] && exit 0\n",
    "\n",
    "# prepend the CSV header with column names\n",
    "head -n 1 ../data/interim/repositories/antlr4.csv >> ../data/interim/all.csv\n",
    "\n",
    "for f in ../data/interim/repositories/*; do\n",
    "    tail -n +2 \"$f\" >> '../data/interim/all.csv'\n",
    "    echo \"added $f\"\n",
    "done"
   ]
  },
  {
   "cell_type": "code",
   "execution_count": 6,
   "metadata": {},
   "outputs": [
    {
     "name": "stdout",
     "output_type": "stream",
     "text": [
      "792035 ../data/interim/all.csv\r\n"
     ]
    }
   ],
   "source": [
    "!wc -l ../data/interim/all.csv"
   ]
  },
  {
   "cell_type": "code",
   "execution_count": 7,
   "metadata": {},
   "outputs": [],
   "source": [
    "csv_filename = '../data/interim/all.csv'\n",
    "\n",
    "max_input_vocab_size=30000"
   ]
  },
  {
   "cell_type": "code",
   "execution_count": 8,
   "metadata": {},
   "outputs": [
    {
     "data": {
      "text/html": [
       "<div>\n",
       "<style scoped>\n",
       "    .dataframe tbody tr th:only-of-type {\n",
       "        vertical-align: middle;\n",
       "    }\n",
       "\n",
       "    .dataframe tbody tr th {\n",
       "        vertical-align: top;\n",
       "    }\n",
       "\n",
       "    .dataframe thead th {\n",
       "        text-align: right;\n",
       "    }\n",
       "</style>\n",
       "<table border=\"1\" class=\"dataframe\">\n",
       "  <thead>\n",
       "    <tr style=\"text-align: right;\">\n",
       "      <th></th>\n",
       "      <th>file_name</th>\n",
       "      <th>class_name</th>\n",
       "      <th>method_name</th>\n",
       "      <th>return_type</th>\n",
       "      <th>arguments</th>\n",
       "      <th>body</th>\n",
       "      <th>documentation</th>\n",
       "      <th>modifiers</th>\n",
       "      <th>annotations</th>\n",
       "    </tr>\n",
       "  </thead>\n",
       "  <tbody>\n",
       "    <tr>\n",
       "      <th>0</th>\n",
       "      <td>../external/repositories/antlr4/doc/resources/...</td>\n",
       "      <td>CaseChangingCharStream</td>\n",
       "      <td>getText</td>\n",
       "      <td>String</td>\n",
       "      <td>[['interval', 'Interval']]</td>\n",
       "      <td>{ return stream.getText(interval); }</td>\n",
       "      <td>None</td>\n",
       "      <td>['public']</td>\n",
       "      <td>['Override']</td>\n",
       "    </tr>\n",
       "    <tr>\n",
       "      <th>1</th>\n",
       "      <td>../external/repositories/antlr4/doc/resources/...</td>\n",
       "      <td>CaseChangingCharStream</td>\n",
       "      <td>consume</td>\n",
       "      <td>void</td>\n",
       "      <td>[]</td>\n",
       "      <td>{ stream.consume(); }</td>\n",
       "      <td>None</td>\n",
       "      <td>['public']</td>\n",
       "      <td>['Override']</td>\n",
       "    </tr>\n",
       "    <tr>\n",
       "      <th>2</th>\n",
       "      <td>../external/repositories/antlr4/doc/resources/...</td>\n",
       "      <td>CaseChangingCharStream</td>\n",
       "      <td>LA</td>\n",
       "      <td>int</td>\n",
       "      <td>[['i', 'int']]</td>\n",
       "      <td>{ int c = stream.LA(i); if (c &lt;= 0) { return c...</td>\n",
       "      <td>None</td>\n",
       "      <td>['public']</td>\n",
       "      <td>['Override']</td>\n",
       "    </tr>\n",
       "    <tr>\n",
       "      <th>3</th>\n",
       "      <td>../external/repositories/antlr4/doc/resources/...</td>\n",
       "      <td>CaseChangingCharStream</td>\n",
       "      <td>mark</td>\n",
       "      <td>int</td>\n",
       "      <td>[]</td>\n",
       "      <td>{ return stream.mark(); }</td>\n",
       "      <td>None</td>\n",
       "      <td>['public']</td>\n",
       "      <td>['Override']</td>\n",
       "    </tr>\n",
       "    <tr>\n",
       "      <th>4</th>\n",
       "      <td>../external/repositories/antlr4/doc/resources/...</td>\n",
       "      <td>CaseChangingCharStream</td>\n",
       "      <td>release</td>\n",
       "      <td>void</td>\n",
       "      <td>[['marker', 'int']]</td>\n",
       "      <td>{ stream.release(marker); }</td>\n",
       "      <td>None</td>\n",
       "      <td>['public']</td>\n",
       "      <td>['Override']</td>\n",
       "    </tr>\n",
       "  </tbody>\n",
       "</table>\n",
       "</div>"
      ],
      "text/plain": [
       "                                           file_name              class_name  \\\n",
       "0  ../external/repositories/antlr4/doc/resources/...  CaseChangingCharStream   \n",
       "1  ../external/repositories/antlr4/doc/resources/...  CaseChangingCharStream   \n",
       "2  ../external/repositories/antlr4/doc/resources/...  CaseChangingCharStream   \n",
       "3  ../external/repositories/antlr4/doc/resources/...  CaseChangingCharStream   \n",
       "4  ../external/repositories/antlr4/doc/resources/...  CaseChangingCharStream   \n",
       "\n",
       "  method_name return_type                   arguments  \\\n",
       "0     getText      String  [['interval', 'Interval']]   \n",
       "1     consume        void                          []   \n",
       "2          LA         int              [['i', 'int']]   \n",
       "3        mark         int                          []   \n",
       "4     release        void         [['marker', 'int']]   \n",
       "\n",
       "                                                body documentation  \\\n",
       "0               { return stream.getText(interval); }          None   \n",
       "1                              { stream.consume(); }          None   \n",
       "2  { int c = stream.LA(i); if (c <= 0) { return c...          None   \n",
       "3                          { return stream.mark(); }          None   \n",
       "4                        { stream.release(marker); }          None   \n",
       "\n",
       "    modifiers   annotations  \n",
       "0  ['public']  ['Override']  \n",
       "1  ['public']  ['Override']  \n",
       "2  ['public']  ['Override']  \n",
       "3  ['public']  ['Override']  \n",
       "4  ['public']  ['Override']  "
      ]
     },
     "execution_count": 8,
     "metadata": {},
     "output_type": "execute_result"
    }
   ],
   "source": [
    "# Reading the input files\n",
    "df = pd.read_csv(csv_filename, encoding='utf8')\n",
    "\n",
    "df.head()"
   ]
  },
  {
   "cell_type": "code",
   "execution_count": 9,
   "metadata": {},
   "outputs": [
    {
     "data": {
      "text/plain": [
       "791986"
      ]
     },
     "execution_count": 9,
     "metadata": {},
     "output_type": "execute_result"
    }
   ],
   "source": [
    "# Cleaning, filtering the data\n",
    "df = df.dropna()\n",
    "len(df)"
   ]
  },
  {
   "cell_type": "code",
   "execution_count": 10,
   "metadata": {},
   "outputs": [],
   "source": [
    "def tokenize_and_aggregate(code_series, tokenizer_fn=None):\n",
    "    tokenized_series = code_series.progress_apply(tokenizer_fn) if tokenizer_fn else code_series\n",
    "\n",
    "    sequence_lengths = tokenized_series.progress_apply(len)\n",
    "    \n",
    "    unique_token_counts = pd.DataFrame.from_dict(Counter(lists_to_series(tokenized_series).values), orient='index') \\\n",
    "        .sort_values(by=0, ascending=False) \\\n",
    "        .reset_index().rename(columns={'index': 'token', 0: 'count'})\n",
    "\n",
    "    return sequence_lengths, unique_token_counts"
   ]
  },
  {
   "cell_type": "code",
   "execution_count": 25,
   "metadata": {},
   "outputs": [
    {
     "name": "stderr",
     "output_type": "stream",
     "text": [
      " 14%|█▍        | 114671/791986 [00:28<02:35, 4351.22it/s]"
     ]
    },
    {
     "name": "stdout",
     "output_type": "stream",
     "text": [
      "ERROR in tokenizing: {packagesToScan}\") String... packagesToScan) return new ServiceClassPostProcessor(packagesToScan); }\n"
     ]
    },
    {
     "name": "stderr",
     "output_type": "stream",
     "text": [
      " 58%|█████▊    | 458475/791986 [02:14<01:13, 4562.00it/s]"
     ]
    },
    {
     "name": "stdout",
     "output_type": "stream",
     "text": [
      "ERROR in tokenizing: {logFile : .+}\") public void parseFile( @PathParam(\"logFile\") String logFile) throws IOException, SkylineStoreException, ResourceEstimatorException { logParserUtil.parseLog(logFile); LOGGER.debug(\"Parse logFile: {}.\", logFile); }\n"
     ]
    },
    {
     "name": "stderr",
     "output_type": "stream",
     "text": [
      " 93%|█████████▎| 737204/791986 [03:30<00:22, 2469.08it/s] "
     ]
    },
    {
     "name": "stdout",
     "output_type": "stream",
     "text": [
      "ERROR in tokenizing: {systemProperties.systemProperty}\") int param1, @Value(\"#{request.contextPath}\") String param2, String notSupported) { }\n"
     ]
    },
    {
     "name": "stderr",
     "output_type": "stream",
     "text": [
      " 94%|█████████▍| 744516/791986 [03:32<00:11, 4138.74it/s]"
     ]
    },
    {
     "name": "stdout",
     "output_type": "stream",
     "text": [
      "ERROR in tokenizing: {foo}\") String foo) return null; }\n"
     ]
    },
    {
     "name": "stderr",
     "output_type": "stream",
     "text": [
      " 95%|█████████▌| 755020/791986 [03:35<00:11, 3119.90it/s]"
     ]
    },
    {
     "name": "stdout",
     "output_type": "stream",
     "text": [
      "ERROR in tokenizing: {systemProperties[myProp]}\") Provider<String> name) return new TestBean(name.get()); }\n",
      "ERROR in tokenizing: {systemProperties[myProp]}\") Provider<String> name2) return new TestBean(name2.get()); }\n"
     ]
    },
    {
     "name": "stderr",
     "output_type": "stream",
     "text": [
      " 95%|█████████▌| 755971/791986 [03:35<00:09, 3743.80it/s]"
     ]
    },
    {
     "name": "stdout",
     "output_type": "stream",
     "text": [
      "ERROR in tokenizing: {privateInstance.age}\") String country) TestBean tb = new TestBean(\"protectedInstance\", 1); tb.setSpouse(tb); tb.setCountry(country); return tb; }\n"
     ]
    },
    {
     "name": "stderr",
     "output_type": "stream",
     "text": [
      " 97%|█████████▋| 770657/791986 [03:39<00:04, 4422.59it/s]"
     ]
    },
    {
     "name": "stdout",
     "output_type": "stream",
     "text": [
      "ERROR in tokenizing: {enigma}\") Integer enigmaParam) assertThat(enigmaParam).as(\"Enigma should have been injected via @Value by Spring\").isNotNull(); assertThat(enigmaParam).as(\"enigma\").isEqualTo(42); }\n",
      "ERROR in tokenizing: {bogus:false}\") Boolean defaultValue) assertThat(defaultValue).as(\"Default value should have been injected via @Value by Spring\").isNotNull(); assertThat(defaultValue).as(\"default value\").isEqualTo(false); }\n",
      "ERROR in tokenizing: {@dilbert.name}\") String name) assertThat(name).as(\"Dilbert's name should have been injected via SpEL expression in @Value by Spring\").isNotNull(); assertThat(name).as(\"name from SpEL expression\").isEqualTo(\"Dilbert\"); }\n",
      "ERROR in tokenizing: {enigma}\") Integer enigmaParam) assertThat(enigmaParam).as(\"Enigma should have been injected via @Value by Spring\").isNotNull(); assertThat(enigmaParam).as(\"enigma\").isEqualTo(42); }\n",
      "ERROR in tokenizing: {bogus:false}\") Boolean defaultValue) assertThat(defaultValue).as(\"Default value should have been injected via @Value by Spring\").isNotNull(); assertThat(defaultValue).as(\"default value\").isEqualTo(false); }\n",
      "ERROR in tokenizing: {@dilbert.name}\") String name) assertThat(name).as( \"Dilbert's name should have been injected via SpEL expression in @Value by Spring\").isNotNull(); assertThat(name).as(\"name from SpEL expression\").isEqualTo(\"Dilbert\"); }\n",
      "ERROR in tokenizing: {2 == (1+1)}\") Boolean spelParameterValue) this.spelParameterValue = spelParameterValue; }\n"
     ]
    },
    {
     "name": "stderr",
     "output_type": "stream",
     "text": [
      " 98%|█████████▊| 776018/791986 [03:41<00:11, 1375.99it/s]"
     ]
    },
    {
     "name": "stdout",
     "output_type": "stream",
     "text": [
      "ERROR in tokenizing: {myKey}\") String id, @RequestHeader(defaultValue = \"#{systemProperties.myHeader}\") String header, @Value(\"#{request.contextPath}\") String contextPath, HttpServletResponse response) throws IOException { response.getWriter().write(String.valueOf(id) + \"-\" + String.valueOf(header) + \"-\" + contextPath); }\n"
     ]
    },
    {
     "name": "stderr",
     "output_type": "stream",
     "text": [
      "100%|██████████| 791986/791986 [03:46<00:00, 3503.91it/s]\n",
      "100%|██████████| 791986/791986 [00:00<00:00, 1247202.87it/s]\n"
     ]
    }
   ],
   "source": [
    "token_level_seq_lengths, token_level_vocab = tokenize_and_aggregate(\n",
    "    df['body'],\n",
    "    tokenizer_fn=lambda method: tokenize_method(method, subtoken_level=False)\n",
    ")"
   ]
  },
  {
   "cell_type": "code",
   "execution_count": 12,
   "metadata": {},
   "outputs": [
    {
     "name": "stderr",
     "output_type": "stream",
     "text": [
      "100%|██████████| 791986/791986 [00:00<00:00, 1100674.11it/s]\n"
     ]
    }
   ],
   "source": [
    "char_level_seq_lengths, char_level_vocab = tokenize_and_aggregate(df['body'], tokenizer_fn=None)"
   ]
  },
  {
   "cell_type": "code",
   "execution_count": 13,
   "metadata": {},
   "outputs": [
    {
     "name": "stderr",
     "output_type": "stream",
     "text": [
      " 14%|█▍        | 114495/791986 [00:52<03:57, 2852.16it/s]"
     ]
    },
    {
     "name": "stdout",
     "output_type": "stream",
     "text": [
      "ERROR in tokenizing: {packagesToScan}\") String... packagesToScan) return new ServiceClassPostProcessor(packagesToScan); }\n"
     ]
    },
    {
     "name": "stderr",
     "output_type": "stream",
     "text": [
      " 58%|█████▊    | 458452/791986 [03:01<01:23, 3989.74it/s]"
     ]
    },
    {
     "name": "stdout",
     "output_type": "stream",
     "text": [
      "ERROR in tokenizing: {logFile : .+}\") public void parseFile( @PathParam(\"logFile\") String logFile) throws IOException, SkylineStoreException, ResourceEstimatorException { logParserUtil.parseLog(logFile); LOGGER.debug(\"Parse logFile: {}.\", logFile); }\n"
     ]
    },
    {
     "name": "stderr",
     "output_type": "stream",
     "text": [
      " 93%|█████████▎| 737083/791986 [04:29<00:30, 1828.87it/s]"
     ]
    },
    {
     "name": "stdout",
     "output_type": "stream",
     "text": [
      "ERROR in tokenizing: {systemProperties.systemProperty}\") int param1, @Value(\"#{request.contextPath}\") String param2, String notSupported) { }\n"
     ]
    },
    {
     "name": "stderr",
     "output_type": "stream",
     "text": [
      " 94%|█████████▍| 743960/791986 [04:31<00:10, 4534.73it/s]"
     ]
    },
    {
     "name": "stdout",
     "output_type": "stream",
     "text": [
      "ERROR in tokenizing: {foo}\") String foo) return null; }\n"
     ]
    },
    {
     "name": "stderr",
     "output_type": "stream",
     "text": [
      " 95%|█████████▌| 754622/791986 [04:36<00:13, 2844.34it/s]"
     ]
    },
    {
     "name": "stdout",
     "output_type": "stream",
     "text": [
      "ERROR in tokenizing: {systemProperties[myProp]}\") Provider<String> name) return new TestBean(name.get()); }\n",
      "ERROR in tokenizing: {systemProperties[myProp]}\") Provider<String> name2) return new TestBean(name2.get()); }\n"
     ]
    },
    {
     "name": "stderr",
     "output_type": "stream",
     "text": [
      " 95%|█████████▌| 755822/791986 [04:37<00:13, 2738.15it/s]"
     ]
    },
    {
     "name": "stdout",
     "output_type": "stream",
     "text": [
      "ERROR in tokenizing: {privateInstance.age}\") String country) TestBean tb = new TestBean(\"protectedInstance\", 1); tb.setSpouse(tb); tb.setCountry(country); return tb; }\n"
     ]
    },
    {
     "name": "stderr",
     "output_type": "stream",
     "text": [
      " 97%|█████████▋| 770977/791986 [04:42<00:05, 4055.13it/s]"
     ]
    },
    {
     "name": "stdout",
     "output_type": "stream",
     "text": [
      "ERROR in tokenizing: {enigma}\") Integer enigmaParam) assertThat(enigmaParam).as(\"Enigma should have been injected via @Value by Spring\").isNotNull(); assertThat(enigmaParam).as(\"enigma\").isEqualTo(42); }\n",
      "ERROR in tokenizing: {bogus:false}\") Boolean defaultValue) assertThat(defaultValue).as(\"Default value should have been injected via @Value by Spring\").isNotNull(); assertThat(defaultValue).as(\"default value\").isEqualTo(false); }\n",
      "ERROR in tokenizing: {@dilbert.name}\") String name) assertThat(name).as(\"Dilbert's name should have been injected via SpEL expression in @Value by Spring\").isNotNull(); assertThat(name).as(\"name from SpEL expression\").isEqualTo(\"Dilbert\"); }\n",
      "ERROR in tokenizing: {enigma}\") Integer enigmaParam) assertThat(enigmaParam).as(\"Enigma should have been injected via @Value by Spring\").isNotNull(); assertThat(enigmaParam).as(\"enigma\").isEqualTo(42); }\n",
      "ERROR in tokenizing: {bogus:false}\") Boolean defaultValue) assertThat(defaultValue).as(\"Default value should have been injected via @Value by Spring\").isNotNull(); assertThat(defaultValue).as(\"default value\").isEqualTo(false); }\n",
      "ERROR in tokenizing: {@dilbert.name}\") String name) assertThat(name).as( \"Dilbert's name should have been injected via SpEL expression in @Value by Spring\").isNotNull(); assertThat(name).as(\"name from SpEL expression\").isEqualTo(\"Dilbert\"); }\n",
      "ERROR in tokenizing: {2 == (1+1)}\") Boolean spelParameterValue) this.spelParameterValue = spelParameterValue; }\n"
     ]
    },
    {
     "name": "stderr",
     "output_type": "stream",
     "text": [
      " 98%|█████████▊| 775963/791986 [04:43<00:06, 2610.65it/s]"
     ]
    },
    {
     "name": "stdout",
     "output_type": "stream",
     "text": [
      "ERROR in tokenizing: {myKey}\") String id, @RequestHeader(defaultValue = \"#{systemProperties.myHeader}\") String header, @Value(\"#{request.contextPath}\") String contextPath, HttpServletResponse response) throws IOException { response.getWriter().write(String.valueOf(id) + \"-\" + String.valueOf(header) + \"-\" + contextPath); }\n"
     ]
    },
    {
     "name": "stderr",
     "output_type": "stream",
     "text": [
      "100%|██████████| 791986/791986 [04:48<00:00, 2742.70it/s]\n",
      "100%|██████████| 791986/791986 [00:00<00:00, 1233947.57it/s]\n"
     ]
    }
   ],
   "source": [
    "subtoken_level_seq_lengths, subtoken_level_vocab = tokenize_and_aggregate(df['body'], tokenizer_fn=tokenize_method)"
   ]
  },
  {
   "cell_type": "code",
   "execution_count": 26,
   "metadata": {},
   "outputs": [
    {
     "name": "stderr",
     "output_type": "stream",
     "text": [
      " 14%|█▍        | 114818/791986 [00:27<03:13, 3508.42it/s]"
     ]
    },
    {
     "name": "stdout",
     "output_type": "stream",
     "text": [
      "ERROR in tokenizing: {packagesToScan}\") String... packagesToScan) return new ServiceClassPostProcessor(packagesToScan); }\n"
     ]
    },
    {
     "name": "stderr",
     "output_type": "stream",
     "text": [
      " 58%|█████▊    | 458485/791986 [02:07<01:19, 4184.87it/s]"
     ]
    },
    {
     "name": "stdout",
     "output_type": "stream",
     "text": [
      "ERROR in tokenizing: {logFile : .+}\") public void parseFile( @PathParam(\"logFile\") String logFile) throws IOException, SkylineStoreException, ResourceEstimatorException { logParserUtil.parseLog(logFile); LOGGER.debug(\"Parse logFile: {}.\", logFile); }\n"
     ]
    },
    {
     "name": "stderr",
     "output_type": "stream",
     "text": [
      " 93%|█████████▎| 737212/791986 [03:19<00:19, 2865.46it/s]"
     ]
    },
    {
     "name": "stdout",
     "output_type": "stream",
     "text": [
      "ERROR in tokenizing: {systemProperties.systemProperty}\") int param1, @Value(\"#{request.contextPath}\") String param2, String notSupported) { }\n"
     ]
    },
    {
     "name": "stderr",
     "output_type": "stream",
     "text": [
      " 94%|█████████▍| 744806/791986 [03:20<00:09, 4803.00it/s]"
     ]
    },
    {
     "name": "stdout",
     "output_type": "stream",
     "text": [
      "ERROR in tokenizing: {foo}\") String foo) return null; }\n"
     ]
    },
    {
     "name": "stderr",
     "output_type": "stream",
     "text": [
      " 95%|█████████▌| 754911/791986 [03:23<00:10, 3531.62it/s]"
     ]
    },
    {
     "name": "stdout",
     "output_type": "stream",
     "text": [
      "ERROR in tokenizing: {systemProperties[myProp]}\") Provider<String> name) return new TestBean(name.get()); }\n",
      "ERROR in tokenizing: {systemProperties[myProp]}\") Provider<String> name2) return new TestBean(name2.get()); }\n"
     ]
    },
    {
     "name": "stderr",
     "output_type": "stream",
     "text": [
      " 95%|█████████▌| 755888/791986 [03:23<00:09, 3945.34it/s]"
     ]
    },
    {
     "name": "stdout",
     "output_type": "stream",
     "text": [
      "ERROR in tokenizing: {privateInstance.age}\") String country) TestBean tb = new TestBean(\"protectedInstance\", 1); tb.setSpouse(tb); tb.setCountry(country); return tb; }\n"
     ]
    },
    {
     "name": "stderr",
     "output_type": "stream",
     "text": [
      " 97%|█████████▋| 770637/791986 [03:27<00:04, 4434.78it/s]"
     ]
    },
    {
     "name": "stdout",
     "output_type": "stream",
     "text": [
      "ERROR in tokenizing: {enigma}\") Integer enigmaParam) assertThat(enigmaParam).as(\"Enigma should have been injected via @Value by Spring\").isNotNull(); assertThat(enigmaParam).as(\"enigma\").isEqualTo(42); }\n",
      "ERROR in tokenizing: {bogus:false}\") Boolean defaultValue) assertThat(defaultValue).as(\"Default value should have been injected via @Value by Spring\").isNotNull(); assertThat(defaultValue).as(\"default value\").isEqualTo(false); }\n",
      "ERROR in tokenizing: {@dilbert.name}\") String name) assertThat(name).as(\"Dilbert's name should have been injected via SpEL expression in @Value by Spring\").isNotNull(); assertThat(name).as(\"name from SpEL expression\").isEqualTo(\"Dilbert\"); }\n",
      "ERROR in tokenizing: {enigma}\") Integer enigmaParam) assertThat(enigmaParam).as(\"Enigma should have been injected via @Value by Spring\").isNotNull(); assertThat(enigmaParam).as(\"enigma\").isEqualTo(42); }\n",
      "ERROR in tokenizing: {bogus:false}\") Boolean defaultValue) assertThat(defaultValue).as(\"Default value should have been injected via @Value by Spring\").isNotNull(); assertThat(defaultValue).as(\"default value\").isEqualTo(false); }\n",
      "ERROR in tokenizing: {@dilbert.name}\") String name) assertThat(name).as( \"Dilbert's name should have been injected via SpEL expression in @Value by Spring\").isNotNull(); assertThat(name).as(\"name from SpEL expression\").isEqualTo(\"Dilbert\"); }\n",
      "ERROR in tokenizing: {2 == (1+1)}\") Boolean spelParameterValue) this.spelParameterValue = spelParameterValue; }\n"
     ]
    },
    {
     "name": "stderr",
     "output_type": "stream",
     "text": [
      " 98%|█████████▊| 776196/791986 [03:29<00:05, 2981.68it/s]"
     ]
    },
    {
     "name": "stdout",
     "output_type": "stream",
     "text": [
      "ERROR in tokenizing: {myKey}\") String id, @RequestHeader(defaultValue = \"#{systemProperties.myHeader}\") String header, @Value(\"#{request.contextPath}\") String contextPath, HttpServletResponse response) throws IOException { response.getWriter().write(String.valueOf(id) + \"-\" + String.valueOf(header) + \"-\" + contextPath); }\n"
     ]
    },
    {
     "name": "stderr",
     "output_type": "stream",
     "text": [
      "100%|██████████| 791986/791986 [03:33<00:00, 3701.46it/s]\n",
      "100%|██████████| 791986/791986 [00:00<00:00, 1300267.60it/s]\n"
     ]
    }
   ],
   "source": [
    "subtoken_masked_strings_level_seq_lengths, subtoken_masked_strings_level_vocab = tokenize_and_aggregate(\n",
    "    df['body'],\n",
    "    tokenizer_fn=lambda method: tokenize_method(method, subtoken_level=True, lowercase=False, mask_strings=True, mask_numbers=False)\n",
    ")"
   ]
  },
  {
   "cell_type": "code",
   "execution_count": 27,
   "metadata": {},
   "outputs": [
    {
     "name": "stderr",
     "output_type": "stream",
     "text": [
      " 14%|█▍        | 114657/791986 [00:27<02:39, 4242.91it/s]"
     ]
    },
    {
     "name": "stdout",
     "output_type": "stream",
     "text": [
      "ERROR in tokenizing: {packagesToScan}\") String... packagesToScan) return new ServiceClassPostProcessor(packagesToScan); }\n"
     ]
    },
    {
     "name": "stderr",
     "output_type": "stream",
     "text": [
      " 58%|█████▊    | 458573/791986 [02:11<01:07, 4952.72it/s]"
     ]
    },
    {
     "name": "stdout",
     "output_type": "stream",
     "text": [
      "ERROR in tokenizing: {logFile : .+}\") public void parseFile( @PathParam(\"logFile\") String logFile) throws IOException, SkylineStoreException, ResourceEstimatorException { logParserUtil.parseLog(logFile); LOGGER.debug(\"Parse logFile: {}.\", logFile); }\n"
     ]
    },
    {
     "name": "stderr",
     "output_type": "stream",
     "text": [
      " 93%|█████████▎| 737309/791986 [03:33<00:18, 2878.98it/s] "
     ]
    },
    {
     "name": "stdout",
     "output_type": "stream",
     "text": [
      "ERROR in tokenizing: {systemProperties.systemProperty}\") int param1, @Value(\"#{request.contextPath}\") String param2, String notSupported) { }\n"
     ]
    },
    {
     "name": "stderr",
     "output_type": "stream",
     "text": [
      " 94%|█████████▍| 744805/791986 [03:35<00:10, 4624.67it/s]"
     ]
    },
    {
     "name": "stdout",
     "output_type": "stream",
     "text": [
      "ERROR in tokenizing: {foo}\") String foo) return null; }\n"
     ]
    },
    {
     "name": "stderr",
     "output_type": "stream",
     "text": [
      " 95%|█████████▌| 754580/791986 [03:38<00:09, 3790.44it/s]"
     ]
    },
    {
     "name": "stdout",
     "output_type": "stream",
     "text": [
      "ERROR in tokenizing: {systemProperties[myProp]}\") Provider<String> name) return new TestBean(name.get()); }\n",
      "ERROR in tokenizing: {systemProperties[myProp]}\") Provider<String> name2) return new TestBean(name2.get()); }\n"
     ]
    },
    {
     "name": "stderr",
     "output_type": "stream",
     "text": [
      " 95%|█████████▌| 755927/791986 [03:38<00:09, 3923.08it/s]"
     ]
    },
    {
     "name": "stdout",
     "output_type": "stream",
     "text": [
      "ERROR in tokenizing: {privateInstance.age}\") String country) TestBean tb = new TestBean(\"protectedInstance\", 1); tb.setSpouse(tb); tb.setCountry(country); return tb; }\n"
     ]
    },
    {
     "name": "stderr",
     "output_type": "stream",
     "text": [
      " 97%|█████████▋| 770956/791986 [03:42<00:04, 4687.80it/s]"
     ]
    },
    {
     "name": "stdout",
     "output_type": "stream",
     "text": [
      "ERROR in tokenizing: {enigma}\") Integer enigmaParam) assertThat(enigmaParam).as(\"Enigma should have been injected via @Value by Spring\").isNotNull(); assertThat(enigmaParam).as(\"enigma\").isEqualTo(42); }\n",
      "ERROR in tokenizing: {bogus:false}\") Boolean defaultValue) assertThat(defaultValue).as(\"Default value should have been injected via @Value by Spring\").isNotNull(); assertThat(defaultValue).as(\"default value\").isEqualTo(false); }\n",
      "ERROR in tokenizing: {@dilbert.name}\") String name) assertThat(name).as(\"Dilbert's name should have been injected via SpEL expression in @Value by Spring\").isNotNull(); assertThat(name).as(\"name from SpEL expression\").isEqualTo(\"Dilbert\"); }\n",
      "ERROR in tokenizing: {enigma}\") Integer enigmaParam) assertThat(enigmaParam).as(\"Enigma should have been injected via @Value by Spring\").isNotNull(); assertThat(enigmaParam).as(\"enigma\").isEqualTo(42); }\n",
      "ERROR in tokenizing: {bogus:false}\") Boolean defaultValue) assertThat(defaultValue).as(\"Default value should have been injected via @Value by Spring\").isNotNull(); assertThat(defaultValue).as(\"default value\").isEqualTo(false); }\n",
      "ERROR in tokenizing: {@dilbert.name}\") String name) assertThat(name).as( \"Dilbert's name should have been injected via SpEL expression in @Value by Spring\").isNotNull(); assertThat(name).as(\"name from SpEL expression\").isEqualTo(\"Dilbert\"); }\n",
      "ERROR in tokenizing: {2 == (1+1)}\") Boolean spelParameterValue) this.spelParameterValue = spelParameterValue; }\n"
     ]
    },
    {
     "name": "stderr",
     "output_type": "stream",
     "text": [
      " 98%|█████████▊| 775982/791986 [03:43<00:05, 3128.81it/s]"
     ]
    },
    {
     "name": "stdout",
     "output_type": "stream",
     "text": [
      "ERROR in tokenizing: {myKey}\") String id, @RequestHeader(defaultValue = \"#{systemProperties.myHeader}\") String header, @Value(\"#{request.contextPath}\") String contextPath, HttpServletResponse response) throws IOException { response.getWriter().write(String.valueOf(id) + \"-\" + String.valueOf(header) + \"-\" + contextPath); }\n"
     ]
    },
    {
     "name": "stderr",
     "output_type": "stream",
     "text": [
      "100%|██████████| 791986/791986 [03:48<00:00, 3467.48it/s]\n",
      "100%|██████████| 791986/791986 [00:00<00:00, 1323347.58it/s]\n"
     ]
    }
   ],
   "source": [
    "subtoken_masked_numbers_level_seq_lengths, subtoken_masked_numbers_level_vocab = tokenize_and_aggregate(\n",
    "    df['body'],\n",
    "    tokenizer_fn=lambda method: tokenize_method(method, subtoken_level=True, lowercase=False, mask_strings=False, mask_numbers=True)\n",
    ")"
   ]
  },
  {
   "cell_type": "code",
   "execution_count": 40,
   "metadata": {},
   "outputs": [
    {
     "name": "stderr",
     "output_type": "stream",
     "text": [
      " 14%|█▍        | 114712/791986 [00:28<02:24, 4682.57it/s]"
     ]
    },
    {
     "name": "stdout",
     "output_type": "stream",
     "text": [
      "ERROR in tokenizing: {packagesToScan}\") String... packagesToScan) return new ServiceClassPostProcessor(packagesToScan); }\n"
     ]
    },
    {
     "name": "stderr",
     "output_type": "stream",
     "text": [
      " 58%|█████▊    | 458612/791986 [02:10<01:09, 4766.63it/s]"
     ]
    },
    {
     "name": "stdout",
     "output_type": "stream",
     "text": [
      "ERROR in tokenizing: {logFile : .+}\") public void parseFile( @PathParam(\"logFile\") String logFile) throws IOException, SkylineStoreException, ResourceEstimatorException { logParserUtil.parseLog(logFile); LOGGER.debug(\"Parse logFile: {}.\", logFile); }\n"
     ]
    },
    {
     "name": "stderr",
     "output_type": "stream",
     "text": [
      " 93%|█████████▎| 737355/791986 [03:24<00:22, 2458.58it/s] "
     ]
    },
    {
     "name": "stdout",
     "output_type": "stream",
     "text": [
      "ERROR in tokenizing: {systemProperties.systemProperty}\") int param1, @Value(\"#{request.contextPath}\") String param2, String notSupported) { }\n"
     ]
    },
    {
     "name": "stderr",
     "output_type": "stream",
     "text": [
      " 94%|█████████▍| 744805/791986 [03:26<00:10, 4646.68it/s]"
     ]
    },
    {
     "name": "stdout",
     "output_type": "stream",
     "text": [
      "ERROR in tokenizing: {foo}\") String foo) return null; }\n"
     ]
    },
    {
     "name": "stderr",
     "output_type": "stream",
     "text": [
      " 95%|█████████▌| 754854/791986 [03:29<00:09, 3906.60it/s]"
     ]
    },
    {
     "name": "stdout",
     "output_type": "stream",
     "text": [
      "ERROR in tokenizing: {systemProperties[myProp]}\") Provider<String> name) return new TestBean(name.get()); }\n",
      "ERROR in tokenizing: {systemProperties[myProp]}\") Provider<String> name2) return new TestBean(name2.get()); }\n"
     ]
    },
    {
     "name": "stderr",
     "output_type": "stream",
     "text": [
      " 96%|█████████▌| 756584/791986 [03:29<00:07, 4869.19it/s]"
     ]
    },
    {
     "name": "stdout",
     "output_type": "stream",
     "text": [
      "ERROR in tokenizing: {privateInstance.age}\") String country) TestBean tb = new TestBean(\"protectedInstance\", 1); tb.setSpouse(tb); tb.setCountry(country); return tb; }\n"
     ]
    },
    {
     "name": "stderr",
     "output_type": "stream",
     "text": [
      " 97%|█████████▋| 770838/791986 [03:32<00:04, 5142.04it/s]"
     ]
    },
    {
     "name": "stdout",
     "output_type": "stream",
     "text": [
      "ERROR in tokenizing: {enigma}\") Integer enigmaParam) assertThat(enigmaParam).as(\"Enigma should have been injected via @Value by Spring\").isNotNull(); assertThat(enigmaParam).as(\"enigma\").isEqualTo(42); }\n",
      "ERROR in tokenizing: {bogus:false}\") Boolean defaultValue) assertThat(defaultValue).as(\"Default value should have been injected via @Value by Spring\").isNotNull(); assertThat(defaultValue).as(\"default value\").isEqualTo(false); }\n",
      "ERROR in tokenizing: {@dilbert.name}\") String name) assertThat(name).as(\"Dilbert's name should have been injected via SpEL expression in @Value by Spring\").isNotNull(); assertThat(name).as(\"name from SpEL expression\").isEqualTo(\"Dilbert\"); }\n",
      "ERROR in tokenizing: {enigma}\") Integer enigmaParam) assertThat(enigmaParam).as(\"Enigma should have been injected via @Value by Spring\").isNotNull(); assertThat(enigmaParam).as(\"enigma\").isEqualTo(42); }\n",
      "ERROR in tokenizing: {bogus:false}\") Boolean defaultValue) assertThat(defaultValue).as(\"Default value should have been injected via @Value by Spring\").isNotNull(); assertThat(defaultValue).as(\"default value\").isEqualTo(false); }\n",
      "ERROR in tokenizing: {@dilbert.name}\") String name) assertThat(name).as( \"Dilbert's name should have been injected via SpEL expression in @Value by Spring\").isNotNull(); assertThat(name).as(\"name from SpEL expression\").isEqualTo(\"Dilbert\"); }\n",
      "ERROR in tokenizing: {2 == (1+1)}\") Boolean spelParameterValue) this.spelParameterValue = spelParameterValue; }\n"
     ]
    },
    {
     "name": "stderr",
     "output_type": "stream",
     "text": [
      " 98%|█████████▊| 776003/791986 [03:33<00:04, 3597.11it/s]"
     ]
    },
    {
     "name": "stdout",
     "output_type": "stream",
     "text": [
      "ERROR in tokenizing: {myKey}\") String id, @RequestHeader(defaultValue = \"#{systemProperties.myHeader}\") String header, @Value(\"#{request.contextPath}\") String contextPath, HttpServletResponse response) throws IOException { response.getWriter().write(String.valueOf(id) + \"-\" + String.valueOf(header) + \"-\" + contextPath); }\n"
     ]
    },
    {
     "name": "stderr",
     "output_type": "stream",
     "text": [
      "100%|██████████| 791986/791986 [03:38<00:00, 3618.35it/s]\n",
      "100%|██████████| 791986/791986 [00:00<00:00, 1278409.23it/s]\n"
     ]
    }
   ],
   "source": [
    "subtoken_cased_level_seq_lengths, subtoken_cased_level_vocab = tokenize_and_aggregate(\n",
    "    df['body'],\n",
    "    tokenizer_fn=lambda method: tokenize_method(method, subtoken_level=True, lowercase=False, mask_strings=False, mask_numbers=False)\n",
    ")"
   ]
  },
  {
   "cell_type": "code",
   "execution_count": 30,
   "metadata": {},
   "outputs": [],
   "source": [
    "def seq_lengths_loglog_plot(sequences_lengths, labels):\n",
    "    series = [\n",
    "        pd.DataFrame.from_dict(Counter(sequence_lengths), orient='index') \\\n",
    "            .reset_index().rename(columns={'index': 'length', 0: 'count'}) \\\n",
    "            .sort_values(by='length')\n",
    "        for sequence_lengths in sequences_lengths\n",
    "    ]\n",
    "\n",
    "    max_length = np.max([s['length'].max() for s in series])\n",
    "    max_count = np.max([s['count'].max() for s in series])\n",
    "\n",
    "    for s in series:\n",
    "        plt.loglog(s['length'], s['count'], alpha=0.75)\n",
    "\n",
    "    plt.grid(True)\n",
    "    \n",
    "    log_base = 2\n",
    "    \n",
    "    plt.xlabel('Sequence Length', fontsize=18)\n",
    "    plt.gca().xaxis.set_major_formatter(tick.StrMethodFormatter('{x:,.0f}'))\n",
    "    plt.xticks([log_base ** x for x in range(math.ceil(math.log(max_length, log_base)))], fontsize=16, rotation=-45)\n",
    "    \n",
    "    plt.ylabel('Number of Samples', fontsize=18)\n",
    "    plt.gca().yaxis.set_major_formatter(tick.StrMethodFormatter('{x:,.0f}'))\n",
    "    plt.yticks([log_base ** x for x in range(math.ceil(math.log(max_count, log_base)))], fontsize=16)\n",
    "\n",
    "    plt.legend(labels=labels, fontsize=18, loc='upper right')"
   ]
  },
  {
   "cell_type": "code",
   "execution_count": 31,
   "metadata": {},
   "outputs": [
    {
     "data": {
      "image/png": "[encoded data removed]",
      "text/plain": [
       "<Figure size 1080x720 with 1 Axes>"
      ]
     },
     "metadata": {
      "needs_background": "light"
     },
     "output_type": "display_data"
    }
   ],
   "source": [
    "seq_lengths_loglog_plot([\n",
    "    char_level_seq_lengths,\n",
    "    token_level_seq_lengths,\n",
    "    subtoken_level_seq_lengths,\n",
    "], labels=[\n",
    "    'character level',\n",
    "    'token level',\n",
    "    'subtoken level',\n",
    "])"
   ]
  },
  {
   "cell_type": "code",
   "execution_count": 34,
   "metadata": {},
   "outputs": [],
   "source": [
    "def quantile_plot(series, labels):\n",
    "    if len(series) < 1:\n",
    "        raise AttributeError('At least one series must be given')\n",
    "    \n",
    "    if len(series) != len(labels):\n",
    "        raise AttributeError('The given series and labels must have equal lengths')\n",
    "    \n",
    "    plots_points = [\n",
    "        [\n",
    "            (x / 100, serie.quantile(x / 100))\n",
    "            for x in range(0, 100, 5)\n",
    "        ]\n",
    "        for serie in series\n",
    "    ]\n",
    "    \n",
    "    xs = [t[0] for t in plots_points[0]]\n",
    "    \n",
    "    print(f'Analyzing {len(xs)} quantiles: {xs}')\n",
    "    \n",
    "    max_y = 0\n",
    "    \n",
    "    for plot_points in plots_points:\n",
    "        ys = [t[1] for t in plot_points]\n",
    "        max_y = max(max_y, np.max(ys))\n",
    "        plt.plot(xs, ys, drawstyle='steps-mid')\n",
    "    \n",
    "    plt.xlabel('Proportion of Covered Sequences (Quantile)', fontsize=18)\n",
    "    plt.xticks(xs, fontsize=16)\n",
    "    \n",
    "    plt.ylabel('Maximum Sequence Length', fontsize=18)\n",
    "    plt.yticks(np.linspace(0, max_y, 20), fontsize=16)\n",
    "    \n",
    "    plt.grid(True)\n",
    "    plt.legend(labels=labels, fontsize=18)"
   ]
  },
  {
   "cell_type": "code",
   "execution_count": 35,
   "metadata": {},
   "outputs": [
    {
     "name": "stdout",
     "output_type": "stream",
     "text": [
      "Analyzing 20 quantiles: [0.0, 0.05, 0.1, 0.15, 0.2, 0.25, 0.3, 0.35, 0.4, 0.45, 0.5, 0.55, 0.6, 0.65, 0.7, 0.75, 0.8, 0.85, 0.9, 0.95]\n"
     ]
    },
    {
     "data": {
      "image/png": "[encoded data removed]",
      "text/plain": [
       "<Figure size 1080x720 with 1 Axes>"
      ]
     },
     "metadata": {
      "needs_background": "light"
     },
     "output_type": "display_data"
    }
   ],
   "source": [
    "quantile_plot([\n",
    "    char_level_seq_lengths,\n",
    "    token_level_seq_lengths,\n",
    "    subtoken_level_seq_lengths,\n",
    "], labels=[\n",
    "    'character level',\n",
    "    'token level',\n",
    "    'subtoken level',\n",
    "])"
   ]
  },
  {
   "cell_type": "code",
   "execution_count": 51,
   "metadata": {},
   "outputs": [
    {
     "data": {
      "text/plain": [
       "90946"
      ]
     },
     "execution_count": 51,
     "metadata": {},
     "output_type": "execute_result"
    }
   ],
   "source": [
    "char_level_seq_lengths.max()"
   ]
  },
  {
   "cell_type": "code",
   "execution_count": 52,
   "metadata": {},
   "outputs": [
    {
     "name": "stdout",
     "output_type": "stream",
     "text": [
      "Maxmimum Sequence Lengths:\n"
     ]
    },
    {
     "data": {
      "text/plain": [
       "{'character level': 90946,\n",
       " 'token level': 16004,\n",
       " 'subtoken level, cased': 26444,\n",
       " 'subtoken level, cased, masked strings': 26444,\n",
       " 'subtoken level, cased, masked numbers': 26444,\n",
       " 'subtoken level, uncased, masked strings & numbers': 26444}"
      ]
     },
     "execution_count": 52,
     "metadata": {},
     "output_type": "execute_result"
    }
   ],
   "source": [
    "print('Maxmimum Sequence Lengths:')\n",
    "{\n",
    "    'character level': char_level_seq_lengths.max(),\n",
    "    'token level': token_level_seq_lengths.max(),\n",
    "    \n",
    "    # subtoken level sequences have the same max lengths across their preprocessing variations\n",
    "    'subtoken level, cased': subtoken_cased_level_seq_lengths.max(),\n",
    "    'subtoken level, cased, masked strings': subtoken_masked_strings_level_seq_lengths.max(),\n",
    "    'subtoken level, cased, masked numbers': subtoken_masked_numbers_level_seq_lengths.max(),\n",
    "    'subtoken level, uncased, masked strings & numbers': subtoken_level_seq_lengths.max(),\n",
    "}"
   ]
  },
  {
   "cell_type": "code",
   "execution_count": 36,
   "metadata": {},
   "outputs": [],
   "source": [
    "def cumsum_plot(series, labels):\n",
    "    if len(series) < 1:\n",
    "        raise AttributeError('At least one series must be given')\n",
    "    \n",
    "    if len(series) != len(labels):\n",
    "        raise AttributeError('The given series and labels must have equal lengths')\n",
    "    \n",
    "    plots_points = [\n",
    "        (serie.cumsum() / serie.sum())\n",
    "        for serie in series\n",
    "    ]\n",
    "    \n",
    "    max_seq_len = np.max([len(s) for s in series])\n",
    "\n",
    "    for plot_points in plots_points:\n",
    "        plt.semilogx(range(len(plot_points)), plot_points) #, drawstyle='steps')\n",
    "\n",
    "    plt.grid(True)\n",
    "    \n",
    "    plt.xlabel('Vocabulary Size', fontsize=18)\n",
    "    plt.gca().xaxis.set_major_formatter(tick.StrMethodFormatter('{x:,.0f}'))\n",
    "    plt.xticks([2 ** x for x in range(math.ceil(math.log(max_seq_len, 2)))], fontsize=16, rotation=-45)\n",
    "    \n",
    "    plt.ylabel('Vocabulary Coverage', fontsize=18)\n",
    "    plt.yticks(np.arange(0, 1.01, step=0.05), fontsize=16)\n",
    "    \n",
    "    plt.legend(labels=labels, fontsize=18, loc='lower right')"
   ]
  },
  {
   "cell_type": "code",
   "execution_count": 45,
   "metadata": {},
   "outputs": [
    {
     "data": {
      "image/png": "[encoded data removed]",
      "text/plain": [
       "<Figure size 1080x720 with 1 Axes>"
      ]
     },
     "metadata": {
      "needs_background": "light"
     },
     "output_type": "display_data"
    }
   ],
   "source": [
    "cumsum_plot([\n",
    "    char_level_vocab['count'],\n",
    "    token_level_vocab['count'],\n",
    "    subtoken_cased_level_vocab['count'],\n",
    "    subtoken_masked_strings_level_vocab['count'],\n",
    "    subtoken_masked_numbers_level_vocab['count'],\n",
    "    subtoken_level_vocab['count'],\n",
    "], labels=[\n",
    "    'character level',\n",
    "    'token level',\n",
    "    'subtoken level, cased',\n",
    "    'subtoken level, cased, masked strings',\n",
    "    'subtoken level, cased, masked numbers',\n",
    "    'subtoken level, uncased, masked strings & numbers',\n",
    "])"
   ]
  },
  {
   "cell_type": "code",
   "execution_count": 49,
   "metadata": {},
   "outputs": [
    {
     "name": "stdout",
     "output_type": "stream",
     "text": [
      "Vocabulary sizes:\n"
     ]
    },
    {
     "data": {
      "text/plain": [
       "{'character level': 1266,\n",
       " 'token level': 446727,\n",
       " 'subtoken level, cased': 347141,\n",
       " 'subtoken level, cased, masked strings': 74616,\n",
       " 'subtoken level, cased, masked numbers': 314029,\n",
       " 'subtoken level, uncased, masked strings & numbers': 24265}"
      ]
     },
     "execution_count": 49,
     "metadata": {},
     "output_type": "execute_result"
    }
   ],
   "source": [
    "print('Vocabulary sizes:')\n",
    "{\n",
    "    'character level': len(char_level_vocab),\n",
    "    'token level': len(token_level_vocab),\n",
    "    'subtoken level, cased': len(subtoken_cased_level_vocab),\n",
    "    'subtoken level, cased, masked strings': len(subtoken_masked_strings_level_vocab),\n",
    "    'subtoken level, cased, masked numbers': len(subtoken_masked_numbers_level_vocab),\n",
    "    'subtoken level, uncased, masked strings & numbers': len(subtoken_level_vocab),\n",
    "}"
   ]
  },
  {
   "cell_type": "code",
   "execution_count": 10,
   "metadata": {},
   "outputs": [
    {
     "data": {
      "text/plain": [
       "'{ IntegerList l = new IntegerList(); l.add(0x110000); thrown.expect(IllegalArgumentException.class); l.toCharArray(); }'"
      ]
     },
     "execution_count": 10,
     "metadata": {},
     "output_type": "execute_result"
    }
   ],
   "source": [
    "code = df[df.body.str.contains('0x')]['body'].values[1]\n",
    "code"
   ]
  },
  {
   "cell_type": "code",
   "execution_count": 29,
   "metadata": {},
   "outputs": [
    {
     "name": "stdout",
     "output_type": "stream",
     "text": [
      "0 Separator \"{\" line 1, position 1 False\n",
      "1 Identifier \"IntegerList\" line 1, position 3 False\n",
      "2 Identifier \"l\" line 1, position 15 False\n",
      "3 Operator \"=\" line 1, position 17 False\n",
      "4 Keyword \"new\" line 1, position 19 False\n",
      "5 Identifier \"IntegerList\" line 1, position 23 False\n",
      "6 Separator \"(\" line 1, position 34 False\n",
      "7 Separator \")\" line 1, position 35 False\n",
      "8 Separator \";\" line 1, position 36 False\n",
      "9 Identifier \"l\" line 1, position 38 False\n",
      "10 Separator \".\" line 1, position 39 False\n",
      "11 Identifier \"add\" line 1, position 40 False\n",
      "12 Separator \"(\" line 1, position 43 False\n",
      "13 HexInteger \"0x110000\" line 1, position 44 False\n",
      "14 Separator \")\" line 1, position 52 False\n",
      "15 Separator \";\" line 1, position 53 False\n",
      "16 Identifier \"thrown\" line 1, position 55 False\n",
      "17 Separator \".\" line 1, position 61 False\n",
      "18 Identifier \"expect\" line 1, position 62 False\n",
      "19 Separator \"(\" line 1, position 68 False\n",
      "20 Identifier \"IllegalArgumentException\" line 1, position 69 False\n",
      "21 Separator \".\" line 1, position 93 False\n",
      "22 Keyword \"class\" line 1, position 94 False\n",
      "23 Separator \")\" line 1, position 99 False\n",
      "24 Separator \";\" line 1, position 100 False\n",
      "25 Identifier \"l\" line 1, position 102 False\n",
      "26 Separator \".\" line 1, position 103 False\n",
      "27 Identifier \"toCharArray\" line 1, position 104 False\n",
      "28 Separator \"(\" line 1, position 115 False\n",
      "29 Separator \")\" line 1, position 116 False\n",
      "30 Separator \";\" line 1, position 117 False\n",
      "31 Separator \"}\" line 1, position 119 False\n"
     ]
    }
   ],
   "source": [
    "import javalang\n",
    "\n",
    "for id, token in enumerate(list(javalang.tokenizer.tokenize(code))):\n",
    "    print(id, token, type(token) == javalang.tokenizer.Literal)"
   ]
  },
  {
   "cell_type": "code",
   "execution_count": 10,
   "metadata": {},
   "outputs": [
    {
     "name": "stderr",
     "output_type": "stream",
     "text": [
      "100%|██████████| 100/100 [00:00<00:00, 1308.39it/s]"
     ]
    },
    {
     "name": "stdout",
     "output_type": "stream",
     "text": [
      "{ Map<String, byte[]> data = new HashMap<>(); Charset utf8 = Charset.forName(\"UTF-8\"); content.entrySet().forEach( entry -> data.put(entry.getKey(), entry.getValue().getBytes(utf8)) ); return data; }\n"
     ]
    },
    {
     "name": "stderr",
     "output_type": "stream",
     "text": [
      "\n"
     ]
    },
    {
     "data": {
      "text/plain": [
       "0     [{, return, stream, ., get, text, (, interval,...\n",
       "1                   [{, stream, ., consume, (, ), ;, }]\n",
       "2     [{, int, c, =, stream, ., la, (, i, ), ;, if, ...\n",
       "3              [{, return, stream, ., mark, (, ), ;, }]\n",
       "4           [{, stream, ., release, (, marker, ), ;, }]\n",
       "                            ...                        \n",
       "95    [{, return, system, ., get, property, (, <stri...\n",
       "96    [{, if, (, !, netstandard, ), return, new, fil...\n",
       "97    [{, string, [, ], roots, =, {, <string>, ,, <s...\n",
       "98    [{, try, {, string, pack, =, base, c, sharp, t...\n",
       "99                                          [{, try, {]\n",
       "Name: body, Length: 100, dtype: object"
      ]
     },
     "execution_count": 10,
     "metadata": {},
     "output_type": "execute_result"
    }
   ],
   "source": [
    "print(df[df.index == 301881]['body'].values[0])\n",
    "df['body'].head(100).progress_apply(tokenize_method)"
   ]
  },
  {
   "cell_type": "code",
   "execution_count": 34,
   "metadata": {},
   "outputs": [
    {
     "name": "stderr",
     "output_type": "stream",
     "text": [
      "100%|██████████| 791986/791986 [00:02<00:00, 315777.93it/s]\n"
     ]
    }
   ],
   "source": [
    "# Tokenize output sequences\n",
    "df['outputs'] = df['method_name'].progress_apply(split_subtokens)"
   ]
  },
  {
   "cell_type": "code",
   "execution_count": 35,
   "metadata": {},
   "outputs": [],
   "source": [
    "# Filter out the samples which cannot be tokenized\n",
    "df = df[df.inputs.str.len() > 0]"
   ]
  },
  {
   "cell_type": "code",
   "execution_count": 16,
   "metadata": {},
   "outputs": [
    {
     "data": {
      "text/plain": [
       "24265"
      ]
     },
     "execution_count": 16,
     "metadata": {},
     "output_type": "execute_result"
    }
   ],
   "source": [
    "len(unique_body_tokens)"
   ]
  },
  {
   "cell_type": "code",
   "execution_count": 33,
   "metadata": {},
   "outputs": [
    {
     "data": {
      "text/plain": [
       "732"
      ]
     },
     "execution_count": 33,
     "metadata": {},
     "output_type": "execute_result"
    }
   ],
   "source": [
    "at_least_two_occurences_mask = (unique_body_tokens['count'] > 1)\n",
    "numbers_mask = unique_body_tokens.token.str.contains('^[0-9]+$')\n",
    "\n",
    "# only_numbers\n",
    "len(unique_body_tokens[numbers_mask])"
   ]
  },
  {
   "cell_type": "code",
   "execution_count": 70,
   "metadata": {},
   "outputs": [
    {
     "data": {
      "text/html": [
       "<div>\n",
       "<style scoped>\n",
       "    .dataframe tbody tr th:only-of-type {\n",
       "        vertical-align: middle;\n",
       "    }\n",
       "\n",
       "    .dataframe tbody tr th {\n",
       "        vertical-align: top;\n",
       "    }\n",
       "\n",
       "    .dataframe thead th {\n",
       "        text-align: right;\n",
       "    }\n",
       "</style>\n",
       "<table border=\"1\" class=\"dataframe\">\n",
       "  <thead>\n",
       "    <tr style=\"text-align: right;\">\n",
       "      <th></th>\n",
       "      <th>token</th>\n",
       "      <th>count</th>\n",
       "    </tr>\n",
       "  </thead>\n",
       "  <tbody>\n",
       "    <tr>\n",
       "      <th>0</th>\n",
       "      <td></td>\n",
       "      <td>62230470</td>\n",
       "    </tr>\n",
       "    <tr>\n",
       "      <th>1</th>\n",
       "      <td>STR</td>\n",
       "      <td>825544</td>\n",
       "    </tr>\n",
       "    <tr>\n",
       "      <th>2</th>\n",
       "      <td>get</td>\n",
       "      <td>663928</td>\n",
       "    </tr>\n",
       "    <tr>\n",
       "      <th>3</th>\n",
       "      <td>new</td>\n",
       "      <td>514250</td>\n",
       "    </tr>\n",
       "    <tr>\n",
       "      <th>4</th>\n",
       "      <td>return</td>\n",
       "      <td>511853</td>\n",
       "    </tr>\n",
       "    <tr>\n",
       "      <th>...</th>\n",
       "      <td>...</td>\n",
       "      <td>...</td>\n",
       "    </tr>\n",
       "    <tr>\n",
       "      <th>56161</th>\n",
       "      <td>trapping</td>\n",
       "      <td>2</td>\n",
       "    </tr>\n",
       "    <tr>\n",
       "      <th>56176</th>\n",
       "      <td>Hotel</td>\n",
       "      <td>2</td>\n",
       "    </tr>\n",
       "    <tr>\n",
       "      <th>56508</th>\n",
       "      <td>Relevances</td>\n",
       "      <td>2</td>\n",
       "    </tr>\n",
       "    <tr>\n",
       "      <th>56510</th>\n",
       "      <td>delve</td>\n",
       "      <td>2</td>\n",
       "    </tr>\n",
       "    <tr>\n",
       "      <th>56764</th>\n",
       "      <td>nsp</td>\n",
       "      <td>2</td>\n",
       "    </tr>\n",
       "  </tbody>\n",
       "</table>\n",
       "<p>36314 rows × 2 columns</p>\n",
       "</div>"
      ],
      "text/plain": [
       "            token     count\n",
       "0                  62230470\n",
       "1             STR    825544\n",
       "2             get    663928\n",
       "3             new    514250\n",
       "4          return    511853\n",
       "...           ...       ...\n",
       "56161    trapping         2\n",
       "56176       Hotel         2\n",
       "56508  Relevances         2\n",
       "56510       delve         2\n",
       "56764         nsp         2\n",
       "\n",
       "[36314 rows x 2 columns]"
      ]
     },
     "execution_count": 70,
     "metadata": {},
     "output_type": "execute_result"
    }
   ],
   "source": [
    "reduced_vocabulary = unique_body_tokens[~numbers_mask & at_least_two_occurences_mask]\n",
    "reduced_vocabulary"
   ]
  },
  {
   "cell_type": "code",
   "execution_count": 66,
   "metadata": {},
   "outputs": [
    {
     "data": {
      "text/html": [
       "<div>\n",
       "<style scoped>\n",
       "    .dataframe tbody tr th:only-of-type {\n",
       "        vertical-align: middle;\n",
       "    }\n",
       "\n",
       "    .dataframe tbody tr th {\n",
       "        vertical-align: top;\n",
       "    }\n",
       "\n",
       "    .dataframe thead th {\n",
       "        text-align: right;\n",
       "    }\n",
       "</style>\n",
       "<table border=\"1\" class=\"dataframe\">\n",
       "  <thead>\n",
       "    <tr style=\"text-align: right;\">\n",
       "      <th></th>\n",
       "      <th>token</th>\n",
       "      <th>count</th>\n",
       "    </tr>\n",
       "  </thead>\n",
       "  <tbody>\n",
       "    <tr>\n",
       "      <th>0</th>\n",
       "      <td>joda</td>\n",
       "      <td>3</td>\n",
       "    </tr>\n",
       "    <tr>\n",
       "      <th>1</th>\n",
       "      <td>decoding</td>\n",
       "      <td>3</td>\n",
       "    </tr>\n",
       "    <tr>\n",
       "      <th>2</th>\n",
       "      <td>svg</td>\n",
       "      <td>3</td>\n",
       "    </tr>\n",
       "    <tr>\n",
       "      <th>3</th>\n",
       "      <td>asterisk</td>\n",
       "      <td>3</td>\n",
       "    </tr>\n",
       "    <tr>\n",
       "      <th>4</th>\n",
       "      <td>association</td>\n",
       "      <td>3</td>\n",
       "    </tr>\n",
       "    <tr>\n",
       "      <th>...</th>\n",
       "      <td>...</td>\n",
       "      <td>...</td>\n",
       "    </tr>\n",
       "    <tr>\n",
       "      <th>20908</th>\n",
       "      <td>badpkg</td>\n",
       "      <td>1</td>\n",
       "    </tr>\n",
       "    <tr>\n",
       "      <th>20909</th>\n",
       "      <td>slip</td>\n",
       "      <td>1</td>\n",
       "    </tr>\n",
       "    <tr>\n",
       "      <th>20910</th>\n",
       "      <td>peeling</td>\n",
       "      <td>1</td>\n",
       "    </tr>\n",
       "    <tr>\n",
       "      <th>20911</th>\n",
       "      <td>retraction</td>\n",
       "      <td>1</td>\n",
       "    </tr>\n",
       "    <tr>\n",
       "      <th>20912</th>\n",
       "      <td>nsp</td>\n",
       "      <td>1</td>\n",
       "    </tr>\n",
       "  </tbody>\n",
       "</table>\n",
       "<p>20913 rows × 2 columns</p>\n",
       "</div>"
      ],
      "text/plain": [
       "             token  count\n",
       "0             joda      3\n",
       "1         decoding      3\n",
       "2              svg      3\n",
       "3         asterisk      3\n",
       "4      association      3\n",
       "...            ...    ...\n",
       "20908       badpkg      1\n",
       "20909         slip      1\n",
       "20910      peeling      1\n",
       "20911   retraction      1\n",
       "20912          nsp      1\n",
       "\n",
       "[20913 rows x 2 columns]"
      ]
     },
     "execution_count": 66,
     "metadata": {},
     "output_type": "execute_result"
    }
   ],
   "source": [
    "# len(Counter(reduced_vocabulary.token.apply(lambda s: s.lower()).values))\n",
    "\n",
    "uncased_unique_tokens = pd.DataFrame.from_dict(Counter(reduced_vocabulary.token.str.lower()), orient='index') \\\n",
    "    .sort_values(by=0, ascending=False) \\\n",
    "    .reset_index().rename(columns={'index': 'token', 0: 'count'})\n",
    "\n",
    "uncased_unique_tokens"
   ]
  },
  {
   "cell_type": "code",
   "execution_count": 69,
   "metadata": {},
   "outputs": [
    {
     "data": {
      "text/html": [
       "<div>\n",
       "<style scoped>\n",
       "    .dataframe tbody tr th:only-of-type {\n",
       "        vertical-align: middle;\n",
       "    }\n",
       "\n",
       "    .dataframe tbody tr th {\n",
       "        vertical-align: top;\n",
       "    }\n",
       "\n",
       "    .dataframe thead th {\n",
       "        text-align: right;\n",
       "    }\n",
       "</style>\n",
       "<table border=\"1\" class=\"dataframe\">\n",
       "  <thead>\n",
       "    <tr style=\"text-align: right;\">\n",
       "      <th></th>\n",
       "      <th>token</th>\n",
       "      <th>count</th>\n",
       "    </tr>\n",
       "  </thead>\n",
       "  <tbody>\n",
       "    <tr>\n",
       "      <th>0</th>\n",
       "      <td>joda</td>\n",
       "      <td>3</td>\n",
       "    </tr>\n",
       "    <tr>\n",
       "      <th>1</th>\n",
       "      <td>decoding</td>\n",
       "      <td>3</td>\n",
       "    </tr>\n",
       "    <tr>\n",
       "      <th>2</th>\n",
       "      <td>svg</td>\n",
       "      <td>3</td>\n",
       "    </tr>\n",
       "    <tr>\n",
       "      <th>3</th>\n",
       "      <td>asterisk</td>\n",
       "      <td>3</td>\n",
       "    </tr>\n",
       "    <tr>\n",
       "      <th>4</th>\n",
       "      <td>association</td>\n",
       "      <td>3</td>\n",
       "    </tr>\n",
       "    <tr>\n",
       "      <th>...</th>\n",
       "      <td>...</td>\n",
       "      <td>...</td>\n",
       "    </tr>\n",
       "    <tr>\n",
       "      <th>10022</th>\n",
       "      <td>positives</td>\n",
       "      <td>2</td>\n",
       "    </tr>\n",
       "    <tr>\n",
       "      <th>10023</th>\n",
       "      <td>lifespan</td>\n",
       "      <td>2</td>\n",
       "    </tr>\n",
       "    <tr>\n",
       "      <th>10024</th>\n",
       "      <td>multiparts</td>\n",
       "      <td>2</td>\n",
       "    </tr>\n",
       "    <tr>\n",
       "      <th>10025</th>\n",
       "      <td>bsm</td>\n",
       "      <td>2</td>\n",
       "    </tr>\n",
       "    <tr>\n",
       "      <th>10026</th>\n",
       "      <td>bigger</td>\n",
       "      <td>2</td>\n",
       "    </tr>\n",
       "  </tbody>\n",
       "</table>\n",
       "<p>10027 rows × 2 columns</p>\n",
       "</div>"
      ],
      "text/plain": [
       "             token  count\n",
       "0             joda      3\n",
       "1         decoding      3\n",
       "2              svg      3\n",
       "3         asterisk      3\n",
       "4      association      3\n",
       "...            ...    ...\n",
       "10022    positives      2\n",
       "10023     lifespan      2\n",
       "10024   multiparts      2\n",
       "10025          bsm      2\n",
       "10026       bigger      2\n",
       "\n",
       "[10027 rows x 2 columns]"
      ]
     },
     "execution_count": 69,
     "metadata": {},
     "output_type": "execute_result"
    }
   ],
   "source": [
    "uncased_unique_tokens[uncased_unique_tokens['count'] > 1]"
   ]
  },
  {
   "cell_type": "code",
   "execution_count": 65,
   "metadata": {},
   "outputs": [
    {
     "data": {
      "text/html": [
       "<div>\n",
       "<style scoped>\n",
       "    .dataframe tbody tr th:only-of-type {\n",
       "        vertical-align: middle;\n",
       "    }\n",
       "\n",
       "    .dataframe tbody tr th {\n",
       "        vertical-align: top;\n",
       "    }\n",
       "\n",
       "    .dataframe thead th {\n",
       "        text-align: right;\n",
       "    }\n",
       "</style>\n",
       "<table border=\"1\" class=\"dataframe\">\n",
       "  <thead>\n",
       "    <tr style=\"text-align: right;\">\n",
       "      <th></th>\n",
       "      <th>token</th>\n",
       "      <th>count</th>\n",
       "    </tr>\n",
       "  </thead>\n",
       "  <tbody>\n",
       "    <tr>\n",
       "      <th>7141</th>\n",
       "      <td>Association</td>\n",
       "      <td>148</td>\n",
       "    </tr>\n",
       "    <tr>\n",
       "      <th>9215</th>\n",
       "      <td>association</td>\n",
       "      <td>85</td>\n",
       "    </tr>\n",
       "    <tr>\n",
       "      <th>24350</th>\n",
       "      <td>ASSOCIATION</td>\n",
       "      <td>8</td>\n",
       "    </tr>\n",
       "  </tbody>\n",
       "</table>\n",
       "</div>"
      ],
      "text/plain": [
       "             token  count\n",
       "7141   Association    148\n",
       "9215   association     85\n",
       "24350  ASSOCIATION      8"
      ]
     },
     "execution_count": 65,
     "metadata": {},
     "output_type": "execute_result"
    }
   ],
   "source": [
    "import re\n",
    "unique_body_tokens[unique_body_tokens.token.str.lower().str.contains('^association$')]"
   ]
  },
  {
   "cell_type": "code",
   "execution_count": 18,
   "metadata": {},
   "outputs": [
    {
     "data": {
      "text/html": [
       "<div>\n",
       "<style scoped>\n",
       "    .dataframe tbody tr th:only-of-type {\n",
       "        vertical-align: middle;\n",
       "    }\n",
       "\n",
       "    .dataframe tbody tr th {\n",
       "        vertical-align: top;\n",
       "    }\n",
       "\n",
       "    .dataframe thead th {\n",
       "        text-align: right;\n",
       "    }\n",
       "</style>\n",
       "<table border=\"1\" class=\"dataframe\">\n",
       "  <thead>\n",
       "    <tr style=\"text-align: right;\">\n",
       "      <th></th>\n",
       "      <th>token</th>\n",
       "      <th>count</th>\n",
       "    </tr>\n",
       "  </thead>\n",
       "  <tbody>\n",
       "    <tr>\n",
       "      <th>459</th>\n",
       "      <td>b'_VALUE'</td>\n",
       "      <td>9336</td>\n",
       "    </tr>\n",
       "    <tr>\n",
       "      <th>785</th>\n",
       "      <td>b'__'</td>\n",
       "      <td>4790</td>\n",
       "    </tr>\n",
       "    <tr>\n",
       "      <th>810</th>\n",
       "      <td>b'_NAME'</td>\n",
       "      <td>4635</td>\n",
       "    </tr>\n",
       "    <tr>\n",
       "      <th>1026</th>\n",
       "      <td>b'_8'</td>\n",
       "      <td>3463</td>\n",
       "    </tr>\n",
       "    <tr>\n",
       "      <th>1132</th>\n",
       "      <td>b'_ID'</td>\n",
       "      <td>3016</td>\n",
       "    </tr>\n",
       "    <tr>\n",
       "      <th>...</th>\n",
       "      <td>...</td>\n",
       "      <td>...</td>\n",
       "    </tr>\n",
       "    <tr>\n",
       "      <th>102079</th>\n",
       "      <td>b'_NAME_OFFSET'</td>\n",
       "      <td>1</td>\n",
       "    </tr>\n",
       "    <tr>\n",
       "      <th>102080</th>\n",
       "      <td>b'_NAME_MASK'</td>\n",
       "      <td>1</td>\n",
       "    </tr>\n",
       "    <tr>\n",
       "      <th>102081</th>\n",
       "      <td>b'_NAMESPACE_EXT_OFFSET'</td>\n",
       "      <td>1</td>\n",
       "    </tr>\n",
       "    <tr>\n",
       "      <th>102082</th>\n",
       "      <td>b'_NAMESPACE_EXT_MASK'</td>\n",
       "      <td>1</td>\n",
       "    </tr>\n",
       "    <tr>\n",
       "      <th>102083</th>\n",
       "      <td>b'_NAMESPACE_OFFSET'</td>\n",
       "      <td>1</td>\n",
       "    </tr>\n",
       "  </tbody>\n",
       "</table>\n",
       "<p>37812 rows × 2 columns</p>\n",
       "</div>"
      ],
      "text/plain": [
       "                           token  count\n",
       "459                    b'_VALUE'   9336\n",
       "785                        b'__'   4790\n",
       "810                     b'_NAME'   4635\n",
       "1026                       b'_8'   3463\n",
       "1132                      b'_ID'   3016\n",
       "...                          ...    ...\n",
       "102079           b'_NAME_OFFSET'      1\n",
       "102080             b'_NAME_MASK'      1\n",
       "102081  b'_NAMESPACE_EXT_OFFSET'      1\n",
       "102082    b'_NAMESPACE_EXT_MASK'      1\n",
       "102083      b'_NAMESPACE_OFFSET'      1\n",
       "\n",
       "[37812 rows x 2 columns]"
      ]
     },
     "execution_count": 18,
     "metadata": {},
     "output_type": "execute_result"
    }
   ],
   "source": [
    "unique_body_tokens[unique_body_tokens.token.apply(lambda s: s.decode('utf-8')).str.contains('_')]"
   ]
  },
  {
   "cell_type": "code",
   "execution_count": null,
   "metadata": {},
   "outputs": [],
   "source": [
    "# uncased unique sub-tokens\n",
    "unique_cased_body_subtokens = pd.DataFrame.from_dict(Counter(lists_to_series(df['inputs'].progress_apply(lambda l: [x.lower() for x in l])).values), orient='index') \\\n",
    "    .sort_values(by=0, ascending=False) \\\n",
    "    .reset_index().rename(columns={'index': 'token', 0: 'count'})\n",
    "\n",
    "unique_cased_body_subtokens.head(30)"
   ]
  },
  {
   "cell_type": "code",
   "execution_count": 37,
   "metadata": {},
   "outputs": [
    {
     "data": {
      "text/html": [
       "<div>\n",
       "<style scoped>\n",
       "    .dataframe tbody tr th:only-of-type {\n",
       "        vertical-align: middle;\n",
       "    }\n",
       "\n",
       "    .dataframe tbody tr th {\n",
       "        vertical-align: top;\n",
       "    }\n",
       "\n",
       "    .dataframe thead th {\n",
       "        text-align: right;\n",
       "    }\n",
       "</style>\n",
       "<table border=\"1\" class=\"dataframe\">\n",
       "  <thead>\n",
       "    <tr style=\"text-align: right;\">\n",
       "      <th></th>\n",
       "      <th>token</th>\n",
       "      <th>count</th>\n",
       "    </tr>\n",
       "  </thead>\n",
       "  <tbody>\n",
       "    <tr>\n",
       "      <th>0</th>\n",
       "      <td>get</td>\n",
       "      <td>132150</td>\n",
       "    </tr>\n",
       "    <tr>\n",
       "      <th>1</th>\n",
       "      <td>test</td>\n",
       "      <td>118130</td>\n",
       "    </tr>\n",
       "    <tr>\n",
       "      <th>2</th>\n",
       "      <td>set</td>\n",
       "      <td>39256</td>\n",
       "    </tr>\n",
       "    <tr>\n",
       "      <th>3</th>\n",
       "      <td>create</td>\n",
       "      <td>25595</td>\n",
       "    </tr>\n",
       "    <tr>\n",
       "      <th>4</th>\n",
       "      <td>With</td>\n",
       "      <td>25246</td>\n",
       "    </tr>\n",
       "    <tr>\n",
       "      <th>5</th>\n",
       "      <td>is</td>\n",
       "      <td>21718</td>\n",
       "    </tr>\n",
       "    <tr>\n",
       "      <th>6</th>\n",
       "      <td>To</td>\n",
       "      <td>20971</td>\n",
       "    </tr>\n",
       "    <tr>\n",
       "      <th>7</th>\n",
       "      <td>String</td>\n",
       "      <td>16834</td>\n",
       "    </tr>\n",
       "    <tr>\n",
       "      <th>8</th>\n",
       "      <td>to</td>\n",
       "      <td>14521</td>\n",
       "    </tr>\n",
       "    <tr>\n",
       "      <th>9</th>\n",
       "      <td>Name</td>\n",
       "      <td>13781</td>\n",
       "    </tr>\n",
       "    <tr>\n",
       "      <th>10</th>\n",
       "      <td>Type</td>\n",
       "      <td>13352</td>\n",
       "    </tr>\n",
       "    <tr>\n",
       "      <th>11</th>\n",
       "      <td>Value</td>\n",
       "      <td>13204</td>\n",
       "    </tr>\n",
       "    <tr>\n",
       "      <th>12</th>\n",
       "      <td>And</td>\n",
       "      <td>12851</td>\n",
       "    </tr>\n",
       "    <tr>\n",
       "      <th>13</th>\n",
       "      <td>should</td>\n",
       "      <td>12800</td>\n",
       "    </tr>\n",
       "    <tr>\n",
       "      <th>14</th>\n",
       "      <td>add</td>\n",
       "      <td>12057</td>\n",
       "    </tr>\n",
       "    <tr>\n",
       "      <th>15</th>\n",
       "      <td>For</td>\n",
       "      <td>11340</td>\n",
       "    </tr>\n",
       "    <tr>\n",
       "      <th>16</th>\n",
       "      <td>File</td>\n",
       "      <td>9259</td>\n",
       "    </tr>\n",
       "    <tr>\n",
       "      <th>17</th>\n",
       "      <td>Not</td>\n",
       "      <td>9150</td>\n",
       "    </tr>\n",
       "    <tr>\n",
       "      <th>18</th>\n",
       "      <td>Code</td>\n",
       "      <td>9089</td>\n",
       "    </tr>\n",
       "    <tr>\n",
       "      <th>19</th>\n",
       "      <td>Key</td>\n",
       "      <td>8867</td>\n",
       "    </tr>\n",
       "    <tr>\n",
       "      <th>20</th>\n",
       "      <td>On</td>\n",
       "      <td>8832</td>\n",
       "    </tr>\n",
       "    <tr>\n",
       "      <th>21</th>\n",
       "      <td>write</td>\n",
       "      <td>8790</td>\n",
       "    </tr>\n",
       "    <tr>\n",
       "      <th>22</th>\n",
       "      <td>Of</td>\n",
       "      <td>8752</td>\n",
       "    </tr>\n",
       "    <tr>\n",
       "      <th>23</th>\n",
       "      <td>From</td>\n",
       "      <td>8601</td>\n",
       "    </tr>\n",
       "    <tr>\n",
       "      <th>24</th>\n",
       "      <td>Set</td>\n",
       "      <td>8600</td>\n",
       "    </tr>\n",
       "    <tr>\n",
       "      <th>25</th>\n",
       "      <td>do</td>\n",
       "      <td>8173</td>\n",
       "    </tr>\n",
       "    <tr>\n",
       "      <th>26</th>\n",
       "      <td>In</td>\n",
       "      <td>8140</td>\n",
       "    </tr>\n",
       "    <tr>\n",
       "      <th>27</th>\n",
       "      <td>All</td>\n",
       "      <td>7807</td>\n",
       "    </tr>\n",
       "    <tr>\n",
       "      <th>28</th>\n",
       "      <td>Array</td>\n",
       "      <td>7759</td>\n",
       "    </tr>\n",
       "    <tr>\n",
       "      <th>29</th>\n",
       "      <td>Map</td>\n",
       "      <td>7731</td>\n",
       "    </tr>\n",
       "  </tbody>\n",
       "</table>\n",
       "</div>"
      ],
      "text/plain": [
       "     token   count\n",
       "0      get  132150\n",
       "1     test  118130\n",
       "2      set   39256\n",
       "3   create   25595\n",
       "4     With   25246\n",
       "5       is   21718\n",
       "6       To   20971\n",
       "7   String   16834\n",
       "8       to   14521\n",
       "9     Name   13781\n",
       "10    Type   13352\n",
       "11   Value   13204\n",
       "12     And   12851\n",
       "13  should   12800\n",
       "14     add   12057\n",
       "15     For   11340\n",
       "16    File    9259\n",
       "17     Not    9150\n",
       "18    Code    9089\n",
       "19     Key    8867\n",
       "20      On    8832\n",
       "21   write    8790\n",
       "22      Of    8752\n",
       "23    From    8601\n",
       "24     Set    8600\n",
       "25      do    8173\n",
       "26      In    8140\n",
       "27     All    7807\n",
       "28   Array    7759\n",
       "29     Map    7731"
      ]
     },
     "execution_count": 37,
     "metadata": {},
     "output_type": "execute_result"
    }
   ],
   "source": [
    "# uncased unique sub-tokens\n",
    "unique_method_name_tokens = pd.DataFrame.from_dict(Counter(lists_to_series(df['outputs']).values), orient='index') \\\n",
    "    .sort_values(by=0, ascending=False) \\\n",
    "    .reset_index().rename(columns={'index': 'token', 0: 'count'})\n",
    "\n",
    "unique_method_name_tokens.head(30)"
   ]
  },
  {
   "cell_type": "code",
   "execution_count": 41,
   "metadata": {},
   "outputs": [
    {
     "data": {
      "text/plain": [
       "16742"
      ]
     },
     "execution_count": 41,
     "metadata": {},
     "output_type": "execute_result"
    }
   ],
   "source": [
    "len(Counter(unique_method_name_tokens.token.str.lower()))"
   ]
  }
 ],
 "metadata": {
  "kernelspec": {
   "display_name": "Python 3",
   "language": "python",
   "name": "python3"
  },
  "language_info": {
   "codemirror_mode": {
    "name": "ipython",
    "version": 3
   },
   "file_extension": ".py",
   "mimetype": "text/x-python",
   "name": "python",
   "nbconvert_exporter": "python",
   "pygments_lexer": "ipython3",
   "version": "3.7.3"
  }
 },
 "nbformat": 4,
 "nbformat_minor": 4
}
