{
 "cells": [
  {
   "cell_type": "code",
   "execution_count": 23,
   "metadata": {},
   "outputs": [],
   "source": [
    "import sys\n",
    "\n",
    "import pandas as pd\n",
    "import tensorflow as tf\n",
    "\n",
    "from collections import Counter"
   ]
  },
  {
   "cell_type": "code",
   "execution_count": 2,
   "metadata": {},
   "outputs": [],
   "source": [
    "sys.path.append('..')"
   ]
  },
  {
   "cell_type": "code",
   "execution_count": 21,
   "metadata": {},
   "outputs": [],
   "source": [
    "from src.preprocessing.tokens import tokenize_method, split_subtokens\n",
    "from src.utils.pandas import lists_to_series"
   ]
  },
  {
   "cell_type": "code",
   "execution_count": 7,
   "metadata": {},
   "outputs": [
    {
     "name": "stdout",
     "output_type": "stream",
     "text": [
      "792035 ../data/interim/repositories/all.csv\r\n"
     ]
    }
   ],
   "source": [
    "!wc -l ../data/interim/repositories/all.csv"
   ]
  },
  {
   "cell_type": "code",
   "execution_count": 19,
   "metadata": {},
   "outputs": [],
   "source": [
    "csv_filename = '../data/interim/repositories/all.csv'\n",
    "\n",
    "max_input_vocab_size=30000"
   ]
  },
  {
   "cell_type": "code",
   "execution_count": 11,
   "metadata": {},
   "outputs": [
    {
     "data": {
      "text/html": [
       "<div>\n",
       "<style scoped>\n",
       "    .dataframe tbody tr th:only-of-type {\n",
       "        vertical-align: middle;\n",
       "    }\n",
       "\n",
       "    .dataframe tbody tr th {\n",
       "        vertical-align: top;\n",
       "    }\n",
       "\n",
       "    .dataframe thead th {\n",
       "        text-align: right;\n",
       "    }\n",
       "</style>\n",
       "<table border=\"1\" class=\"dataframe\">\n",
       "  <thead>\n",
       "    <tr style=\"text-align: right;\">\n",
       "      <th></th>\n",
       "      <th>file_name</th>\n",
       "      <th>class_name</th>\n",
       "      <th>method_name</th>\n",
       "      <th>return_type</th>\n",
       "      <th>arguments</th>\n",
       "      <th>body</th>\n",
       "      <th>documentation</th>\n",
       "      <th>modifiers</th>\n",
       "      <th>annotations</th>\n",
       "    </tr>\n",
       "  </thead>\n",
       "  <tbody>\n",
       "    <tr>\n",
       "      <th>0</th>\n",
       "      <td>../external/repositories/antlr4/doc/resources/...</td>\n",
       "      <td>CaseChangingCharStream</td>\n",
       "      <td>getText</td>\n",
       "      <td>String</td>\n",
       "      <td>[['interval', 'Interval']]</td>\n",
       "      <td>{ return stream.getText(interval); }</td>\n",
       "      <td>None</td>\n",
       "      <td>['public']</td>\n",
       "      <td>['Override']</td>\n",
       "    </tr>\n",
       "    <tr>\n",
       "      <th>1</th>\n",
       "      <td>../external/repositories/antlr4/doc/resources/...</td>\n",
       "      <td>CaseChangingCharStream</td>\n",
       "      <td>consume</td>\n",
       "      <td>void</td>\n",
       "      <td>[]</td>\n",
       "      <td>{ stream.consume(); }</td>\n",
       "      <td>None</td>\n",
       "      <td>['public']</td>\n",
       "      <td>['Override']</td>\n",
       "    </tr>\n",
       "    <tr>\n",
       "      <th>2</th>\n",
       "      <td>../external/repositories/antlr4/doc/resources/...</td>\n",
       "      <td>CaseChangingCharStream</td>\n",
       "      <td>LA</td>\n",
       "      <td>int</td>\n",
       "      <td>[['i', 'int']]</td>\n",
       "      <td>{ int c = stream.LA(i); if (c &lt;= 0) { return c...</td>\n",
       "      <td>None</td>\n",
       "      <td>['public']</td>\n",
       "      <td>['Override']</td>\n",
       "    </tr>\n",
       "    <tr>\n",
       "      <th>3</th>\n",
       "      <td>../external/repositories/antlr4/doc/resources/...</td>\n",
       "      <td>CaseChangingCharStream</td>\n",
       "      <td>mark</td>\n",
       "      <td>int</td>\n",
       "      <td>[]</td>\n",
       "      <td>{ return stream.mark(); }</td>\n",
       "      <td>None</td>\n",
       "      <td>['public']</td>\n",
       "      <td>['Override']</td>\n",
       "    </tr>\n",
       "    <tr>\n",
       "      <th>4</th>\n",
       "      <td>../external/repositories/antlr4/doc/resources/...</td>\n",
       "      <td>CaseChangingCharStream</td>\n",
       "      <td>release</td>\n",
       "      <td>void</td>\n",
       "      <td>[['marker', 'int']]</td>\n",
       "      <td>{ stream.release(marker); }</td>\n",
       "      <td>None</td>\n",
       "      <td>['public']</td>\n",
       "      <td>['Override']</td>\n",
       "    </tr>\n",
       "  </tbody>\n",
       "</table>\n",
       "</div>"
      ],
      "text/plain": [
       "                                           file_name              class_name  \\\n",
       "0  ../external/repositories/antlr4/doc/resources/...  CaseChangingCharStream   \n",
       "1  ../external/repositories/antlr4/doc/resources/...  CaseChangingCharStream   \n",
       "2  ../external/repositories/antlr4/doc/resources/...  CaseChangingCharStream   \n",
       "3  ../external/repositories/antlr4/doc/resources/...  CaseChangingCharStream   \n",
       "4  ../external/repositories/antlr4/doc/resources/...  CaseChangingCharStream   \n",
       "\n",
       "  method_name return_type                   arguments  \\\n",
       "0     getText      String  [['interval', 'Interval']]   \n",
       "1     consume        void                          []   \n",
       "2          LA         int              [['i', 'int']]   \n",
       "3        mark         int                          []   \n",
       "4     release        void         [['marker', 'int']]   \n",
       "\n",
       "                                                body documentation  \\\n",
       "0               { return stream.getText(interval); }          None   \n",
       "1                              { stream.consume(); }          None   \n",
       "2  { int c = stream.LA(i); if (c <= 0) { return c...          None   \n",
       "3                          { return stream.mark(); }          None   \n",
       "4                        { stream.release(marker); }          None   \n",
       "\n",
       "    modifiers   annotations  \n",
       "0  ['public']  ['Override']  \n",
       "1  ['public']  ['Override']  \n",
       "2  ['public']  ['Override']  \n",
       "3  ['public']  ['Override']  \n",
       "4  ['public']  ['Override']  "
      ]
     },
     "execution_count": 11,
     "metadata": {},
     "output_type": "execute_result"
    }
   ],
   "source": [
    "# Reading the input files\n",
    "df = pd.read_csv(csv_filename)\n",
    "\n",
    "df.head()"
   ]
  },
  {
   "cell_type": "code",
   "execution_count": 12,
   "metadata": {},
   "outputs": [
    {
     "data": {
      "text/plain": [
       "791986"
      ]
     },
     "execution_count": 12,
     "metadata": {},
     "output_type": "execute_result"
    }
   ],
   "source": [
    "# Cleaning, filtering the data\n",
    "df = df.dropna()\n",
    "len(df)"
   ]
  },
  {
   "cell_type": "code",
   "execution_count": 13,
   "metadata": {},
   "outputs": [
    {
     "name": "stderr",
     "output_type": "stream",
     "text": [
      " 14%|█▍        | 114426/791986 [00:51<03:57, 2851.85it/s]"
     ]
    },
    {
     "name": "stdout",
     "output_type": "stream",
     "text": [
      "ERROR in tokenizing: {packagesToScan}\") String... packagesToScan) return new ServiceClassPostProcessor(packagesToScan); }\n"
     ]
    },
    {
     "name": "stderr",
     "output_type": "stream",
     "text": [
      " 58%|█████▊    | 458503/791986 [03:49<02:08, 2594.95it/s]"
     ]
    },
    {
     "name": "stdout",
     "output_type": "stream",
     "text": [
      "ERROR in tokenizing: {logFile : .+}\") public void parseFile( @PathParam(\"logFile\") String logFile) throws IOException, SkylineStoreException, ResourceEstimatorException { logParserUtil.parseLog(logFile); LOGGER.debug(\"Parse logFile: {}.\", logFile); }\n"
     ]
    },
    {
     "name": "stderr",
     "output_type": "stream",
     "text": [
      " 93%|█████████▎| 737234/791986 [05:56<00:37, 1443.33it/s]"
     ]
    },
    {
     "name": "stdout",
     "output_type": "stream",
     "text": [
      "ERROR in tokenizing: {systemProperties.systemProperty}\") int param1, @Value(\"#{request.contextPath}\") String param2, String notSupported) { }\n"
     ]
    },
    {
     "name": "stderr",
     "output_type": "stream",
     "text": [
      " 94%|█████████▍| 744299/791986 [05:59<00:19, 2389.33it/s]"
     ]
    },
    {
     "name": "stdout",
     "output_type": "stream",
     "text": [
      "ERROR in tokenizing: {foo}\") String foo) return null; }\n"
     ]
    },
    {
     "name": "stderr",
     "output_type": "stream",
     "text": [
      " 95%|█████████▌| 754579/791986 [06:04<00:17, 2119.08it/s]"
     ]
    },
    {
     "name": "stdout",
     "output_type": "stream",
     "text": [
      "ERROR in tokenizing: {systemProperties[myProp]}\") Provider<String> name) return new TestBean(name.get()); }\n",
      "ERROR in tokenizing: {systemProperties[myProp]}\") Provider<String> name2) return new TestBean(name2.get()); }\n"
     ]
    },
    {
     "name": "stderr",
     "output_type": "stream",
     "text": [
      " 95%|█████████▌| 755823/791986 [06:05<00:16, 2183.26it/s]"
     ]
    },
    {
     "name": "stdout",
     "output_type": "stream",
     "text": [
      "ERROR in tokenizing: {privateInstance.age}\") String country) TestBean tb = new TestBean(\"protectedInstance\", 1); tb.setSpouse(tb); tb.setCountry(country); return tb; }\n"
     ]
    },
    {
     "name": "stderr",
     "output_type": "stream",
     "text": [
      " 97%|█████████▋| 770547/791986 [06:11<00:08, 2446.34it/s]"
     ]
    },
    {
     "name": "stdout",
     "output_type": "stream",
     "text": [
      "ERROR in tokenizing: {enigma}\") Integer enigmaParam) assertThat(enigmaParam).as(\"Enigma should have been injected via @Value by Spring\").isNotNull(); assertThat(enigmaParam).as(\"enigma\").isEqualTo(42); }\n",
      "ERROR in tokenizing: {bogus:false}\") Boolean defaultValue) assertThat(defaultValue).as(\"Default value should have been injected via @Value by Spring\").isNotNull(); assertThat(defaultValue).as(\"default value\").isEqualTo(false); }\n",
      "ERROR in tokenizing: {@dilbert.name}\") String name) assertThat(name).as(\"Dilbert's name should have been injected via SpEL expression in @Value by Spring\").isNotNull(); assertThat(name).as(\"name from SpEL expression\").isEqualTo(\"Dilbert\"); }\n",
      "ERROR in tokenizing: {enigma}\") Integer enigmaParam) assertThat(enigmaParam).as(\"Enigma should have been injected via @Value by Spring\").isNotNull(); assertThat(enigmaParam).as(\"enigma\").isEqualTo(42); }\n",
      "ERROR in tokenizing: {bogus:false}\") Boolean defaultValue) assertThat(defaultValue).as(\"Default value should have been injected via @Value by Spring\").isNotNull(); assertThat(defaultValue).as(\"default value\").isEqualTo(false); }\n",
      "ERROR in tokenizing: {@dilbert.name}\") String name) assertThat(name).as( \"Dilbert's name should have been injected via SpEL expression in @Value by Spring\").isNotNull(); assertThat(name).as(\"name from SpEL expression\").isEqualTo(\"Dilbert\"); }\n"
     ]
    },
    {
     "name": "stderr",
     "output_type": "stream",
     "text": [
      " 97%|█████████▋| 771638/791986 [06:12<00:06, 3078.40it/s]"
     ]
    },
    {
     "name": "stdout",
     "output_type": "stream",
     "text": [
      "ERROR in tokenizing: {2 == (1+1)}\") Boolean spelParameterValue) this.spelParameterValue = spelParameterValue; }\n"
     ]
    },
    {
     "name": "stderr",
     "output_type": "stream",
     "text": [
      " 98%|█████████▊| 776106/791986 [06:14<00:09, 1608.72it/s]"
     ]
    },
    {
     "name": "stdout",
     "output_type": "stream",
     "text": [
      "ERROR in tokenizing: {myKey}\") String id, @RequestHeader(defaultValue = \"#{systemProperties.myHeader}\") String header, @Value(\"#{request.contextPath}\") String contextPath, HttpServletResponse response) throws IOException { response.getWriter().write(String.valueOf(id) + \"-\" + String.valueOf(header) + \"-\" + contextPath); }\n"
     ]
    },
    {
     "name": "stderr",
     "output_type": "stream",
     "text": [
      "100%|██████████| 791986/791986 [06:23<00:00, 2063.19it/s]\n"
     ]
    }
   ],
   "source": [
    "# Tokenize and filter input sequences\n",
    "df['inputs'] = df['body'].progress_apply(tokenize_method)"
   ]
  },
  {
   "cell_type": "code",
   "execution_count": 14,
   "metadata": {},
   "outputs": [
    {
     "name": "stderr",
     "output_type": "stream",
     "text": [
      "100%|██████████| 791986/791986 [00:05<00:00, 136357.69it/s]\n"
     ]
    }
   ],
   "source": [
    "# Tokenize output sequences\n",
    "df['outputs'] = df['method_name'].progress_apply(split_subtokens)"
   ]
  },
  {
   "cell_type": "code",
   "execution_count": 15,
   "metadata": {},
   "outputs": [],
   "source": [
    "# Filter out the samples which cannot be tokenized\n",
    "df = df[df.inputs.str.len() > 0]"
   ]
  },
  {
   "cell_type": "code",
   "execution_count": 20,
   "metadata": {},
   "outputs": [
    {
     "data": {
      "text/plain": [
       "0    [{, return, stream, ., get, Text, (, interval,...\n",
       "1                  [{, stream, ., consume, (, ), ;, }]\n",
       "2    [{, int, c, =, stream, ., LA, (, i, ), ;, if, ...\n",
       "3             [{, return, stream, ., mark, (, ), ;, }]\n",
       "4          [{, stream, ., release, (, marker, ), ;, }]\n",
       "Name: inputs, dtype: object"
      ]
     },
     "execution_count": 20,
     "metadata": {},
     "output_type": "execute_result"
    }
   ],
   "source": [
    "df['inputs'].head()"
   ]
  },
  {
   "cell_type": "code",
   "execution_count": 24,
   "metadata": {},
   "outputs": [
    {
     "data": {
      "text/html": [
       "<div>\n",
       "<style scoped>\n",
       "    .dataframe tbody tr th:only-of-type {\n",
       "        vertical-align: middle;\n",
       "    }\n",
       "\n",
       "    .dataframe tbody tr th {\n",
       "        vertical-align: top;\n",
       "    }\n",
       "\n",
       "    .dataframe thead th {\n",
       "        text-align: right;\n",
       "    }\n",
       "</style>\n",
       "<table border=\"1\" class=\"dataframe\">\n",
       "  <thead>\n",
       "    <tr style=\"text-align: right;\">\n",
       "      <th></th>\n",
       "      <th>token</th>\n",
       "      <th>count</th>\n",
       "    </tr>\n",
       "  </thead>\n",
       "  <tbody>\n",
       "    <tr>\n",
       "      <th>0</th>\n",
       "      <td>)</td>\n",
       "      <td>4494423</td>\n",
       "    </tr>\n",
       "    <tr>\n",
       "      <th>1</th>\n",
       "      <td>(</td>\n",
       "      <td>4457284</td>\n",
       "    </tr>\n",
       "    <tr>\n",
       "      <th>2</th>\n",
       "      <td>.</td>\n",
       "      <td>3179357</td>\n",
       "    </tr>\n",
       "    <tr>\n",
       "      <th>3</th>\n",
       "      <td>;</td>\n",
       "      <td>2645624</td>\n",
       "    </tr>\n",
       "    <tr>\n",
       "      <th>4</th>\n",
       "      <td>,</td>\n",
       "      <td>1835914</td>\n",
       "    </tr>\n",
       "    <tr>\n",
       "      <th>5</th>\n",
       "      <td>{</td>\n",
       "      <td>1480658</td>\n",
       "    </tr>\n",
       "    <tr>\n",
       "      <th>6</th>\n",
       "      <td>}</td>\n",
       "      <td>1221188</td>\n",
       "    </tr>\n",
       "    <tr>\n",
       "      <th>7</th>\n",
       "      <td>=</td>\n",
       "      <td>904555</td>\n",
       "    </tr>\n",
       "    <tr>\n",
       "      <th>8</th>\n",
       "      <td>&lt;STR&gt;</td>\n",
       "      <td>825293</td>\n",
       "    </tr>\n",
       "    <tr>\n",
       "      <th>9</th>\n",
       "      <td>get</td>\n",
       "      <td>660809</td>\n",
       "    </tr>\n",
       "    <tr>\n",
       "      <th>10</th>\n",
       "      <td>new</td>\n",
       "      <td>514181</td>\n",
       "    </tr>\n",
       "    <tr>\n",
       "      <th>11</th>\n",
       "      <td>return</td>\n",
       "      <td>511846</td>\n",
       "    </tr>\n",
       "    <tr>\n",
       "      <th>12</th>\n",
       "      <td>assert</td>\n",
       "      <td>343401</td>\n",
       "    </tr>\n",
       "    <tr>\n",
       "      <th>13</th>\n",
       "      <td>&lt;</td>\n",
       "      <td>314773</td>\n",
       "    </tr>\n",
       "    <tr>\n",
       "      <th>14</th>\n",
       "      <td>&gt;</td>\n",
       "      <td>298934</td>\n",
       "    </tr>\n",
       "    <tr>\n",
       "      <th>15</th>\n",
       "      <td>String</td>\n",
       "      <td>280541</td>\n",
       "    </tr>\n",
       "    <tr>\n",
       "      <th>16</th>\n",
       "      <td>0</td>\n",
       "      <td>258968</td>\n",
       "    </tr>\n",
       "    <tr>\n",
       "      <th>17</th>\n",
       "      <td>if</td>\n",
       "      <td>258568</td>\n",
       "    </tr>\n",
       "    <tr>\n",
       "      <th>18</th>\n",
       "      <td>1</td>\n",
       "      <td>238329</td>\n",
       "    </tr>\n",
       "    <tr>\n",
       "      <th>19</th>\n",
       "      <td>+</td>\n",
       "      <td>219200</td>\n",
       "    </tr>\n",
       "    <tr>\n",
       "      <th>20</th>\n",
       "      <td>null</td>\n",
       "      <td>212822</td>\n",
       "    </tr>\n",
       "    <tr>\n",
       "      <th>21</th>\n",
       "      <td>Exception</td>\n",
       "      <td>191089</td>\n",
       "    </tr>\n",
       "    <tr>\n",
       "      <th>22</th>\n",
       "      <td>this</td>\n",
       "      <td>173003</td>\n",
       "    </tr>\n",
       "    <tr>\n",
       "      <th>23</th>\n",
       "      <td>is</td>\n",
       "      <td>167152</td>\n",
       "    </tr>\n",
       "    <tr>\n",
       "      <th>24</th>\n",
       "      <td>[</td>\n",
       "      <td>141444</td>\n",
       "    </tr>\n",
       "    <tr>\n",
       "      <th>25</th>\n",
       "      <td>]</td>\n",
       "      <td>141443</td>\n",
       "    </tr>\n",
       "    <tr>\n",
       "      <th>26</th>\n",
       "      <td>2</td>\n",
       "      <td>137882</td>\n",
       "    </tr>\n",
       "    <tr>\n",
       "      <th>27</th>\n",
       "      <td>set</td>\n",
       "      <td>135936</td>\n",
       "    </tr>\n",
       "    <tr>\n",
       "      <th>28</th>\n",
       "      <td>Type</td>\n",
       "      <td>135171</td>\n",
       "    </tr>\n",
       "    <tr>\n",
       "      <th>29</th>\n",
       "      <td>Name</td>\n",
       "      <td>128788</td>\n",
       "    </tr>\n",
       "  </tbody>\n",
       "</table>\n",
       "</div>"
      ],
      "text/plain": [
       "        token    count\n",
       "0           )  4494423\n",
       "1           (  4457284\n",
       "2           .  3179357\n",
       "3           ;  2645624\n",
       "4           ,  1835914\n",
       "5           {  1480658\n",
       "6           }  1221188\n",
       "7           =   904555\n",
       "8       <STR>   825293\n",
       "9         get   660809\n",
       "10        new   514181\n",
       "11     return   511846\n",
       "12     assert   343401\n",
       "13          <   314773\n",
       "14          >   298934\n",
       "15     String   280541\n",
       "16          0   258968\n",
       "17         if   258568\n",
       "18          1   238329\n",
       "19          +   219200\n",
       "20       null   212822\n",
       "21  Exception   191089\n",
       "22       this   173003\n",
       "23         is   167152\n",
       "24          [   141444\n",
       "25          ]   141443\n",
       "26          2   137882\n",
       "27        set   135936\n",
       "28       Type   135171\n",
       "29       Name   128788"
      ]
     },
     "execution_count": 24,
     "metadata": {},
     "output_type": "execute_result"
    }
   ],
   "source": [
    "unique_body_tokens = pd.DataFrame.from_dict(Counter(lists_to_series(df['inputs']).values), orient='index') \\\n",
    "    .sort_values(by=0, ascending=False) \\\n",
    "    .reset_index().rename(columns={'index': 'token', 0: 'count'})\n",
    "\n",
    "unique_body_tokens.head(30)"
   ]
  },
  {
   "cell_type": "code",
   "execution_count": 31,
   "metadata": {},
   "outputs": [
    {
     "data": {
      "text/html": [
       "<div>\n",
       "<style scoped>\n",
       "    .dataframe tbody tr th:only-of-type {\n",
       "        vertical-align: middle;\n",
       "    }\n",
       "\n",
       "    .dataframe tbody tr th {\n",
       "        vertical-align: top;\n",
       "    }\n",
       "\n",
       "    .dataframe thead th {\n",
       "        text-align: right;\n",
       "    }\n",
       "</style>\n",
       "<table border=\"1\" class=\"dataframe\">\n",
       "  <thead>\n",
       "    <tr style=\"text-align: right;\">\n",
       "      <th></th>\n",
       "      <th>token</th>\n",
       "      <th>count</th>\n",
       "    </tr>\n",
       "  </thead>\n",
       "  <tbody>\n",
       "    <tr>\n",
       "      <th>0</th>\n",
       "      <td>)</td>\n",
       "      <td>4494423</td>\n",
       "    </tr>\n",
       "    <tr>\n",
       "      <th>1</th>\n",
       "      <td>(</td>\n",
       "      <td>4457284</td>\n",
       "    </tr>\n",
       "    <tr>\n",
       "      <th>2</th>\n",
       "      <td>.</td>\n",
       "      <td>3179357</td>\n",
       "    </tr>\n",
       "    <tr>\n",
       "      <th>3</th>\n",
       "      <td>;</td>\n",
       "      <td>2645624</td>\n",
       "    </tr>\n",
       "    <tr>\n",
       "      <th>4</th>\n",
       "      <td>,</td>\n",
       "      <td>1835914</td>\n",
       "    </tr>\n",
       "    <tr>\n",
       "      <th>...</th>\n",
       "      <td>...</td>\n",
       "      <td>...</td>\n",
       "    </tr>\n",
       "    <tr>\n",
       "      <th>35246</th>\n",
       "      <td>_ROTATE_LEFT</td>\n",
       "      <td>5</td>\n",
       "    </tr>\n",
       "    <tr>\n",
       "      <th>35247</th>\n",
       "      <td>EXTLEN</td>\n",
       "      <td>5</td>\n",
       "    </tr>\n",
       "    <tr>\n",
       "      <th>35248</th>\n",
       "      <td>similarities</td>\n",
       "      <td>5</td>\n",
       "    </tr>\n",
       "    <tr>\n",
       "      <th>35249</th>\n",
       "      <td>_PER_DEGREES</td>\n",
       "      <td>5</td>\n",
       "    </tr>\n",
       "    <tr>\n",
       "      <th>35250</th>\n",
       "      <td>BOOLAND</td>\n",
       "      <td>5</td>\n",
       "    </tr>\n",
       "  </tbody>\n",
       "</table>\n",
       "<p>35251 rows × 2 columns</p>\n",
       "</div>"
      ],
      "text/plain": [
       "              token    count\n",
       "0                 )  4494423\n",
       "1                 (  4457284\n",
       "2                 .  3179357\n",
       "3                 ;  2645624\n",
       "4                 ,  1835914\n",
       "...             ...      ...\n",
       "35246  _ROTATE_LEFT        5\n",
       "35247        EXTLEN        5\n",
       "35248  similarities        5\n",
       "35249  _PER_DEGREES        5\n",
       "35250       BOOLAND        5\n",
       "\n",
       "[35251 rows x 2 columns]"
      ]
     },
     "execution_count": 31,
     "metadata": {},
     "output_type": "execute_result"
    }
   ],
   "source": [
    "unique_body_tokens[unique_body_tokens['count'] >= 5]"
   ]
  },
  {
   "cell_type": "code",
   "execution_count": 34,
   "metadata": {},
   "outputs": [
    {
     "data": {
      "text/html": [
       "<div>\n",
       "<style scoped>\n",
       "    .dataframe tbody tr th:only-of-type {\n",
       "        vertical-align: middle;\n",
       "    }\n",
       "\n",
       "    .dataframe tbody tr th {\n",
       "        vertical-align: top;\n",
       "    }\n",
       "\n",
       "    .dataframe thead th {\n",
       "        text-align: right;\n",
       "    }\n",
       "</style>\n",
       "<table border=\"1\" class=\"dataframe\">\n",
       "  <thead>\n",
       "    <tr style=\"text-align: right;\">\n",
       "      <th></th>\n",
       "      <th>token</th>\n",
       "      <th>count</th>\n",
       "    </tr>\n",
       "  </thead>\n",
       "  <tbody>\n",
       "    <tr>\n",
       "      <th>16</th>\n",
       "      <td>0</td>\n",
       "      <td>258968</td>\n",
       "    </tr>\n",
       "    <tr>\n",
       "      <th>18</th>\n",
       "      <td>1</td>\n",
       "      <td>238329</td>\n",
       "    </tr>\n",
       "    <tr>\n",
       "      <th>26</th>\n",
       "      <td>2</td>\n",
       "      <td>137882</td>\n",
       "    </tr>\n",
       "    <tr>\n",
       "      <th>77</th>\n",
       "      <td>3</td>\n",
       "      <td>55054</td>\n",
       "    </tr>\n",
       "    <tr>\n",
       "      <th>139</th>\n",
       "      <td>4</td>\n",
       "      <td>29792</td>\n",
       "    </tr>\n",
       "    <tr>\n",
       "      <th>...</th>\n",
       "      <td>...</td>\n",
       "      <td>...</td>\n",
       "    </tr>\n",
       "    <tr>\n",
       "      <th>102028</th>\n",
       "      <td>10011011110</td>\n",
       "      <td>1</td>\n",
       "    </tr>\n",
       "    <tr>\n",
       "      <th>102029</th>\n",
       "      <td>10011011101</td>\n",
       "      <td>1</td>\n",
       "    </tr>\n",
       "    <tr>\n",
       "      <th>102049</th>\n",
       "      <td>12111</td>\n",
       "      <td>1</td>\n",
       "    </tr>\n",
       "    <tr>\n",
       "      <th>102050</th>\n",
       "      <td>4502</td>\n",
       "      <td>1</td>\n",
       "    </tr>\n",
       "    <tr>\n",
       "      <th>102051</th>\n",
       "      <td>104501</td>\n",
       "      <td>1</td>\n",
       "    </tr>\n",
       "  </tbody>\n",
       "</table>\n",
       "<p>24725 rows × 2 columns</p>\n",
       "</div>"
      ],
      "text/plain": [
       "              token   count\n",
       "16                0  258968\n",
       "18                1  238329\n",
       "26                2  137882\n",
       "77                3   55054\n",
       "139               4   29792\n",
       "...             ...     ...\n",
       "102028  10011011110       1\n",
       "102029  10011011101       1\n",
       "102049        12111       1\n",
       "102050         4502       1\n",
       "102051       104501       1\n",
       "\n",
       "[24725 rows x 2 columns]"
      ]
     },
     "execution_count": 34,
     "metadata": {},
     "output_type": "execute_result"
    }
   ],
   "source": [
    "unique_body_tokens[unique_body_tokens.token.str.contains('^[0-9]+$')]"
   ]
  },
  {
   "cell_type": "code",
   "execution_count": 17,
   "metadata": {},
   "outputs": [],
   "source": [
    "def get_vocab_index(df, max_vocab_size):\n",
    "    tokenizer = tf.keras.preprocessing.text.Tokenizer(\n",
    "        num_words=max_vocab_size,\n",
    "        filters='',\n",
    "        lower=False,\n",
    "        oov_token='<OOV>',\n",
    "    )\n",
    "\n",
    "    tokenizer.fit_on_texts(df.values)\n",
    "\n",
    "    return tokenizer"
   ]
  },
  {
   "cell_type": "code",
   "execution_count": null,
   "metadata": {},
   "outputs": [],
   "source": [
    "input_tokenizer = get_vocab_index(\n",
    "    df['inputs'],\n",
    "    max_vocab_size=max_input_vocab_size\n",
    ")\n",
    "input_vocab_index = input_tokenizer.word_index\n"
   ]
  }
 ],
 "metadata": {
  "kernelspec": {
   "display_name": "Python 3",
   "language": "python",
   "name": "python3"
  },
  "language_info": {
   "codemirror_mode": {
    "name": "ipython",
    "version": 3
   },
   "file_extension": ".py",
   "mimetype": "text/x-python",
   "name": "python",
   "nbconvert_exporter": "python",
   "pygments_lexer": "ipython3",
   "version": "3.7.3"
  }
 },
 "nbformat": 4,
 "nbformat_minor": 4
}
