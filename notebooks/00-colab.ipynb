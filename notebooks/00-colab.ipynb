{
  "nbformat": 4,
  "nbformat_minor": 0,
  "metadata": {
    "kernelspec": {
      "display_name": "Python 3",
      "language": "python",
      "name": "python3"
    },
    "language_info": {
      "codemirror_mode": {
        "name": "ipython",
        "version": 3
      },
      "file_extension": ".py",
      "mimetype": "text/x-python",
      "name": "python",
      "nbconvert_exporter": "python",
      "pygments_lexer": "ipython3",
      "version": "3.7.3"
    },
    "colab": {
      "name": "00-colab.ipynb",
      "provenance": [],
      "include_colab_link": true
    },
    "accelerator": "GPU"
  },
  "cells": [
    {
      "cell_type": "markdown",
      "metadata": {
        "id": "view-in-github",
        "colab_type": "text"
      },
      "source": [
        "<a href=\"https://colab.research.google.com/github/antonpetkoff/identifier-suggestion/blob/master/notebooks/00-colab.ipynb\" target=\"_parent\"><img src=\"https://colab.research.google.com/assets/colab-badge.svg\" alt=\"Open In Colab\"/></a>"
      ]
    },
    {
      "cell_type": "code",
      "metadata": {
        "id": "WeJd9knlVGS_",
        "colab_type": "code",
        "colab": {}
      },
      "source": [
        "# import utilities\n",
        "import os\n",
        "import shutil\n",
        "from subprocess import check_output"
      ],
      "execution_count": 1,
      "outputs": []
    },
    {
      "cell_type": "code",
      "metadata": {
        "id": "ntLDgQhocMeE",
        "colab_type": "code",
        "colab": {
          "base_uri": "https://localhost:8080/",
          "height": 381
        },
        "outputId": "b8da96e4-9438-4484-b8a4-157811441fdb"
      },
      "source": [
        "!nvidia-smi"
      ],
      "execution_count": 2,
      "outputs": [
        {
          "output_type": "stream",
          "text": [
            "Thu Jun 25 16:12:09 2020       \n",
            "+-----------------------------------------------------------------------------+\n",
            "| NVIDIA-SMI 450.36.06    Driver Version: 418.67       CUDA Version: 10.1     |\n",
            "|-------------------------------+----------------------+----------------------+\n",
            "| GPU  Name        Persistence-M| Bus-Id        Disp.A | Volatile Uncorr. ECC |\n",
            "| Fan  Temp  Perf  Pwr:Usage/Cap|         Memory-Usage | GPU-Util  Compute M. |\n",
            "|                               |                      |               MIG M. |\n",
            "|===============================+======================+======================|\n",
            "|   0  Tesla P100-PCIE...  Off  | 00000000:00:04.0 Off |                    0 |\n",
            "| N/A   46C    P0    27W / 250W |      0MiB / 16280MiB |      0%      Default |\n",
            "|                               |                      |                 ERR! |\n",
            "+-------------------------------+----------------------+----------------------+\n",
            "                                                                               \n",
            "+-----------------------------------------------------------------------------+\n",
            "| Processes:                                                                  |\n",
            "|  GPU   GI   CI        PID   Type   Process name                  GPU Memory |\n",
            "|        ID   ID                                                   Usage      |\n",
            "|=============================================================================|\n",
            "|  No running processes found                                                 |\n",
            "+-----------------------------------------------------------------------------+\n"
          ],
          "name": "stdout"
        }
      ]
    },
    {
      "cell_type": "code",
      "metadata": {
        "id": "Z_PqX9NDdEJh",
        "colab_type": "code",
        "colab": {
          "base_uri": "https://localhost:8080/",
          "height": 35
        },
        "outputId": "b20f5c71-9443-4e2a-96e2-795116faa7ef"
      },
      "source": [
        "from google.colab import drive\n",
        "drive.mount('/content/gdrive')"
      ],
      "execution_count": 3,
      "outputs": [
        {
          "output_type": "stream",
          "text": [
            "Drive already mounted at /content/gdrive; to attempt to forcibly remount, call drive.mount(\"/content/gdrive\", force_remount=True).\n"
          ],
          "name": "stdout"
        }
      ]
    },
    {
      "cell_type": "code",
      "metadata": {
        "id": "Dvcl4iohdWEi",
        "colab_type": "code",
        "colab": {
          "base_uri": "https://localhost:8080/",
          "height": 54
        },
        "outputId": "faaceb6a-db50-4a6d-add8-662ff2d47d05"
      },
      "source": [
        "%env WORKSPACE_DIR=/content/gdrive/My Drive/src\n",
        "\n",
        "# TODO: how can one read an environment variable?!?\n",
        "%cd '/content/gdrive/My Drive/src'"
      ],
      "execution_count": 4,
      "outputs": [
        {
          "output_type": "stream",
          "text": [
            "env: WORKSPACE_DIR=/content/gdrive/My Drive/src\n",
            "/content/gdrive/My Drive/src\n"
          ],
          "name": "stdout"
        }
      ]
    },
    {
      "cell_type": "code",
      "metadata": {
        "id": "vNR4ZqljgeyP",
        "colab_type": "code",
        "colab": {}
      },
      "source": [
        "timestamp = check_output(['date', '-u', \"+%Y-%m-%dT%H-%M-%S\"]).decode('utf-8').strip()\n",
        "\n",
        "os.environ['PROJECT_DIR'] = os.path.join(\n",
        "    os.environ['WORKSPACE_DIR'],\n",
        "    f'identifier-suggestion-{timestamp}',\n",
        ")"
      ],
      "execution_count": 5,
      "outputs": []
    },
    {
      "cell_type": "code",
      "metadata": {
        "id": "9PoI39h1dEJ0",
        "colab_type": "code",
        "colab": {
          "base_uri": "https://localhost:8080/",
          "height": 145
        },
        "outputId": "fafaec73-8a5a-4868-d2fe-10533059e366"
      },
      "source": [
        "!git clone https://github.com/antonpetkoff/identifier-suggestion.git --depth 1 \"${PROJECT_DIR}\""
      ],
      "execution_count": 6,
      "outputs": [
        {
          "output_type": "stream",
          "text": [
            "Cloning into '/content/gdrive/My Drive/src/identifier-suggestion-2020-06-25T16-12-10'...\n",
            "remote: Enumerating objects: 111, done.\u001b[K\n",
            "remote: Counting objects: 100% (111/111), done.\u001b[K\n",
            "remote: Compressing objects: 100% (101/101), done.\u001b[K\n",
            "remote: Total 111 (delta 1), reused 65 (delta 1), pack-reused 0\u001b[K\n",
            "Receiving objects: 100% (111/111), 1.20 MiB | 1.34 MiB/s, done.\n",
            "Resolving deltas: 100% (1/1), done.\n"
          ],
          "name": "stdout"
        }
      ]
    },
    {
      "cell_type": "code",
      "metadata": {
        "id": "mki1yqMgixt1",
        "colab_type": "code",
        "colab": {}
      },
      "source": [
        "os.chdir(os.environ['PROJECT_DIR'])"
      ],
      "execution_count": 7,
      "outputs": []
    },
    {
      "cell_type": "code",
      "metadata": {
        "id": "4HjKIGx4i2dr",
        "colab_type": "code",
        "colab": {
          "base_uri": "https://localhost:8080/",
          "height": 199
        },
        "outputId": "4bf7589c-dc35-4c5b-e8a5-f153d0ad2ec2"
      },
      "source": [
        "!pwd\n",
        "!ls -l"
      ],
      "execution_count": 8,
      "outputs": [
        {
          "output_type": "stream",
          "text": [
            "/content/gdrive/My Drive/src/identifier-suggestion-2020-06-25T16-12-10\n",
            "total 69\n",
            "drwx------  4 root root  4096 Jun 25 16:12 data\n",
            "-rw-------  1 root root 35149 Jun 25 16:12 LICENSE\n",
            "drwx------  2 root root  4096 Jun 25 16:12 notebooks\n",
            "-rw-------  1 root root  9745 Jun 25 16:12 README.md\n",
            "drwx------  3 root root  4096 Jun 25 16:12 reports\n",
            "drwx------  2 root root  4096 Jun 25 16:12 requirements\n",
            "drwx------ 13 root root  4096 Jun 25 16:12 src\n",
            "drwx------  3 root root  4096 Jun 25 16:12 vscode-extension\n"
          ],
          "name": "stdout"
        }
      ]
    },
    {
      "cell_type": "code",
      "metadata": {
        "id": "JCr-lrn4SRhW",
        "colab_type": "code",
        "colab": {
          "base_uri": "https://localhost:8080/",
          "height": 35
        },
        "outputId": "0574d240-2a85-422d-975f-0bb562a80921"
      },
      "source": [
        "%tensorflow_version 2.x\n",
        "\n",
        "import tensorflow\n",
        "print(tensorflow.__version__)"
      ],
      "execution_count": 9,
      "outputs": [
        {
          "output_type": "stream",
          "text": [
            "2.2.0\n"
          ],
          "name": "stdout"
        }
      ]
    },
    {
      "cell_type": "code",
      "metadata": {
        "id": "4M7BkvE4dEJ-",
        "colab_type": "code",
        "colab": {
          "base_uri": "https://localhost:8080/",
          "height": 581
        },
        "outputId": "beb583a0-02fc-4e9b-fddb-522dc295508a"
      },
      "source": [
        "# Google Colab has standard libraries like numpy, pandas, matplotlib and TF (of course) pre-installed\n",
        "!pip install -r requirements/colab.txt"
      ],
      "execution_count": 10,
      "outputs": [
        {
          "output_type": "stream",
          "text": [
            "Requirement already satisfied: javalang==0.13.0 in /usr/local/lib/python3.6/dist-packages (from -r requirements/colab.txt (line 1)) (0.13.0)\n",
            "Requirement already satisfied: pydash==4.8.0 in /usr/local/lib/python3.6/dist-packages (from -r requirements/colab.txt (line 2)) (4.8.0)\n",
            "Requirement already satisfied: python-dotenv==0.13.0 in /usr/local/lib/python3.6/dist-packages (from -r requirements/colab.txt (line 3)) (0.13.0)\n",
            "Requirement already satisfied: wandb==0.8.35 in /usr/local/lib/python3.6/dist-packages (from -r requirements/colab.txt (line 4)) (0.8.35)\n",
            "Requirement already satisfied: tables==3.6.1 in /usr/local/lib/python3.6/dist-packages (from -r requirements/colab.txt (line 5)) (3.6.1)\n",
            "Requirement already satisfied: six in /usr/local/lib/python3.6/dist-packages (from javalang==0.13.0->-r requirements/colab.txt (line 1)) (1.12.0)\n",
            "Requirement already satisfied: Click>=7.0 in /usr/local/lib/python3.6/dist-packages (from wandb==0.8.35->-r requirements/colab.txt (line 4)) (7.1.2)\n",
            "Requirement already satisfied: shortuuid>=0.5.0 in /usr/local/lib/python3.6/dist-packages (from wandb==0.8.35->-r requirements/colab.txt (line 4)) (1.0.1)\n",
            "Requirement already satisfied: psutil>=5.0.0 in /usr/local/lib/python3.6/dist-packages (from wandb==0.8.35->-r requirements/colab.txt (line 4)) (5.4.8)\n",
            "Requirement already satisfied: configparser>=3.8.1 in /usr/local/lib/python3.6/dist-packages (from wandb==0.8.35->-r requirements/colab.txt (line 4)) (5.0.0)\n",
            "Requirement already satisfied: subprocess32>=3.5.3 in /usr/local/lib/python3.6/dist-packages (from wandb==0.8.35->-r requirements/colab.txt (line 4)) (3.5.4)\n",
            "Requirement already satisfied: python-dateutil>=2.6.1 in /usr/local/lib/python3.6/dist-packages (from wandb==0.8.35->-r requirements/colab.txt (line 4)) (2.8.1)\n",
            "Requirement already satisfied: GitPython>=1.0.0 in /usr/local/lib/python3.6/dist-packages (from wandb==0.8.35->-r requirements/colab.txt (line 4)) (3.1.3)\n",
            "Requirement already satisfied: watchdog>=0.8.3 in /usr/local/lib/python3.6/dist-packages (from wandb==0.8.35->-r requirements/colab.txt (line 4)) (0.10.2)\n",
            "Requirement already satisfied: nvidia-ml-py3>=7.352.0 in /usr/local/lib/python3.6/dist-packages (from wandb==0.8.35->-r requirements/colab.txt (line 4)) (7.352.0)\n",
            "Requirement already satisfied: docker-pycreds>=0.4.0 in /usr/local/lib/python3.6/dist-packages (from wandb==0.8.35->-r requirements/colab.txt (line 4)) (0.4.0)\n",
            "Requirement already satisfied: sentry-sdk>=0.4.0 in /usr/local/lib/python3.6/dist-packages (from wandb==0.8.35->-r requirements/colab.txt (line 4)) (0.15.1)\n",
            "Requirement already satisfied: requests>=2.0.0 in /usr/local/lib/python3.6/dist-packages (from wandb==0.8.35->-r requirements/colab.txt (line 4)) (2.23.0)\n",
            "Requirement already satisfied: PyYAML>=3.10 in /usr/local/lib/python3.6/dist-packages (from wandb==0.8.35->-r requirements/colab.txt (line 4)) (3.13)\n",
            "Requirement already satisfied: gql==0.2.0 in /usr/local/lib/python3.6/dist-packages (from wandb==0.8.35->-r requirements/colab.txt (line 4)) (0.2.0)\n",
            "Requirement already satisfied: numpy>=1.9.3 in /usr/local/lib/python3.6/dist-packages (from tables==3.6.1->-r requirements/colab.txt (line 5)) (1.18.5)\n",
            "Requirement already satisfied: numexpr>=2.6.2 in /usr/local/lib/python3.6/dist-packages (from tables==3.6.1->-r requirements/colab.txt (line 5)) (2.7.1)\n",
            "Requirement already satisfied: gitdb<5,>=4.0.1 in /usr/local/lib/python3.6/dist-packages (from GitPython>=1.0.0->wandb==0.8.35->-r requirements/colab.txt (line 4)) (4.0.5)\n",
            "Requirement already satisfied: pathtools>=0.1.1 in /usr/local/lib/python3.6/dist-packages (from watchdog>=0.8.3->wandb==0.8.35->-r requirements/colab.txt (line 4)) (0.1.2)\n",
            "Requirement already satisfied: certifi in /usr/local/lib/python3.6/dist-packages (from sentry-sdk>=0.4.0->wandb==0.8.35->-r requirements/colab.txt (line 4)) (2020.4.5.2)\n",
            "Requirement already satisfied: urllib3>=1.10.0 in /usr/local/lib/python3.6/dist-packages (from sentry-sdk>=0.4.0->wandb==0.8.35->-r requirements/colab.txt (line 4)) (1.24.3)\n",
            "Requirement already satisfied: idna<3,>=2.5 in /usr/local/lib/python3.6/dist-packages (from requests>=2.0.0->wandb==0.8.35->-r requirements/colab.txt (line 4)) (2.9)\n",
            "Requirement already satisfied: chardet<4,>=3.0.2 in /usr/local/lib/python3.6/dist-packages (from requests>=2.0.0->wandb==0.8.35->-r requirements/colab.txt (line 4)) (3.0.4)\n",
            "Requirement already satisfied: graphql-core<2,>=0.5.0 in /usr/local/lib/python3.6/dist-packages (from gql==0.2.0->wandb==0.8.35->-r requirements/colab.txt (line 4)) (1.1)\n",
            "Requirement already satisfied: promise<3,>=2.0 in /usr/local/lib/python3.6/dist-packages (from gql==0.2.0->wandb==0.8.35->-r requirements/colab.txt (line 4)) (2.3)\n",
            "Requirement already satisfied: smmap<4,>=3.0.1 in /usr/local/lib/python3.6/dist-packages (from gitdb<5,>=4.0.1->GitPython>=1.0.0->wandb==0.8.35->-r requirements/colab.txt (line 4)) (3.0.4)\n"
          ],
          "name": "stdout"
        }
      ]
    },
    {
      "cell_type": "code",
      "metadata": {
        "id": "ASrqt3o4TP5E",
        "colab_type": "code",
        "colab": {
          "base_uri": "https://localhost:8080/",
          "height": 35
        },
        "outputId": "c0a4c24c-1594-4a05-bbdc-4223514d39ea"
      },
      "source": [
        "# provide secrets to the project, e.g. access to wandb\n",
        "shutil.copy(\n",
        "    os.path.join(os.environ['WORKSPACE_DIR'], 'secrets/.env'),\n",
        "    os.environ['PROJECT_DIR']\n",
        ")"
      ],
      "execution_count": 11,
      "outputs": [
        {
          "output_type": "execute_result",
          "data": {
            "text/plain": [
              "'/content/gdrive/My Drive/src/identifier-suggestion-2020-06-25T16-12-10/.env'"
            ]
          },
          "metadata": {
            "tags": []
          },
          "execution_count": 11
        }
      ]
    },
    {
      "cell_type": "code",
      "metadata": {
        "id": "VBhbZ4muuveC",
        "colab_type": "code",
        "colab": {}
      },
      "source": [
        "# monkey-patch (mock) os.symlink to be a noop, because wandb.save() uses it, but it is not supported by Google Colab Notebooks\n",
        "os.symlink = lambda *x: print('Executing mocked noop symlink with arguments', x)"
      ],
      "execution_count": 12,
      "outputs": []
    },
    {
      "cell_type": "code",
      "metadata": {
        "id": "NJHkwwGMPts7",
        "colab_type": "code",
        "colab": {
          "base_uri": "https://localhost:8080/",
          "height": 72
        },
        "outputId": "91e4a633-376b-49af-b7cc-16f20f2a52a9"
      },
      "source": [
        "import nltk\n",
        "nltk.download('punkt')"
      ],
      "execution_count": 14,
      "outputs": [
        {
          "output_type": "stream",
          "text": [
            "[nltk_data] Downloading package punkt to /root/nltk_data...\n",
            "[nltk_data]   Package punkt is already up-to-date!\n"
          ],
          "name": "stdout"
        },
        {
          "output_type": "execute_result",
          "data": {
            "text/plain": [
              "True"
            ]
          },
          "metadata": {
            "tags": []
          },
          "execution_count": 14
        }
      ]
    },
    {
      "cell_type": "code",
      "metadata": {
        "id": "cY3fkLJIm7ja",
        "colab_type": "code",
        "colab": {
          "base_uri": "https://localhost:8080/",
          "height": 1000
        },
        "outputId": "415ae6df-a749-4fd9-e5d2-6edb2f871ecd"
      },
      "source": [
        "from argparse import Namespace\n",
        "from src.pipelines.baseline import run\n",
        "\n",
        "params = {\n",
        "  'dir_data': '../data/processed/subtoken/',\n",
        "  'file_checkpoint_dir': 'models/checkpoints/baseline/',\n",
        "  'dir_preprocessed_data': '../data/processed/seq2seq/',\n",
        "  'max_input_length': 128,\n",
        "  'max_output_length': 8,\n",
        "  'input_vocab_size': 5000,\n",
        "  'input_embedding_dim': 50,\n",
        "  'output_vocab_size': 5000,\n",
        "  'output_embedding_dim': 50,\n",
        "  'latent_dim': 320,\n",
        "  'learning_rate': 0.0001,\n",
        "  'epochs': 50,\n",
        "  'batch_size': 512,\n",
        "  'random_seed': 1,\n",
        "  'eval_averaging': 'macro'\n",
        "}\n",
        "\n",
        "run(Namespace(**params))"
      ],
      "execution_count": 15,
      "outputs": [
        {
          "output_type": "stream",
          "text": [
            "Initializing logger\n"
          ],
          "name": "stdout"
        },
        {
          "output_type": "display_data",
          "data": {
            "text/html": [
              "\n",
              "                Logging results to <a href=\"https://wandb.com\" target=\"_blank\">Weights & Biases</a> <a href=\"https://docs.wandb.com/integrations/jupyter.html\" target=\"_blank\">(Documentation)</a>.<br/>\n",
              "                Project page: <a href=\"https://app.wandb.ai/antonpetkoff/identifier-suggestion\" target=\"_blank\">https://app.wandb.ai/antonpetkoff/identifier-suggestion</a><br/>\n",
              "                Run page: <a href=\"https://app.wandb.ai/antonpetkoff/identifier-suggestion/runs/2k0iubmg\" target=\"_blank\">https://app.wandb.ai/antonpetkoff/identifier-suggestion/runs/2k0iubmg</a><br/>\n",
              "            "
            ],
            "text/plain": [
              "<IPython.core.display.HTML object>"
            ]
          },
          "metadata": {
            "tags": []
          }
        },
        {
          "output_type": "stream",
          "text": [
            "\u001b[34m\u001b[1mwandb\u001b[0m: Wandb version 0.9.1 is available!  To upgrade, please run:\n",
            "\u001b[34m\u001b[1mwandb\u001b[0m:  $ pip install wandb --upgrade\n"
          ],
          "name": "stderr"
        },
        {
          "output_type": "stream",
          "text": [
            "Experiment parameters:  Namespace(batch_size=512, dir_data='../data/processed/subtoken/', dir_preprocessed_data='../data/processed/seq2seq/', epochs=50, eval_averaging='macro', file_checkpoint_dir='models/checkpoints/baseline/', input_embedding_dim=50, input_vocab_size=5000, latent_dim=320, learning_rate=0.0001, max_input_length=128, max_output_length=8, output_embedding_dim=50, output_vocab_size=5000, random_seed=1)\n",
            "Loading preprocessed files...\n",
            "Loaded input vocabulary.\n",
            "Loaded output vocabulary.\n",
            "Loaded preprocessed files.\n",
            "Model: \"encoder\"\n",
            "_________________________________________________________________\n",
            "Layer (type)                 Output Shape              Param #   \n",
            "=================================================================\n",
            "EncoderEmbedding (Embedding) multiple                  250000    \n",
            "_________________________________________________________________\n",
            "EncoderLSTM (LSTM)           multiple                  474880    \n",
            "=================================================================\n",
            "Total params: 724,880\n",
            "Trainable params: 724,880\n",
            "Non-trainable params: 0\n",
            "_________________________________________________________________\n",
            "Model: \"decoder\"\n",
            "_________________________________________________________________\n",
            "Layer (type)                 Output Shape              Param #   \n",
            "=================================================================\n",
            "DecoderEmbedding (Embedding) multiple                  250000    \n",
            "_________________________________________________________________\n",
            "DecoderLSTM (LSTM)           multiple                  884480    \n",
            "_________________________________________________________________\n",
            "DenseOutput (Dense)          multiple                  1605000   \n",
            "_________________________________________________________________\n",
            "bahdanau_attention (Bahdanau multiple                  205761    \n",
            "=================================================================\n",
            "Total params: 2,945,241\n",
            "Trainable params: 2,945,241\n",
            "Non-trainable params: 0\n",
            "_________________________________________________________________\n",
            "Saving checkpoint...\n",
            "Saved checkpoint: models/checkpoints/baseline/ckpt-1\n",
            "Executing mocked noop symlink with arguments ('/content/gdrive/My Drive/src/identifier-suggestion-2020-06-25T16-12-10/models/checkpoints/baseline/config.json', './reports/wandb/run-20200625_161231-2k0iubmg/config.json')\n",
            "Done saving model\n",
            "Restored from models/checkpoints/baseline/ckpt-1\n",
            "epoch 1 - batch 10 - loss 4.463021755218506 - precision 0.0153761962428689 - recall 0.005523929838091135 - f1 0.005788418930023909 - sparse_categorical_accuracy 0.12034039944410324\n",
            "epoch 1 - batch 20 - loss 3.2341015338897705 - precision 0.015375926159322262 - recall 0.003772816387936473 - f1 0.004254331812262535 - sparse_categorical_accuracy 0.1268833726644516\n",
            "epoch 1 - batch 30 - loss 3.1514456272125244 - precision 0.015375852584838867 - recall 0.0031085500959306955 - f1 0.0034979565534740686 - sparse_categorical_accuracy 0.12911085784435272\n",
            "epoch 1 - batch 40 - loss 3.116771936416626 - precision 0.015375873073935509 - recall 0.002406342187896371 - f1 0.0028332266956567764 - sparse_categorical_accuracy 0.13049665093421936\n",
            "epoch 1 - batch 50 - loss 3.177032709121704 - precision 0.015375865623354912 - recall 0.0021771355532109737 - f1 0.002522148424759507 - sparse_categorical_accuracy 0.13123883306980133\n",
            "epoch 1 - batch 60 - loss 3.0281167030334473 - precision 0.015375878661870956 - recall 0.001982765970751643 - f1 0.0022879932075738907 - sparse_categorical_accuracy 0.13181734085083008\n",
            "epoch 1 - batch 70 - loss 3.2111217975616455 - precision 0.015375897288322449 - recall 0.0017873605247586966 - f1 0.0020732444245368242 - sparse_categorical_accuracy 0.13227838277816772\n",
            "epoch 1 - batch 80 - loss 3.1841988563537598 - precision 0.015375885181128979 - recall 0.0015243689995259047 - f1 0.001901768846437335 - sparse_categorical_accuracy 0.13249512016773224\n",
            "epoch 1 - batch 90 - loss 3.084385395050049 - precision 0.015375887975096703 - recall 0.0013966842088848352 - f1 0.0017632589442655444 - sparse_categorical_accuracy 0.13272570073604584\n",
            "epoch 1 - batch 100 - loss 3.1034464836120605 - precision 0.015375892631709576 - recall 0.0012942692264914513 - f1 0.0016520990757271647 - sparse_categorical_accuracy 0.13291852176189423\n",
            "epoch 1 - batch 110 - loss 3.103696584701538 - precision 0.015375890769064426 - recall 0.0011888624867424369 - f1 0.0015267229173332453 - sparse_categorical_accuracy 0.13305093348026276\n",
            "epoch 1 - batch 120 - loss 3.0011792182922363 - precision 0.015375865623354912 - recall 0.0011266872752457857 - f1 0.0014357214095070958 - sparse_categorical_accuracy 0.13304269313812256\n",
            "epoch 1 - batch 130 - loss 3.0838828086853027 - precision 0.015375877730548382 - recall 0.0010794636327773333 - f1 0.0013607358559966087 - sparse_categorical_accuracy 0.13319668173789978\n",
            "epoch 1 - batch 140 - loss 3.220289468765259 - precision 0.015375882387161255 - recall 0.001056244014762342 - f1 0.0013235461665317416 - sparse_categorical_accuracy 0.13330675661563873\n",
            "epoch 1 - batch 150 - loss 3.0998761653900146 - precision 0.015375874005258083 - recall 0.0009169016848318279 - f1 0.0011988364858552814 - sparse_categorical_accuracy 0.1333407759666443\n",
            "epoch 1 - batch 160 - loss 3.0605781078338623 - precision 0.01537587121129036 - recall 0.0008709841640666127 - f1 0.0011390666477382183 - sparse_categorical_accuracy 0.13339145481586456\n",
            "epoch 1 - batch 170 - loss 3.015796422958374 - precision 0.015375865623354912 - recall 0.0008507809834554791 - f1 0.001103644142858684 - sparse_categorical_accuracy 0.1334214210510254\n",
            "epoch 1 - batch 180 - loss 3.0880227088928223 - precision 0.015215042047202587 - recall 0.0008356185862794518 - f1 0.0010771570960059762 - sparse_categorical_accuracy 0.13364800810813904\n",
            "epoch 1 - batch 190 - loss 2.927288055419922 - precision 0.015210541896522045 - recall 0.0008233411936089396 - f1 0.0010590131860226393 - sparse_categorical_accuracy 0.13489632308483124\n",
            "epoch 1 - batch 200 - loss 2.9889156818389893 - precision 0.01520797424018383 - recall 0.0008188814972527325 - f1 0.0010425734799355268 - sparse_categorical_accuracy 0.13607282936573029\n",
            "epoch 1 - batch 210 - loss 2.7624189853668213 - precision 0.015207407996058464 - recall 0.0007998658693395555 - f1 0.0010097059421241283 - sparse_categorical_accuracy 0.13719972968101501\n",
            "epoch 1 - batch 220 - loss 2.965217113494873 - precision 0.015373903326690197 - recall 0.0007771517848595977 - f1 0.0009760665707290173 - sparse_categorical_accuracy 0.1381036937236786\n",
            "epoch 1 - batch 230 - loss 2.9447884559631348 - precision 0.015374070964753628 - recall 0.0007320648874156177 - f1 0.000914352887775749 - sparse_categorical_accuracy 0.13892298936843872\n",
            "epoch 1 - batch 240 - loss 2.884042978286743 - precision 0.015374630689620972 - recall 0.0007257426041178405 - f1 0.0008945523295551538 - sparse_categorical_accuracy 0.13978329300880432\n",
            "epoch 1 - batch 250 - loss 2.8062872886657715 - precision 0.01537512056529522 - recall 0.0007225798326544464 - f1 0.0008802191005088389 - sparse_categorical_accuracy 0.14053013920783997\n",
            "epoch 1 - batch 260 - loss 2.9785420894622803 - precision 0.015375407412648201 - recall 0.0007205495494417846 - f1 0.0008681418257765472 - sparse_categorical_accuracy 0.1412152349948883\n",
            "epoch 1 - batch 270 - loss 2.7946507930755615 - precision 0.015377642586827278 - recall 0.000714029825758189 - f1 0.0008501759730279446 - sparse_categorical_accuracy 0.14179377257823944\n",
            "epoch 1 - batch 280 - loss 2.81792950630188 - precision 0.015377763658761978 - recall 0.000701475131791085 - f1 0.0008266885997727513 - sparse_categorical_accuracy 0.14239975810050964\n",
            "epoch 1 - batch 290 - loss 2.8174166679382324 - precision 0.015377771109342575 - recall 0.0006981382030062377 - f1 0.0008139024721458554 - sparse_categorical_accuracy 0.14298413693904877\n",
            "epoch 1 - batch 300 - loss 2.9183757305145264 - precision 0.01537772361189127 - recall 0.0006899696891196072 - f1 0.0007959692156873643 - sparse_categorical_accuracy 0.1434914469718933\n",
            "epoch 1 - batch 310 - loss 2.7729172706604004 - precision 0.01537767332047224 - recall 0.0006846821052022278 - f1 0.0007805901695974171 - sparse_categorical_accuracy 0.14396780729293823\n",
            "epoch 1 - batch 320 - loss 2.8062374591827393 - precision 0.015377653762698174 - recall 0.000682881916873157 - f1 0.0007715566316619515 - sparse_categorical_accuracy 0.14441266655921936\n",
            "epoch 1 - batch 330 - loss 2.940176248550415 - precision 0.0156707800924778 - recall 0.0006852745427750051 - f1 0.0007716334075666964 - sparse_categorical_accuracy 0.14480434358119965\n",
            "epoch 1 - batch 340 - loss 2.6958141326904297 - precision 0.01603608950972557 - recall 0.0006909200455993414 - f1 0.0007765696500428021 - sparse_categorical_accuracy 0.14520253241062164\n",
            "epoch 1 - batch 350 - loss 2.8679561614990234 - precision 0.01602688618004322 - recall 0.0006955838762223721 - f1 0.0007790927775204182 - sparse_categorical_accuracy 0.145609050989151\n",
            "epoch 1 - batch 360 - loss 2.880636215209961 - precision 0.01600637286901474 - recall 0.0007037528557702899 - f1 0.0007878068718127906 - sparse_categorical_accuracy 0.14607824385166168\n",
            "epoch 1 - batch 370 - loss 2.958423137664795 - precision 0.016064085066318512 - recall 0.0007085582474246621 - f1 0.0007909588166512549 - sparse_categorical_accuracy 0.14664801955223083\n",
            "epoch 1 - batch 380 - loss 2.9232728481292725 - precision 0.016080109402537346 - recall 0.0006958538433536887 - f1 0.0007702503935433924 - sparse_categorical_accuracy 0.1472267061471939\n",
            "epoch 1 - batch 390 - loss 2.936796188354492 - precision 0.016075050458312035 - recall 0.0007017022580839694 - f1 0.0007720168796367943 - sparse_categorical_accuracy 0.1478014886379242\n",
            "epoch 1 - batch 400 - loss 2.7241647243499756 - precision 0.016075648367404938 - recall 0.0006953275878913701 - f1 0.0007574819028377533 - sparse_categorical_accuracy 0.14835448563098907\n",
            "epoch 1 - batch 410 - loss 2.905482053756714 - precision 0.016074294224381447 - recall 0.0007009639521129429 - f1 0.0007586581050418317 - sparse_categorical_accuracy 0.14889277517795563\n",
            "epoch 1 - batch 420 - loss 2.9494118690490723 - precision 0.016075510531663895 - recall 0.0006889680516906083 - f1 0.0007357878494076431 - sparse_categorical_accuracy 0.14937685430049896\n",
            "epoch 1 - batch 430 - loss 2.8757450580596924 - precision 0.01627665013074875 - recall 0.0006885242182761431 - f1 0.0007284616585820913 - sparse_categorical_accuracy 0.14987735450267792\n",
            "epoch 1 - batch 440 - loss 2.9244093894958496 - precision 0.016269072890281677 - recall 0.0006943928310647607 - f1 0.0007296580588445067 - sparse_categorical_accuracy 0.15037856996059418\n",
            "epoch 1 - batch 450 - loss 2.8178861141204834 - precision 0.01626610942184925 - recall 0.0006937304860912263 - f1 0.0007213868084363639 - sparse_categorical_accuracy 0.15086929500102997\n",
            "epoch 1 - batch 460 - loss 2.7910385131835938 - precision 0.01626592129468918 - recall 0.000698184419889003 - f1 0.0007210600888356566 - sparse_categorical_accuracy 0.15133382380008698\n",
            "epoch 1 - batch 470 - loss 2.812427043914795 - precision 0.016202671453356743 - recall 0.000707243278156966 - f1 0.0007290325593203306 - sparse_categorical_accuracy 0.1518355756998062\n",
            "epoch 1 - batch 480 - loss 2.7220356464385986 - precision 0.01620115153491497 - recall 0.0007163824629969895 - f1 0.0007370234234258533 - sparse_categorical_accuracy 0.15231817960739136\n",
            "epoch 1 - batch 490 - loss 2.7601771354675293 - precision 0.016179131343960762 - recall 0.0007243260042741895 - f1 0.0007424624636769295 - sparse_categorical_accuracy 0.15274234116077423\n",
            "epoch 1 - batch 500 - loss 2.8570189476013184 - precision 0.016162972897291183 - recall 0.0007331291562877595 - f1 0.000749243947211653 - sparse_categorical_accuracy 0.15321429073810577\n",
            "epoch 1 - batch 510 - loss 2.777723550796509 - precision 0.016145009547472 - recall 0.0007399203605018556 - f1 0.0007538065547123551 - sparse_categorical_accuracy 0.15362723171710968\n",
            "epoch 1 - batch 520 - loss 2.853623151779175 - precision 0.016137100756168365 - recall 0.0007433561841025949 - f1 0.0007510738796554506 - sparse_categorical_accuracy 0.1540226936340332\n",
            "epoch 1 - batch 530 - loss 2.898341417312622 - precision 0.0161276925355196 - recall 0.000750688137486577 - f1 0.0007544616819359362 - sparse_categorical_accuracy 0.15443743765354156\n",
            "epoch 1 - batch 540 - loss 2.6831042766571045 - precision 0.016118651255965233 - recall 0.0007505656103603542 - f1 0.0007453850121237338 - sparse_categorical_accuracy 0.15484768152236938\n",
            "epoch 1 - batch 550 - loss 2.790536880493164 - precision 0.016112424433231354 - recall 0.0007549222791567445 - f1 0.0007439475157298148 - sparse_categorical_accuracy 0.15523944795131683\n",
            "epoch 1 - batch 560 - loss 2.7802975177764893 - precision 0.016107425093650818 - recall 0.0007580924429930747 - f1 0.0007400036556646228 - sparse_categorical_accuracy 0.15560726821422577\n",
            "epoch 1 - batch 570 - loss 2.8762147426605225 - precision 0.01610180176794529 - recall 0.0007604915299452841 - f1 0.0007348933722823858 - sparse_categorical_accuracy 0.15596364438533783\n",
            "epoch 1 - batch 580 - loss 2.773888349533081 - precision 0.016097748652100563 - recall 0.0007630832842551172 - f1 0.0007310692453756928 - sparse_categorical_accuracy 0.15630869567394257\n",
            "epoch 1 - batch 590 - loss 2.7188358306884766 - precision 0.016091659665107727 - recall 0.0007688202895224094 - f1 0.000730041996575892 - sparse_categorical_accuracy 0.15663589537143707\n",
            "epoch 1 - batch 600 - loss 2.8650646209716797 - precision 0.016087327152490616 - recall 0.0007708864868618548 - f1 0.0007237728568725288 - sparse_categorical_accuracy 0.15696150064468384\n",
            "epoch 1 - batch 610 - loss 2.74918794631958 - precision 0.01608620397746563 - recall 0.0007741981535218656 - f1 0.0007205765577964485 - sparse_categorical_accuracy 0.15729516744613647\n",
            "epoch 1 - batch 620 - loss 2.7548391819000244 - precision 0.016083599999547005 - recall 0.0007792473188601434 - f1 0.0007194511126726866 - sparse_categorical_accuracy 0.15761493146419525\n",
            "epoch 1 - batch 630 - loss 2.801560640335083 - precision 0.01607798971235752 - recall 0.0007812768453732133 - f1 0.0007124481489881873 - sparse_categorical_accuracy 0.1579214483499527\n",
            "epoch 1 - batch 640 - loss 2.9032962322235107 - precision 0.016077551990747452 - recall 0.0007841757033020258 - f1 0.0007094616885297 - sparse_categorical_accuracy 0.15823233127593994\n",
            "epoch 1 - batch 650 - loss 2.7910940647125244 - precision 0.01607590913772583 - recall 0.0007846305379644036 - f1 0.0007024526130408049 - sparse_categorical_accuracy 0.1585121899843216\n",
            "epoch 1 - batch 660 - loss 2.7203867435455322 - precision 0.01627461612224579 - recall 0.0007854842697270215 - f1 0.0006969136884436011 - sparse_categorical_accuracy 0.15877765417099\n",
            "epoch 1 - batch 670 - loss 2.793651819229126 - precision 0.016272228211164474 - recall 0.0007900762720964849 - f1 0.0006960782338865101 - sparse_categorical_accuracy 0.1590355932712555\n",
            "epoch 1 - batch 680 - loss 2.6938157081604004 - precision 0.016270997002720833 - recall 0.0007948516868054867 - f1 0.0006958168232813478 - sparse_categorical_accuracy 0.15928636491298676\n",
            "epoch 1 - batch 690 - loss 2.736799955368042 - precision 0.016268542036414146 - recall 0.0007977447821758687 - f1 0.0006919950246810913 - sparse_categorical_accuracy 0.1595359444618225\n",
            "epoch 1 - batch 700 - loss 2.791796922683716 - precision 0.01626821607351303 - recall 0.0008002740796655416 - f1 0.000689124979544431 - sparse_categorical_accuracy 0.15980668365955353\n",
            "epoch 1 - batch 710 - loss 2.635030508041382 - precision 0.01636696048080921 - recall 0.0008012295002117753 - f1 0.0006835469976067543 - sparse_categorical_accuracy 0.1600489616394043\n",
            "epoch 1 - batch 720 - loss 2.776376724243164 - precision 0.01631738245487213 - recall 0.0008070810581557453 - f1 0.0006860296125523746 - sparse_categorical_accuracy 0.16029730439186096\n",
            "epoch 1 - batch 730 - loss 2.7066094875335693 - precision 0.016319354996085167 - recall 0.0008128857589326799 - f1 0.0006888678180985153 - sparse_categorical_accuracy 0.16055260598659515\n",
            "epoch 1 - batch 740 - loss 2.70166277885437 - precision 0.016312548890709877 - recall 0.00081760244211182 - f1 0.0006903424509800971 - sparse_categorical_accuracy 0.1607772558927536\n",
            "epoch 1 - batch 750 - loss 2.8233985900878906 - precision 0.016314581036567688 - recall 0.0008212896063923836 - f1 0.000690655258949846 - sparse_categorical_accuracy 0.16102716326713562\n",
            "epoch 1 - batch 760 - loss 2.6144015789031982 - precision 0.016311263665556908 - recall 0.0008269678219221532 - f1 0.0006937026628293097 - sparse_categorical_accuracy 0.161235973238945\n",
            "epoch 1 - batch 770 - loss 2.663726329803467 - precision 0.016319170594215393 - recall 0.0008333207224495709 - f1 0.0006985822110436857 - sparse_categorical_accuracy 0.16147886216640472\n",
            "epoch 1 - batch 780 - loss 2.7458794116973877 - precision 0.016309304162859917 - recall 0.0008407445857301354 - f1 0.0007049960549920797 - sparse_categorical_accuracy 0.16171875596046448\n",
            "epoch 1 - batch 790 - loss 2.8653182983398438 - precision 0.016310879960656166 - recall 0.0008425266132690012 - f1 0.0007019828772172332 - sparse_categorical_accuracy 0.16194196045398712\n",
            "epoch 1 - batch 800 - loss 2.71754789352417 - precision 0.016430696472525597 - recall 0.0008514124201610684 - f1 0.0007118051289580762 - sparse_categorical_accuracy 0.16216866672039032\n",
            "epoch 1 - batch 810 - loss 2.6416609287261963 - precision 0.016423631459474564 - recall 0.000858979532495141 - f1 0.0007184249698184431 - sparse_categorical_accuracy 0.16241388022899628\n",
            "epoch 1 - batch 820 - loss 2.652592182159424 - precision 0.016418421640992165 - recall 0.0008661834872327745 - f1 0.00072451465530321 - sparse_categorical_accuracy 0.16261330246925354\n",
            "epoch 1 - batch 830 - loss 2.765402317047119 - precision 0.016409777104854584 - recall 0.000874304270837456 - f1 0.0007319470751099288 - sparse_categorical_accuracy 0.1628381758928299\n",
            "epoch 1 - batch 840 - loss 2.613719940185547 - precision 0.016358593478798866 - recall 0.0008850078447721899 - f1 0.000743340642657131 - sparse_categorical_accuracy 0.16305837035179138\n",
            "epoch 1 - batch 850 - loss 2.695592164993286 - precision 0.016260016709566116 - recall 0.0008937384700402617 - f1 0.0007512143347412348 - sparse_categorical_accuracy 0.16329175233840942\n",
            "epoch 1 - batch 860 - loss 2.67759108543396 - precision 0.016255848109722137 - recall 0.0009024275932461023 - f1 0.0007587122381664813 - sparse_categorical_accuracy 0.16349636018276215\n",
            "epoch 1 - batch 870 - loss 2.6994476318359375 - precision 0.016261501237750053 - recall 0.0009080906165763736 - f1 0.0007630951004102826 - sparse_categorical_accuracy 0.16366545855998993\n",
            "epoch 1 - batch 880 - loss 2.7293598651885986 - precision 0.016259705647826195 - recall 0.0009150718688033521 - f1 0.000768081343267113 - sparse_categorical_accuracy 0.16386432945728302\n",
            "epoch 1 - batch 890 - loss 2.773171901702881 - precision 0.016263464465737343 - recall 0.0009224848472513258 - f1 0.0007739413413219154 - sparse_categorical_accuracy 0.16405434906482697\n",
            "epoch 1 - batch 900 - loss 2.6217422485351562 - precision 0.016248073428869247 - recall 0.000929385656490922 - f1 0.0007793991826474667 - sparse_categorical_accuracy 0.16422061622142792\n",
            "epoch 1 - batch 910 - loss 2.8348376750946045 - precision 0.016245748847723007 - recall 0.0009350406471639872 - f1 0.0007822656771168113 - sparse_categorical_accuracy 0.1643819957971573\n",
            "epoch 1 - batch 920 - loss 2.690781831741333 - precision 0.016251742839813232 - recall 0.0009437492117285728 - f1 0.0007898847688920796 - sparse_categorical_accuracy 0.16457504034042358\n",
            "epoch 1 - batch 930 - loss 2.689577579498291 - precision 0.016244981437921524 - recall 0.000950283429119736 - f1 0.0007937285117805004 - sparse_categorical_accuracy 0.1647624522447586\n",
            "epoch 1 - batch 940 - loss 2.7505722045898438 - precision 0.016242319718003273 - recall 0.0009573849965818226 - f1 0.0007986533455550671 - sparse_categorical_accuracy 0.1649402230978012\n",
            "epoch 1 - batch 950 - loss 2.680407762527466 - precision 0.01624039188027382 - recall 0.0009643054218031466 - f1 0.0008035714272409678 - sparse_categorical_accuracy 0.1651039719581604\n",
            "epoch 1 - batch 960 - loss 2.8482868671417236 - precision 0.016242217272520065 - recall 0.0009711195016279817 - f1 0.0008085793233476579 - sparse_categorical_accuracy 0.16526314616203308\n",
            "epoch 1 - batch 970 - loss 2.6891677379608154 - precision 0.016600776463747025 - recall 0.000977967632934451 - f1 0.0008132458897307515 - sparse_categorical_accuracy 0.1654176115989685\n",
            "epoch 1 - batch 980 - loss 2.7242772579193115 - precision 0.016572942957282066 - recall 0.0009859405690804124 - f1 0.0008190583903342485 - sparse_categorical_accuracy 0.1655760258436203\n",
            "epoch 1 - batch 990 - loss 2.852630615234375 - precision 0.01657259277999401 - recall 0.0009919909061864018 - f1 0.0008223230252042413 - sparse_categorical_accuracy 0.16572758555412292\n",
            "epoch 1 - batch 1000 - loss 2.7290427684783936 - precision 0.016571391373872757 - recall 0.0010000253096222878 - f1 0.0008279737667180598 - sparse_categorical_accuracy 0.16588839888572693\n",
            "epoch 1 - batch 1010 - loss 2.697969675064087 - precision 0.01677056774497032 - recall 0.0010071834549307823 - f1 0.0008327070972882211 - sparse_categorical_accuracy 0.16605733335018158\n",
            "epoch 1 - batch 1020 - loss 2.6625518798828125 - precision 0.016723809763789177 - recall 0.0010155958589166403 - f1 0.0008386869449168444 - sparse_categorical_accuracy 0.1662123054265976\n",
            "epoch 1 - batch 1030 - loss 2.707235097885132 - precision 0.01672276295721531 - recall 0.0010253905784338713 - f1 0.0008469626191072166 - sparse_categorical_accuracy 0.16637049615383148\n",
            "epoch 1 - batch 1040 - loss 2.6084094047546387 - precision 0.016734883189201355 - recall 0.0010344451293349266 - f1 0.0008542999275960028 - sparse_categorical_accuracy 0.1665409356355667\n",
            "epoch 1 - batch 1050 - loss 2.6368567943573 - precision 0.016730081290006638 - recall 0.0010452336864545941 - f1 0.0008641360327601433 - sparse_categorical_accuracy 0.1667129099369049\n",
            "epoch 1 - batch 1060 - loss 2.7589259147644043 - precision 0.016764210537075996 - recall 0.0010563555406406522 - f1 0.0008745997329242527 - sparse_categorical_accuracy 0.16688504815101624\n",
            "epoch 1 - batch 1070 - loss 2.6128733158111572 - precision 0.016754500567913055 - recall 0.001067998935468495 - f1 0.0008875547209754586 - sparse_categorical_accuracy 0.16704747080802917\n",
            "epoch 1 - batch 1080 - loss 2.626775026321411 - precision 0.016752835363149643 - recall 0.001078122528269887 - f1 0.0008972847135737538 - sparse_categorical_accuracy 0.16720454394817352\n",
            "epoch 1 - batch 1090 - loss 2.721120595932007 - precision 0.016753394156694412 - recall 0.0010908795520663261 - f1 0.0009120056056417525 - sparse_categorical_accuracy 0.1673610508441925\n",
            "epoch 1 - batch 1100 - loss 2.58825421333313 - precision 0.016744770109653473 - recall 0.0011025104904547334 - f1 0.000924420659430325 - sparse_categorical_accuracy 0.16752207279205322\n",
            "epoch 1 - batch 1110 - loss 2.7620651721954346 - precision 0.016732141375541687 - recall 0.0011134874075651169 - f1 0.0009354577050544322 - sparse_categorical_accuracy 0.1676693707704544\n",
            "epoch 1 - batch 1120 - loss 2.622468948364258 - precision 0.016918305307626724 - recall 0.001126251183450222 - f1 0.0009490670054219663 - sparse_categorical_accuracy 0.1678466796875\n",
            "epoch 1 - batch 1130 - loss 2.7010514736175537 - precision 0.016878074035048485 - recall 0.0011383023811504245 - f1 0.0009620494674891233 - sparse_categorical_accuracy 0.1680181324481964\n",
            "epoch 1 - batch 1140 - loss 2.5306503772735596 - precision 0.016887519508600235 - recall 0.001152245793491602 - f1 0.0009779019746929407 - sparse_categorical_accuracy 0.168178990483284\n",
            "epoch 1 - batch 1150 - loss 2.5752696990966797 - precision 0.01701323315501213 - recall 0.0011648902436718345 - f1 0.0009912879904732108 - sparse_categorical_accuracy 0.16834966838359833\n",
            "epoch 1 - batch 1160 - loss 2.639111042022705 - precision 0.01715606264770031 - recall 0.0011788405245169997 - f1 0.001008185208775103 - sparse_categorical_accuracy 0.16853328049182892\n",
            "epoch 1 - batch 1170 - loss 2.5612080097198486 - precision 0.017186356708407402 - recall 0.0011934557696804404 - f1 0.0010265122400596738 - sparse_categorical_accuracy 0.16869443655014038\n",
            "epoch 1 - batch 1180 - loss 2.65722918510437 - precision 0.017165280878543854 - recall 0.001206534681841731 - f1 0.001040825853124261 - sparse_categorical_accuracy 0.16885143518447876\n",
            "epoch 1 - batch 1190 - loss 2.5688388347625732 - precision 0.017178764566779137 - recall 0.0012195941526442766 - f1 0.0010547394631430507 - sparse_categorical_accuracy 0.16899830102920532\n",
            "epoch 1 - batch 1200 - loss 2.6813833713531494 - precision 0.01733090914785862 - recall 0.0012302546529099345 - f1 0.0010642032139003277 - sparse_categorical_accuracy 0.16915085911750793\n",
            "epoch 1 - batch 1210 - loss 2.631809711456299 - precision 0.01734066754579544 - recall 0.0012407551985234022 - f1 0.0010749876964837313 - sparse_categorical_accuracy 0.1693015843629837\n",
            "epoch 1 - batch 1220 - loss 2.639037847518921 - precision 0.01737012155354023 - recall 0.0012512143002822995 - f1 0.0010849230457097292 - sparse_categorical_accuracy 0.1694457083940506\n",
            "epoch 1 - batch 1230 - loss 2.65293550491333 - precision 0.01739049330353737 - recall 0.001263810321688652 - f1 0.001098419539630413 - sparse_categorical_accuracy 0.16960883140563965\n",
            "epoch 1 training time: 1241.5295746326447 sec\n"
          ],
          "name": "stdout"
        },
        {
          "output_type": "stream",
          "text": [
            "\u001b[34m\u001b[1mwandb\u001b[0m: Visualizing heatmap.\n"
          ],
          "name": "stderr"
        },
        {
          "output_type": "stream",
          "text": [
            "epoch 1 evaluation time: 133.86270380020142 sec\n",
            "epoch evaluation:  {'epoch': 1, 'epoch_test_loss': <tf.Tensor: shape=(), dtype=float32, numpy=2.6290793>, 'epoch_test_sparse_categorical_accuracy': <tf.Tensor: shape=(), dtype=float32, numpy=0.18866861>, 'epoch_test_precision': <tf.Tensor: shape=(), dtype=float32, numpy=0.0025760953>, 'epoch_test_recall': <tf.Tensor: shape=(), dtype=float32, numpy=0.0030731345>, 'epoch_test_f1': <tf.Tensor: shape=(), dtype=float32, numpy=0.0021288928>}\n"
          ],
          "name": "stdout"
        },
        {
          "output_type": "stream",
          "text": [
            "\u001b[34m\u001b[1mwandb\u001b[0m: Visualizing heatmap.\n",
            "\u001b[34m\u001b[1mwandb\u001b[0m: Visualizing heatmap.\n",
            "\u001b[34m\u001b[1mwandb\u001b[0m: Visualizing heatmap.\n",
            "\u001b[34m\u001b[1mwandb\u001b[0m: Visualizing heatmap.\n",
            "\u001b[34m\u001b[1mwandb\u001b[0m: Visualizing heatmap.\n",
            "\u001b[34m\u001b[1mwandb\u001b[0m: Visualizing heatmap.\n",
            "\u001b[34m\u001b[1mwandb\u001b[0m: Visualizing heatmap.\n",
            "\u001b[34m\u001b[1mwandb\u001b[0m: Visualizing heatmap.\n",
            "\u001b[34m\u001b[1mwandb\u001b[0m: Visualizing heatmap.\n"
          ],
          "name": "stderr"
        },
        {
          "output_type": "stream",
          "text": [
            "epoch 2 - batch 10 - loss 2.6005313396453857 - precision 0.0024833388160914183 - recall 0.0027896396350115538 - f1 0.001975241582840681 - sparse_categorical_accuracy 0.18858817219734192\n",
            "epoch 2 - batch 20 - loss 2.5970709323883057 - precision 0.002583203138783574 - recall 0.0028152302838861942 - f1 0.001996571198105812 - sparse_categorical_accuracy 0.18811383843421936\n",
            "epoch 2 - batch 30 - loss 2.7598767280578613 - precision 0.002885618479922414 - recall 0.002893933327868581 - f1 0.002047799527645111 - sparse_categorical_accuracy 0.18757440149784088\n",
            "epoch 2 - batch 40 - loss 2.7377572059631348 - precision 0.0028707445599138737 - recall 0.0028426579665392637 - f1 0.0020050336606800556 - sparse_categorical_accuracy 0.18815569579601288\n",
            "epoch 2 - batch 50 - loss 2.5797173976898193 - precision 0.0031437950674444437 - recall 0.0029489335138350725 - f1 0.002128918655216694 - sparse_categorical_accuracy 0.18816405534744263\n",
            "epoch 2 - batch 60 - loss 2.5776448249816895 - precision 0.0032698295544832945 - recall 0.003012889763340354 - f1 0.0021703264210373163 - sparse_categorical_accuracy 0.18848586082458496\n",
            "epoch 2 - batch 70 - loss 2.5606627464294434 - precision 0.0034279106184840202 - recall 0.0030533813405781984 - f1 0.0022102901712059975 - sparse_categorical_accuracy 0.18853634595870972\n",
            "epoch 2 - batch 80 - loss 2.600398540496826 - precision 0.0033053967636078596 - recall 0.0031079365871846676 - f1 0.0022604165133088827 - sparse_categorical_accuracy 0.1884242445230484\n",
            "epoch 2 - batch 90 - loss 2.6922905445098877 - precision 0.003298224648460746 - recall 0.003138582222163677 - f1 0.0023082352709025145 - sparse_categorical_accuracy 0.18859127163887024\n",
            "epoch 2 - batch 100 - loss 2.6716411113739014 - precision 0.0033781554084271193 - recall 0.0031689985189586878 - f1 0.0023449910804629326 - sparse_categorical_accuracy 0.18855468928813934\n",
            "epoch 2 - batch 110 - loss 2.697418689727783 - precision 0.0033715046010911465 - recall 0.003229732858017087 - f1 0.0024003428407013416 - sparse_categorical_accuracy 0.18856534361839294\n",
            "epoch 2 - batch 120 - loss 2.6677982807159424 - precision 0.0035914997570216656 - recall 0.003245167899876833 - f1 0.002418171614408493 - sparse_categorical_accuracy 0.18875791132450104\n",
            "epoch 2 - batch 130 - loss 2.720322847366333 - precision 0.0035519700031727552 - recall 0.0032645061146467924 - f1 0.002432465087622404 - sparse_categorical_accuracy 0.1888500154018402\n",
            "epoch 2 - batch 140 - loss 2.58469820022583 - precision 0.0035375277511775494 - recall 0.003288150765001774 - f1 0.0024421210400760174 - sparse_categorical_accuracy 0.1888871192932129\n",
            "epoch 2 - batch 150 - loss 2.7065980434417725 - precision 0.003507632063701749 - recall 0.003328706370666623 - f1 0.0024723040405660868 - sparse_categorical_accuracy 0.18896019458770752\n",
            "epoch 2 - batch 160 - loss 2.613121509552002 - precision 0.003918257541954517 - recall 0.0033493333030492067 - f1 0.0024952173698693514 - sparse_categorical_accuracy 0.1888689249753952\n",
            "epoch 2 - batch 170 - loss 2.587876796722412 - precision 0.003985940478742123 - recall 0.0033701176289469004 - f1 0.0025181849487125874 - sparse_categorical_accuracy 0.18889345228672028\n",
            "epoch 2 - batch 180 - loss 2.6677706241607666 - precision 0.003991480451077223 - recall 0.003401844296604395 - f1 0.00254663429223001 - sparse_categorical_accuracy 0.18893849849700928\n",
            "epoch 2 - batch 190 - loss 2.5504801273345947 - precision 0.0045481594279408455 - recall 0.003442071145400405 - f1 0.00259098201058805 - sparse_categorical_accuracy 0.18897879123687744\n",
            "epoch 2 - batch 200 - loss 2.5912928581237793 - precision 0.004406436812132597 - recall 0.003461761400103569 - f1 0.0026210579089820385 - sparse_categorical_accuracy 0.1890345960855484\n",
            "epoch 2 - batch 210 - loss 2.650995969772339 - precision 0.004398329649120569 - recall 0.003477692836895585 - f1 0.0026352927088737488 - sparse_categorical_accuracy 0.18907977640628815\n",
            "epoch 2 - batch 220 - loss 2.7022762298583984 - precision 0.004796054679900408 - recall 0.00348513456992805 - f1 0.0026402482762932777 - sparse_categorical_accuracy 0.18912464380264282\n",
            "epoch 2 - batch 230 - loss 2.547224283218384 - precision 0.004788427148014307 - recall 0.00349993328563869 - f1 0.0026578339748084545 - sparse_categorical_accuracy 0.18921777606010437\n",
            "epoch 2 - batch 240 - loss 2.6681926250457764 - precision 0.004968819674104452 - recall 0.0035203155130147934 - f1 0.0026744846254587173 - sparse_categorical_accuracy 0.18926827609539032\n",
            "epoch 2 - batch 250 - loss 2.5895156860351562 - precision 0.00496684480458498 - recall 0.003536378499120474 - f1 0.002688437234610319 - sparse_categorical_accuracy 0.18926115334033966\n",
            "epoch 2 - batch 260 - loss 2.4884414672851562 - precision 0.005013158544898033 - recall 0.0035812912974506617 - f1 0.0027417815290391445 - sparse_categorical_accuracy 0.18932756781578064\n",
            "epoch 2 - batch 270 - loss 2.5771706104278564 - precision 0.004978794138878584 - recall 0.0036082477308809757 - f1 0.002765472512692213 - sparse_categorical_accuracy 0.18930017948150635\n",
            "epoch 2 - batch 280 - loss 2.571239471435547 - precision 0.00516801280900836 - recall 0.0036358386278152466 - f1 0.0027963323518633842 - sparse_categorical_accuracy 0.18935945630073547\n",
            "epoch 2 - batch 290 - loss 2.4819958209991455 - precision 0.005160785745829344 - recall 0.003672927152365446 - f1 0.002834612736478448 - sparse_categorical_accuracy 0.1894146353006363\n",
            "epoch 2 - batch 300 - loss 2.605640411376953 - precision 0.0051772031001746655 - recall 0.003692232072353363 - f1 0.0028579107020050287 - sparse_categorical_accuracy 0.18951265513896942\n",
            "epoch 2 - batch 310 - loss 2.5487449169158936 - precision 0.005178228951990604 - recall 0.003717050887644291 - f1 0.0028940902557224035 - sparse_categorical_accuracy 0.18955662846565247\n",
            "epoch 2 - batch 320 - loss 2.5783698558807373 - precision 0.005369205959141254 - recall 0.0037298756651580334 - f1 0.002908573253080249 - sparse_categorical_accuracy 0.18963012099266052\n",
            "epoch 2 - batch 330 - loss 2.643183946609497 - precision 0.005356847774237394 - recall 0.0037529265973716974 - f1 0.002935210708528757 - sparse_categorical_accuracy 0.18966449797153473\n",
            "epoch 2 - batch 340 - loss 2.516225576400757 - precision 0.005354912020266056 - recall 0.0037767195608466864 - f1 0.002965446561574936 - sparse_categorical_accuracy 0.18968208134174347\n",
            "epoch 2 - batch 350 - loss 2.5988852977752686 - precision 0.005564795341342688 - recall 0.0038027451373636723 - f1 0.0030037635006010532 - sparse_categorical_accuracy 0.1896962672472\n",
            "epoch 2 - batch 360 - loss 2.616443157196045 - precision 0.00595589354634285 - recall 0.0038195624947547913 - f1 0.003021475626155734 - sparse_categorical_accuracy 0.18976779282093048\n",
            "epoch 2 - batch 370 - loss 2.5492281913757324 - precision 0.005956838373094797 - recall 0.0038650191854685545 - f1 0.0030762983951717615 - sparse_categorical_accuracy 0.1897856891155243\n",
            "epoch 2 - batch 380 - loss 2.5227863788604736 - precision 0.005961970891803503 - recall 0.0039022848941385746 - f1 0.003110745921730995 - sparse_categorical_accuracy 0.18979234993457794\n",
            "epoch 2 - batch 390 - loss 2.5411999225616455 - precision 0.005974840372800827 - recall 0.003944093827158213 - f1 0.003154595848172903 - sparse_categorical_accuracy 0.18984374403953552\n",
            "epoch 2 - batch 400 - loss 2.6078693866729736 - precision 0.005930805578827858 - recall 0.003979942761361599 - f1 0.0031960378400981426 - sparse_categorical_accuracy 0.1898890882730484\n",
            "epoch 2 - batch 410 - loss 2.534451961517334 - precision 0.0059547461569309235 - recall 0.004003278911113739 - f1 0.0032212580554187298 - sparse_categorical_accuracy 0.1899002343416214\n",
            "epoch 2 - batch 420 - loss 2.6616733074188232 - precision 0.005946372170001268 - recall 0.004037589766085148 - f1 0.0032568774186074734 - sparse_categorical_accuracy 0.18991351127624512\n",
            "epoch 2 - batch 430 - loss 2.6892166137695312 - precision 0.006339517422020435 - recall 0.004072568845003843 - f1 0.0032938248477876186 - sparse_categorical_accuracy 0.18995341658592224\n",
            "epoch 2 - batch 440 - loss 2.6404781341552734 - precision 0.006648884620517492 - recall 0.00409163860604167 - f1 0.0033157055731862783 - sparse_categorical_accuracy 0.19000862538814545\n",
            "epoch 2 - batch 450 - loss 2.3982126712799072 - precision 0.006701174192130566 - recall 0.004127636551856995 - f1 0.003358769230544567 - sparse_categorical_accuracy 0.19005517661571503\n",
            "epoch 2 - batch 460 - loss 2.426135778427124 - precision 0.006614085286855698 - recall 0.004162505269050598 - f1 0.003399216802790761 - sparse_categorical_accuracy 0.19012640416622162\n",
            "epoch 2 - batch 470 - loss 2.616239309310913 - precision 0.006635802332311869 - recall 0.0042014336213469505 - f1 0.0034428921062499285 - sparse_categorical_accuracy 0.1901821345090866\n",
            "epoch 2 - batch 480 - loss 2.550579071044922 - precision 0.006610463839024305 - recall 0.004232628736644983 - f1 0.0034756690729409456 - sparse_categorical_accuracy 0.19022682309150696\n",
            "epoch 2 - batch 490 - loss 2.527737855911255 - precision 0.0066573540680110455 - recall 0.004255825188010931 - f1 0.003501811297610402 - sparse_categorical_accuracy 0.1903306096792221\n",
            "epoch 2 - batch 500 - loss 2.4637484550476074 - precision 0.006660208106040955 - recall 0.004279703367501497 - f1 0.003533202689141035 - sparse_categorical_accuracy 0.19040289521217346\n",
            "epoch 2 - batch 510 - loss 2.6047399044036865 - precision 0.006701651960611343 - recall 0.004312535282224417 - f1 0.003568870248273015 - sparse_categorical_accuracy 0.19042913615703583\n",
            "epoch 2 - batch 520 - loss 2.4930689334869385 - precision 0.006692551542073488 - recall 0.004338954575359821 - f1 0.003590256441384554 - sparse_categorical_accuracy 0.19045597314834595\n",
            "epoch 2 - batch 530 - loss 2.5636541843414307 - precision 0.007001035381108522 - recall 0.004376114811748266 - f1 0.003635142929852009 - sparse_categorical_accuracy 0.19050444662570953\n",
            "epoch 2 - batch 540 - loss 2.6018147468566895 - precision 0.007040801923722029 - recall 0.004401195328682661 - f1 0.0036683501675724983 - sparse_categorical_accuracy 0.19055111706256866\n",
            "epoch 2 - batch 550 - loss 2.5401382446289062 - precision 0.007037977688014507 - recall 0.004421866964548826 - f1 0.003690198063850403 - sparse_categorical_accuracy 0.19059507548809052\n",
            "epoch 2 - batch 560 - loss 2.4762725830078125 - precision 0.007115285377949476 - recall 0.004442304372787476 - f1 0.0037123507354408503 - sparse_categorical_accuracy 0.19064942002296448\n",
            "epoch 2 - batch 570 - loss 2.625793933868408 - precision 0.007339057046920061 - recall 0.00447302870452404 - f1 0.003752476768568158 - sparse_categorical_accuracy 0.19067542254924774\n",
            "epoch 2 - batch 580 - loss 2.4971582889556885 - precision 0.007644177880138159 - recall 0.00449608638882637 - f1 0.0037875159177929163 - sparse_categorical_accuracy 0.1907476782798767\n",
            "epoch 2 - batch 590 - loss 2.3897342681884766 - precision 0.007632470689713955 - recall 0.004515090957283974 - f1 0.0038174691144376993 - sparse_categorical_accuracy 0.19080187380313873\n",
            "epoch 2 - batch 600 - loss 2.5421338081359863 - precision 0.007863789796829224 - recall 0.004546102602034807 - f1 0.003860922297462821 - sparse_categorical_accuracy 0.1908663511276245\n",
            "epoch 2 - batch 610 - loss 2.478024959564209 - precision 0.007925937883555889 - recall 0.004577199928462505 - f1 0.0039034816436469555 - sparse_categorical_accuracy 0.19092917442321777\n",
            "epoch 2 - batch 620 - loss 2.4705700874328613 - precision 0.008114391006529331 - recall 0.004608634393662214 - f1 0.003939394373446703 - sparse_categorical_accuracy 0.19098322093486786\n",
            "epoch 2 - batch 630 - loss 2.5790843963623047 - precision 0.008284241892397404 - recall 0.004645529668778181 - f1 0.0039803036488592625 - sparse_categorical_accuracy 0.19104884564876556\n",
            "epoch 2 - batch 640 - loss 2.4893863201141357 - precision 0.008305341005325317 - recall 0.004676477517932653 - f1 0.004016513470560312 - sparse_categorical_accuracy 0.19111153483390808\n",
            "epoch 2 - batch 650 - loss 2.4658775329589844 - precision 0.008295799605548382 - recall 0.004701782483607531 - f1 0.004046406596899033 - sparse_categorical_accuracy 0.19115255773067474\n",
            "epoch 2 - batch 660 - loss 2.599461793899536 - precision 0.00824794638901949 - recall 0.004740855190902948 - f1 0.004096667747944593 - sparse_categorical_accuracy 0.1911889612674713\n",
            "epoch 2 - batch 670 - loss 2.524796724319458 - precision 0.008192178793251514 - recall 0.00477245869114995 - f1 0.00412859208881855 - sparse_categorical_accuracy 0.19125424325466156\n",
            "epoch 2 - batch 680 - loss 2.5101706981658936 - precision 0.008434336632490158 - recall 0.004806364420801401 - f1 0.0041717588901519775 - sparse_categorical_accuracy 0.19130612909793854\n",
            "epoch 2 - batch 690 - loss 2.495375394821167 - precision 0.008471808396279812 - recall 0.004838132299482822 - f1 0.004212290979921818 - sparse_categorical_accuracy 0.1913904845714569\n",
            "epoch 2 - batch 700 - loss 2.517378568649292 - precision 0.008570099249482155 - recall 0.004882916808128357 - f1 0.004268474876880646 - sparse_categorical_accuracy 0.19145487248897552\n",
            "epoch 2 - batch 710 - loss 2.561052083969116 - precision 0.008620692417025566 - recall 0.004920279607176781 - f1 0.004313160665333271 - sparse_categorical_accuracy 0.19150370359420776\n",
            "epoch 2 - batch 720 - loss 2.5436952114105225 - precision 0.00864354521036148 - recall 0.004946789238601923 - f1 0.004344951827079058 - sparse_categorical_accuracy 0.1915728896856308\n",
            "epoch 2 - batch 730 - loss 2.5021469593048096 - precision 0.008931303396821022 - recall 0.004972741939127445 - f1 0.004379741847515106 - sparse_categorical_accuracy 0.19163978099822998\n",
            "epoch 2 - batch 740 - loss 2.488665819168091 - precision 0.009053139947354794 - recall 0.005004059057682753 - f1 0.004417065996676683 - sparse_categorical_accuracy 0.19167734682559967\n",
            "epoch 2 - batch 750 - loss 2.579580783843994 - precision 0.00904049165546894 - recall 0.005033429246395826 - f1 0.0044502015225589275 - sparse_categorical_accuracy 0.19171056151390076\n",
            "epoch 2 - batch 760 - loss 2.278721332550049 - precision 0.009190422482788563 - recall 0.005071826744824648 - f1 0.004498406779021025 - sparse_categorical_accuracy 0.19177338480949402\n",
            "epoch 2 - batch 770 - loss 2.620506763458252 - precision 0.00927451066672802 - recall 0.005098090972751379 - f1 0.004536566324532032 - sparse_categorical_accuracy 0.19185122847557068\n",
            "epoch 2 - batch 780 - loss 2.44828200340271 - precision 0.009385855868458748 - recall 0.005120746325701475 - f1 0.004560957662761211 - sparse_categorical_accuracy 0.19190096855163574\n",
            "epoch 2 - batch 790 - loss 2.496762752532959 - precision 0.009533768519759178 - recall 0.005150935146957636 - f1 0.004592974670231342 - sparse_categorical_accuracy 0.1919603943824768\n",
            "epoch 2 - batch 800 - loss 2.4138941764831543 - precision 0.009658152237534523 - recall 0.005185313988476992 - f1 0.004635368939489126 - sparse_categorical_accuracy 0.1920483410358429\n",
            "epoch 2 - batch 810 - loss 2.547699213027954 - precision 0.010005123913288116 - recall 0.00521107530221343 - f1 0.004668630659580231 - sparse_categorical_accuracy 0.19208760559558868\n",
            "epoch 2 - batch 820 - loss 2.463999032974243 - precision 0.010628302581608295 - recall 0.005236167460680008 - f1 0.0046982355415821075 - sparse_categorical_accuracy 0.19212830066680908\n",
            "epoch 2 - batch 830 - loss 2.5107669830322266 - precision 0.010627912357449532 - recall 0.005264565348625183 - f1 0.004731957335025072 - sparse_categorical_accuracy 0.1921911984682083\n",
            "epoch 2 - batch 840 - loss 2.5242061614990234 - precision 0.010580301284790039 - recall 0.005296810530126095 - f1 0.0047684027813375 - sparse_categorical_accuracy 0.19227153062820435\n",
            "epoch 2 - batch 850 - loss 2.4694294929504395 - precision 0.010578528977930546 - recall 0.005321597680449486 - f1 0.0047945440746843815 - sparse_categorical_accuracy 0.1923217624425888\n",
            "epoch 2 - batch 860 - loss 2.4620378017425537 - precision 0.010586917400360107 - recall 0.005348792299628258 - f1 0.004828319884836674 - sparse_categorical_accuracy 0.19237762689590454\n",
            "epoch 2 - batch 870 - loss 2.4287707805633545 - precision 0.011284129694104195 - recall 0.005389481782913208 - f1 0.004879526328295469 - sparse_categorical_accuracy 0.19245368242263794\n",
            "epoch 2 - batch 880 - loss 2.3995444774627686 - precision 0.011518999934196472 - recall 0.005418749060481787 - f1 0.004915383644402027 - sparse_categorical_accuracy 0.1925273984670639\n",
            "epoch 2 - batch 890 - loss 2.5708274841308594 - precision 0.011708755977451801 - recall 0.005450297612696886 - f1 0.004949137102812529 - sparse_categorical_accuracy 0.1925627589225769\n",
            "epoch 2 - batch 900 - loss 2.3644626140594482 - precision 0.012159981764853 - recall 0.005492194555699825 - f1 0.005003629717975855 - sparse_categorical_accuracy 0.19261811673641205\n",
            "epoch 2 - batch 910 - loss 2.5088717937469482 - precision 0.012194775976240635 - recall 0.005524553824216127 - f1 0.005042795091867447 - sparse_categorical_accuracy 0.19267010688781738\n",
            "epoch 2 - batch 920 - loss 2.405194044113159 - precision 0.012603209353983402 - recall 0.00556405633687973 - f1 0.00509591493755579 - sparse_categorical_accuracy 0.1927473545074463\n",
            "epoch 2 - batch 930 - loss 2.4521090984344482 - precision 0.012438888661563396 - recall 0.005610596854239702 - f1 0.005154861137270927 - sparse_categorical_accuracy 0.19283224642276764\n",
            "epoch 2 - batch 940 - loss 2.5004196166992188 - precision 0.012951727025210857 - recall 0.005662786308676004 - f1 0.005221574101597071 - sparse_categorical_accuracy 0.19290196895599365\n",
            "epoch 2 - batch 950 - loss 2.2768466472625732 - precision 0.01313736755400896 - recall 0.005705735180526972 - f1 0.005274211522191763 - sparse_categorical_accuracy 0.19299018383026123\n",
            "epoch 2 - batch 960 - loss 2.4402318000793457 - precision 0.013222918845713139 - recall 0.005749993026256561 - f1 0.00532739982008934 - sparse_categorical_accuracy 0.19305245578289032\n",
            "epoch 2 - batch 970 - loss 2.4064807891845703 - precision 0.013662902638316154 - recall 0.005795987322926521 - f1 0.005387874785810709 - sparse_categorical_accuracy 0.1931142956018448\n",
            "epoch 2 - batch 980 - loss 2.433551788330078 - precision 0.014266290701925755 - recall 0.0058339498937129974 - f1 0.005435981787741184 - sparse_categorical_accuracy 0.1931859850883484\n",
            "epoch 2 - batch 990 - loss 2.387664318084717 - precision 0.015036489814519882 - recall 0.005869558546692133 - f1 0.005482502747327089 - sparse_categorical_accuracy 0.19324128329753876\n",
            "epoch 2 - batch 1000 - loss 2.497873067855835 - precision 0.015052102506160736 - recall 0.005911508109420538 - f1 0.005533977411687374 - sparse_categorical_accuracy 0.19331222772598267\n",
            "epoch 2 - batch 1010 - loss 2.369539976119995 - precision 0.015073888003826141 - recall 0.005956181325018406 - f1 0.005585258360952139 - sparse_categorical_accuracy 0.1934024691581726\n",
            "epoch 2 - batch 1020 - loss 2.473633289337158 - precision 0.015471475198864937 - recall 0.005988760851323605 - f1 0.005620111245661974 - sparse_categorical_accuracy 0.1934605836868286\n",
            "epoch 2 - batch 1030 - loss 2.4092295169830322 - precision 0.01568206585943699 - recall 0.006028581876307726 - f1 0.005665491335093975 - sparse_categorical_accuracy 0.19353057444095612\n",
            "epoch 2 - batch 1040 - loss 2.317506790161133 - precision 0.016111183911561966 - recall 0.006064542103558779 - f1 0.005707849282771349 - sparse_categorical_accuracy 0.19359761476516724\n",
            "epoch 2 - batch 1050 - loss 2.3163466453552246 - precision 0.016461478546261787 - recall 0.006100241094827652 - f1 0.005747057963162661 - sparse_categorical_accuracy 0.1936769187450409\n",
            "epoch 2 - batch 1060 - loss 2.4178178310394287 - precision 0.016628852114081383 - recall 0.006149700377136469 - f1 0.005802472122013569 - sparse_categorical_accuracy 0.19374920427799225\n",
            "epoch 2 - batch 1070 - loss 2.383903741836548 - precision 0.017539657652378082 - recall 0.0061765811406075954 - f1 0.005833254661411047 - sparse_categorical_accuracy 0.1938290148973465\n",
            "epoch 2 - batch 1080 - loss 2.327523708343506 - precision 0.018555155023932457 - recall 0.006213560234755278 - f1 0.005880472715944052 - sparse_categorical_accuracy 0.1939060389995575\n",
            "epoch 2 - batch 1090 - loss 2.3847262859344482 - precision 0.018894726410508156 - recall 0.006258906330913305 - f1 0.0059336209669709206 - sparse_categorical_accuracy 0.19398115575313568\n",
            "epoch 2 - batch 1100 - loss 2.3656036853790283 - precision 0.018693160265684128 - recall 0.006307168398052454 - f1 0.005990477744489908 - sparse_categorical_accuracy 0.19405870139598846\n",
            "epoch 2 - batch 1110 - loss 2.3281664848327637 - precision 0.01885971985757351 - recall 0.006350202951580286 - f1 0.0060455407947301865 - sparse_categorical_accuracy 0.19413912296295166\n",
            "epoch 2 - batch 1120 - loss 2.359617233276367 - precision 0.019427254796028137 - recall 0.006392860785126686 - f1 0.006098712328821421 - sparse_categorical_accuracy 0.1942061483860016\n",
            "epoch 2 - batch 1130 - loss 2.430928945541382 - precision 0.020283687859773636 - recall 0.006436747964471579 - f1 0.006153854075819254 - sparse_categorical_accuracy 0.1942969262599945\n",
            "epoch 2 - batch 1140 - loss 2.4442672729492188 - precision 0.020871344953775406 - recall 0.006490136496722698 - f1 0.0062226648442447186 - sparse_categorical_accuracy 0.1943853795528412\n",
            "epoch 2 - batch 1150 - loss 2.295454502105713 - precision 0.021139848977327347 - recall 0.006542308256030083 - f1 0.006295384373515844 - sparse_categorical_accuracy 0.1944703459739685\n",
            "epoch 2 - batch 1160 - loss 2.401472330093384 - precision 0.021289754658937454 - recall 0.006590554025024176 - f1 0.006356160156428814 - sparse_categorical_accuracy 0.1945437639951706\n",
            "epoch 2 - batch 1170 - loss 2.1948657035827637 - precision 0.021571755409240723 - recall 0.006635781843215227 - f1 0.006413373630493879 - sparse_categorical_accuracy 0.19464929401874542\n",
            "epoch 2 - batch 1180 - loss 2.2877309322357178 - precision 0.021827178075909615 - recall 0.006684427615255117 - f1 0.0064749158918857574 - sparse_categorical_accuracy 0.19471994042396545\n",
            "epoch 2 - batch 1190 - loss 2.195115566253662 - precision 0.02224983274936676 - recall 0.00673954701051116 - f1 0.006548276636749506 - sparse_categorical_accuracy 0.19479268789291382\n",
            "epoch 2 - batch 1200 - loss 2.367055892944336 - precision 0.022871937602758408 - recall 0.006785511039197445 - f1 0.006607800256460905 - sparse_categorical_accuracy 0.19486351311206818\n",
            "epoch 2 - batch 1210 - loss 2.444697141647339 - precision 0.02307775802910328 - recall 0.006831981707364321 - f1 0.006669712718576193 - sparse_categorical_accuracy 0.19493478536605835\n",
            "epoch 2 - batch 1220 - loss 2.3769867420196533 - precision 0.022892331704497337 - recall 0.006886697374284267 - f1 0.006741537246853113 - sparse_categorical_accuracy 0.1950044333934784\n",
            "epoch 2 - batch 1230 - loss 2.4474399089813232 - precision 0.02275007963180542 - recall 0.006932599004358053 - f1 0.006799714639782906 - sparse_categorical_accuracy 0.19510334730148315\n",
            "epoch 2 training time: 1280.4873445034027 sec\n"
          ],
          "name": "stdout"
        },
        {
          "output_type": "stream",
          "text": [
            "\u001b[34m\u001b[1mwandb\u001b[0m: Visualizing heatmap.\n"
          ],
          "name": "stderr"
        },
        {
          "output_type": "stream",
          "text": [
            "epoch 2 evaluation time: 137.03307819366455 sec\n",
            "epoch evaluation:  {'epoch': 2, 'epoch_test_loss': <tf.Tensor: shape=(), dtype=float32, numpy=2.3495848>, 'epoch_test_sparse_categorical_accuracy': <tf.Tensor: shape=(), dtype=float32, numpy=0.20603476>, 'epoch_test_precision': <tf.Tensor: shape=(), dtype=float32, numpy=0.022067398>, 'epoch_test_recall': <tf.Tensor: shape=(), dtype=float32, numpy=0.013739077>, 'epoch_test_f1': <tf.Tensor: shape=(), dtype=float32, numpy=0.011975167>}\n"
          ],
          "name": "stdout"
        },
        {
          "output_type": "stream",
          "text": [
            "\u001b[34m\u001b[1mwandb\u001b[0m: Visualizing heatmap.\n",
            "\u001b[34m\u001b[1mwandb\u001b[0m: Visualizing heatmap.\n",
            "\u001b[34m\u001b[1mwandb\u001b[0m: Visualizing heatmap.\n",
            "\u001b[34m\u001b[1mwandb\u001b[0m: Visualizing heatmap.\n",
            "\u001b[34m\u001b[1mwandb\u001b[0m: Visualizing heatmap.\n",
            "\u001b[34m\u001b[1mwandb\u001b[0m: Visualizing heatmap.\n",
            "\u001b[34m\u001b[1mwandb\u001b[0m: Visualizing heatmap.\n",
            "\u001b[34m\u001b[1mwandb\u001b[0m: Visualizing heatmap.\n",
            "\u001b[34m\u001b[1mwandb\u001b[0m: Visualizing heatmap.\n"
          ],
          "name": "stderr"
        },
        {
          "output_type": "stream",
          "text": [
            "epoch 3 - batch 10 - loss 2.3201088905334473 - precision 0.016359280794858932 - recall 0.013336650095880032 - f1 0.011865822598338127 - sparse_categorical_accuracy 0.20454798638820648\n",
            "epoch 3 - batch 20 - loss 2.3620758056640625 - precision 0.01765352301299572 - recall 0.013457076624035835 - f1 0.011920413933694363 - sparse_categorical_accuracy 0.20527343451976776\n",
            "epoch 3 - batch 30 - loss 2.457599639892578 - precision 0.019599752500653267 - recall 0.013184807263314724 - f1 0.011914652772247791 - sparse_categorical_accuracy 0.20499442517757416\n",
            "epoch 3 - batch 40 - loss 2.2880237102508545 - precision 0.021374663338065147 - recall 0.013346939347684383 - f1 0.012302655726671219 - sparse_categorical_accuracy 0.20556640625\n",
            "epoch 3 - batch 50 - loss 2.4186909198760986 - precision 0.021759286522865295 - recall 0.01356433890759945 - f1 0.012598657049238682 - sparse_categorical_accuracy 0.2052232176065445\n",
            "epoch 3 - batch 60 - loss 2.3749561309814453 - precision 0.022827358916401863 - recall 0.013583299703896046 - f1 0.012662914581596851 - sparse_categorical_accuracy 0.2059849351644516\n",
            "epoch 3 - batch 70 - loss 2.3626511096954346 - precision 0.023199288174510002 - recall 0.013624119572341442 - f1 0.012704716064035892 - sparse_categorical_accuracy 0.20589126646518707\n",
            "epoch 3 - batch 80 - loss 2.3028149604797363 - precision 0.023593666031956673 - recall 0.013676227070391178 - f1 0.012749359011650085 - sparse_categorical_accuracy 0.20573033392429352\n",
            "epoch 3 - batch 90 - loss 2.1705398559570312 - precision 0.024252818897366524 - recall 0.013911650516092777 - f1 0.012975606136023998 - sparse_categorical_accuracy 0.20601128041744232\n",
            "epoch 3 - batch 100 - loss 2.3300445079803467 - precision 0.02490958198904991 - recall 0.014056556858122349 - f1 0.01316872239112854 - sparse_categorical_accuracy 0.20619140565395355\n",
            "epoch 3 - batch 110 - loss 2.2610702514648438 - precision 0.025558948516845703 - recall 0.014168339781463146 - f1 0.013253236189484596 - sparse_categorical_accuracy 0.2061992734670639\n",
            "epoch 3 - batch 120 - loss 2.3547322750091553 - precision 0.026515070348978043 - recall 0.014298140071332455 - f1 0.013432119973003864 - sparse_categorical_accuracy 0.20656388998031616\n",
            "epoch 3 - batch 130 - loss 2.269953489303589 - precision 0.026384878903627396 - recall 0.01425429992377758 - f1 0.01342078112065792 - sparse_categorical_accuracy 0.2067844271659851\n",
            "epoch 3 - batch 140 - loss 2.300708770751953 - precision 0.027065344154834747 - recall 0.014340795576572418 - f1 0.013530435040593147 - sparse_categorical_accuracy 0.2068658322095871\n",
            "epoch 3 - batch 150 - loss 2.4049530029296875 - precision 0.027509167790412903 - recall 0.014400869607925415 - f1 0.013662637211382389 - sparse_categorical_accuracy 0.2070833295583725\n",
            "epoch 3 - batch 160 - loss 2.302196979522705 - precision 0.02794182114303112 - recall 0.014520030468702316 - f1 0.013846403919160366 - sparse_categorical_accuracy 0.20703473687171936\n",
            "epoch 3 - batch 170 - loss 2.2080414295196533 - precision 0.02817433699965477 - recall 0.014534690417349339 - f1 0.013867022469639778 - sparse_categorical_accuracy 0.20718717575073242\n",
            "epoch 3 - batch 180 - loss 2.3401119709014893 - precision 0.028828775510191917 - recall 0.014571916311979294 - f1 0.013939248397946358 - sparse_categorical_accuracy 0.20731957256793976\n",
            "epoch 3 - batch 190 - loss 2.357860803604126 - precision 0.029247179627418518 - recall 0.014622288756072521 - f1 0.014012596569955349 - sparse_categorical_accuracy 0.20741012692451477\n",
            "epoch 3 - batch 200 - loss 2.3046557903289795 - precision 0.02960813045501709 - recall 0.01469508372247219 - f1 0.014074892736971378 - sparse_categorical_accuracy 0.20741629600524902\n",
            "epoch 3 - batch 210 - loss 2.3810884952545166 - precision 0.030057596042752266 - recall 0.014743106439709663 - f1 0.014132661744952202 - sparse_categorical_accuracy 0.20751753449440002\n",
            "epoch 3 - batch 220 - loss 2.399523973464966 - precision 0.0303563941270113 - recall 0.01482609286904335 - f1 0.014245358295738697 - sparse_categorical_accuracy 0.20761972665786743\n",
            "epoch 3 - batch 230 - loss 2.3031249046325684 - precision 0.031061599031090736 - recall 0.014874236658215523 - f1 0.014308652840554714 - sparse_categorical_accuracy 0.20777246356010437\n",
            "epoch 3 - batch 240 - loss 2.3186705112457275 - precision 0.03112436830997467 - recall 0.014908283948898315 - f1 0.014349090866744518 - sparse_categorical_accuracy 0.20789387822151184\n",
            "epoch 3 - batch 250 - loss 2.310621976852417 - precision 0.03221919760107994 - recall 0.014981841668486595 - f1 0.014439239166676998 - sparse_categorical_accuracy 0.20793527364730835\n",
            "epoch 3 - batch 260 - loss 2.203216075897217 - precision 0.032608140259981155 - recall 0.01508288737386465 - f1 0.014574052765965462 - sparse_categorical_accuracy 0.20798099040985107\n",
            "epoch 3 - batch 270 - loss 2.3065145015716553 - precision 0.03263069689273834 - recall 0.015181383118033409 - f1 0.014674783684313297 - sparse_categorical_accuracy 0.20801608264446259\n",
            "epoch 3 - batch 280 - loss 2.3139290809631348 - precision 0.03348692134022713 - recall 0.01527219545096159 - f1 0.014789014123380184 - sparse_categorical_accuracy 0.2081552892923355\n",
            "epoch 3 - batch 290 - loss 2.372694492340088 - precision 0.034048307687044144 - recall 0.015379874035716057 - f1 0.01491299457848072 - sparse_categorical_accuracy 0.208214670419693\n",
            "epoch 3 - batch 300 - loss 2.224217176437378 - precision 0.03388931602239609 - recall 0.015474720858037472 - f1 0.015019192360341549 - sparse_categorical_accuracy 0.208298921585083\n",
            "epoch 3 - batch 310 - loss 2.2413125038146973 - precision 0.03402324393391609 - recall 0.015543648041784763 - f1 0.015109184198081493 - sparse_categorical_accuracy 0.20839214324951172\n",
            "epoch 3 - batch 320 - loss 2.3581485748291016 - precision 0.03402324020862579 - recall 0.015628932043910027 - f1 0.015214061364531517 - sparse_categorical_accuracy 0.20853272080421448\n",
            "epoch 3 - batch 330 - loss 2.3345630168914795 - precision 0.03496290370821953 - recall 0.015730127692222595 - f1 0.015375912189483643 - sparse_categorical_accuracy 0.20861320197582245\n",
            "epoch 3 - batch 340 - loss 2.2479419708251953 - precision 0.03506333380937576 - recall 0.015861500054597855 - f1 0.01550900749862194 - sparse_categorical_accuracy 0.20867745578289032\n",
            "epoch 3 - batch 350 - loss 2.2984650135040283 - precision 0.03554098680615425 - recall 0.01598937064409256 - f1 0.01568683423101902 - sparse_categorical_accuracy 0.20879384875297546\n",
            "epoch 3 - batch 360 - loss 2.264347553253174 - precision 0.03534336015582085 - recall 0.016074461862444878 - f1 0.01580205000936985 - sparse_categorical_accuracy 0.20886966586112976\n",
            "epoch 3 - batch 370 - loss 2.276425361633301 - precision 0.03632194548845291 - recall 0.016197936609387398 - f1 0.01595725491642952 - sparse_categorical_accuracy 0.20898060500621796\n",
            "epoch 3 - batch 380 - loss 2.3295750617980957 - precision 0.03629514202475548 - recall 0.016285477206110954 - f1 0.016048811376094818 - sparse_categorical_accuracy 0.20913489162921906\n",
            "epoch 3 - batch 390 - loss 2.3272864818573 - precision 0.036726269870996475 - recall 0.016368379816412926 - f1 0.016132282093167305 - sparse_categorical_accuracy 0.20922833681106567\n",
            "epoch 3 - batch 400 - loss 2.2621591091156006 - precision 0.03726394101977348 - recall 0.01643369346857071 - f1 0.016215508803725243 - sparse_categorical_accuracy 0.2092452496290207\n",
            "epoch 3 - batch 410 - loss 2.2425436973571777 - precision 0.03769376501441002 - recall 0.016518989577889442 - f1 0.0163202416151762 - sparse_categorical_accuracy 0.20924977958202362\n",
            "epoch 3 - batch 420 - loss 2.1706950664520264 - precision 0.03856944665312767 - recall 0.016574518755078316 - f1 0.01639360561966896 - sparse_categorical_accuracy 0.20930059254169464\n",
            "epoch 3 - batch 430 - loss 2.3298590183258057 - precision 0.03937086462974548 - recall 0.016654711216688156 - f1 0.016489151865243912 - sparse_categorical_accuracy 0.2093724012374878\n",
            "epoch 3 - batch 440 - loss 2.1794261932373047 - precision 0.03947495296597481 - recall 0.016724849119782448 - f1 0.016583917662501335 - sparse_categorical_accuracy 0.20947392284870148\n",
            "epoch 3 - batch 450 - loss 2.0769197940826416 - precision 0.04035334289073944 - recall 0.01687883771955967 - f1 0.01677643693983555 - sparse_categorical_accuracy 0.2095833271741867\n",
            "epoch 3 - batch 460 - loss 2.201005458831787 - precision 0.04130443185567856 - recall 0.01697099395096302 - f1 0.01690538413822651 - sparse_categorical_accuracy 0.20971043407917023\n",
            "epoch 3 - batch 470 - loss 2.2409615516662598 - precision 0.041775792837142944 - recall 0.017067940905690193 - f1 0.01701987348496914 - sparse_categorical_accuracy 0.20979708433151245\n",
            "epoch 3 - batch 480 - loss 2.0598442554473877 - precision 0.042123354971408844 - recall 0.017167111858725548 - f1 0.017130210995674133 - sparse_categorical_accuracy 0.20992489159107208\n",
            "epoch 3 - batch 490 - loss 2.3186590671539307 - precision 0.04263637214899063 - recall 0.01725347898900509 - f1 0.0172373466193676 - sparse_categorical_accuracy 0.21002699434757233\n",
            "epoch 3 - batch 500 - loss 2.4351394176483154 - precision 0.04334447532892227 - recall 0.017337528988718987 - f1 0.017352642491459846 - sparse_categorical_accuracy 0.21015959978103638\n",
            "epoch 3 - batch 510 - loss 2.2086164951324463 - precision 0.04372567683458328 - recall 0.01743105985224247 - f1 0.017475808039307594 - sparse_categorical_accuracy 0.2102038413286209\n",
            "epoch 3 - batch 520 - loss 2.202239513397217 - precision 0.044323403388261795 - recall 0.01750989817082882 - f1 0.017574967816472054 - sparse_categorical_accuracy 0.21028609573841095\n",
            "epoch 3 - batch 530 - loss 2.157320499420166 - precision 0.04561692103743553 - recall 0.01764596626162529 - f1 0.017735367640852928 - sparse_categorical_accuracy 0.21040473878383636\n",
            "epoch 3 - batch 540 - loss 2.2467663288116455 - precision 0.04572232812643051 - recall 0.017747318372130394 - f1 0.01785564050078392 - sparse_categorical_accuracy 0.2104998528957367\n",
            "epoch 3 - batch 550 - loss 2.1924455165863037 - precision 0.046381060034036636 - recall 0.017801713198423386 - f1 0.017923053354024887 - sparse_categorical_accuracy 0.21058745682239532\n",
            "epoch 3 - batch 560 - loss 2.259357213973999 - precision 0.04703761264681816 - recall 0.017891457304358482 - f1 0.018042489886283875 - sparse_categorical_accuracy 0.2106664478778839\n",
            "epoch 3 - batch 570 - loss 2.1914114952087402 - precision 0.04752356559038162 - recall 0.01801508106291294 - f1 0.018199637532234192 - sparse_categorical_accuracy 0.21076714992523193\n",
            "epoch 3 - batch 580 - loss 2.220050573348999 - precision 0.047898802906274796 - recall 0.01813286356627941 - f1 0.01835574582219124 - sparse_categorical_accuracy 0.21080905199050903\n",
            "epoch 3 - batch 590 - loss 2.183528184890747 - precision 0.04847921058535576 - recall 0.018222205340862274 - f1 0.01847553811967373 - sparse_categorical_accuracy 0.21088121831417084\n",
            "epoch 3 - batch 600 - loss 2.173793077468872 - precision 0.04880664497613907 - recall 0.01835029572248459 - f1 0.018640989437699318 - sparse_categorical_accuracy 0.21102865040302277\n",
            "epoch 3 - batch 610 - loss 2.2332894802093506 - precision 0.04946308955550194 - recall 0.018449997529387474 - f1 0.01877564564347267 - sparse_categorical_accuracy 0.2111186385154724\n",
            "epoch 3 - batch 620 - loss 2.1523430347442627 - precision 0.049439817667007446 - recall 0.018518026918172836 - f1 0.018853800371289253 - sparse_categorical_accuracy 0.21119941771030426\n",
            "epoch 3 - batch 630 - loss 2.185647964477539 - precision 0.04930141568183899 - recall 0.018603971228003502 - f1 0.018974967300891876 - sparse_categorical_accuracy 0.21131661534309387\n",
            "epoch 3 - batch 640 - loss 2.1558401584625244 - precision 0.04932679235935211 - recall 0.018695779144763947 - f1 0.01909135840833187 - sparse_categorical_accuracy 0.21138828992843628\n",
            "epoch 3 - batch 650 - loss 2.1338677406311035 - precision 0.04980403929948807 - recall 0.01879032514989376 - f1 0.019212067127227783 - sparse_categorical_accuracy 0.21150240302085876\n",
            "epoch 3 - batch 660 - loss 2.120201349258423 - precision 0.05049289017915726 - recall 0.018878737464547157 - f1 0.01931838132441044 - sparse_categorical_accuracy 0.21161475777626038\n",
            "epoch 3 - batch 670 - loss 2.309587240219116 - precision 0.0507202073931694 - recall 0.018954595550894737 - f1 0.019415555521845818 - sparse_categorical_accuracy 0.2116975039243698\n",
            "epoch 3 - batch 680 - loss 2.205522060394287 - precision 0.05103308707475662 - recall 0.01903821900486946 - f1 0.019522342830896378 - sparse_categorical_accuracy 0.21178562939167023\n",
            "epoch 3 - batch 690 - loss 2.108776807785034 - precision 0.05165774002671242 - recall 0.019152428954839706 - f1 0.01967630535364151 - sparse_categorical_accuracy 0.21185056865215302\n",
            "epoch 3 - batch 700 - loss 2.2306830883026123 - precision 0.05185295268893242 - recall 0.019283156841993332 - f1 0.019836001098155975 - sparse_categorical_accuracy 0.2119411677122116\n",
            "epoch 3 - batch 710 - loss 2.2171549797058105 - precision 0.052167411893606186 - recall 0.01940504088997841 - f1 0.019989289343357086 - sparse_categorical_accuracy 0.2120484560728073\n",
            "epoch 3 - batch 720 - loss 2.223454236984253 - precision 0.05236489325761795 - recall 0.019508294761180878 - f1 0.020120760425925255 - sparse_categorical_accuracy 0.21214425563812256\n",
            "epoch 3 - batch 730 - loss 2.103567123413086 - precision 0.05264454334974289 - recall 0.019619205966591835 - f1 0.02026381716132164 - sparse_categorical_accuracy 0.21221792697906494\n",
            "epoch 3 - batch 740 - loss 2.147320508956909 - precision 0.052912212908267975 - recall 0.019720474258065224 - f1 0.020383358001708984 - sparse_categorical_accuracy 0.21232806146144867\n",
            "epoch 3 - batch 750 - loss 2.209289789199829 - precision 0.053338274359703064 - recall 0.019845468923449516 - f1 0.020546382293105125 - sparse_categorical_accuracy 0.21238578855991364\n",
            "epoch 3 - batch 760 - loss 2.1731982231140137 - precision 0.05405021831393242 - recall 0.019950205460190773 - f1 0.020676730200648308 - sparse_categorical_accuracy 0.2124691605567932\n",
            "epoch 3 - batch 770 - loss 2.2360308170318604 - precision 0.054714325815439224 - recall 0.020068231970071793 - f1 0.02083742432296276 - sparse_categorical_accuracy 0.21256667375564575\n",
            "epoch 3 - batch 780 - loss 2.080040454864502 - precision 0.055024951696395874 - recall 0.020202556625008583 - f1 0.02099422924220562 - sparse_categorical_accuracy 0.21266025304794312\n",
            "epoch 3 - batch 790 - loss 2.2138125896453857 - precision 0.055425550788640976 - recall 0.02030312269926071 - f1 0.021125078201293945 - sparse_categorical_accuracy 0.21276983618736267\n",
            "epoch 3 - batch 800 - loss 2.088571310043335 - precision 0.056172776967287064 - recall 0.020419234409928322 - f1 0.021270565688610077 - sparse_categorical_accuracy 0.21286970376968384\n",
            "epoch 3 - batch 810 - loss 2.1612045764923096 - precision 0.05645040422677994 - recall 0.02051549032330513 - f1 0.02140732668340206 - sparse_categorical_accuracy 0.21293264627456665\n",
            "epoch 3 - batch 820 - loss 2.183283567428589 - precision 0.05707872286438942 - recall 0.02061665803194046 - f1 0.021538740023970604 - sparse_categorical_accuracy 0.21300937235355377\n",
            "epoch 3 - batch 830 - loss 2.1504769325256348 - precision 0.05900488421320915 - recall 0.020760182291269302 - f1 0.021723514422774315 - sparse_categorical_accuracy 0.21308189630508423\n",
            "epoch 3 - batch 840 - loss 2.2508864402770996 - precision 0.05929414555430412 - recall 0.020861132070422173 - f1 0.021840592846274376 - sparse_categorical_accuracy 0.21315768361091614\n",
            "epoch 3 - batch 850 - loss 2.080665111541748 - precision 0.05902288854122162 - recall 0.020953241735696793 - f1 0.02194339968264103 - sparse_categorical_accuracy 0.21323660016059875\n",
            "epoch 3 - batch 860 - loss 2.0681655406951904 - precision 0.05935482308268547 - recall 0.021058373153209686 - f1 0.022072535008192062 - sparse_categorical_accuracy 0.2133302390575409\n",
            "epoch 3 - batch 870 - loss 2.0236809253692627 - precision 0.05991232767701149 - recall 0.02116699144244194 - f1 0.022229816764593124 - sparse_categorical_accuracy 0.21340440213680267\n",
            "epoch 3 - batch 880 - loss 2.1052377223968506 - precision 0.06009973585605621 - recall 0.02126806415617466 - f1 0.022372806444764137 - sparse_categorical_accuracy 0.2135009765625\n",
            "epoch 3 - batch 890 - loss 2.0200984477996826 - precision 0.060296785086393356 - recall 0.02137996442615986 - f1 0.022515513002872467 - sparse_categorical_accuracy 0.21359758079051971\n",
            "epoch 3 - batch 900 - loss 2.103036403656006 - precision 0.061405785381793976 - recall 0.02149374783039093 - f1 0.022660858929157257 - sparse_categorical_accuracy 0.2136712521314621\n",
            "epoch 3 - batch 910 - loss 2.101933240890503 - precision 0.06262533366680145 - recall 0.021609297022223473 - f1 0.02281230129301548 - sparse_categorical_accuracy 0.21376998722553253\n",
            "epoch 3 - batch 920 - loss 2.09399151802063 - precision 0.06270930916070938 - recall 0.021728472784161568 - f1 0.02294033393263817 - sparse_categorical_accuracy 0.21385960280895233\n",
            "epoch 3 - batch 930 - loss 2.195133924484253 - precision 0.06314608454704285 - recall 0.021841702982783318 - f1 0.023070387542247772 - sparse_categorical_accuracy 0.21394699811935425\n",
            "epoch 3 - batch 940 - loss 2.089679718017578 - precision 0.06374481320381165 - recall 0.021952388808131218 - f1 0.02320643700659275 - sparse_categorical_accuracy 0.2140473574399948\n",
            "epoch 3 - batch 950 - loss 2.1464884281158447 - precision 0.063405841588974 - recall 0.022059261798858643 - f1 0.02333899401128292 - sparse_categorical_accuracy 0.21416911482810974\n",
            "epoch 3 - batch 960 - loss 2.1652824878692627 - precision 0.06381841748952866 - recall 0.022159352898597717 - f1 0.023457825183868408 - sparse_categorical_accuracy 0.21426042914390564\n",
            "epoch 3 - batch 970 - loss 2.122283697128296 - precision 0.06457555294036865 - recall 0.022253066301345825 - f1 0.023580048233270645 - sparse_categorical_accuracy 0.2143392115831375\n",
            "epoch 3 - batch 980 - loss 2.136873245239258 - precision 0.0653562992811203 - recall 0.022409260272979736 - f1 0.023797400295734406 - sparse_categorical_accuracy 0.2144462913274765\n",
            "epoch 3 - batch 990 - loss 2.1521248817443848 - precision 0.06577740609645844 - recall 0.022523343563079834 - f1 0.0239437036216259 - sparse_categorical_accuracy 0.21453768014907837\n",
            "epoch 3 - batch 1000 - loss 2.15800404548645 - precision 0.06596143543720245 - recall 0.02262871153652668 - f1 0.024073638021945953 - sparse_categorical_accuracy 0.21462666988372803\n",
            "epoch 3 - batch 1010 - loss 2.1583733558654785 - precision 0.06620147824287415 - recall 0.022728532552719116 - f1 0.02419424057006836 - sparse_categorical_accuracy 0.21472550928592682\n",
            "epoch 3 - batch 1020 - loss 2.1281275749206543 - precision 0.06670733541250229 - recall 0.022848065942525864 - f1 0.024344703182578087 - sparse_categorical_accuracy 0.21480271220207214\n",
            "epoch 3 - batch 1030 - loss 2.136277437210083 - precision 0.06684722751379013 - recall 0.022953350096940994 - f1 0.024485377594828606 - sparse_categorical_accuracy 0.2148914337158203\n",
            "epoch 3 - batch 1040 - loss 2.0518012046813965 - precision 0.06729156523942947 - recall 0.023096391931176186 - f1 0.024672221392393112 - sparse_categorical_accuracy 0.2149685025215149\n",
            "epoch 3 - batch 1050 - loss 2.2047648429870605 - precision 0.06839283555746078 - recall 0.023199526593089104 - f1 0.024810368195176125 - sparse_categorical_accuracy 0.21504969894886017\n",
            "epoch 3 - batch 1060 - loss 2.065124034881592 - precision 0.06860093027353287 - recall 0.023314058780670166 - f1 0.024965547025203705 - sparse_categorical_accuracy 0.21512961387634277\n",
            "epoch 3 - batch 1070 - loss 2.031059741973877 - precision 0.06886810064315796 - recall 0.02343731001019478 - f1 0.025125663727521896 - sparse_categorical_accuracy 0.215234637260437\n",
            "epoch 3 - batch 1080 - loss 2.1731536388397217 - precision 0.0694030374288559 - recall 0.023541279137134552 - f1 0.02526444010436535 - sparse_categorical_accuracy 0.21530413627624512\n",
            "epoch 3 - batch 1090 - loss 2.209052324295044 - precision 0.07015947252511978 - recall 0.02367212250828743 - f1 0.025431903079152107 - sparse_categorical_accuracy 0.2153705507516861\n",
            "epoch 3 - batch 1100 - loss 1.942186951637268 - precision 0.07145190984010696 - recall 0.023813098669052124 - f1 0.025620346888899803 - sparse_categorical_accuracy 0.21547433733940125\n",
            "epoch 3 - batch 1110 - loss 2.1318917274475098 - precision 0.07165049761533737 - recall 0.02392606995999813 - f1 0.0257557425647974 - sparse_categorical_accuracy 0.21555662155151367\n",
            "epoch 3 - batch 1120 - loss 2.044877529144287 - precision 0.07209833711385727 - recall 0.02404230274260044 - f1 0.025913387537002563 - sparse_categorical_accuracy 0.21564294397830963\n",
            "epoch 3 - batch 1130 - loss 2.0148847103118896 - precision 0.07199016213417053 - recall 0.024154195562005043 - f1 0.026059741154313087 - sparse_categorical_accuracy 0.2157333940267563\n",
            "epoch 3 - batch 1140 - loss 2.060603618621826 - precision 0.07246019691228867 - recall 0.024277832359075546 - f1 0.02621525526046753 - sparse_categorical_accuracy 0.21580465137958527\n",
            "epoch 3 - batch 1150 - loss 2.08323073387146 - precision 0.07279392331838608 - recall 0.024383947253227234 - f1 0.026346374303102493 - sparse_categorical_accuracy 0.21591007709503174\n",
            "epoch 3 - batch 1160 - loss 2.3089599609375 - precision 0.07337462157011032 - recall 0.024496445432305336 - f1 0.026498684659600258 - sparse_categorical_accuracy 0.21601730585098267\n",
            "epoch 3 - batch 1170 - loss 2.0635101795196533 - precision 0.07377893477678299 - recall 0.024618348106741905 - f1 0.026656679809093475 - sparse_categorical_accuracy 0.21610696613788605\n",
            "epoch 3 - batch 1180 - loss 2.118665933609009 - precision 0.07395711541175842 - recall 0.024707099422812462 - f1 0.026778988540172577 - sparse_categorical_accuracy 0.21617498993873596\n",
            "epoch 3 - batch 1190 - loss 2.054621696472168 - precision 0.07462485134601593 - recall 0.024813441559672356 - f1 0.026910195127129555 - sparse_categorical_accuracy 0.2162453979253769\n",
            "epoch 3 - batch 1200 - loss 1.990742802619934 - precision 0.07515206187963486 - recall 0.024929221719503403 - f1 0.027056381106376648 - sparse_categorical_accuracy 0.2163437008857727\n",
            "epoch 3 - batch 1210 - loss 2.1247129440307617 - precision 0.07620494067668915 - recall 0.025062082335352898 - f1 0.027241306379437447 - sparse_categorical_accuracy 0.2164357602596283\n",
            "epoch 3 - batch 1220 - loss 2.0592026710510254 - precision 0.07679447531700134 - recall 0.02517521195113659 - f1 0.027397919446229935 - sparse_categorical_accuracy 0.2165219783782959\n",
            "epoch 3 - batch 1230 - loss 1.9389325380325317 - precision 0.07744792848825455 - recall 0.025279134511947632 - f1 0.0275429617613554 - sparse_categorical_accuracy 0.21661041676998138\n",
            "epoch 3 training time: 1298.4307842254639 sec\n"
          ],
          "name": "stdout"
        },
        {
          "output_type": "stream",
          "text": [
            "\u001b[34m\u001b[1mwandb\u001b[0m: Visualizing heatmap.\n"
          ],
          "name": "stderr"
        },
        {
          "output_type": "stream",
          "text": [
            "epoch 3 evaluation time: 140.37124848365784 sec\n",
            "epoch evaluation:  {'epoch': 3, 'epoch_test_loss': <tf.Tensor: shape=(), dtype=float32, numpy=2.081452>, 'epoch_test_sparse_categorical_accuracy': <tf.Tensor: shape=(), dtype=float32, numpy=0.2272836>, 'epoch_test_precision': <tf.Tensor: shape=(), dtype=float32, numpy=0.07598984>, 'epoch_test_recall': <tf.Tensor: shape=(), dtype=float32, numpy=0.039557163>, 'epoch_test_f1': <tf.Tensor: shape=(), dtype=float32, numpy=0.04142519>}\n"
          ],
          "name": "stdout"
        },
        {
          "output_type": "stream",
          "text": [
            "\u001b[34m\u001b[1mwandb\u001b[0m: Visualizing heatmap.\n",
            "\u001b[34m\u001b[1mwandb\u001b[0m: Visualizing heatmap.\n",
            "\u001b[34m\u001b[1mwandb\u001b[0m: Visualizing heatmap.\n",
            "\u001b[34m\u001b[1mwandb\u001b[0m: Visualizing heatmap.\n",
            "\u001b[34m\u001b[1mwandb\u001b[0m: Visualizing heatmap.\n",
            "\u001b[34m\u001b[1mwandb\u001b[0m: Visualizing heatmap.\n",
            "\u001b[34m\u001b[1mwandb\u001b[0m: Visualizing heatmap.\n",
            "\u001b[34m\u001b[1mwandb\u001b[0m: Visualizing heatmap.\n",
            "\u001b[34m\u001b[1mwandb\u001b[0m: Visualizing heatmap.\n"
          ],
          "name": "stderr"
        },
        {
          "output_type": "stream",
          "text": [
            "epoch 3 saved checkpoint: models/checkpoints/baseline/ckpt-2\n",
            "epoch 4 - batch 10 - loss 2.1075589656829834 - precision 0.05158768221735954 - recall 0.036735761910676956 - f1 0.036524463444948196 - sparse_categorical_accuracy 0.2289341539144516\n",
            "epoch 4 - batch 20 - loss 2.2067737579345703 - precision 0.05990521237254143 - recall 0.038434818387031555 - f1 0.03917422518134117 - sparse_categorical_accuracy 0.22841796278953552\n",
            "epoch 4 - batch 30 - loss 2.025087356567383 - precision 0.06418290734291077 - recall 0.03859277814626694 - f1 0.03967532515525818 - sparse_categorical_accuracy 0.22780877351760864\n",
            "epoch 4 - batch 40 - loss 2.169969081878662 - precision 0.06779549270868301 - recall 0.03919843211770058 - f1 0.04063590243458748 - sparse_categorical_accuracy 0.2276088148355484\n",
            "epoch 4 - batch 50 - loss 2.0511343479156494 - precision 0.07076416909694672 - recall 0.03945609927177429 - f1 0.041235364973545074 - sparse_categorical_accuracy 0.22746652364730835\n",
            "epoch 4 - batch 60 - loss 1.926555871963501 - precision 0.07239409536123276 - recall 0.03923392295837402 - f1 0.04135584086179733 - sparse_categorical_accuracy 0.22790643572807312\n",
            "epoch 4 - batch 70 - loss 2.062859296798706 - precision 0.07442617416381836 - recall 0.03982643410563469 - f1 0.04202573001384735 - sparse_categorical_accuracy 0.22802934050559998\n",
            "epoch 4 - batch 80 - loss 2.0209813117980957 - precision 0.0762510895729065 - recall 0.040008366107940674 - f1 0.042273785918951035 - sparse_categorical_accuracy 0.22820521891117096\n",
            "epoch 4 - batch 90 - loss 2.1017072200775146 - precision 0.07719279080629349 - recall 0.040182068943977356 - f1 0.04254921153187752 - sparse_categorical_accuracy 0.22836992144584656\n",
            "epoch 4 - batch 100 - loss 2.0308780670166016 - precision 0.07753303647041321 - recall 0.04053770750761032 - f1 0.042938511818647385 - sparse_categorical_accuracy 0.22859932482242584\n",
            "epoch 4 - batch 110 - loss 2.029881000518799 - precision 0.07918950170278549 - recall 0.04092734679579735 - f1 0.04342244192957878 - sparse_categorical_accuracy 0.22865767776966095\n",
            "epoch 4 - batch 120 - loss 2.108292818069458 - precision 0.08027707040309906 - recall 0.041136547923088074 - f1 0.043630748987197876 - sparse_categorical_accuracy 0.22882486879825592\n",
            "epoch 4 - batch 130 - loss 2.063347339630127 - precision 0.08120831102132797 - recall 0.04129701107740402 - f1 0.04386815056204796 - sparse_categorical_accuracy 0.22896848618984222\n",
            "epoch 4 - batch 140 - loss 2.0613017082214355 - precision 0.08214645087718964 - recall 0.04139816761016846 - f1 0.044031910598278046 - sparse_categorical_accuracy 0.2290118783712387\n",
            "epoch 4 - batch 150 - loss 2.0125999450683594 - precision 0.08334136009216309 - recall 0.04161909967660904 - f1 0.044241152703762054 - sparse_categorical_accuracy 0.2290271520614624\n",
            "epoch 4 - batch 160 - loss 1.9279212951660156 - precision 0.08424868434667587 - recall 0.04166778177022934 - f1 0.04439797252416611 - sparse_categorical_accuracy 0.22896204888820648\n",
            "epoch 4 - batch 170 - loss 1.915841817855835 - precision 0.08529909700155258 - recall 0.041982125490903854 - f1 0.04478350654244423 - sparse_categorical_accuracy 0.22904740273952484\n",
            "epoch 4 - batch 180 - loss 2.009744644165039 - precision 0.08656533062458038 - recall 0.04216708242893219 - f1 0.0450621135532856 - sparse_categorical_accuracy 0.22917906939983368\n",
            "epoch 4 - batch 190 - loss 2.0710952281951904 - precision 0.08739388734102249 - recall 0.04232267290353775 - f1 0.045358818024396896 - sparse_categorical_accuracy 0.2291926145553589\n",
            "epoch 4 - batch 200 - loss 2.199233293533325 - precision 0.08848438411951065 - recall 0.042305223643779755 - f1 0.045421626418828964 - sparse_categorical_accuracy 0.2290792465209961\n",
            "epoch 4 - batch 210 - loss 2.080841541290283 - precision 0.08984436839818954 - recall 0.04257534444332123 - f1 0.04577774181962013 - sparse_categorical_accuracy 0.22917596995830536\n",
            "epoch 4 - batch 220 - loss 1.9278582334518433 - precision 0.09112465381622314 - recall 0.0425780713558197 - f1 0.04588299244642258 - sparse_categorical_accuracy 0.22928926348686218\n",
            "epoch 4 - batch 230 - loss 2.021355152130127 - precision 0.09215213358402252 - recall 0.042727597057819366 - f1 0.04607446491718292 - sparse_categorical_accuracy 0.22938421368598938\n",
            "epoch 4 - batch 240 - loss 1.9902509450912476 - precision 0.0922333374619484 - recall 0.04288531839847565 - f1 0.0463133305311203 - sparse_categorical_accuracy 0.22958053648471832\n",
            "epoch 4 - batch 250 - loss 2.0141782760620117 - precision 0.09275336563587189 - recall 0.0428975485265255 - f1 0.04634273052215576 - sparse_categorical_accuracy 0.22964732348918915\n",
            "epoch 4 - batch 260 - loss 1.957297444343567 - precision 0.0930141806602478 - recall 0.04305468499660492 - f1 0.04660281538963318 - sparse_categorical_accuracy 0.22964134812355042\n",
            "epoch 4 - batch 270 - loss 2.03605055809021 - precision 0.09391343593597412 - recall 0.04319799318909645 - f1 0.04682980105280876 - sparse_categorical_accuracy 0.22962136566638947\n",
            "epoch 4 - batch 280 - loss 2.0912604331970215 - precision 0.0940219834446907 - recall 0.04333120211958885 - f1 0.04696406424045563 - sparse_categorical_accuracy 0.2297532707452774\n",
            "epoch 4 - batch 290 - loss 2.129570722579956 - precision 0.09517326951026917 - recall 0.043487098067998886 - f1 0.047205615788698196 - sparse_categorical_accuracy 0.22982604801654816\n",
            "epoch 4 - batch 300 - loss 1.892332673072815 - precision 0.09539013355970383 - recall 0.043650802224874496 - f1 0.0474184975028038 - sparse_categorical_accuracy 0.22989490628242493\n",
            "epoch 4 - batch 310 - loss 2.09184193611145 - precision 0.09578083455562592 - recall 0.04381287097930908 - f1 0.04771247133612633 - sparse_categorical_accuracy 0.2300754189491272\n",
            "epoch 4 - batch 320 - loss 2.062727212905884 - precision 0.09641079604625702 - recall 0.04386494681239128 - f1 0.0478554330766201 - sparse_categorical_accuracy 0.2301984578371048\n",
            "epoch 4 - batch 330 - loss 1.9198802709579468 - precision 0.09737513214349747 - recall 0.044114142656326294 - f1 0.048147134482860565 - sparse_categorical_accuracy 0.23024214804172516\n",
            "epoch 4 - batch 340 - loss 2.023231267929077 - precision 0.09817377477884293 - recall 0.044128142297267914 - f1 0.04835308715701103 - sparse_categorical_accuracy 0.23037602007389069\n",
            "epoch 4 - batch 350 - loss 1.8978683948516846 - precision 0.09855785965919495 - recall 0.04420282691717148 - f1 0.04850063845515251 - sparse_categorical_accuracy 0.23042650520801544\n",
            "epoch 4 - batch 360 - loss 2.186596393585205 - precision 0.09957586973905563 - recall 0.0443350151181221 - f1 0.04871902987360954 - sparse_categorical_accuracy 0.23048347234725952\n",
            "epoch 4 - batch 370 - loss 1.982069969177246 - precision 0.09981630742549896 - recall 0.044505711644887924 - f1 0.048914507031440735 - sparse_categorical_accuracy 0.2306090146303177\n",
            "epoch 4 - batch 380 - loss 2.135005474090576 - precision 0.09970317780971527 - recall 0.04455184191465378 - f1 0.04895038902759552 - sparse_categorical_accuracy 0.23064276576042175\n",
            "epoch 4 - batch 390 - loss 1.9051313400268555 - precision 0.09989365935325623 - recall 0.04469598829746246 - f1 0.04908522590994835 - sparse_categorical_accuracy 0.23071914911270142\n",
            "epoch 4 - batch 400 - loss 2.0906968116760254 - precision 0.10060492902994156 - recall 0.04480397328734398 - f1 0.04918794706463814 - sparse_categorical_accuracy 0.2307254523038864\n",
            "epoch 4 - batch 410 - loss 2.162102460861206 - precision 0.10162511467933655 - recall 0.045003391802310944 - f1 0.0494237095117569 - sparse_categorical_accuracy 0.23076818883419037\n",
            "epoch 4 - batch 420 - loss 1.907075047492981 - precision 0.10259781777858734 - recall 0.045142967253923416 - f1 0.049614448100328445 - sparse_categorical_accuracy 0.23091119527816772\n",
            "epoch 4 - batch 430 - loss 1.906863808631897 - precision 0.10270000994205475 - recall 0.04528485983610153 - f1 0.049783241003751755 - sparse_categorical_accuracy 0.23096124827861786\n",
            "epoch 4 - batch 440 - loss 2.0072333812713623 - precision 0.10342521965503693 - recall 0.04540412873029709 - f1 0.04996294528245926 - sparse_categorical_accuracy 0.2310369312763214\n",
            "epoch 4 - batch 450 - loss 2.12603759765625 - precision 0.10437826067209244 - recall 0.04550971835851669 - f1 0.050075870007276535 - sparse_categorical_accuracy 0.2310621291399002\n",
            "epoch 4 - batch 460 - loss 1.981978416442871 - precision 0.1048964112997055 - recall 0.04571704939007759 - f1 0.050311874598264694 - sparse_categorical_accuracy 0.23116204142570496\n",
            "epoch 4 - batch 470 - loss 1.9872324466705322 - precision 0.1055845245718956 - recall 0.04581053927540779 - f1 0.05042882636189461 - sparse_categorical_accuracy 0.2312820553779602\n",
            "epoch 4 - batch 480 - loss 1.902161717414856 - precision 0.1066771000623703 - recall 0.04602755606174469 - f1 0.050679679960012436 - sparse_categorical_accuracy 0.23139183223247528\n",
            "epoch 4 - batch 490 - loss 1.9595296382904053 - precision 0.10763111710548401 - recall 0.04614622890949249 - f1 0.050850074738264084 - sparse_categorical_accuracy 0.23151534795761108\n",
            "epoch 4 - batch 500 - loss 1.9089864492416382 - precision 0.10880310088396072 - recall 0.04632493108510971 - f1 0.05107369273900986 - sparse_categorical_accuracy 0.23156306147575378\n",
            "epoch 4 - batch 510 - loss 1.8789411783218384 - precision 0.10944095253944397 - recall 0.04644389823079109 - f1 0.051251377910375595 - sparse_categorical_accuracy 0.231623113155365\n",
            "epoch 4 - batch 520 - loss 1.929322600364685 - precision 0.1101754903793335 - recall 0.046622972935438156 - f1 0.051489781588315964 - sparse_categorical_accuracy 0.23173345625400543\n",
            "epoch 4 - batch 530 - loss 1.9647748470306396 - precision 0.11128894239664078 - recall 0.046804457902908325 - f1 0.05173756554722786 - sparse_categorical_accuracy 0.23181329667568207\n",
            "epoch 4 - batch 540 - loss 2.0777506828308105 - precision 0.11161691695451736 - recall 0.046914927661418915 - f1 0.05188647285103798 - sparse_categorical_accuracy 0.2318948358297348\n",
            "epoch 4 - batch 550 - loss 2.025041341781616 - precision 0.11257625371217728 - recall 0.04700326919555664 - f1 0.05202823504805565 - sparse_categorical_accuracy 0.2320246547460556\n",
            "epoch 4 - batch 560 - loss 1.9441155195236206 - precision 0.11295580863952637 - recall 0.047099512070417404 - f1 0.05215420573949814 - sparse_categorical_accuracy 0.2320646345615387\n",
            "epoch 4 - batch 570 - loss 2.0597341060638428 - precision 0.11309418827295303 - recall 0.04721763730049133 - f1 0.052291929721832275 - sparse_categorical_accuracy 0.2321159392595291\n",
            "epoch 4 - batch 580 - loss 1.9728046655654907 - precision 0.1133774071931839 - recall 0.047400206327438354 - f1 0.05254979431629181 - sparse_categorical_accuracy 0.23215873539447784\n",
            "epoch 4 - batch 590 - loss 2.082674026489258 - precision 0.11437198519706726 - recall 0.04751794412732124 - f1 0.05272457376122475 - sparse_categorical_accuracy 0.2322114259004593\n",
            "epoch 4 - batch 600 - loss 1.8979098796844482 - precision 0.11507060378789902 - recall 0.04766206070780754 - f1 0.05290332809090614 - sparse_categorical_accuracy 0.2323112040758133\n",
            "epoch 4 - batch 610 - loss 1.9753220081329346 - precision 0.11585976928472519 - recall 0.04779554903507233 - f1 0.053101830184459686 - sparse_categorical_accuracy 0.23244017362594604\n",
            "epoch 4 - batch 620 - loss 1.9660733938217163 - precision 0.11628022789955139 - recall 0.04794500395655632 - f1 0.05330405384302139 - sparse_categorical_accuracy 0.232542484998703\n",
            "epoch 4 - batch 630 - loss 1.962367296218872 - precision 0.11657752841711044 - recall 0.04808005318045616 - f1 0.05348874628543854 - sparse_categorical_accuracy 0.23262648284435272\n",
            "epoch 4 - batch 640 - loss 2.0595130920410156 - precision 0.11742918938398361 - recall 0.04824254661798477 - f1 0.05369381234049797 - sparse_categorical_accuracy 0.23272748291492462\n",
            "epoch 4 - batch 650 - loss 1.8910348415374756 - precision 0.11769165098667145 - recall 0.04836885258555412 - f1 0.05383970960974693 - sparse_categorical_accuracy 0.23279060423374176\n",
            "epoch 4 - batch 660 - loss 1.913824200630188 - precision 0.11860396713018417 - recall 0.04853840544819832 - f1 0.05405193567276001 - sparse_categorical_accuracy 0.23292115330696106\n",
            "epoch 4 - batch 670 - loss 1.9224821329116821 - precision 0.11976861208677292 - recall 0.04876623675227165 - f1 0.05438154190778732 - sparse_categorical_accuracy 0.23301155865192413\n",
            "epoch 4 - batch 680 - loss 1.9714564085006714 - precision 0.11952144652605057 - recall 0.04891053959727287 - f1 0.0545608289539814 - sparse_categorical_accuracy 0.2330993115901947\n",
            "epoch 4 - batch 690 - loss 2.0585479736328125 - precision 0.12075772881507874 - recall 0.049070946872234344 - f1 0.05478499084711075 - sparse_categorical_accuracy 0.23318977653980255\n",
            "epoch 4 - batch 700 - loss 1.9301891326904297 - precision 0.12162666022777557 - recall 0.04917154461145401 - f1 0.054918982088565826 - sparse_categorical_accuracy 0.23322942852973938\n",
            "epoch 4 - batch 710 - loss 1.8720686435699463 - precision 0.12274931371212006 - recall 0.0493595227599144 - f1 0.05515202134847641 - sparse_categorical_accuracy 0.23329193890094757\n",
            "epoch 4 - batch 720 - loss 1.912841558456421 - precision 0.12346599996089935 - recall 0.04951130598783493 - f1 0.055349498987197876 - sparse_categorical_accuracy 0.23338216543197632\n",
            "epoch 4 - batch 730 - loss 1.9204753637313843 - precision 0.12428683787584305 - recall 0.04966557398438454 - f1 0.05556885525584221 - sparse_categorical_accuracy 0.2334618866443634\n",
            "epoch 4 - batch 740 - loss 1.889870524406433 - precision 0.1247248500585556 - recall 0.04979211464524269 - f1 0.05572006106376648 - sparse_categorical_accuracy 0.23353266716003418\n",
            "epoch 4 - batch 750 - loss 1.9044047594070435 - precision 0.1253753900527954 - recall 0.04993412643671036 - f1 0.05588991567492485 - sparse_categorical_accuracy 0.23358258605003357\n",
            "epoch 4 - batch 760 - loss 1.8405355215072632 - precision 0.12598849833011627 - recall 0.050112009048461914 - f1 0.05611046776175499 - sparse_categorical_accuracy 0.23367267847061157\n",
            "epoch 4 - batch 770 - loss 1.9210096597671509 - precision 0.12658019363880157 - recall 0.05021683871746063 - f1 0.0562598817050457 - sparse_categorical_accuracy 0.23375028371810913\n",
            "epoch 4 - batch 780 - loss 1.8758844137191772 - precision 0.12687240540981293 - recall 0.05040958896279335 - f1 0.056491490453481674 - sparse_categorical_accuracy 0.23381231725215912\n",
            "epoch 4 - batch 790 - loss 2.0158493518829346 - precision 0.12741772830486298 - recall 0.0505487322807312 - f1 0.05668887495994568 - sparse_categorical_accuracy 0.23390772938728333\n",
            "epoch 4 - batch 800 - loss 1.970717191696167 - precision 0.12783613801002502 - recall 0.050716280937194824 - f1 0.05689343437552452 - sparse_categorical_accuracy 0.23399902880191803\n",
            "epoch 4 - batch 810 - loss 1.940266489982605 - precision 0.12910328805446625 - recall 0.05089127644896507 - f1 0.05713898316025734 - sparse_categorical_accuracy 0.23406808078289032\n",
            "epoch 4 - batch 820 - loss 1.8920422792434692 - precision 0.12991096079349518 - recall 0.051080986857414246 - f1 0.05737357959151268 - sparse_categorical_accuracy 0.23417049646377563\n",
            "epoch 4 - batch 830 - loss 1.9815808534622192 - precision 0.13033457100391388 - recall 0.051218025386333466 - f1 0.05756314843893051 - sparse_categorical_accuracy 0.23424187302589417\n",
            "epoch 4 - batch 840 - loss 1.914689064025879 - precision 0.13079695403575897 - recall 0.05142376199364662 - f1 0.05783527344465256 - sparse_categorical_accuracy 0.23430325090885162\n",
            "epoch 4 - batch 850 - loss 1.934361457824707 - precision 0.1314603090286255 - recall 0.05151844397187233 - f1 0.057983845472335815 - sparse_categorical_accuracy 0.23436875641345978\n",
            "epoch 4 - batch 860 - loss 1.8245972394943237 - precision 0.13210968673229218 - recall 0.051612675189971924 - f1 0.05811363086104393 - sparse_categorical_accuracy 0.23445577919483185\n",
            "epoch 4 - batch 870 - loss 1.8728258609771729 - precision 0.13316422700881958 - recall 0.05178988724946976 - f1 0.05837046355009079 - sparse_categorical_accuracy 0.23454241454601288\n",
            "epoch 4 - batch 880 - loss 1.8970533609390259 - precision 0.13357877731323242 - recall 0.05193478986620903 - f1 0.058575719594955444 - sparse_categorical_accuracy 0.23460519313812256\n",
            "epoch 4 - batch 890 - loss 1.9065217971801758 - precision 0.1350187063217163 - recall 0.052140504121780396 - f1 0.058869294822216034 - sparse_categorical_accuracy 0.2346731424331665\n",
            "epoch 4 - batch 900 - loss 1.813445806503296 - precision 0.13629943132400513 - recall 0.05228021740913391 - f1 0.059038691222667694 - sparse_categorical_accuracy 0.23474733531475067\n",
            "epoch 4 - batch 910 - loss 1.793444037437439 - precision 0.1366802304983139 - recall 0.05239924415946007 - f1 0.05918477848172188 - sparse_categorical_accuracy 0.2348290979862213\n",
            "epoch 4 - batch 920 - loss 1.8191807270050049 - precision 0.13824501633644104 - recall 0.052614063024520874 - f1 0.059469934552907944 - sparse_categorical_accuracy 0.23494304716587067\n",
            "epoch 4 - batch 930 - loss 1.8822077512741089 - precision 0.13876627385616302 - recall 0.05275954678654671 - f1 0.059659942984580994 - sparse_categorical_accuracy 0.23500864207744598\n",
            "epoch 4 - batch 940 - loss 1.7603241205215454 - precision 0.13932710886001587 - recall 0.05285225063562393 - f1 0.05979793518781662 - sparse_categorical_accuracy 0.23508737981319427\n",
            "epoch 4 - batch 950 - loss 1.9264726638793945 - precision 0.1399751454591751 - recall 0.05304628238081932 - f1 0.06003086641430855 - sparse_categorical_accuracy 0.23518913984298706\n",
            "epoch 4 - batch 960 - loss 1.9342764616012573 - precision 0.1407914012670517 - recall 0.053202465176582336 - f1 0.06020889803767204 - sparse_categorical_accuracy 0.23526786267757416\n",
            "epoch 4 - batch 970 - loss 1.9065353870391846 - precision 0.14144356548786163 - recall 0.05331089347600937 - f1 0.060344696044921875 - sparse_categorical_accuracy 0.2353348731994629\n",
            "epoch 4 - batch 980 - loss 1.7780311107635498 - precision 0.14242437481880188 - recall 0.05349605157971382 - f1 0.06059699133038521 - sparse_categorical_accuracy 0.2354247272014618\n",
            "epoch 4 - batch 990 - loss 1.9712772369384766 - precision 0.14414076507091522 - recall 0.05369902774691582 - f1 0.060892149806022644 - sparse_categorical_accuracy 0.2355136126279831\n",
            "epoch 4 - batch 1000 - loss 1.8638867139816284 - precision 0.14452096819877625 - recall 0.053911641240119934 - f1 0.06115888059139252 - sparse_categorical_accuracy 0.23556584119796753\n",
            "epoch 4 - batch 1010 - loss 1.8264912366867065 - precision 0.14477846026420593 - recall 0.05405646190047264 - f1 0.06133609637618065 - sparse_categorical_accuracy 0.23565572500228882\n",
            "epoch 4 - batch 1020 - loss 1.8509055376052856 - precision 0.14581213891506195 - recall 0.054194074124097824 - f1 0.06149968132376671 - sparse_categorical_accuracy 0.2357317954301834\n",
            "epoch 4 - batch 1030 - loss 1.839232325553894 - precision 0.1462300568819046 - recall 0.05433857440948486 - f1 0.0616668201982975 - sparse_categorical_accuracy 0.23579609394073486\n",
            "epoch 4 - batch 1040 - loss 1.983155369758606 - precision 0.14684653282165527 - recall 0.05448620021343231 - f1 0.06185579299926758 - sparse_categorical_accuracy 0.23586559295654297\n",
            "epoch 4 - batch 1050 - loss 1.9760475158691406 - precision 0.14795458316802979 - recall 0.05463797599077225 - f1 0.06209256500005722 - sparse_categorical_accuracy 0.23593591153621674\n",
            "epoch 4 - batch 1060 - loss 1.9225947856903076 - precision 0.14891156554222107 - recall 0.054848749190568924 - f1 0.06237700209021568 - sparse_categorical_accuracy 0.2360430508852005\n",
            "epoch 4 - batch 1070 - loss 1.8579738140106201 - precision 0.1489093154668808 - recall 0.05494243651628494 - f1 0.06251207739114761 - sparse_categorical_accuracy 0.23610517382621765\n",
            "epoch 4 - batch 1080 - loss 1.8538213968276978 - precision 0.14970947802066803 - recall 0.055075280368328094 - f1 0.06268003582954407 - sparse_categorical_accuracy 0.2361852526664734\n",
            "epoch 4 - batch 1090 - loss 1.821664810180664 - precision 0.15001095831394196 - recall 0.05520404502749443 - f1 0.06285654008388519 - sparse_categorical_accuracy 0.23624365031719208\n",
            "epoch 4 - batch 1100 - loss 1.8902356624603271 - precision 0.15057408809661865 - recall 0.05535764619708061 - f1 0.06304232031106949 - sparse_categorical_accuracy 0.23631823062896729\n",
            "epoch 4 - batch 1110 - loss 1.8826911449432373 - precision 0.15183290839195251 - recall 0.0555468387901783 - f1 0.0632934421300888 - sparse_categorical_accuracy 0.23638291656970978\n",
            "epoch 4 - batch 1120 - loss 1.857728362083435 - precision 0.15251833200454712 - recall 0.055712465196847916 - f1 0.06349825114011765 - sparse_categorical_accuracy 0.2364501953125\n",
            "epoch 4 - batch 1130 - loss 1.92690908908844 - precision 0.15328848361968994 - recall 0.05587973818182945 - f1 0.06372644752264023 - sparse_categorical_accuracy 0.23651331663131714\n",
            "epoch 4 - batch 1140 - loss 1.8338137865066528 - precision 0.15416568517684937 - recall 0.056012559682130814 - f1 0.0639042928814888 - sparse_categorical_accuracy 0.23658902943134308\n",
            "epoch 4 - batch 1150 - loss 1.8741703033447266 - precision 0.1547403633594513 - recall 0.056202806532382965 - f1 0.06414803117513657 - sparse_categorical_accuracy 0.23666803538799286\n",
            "epoch 4 - batch 1160 - loss 1.8198540210723877 - precision 0.15584951639175415 - recall 0.056349627673625946 - f1 0.06435117870569229 - sparse_categorical_accuracy 0.2367500215768814\n",
            "epoch 4 - batch 1170 - loss 1.942034125328064 - precision 0.15605753660202026 - recall 0.05648224428296089 - f1 0.06450706720352173 - sparse_categorical_accuracy 0.2368260622024536\n",
            "epoch 4 - batch 1180 - loss 1.8061975240707397 - precision 0.15642386674880981 - recall 0.05662519484758377 - f1 0.06470752507448196 - sparse_categorical_accuracy 0.2368774116039276\n",
            "epoch 4 - batch 1190 - loss 1.8821382522583008 - precision 0.1570703685283661 - recall 0.056752923876047134 - f1 0.06488020718097687 - sparse_categorical_accuracy 0.23693235218524933\n",
            "epoch 4 - batch 1200 - loss 1.8567806482315063 - precision 0.15792188048362732 - recall 0.056874796748161316 - f1 0.06504892557859421 - sparse_categorical_accuracy 0.2370021790266037\n",
            "epoch 4 - batch 1210 - loss 1.8862154483795166 - precision 0.1587325781583786 - recall 0.05701437219977379 - f1 0.06522300839424133 - sparse_categorical_accuracy 0.23708100616931915\n",
            "epoch 4 - batch 1220 - loss 1.9297493696212769 - precision 0.15909940004348755 - recall 0.057141777127981186 - f1 0.06539583951234818 - sparse_categorical_accuracy 0.237165629863739\n",
            "epoch 4 - batch 1230 - loss 1.994544267654419 - precision 0.16009216010570526 - recall 0.05728032812476158 - f1 0.06559798866510391 - sparse_categorical_accuracy 0.23723889887332916\n",
            "epoch 4 training time: 1306.1883263587952 sec\n"
          ],
          "name": "stdout"
        },
        {
          "output_type": "stream",
          "text": [
            "\u001b[34m\u001b[1mwandb\u001b[0m: Visualizing heatmap.\n"
          ],
          "name": "stderr"
        },
        {
          "output_type": "stream",
          "text": [
            "epoch 4 evaluation time: 140.01807188987732 sec\n",
            "epoch evaluation:  {'epoch': 4, 'epoch_test_loss': <tf.Tensor: shape=(), dtype=float32, numpy=1.8921057>, 'epoch_test_sparse_categorical_accuracy': <tf.Tensor: shape=(), dtype=float32, numpy=0.24566978>, 'epoch_test_precision': <tf.Tensor: shape=(), dtype=float32, numpy=0.15437557>, 'epoch_test_recall': <tf.Tensor: shape=(), dtype=float32, numpy=0.07543497>, 'epoch_test_f1': <tf.Tensor: shape=(), dtype=float32, numpy=0.08310502>}\n"
          ],
          "name": "stdout"
        },
        {
          "output_type": "stream",
          "text": [
            "\u001b[34m\u001b[1mwandb\u001b[0m: Visualizing heatmap.\n",
            "\u001b[34m\u001b[1mwandb\u001b[0m: Visualizing heatmap.\n",
            "\u001b[34m\u001b[1mwandb\u001b[0m: Visualizing heatmap.\n",
            "\u001b[34m\u001b[1mwandb\u001b[0m: Visualizing heatmap.\n",
            "\u001b[34m\u001b[1mwandb\u001b[0m: Visualizing heatmap.\n",
            "\u001b[34m\u001b[1mwandb\u001b[0m: Visualizing heatmap.\n",
            "\u001b[34m\u001b[1mwandb\u001b[0m: Visualizing heatmap.\n",
            "\u001b[34m\u001b[1mwandb\u001b[0m: Visualizing heatmap.\n",
            "\u001b[34m\u001b[1mwandb\u001b[0m: Visualizing heatmap.\n"
          ],
          "name": "stderr"
        },
        {
          "output_type": "stream",
          "text": [
            "epoch 5 - batch 10 - loss 1.8723055124282837 - precision 0.0906514897942543 - recall 0.06352628767490387 - f1 0.06612280011177063 - sparse_categorical_accuracy 0.2449776828289032\n",
            "epoch 5 - batch 20 - loss 1.8030070066452026 - precision 0.10799429565668106 - recall 0.0706324353814125 - f1 0.07504495978355408 - sparse_categorical_accuracy 0.2463727742433548\n",
            "epoch 5 - batch 30 - loss 1.85234797000885 - precision 0.11856675893068314 - recall 0.07213880866765976 - f1 0.077422134578228 - sparse_categorical_accuracy 0.24573102593421936\n",
            "epoch 5 - batch 40 - loss 1.8972257375717163 - precision 0.12727123498916626 - recall 0.07387606054544449 - f1 0.08010402321815491 - sparse_categorical_accuracy 0.24656808376312256\n",
            "epoch 5 - batch 50 - loss 1.7709178924560547 - precision 0.1329701840877533 - recall 0.07518291473388672 - f1 0.08245664834976196 - sparse_categorical_accuracy 0.24657924473285675\n",
            "epoch 5 - batch 60 - loss 1.8854687213897705 - precision 0.136217400431633 - recall 0.07529208064079285 - f1 0.0830066129565239 - sparse_categorical_accuracy 0.2469308078289032\n",
            "epoch 5 - batch 70 - loss 1.9187837839126587 - precision 0.13992170989513397 - recall 0.07530176639556885 - f1 0.08335991203784943 - sparse_categorical_accuracy 0.2470344454050064\n",
            "epoch 5 - batch 80 - loss 1.8158962726593018 - precision 0.14293135702610016 - recall 0.07585085928440094 - f1 0.08421152085065842 - sparse_categorical_accuracy 0.24702148139476776\n",
            "epoch 5 - batch 90 - loss 1.9353580474853516 - precision 0.14441977441310883 - recall 0.07604803144931793 - f1 0.08455953001976013 - sparse_categorical_accuracy 0.247380331158638\n",
            "epoch 5 - batch 100 - loss 1.8533706665039062 - precision 0.1475202888250351 - recall 0.07683192938566208 - f1 0.08522484451532364 - sparse_categorical_accuracy 0.24751953780651093\n",
            "epoch 5 - batch 110 - loss 1.767530083656311 - precision 0.15038707852363586 - recall 0.07700065523386002 - f1 0.08578065037727356 - sparse_categorical_accuracy 0.2476181983947754\n",
            "epoch 5 - batch 120 - loss 1.9130362272262573 - precision 0.15248900651931763 - recall 0.07734256982803345 - f1 0.08637818694114685 - sparse_categorical_accuracy 0.24751441180706024\n",
            "epoch 5 - batch 130 - loss 1.9549806118011475 - precision 0.15452255308628082 - recall 0.07745049893856049 - f1 0.08668453991413116 - sparse_categorical_accuracy 0.24763692915439606\n",
            "epoch 5 - batch 140 - loss 1.8660714626312256 - precision 0.15590651333332062 - recall 0.07799278944730759 - f1 0.08714663982391357 - sparse_categorical_accuracy 0.24785754084587097\n",
            "epoch 5 - batch 150 - loss 1.7781651020050049 - precision 0.15642647445201874 - recall 0.07828354835510254 - f1 0.08747030049562454 - sparse_categorical_accuracy 0.24792782962322235\n",
            "epoch 5 - batch 160 - loss 1.8735740184783936 - precision 0.15826214849948883 - recall 0.07834158092737198 - f1 0.08777401596307755 - sparse_categorical_accuracy 0.24796491861343384\n",
            "epoch 5 - batch 170 - loss 1.797667145729065 - precision 0.160941943526268 - recall 0.07856255024671555 - f1 0.08825213462114334 - sparse_categorical_accuracy 0.24794019758701324\n",
            "epoch 5 - batch 180 - loss 1.8202219009399414 - precision 0.16362212598323822 - recall 0.07888393104076385 - f1 0.08885958045721054 - sparse_categorical_accuracy 0.24798332154750824\n",
            "epoch 5 - batch 190 - loss 1.9613813161849976 - precision 0.16454599797725677 - recall 0.07889337092638016 - f1 0.08908498287200928 - sparse_categorical_accuracy 0.2480248510837555\n",
            "epoch 5 - batch 200 - loss 1.958068609237671 - precision 0.1658710241317749 - recall 0.07907477766275406 - f1 0.08935561776161194 - sparse_categorical_accuracy 0.24801479279994965\n",
            "epoch 5 - batch 210 - loss 1.7856742143630981 - precision 0.16834349930286407 - recall 0.07936230301856995 - f1 0.08991020172834396 - sparse_categorical_accuracy 0.24825547635555267\n",
            "epoch 5 - batch 220 - loss 1.8250516653060913 - precision 0.1692424863576889 - recall 0.07947207242250443 - f1 0.09012684226036072 - sparse_categorical_accuracy 0.24825994670391083\n",
            "epoch 5 - batch 230 - loss 1.9347999095916748 - precision 0.17039836943149567 - recall 0.07989703118801117 - f1 0.09060586243867874 - sparse_categorical_accuracy 0.24829313158988953\n",
            "epoch 5 - batch 240 - loss 1.905090093612671 - precision 0.17153917253017426 - recall 0.08009462803602219 - f1 0.09085728973150253 - sparse_categorical_accuracy 0.24832938611507416\n",
            "epoch 5 - batch 250 - loss 1.9053009748458862 - precision 0.1716366857290268 - recall 0.08014561980962753 - f1 0.09098340570926666 - sparse_categorical_accuracy 0.2483035773038864\n",
            "epoch 5 - batch 260 - loss 1.7651127576828003 - precision 0.17198440432548523 - recall 0.0802309662103653 - f1 0.09113281220197678 - sparse_categorical_accuracy 0.2484428584575653\n",
            "epoch 5 - batch 270 - loss 1.9355676174163818 - precision 0.17346248030662537 - recall 0.08048462867736816 - f1 0.09146479517221451 - sparse_categorical_accuracy 0.24858011305332184\n",
            "epoch 5 - batch 280 - loss 1.8539860248565674 - precision 0.17501689493656158 - recall 0.08062512427568436 - f1 0.09171944111585617 - sparse_categorical_accuracy 0.24846838414669037\n",
            "epoch 5 - batch 290 - loss 1.880571722984314 - precision 0.17573590576648712 - recall 0.08069328218698502 - f1 0.0918118804693222 - sparse_categorical_accuracy 0.24854141473770142\n",
            "epoch 5 - batch 300 - loss 1.840398907661438 - precision 0.1759122759103775 - recall 0.08084165304899216 - f1 0.09194346517324448 - sparse_categorical_accuracy 0.24865514039993286\n",
            "epoch 5 - batch 310 - loss 1.9026639461517334 - precision 0.17837528884410858 - recall 0.08121468871831894 - f1 0.09254926443099976 - sparse_categorical_accuracy 0.2487219125032425\n",
            "epoch 5 - batch 320 - loss 1.847756266593933 - precision 0.17937058210372925 - recall 0.08117178082466125 - f1 0.0926826074719429 - sparse_categorical_accuracy 0.24879150092601776\n",
            "epoch 5 - batch 330 - loss 1.7862625122070312 - precision 0.18013183772563934 - recall 0.08133697509765625 - f1 0.09295843541622162 - sparse_categorical_accuracy 0.24887631833553314\n",
            "epoch 5 - batch 340 - loss 1.778033971786499 - precision 0.18144267797470093 - recall 0.08169674873352051 - f1 0.09347117692232132 - sparse_categorical_accuracy 0.24897173047065735\n",
            "epoch 5 - batch 350 - loss 1.755617380142212 - precision 0.18188923597335815 - recall 0.0818946436047554 - f1 0.09361525624990463 - sparse_categorical_accuracy 0.24903219938278198\n",
            "epoch 5 - batch 360 - loss 1.7964528799057007 - precision 0.18399889767169952 - recall 0.08206065744161606 - f1 0.09404731541872025 - sparse_categorical_accuracy 0.24916759133338928\n",
            "epoch 5 - batch 370 - loss 1.9418385028839111 - precision 0.184705451130867 - recall 0.08215638250112534 - f1 0.09419821947813034 - sparse_categorical_accuracy 0.2492029070854187\n",
            "epoch 5 - batch 380 - loss 1.8156594038009644 - precision 0.1861712634563446 - recall 0.08254334330558777 - f1 0.09471537172794342 - sparse_categorical_accuracy 0.24933697283267975\n",
            "epoch 5 - batch 390 - loss 1.8371241092681885 - precision 0.18688368797302246 - recall 0.08270996063947678 - f1 0.09486699849367142 - sparse_categorical_accuracy 0.24943338334560394\n",
            "epoch 5 - batch 400 - loss 1.776592493057251 - precision 0.18769434094429016 - recall 0.08291007578372955 - f1 0.09510740637779236 - sparse_categorical_accuracy 0.24946150183677673\n",
            "epoch 5 - batch 410 - loss 1.8359625339508057 - precision 0.18861021101474762 - recall 0.08312991261482239 - f1 0.09541638195514679 - sparse_categorical_accuracy 0.2495066076517105\n",
            "epoch 5 - batch 420 - loss 1.6669342517852783 - precision 0.19085176289081573 - recall 0.08367029577493668 - f1 0.09612832963466644 - sparse_categorical_accuracy 0.24958811700344086\n",
            "epoch 5 - batch 430 - loss 1.7941774129867554 - precision 0.19101928174495697 - recall 0.08381691575050354 - f1 0.0963301807641983 - sparse_categorical_accuracy 0.24963663518428802\n",
            "epoch 5 - batch 440 - loss 1.7968653440475464 - precision 0.19205698370933533 - recall 0.08401297777891159 - f1 0.09659051150083542 - sparse_categorical_accuracy 0.2496512234210968\n",
            "epoch 5 - batch 450 - loss 1.8259207010269165 - precision 0.19377246499061584 - recall 0.08418457955121994 - f1 0.09690690785646439 - sparse_categorical_accuracy 0.2497209757566452\n",
            "epoch 5 - batch 460 - loss 1.7553074359893799 - precision 0.1954248696565628 - recall 0.08437854796648026 - f1 0.09718479961156845 - sparse_categorical_accuracy 0.24990355968475342\n",
            "epoch 5 - batch 470 - loss 1.8018085956573486 - precision 0.19653701782226562 - recall 0.08455324918031693 - f1 0.09743237495422363 - sparse_categorical_accuracy 0.24999108910560608\n",
            "epoch 5 - batch 480 - loss 1.7264853715896606 - precision 0.1974232941865921 - recall 0.08473076671361923 - f1 0.09766159951686859 - sparse_categorical_accuracy 0.25008371472358704\n",
            "epoch 5 - batch 490 - loss 1.7547404766082764 - precision 0.19829653203487396 - recall 0.08498676121234894 - f1 0.0979987308382988 - sparse_categorical_accuracy 0.25023460388183594\n",
            "epoch 5 - batch 500 - loss 1.8215211629867554 - precision 0.20011427998542786 - recall 0.08527526259422302 - f1 0.09844531863927841 - sparse_categorical_accuracy 0.25027233362197876\n",
            "epoch 5 - batch 510 - loss 1.8161529302597046 - precision 0.20219792425632477 - recall 0.085511215031147 - f1 0.09881599992513657 - sparse_categorical_accuracy 0.25032880902290344\n",
            "epoch 5 - batch 520 - loss 1.6758897304534912 - precision 0.2029520571231842 - recall 0.08580910414457321 - f1 0.09923195838928223 - sparse_categorical_accuracy 0.2503911554813385\n",
            "epoch 5 - batch 530 - loss 1.772513747215271 - precision 0.20357409119606018 - recall 0.08603337407112122 - f1 0.09953785687685013 - sparse_categorical_accuracy 0.25048643350601196\n",
            "epoch 5 - batch 540 - loss 1.7976287603378296 - precision 0.20402127504348755 - recall 0.08620557934045792 - f1 0.09978368133306503 - sparse_categorical_accuracy 0.250566303730011\n",
            "epoch 5 - batch 550 - loss 1.822317123413086 - precision 0.20458650588989258 - recall 0.08637681603431702 - f1 0.10001082718372345 - sparse_categorical_accuracy 0.2506828308105469\n",
            "epoch 5 - batch 560 - loss 1.8707191944122314 - precision 0.2056645303964615 - recall 0.08651554584503174 - f1 0.1001894548535347 - sparse_categorical_accuracy 0.250715970993042\n",
            "epoch 5 - batch 570 - loss 1.7524417638778687 - precision 0.20563481748104095 - recall 0.08658254891633987 - f1 0.10029476135969162 - sparse_categorical_accuracy 0.2507401406764984\n",
            "epoch 5 - batch 580 - loss 1.8243905305862427 - precision 0.206344872713089 - recall 0.08671015501022339 - f1 0.10047145187854767 - sparse_categorical_accuracy 0.25074806809425354\n",
            "epoch 5 - batch 590 - loss 1.7615259885787964 - precision 0.20691131055355072 - recall 0.08686836808919907 - f1 0.10075292736291885 - sparse_categorical_accuracy 0.25083279609680176\n",
            "epoch 5 - batch 600 - loss 1.788792371749878 - precision 0.2073771059513092 - recall 0.08706008642911911 - f1 0.10099837929010391 - sparse_categorical_accuracy 0.25089332461357117\n",
            "epoch 5 - batch 610 - loss 1.807676076889038 - precision 0.20908735692501068 - recall 0.08736377209424973 - f1 0.10141529887914658 - sparse_categorical_accuracy 0.2509687840938568\n",
            "epoch 5 - batch 620 - loss 1.8025038242340088 - precision 0.2093195617198944 - recall 0.08755103498697281 - f1 0.10164850950241089 - sparse_categorical_accuracy 0.2510341703891754\n",
            "epoch 5 - batch 630 - loss 1.9053094387054443 - precision 0.2094428539276123 - recall 0.08765467256307602 - f1 0.1017959788441658 - sparse_categorical_accuracy 0.2511386573314667\n",
            "epoch 5 - batch 640 - loss 1.8343669176101685 - precision 0.2098899930715561 - recall 0.08781785517930984 - f1 0.10205385833978653 - sparse_categorical_accuracy 0.25118932127952576\n",
            "epoch 5 - batch 650 - loss 1.8222380876541138 - precision 0.21033994853496552 - recall 0.08799637854099274 - f1 0.10223729908466339 - sparse_categorical_accuracy 0.2512873411178589\n",
            "epoch 5 - batch 660 - loss 1.7272636890411377 - precision 0.21148435771465302 - recall 0.08820831030607224 - f1 0.10257221758365631 - sparse_categorical_accuracy 0.2513963580131531\n",
            "epoch 5 - batch 670 - loss 1.7596219778060913 - precision 0.21212157607078552 - recall 0.08842441439628601 - f1 0.10283280909061432 - sparse_categorical_accuracy 0.25147461891174316\n",
            "epoch 5 - batch 680 - loss 1.735617756843567 - precision 0.21283988654613495 - recall 0.08861402422189713 - f1 0.10310040414333344 - sparse_categorical_accuracy 0.2515707015991211\n",
            "epoch 5 - batch 690 - loss 1.785254716873169 - precision 0.21325267851352692 - recall 0.08874277770519257 - f1 0.1032799705862999 - sparse_categorical_accuracy 0.2516292333602905\n",
            "epoch 5 - batch 700 - loss 1.7214586734771729 - precision 0.2140594720840454 - recall 0.08888835459947586 - f1 0.10343272984027863 - sparse_categorical_accuracy 0.2516968250274658\n",
            "epoch 5 - batch 710 - loss 1.673236608505249 - precision 0.21483078598976135 - recall 0.08914287388324738 - f1 0.10378976166248322 - sparse_categorical_accuracy 0.2517739236354828\n",
            "epoch 5 - batch 720 - loss 1.7433706521987915 - precision 0.21650324761867523 - recall 0.08946014940738678 - f1 0.10423938930034637 - sparse_categorical_accuracy 0.2518666982650757\n",
            "epoch 5 - batch 730 - loss 1.8176648616790771 - precision 0.21741724014282227 - recall 0.08963033556938171 - f1 0.10444865375757217 - sparse_categorical_accuracy 0.2519451081752777\n",
            "epoch 5 - batch 740 - loss 1.790329933166504 - precision 0.21827973425388336 - recall 0.08981824666261673 - f1 0.10471885651350021 - sparse_categorical_accuracy 0.2519915699958801\n",
            "epoch 5 - batch 750 - loss 1.6481260061264038 - precision 0.2185487598180771 - recall 0.08999350666999817 - f1 0.1049358993768692 - sparse_categorical_accuracy 0.25207439064979553\n",
            "epoch 5 - batch 760 - loss 1.7380682229995728 - precision 0.21902260184288025 - recall 0.09020707756280899 - f1 0.10520558804273605 - sparse_categorical_accuracy 0.25214916467666626\n",
            "epoch 5 - batch 770 - loss 1.8015291690826416 - precision 0.22028158605098724 - recall 0.09047014266252518 - f1 0.10552655905485153 - sparse_categorical_accuracy 0.25222599506378174\n",
            "epoch 5 - batch 780 - loss 1.8350459337234497 - precision 0.22059741616249084 - recall 0.09053371846675873 - f1 0.10563313215970993 - sparse_categorical_accuracy 0.2522589862346649\n",
            "epoch 5 - batch 790 - loss 1.6419492959976196 - precision 0.22103674709796906 - recall 0.09067028760910034 - f1 0.10582134872674942 - sparse_categorical_accuracy 0.2523430287837982\n",
            "epoch 5 - batch 800 - loss 1.6624889373779297 - precision 0.22162814438343048 - recall 0.09084469825029373 - f1 0.10605886578559875 - sparse_categorical_accuracy 0.25245779752731323\n",
            "epoch 5 - batch 810 - loss 1.6913777589797974 - precision 0.22185996174812317 - recall 0.0910487174987793 - f1 0.10632188618183136 - sparse_categorical_accuracy 0.25251495838165283\n",
            "epoch 5 - batch 820 - loss 1.7714842557907104 - precision 0.22166286408901215 - recall 0.09122252464294434 - f1 0.1065315529704094 - sparse_categorical_accuracy 0.25257205963134766\n",
            "epoch 5 - batch 830 - loss 1.8473434448242188 - precision 0.22269155085086823 - recall 0.09141186624765396 - f1 0.1067340299487114 - sparse_categorical_accuracy 0.2526308298110962\n",
            "epoch 5 - batch 840 - loss 1.664868712425232 - precision 0.2246236503124237 - recall 0.09168685227632523 - f1 0.1071215569972992 - sparse_categorical_accuracy 0.2527167797088623\n",
            "epoch 5 - batch 850 - loss 1.688546061515808 - precision 0.22506408393383026 - recall 0.09185117483139038 - f1 0.10736185312271118 - sparse_categorical_accuracy 0.2527698278427124\n",
            "epoch 5 - batch 860 - loss 1.7769854068756104 - precision 0.22614052891731262 - recall 0.09197897464036942 - f1 0.10752543807029724 - sparse_categorical_accuracy 0.2527966797351837\n",
            "epoch 5 - batch 870 - loss 1.7522019147872925 - precision 0.22722963988780975 - recall 0.09220124781131744 - f1 0.10781577229499817 - sparse_categorical_accuracy 0.2528415024280548\n",
            "epoch 5 - batch 880 - loss 1.813904047012329 - precision 0.22854840755462646 - recall 0.09241285175085068 - f1 0.10809807479381561 - sparse_categorical_accuracy 0.252914160490036\n",
            "epoch 5 - batch 890 - loss 1.770928144454956 - precision 0.22918926179409027 - recall 0.09268485754728317 - f1 0.10839897394180298 - sparse_categorical_accuracy 0.25298580527305603\n",
            "epoch 5 - batch 900 - loss 1.8210073709487915 - precision 0.230163112282753 - recall 0.09287162125110626 - f1 0.10863735526800156 - sparse_categorical_accuracy 0.25304409861564636\n",
            "epoch 5 - batch 910 - loss 1.668601155281067 - precision 0.23101244866847992 - recall 0.09310466796159744 - f1 0.10889729857444763 - sparse_categorical_accuracy 0.25311610102653503\n",
            "epoch 5 - batch 920 - loss 1.8159773349761963 - precision 0.2326602041721344 - recall 0.09332327544689178 - f1 0.10921579599380493 - sparse_categorical_accuracy 0.2532138526439667\n",
            "epoch 5 - batch 930 - loss 1.7537773847579956 - precision 0.23335789144039154 - recall 0.09349235147237778 - f1 0.10941316932439804 - sparse_categorical_accuracy 0.25327321887016296\n",
            "epoch 5 - batch 940 - loss 1.7999316453933716 - precision 0.23479172587394714 - recall 0.09367156028747559 - f1 0.10967344790697098 - sparse_categorical_accuracy 0.2533455491065979\n",
            "epoch 5 - batch 950 - loss 1.8264747858047485 - precision 0.23640888929367065 - recall 0.09385335445404053 - f1 0.10993891954421997 - sparse_categorical_accuracy 0.25341635942459106\n",
            "epoch 5 - batch 960 - loss 1.8419582843780518 - precision 0.23755386471748352 - recall 0.09406115859746933 - f1 0.11021748930215836 - sparse_categorical_accuracy 0.2534734904766083\n",
            "epoch 5 - batch 970 - loss 1.6781121492385864 - precision 0.2379453331232071 - recall 0.09426011890172958 - f1 0.11047946661710739 - sparse_categorical_accuracy 0.2535291314125061\n",
            "epoch 5 - batch 980 - loss 1.6769731044769287 - precision 0.2383217066526413 - recall 0.09446562081575394 - f1 0.11074016243219376 - sparse_categorical_accuracy 0.25361329317092896\n",
            "epoch 5 - batch 990 - loss 1.6975786685943604 - precision 0.23903779685497284 - recall 0.09467168152332306 - f1 0.11100102216005325 - sparse_categorical_accuracy 0.2536756992340088\n",
            "epoch 5 - batch 1000 - loss 1.7016483545303345 - precision 0.23955292999744415 - recall 0.09484786540269852 - f1 0.11119893938302994 - sparse_categorical_accuracy 0.25373438000679016\n",
            "epoch 5 - batch 1010 - loss 1.7855478525161743 - precision 0.2405387908220291 - recall 0.09504085034132004 - f1 0.11142837256193161 - sparse_categorical_accuracy 0.2537985146045685\n",
            "epoch 5 - batch 1020 - loss 1.763769507408142 - precision 0.2415505200624466 - recall 0.09518343955278397 - f1 0.11160925030708313 - sparse_categorical_accuracy 0.2538345754146576\n",
            "epoch 5 - batch 1030 - loss 1.722131371498108 - precision 0.24262094497680664 - recall 0.0953579694032669 - f1 0.11184100061655045 - sparse_categorical_accuracy 0.2539200782775879\n",
            "epoch 5 - batch 1040 - loss 1.7151119709014893 - precision 0.24321526288986206 - recall 0.09551019221544266 - f1 0.11203119903802872 - sparse_categorical_accuracy 0.25396230816841125\n",
            "epoch 5 - batch 1050 - loss 1.7328932285308838 - precision 0.24473518133163452 - recall 0.0957464873790741 - f1 0.11232998222112656 - sparse_categorical_accuracy 0.2540340721607208\n",
            "epoch 5 - batch 1060 - loss 1.7196695804595947 - precision 0.24614836275577545 - recall 0.09589849412441254 - f1 0.11253900080919266 - sparse_categorical_accuracy 0.2541039288043976\n",
            "epoch 5 - batch 1070 - loss 1.7991831302642822 - precision 0.24705490469932556 - recall 0.0960657000541687 - f1 0.112790048122406 - sparse_categorical_accuracy 0.25417354702949524\n",
            "epoch 5 - batch 1080 - loss 1.7276068925857544 - precision 0.24845243990421295 - recall 0.09623219072818756 - f1 0.11301381886005402 - sparse_categorical_accuracy 0.25426122546195984\n",
            "epoch 5 - batch 1090 - loss 1.7640894651412964 - precision 0.24892182648181915 - recall 0.09638898074626923 - f1 0.11320562660694122 - sparse_categorical_accuracy 0.2543025016784668\n",
            "epoch 5 - batch 1100 - loss 1.6264764070510864 - precision 0.2493961900472641 - recall 0.09660448133945465 - f1 0.11347164213657379 - sparse_categorical_accuracy 0.2543772757053375\n",
            "epoch 5 - batch 1110 - loss 1.6353113651275635 - precision 0.24978385865688324 - recall 0.09674406051635742 - f1 0.11360994726419449 - sparse_categorical_accuracy 0.25442785024642944\n",
            "epoch 5 - batch 1120 - loss 1.699032187461853 - precision 0.25042062997817993 - recall 0.09693759679794312 - f1 0.11388420313596725 - sparse_categorical_accuracy 0.254480242729187\n",
            "epoch 5 - batch 1130 - loss 1.759933352470398 - precision 0.25171178579330444 - recall 0.09712845087051392 - f1 0.1141519621014595 - sparse_categorical_accuracy 0.25457268953323364\n",
            "epoch 5 - batch 1140 - loss 1.725321888923645 - precision 0.2525988221168518 - recall 0.09732367843389511 - f1 0.1144125759601593 - sparse_categorical_accuracy 0.2546427249908447\n",
            "epoch 5 - batch 1150 - loss 1.7147009372711182 - precision 0.25334107875823975 - recall 0.09741807729005814 - f1 0.1145676001906395 - sparse_categorical_accuracy 0.25469380617141724\n",
            "epoch 5 - batch 1160 - loss 1.7004541158676147 - precision 0.25440514087677 - recall 0.09759123623371124 - f1 0.11480336636304855 - sparse_categorical_accuracy 0.25475749373435974\n",
            "epoch 5 - batch 1170 - loss 1.7855170965194702 - precision 0.2555904686450958 - recall 0.09780298173427582 - f1 0.11509743332862854 - sparse_categorical_accuracy 0.2548344135284424\n",
            "epoch 5 - batch 1180 - loss 1.7734544277191162 - precision 0.2566598355770111 - recall 0.09802044183015823 - f1 0.11536514014005661 - sparse_categorical_accuracy 0.2548908591270447\n",
            "epoch 5 - batch 1190 - loss 1.641600251197815 - precision 0.25685203075408936 - recall 0.09818718582391739 - f1 0.11557748168706894 - sparse_categorical_accuracy 0.2549273669719696\n",
            "epoch 5 - batch 1200 - loss 1.7723854780197144 - precision 0.2580682635307312 - recall 0.09839023649692535 - f1 0.11586002260446548 - sparse_categorical_accuracy 0.2550106942653656\n",
            "epoch 5 - batch 1210 - loss 1.7151622772216797 - precision 0.25948819518089294 - recall 0.09852537512779236 - f1 0.1160464808344841 - sparse_categorical_accuracy 0.2550545930862427\n",
            "epoch 5 - batch 1220 - loss 1.7685834169387817 - precision 0.26052212715148926 - recall 0.09868144989013672 - f1 0.11628184467554092 - sparse_categorical_accuracy 0.25509801506996155\n",
            "epoch 5 - batch 1230 - loss 1.7152477502822876 - precision 0.26131343841552734 - recall 0.0988088846206665 - f1 0.1164667010307312 - sparse_categorical_accuracy 0.25518450140953064\n",
            "epoch 5 training time: 1348.350632429123 sec\n"
          ],
          "name": "stdout"
        },
        {
          "output_type": "stream",
          "text": [
            "\u001b[34m\u001b[1mwandb\u001b[0m: Visualizing heatmap.\n"
          ],
          "name": "stderr"
        },
        {
          "output_type": "stream",
          "text": [
            "epoch 5 evaluation time: 141.89664244651794 sec\n",
            "epoch evaluation:  {'epoch': 5, 'epoch_test_loss': <tf.Tensor: shape=(), dtype=float32, numpy=1.758591>, 'epoch_test_sparse_categorical_accuracy': <tf.Tensor: shape=(), dtype=float32, numpy=0.2611136>, 'epoch_test_precision': <tf.Tensor: shape=(), dtype=float32, numpy=0.23369753>, 'epoch_test_recall': <tf.Tensor: shape=(), dtype=float32, numpy=0.11791673>, 'epoch_test_f1': <tf.Tensor: shape=(), dtype=float32, numpy=0.13305175>}\n"
          ],
          "name": "stdout"
        },
        {
          "output_type": "stream",
          "text": [
            "\u001b[34m\u001b[1mwandb\u001b[0m: Visualizing heatmap.\n",
            "\u001b[34m\u001b[1mwandb\u001b[0m: Visualizing heatmap.\n",
            "\u001b[34m\u001b[1mwandb\u001b[0m: Visualizing heatmap.\n",
            "\u001b[34m\u001b[1mwandb\u001b[0m: Visualizing heatmap.\n",
            "\u001b[34m\u001b[1mwandb\u001b[0m: Visualizing heatmap.\n",
            "\u001b[34m\u001b[1mwandb\u001b[0m: Visualizing heatmap.\n",
            "\u001b[34m\u001b[1mwandb\u001b[0m: Visualizing heatmap.\n",
            "\u001b[34m\u001b[1mwandb\u001b[0m: Visualizing heatmap.\n",
            "\u001b[34m\u001b[1mwandb\u001b[0m: Visualizing heatmap.\n"
          ],
          "name": "stderr"
        },
        {
          "output_type": "stream",
          "text": [
            "epoch 6 - batch 10 - loss 1.765428900718689 - precision 0.12270670384168625 - recall 0.09107808768749237 - f1 0.0942160114645958 - sparse_categorical_accuracy 0.26428571343421936\n",
            "epoch 6 - batch 20 - loss 1.8377984762191772 - precision 0.15764528512954712 - recall 0.10446958988904953 - f1 0.1124848872423172 - sparse_categorical_accuracy 0.26340681314468384\n",
            "epoch 6 - batch 30 - loss 1.7201846837997437 - precision 0.17359194159507751 - recall 0.11115582287311554 - f1 0.12041964381933212 - sparse_categorical_accuracy 0.2643415033817291\n",
            "epoch 6 - batch 40 - loss 1.854308843612671 - precision 0.18448369204998016 - recall 0.11384040862321854 - f1 0.1250094175338745 - sparse_categorical_accuracy 0.26354631781578064\n",
            "epoch 6 - batch 50 - loss 1.7034119367599487 - precision 0.19722960889339447 - recall 0.11680501699447632 - f1 0.129930779337883 - sparse_categorical_accuracy 0.263683021068573\n",
            "epoch 6 - batch 60 - loss 1.7046244144439697 - precision 0.20464091002941132 - recall 0.11688737571239471 - f1 0.13125079870224 - sparse_categorical_accuracy 0.26416015625\n",
            "epoch 6 - batch 70 - loss 1.7006433010101318 - precision 0.2090478092432022 - recall 0.11632203310728073 - f1 0.1314435601234436 - sparse_categorical_accuracy 0.2640106678009033\n",
            "epoch 6 - batch 80 - loss 1.6355499029159546 - precision 0.21339523792266846 - recall 0.1169225201010704 - f1 0.13280266523361206 - sparse_categorical_accuracy 0.2639090418815613\n",
            "epoch 6 - batch 90 - loss 1.6591265201568604 - precision 0.2174178510904312 - recall 0.11856245994567871 - f1 0.13468697667121887 - sparse_categorical_accuracy 0.2640903890132904\n",
            "epoch 6 - batch 100 - loss 1.8440791368484497 - precision 0.22449658811092377 - recall 0.11976733058691025 - f1 0.1367686241865158 - sparse_categorical_accuracy 0.26408204436302185\n",
            "epoch 6 - batch 110 - loss 1.7579206228256226 - precision 0.22849328815937042 - recall 0.12033350765705109 - f1 0.13789400458335876 - sparse_categorical_accuracy 0.2639711797237396\n",
            "epoch 6 - batch 120 - loss 1.68890380859375 - precision 0.23235560953617096 - recall 0.12114208936691284 - f1 0.1389586180448532 - sparse_categorical_accuracy 0.26425549387931824\n",
            "epoch 6 - batch 130 - loss 1.7840921878814697 - precision 0.2361690253019333 - recall 0.12155384570360184 - f1 0.13963651657104492 - sparse_categorical_accuracy 0.26408395171165466\n",
            "epoch 6 - batch 140 - loss 1.7666445970535278 - precision 0.23877741396427155 - recall 0.12215325981378555 - f1 0.14039967954158783 - sparse_categorical_accuracy 0.26432955265045166\n",
            "epoch 6 - batch 150 - loss 1.7220938205718994 - precision 0.2422487586736679 - recall 0.12299582362174988 - f1 0.14140355587005615 - sparse_categorical_accuracy 0.26444941759109497\n",
            "epoch 6 - batch 160 - loss 1.6201385259628296 - precision 0.24419143795967102 - recall 0.12343142181634903 - f1 0.14215973019599915 - sparse_categorical_accuracy 0.2646031081676483\n",
            "epoch 6 - batch 170 - loss 1.5973953008651733 - precision 0.24648860096931458 - recall 0.12314829230308533 - f1 0.14222997426986694 - sparse_categorical_accuracy 0.2644284963607788\n",
            "epoch 6 - batch 180 - loss 1.6656290292739868 - precision 0.2492389678955078 - recall 0.12386350333690643 - f1 0.1433212012052536 - sparse_categorical_accuracy 0.2643539309501648\n",
            "epoch 6 - batch 190 - loss 1.8029860258102417 - precision 0.25155383348464966 - recall 0.12396401166915894 - f1 0.14364729821681976 - sparse_categorical_accuracy 0.2644443213939667\n",
            "epoch 6 - batch 200 - loss 1.8028929233551025 - precision 0.2535457909107208 - recall 0.12409812211990356 - f1 0.14420443773269653 - sparse_categorical_accuracy 0.26438894867897034\n",
            "epoch 6 - batch 210 - loss 1.70664381980896 - precision 0.25518593192100525 - recall 0.12432096153497696 - f1 0.14461170136928558 - sparse_categorical_accuracy 0.26446905732154846\n",
            "epoch 6 - batch 220 - loss 1.7301766872406006 - precision 0.2586812376976013 - recall 0.1247190311551094 - f1 0.14526502788066864 - sparse_categorical_accuracy 0.2645342946052551\n",
            "epoch 6 - batch 230 - loss 1.7318006753921509 - precision 0.26056572794914246 - recall 0.12540800869464874 - f1 0.14611229300498962 - sparse_categorical_accuracy 0.26473334431648254\n",
            "epoch 6 - batch 240 - loss 1.6500813961029053 - precision 0.2611667811870575 - recall 0.12551233172416687 - f1 0.1462632417678833 - sparse_categorical_accuracy 0.2648809552192688\n",
            "epoch 6 - batch 250 - loss 1.763952374458313 - precision 0.26224473118782043 - recall 0.12558597326278687 - f1 0.1465541124343872 - sparse_categorical_accuracy 0.26479464769363403\n",
            "epoch 6 - batch 260 - loss 1.7026541233062744 - precision 0.26346084475517273 - recall 0.12599891424179077 - f1 0.1469414234161377 - sparse_categorical_accuracy 0.264892041683197\n",
            "epoch 6 - batch 270 - loss 1.7422436475753784 - precision 0.26510414481163025 - recall 0.12592686712741852 - f1 0.14702042937278748 - sparse_categorical_accuracy 0.2648757994174957\n",
            "epoch 6 - batch 280 - loss 1.7046624422073364 - precision 0.2673512101173401 - recall 0.12613999843597412 - f1 0.14750641584396362 - sparse_categorical_accuracy 0.26502808928489685\n",
            "epoch 6 - batch 290 - loss 1.656496286392212 - precision 0.26803749799728394 - recall 0.12635935842990875 - f1 0.14776135981082916 - sparse_categorical_accuracy 0.26507946848869324\n",
            "epoch 6 - batch 300 - loss 1.7079182863235474 - precision 0.270153284072876 - recall 0.12648047506809235 - f1 0.14802449941635132 - sparse_categorical_accuracy 0.2651776373386383\n",
            "epoch 6 - batch 310 - loss 1.6092709302902222 - precision 0.27040767669677734 - recall 0.1265798658132553 - f1 0.14825338125228882 - sparse_categorical_accuracy 0.2651722729206085\n",
            "epoch 6 - batch 320 - loss 1.611285924911499 - precision 0.2717112600803375 - recall 0.12666650116443634 - f1 0.1484076976776123 - sparse_categorical_accuracy 0.26516374945640564\n",
            "epoch 6 - batch 330 - loss 1.7107902765274048 - precision 0.27273324131965637 - recall 0.12677335739135742 - f1 0.14866037666797638 - sparse_categorical_accuracy 0.2652927041053772\n",
            "epoch 6 - batch 340 - loss 1.8416672945022583 - precision 0.27436593174934387 - recall 0.12701520323753357 - f1 0.14905820786952972 - sparse_categorical_accuracy 0.2653484344482422\n",
            "epoch 6 - batch 350 - loss 1.7328693866729736 - precision 0.27553853392601013 - recall 0.12715336680412292 - f1 0.14922769367694855 - sparse_categorical_accuracy 0.26538822054862976\n",
            "epoch 6 - batch 360 - loss 1.6983779668807983 - precision 0.27741172909736633 - recall 0.12748180329799652 - f1 0.14967378973960876 - sparse_categorical_accuracy 0.26546069979667664\n",
            "epoch 6 - batch 370 - loss 1.7158622741699219 - precision 0.27913564443588257 - recall 0.12758706510066986 - f1 0.1499001830816269 - sparse_categorical_accuracy 0.26552245020866394\n",
            "epoch 6 - batch 380 - loss 1.6518274545669556 - precision 0.2791990637779236 - recall 0.12782682478427887 - f1 0.15009452402591705 - sparse_categorical_accuracy 0.26553836464881897\n",
            "epoch 6 - batch 390 - loss 1.674007534980774 - precision 0.28096556663513184 - recall 0.12809081375598907 - f1 0.1504816710948944 - sparse_categorical_accuracy 0.26563429832458496\n",
            "epoch 6 - batch 400 - loss 1.6109589338302612 - precision 0.28251829743385315 - recall 0.1283612847328186 - f1 0.15087085962295532 - sparse_categorical_accuracy 0.2656417489051819\n",
            "epoch 6 - batch 410 - loss 1.634918212890625 - precision 0.2844569683074951 - recall 0.12853366136550903 - f1 0.15119217336177826 - sparse_categorical_accuracy 0.26562023162841797\n",
            "epoch 6 - batch 420 - loss 1.7289555072784424 - precision 0.28610965609550476 - recall 0.12885311245918274 - f1 0.15160809457302094 - sparse_categorical_accuracy 0.26567748188972473\n",
            "epoch 6 - batch 430 - loss 1.7471368312835693 - precision 0.28806963562965393 - recall 0.12917757034301758 - f1 0.15202374756336212 - sparse_categorical_accuracy 0.26569506525993347\n",
            "epoch 6 - batch 440 - loss 1.6657145023345947 - precision 0.28975191712379456 - recall 0.12953899800777435 - f1 0.15250439941883087 - sparse_categorical_accuracy 0.2657150328159332\n",
            "epoch 6 - batch 450 - loss 1.650363564491272 - precision 0.29084649682044983 - recall 0.1298638880252838 - f1 0.1529523730278015 - sparse_categorical_accuracy 0.2658754885196686\n",
            "epoch 6 - batch 460 - loss 1.7469733953475952 - precision 0.29185089468955994 - recall 0.13011881709098816 - f1 0.15330909192562103 - sparse_categorical_accuracy 0.26599621772766113\n",
            "epoch 6 - batch 470 - loss 1.6462329626083374 - precision 0.2934035658836365 - recall 0.130412295460701 - f1 0.1537596881389618 - sparse_categorical_accuracy 0.26610347628593445\n",
            "epoch 6 - batch 480 - loss 1.6508119106292725 - precision 0.2938830554485321 - recall 0.13069233298301697 - f1 0.15406768023967743 - sparse_categorical_accuracy 0.2661522328853607\n",
            "epoch 6 - batch 490 - loss 1.6280733346939087 - precision 0.29489803314208984 - recall 0.1310511827468872 - f1 0.15458925068378448 - sparse_categorical_accuracy 0.2662058174610138\n",
            "epoch 6 - batch 500 - loss 1.6480038166046143 - precision 0.2956671714782715 - recall 0.13121652603149414 - f1 0.1548488587141037 - sparse_categorical_accuracy 0.2663281261920929\n",
            "epoch 6 - batch 510 - loss 1.5534613132476807 - precision 0.2957170307636261 - recall 0.13141854107379913 - f1 0.15507854521274567 - sparse_categorical_accuracy 0.2663882076740265\n",
            "epoch 6 - batch 520 - loss 1.631907343864441 - precision 0.29585909843444824 - recall 0.13155381381511688 - f1 0.15521371364593506 - sparse_categorical_accuracy 0.2664346992969513\n",
            "epoch 6 - batch 530 - loss 1.6274970769882202 - precision 0.296254426240921 - recall 0.1317906230688095 - f1 0.15549349784851074 - sparse_categorical_accuracy 0.26651206612586975\n",
            "epoch 6 - batch 540 - loss 1.5503370761871338 - precision 0.2966194450855255 - recall 0.13186532258987427 - f1 0.15560708940029144 - sparse_categorical_accuracy 0.26650649309158325\n",
            "epoch 6 - batch 550 - loss 1.7524663209915161 - precision 0.2973545789718628 - recall 0.13199859857559204 - f1 0.1557193100452423 - sparse_categorical_accuracy 0.26653358340263367\n",
            "epoch 6 - batch 560 - loss 1.6965506076812744 - precision 0.2984234690666199 - recall 0.132239431142807 - f1 0.15601690113544464 - sparse_categorical_accuracy 0.266618013381958\n",
            "epoch 6 - batch 570 - loss 1.717361569404602 - precision 0.29926466941833496 - recall 0.1325714886188507 - f1 0.15644724667072296 - sparse_categorical_accuracy 0.26664072275161743\n",
            "epoch 6 - batch 580 - loss 1.6431859731674194 - precision 0.30017220973968506 - recall 0.13264793157577515 - f1 0.15663254261016846 - sparse_categorical_accuracy 0.26664823293685913\n",
            "epoch 6 - batch 590 - loss 1.6666555404663086 - precision 0.30090513825416565 - recall 0.13272152841091156 - f1 0.15681490302085876 - sparse_categorical_accuracy 0.26669803261756897\n",
            "epoch 6 - batch 600 - loss 1.7040120363235474 - precision 0.30125582218170166 - recall 0.13293710350990295 - f1 0.15707381069660187 - sparse_categorical_accuracy 0.266752690076828\n",
            "epoch 6 - batch 610 - loss 1.6847509145736694 - precision 0.30298903584480286 - recall 0.13313154876232147 - f1 0.15736356377601624 - sparse_categorical_accuracy 0.26686182618141174\n",
            "epoch 6 - batch 620 - loss 1.707918405532837 - precision 0.30333295464515686 - recall 0.1332211047410965 - f1 0.15746846795082092 - sparse_categorical_accuracy 0.2669287323951721\n",
            "epoch 6 - batch 630 - loss 1.7699462175369263 - precision 0.3033437132835388 - recall 0.13325436413288116 - f1 0.15751132369041443 - sparse_categorical_accuracy 0.26701346039772034\n",
            "epoch 6 - batch 640 - loss 1.6573278903961182 - precision 0.3044443726539612 - recall 0.13336725533008575 - f1 0.15768881142139435 - sparse_categorical_accuracy 0.26704755425453186\n",
            "epoch 6 - batch 650 - loss 1.580876111984253 - precision 0.3052123486995697 - recall 0.13355465233325958 - f1 0.15795381367206573 - sparse_categorical_accuracy 0.26710808277130127\n",
            "epoch 6 - batch 660 - loss 1.7392323017120361 - precision 0.30611276626586914 - recall 0.13379502296447754 - f1 0.15829430520534515 - sparse_categorical_accuracy 0.26720187067985535\n",
            "epoch 6 - batch 670 - loss 1.6755695343017578 - precision 0.30664050579071045 - recall 0.1340179443359375 - f1 0.1585356742143631 - sparse_categorical_accuracy 0.267272025346756\n",
            "epoch 6 - batch 680 - loss 1.6337299346923828 - precision 0.30730101466178894 - recall 0.1341857612133026 - f1 0.15870770812034607 - sparse_categorical_accuracy 0.2673380970954895\n",
            "epoch 6 - batch 690 - loss 1.6585257053375244 - precision 0.3084072768688202 - recall 0.13445986807346344 - f1 0.15911617875099182 - sparse_categorical_accuracy 0.2673872709274292\n",
            "epoch 6 - batch 700 - loss 1.6728894710540771 - precision 0.30943265557289124 - recall 0.13468173146247864 - f1 0.15938173234462738 - sparse_categorical_accuracy 0.26742586493492126\n",
            "epoch 6 - batch 710 - loss 1.5546636581420898 - precision 0.31050175428390503 - recall 0.13502736389636993 - f1 0.15977221727371216 - sparse_categorical_accuracy 0.2674908936023712\n",
            "epoch 6 - batch 720 - loss 1.6644459962844849 - precision 0.31146708130836487 - recall 0.13529984652996063 - f1 0.16012252867221832 - sparse_categorical_accuracy 0.26758819818496704\n",
            "epoch 6 - batch 730 - loss 1.6511056423187256 - precision 0.3121773302555084 - recall 0.1355007141828537 - f1 0.16041092574596405 - sparse_categorical_accuracy 0.2676243782043457\n",
            "epoch 6 - batch 740 - loss 1.6756260395050049 - precision 0.31377193331718445 - recall 0.1357545256614685 - f1 0.16069601476192474 - sparse_categorical_accuracy 0.26769012212753296\n",
            "epoch 6 - batch 750 - loss 1.61691153049469 - precision 0.3153229355812073 - recall 0.13593100011348724 - f1 0.16094060242176056 - sparse_categorical_accuracy 0.2677302956581116\n",
            "epoch 6 - batch 760 - loss 1.6189604997634888 - precision 0.3161596357822418 - recall 0.13624709844589233 - f1 0.16133438050746918 - sparse_categorical_accuracy 0.26779693365097046\n",
            "epoch 6 - batch 770 - loss 1.556711196899414 - precision 0.31733331084251404 - recall 0.13653337955474854 - f1 0.16171149909496307 - sparse_categorical_accuracy 0.2678796052932739\n",
            "epoch 6 - batch 780 - loss 1.6006128787994385 - precision 0.31823164224624634 - recall 0.13672557473182678 - f1 0.16201508045196533 - sparse_categorical_accuracy 0.2679372727870941\n",
            "epoch 6 - batch 790 - loss 1.6460072994232178 - precision 0.3193674683570862 - recall 0.1369352489709854 - f1 0.16231028735637665 - sparse_categorical_accuracy 0.26799699664115906\n",
            "epoch 6 - batch 800 - loss 1.5421597957611084 - precision 0.3208584785461426 - recall 0.13720820844173431 - f1 0.16266995668411255 - sparse_categorical_accuracy 0.2680988311767578\n",
            "epoch 6 - batch 810 - loss 1.6008288860321045 - precision 0.32184886932373047 - recall 0.13746540248394012 - f1 0.1629672646522522 - sparse_categorical_accuracy 0.26813650131225586\n",
            "epoch 6 - batch 820 - loss 1.6175243854522705 - precision 0.32258865237236023 - recall 0.13771764934062958 - f1 0.16326415538787842 - sparse_categorical_accuracy 0.268187552690506\n",
            "epoch 6 - batch 830 - loss 1.5858100652694702 - precision 0.32278528809547424 - recall 0.13792043924331665 - f1 0.16355368494987488 - sparse_categorical_accuracy 0.26826122403144836\n",
            "epoch 6 - batch 840 - loss 1.6713210344314575 - precision 0.32336345314979553 - recall 0.13812975585460663 - f1 0.16379936039447784 - sparse_categorical_accuracy 0.2683068811893463\n",
            "epoch 6 - batch 850 - loss 1.6262662410736084 - precision 0.32380881905555725 - recall 0.13828448951244354 - f1 0.16401202976703644 - sparse_categorical_accuracy 0.26833245158195496\n",
            "epoch 6 - batch 860 - loss 1.7042919397354126 - precision 0.32483503222465515 - recall 0.13847215473651886 - f1 0.16425587236881256 - sparse_categorical_accuracy 0.26841095089912415\n",
            "epoch 6 - batch 870 - loss 1.565494418144226 - precision 0.3249739408493042 - recall 0.138634592294693 - f1 0.1644970029592514 - sparse_categorical_accuracy 0.2684119641780853\n",
            "epoch 6 - batch 880 - loss 1.6214990615844727 - precision 0.3262236416339874 - recall 0.13889442384243011 - f1 0.16481301188468933 - sparse_categorical_accuracy 0.26846781373023987\n",
            "epoch 6 - batch 890 - loss 1.6602195501327515 - precision 0.3272015154361725 - recall 0.1391909122467041 - f1 0.16514723002910614 - sparse_categorical_accuracy 0.2685161232948303\n",
            "epoch 6 - batch 900 - loss 1.4927400350570679 - precision 0.3281281888484955 - recall 0.13936039805412292 - f1 0.16539612412452698 - sparse_categorical_accuracy 0.26858630776405334\n",
            "epoch 6 - batch 910 - loss 1.700543999671936 - precision 0.32913491129875183 - recall 0.13958004117012024 - f1 0.16564148664474487 - sparse_categorical_accuracy 0.2686264216899872\n",
            "epoch 6 - batch 920 - loss 1.5785030126571655 - precision 0.32936909794807434 - recall 0.13976669311523438 - f1 0.16587910056114197 - sparse_categorical_accuracy 0.2686954140663147\n",
            "epoch 6 - batch 930 - loss 1.5616832971572876 - precision 0.3305227756500244 - recall 0.13994385302066803 - f1 0.1661444753408432 - sparse_categorical_accuracy 0.2687194049358368\n",
            "epoch 6 - batch 940 - loss 1.6356199979782104 - precision 0.33113524317741394 - recall 0.14023767411708832 - f1 0.166474848985672 - sparse_categorical_accuracy 0.26883697509765625\n",
            "epoch 6 - batch 950 - loss 1.6927244663238525 - precision 0.33215105533599854 - recall 0.1404307335615158 - f1 0.16676326096057892 - sparse_categorical_accuracy 0.26888129115104675\n",
            "epoch 6 - batch 960 - loss 1.66233229637146 - precision 0.3328206539154053 - recall 0.1406490057706833 - f1 0.16702386736869812 - sparse_categorical_accuracy 0.2689124643802643\n",
            "epoch 6 - batch 970 - loss 1.6240949630737305 - precision 0.33313119411468506 - recall 0.1409004032611847 - f1 0.16734932363033295 - sparse_categorical_accuracy 0.26898759603500366\n",
            "epoch 6 - batch 980 - loss 1.5470589399337769 - precision 0.33422330021858215 - recall 0.14111819863319397 - f1 0.16765306890010834 - sparse_categorical_accuracy 0.26907798647880554\n",
            "epoch 6 - batch 990 - loss 1.6783725023269653 - precision 0.3344915509223938 - recall 0.14127953350543976 - f1 0.16783149540424347 - sparse_categorical_accuracy 0.26910653710365295\n",
            "epoch 6 - batch 1000 - loss 1.5688788890838623 - precision 0.33498015999794006 - recall 0.14132052659988403 - f1 0.16792961955070496 - sparse_categorical_accuracy 0.2691344916820526\n",
            "epoch 6 - batch 1010 - loss 1.6991157531738281 - precision 0.33592063188552856 - recall 0.1415226012468338 - f1 0.1681884080171585 - sparse_categorical_accuracy 0.26919007301330566\n",
            "epoch 6 - batch 1020 - loss 1.6526663303375244 - precision 0.3366798162460327 - recall 0.14170502126216888 - f1 0.16839173436164856 - sparse_categorical_accuracy 0.2692273259162903\n",
            "epoch 6 - batch 1030 - loss 1.6789026260375977 - precision 0.3376469612121582 - recall 0.1419263333082199 - f1 0.16866230964660645 - sparse_categorical_accuracy 0.269309937953949\n",
            "epoch 6 - batch 1040 - loss 1.6270647048950195 - precision 0.3383595943450928 - recall 0.14215341210365295 - f1 0.16896681487560272 - sparse_categorical_accuracy 0.2693673372268677\n",
            "epoch 6 - batch 1050 - loss 1.70413339138031 - precision 0.3392581343650818 - recall 0.14233914017677307 - f1 0.16924993693828583 - sparse_categorical_accuracy 0.26941245794296265\n",
            "epoch 6 - batch 1060 - loss 1.6785469055175781 - precision 0.34037908911705017 - recall 0.14255331456661224 - f1 0.16951943933963776 - sparse_categorical_accuracy 0.26947253942489624\n",
            "epoch 6 - batch 1070 - loss 1.6222299337387085 - precision 0.3416167199611664 - recall 0.14272768795490265 - f1 0.1697809100151062 - sparse_categorical_accuracy 0.2695440351963043\n",
            "epoch 6 - batch 1080 - loss 1.6755586862564087 - precision 0.34216371178627014 - recall 0.14292281866073608 - f1 0.17004114389419556 - sparse_categorical_accuracy 0.26958394050598145\n",
            "epoch 6 - batch 1090 - loss 1.5375548601150513 - precision 0.3430754542350769 - recall 0.14309750497341156 - f1 0.17027845978736877 - sparse_categorical_accuracy 0.269653856754303\n",
            "epoch 6 - batch 1100 - loss 1.6100934743881226 - precision 0.34431344270706177 - recall 0.14334551990032196 - f1 0.17058169841766357 - sparse_categorical_accuracy 0.2697143852710724\n",
            "epoch 6 - batch 1110 - loss 1.5442365407943726 - precision 0.34480053186416626 - recall 0.14359644055366516 - f1 0.17089807987213135 - sparse_categorical_accuracy 0.26976126432418823\n",
            "epoch 6 - batch 1120 - loss 1.6815545558929443 - precision 0.34500399231910706 - recall 0.14369510114192963 - f1 0.17102980613708496 - sparse_categorical_accuracy 0.2698020339012146\n",
            "epoch 6 - batch 1130 - loss 1.6016244888305664 - precision 0.3464384078979492 - recall 0.1439448595046997 - f1 0.17137707769870758 - sparse_categorical_accuracy 0.2698823809623718\n",
            "epoch 6 - batch 1140 - loss 1.5604699850082397 - precision 0.346777081489563 - recall 0.14416275918483734 - f1 0.1716540902853012 - sparse_categorical_accuracy 0.2699696123600006\n",
            "epoch 6 - batch 1150 - loss 1.5427387952804565 - precision 0.34862351417541504 - recall 0.1443132758140564 - f1 0.17185720801353455 - sparse_categorical_accuracy 0.27001479268074036\n",
            "epoch 6 - batch 1160 - loss 1.7125946283340454 - precision 0.3489483594894409 - recall 0.14459863305091858 - f1 0.17221291363239288 - sparse_categorical_accuracy 0.27007460594177246\n",
            "epoch 6 - batch 1170 - loss 1.5818318128585815 - precision 0.3496766686439514 - recall 0.1448773741722107 - f1 0.17253254354000092 - sparse_categorical_accuracy 0.2701376974582672\n",
            "epoch 6 - batch 1180 - loss 1.671676754951477 - precision 0.3497108519077301 - recall 0.1450209766626358 - f1 0.17272397875785828 - sparse_categorical_accuracy 0.27017560601234436\n",
            "epoch 6 - batch 1190 - loss 1.6628590822219849 - precision 0.35061830282211304 - recall 0.14519494771957397 - f1 0.17295439541339874 - sparse_categorical_accuracy 0.27021825313568115\n",
            "epoch 6 - batch 1200 - loss 1.596125841140747 - precision 0.35111600160598755 - recall 0.14532385766506195 - f1 0.1731070578098297 - sparse_categorical_accuracy 0.270262748003006\n",
            "epoch 6 - batch 1210 - loss 1.467670202255249 - precision 0.35279810428619385 - recall 0.1455281376838684 - f1 0.17336814105510712 - sparse_categorical_accuracy 0.27031248807907104\n",
            "epoch 6 - batch 1220 - loss 1.5567203760147095 - precision 0.3536272644996643 - recall 0.14571070671081543 - f1 0.17363481223583221 - sparse_categorical_accuracy 0.27034589648246765\n",
            "epoch 6 - batch 1230 - loss 1.5183485746383667 - precision 0.35409262776374817 - recall 0.14588013291358948 - f1 0.17386992275714874 - sparse_categorical_accuracy 0.2704009711742401\n",
            "epoch 6 training time: 1339.0973966121674 sec\n"
          ],
          "name": "stdout"
        },
        {
          "output_type": "stream",
          "text": [
            "\u001b[34m\u001b[1mwandb\u001b[0m: Visualizing heatmap.\n"
          ],
          "name": "stderr"
        },
        {
          "output_type": "stream",
          "text": [
            "epoch 6 evaluation time: 142.88788414001465 sec\n",
            "epoch evaluation:  {'epoch': 6, 'epoch_test_loss': <tf.Tensor: shape=(), dtype=float32, numpy=1.6565787>, 'epoch_test_sparse_categorical_accuracy': <tf.Tensor: shape=(), dtype=float32, numpy=0.27440318>, 'epoch_test_precision': <tf.Tensor: shape=(), dtype=float32, numpy=0.30293065>, 'epoch_test_recall': <tf.Tensor: shape=(), dtype=float32, numpy=0.15967456>, 'epoch_test_f1': <tf.Tensor: shape=(), dtype=float32, numpy=0.18188152>}\n"
          ],
          "name": "stdout"
        },
        {
          "output_type": "stream",
          "text": [
            "\u001b[34m\u001b[1mwandb\u001b[0m: Visualizing heatmap.\n",
            "\u001b[34m\u001b[1mwandb\u001b[0m: Visualizing heatmap.\n",
            "\u001b[34m\u001b[1mwandb\u001b[0m: Visualizing heatmap.\n",
            "\u001b[34m\u001b[1mwandb\u001b[0m: Visualizing heatmap.\n",
            "\u001b[34m\u001b[1mwandb\u001b[0m: Visualizing heatmap.\n",
            "\u001b[34m\u001b[1mwandb\u001b[0m: Visualizing heatmap.\n",
            "\u001b[34m\u001b[1mwandb\u001b[0m: Visualizing heatmap.\n",
            "\u001b[34m\u001b[1mwandb\u001b[0m: Visualizing heatmap.\n",
            "\u001b[34m\u001b[1mwandb\u001b[0m: Visualizing heatmap.\n"
          ],
          "name": "stderr"
        },
        {
          "output_type": "stream",
          "text": [
            "epoch 6 saved checkpoint: models/checkpoints/baseline/ckpt-3\n",
            "epoch 7 - batch 10 - loss 1.5450986623764038 - precision 0.15190483629703522 - recall 0.11955031752586365 - f1 0.12250936031341553 - sparse_categorical_accuracy 0.27502790093421936\n",
            "epoch 7 - batch 20 - loss 1.7563154697418213 - precision 0.19824402034282684 - recall 0.1375408172607422 - f1 0.1468460112810135 - sparse_categorical_accuracy 0.2767857015132904\n",
            "epoch 7 - batch 30 - loss 1.6583950519561768 - precision 0.22345325350761414 - recall 0.14756028354167938 - f1 0.16051127016544342 - sparse_categorical_accuracy 0.2776413559913635\n",
            "epoch 7 - batch 40 - loss 1.5171457529067993 - precision 0.24320197105407715 - recall 0.1540786623954773 - f1 0.169716477394104 - sparse_categorical_accuracy 0.2781040668487549\n",
            "epoch 7 - batch 50 - loss 1.592788577079773 - precision 0.2585321366786957 - recall 0.157738596200943 - f1 0.17594601213932037 - sparse_categorical_accuracy 0.277924120426178\n",
            "epoch 7 - batch 60 - loss 1.527733564376831 - precision 0.26675882935523987 - recall 0.15873728692531586 - f1 0.17820356786251068 - sparse_categorical_accuracy 0.2778831720352173\n",
            "epoch 7 - batch 70 - loss 1.5964514017105103 - precision 0.27574285864830017 - recall 0.1607682853937149 - f1 0.1815674602985382 - sparse_categorical_accuracy 0.2779535949230194\n",
            "epoch 7 - batch 80 - loss 1.6264668703079224 - precision 0.28122633695602417 - recall 0.1617666333913803 - f1 0.1835387647151947 - sparse_categorical_accuracy 0.2777797281742096\n"
          ],
          "name": "stdout"
        },
        {
          "output_type": "error",
          "ename": "KeyboardInterrupt",
          "evalue": "ignored",
          "traceback": [
            "\u001b[0;31m---------------------------------------------------------------------------\u001b[0m",
            "\u001b[0;31mKeyboardInterrupt\u001b[0m                         Traceback (most recent call last)",
            "\u001b[0;32m<ipython-input-15-cad13d189cb3>\u001b[0m in \u001b[0;36m<module>\u001b[0;34m()\u001b[0m\n\u001b[1;32m     20\u001b[0m }\n\u001b[1;32m     21\u001b[0m \u001b[0;34m\u001b[0m\u001b[0m\n\u001b[0;32m---> 22\u001b[0;31m \u001b[0mrun\u001b[0m\u001b[0;34m(\u001b[0m\u001b[0mNamespace\u001b[0m\u001b[0;34m(\u001b[0m\u001b[0;34m**\u001b[0m\u001b[0mparams\u001b[0m\u001b[0;34m)\u001b[0m\u001b[0;34m)\u001b[0m\u001b[0;34m\u001b[0m\u001b[0;34m\u001b[0m\u001b[0m\n\u001b[0m",
            "\u001b[0;32m/content/gdrive/My Drive/src/identifier-suggestion-2020-06-25T16-12-10/src/pipelines/baseline.py\u001b[0m in \u001b[0;36mrun\u001b[0;34m(args)\u001b[0m\n\u001b[1;32m    249\u001b[0m         \u001b[0mY_test\u001b[0m\u001b[0;34m=\u001b[0m\u001b[0mnp\u001b[0m\u001b[0;34m.\u001b[0m\u001b[0mstack\u001b[0m\u001b[0;34m(\u001b[0m\u001b[0mdf_test\u001b[0m\u001b[0;34m[\u001b[0m\u001b[0;34m'outputs'\u001b[0m\u001b[0;34m]\u001b[0m\u001b[0;34m.\u001b[0m\u001b[0mvalues\u001b[0m\u001b[0;34m)\u001b[0m\u001b[0;34m,\u001b[0m\u001b[0;34m\u001b[0m\u001b[0;34m\u001b[0m\u001b[0m\n\u001b[1;32m    250\u001b[0m         \u001b[0mepochs\u001b[0m\u001b[0;34m=\u001b[0m\u001b[0margs\u001b[0m\u001b[0;34m.\u001b[0m\u001b[0mepochs\u001b[0m\u001b[0;34m,\u001b[0m\u001b[0;34m\u001b[0m\u001b[0;34m\u001b[0m\u001b[0m\n\u001b[0;32m--> 251\u001b[0;31m         \u001b[0mon_epoch_end\u001b[0m\u001b[0;34m=\u001b[0m\u001b[0mon_epoch_end\u001b[0m\u001b[0;34m,\u001b[0m\u001b[0;34m\u001b[0m\u001b[0;34m\u001b[0m\u001b[0m\n\u001b[0m\u001b[1;32m    252\u001b[0m     )\n\u001b[1;32m    253\u001b[0m \u001b[0;34m\u001b[0m\u001b[0m\n",
            "\u001b[0;32m/content/gdrive/My Drive/src/identifier-suggestion-2020-06-25T16-12-10/src/models/seq2seq/model.py\u001b[0m in \u001b[0;36mtrain\u001b[0;34m(self, X_train, Y_train, X_test, Y_test, epochs, on_epoch_end)\u001b[0m\n\u001b[1;32m    405\u001b[0m                     reference_method_name = self.convert_raw_prediction_to_text(\n\u001b[1;32m    406\u001b[0m                         \u001b[0;31m# ignore the first token which is the start of sequence marker\u001b[0m\u001b[0;34m\u001b[0m\u001b[0;34m\u001b[0m\u001b[0;34m\u001b[0m\u001b[0m\n\u001b[0;32m--> 407\u001b[0;31m                         \u001b[0mtarget_batch\u001b[0m\u001b[0;34m[\u001b[0m\u001b[0mi\u001b[0m\u001b[0;34m,\u001b[0m \u001b[0;36m1\u001b[0m\u001b[0;34m:\u001b[0m\u001b[0;34m]\u001b[0m\u001b[0;34m.\u001b[0m\u001b[0mnumpy\u001b[0m\u001b[0;34m(\u001b[0m\u001b[0;34m)\u001b[0m\u001b[0;34m,\u001b[0m\u001b[0;34m\u001b[0m\u001b[0;34m\u001b[0m\u001b[0m\n\u001b[0m\u001b[1;32m    408\u001b[0m                         \u001b[0mjoin_token\u001b[0m\u001b[0;34m=\u001b[0m\u001b[0;34m' '\u001b[0m\u001b[0;34m,\u001b[0m\u001b[0;34m\u001b[0m\u001b[0;34m\u001b[0m\u001b[0m\n\u001b[1;32m    409\u001b[0m                         \u001b[0mcamel_case\u001b[0m\u001b[0;34m=\u001b[0m\u001b[0;32mFalse\u001b[0m\u001b[0;34m,\u001b[0m\u001b[0;34m\u001b[0m\u001b[0;34m\u001b[0m\u001b[0m\n",
            "\u001b[0;32m/usr/local/lib/python3.6/dist-packages/tensorflow/python/ops/array_ops.py\u001b[0m in \u001b[0;36m_slice_helper\u001b[0;34m(tensor, slice_spec, var)\u001b[0m\n\u001b[1;32m    982\u001b[0m         \u001b[0mellipsis_mask\u001b[0m\u001b[0;34m=\u001b[0m\u001b[0mellipsis_mask\u001b[0m\u001b[0;34m,\u001b[0m\u001b[0;34m\u001b[0m\u001b[0;34m\u001b[0m\u001b[0m\n\u001b[1;32m    983\u001b[0m         \u001b[0mvar\u001b[0m\u001b[0;34m=\u001b[0m\u001b[0mvar\u001b[0m\u001b[0;34m,\u001b[0m\u001b[0;34m\u001b[0m\u001b[0;34m\u001b[0m\u001b[0m\n\u001b[0;32m--> 984\u001b[0;31m         name=name)\n\u001b[0m\u001b[1;32m    985\u001b[0m \u001b[0;34m\u001b[0m\u001b[0m\n\u001b[1;32m    986\u001b[0m \u001b[0;34m\u001b[0m\u001b[0m\n",
            "\u001b[0;32m/usr/local/lib/python3.6/dist-packages/tensorflow/python/ops/array_ops.py\u001b[0m in \u001b[0;36mstrided_slice\u001b[0;34m(input_, begin, end, strides, begin_mask, end_mask, ellipsis_mask, new_axis_mask, shrink_axis_mask, var, name)\u001b[0m\n\u001b[1;32m   1148\u001b[0m       \u001b[0mellipsis_mask\u001b[0m\u001b[0;34m=\u001b[0m\u001b[0mellipsis_mask\u001b[0m\u001b[0;34m,\u001b[0m\u001b[0;34m\u001b[0m\u001b[0;34m\u001b[0m\u001b[0m\n\u001b[1;32m   1149\u001b[0m       \u001b[0mnew_axis_mask\u001b[0m\u001b[0;34m=\u001b[0m\u001b[0mnew_axis_mask\u001b[0m\u001b[0;34m,\u001b[0m\u001b[0;34m\u001b[0m\u001b[0;34m\u001b[0m\u001b[0m\n\u001b[0;32m-> 1150\u001b[0;31m       shrink_axis_mask=shrink_axis_mask)\n\u001b[0m\u001b[1;32m   1151\u001b[0m \u001b[0;34m\u001b[0m\u001b[0m\n\u001b[1;32m   1152\u001b[0m   \u001b[0mparent_name\u001b[0m \u001b[0;34m=\u001b[0m \u001b[0mname\u001b[0m\u001b[0;34m\u001b[0m\u001b[0;34m\u001b[0m\u001b[0m\n",
            "\u001b[0;32m/usr/local/lib/python3.6/dist-packages/tensorflow/python/ops/gen_array_ops.py\u001b[0m in \u001b[0;36mstrided_slice\u001b[0;34m(input, begin, end, strides, begin_mask, end_mask, ellipsis_mask, new_axis_mask, shrink_axis_mask, name)\u001b[0m\n\u001b[1;32m  10143\u001b[0m         \u001b[0mtld\u001b[0m\u001b[0;34m.\u001b[0m\u001b[0mop_callbacks\u001b[0m\u001b[0;34m,\u001b[0m \u001b[0minput\u001b[0m\u001b[0;34m,\u001b[0m \u001b[0mbegin\u001b[0m\u001b[0;34m,\u001b[0m \u001b[0mend\u001b[0m\u001b[0;34m,\u001b[0m \u001b[0mstrides\u001b[0m\u001b[0;34m,\u001b[0m \u001b[0;34m\"begin_mask\"\u001b[0m\u001b[0;34m,\u001b[0m\u001b[0;34m\u001b[0m\u001b[0;34m\u001b[0m\u001b[0m\n\u001b[1;32m  10144\u001b[0m         \u001b[0mbegin_mask\u001b[0m\u001b[0;34m,\u001b[0m \u001b[0;34m\"end_mask\"\u001b[0m\u001b[0;34m,\u001b[0m \u001b[0mend_mask\u001b[0m\u001b[0;34m,\u001b[0m \u001b[0;34m\"ellipsis_mask\"\u001b[0m\u001b[0;34m,\u001b[0m \u001b[0mellipsis_mask\u001b[0m\u001b[0;34m,\u001b[0m\u001b[0;34m\u001b[0m\u001b[0;34m\u001b[0m\u001b[0m\n\u001b[0;32m> 10145\u001b[0;31m         \"new_axis_mask\", new_axis_mask, \"shrink_axis_mask\", shrink_axis_mask)\n\u001b[0m\u001b[1;32m  10146\u001b[0m       \u001b[0;32mreturn\u001b[0m \u001b[0m_result\u001b[0m\u001b[0;34m\u001b[0m\u001b[0;34m\u001b[0m\u001b[0m\n\u001b[1;32m  10147\u001b[0m     \u001b[0;32mexcept\u001b[0m \u001b[0m_core\u001b[0m\u001b[0;34m.\u001b[0m\u001b[0m_FallbackException\u001b[0m\u001b[0;34m:\u001b[0m\u001b[0;34m\u001b[0m\u001b[0;34m\u001b[0m\u001b[0m\n",
            "\u001b[0;31mKeyboardInterrupt\u001b[0m: "
          ]
        }
      ]
    }
  ]
}