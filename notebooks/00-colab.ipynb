{
  "nbformat": 4,
  "nbformat_minor": 0,
  "metadata": {
    "kernelspec": {
      "display_name": "Python 3",
      "language": "python",
      "name": "python3"
    },
    "language_info": {
      "codemirror_mode": {
        "name": "ipython",
        "version": 3
      },
      "file_extension": ".py",
      "mimetype": "text/x-python",
      "name": "python",
      "nbconvert_exporter": "python",
      "pygments_lexer": "ipython3",
      "version": "3.7.3"
    },
    "colab": {
      "name": "00-colab.ipynb",
      "provenance": [],
      "include_colab_link": true
    },
    "accelerator": "GPU"
  },
  "cells": [
    {
      "cell_type": "markdown",
      "metadata": {
        "id": "view-in-github",
        "colab_type": "text"
      },
      "source": [
        "<a href=\"https://colab.research.google.com/github/antonpetkoff/identifier-suggestion/blob/master/notebooks/00-colab.ipynb\" target=\"_parent\"><img src=\"https://colab.research.google.com/assets/colab-badge.svg\" alt=\"Open In Colab\"/></a>"
      ]
    },
    {
      "cell_type": "code",
      "metadata": {
        "id": "WeJd9knlVGS_",
        "colab_type": "code",
        "colab": {}
      },
      "source": [
        "# import utilities\n",
        "import os\n",
        "import shutil\n",
        "from subprocess import check_output"
      ],
      "execution_count": 0,
      "outputs": []
    },
    {
      "cell_type": "code",
      "metadata": {
        "id": "ntLDgQhocMeE",
        "colab_type": "code",
        "outputId": "5534cb62-6692-41e3-8f8e-e51060968fc4",
        "colab": {
          "base_uri": "https://localhost:8080/",
          "height": 326
        }
      },
      "source": [
        "!nvidia-smi"
      ],
      "execution_count": 2,
      "outputs": [
        {
          "output_type": "stream",
          "text": [
            "Fri Jun  5 09:38:11 2020       \n",
            "+-----------------------------------------------------------------------------+\n",
            "| NVIDIA-SMI 440.82       Driver Version: 418.67       CUDA Version: 10.1     |\n",
            "|-------------------------------+----------------------+----------------------+\n",
            "| GPU  Name        Persistence-M| Bus-Id        Disp.A | Volatile Uncorr. ECC |\n",
            "| Fan  Temp  Perf  Pwr:Usage/Cap|         Memory-Usage | GPU-Util  Compute M. |\n",
            "|===============================+======================+======================|\n",
            "|   0  Tesla T4            Off  | 00000000:00:04.0 Off |                    0 |\n",
            "| N/A   45C    P8    10W /  70W |      0MiB / 15079MiB |      0%      Default |\n",
            "+-------------------------------+----------------------+----------------------+\n",
            "                                                                               \n",
            "+-----------------------------------------------------------------------------+\n",
            "| Processes:                                                       GPU Memory |\n",
            "|  GPU       PID   Type   Process name                             Usage      |\n",
            "|=============================================================================|\n",
            "|  No running processes found                                                 |\n",
            "+-----------------------------------------------------------------------------+\n"
          ],
          "name": "stdout"
        }
      ]
    },
    {
      "cell_type": "code",
      "metadata": {
        "id": "Z_PqX9NDdEJh",
        "colab_type": "code",
        "outputId": "60ca49d5-c023-4d9b-b9aa-11f67ad7dfb7",
        "colab": {
          "base_uri": "https://localhost:8080/",
          "height": 35
        }
      },
      "source": [
        "from google.colab import drive\n",
        "drive.mount('/content/gdrive')"
      ],
      "execution_count": 3,
      "outputs": [
        {
          "output_type": "stream",
          "text": [
            "Drive already mounted at /content/gdrive; to attempt to forcibly remount, call drive.mount(\"/content/gdrive\", force_remount=True).\n"
          ],
          "name": "stdout"
        }
      ]
    },
    {
      "cell_type": "code",
      "metadata": {
        "id": "Dvcl4iohdWEi",
        "colab_type": "code",
        "outputId": "7129f298-4886-49ac-d181-b4f2a49bd6ab",
        "colab": {
          "base_uri": "https://localhost:8080/",
          "height": 54
        }
      },
      "source": [
        "%env WORKSPACE_DIR=/content/gdrive/My Drive/src\n",
        "\n",
        "# TODO: how can one read an environment variable?!?\n",
        "%cd '/content/gdrive/My Drive/src'"
      ],
      "execution_count": 4,
      "outputs": [
        {
          "output_type": "stream",
          "text": [
            "env: WORKSPACE_DIR=/content/gdrive/My Drive/src\n",
            "/content/gdrive/My Drive/src\n"
          ],
          "name": "stdout"
        }
      ]
    },
    {
      "cell_type": "code",
      "metadata": {
        "id": "vNR4ZqljgeyP",
        "colab_type": "code",
        "colab": {}
      },
      "source": [
        "timestamp = check_output(['date', '-u', \"+%Y-%m-%dT%H-%M-%S\"]).decode('utf-8').strip()\n",
        "\n",
        "os.environ['PROJECT_DIR'] = os.path.join(\n",
        "    os.environ['WORKSPACE_DIR'],\n",
        "    f'identifier-suggestion-{timestamp}',\n",
        ")"
      ],
      "execution_count": 0,
      "outputs": []
    },
    {
      "cell_type": "code",
      "metadata": {
        "id": "9PoI39h1dEJ0",
        "colab_type": "code",
        "outputId": "085ab6dd-2ed7-4fa1-d6f5-f9c15b16f938",
        "colab": {
          "base_uri": "https://localhost:8080/",
          "height": 126
        }
      },
      "source": [
        "!git clone https://github.com/antonpetkoff/identifier-suggestion.git --depth 1 \"${PROJECT_DIR}\""
      ],
      "execution_count": 6,
      "outputs": [
        {
          "output_type": "stream",
          "text": [
            "Cloning into '/content/gdrive/My Drive/src/identifier-suggestion-2020-06-05T09-38-13'...\n",
            "remote: Enumerating objects: 83, done.\u001b[K\n",
            "remote: Counting objects: 100% (83/83), done.\u001b[K\n",
            "remote: Compressing objects: 100% (76/76), done.\u001b[K\n",
            "remote: Total 83 (delta 0), reused 46 (delta 0), pack-reused 0\u001b[K\n",
            "Unpacking objects: 100% (83/83), done.\n"
          ],
          "name": "stdout"
        }
      ]
    },
    {
      "cell_type": "code",
      "metadata": {
        "id": "mki1yqMgixt1",
        "colab_type": "code",
        "colab": {}
      },
      "source": [
        "os.chdir(os.environ['PROJECT_DIR'])"
      ],
      "execution_count": 0,
      "outputs": []
    },
    {
      "cell_type": "code",
      "metadata": {
        "id": "4HjKIGx4i2dr",
        "colab_type": "code",
        "outputId": "29673f20-9c38-4894-d5cd-12bf30f0af5a",
        "colab": {
          "base_uri": "https://localhost:8080/",
          "height": 163
        }
      },
      "source": [
        "!pwd\n",
        "!ls -l"
      ],
      "execution_count": 8,
      "outputs": [
        {
          "output_type": "stream",
          "text": [
            "/content/gdrive/My Drive/src/identifier-suggestion-2020-06-05T09-38-13\n",
            "total 60\n",
            "-rw-------  1 root root 35149 Jun  5 09:38 LICENSE\n",
            "drwx------  2 root root  4096 Jun  5 09:38 notebooks\n",
            "-rw-------  1 root root  9130 Jun  5 09:38 README.md\n",
            "drwx------  2 root root  4096 Jun  5 09:38 requirements\n",
            "drwx------ 12 root root  4096 Jun  5 09:38 src\n",
            "drwx------  3 root root  4096 Jun  5 09:38 vscode-extension\n"
          ],
          "name": "stdout"
        }
      ]
    },
    {
      "cell_type": "code",
      "metadata": {
        "id": "JCr-lrn4SRhW",
        "colab_type": "code",
        "outputId": "7ec06ecb-446f-42cf-b0c3-0726978e5342",
        "colab": {
          "base_uri": "https://localhost:8080/",
          "height": 35
        }
      },
      "source": [
        "%tensorflow_version 2.x\n",
        "\n",
        "import tensorflow\n",
        "print(tensorflow.__version__)"
      ],
      "execution_count": 9,
      "outputs": [
        {
          "output_type": "stream",
          "text": [
            "2.2.0\n"
          ],
          "name": "stdout"
        }
      ]
    },
    {
      "cell_type": "code",
      "metadata": {
        "id": "4M7BkvE4dEJ-",
        "colab_type": "code",
        "outputId": "925d8d14-1f0d-463f-aa6c-55f2aaa8ecd1",
        "colab": {
          "base_uri": "https://localhost:8080/",
          "height": 583
        }
      },
      "source": [
        "# Google Colab has standard libraries like numpy, pandas, matplotlib and TF (of course) pre-installed\n",
        "!pip install -r requirements/colab.txt"
      ],
      "execution_count": 10,
      "outputs": [
        {
          "output_type": "stream",
          "text": [
            "Requirement already satisfied: javalang==0.13.0 in /usr/local/lib/python3.6/dist-packages (from -r requirements/colab.txt (line 1)) (0.13.0)\n",
            "Requirement already satisfied: python-dotenv==0.13.0 in /usr/local/lib/python3.6/dist-packages (from -r requirements/colab.txt (line 2)) (0.13.0)\n",
            "Requirement already satisfied: wandb==0.8.35 in /usr/local/lib/python3.6/dist-packages (from -r requirements/colab.txt (line 3)) (0.8.35)\n",
            "Requirement already satisfied: tables==3.6.1 in /usr/local/lib/python3.6/dist-packages (from -r requirements/colab.txt (line 4)) (3.6.1)\n",
            "Requirement already satisfied: six in /usr/local/lib/python3.6/dist-packages (from javalang==0.13.0->-r requirements/colab.txt (line 1)) (1.12.0)\n",
            "Requirement already satisfied: subprocess32>=3.5.3 in /usr/local/lib/python3.6/dist-packages (from wandb==0.8.35->-r requirements/colab.txt (line 3)) (3.5.4)\n",
            "Requirement already satisfied: docker-pycreds>=0.4.0 in /usr/local/lib/python3.6/dist-packages (from wandb==0.8.35->-r requirements/colab.txt (line 3)) (0.4.0)\n",
            "Requirement already satisfied: nvidia-ml-py3>=7.352.0 in /usr/local/lib/python3.6/dist-packages (from wandb==0.8.35->-r requirements/colab.txt (line 3)) (7.352.0)\n",
            "Requirement already satisfied: GitPython>=1.0.0 in /usr/local/lib/python3.6/dist-packages (from wandb==0.8.35->-r requirements/colab.txt (line 3)) (3.1.3)\n",
            "Requirement already satisfied: Click>=7.0 in /usr/local/lib/python3.6/dist-packages (from wandb==0.8.35->-r requirements/colab.txt (line 3)) (7.1.2)\n",
            "Requirement already satisfied: gql==0.2.0 in /usr/local/lib/python3.6/dist-packages (from wandb==0.8.35->-r requirements/colab.txt (line 3)) (0.2.0)\n",
            "Requirement already satisfied: requests>=2.0.0 in /usr/local/lib/python3.6/dist-packages (from wandb==0.8.35->-r requirements/colab.txt (line 3)) (2.23.0)\n",
            "Requirement already satisfied: shortuuid>=0.5.0 in /usr/local/lib/python3.6/dist-packages (from wandb==0.8.35->-r requirements/colab.txt (line 3)) (1.0.1)\n",
            "Requirement already satisfied: psutil>=5.0.0 in /usr/local/lib/python3.6/dist-packages (from wandb==0.8.35->-r requirements/colab.txt (line 3)) (5.4.8)\n",
            "Requirement already satisfied: watchdog>=0.8.3 in /usr/local/lib/python3.6/dist-packages (from wandb==0.8.35->-r requirements/colab.txt (line 3)) (0.10.2)\n",
            "Requirement already satisfied: configparser>=3.8.1 in /usr/local/lib/python3.6/dist-packages (from wandb==0.8.35->-r requirements/colab.txt (line 3)) (5.0.0)\n",
            "Requirement already satisfied: sentry-sdk>=0.4.0 in /usr/local/lib/python3.6/dist-packages (from wandb==0.8.35->-r requirements/colab.txt (line 3)) (0.14.4)\n",
            "Requirement already satisfied: python-dateutil>=2.6.1 in /usr/local/lib/python3.6/dist-packages (from wandb==0.8.35->-r requirements/colab.txt (line 3)) (2.8.1)\n",
            "Requirement already satisfied: PyYAML>=3.10 in /usr/local/lib/python3.6/dist-packages (from wandb==0.8.35->-r requirements/colab.txt (line 3)) (3.13)\n",
            "Requirement already satisfied: numpy>=1.9.3 in /usr/local/lib/python3.6/dist-packages (from tables==3.6.1->-r requirements/colab.txt (line 4)) (1.18.4)\n",
            "Requirement already satisfied: numexpr>=2.6.2 in /usr/local/lib/python3.6/dist-packages (from tables==3.6.1->-r requirements/colab.txt (line 4)) (2.7.1)\n",
            "Requirement already satisfied: gitdb<5,>=4.0.1 in /usr/local/lib/python3.6/dist-packages (from GitPython>=1.0.0->wandb==0.8.35->-r requirements/colab.txt (line 3)) (4.0.5)\n",
            "Requirement already satisfied: promise<3,>=2.0 in /usr/local/lib/python3.6/dist-packages (from gql==0.2.0->wandb==0.8.35->-r requirements/colab.txt (line 3)) (2.3)\n",
            "Requirement already satisfied: graphql-core<2,>=0.5.0 in /usr/local/lib/python3.6/dist-packages (from gql==0.2.0->wandb==0.8.35->-r requirements/colab.txt (line 3)) (1.1)\n",
            "Requirement already satisfied: certifi>=2017.4.17 in /usr/local/lib/python3.6/dist-packages (from requests>=2.0.0->wandb==0.8.35->-r requirements/colab.txt (line 3)) (2020.4.5.1)\n",
            "Requirement already satisfied: chardet<4,>=3.0.2 in /usr/local/lib/python3.6/dist-packages (from requests>=2.0.0->wandb==0.8.35->-r requirements/colab.txt (line 3)) (3.0.4)\n",
            "Requirement already satisfied: idna<3,>=2.5 in /usr/local/lib/python3.6/dist-packages (from requests>=2.0.0->wandb==0.8.35->-r requirements/colab.txt (line 3)) (2.9)\n",
            "Requirement already satisfied: urllib3!=1.25.0,!=1.25.1,<1.26,>=1.21.1 in /usr/local/lib/python3.6/dist-packages (from requests>=2.0.0->wandb==0.8.35->-r requirements/colab.txt (line 3)) (1.24.3)\n",
            "Requirement already satisfied: pathtools>=0.1.1 in /usr/local/lib/python3.6/dist-packages (from watchdog>=0.8.3->wandb==0.8.35->-r requirements/colab.txt (line 3)) (0.1.2)\n",
            "Requirement already satisfied: smmap<4,>=3.0.1 in /usr/local/lib/python3.6/dist-packages (from gitdb<5,>=4.0.1->GitPython>=1.0.0->wandb==0.8.35->-r requirements/colab.txt (line 3)) (3.0.4)\n"
          ],
          "name": "stdout"
        }
      ]
    },
    {
      "cell_type": "code",
      "metadata": {
        "id": "ASrqt3o4TP5E",
        "colab_type": "code",
        "outputId": "4d577854-0470-4c16-8e48-fcc957e41615",
        "colab": {
          "base_uri": "https://localhost:8080/",
          "height": 35
        }
      },
      "source": [
        "# provide secrets to the project, e.g. access to wandb\n",
        "shutil.copy(\n",
        "    os.path.join(os.environ['WORKSPACE_DIR'], 'secrets/.env'),\n",
        "    os.environ['PROJECT_DIR']\n",
        ")"
      ],
      "execution_count": 11,
      "outputs": [
        {
          "output_type": "execute_result",
          "data": {
            "text/plain": [
              "'/content/gdrive/My Drive/src/identifier-suggestion-2020-06-05T09-38-13/.env'"
            ]
          },
          "metadata": {
            "tags": []
          },
          "execution_count": 11
        }
      ]
    },
    {
      "cell_type": "code",
      "metadata": {
        "id": "VBhbZ4muuveC",
        "colab_type": "code",
        "colab": {}
      },
      "source": [
        "# monkey-patch (mock) os.symlink to be a noop, because wandb.save() uses it, but it is not supported by Google Colab Notebooks\n",
        "os.symlink = lambda *x: print('Executing mocked noop symlink with arguments', x)"
      ],
      "execution_count": 0,
      "outputs": []
    },
    {
      "cell_type": "code",
      "metadata": {
        "id": "cY3fkLJIm7ja",
        "colab_type": "code",
        "outputId": "c836070f-0016-4570-a398-2655717071cb",
        "colab": {
          "base_uri": "https://localhost:8080/",
          "height": 1000
        }
      },
      "source": [
        "from argparse import Namespace\n",
        "from src.pipelines.baseline import run\n",
        "\n",
        "params = {\n",
        "  'file_data_raw': '../data/interim/method-names-rich/elasticsearch.csv',\n",
        "  'file_checkpoint_dir': 'models/checkpoints/baseline/',\n",
        "  'dir_preprocessed_data': '../data/interim/preprocessed/',\n",
        "  'max_input_length': 200,\n",
        "  'max_output_length': 8,\n",
        "  'input_vocab_size': 20000,\n",
        "  'input_embedding_dim': 64,\n",
        "  'output_vocab_size': 6000,\n",
        "  'output_embedding_dim': 64,\n",
        "  'latent_dim': 256,\n",
        "  'learning_rate': 0.0001,\n",
        "  'epochs': 25,\n",
        "  'batch_size': 512,\n",
        "  'random_seed': 1,\n",
        "  'eval_averaging': 'macro'\n",
        "}\n",
        "\n",
        "run(Namespace(**params))"
      ],
      "execution_count": 13,
      "outputs": [
        {
          "output_type": "stream",
          "text": [
            "Initializing logger\n"
          ],
          "name": "stdout"
        },
        {
          "output_type": "display_data",
          "data": {
            "text/html": [
              "\n",
              "                Logging results to <a href=\"https://wandb.com\" target=\"_blank\">Weights & Biases</a> <a href=\"https://docs.wandb.com/integrations/jupyter.html\" target=\"_blank\">(Documentation)</a>.<br/>\n",
              "                Project page: <a href=\"https://app.wandb.ai/antonpetkoff/identifier-suggestion\" target=\"_blank\">https://app.wandb.ai/antonpetkoff/identifier-suggestion</a><br/>\n",
              "                Run page: <a href=\"https://app.wandb.ai/antonpetkoff/identifier-suggestion/runs/35e1yllx\" target=\"_blank\">https://app.wandb.ai/antonpetkoff/identifier-suggestion/runs/35e1yllx</a><br/>\n",
              "            "
            ],
            "text/plain": [
              "<IPython.core.display.HTML object>"
            ]
          },
          "metadata": {
            "tags": []
          }
        },
        {
          "output_type": "stream",
          "text": [
            "\u001b[34m\u001b[1mwandb\u001b[0m: Wandb version 0.8.36 is available!  To upgrade, please run:\n",
            "\u001b[34m\u001b[1mwandb\u001b[0m:  $ pip install wandb --upgrade\n"
          ],
          "name": "stderr"
        },
        {
          "output_type": "stream",
          "text": [
            "Experiment parameters:  Namespace(batch_size=512, dir_preprocessed_data='../data/interim/preprocessed/', epochs=25, eval_averaging='macro', file_checkpoint_dir='models/checkpoints/baseline/', file_data_raw='../data/interim/method-names-rich/elasticsearch.csv', input_embedding_dim=64, input_vocab_size=20000, latent_dim=256, learning_rate=0.0001, max_input_length=200, max_output_length=8, output_embedding_dim=64, output_vocab_size=6000, random_seed=1)\n",
            "Loading preprocessed files...\n",
            "Loaded input vocabulary.\n",
            "Loaded output vocabulary.\n",
            "Loaded preprocessed files.\n",
            "Model: \"encoder\"\n",
            "_________________________________________________________________\n",
            "Layer (type)                 Output Shape              Param #   \n",
            "=================================================================\n",
            "EncoderEmbedding (Embedding) multiple                  1280000   \n",
            "_________________________________________________________________\n",
            "EncoderLSTM (LSTM)           multiple                  328704    \n",
            "=================================================================\n",
            "Total params: 1,608,704\n",
            "Trainable params: 1,608,704\n",
            "Non-trainable params: 0\n",
            "_________________________________________________________________\n",
            "Model: \"decoder\"\n",
            "_________________________________________________________________\n",
            "Layer (type)                 Output Shape              Param #   \n",
            "=================================================================\n",
            "DecoderEmbedding (Embedding) multiple                  384000    \n",
            "_________________________________________________________________\n",
            "DecoderLSTM (LSTM)           multiple                  590848    \n",
            "_________________________________________________________________\n",
            "DenseOutput (Dense)          multiple                  1542000   \n",
            "_________________________________________________________________\n",
            "bahdanau_attention (Bahdanau multiple                  131841    \n",
            "=================================================================\n",
            "Total params: 2,648,689\n",
            "Trainable params: 2,648,689\n",
            "Non-trainable params: 0\n",
            "_________________________________________________________________\n",
            "Saving checkpoint...\n",
            "Saved checkpoint: models/checkpoints/baseline/ckpt-1\n",
            "Executing mocked noop symlink with arguments ('/content/gdrive/My Drive/src/identifier-suggestion-2020-06-05T09-38-13/models/checkpoints/baseline/config.json', './reports/wandb/run-20200605_093828-35e1yllx/config.json')\n",
            "Done saving model\n",
            "Restored from models/checkpoints/baseline/ckpt-1\n",
            "epoch 1 - batch 10 - loss 4.534414291381836 - precision 0.015572499483823776 - recall 0.0036018863320350647 - f1 0.004295407794415951 - sparse_categorical_accuracy 0.11981026828289032\n",
            "epoch 1 - batch 20 - loss 3.3754026889801025 - precision 0.015572412870824337 - recall 0.0024043882731348276 - f1 0.00295910588465631 - sparse_categorical_accuracy 0.12802734971046448\n",
            "epoch 1 - batch 30 - loss 3.0892345905303955 - precision 0.015572418458759785 - recall 0.00189590931404382 - f1 0.0023084075655788183 - sparse_categorical_accuracy 0.13094307482242584\n",
            "epoch 1 - batch 40 - loss 3.0218799114227295 - precision 0.015572397969663143 - recall 0.0014481140533462167 - f1 0.0018089039949700236 - sparse_categorical_accuracy 0.13228236138820648\n",
            "epoch 1 - batch 50 - loss 3.1524674892425537 - precision 0.015572372823953629 - recall 0.0012588700046762824 - f1 0.0015429327031597495 - sparse_categorical_accuracy 0.13299664855003357\n",
            "epoch 1 - batch 60 - loss 2.9945123195648193 - precision 0.01557233463972807 - recall 0.0009237994090653956 - f1 0.0012321623507887125 - sparse_categorical_accuracy 0.13335193693637848\n",
            "epoch 1 - batch 70 - loss 3.0370407104492188 - precision 0.015572331845760345 - recall 0.0008585305768065155 - f1 0.0011283193016424775 - sparse_categorical_accuracy 0.1337452232837677\n",
            "epoch 1 - batch 80 - loss 2.9796340465545654 - precision 0.01557233463972807 - recall 0.0007939807837828994 - f1 0.0010402621701359749 - sparse_categorical_accuracy 0.13407506048679352\n",
            "epoch 1 - batch 90 - loss 2.9162375926971436 - precision 0.01557234488427639 - recall 0.0007327544153667986 - f1 0.0009517839644104242 - sparse_categorical_accuracy 0.13437500596046448\n",
            "epoch 1 - batch 100 - loss 3.0952911376953125 - precision 0.01557234488427639 - recall 0.0006545637152157724 - f1 0.0008645788766443729 - sparse_categorical_accuracy 0.1345619410276413\n",
            "epoch 1 - batch 110 - loss 3.171226978302002 - precision 0.01557233463972807 - recall 0.0006211213185451925 - f1 0.0008120812708511949 - sparse_categorical_accuracy 0.1346641629934311\n",
            "epoch 1 training time: 43.51961874961853 sec\n"
          ],
          "name": "stdout"
        },
        {
          "output_type": "stream",
          "text": [
            "\u001b[34m\u001b[1mwandb\u001b[0m: Visualizing heatmap.\n"
          ],
          "name": "stderr"
        },
        {
          "output_type": "stream",
          "text": [
            "epoch 1 evaluation time: 5.438562393188477 sec\n",
            "epoch evaluation:  {'epoch': 1, 'epoch_test_loss': <tf.Tensor: shape=(), dtype=float32, numpy=3.0431302>, 'epoch_test_sparse_categorical_accuracy': <tf.Tensor: shape=(), dtype=float32, numpy=0.13613209>, 'epoch_test_precision': <tf.Tensor: shape=(), dtype=float32, numpy=2.2688682e-05>, 'epoch_test_recall': <tf.Tensor: shape=(), dtype=float32, numpy=0.00016666666>, 'epoch_test_f1': <tf.Tensor: shape=(), dtype=float32, numpy=3.994022e-05>}\n"
          ],
          "name": "stdout"
        },
        {
          "output_type": "stream",
          "text": [
            "\u001b[34m\u001b[1mwandb\u001b[0m: Visualizing heatmap.\n",
            "\u001b[34m\u001b[1mwandb\u001b[0m: Visualizing heatmap.\n",
            "\u001b[34m\u001b[1mwandb\u001b[0m: Visualizing heatmap.\n",
            "\u001b[34m\u001b[1mwandb\u001b[0m: Visualizing heatmap.\n",
            "\u001b[34m\u001b[1mwandb\u001b[0m: Visualizing heatmap.\n",
            "\u001b[34m\u001b[1mwandb\u001b[0m: Visualizing heatmap.\n",
            "\u001b[34m\u001b[1mwandb\u001b[0m: Visualizing heatmap.\n",
            "\u001b[34m\u001b[1mwandb\u001b[0m: Visualizing heatmap.\n",
            "\u001b[34m\u001b[1mwandb\u001b[0m: Visualizing heatmap.\n"
          ],
          "name": "stderr"
        },
        {
          "output_type": "stream",
          "text": [
            "epoch 2 - batch 10 - loss 3.1390929222106934 - precision 2.269810102006886e-05 - recall 0.00016666666488163173 - f1 3.995481529273093e-05 - sparse_categorical_accuracy 0.13618861138820648\n",
            "epoch 2 - batch 20 - loss 3.074592351913452 - precision 2.266555020469241e-05 - recall 0.00016666666488163173 - f1 3.99043747165706e-05 - sparse_categorical_accuracy 0.13599330186843872\n",
            "epoch 2 - batch 30 - loss 3.1205291748046875 - precision 2.26795000344282e-05 - recall 0.00016666666488163173 - f1 3.992599158664234e-05 - sparse_categorical_accuracy 0.13607700169086456\n",
            "epoch 2 - batch 40 - loss 2.9892373085021973 - precision 2.2685313524561934e-05 - recall 0.00016666666488163173 - f1 3.99349992221687e-05 - sparse_categorical_accuracy 0.13611188530921936\n",
            "epoch 2 - batch 50 - loss 3.0404858589172363 - precision 2.2667411030852236e-05 - recall 0.00016666666488163173 - f1 3.990725599578582e-05 - sparse_categorical_accuracy 0.1360044628381729\n",
            "epoch 2 - batch 60 - loss 3.173475980758667 - precision 2.264694921905175e-05 - recall 0.00016666666488163173 - f1 3.98755437345244e-05 - sparse_categorical_accuracy 0.1358816921710968\n",
            "epoch 2 - batch 70 - loss 2.8861517906188965 - precision 2.265624971187208e-05 - recall 0.00016666666488163173 - f1 3.9889957406558096e-05 - sparse_categorical_accuracy 0.13593749701976776\n",
            "epoch 2 - batch 80 - loss 2.9278197288513184 - precision 2.2669621102977544e-05 - recall 0.00016666666488163173 - f1 3.99106829718221e-05 - sparse_categorical_accuracy 0.13601772487163544\n",
            "epoch 2 - batch 90 - loss 2.985281467437744 - precision 2.2671751139569096e-05 - recall 0.00016666666488163173 - f1 3.991398261860013e-05 - sparse_categorical_accuracy 0.13603051006793976\n",
            "epoch 2 - batch 100 - loss 2.98183274269104 - precision 5.853277616552077e-05 - recall 0.00017617931007407606 - f1 5.526658787857741e-05 - sparse_categorical_accuracy 0.137985497713089\n",
            "epoch 2 - batch 110 - loss 2.901756763458252 - precision 6.001817018841393e-05 - recall 0.00019049874390475452 - f1 6.963228224776685e-05 - sparse_categorical_accuracy 0.14074420928955078\n",
            "epoch 2 training time: 41.452237367630005 sec\n"
          ],
          "name": "stdout"
        },
        {
          "output_type": "stream",
          "text": [
            "\u001b[34m\u001b[1mwandb\u001b[0m: Visualizing heatmap.\n"
          ],
          "name": "stderr"
        },
        {
          "output_type": "stream",
          "text": [
            "epoch 2 evaluation time: 5.475856065750122 sec\n",
            "epoch evaluation:  {'epoch': 2, 'epoch_test_loss': <tf.Tensor: shape=(), dtype=float32, numpy=2.8364644>, 'epoch_test_sparse_categorical_accuracy': <tf.Tensor: shape=(), dtype=float32, numpy=0.1675538>, 'epoch_test_precision': <tf.Tensor: shape=(), dtype=float32, numpy=6.2175124e-05>, 'epoch_test_recall': <tf.Tensor: shape=(), dtype=float32, numpy=0.00033333333>, 'epoch_test_f1': <tf.Tensor: shape=(), dtype=float32, numpy=0.00010451345>}\n"
          ],
          "name": "stdout"
        },
        {
          "output_type": "stream",
          "text": [
            "\u001b[34m\u001b[1mwandb\u001b[0m: Visualizing heatmap.\n",
            "\u001b[34m\u001b[1mwandb\u001b[0m: Visualizing heatmap.\n",
            "\u001b[34m\u001b[1mwandb\u001b[0m: Visualizing heatmap.\n",
            "\u001b[34m\u001b[1mwandb\u001b[0m: Visualizing heatmap.\n",
            "\u001b[34m\u001b[1mwandb\u001b[0m: Visualizing heatmap.\n",
            "\u001b[34m\u001b[1mwandb\u001b[0m: Visualizing heatmap.\n",
            "\u001b[34m\u001b[1mwandb\u001b[0m: Visualizing heatmap.\n",
            "\u001b[34m\u001b[1mwandb\u001b[0m: Visualizing heatmap.\n",
            "\u001b[34m\u001b[1mwandb\u001b[0m: Visualizing heatmap.\n"
          ],
          "name": "stderr"
        },
        {
          "output_type": "stream",
          "text": [
            "epoch 3 - batch 10 - loss 2.7724556922912598 - precision 6.166897946968675e-05 - recall 0.00033333332976326346 - f1 0.00010383214248577133 - sparse_categorical_accuracy 0.16738280653953552\n",
            "epoch 3 - batch 20 - loss 2.714120388031006 - precision 6.21028448222205e-05 - recall 0.00033333332976326346 - f1 0.00010441749327583238 - sparse_categorical_accuracy 0.16757813096046448\n",
            "epoch 3 - batch 30 - loss 2.7979602813720703 - precision 6.224850949365646e-05 - recall 0.00033333332976326346 - f1 0.0001046123870764859 - sparse_categorical_accuracy 0.1675967276096344\n",
            "epoch 3 - batch 40 - loss 2.770953416824341 - precision 6.258196663111448e-05 - recall 0.00033333332976326346 - f1 0.00010506447142688558 - sparse_categorical_accuracy 0.1678989976644516\n",
            "epoch 3 - batch 50 - loss 2.828463315963745 - precision 6.245843542274088e-05 - recall 0.00033333332976326346 - f1 0.00010489664418855682 - sparse_categorical_accuracy 0.16776227951049805\n",
            "epoch 3 - batch 60 - loss 2.75195050239563 - precision 6.260999361984432e-05 - recall 0.00033333332976326346 - f1 0.00010510095307836309 - sparse_categorical_accuracy 0.167875736951828\n",
            "epoch 3 - batch 70 - loss 2.608267068862915 - precision 0.0002821302623488009 - recall 0.00033562714816071093 - f1 0.00010990430018864572 - sparse_categorical_accuracy 0.16784518957138062\n",
            "epoch 3 - batch 80 - loss 2.6643505096435547 - precision 0.00028197045321576297 - recall 0.0003353221109136939 - f1 0.00010910230776062235 - sparse_categorical_accuracy 0.16778738796710968\n",
            "epoch 3 - batch 90 - loss 2.6168274879455566 - precision 0.00044677278492599726 - recall 0.0003513632109388709 - f1 0.00013856620353180915 - sparse_categorical_accuracy 0.16838108003139496\n",
            "epoch 3 - batch 100 - loss 2.716047525405884 - precision 0.00043394119711592793 - recall 0.00036389415618032217 - f1 0.00015758279187139124 - sparse_categorical_accuracy 0.16892020404338837\n",
            "epoch 3 - batch 110 - loss 2.6115775108337402 - precision 0.00043462158646434546 - recall 0.0003748307644855231 - f1 0.00017219726578332484 - sparse_categorical_accuracy 0.16926999390125275\n",
            "epoch 3 training time: 41.63319110870361 sec\n"
          ],
          "name": "stdout"
        },
        {
          "output_type": "stream",
          "text": [
            "\u001b[34m\u001b[1mwandb\u001b[0m: Visualizing heatmap.\n"
          ],
          "name": "stderr"
        },
        {
          "output_type": "stream",
          "text": [
            "epoch 3 evaluation time: 5.4835100173950195 sec\n",
            "epoch evaluation:  {'epoch': 3, 'epoch_test_loss': <tf.Tensor: shape=(), dtype=float32, numpy=2.6270823>, 'epoch_test_sparse_categorical_accuracy': <tf.Tensor: shape=(), dtype=float32, numpy=0.17206101>, 'epoch_test_precision': <tf.Tensor: shape=(), dtype=float32, numpy=0.00016895219>, 'epoch_test_recall': <tf.Tensor: shape=(), dtype=float32, numpy=0.0005>, 'epoch_test_f1': <tf.Tensor: shape=(), dtype=float32, numpy=0.00023541244>}\n"
          ],
          "name": "stdout"
        },
        {
          "output_type": "stream",
          "text": [
            "\u001b[34m\u001b[1mwandb\u001b[0m: Visualizing heatmap.\n",
            "\u001b[34m\u001b[1mwandb\u001b[0m: Visualizing heatmap.\n",
            "\u001b[34m\u001b[1mwandb\u001b[0m: Visualizing heatmap.\n",
            "\u001b[34m\u001b[1mwandb\u001b[0m: Visualizing heatmap.\n",
            "\u001b[34m\u001b[1mwandb\u001b[0m: Visualizing heatmap.\n",
            "\u001b[34m\u001b[1mwandb\u001b[0m: Visualizing heatmap.\n",
            "\u001b[34m\u001b[1mwandb\u001b[0m: Visualizing heatmap.\n",
            "\u001b[34m\u001b[1mwandb\u001b[0m: Visualizing heatmap.\n",
            "\u001b[34m\u001b[1mwandb\u001b[0m: Visualizing heatmap.\n"
          ],
          "name": "stderr"
        },
        {
          "output_type": "stream",
          "text": [
            "epoch 3 saved checkpoint: models/checkpoints/baseline/ckpt-2\n",
            "epoch 4 - batch 10 - loss 2.7563345432281494 - precision 0.00017316130106337368 - recall 0.0005000000237487257 - f1 0.0002387122658547014 - sparse_categorical_accuracy 0.17240513861179352\n",
            "epoch 4 - batch 20 - loss 2.583984136581421 - precision 0.00017184052558150142 - recall 0.0005000000237487257 - f1 0.00023725100618321449 - sparse_categorical_accuracy 0.17195869982242584\n",
            "epoch 4 - batch 30 - loss 2.6349539756774902 - precision 0.00017745193326845765 - recall 0.0005052410997450352 - f1 0.00024338551156688482 - sparse_categorical_accuracy 0.17250743508338928\n",
            "epoch 4 - batch 40 - loss 2.6575706005096436 - precision 0.00017915056378114969 - recall 0.0005259434110485017 - f1 0.0002480962430126965 - sparse_categorical_accuracy 0.17294922471046448\n",
            "epoch 4 - batch 50 - loss 2.657611846923828 - precision 0.0001809586538001895 - recall 0.0005527989706024528 - f1 0.00025109347188845277 - sparse_categorical_accuracy 0.17292968928813934\n",
            "epoch 4 - batch 60 - loss 2.6022891998291016 - precision 0.000513975159265101 - recall 0.0005762531072832644 - f1 0.00025945703964680433 - sparse_categorical_accuracy 0.17315848171710968\n",
            "epoch 4 - batch 70 - loss 2.4403011798858643 - precision 0.001181298983283341 - recall 0.0005964229349046946 - f1 0.0002733124129008502 - sparse_categorical_accuracy 0.17334581911563873\n",
            "epoch 4 - batch 80 - loss 2.607102155685425 - precision 0.0013201060937717557 - recall 0.000608471455052495 - f1 0.00027579881134442985 - sparse_categorical_accuracy 0.1732875257730484\n",
            "epoch 4 - batch 90 - loss 2.564393997192383 - precision 0.0013800016604363918 - recall 0.0006471353699453175 - f1 0.00032384973019361496 - sparse_categorical_accuracy 0.17375682294368744\n",
            "epoch 4 - batch 100 - loss 2.566091775894165 - precision 0.0013580401428043842 - recall 0.0006733775371685624 - f1 0.00034664454869925976 - sparse_categorical_accuracy 0.17404575645923615\n",
            "epoch 4 - batch 110 - loss 2.5745036602020264 - precision 0.0014305763179436326 - recall 0.0006870350916869938 - f1 0.00035448037669993937 - sparse_categorical_accuracy 0.17393720149993896\n",
            "epoch 4 training time: 42.21177339553833 sec\n"
          ],
          "name": "stdout"
        },
        {
          "output_type": "stream",
          "text": [
            "\u001b[34m\u001b[1mwandb\u001b[0m: Visualizing heatmap.\n"
          ],
          "name": "stderr"
        },
        {
          "output_type": "stream",
          "text": [
            "epoch 4 evaluation time: 5.566169023513794 sec\n",
            "epoch evaluation:  {'epoch': 4, 'epoch_test_loss': <tf.Tensor: shape=(), dtype=float32, numpy=2.560841>, 'epoch_test_sparse_categorical_accuracy': <tf.Tensor: shape=(), dtype=float32, numpy=0.17846411>, 'epoch_test_precision': <tf.Tensor: shape=(), dtype=float32, numpy=0.00058165414>, 'epoch_test_recall': <tf.Tensor: shape=(), dtype=float32, numpy=0.0010064937>, 'epoch_test_f1': <tf.Tensor: shape=(), dtype=float32, numpy=0.00050468725>}\n"
          ],
          "name": "stdout"
        },
        {
          "output_type": "stream",
          "text": [
            "\u001b[34m\u001b[1mwandb\u001b[0m: Visualizing heatmap.\n",
            "\u001b[34m\u001b[1mwandb\u001b[0m: Visualizing heatmap.\n",
            "\u001b[34m\u001b[1mwandb\u001b[0m: Visualizing heatmap.\n",
            "\u001b[34m\u001b[1mwandb\u001b[0m: Visualizing heatmap.\n",
            "\u001b[34m\u001b[1mwandb\u001b[0m: Visualizing heatmap.\n",
            "\u001b[34m\u001b[1mwandb\u001b[0m: Visualizing heatmap.\n",
            "\u001b[34m\u001b[1mwandb\u001b[0m: Visualizing heatmap.\n",
            "\u001b[34m\u001b[1mwandb\u001b[0m: Visualizing heatmap.\n",
            "\u001b[34m\u001b[1mwandb\u001b[0m: Visualizing heatmap.\n"
          ],
          "name": "stderr"
        },
        {
          "output_type": "stream",
          "text": [
            "epoch 5 - batch 10 - loss 2.595071315765381 - precision 0.0007086393306963146 - recall 0.0009985951473936439 - f1 0.000500920694321394 - sparse_categorical_accuracy 0.17812499403953552\n",
            "epoch 5 - batch 20 - loss 2.5348713397979736 - precision 0.0006343306740745902 - recall 0.0010377316502854228 - f1 0.0005520742852240801 - sparse_categorical_accuracy 0.17876674234867096\n",
            "epoch 5 - batch 30 - loss 2.5927186012268066 - precision 0.0007210426265373826 - recall 0.0010987590067088604 - f1 0.0006253647152334452 - sparse_categorical_accuracy 0.17932477593421936\n",
            "epoch 5 - batch 40 - loss 2.534806966781616 - precision 0.0008796043111942708 - recall 0.001139034633524716 - f1 0.0006686029955744743 - sparse_categorical_accuracy 0.17971539497375488\n",
            "epoch 5 - batch 50 - loss 2.538651704788208 - precision 0.0008726596715860069 - recall 0.0011621547164395452 - f1 0.0006823143921792507 - sparse_categorical_accuracy 0.17985491454601288\n",
            "epoch 5 - batch 60 - loss 2.4806861877441406 - precision 0.0008664745255373418 - recall 0.0011619824217632413 - f1 0.0006715987692587078 - sparse_categorical_accuracy 0.179734006524086\n",
            "epoch 5 - batch 70 - loss 2.3548943996429443 - precision 0.0010303837480023503 - recall 0.001187341520562768 - f1 0.0006897129351273179 - sparse_categorical_accuracy 0.1798868030309677\n",
            "epoch 5 - batch 80 - loss 2.5376057624816895 - precision 0.001197036704979837 - recall 0.001197461853735149 - f1 0.000705610669683665 - sparse_categorical_accuracy 0.18000836670398712\n",
            "epoch 5 - batch 90 - loss 2.349067211151123 - precision 0.0011937010567635298 - recall 0.0012140888720750809 - f1 0.0007198646198958158 - sparse_categorical_accuracy 0.1802455335855484\n",
            "epoch 5 - batch 100 - loss 2.4761903285980225 - precision 0.0012752278707921505 - recall 0.0012323603732511401 - f1 0.0007325693732127547 - sparse_categorical_accuracy 0.18049944937229156\n",
            "epoch 5 - batch 110 - loss 2.378124713897705 - precision 0.0012368946336209774 - recall 0.001259971410036087 - f1 0.0007629964384250343 - sparse_categorical_accuracy 0.18127283453941345\n",
            "epoch 5 training time: 42.66209268569946 sec\n"
          ],
          "name": "stdout"
        },
        {
          "output_type": "stream",
          "text": [
            "\u001b[34m\u001b[1mwandb\u001b[0m: Visualizing heatmap.\n"
          ],
          "name": "stderr"
        },
        {
          "output_type": "stream",
          "text": [
            "epoch 5 evaluation time: 5.571761846542358 sec\n",
            "epoch evaluation:  {'epoch': 5, 'epoch_test_loss': <tf.Tensor: shape=(), dtype=float32, numpy=2.4713697>, 'epoch_test_sparse_categorical_accuracy': <tf.Tensor: shape=(), dtype=float32, numpy=0.19298735>, 'epoch_test_precision': <tf.Tensor: shape=(), dtype=float32, numpy=0.0014886449>, 'epoch_test_recall': <tf.Tensor: shape=(), dtype=float32, numpy=0.0017136437>, 'epoch_test_f1': <tf.Tensor: shape=(), dtype=float32, numpy=0.0011291516>}\n"
          ],
          "name": "stdout"
        },
        {
          "output_type": "stream",
          "text": [
            "\u001b[34m\u001b[1mwandb\u001b[0m: Visualizing heatmap.\n",
            "\u001b[34m\u001b[1mwandb\u001b[0m: Visualizing heatmap.\n",
            "\u001b[34m\u001b[1mwandb\u001b[0m: Visualizing heatmap.\n",
            "\u001b[34m\u001b[1mwandb\u001b[0m: Visualizing heatmap.\n",
            "\u001b[34m\u001b[1mwandb\u001b[0m: Visualizing heatmap.\n",
            "\u001b[34m\u001b[1mwandb\u001b[0m: Visualizing heatmap.\n",
            "\u001b[34m\u001b[1mwandb\u001b[0m: Visualizing heatmap.\n",
            "\u001b[34m\u001b[1mwandb\u001b[0m: Visualizing heatmap.\n",
            "\u001b[34m\u001b[1mwandb\u001b[0m: Visualizing heatmap.\n"
          ],
          "name": "stderr"
        },
        {
          "output_type": "stream",
          "text": [
            "epoch 6 - batch 10 - loss 2.4280338287353516 - precision 0.001479107653722167 - recall 0.0016236035153269768 - f1 0.0010076023172587156 - sparse_categorical_accuracy 0.19330357015132904\n",
            "epoch 6 - batch 20 - loss 2.4189248085021973 - precision 0.001422386965714395 - recall 0.001689566415734589 - f1 0.0010896355379372835 - sparse_categorical_accuracy 0.19394531846046448\n",
            "epoch 6 - batch 30 - loss 2.3105030059814453 - precision 0.0014168077614158392 - recall 0.001770828035660088 - f1 0.0011497270315885544 - sparse_categorical_accuracy 0.19473586976528168\n",
            "epoch 6 - batch 40 - loss 2.3631765842437744 - precision 0.0015503717586398125 - recall 0.0018591097323223948 - f1 0.0011914519127458334 - sparse_categorical_accuracy 0.19571010768413544\n",
            "epoch 6 - batch 50 - loss 2.380980968475342 - precision 0.001443163608200848 - recall 0.0019391628447920084 - f1 0.0012533921981230378 - sparse_categorical_accuracy 0.19619977474212646\n",
            "epoch 6 - batch 60 - loss 2.4411380290985107 - precision 0.00144505116622895 - recall 0.0020009351428598166 - f1 0.001305640791542828 - sparse_categorical_accuracy 0.19645647704601288\n",
            "epoch 6 - batch 70 - loss 2.3977301120758057 - precision 0.0016146446578204632 - recall 0.0020352567080408335 - f1 0.0013349778018891811 - sparse_categorical_accuracy 0.19702646136283875\n",
            "epoch 6 - batch 80 - loss 2.28772234916687 - precision 0.0017143907025456429 - recall 0.0020934785716235638 - f1 0.001395451370626688 - sparse_categorical_accuracy 0.19765973091125488\n",
            "epoch 6 - batch 90 - loss 2.3349525928497314 - precision 0.0018529272638261318 - recall 0.0021438205149024725 - f1 0.0014387582195922732 - sparse_categorical_accuracy 0.1981026828289032\n",
            "epoch 6 - batch 100 - loss 2.269258737564087 - precision 0.0019165679113939404 - recall 0.002198492642492056 - f1 0.0014950602781027555 - sparse_categorical_accuracy 0.19826729595661163\n",
            "epoch 6 - batch 110 - loss 2.4089064598083496 - precision 0.001964885974302888 - recall 0.0022610786836594343 - f1 0.0015442816074937582 - sparse_categorical_accuracy 0.19865310192108154\n",
            "epoch 6 training time: 42.796762228012085 sec\n"
          ],
          "name": "stdout"
        },
        {
          "output_type": "stream",
          "text": [
            "\u001b[34m\u001b[1mwandb\u001b[0m: Visualizing heatmap.\n"
          ],
          "name": "stderr"
        },
        {
          "output_type": "stream",
          "text": [
            "epoch 6 evaluation time: 5.568853139877319 sec\n",
            "epoch evaluation:  {'epoch': 6, 'epoch_test_loss': <tf.Tensor: shape=(), dtype=float32, numpy=2.3900292>, 'epoch_test_sparse_categorical_accuracy': <tf.Tensor: shape=(), dtype=float32, numpy=0.20283882>, 'epoch_test_precision': <tf.Tensor: shape=(), dtype=float32, numpy=0.0019926815>, 'epoch_test_recall': <tf.Tensor: shape=(), dtype=float32, numpy=0.002989063>, 'epoch_test_f1': <tf.Tensor: shape=(), dtype=float32, numpy=0.001959412>}\n"
          ],
          "name": "stdout"
        },
        {
          "output_type": "stream",
          "text": [
            "\u001b[34m\u001b[1mwandb\u001b[0m: Visualizing heatmap.\n",
            "\u001b[34m\u001b[1mwandb\u001b[0m: Visualizing heatmap.\n",
            "\u001b[34m\u001b[1mwandb\u001b[0m: Visualizing heatmap.\n",
            "\u001b[34m\u001b[1mwandb\u001b[0m: Visualizing heatmap.\n",
            "\u001b[34m\u001b[1mwandb\u001b[0m: Visualizing heatmap.\n",
            "\u001b[34m\u001b[1mwandb\u001b[0m: Visualizing heatmap.\n",
            "\u001b[34m\u001b[1mwandb\u001b[0m: Visualizing heatmap.\n",
            "\u001b[34m\u001b[1mwandb\u001b[0m: Visualizing heatmap.\n",
            "\u001b[34m\u001b[1mwandb\u001b[0m: Visualizing heatmap.\n"
          ],
          "name": "stderr"
        },
        {
          "output_type": "stream",
          "text": [
            "epoch 6 saved checkpoint: models/checkpoints/baseline/ckpt-3\n",
            "epoch 7 - batch 10 - loss 2.316927671432495 - precision 0.0017840178916230798 - recall 0.0029458431527018547 - f1 0.0018651677528396249 - sparse_categorical_accuracy 0.20231585204601288\n",
            "epoch 7 - batch 20 - loss 2.2846505641937256 - precision 0.0019126394763588905 - recall 0.0030635728035122156 - f1 0.0019749414641410112 - sparse_categorical_accuracy 0.2033342570066452\n",
            "epoch 7 - batch 30 - loss 2.337015390396118 - precision 0.0018505345797166228 - recall 0.0031163019593805075 - f1 0.0019804746843874454 - sparse_categorical_accuracy 0.20466889441013336\n",
            "epoch 7 - batch 40 - loss 2.3310964107513428 - precision 0.00184913189150393 - recall 0.003158178413286805 - f1 0.001994210295379162 - sparse_categorical_accuracy 0.20564313232898712\n",
            "epoch 7 - batch 50 - loss 2.3420345783233643 - precision 0.0018494828836992383 - recall 0.003156183520331979 - f1 0.001994016580283642 - sparse_categorical_accuracy 0.2053738832473755\n",
            "epoch 7 - batch 60 - loss 2.3213164806365967 - precision 0.002006742637604475 - recall 0.003186925547197461 - f1 0.0019944868981838226 - sparse_categorical_accuracy 0.20529204607009888\n",
            "epoch 7 - batch 70 - loss 2.400127410888672 - precision 0.001985223963856697 - recall 0.0032101115211844444 - f1 0.0019949672278016806 - sparse_categorical_accuracy 0.2047911286354065\n",
            "epoch 7 - batch 80 - loss 2.3424534797668457 - precision 0.0021171532571315765 - recall 0.003231327049434185 - f1 0.0020106276497244835 - sparse_categorical_accuracy 0.20478864014148712\n",
            "epoch 7 - batch 90 - loss 2.3452413082122803 - precision 0.0020105440635234118 - recall 0.003261077217757702 - f1 0.002030136063694954 - sparse_categorical_accuracy 0.20484250783920288\n",
            "epoch 7 - batch 100 - loss 2.3838582038879395 - precision 0.002010249299928546 - recall 0.0032647920306771994 - f1 0.002037167316302657 - sparse_categorical_accuracy 0.2052706480026245\n",
            "epoch 7 - batch 110 - loss 2.3125126361846924 - precision 0.0021812941413372755 - recall 0.0032594932708889246 - f1 0.0020401007495820522 - sparse_categorical_accuracy 0.20581625401973724\n",
            "epoch 7 training time: 43.47848677635193 sec\n"
          ],
          "name": "stdout"
        },
        {
          "output_type": "stream",
          "text": [
            "\u001b[34m\u001b[1mwandb\u001b[0m: Visualizing heatmap.\n"
          ],
          "name": "stderr"
        },
        {
          "output_type": "stream",
          "text": [
            "epoch 7 evaluation time: 5.577656269073486 sec\n",
            "epoch evaluation:  {'epoch': 7, 'epoch_test_loss': <tf.Tensor: shape=(), dtype=float32, numpy=2.3222258>, 'epoch_test_sparse_categorical_accuracy': <tf.Tensor: shape=(), dtype=float32, numpy=0.20878406>, 'epoch_test_precision': <tf.Tensor: shape=(), dtype=float32, numpy=0.00223768>, 'epoch_test_recall': <tf.Tensor: shape=(), dtype=float32, numpy=0.003432956>, 'epoch_test_f1': <tf.Tensor: shape=(), dtype=float32, numpy=0.0021968347>}\n"
          ],
          "name": "stdout"
        },
        {
          "output_type": "stream",
          "text": [
            "\u001b[34m\u001b[1mwandb\u001b[0m: Visualizing heatmap.\n",
            "\u001b[34m\u001b[1mwandb\u001b[0m: Visualizing heatmap.\n",
            "\u001b[34m\u001b[1mwandb\u001b[0m: Visualizing heatmap.\n",
            "\u001b[34m\u001b[1mwandb\u001b[0m: Visualizing heatmap.\n",
            "\u001b[34m\u001b[1mwandb\u001b[0m: Visualizing heatmap.\n",
            "\u001b[34m\u001b[1mwandb\u001b[0m: Visualizing heatmap.\n",
            "\u001b[34m\u001b[1mwandb\u001b[0m: Visualizing heatmap.\n",
            "\u001b[34m\u001b[1mwandb\u001b[0m: Visualizing heatmap.\n",
            "\u001b[34m\u001b[1mwandb\u001b[0m: Visualizing heatmap.\n"
          ],
          "name": "stderr"
        },
        {
          "output_type": "stream",
          "text": [
            "epoch 8 - batch 10 - loss 2.293452739715576 - precision 0.002237858949229121 - recall 0.003421113593503833 - f1 0.002138426760211587 - sparse_categorical_accuracy 0.2057756632566452\n",
            "epoch 8 - batch 20 - loss 2.2586252689361572 - precision 0.002372227143496275 - recall 0.003504066728055477 - f1 0.0022161900997161865 - sparse_categorical_accuracy 0.2090541273355484\n",
            "epoch 8 - batch 30 - loss 2.2348973751068115 - precision 0.0022974307648837566 - recall 0.003535936353728175 - f1 0.002252850914373994 - sparse_categorical_accuracy 0.20961681008338928\n",
            "epoch 8 - batch 40 - loss 2.2676022052764893 - precision 0.002354905242100358 - recall 0.0035754323471337557 - f1 0.002283056266605854 - sparse_categorical_accuracy 0.20988421142101288\n",
            "epoch 8 - batch 50 - loss 2.2161953449249268 - precision 0.002727295970544219 - recall 0.0036101939622312784 - f1 0.002314598998054862 - sparse_categorical_accuracy 0.2098270058631897\n",
            "epoch 8 - batch 60 - loss 2.2814629077911377 - precision 0.0028985675889998674 - recall 0.003614249872043729 - f1 0.0023147074971348047 - sparse_categorical_accuracy 0.2096586674451828\n",
            "epoch 8 - batch 70 - loss 2.283543586730957 - precision 0.0030799610540270805 - recall 0.0036183111369609833 - f1 0.0023204355966299772 - sparse_categorical_accuracy 0.2096739411354065\n",
            "epoch 8 - batch 80 - loss 2.21242356300354 - precision 0.003401762107387185 - recall 0.0036434438079595566 - f1 0.0023556288797408342 - sparse_categorical_accuracy 0.20985978841781616\n",
            "epoch 8 - batch 90 - loss 2.256941318511963 - precision 0.003368691075593233 - recall 0.0036630802787840366 - f1 0.0023885059636086226 - sparse_categorical_accuracy 0.21002914011478424\n",
            "epoch 8 - batch 100 - loss 2.3555681705474854 - precision 0.003456906881183386 - recall 0.0036749360151588917 - f1 0.0024133585393428802 - sparse_categorical_accuracy 0.20999720692634583\n",
            "epoch 8 - batch 110 - loss 2.1746888160705566 - precision 0.0038036464247852564 - recall 0.0036953885573893785 - f1 0.0024364625569432974 - sparse_categorical_accuracy 0.21014103293418884\n",
            "epoch 8 training time: 43.23739051818848 sec\n"
          ],
          "name": "stdout"
        },
        {
          "output_type": "stream",
          "text": [
            "\u001b[34m\u001b[1mwandb\u001b[0m: Visualizing heatmap.\n"
          ],
          "name": "stderr"
        },
        {
          "output_type": "stream",
          "text": [
            "epoch 8 evaluation time: 5.702206134796143 sec\n",
            "epoch evaluation:  {'epoch': 8, 'epoch_test_loss': <tf.Tensor: shape=(), dtype=float32, numpy=2.2819586>, 'epoch_test_sparse_categorical_accuracy': <tf.Tensor: shape=(), dtype=float32, numpy=0.21181747>, 'epoch_test_precision': <tf.Tensor: shape=(), dtype=float32, numpy=0.0027488226>, 'epoch_test_recall': <tf.Tensor: shape=(), dtype=float32, numpy=0.0040510497>, 'epoch_test_f1': <tf.Tensor: shape=(), dtype=float32, numpy=0.002675587>}\n"
          ],
          "name": "stdout"
        },
        {
          "output_type": "stream",
          "text": [
            "\u001b[34m\u001b[1mwandb\u001b[0m: Visualizing heatmap.\n",
            "\u001b[34m\u001b[1mwandb\u001b[0m: Visualizing heatmap.\n",
            "\u001b[34m\u001b[1mwandb\u001b[0m: Visualizing heatmap.\n",
            "\u001b[34m\u001b[1mwandb\u001b[0m: Visualizing heatmap.\n",
            "\u001b[34m\u001b[1mwandb\u001b[0m: Visualizing heatmap.\n",
            "\u001b[34m\u001b[1mwandb\u001b[0m: Visualizing heatmap.\n",
            "\u001b[34m\u001b[1mwandb\u001b[0m: Visualizing heatmap.\n",
            "\u001b[34m\u001b[1mwandb\u001b[0m: Visualizing heatmap.\n",
            "\u001b[34m\u001b[1mwandb\u001b[0m: Visualizing heatmap.\n"
          ],
          "name": "stderr"
        },
        {
          "output_type": "stream",
          "text": [
            "epoch 9 - batch 10 - loss 2.3498878479003906 - precision 0.0027544412296265364 - recall 0.0041115921922028065 - f1 0.0026900453958660364 - sparse_categorical_accuracy 0.21012835204601288\n",
            "epoch 9 - batch 20 - loss 2.3945538997650146 - precision 0.002859413158148527 - recall 0.004175372887402773 - f1 0.0027959600556641817 - sparse_categorical_accuracy 0.21075613796710968\n",
            "epoch 9 - batch 30 - loss 2.1856276988983154 - precision 0.0033749272115528584 - recall 0.004294733516871929 - f1 0.002904168562963605 - sparse_categorical_accuracy 0.21175594627857208\n",
            "epoch 9 - batch 40 - loss 2.3581395149230957 - precision 0.0036804189439862967 - recall 0.004331493284553289 - f1 0.0029538460075855255 - sparse_categorical_accuracy 0.21213030815124512\n",
            "epoch 9 - batch 50 - loss 2.128979206085205 - precision 0.003891920205205679 - recall 0.004372479859739542 - f1 0.0030433868523687124 - sparse_categorical_accuracy 0.2117578089237213\n",
            "epoch 9 - batch 60 - loss 2.1254591941833496 - precision 0.003931424114853144 - recall 0.004451497923582792 - f1 0.0031270307954400778 - sparse_categorical_accuracy 0.21192800998687744\n",
            "epoch 9 - batch 70 - loss 2.221487045288086 - precision 0.004098884761333466 - recall 0.004487295635044575 - f1 0.0031563914380967617 - sparse_categorical_accuracy 0.21185028553009033\n",
            "epoch 9 - batch 80 - loss 2.272263288497925 - precision 0.004056014586240053 - recall 0.004542435985058546 - f1 0.003200927749276161 - sparse_categorical_accuracy 0.21199427545070648\n",
            "epoch 9 - batch 90 - loss 2.1278347969055176 - precision 0.004306493327021599 - recall 0.004567468538880348 - f1 0.0032262331806123257 - sparse_categorical_accuracy 0.21212798357009888\n",
            "epoch 9 - batch 100 - loss 2.1895751953125 - precision 0.004223040770739317 - recall 0.004597822669893503 - f1 0.003245198167860508 - sparse_categorical_accuracy 0.2120424062013626\n",
            "epoch 9 - batch 110 - loss 2.2445414066314697 - precision 0.004369958769530058 - recall 0.004648240283131599 - f1 0.0032843099907040596 - sparse_categorical_accuracy 0.21226410567760468\n",
            "epoch 9 training time: 42.92513704299927 sec\n"
          ],
          "name": "stdout"
        },
        {
          "output_type": "stream",
          "text": [
            "\u001b[34m\u001b[1mwandb\u001b[0m: Visualizing heatmap.\n"
          ],
          "name": "stderr"
        },
        {
          "output_type": "stream",
          "text": [
            "epoch 9 evaluation time: 5.621574878692627 sec\n",
            "epoch evaluation:  {'epoch': 9, 'epoch_test_loss': <tf.Tensor: shape=(), dtype=float32, numpy=2.2555006>, 'epoch_test_sparse_categorical_accuracy': <tf.Tensor: shape=(), dtype=float32, numpy=0.212769>, 'epoch_test_precision': <tf.Tensor: shape=(), dtype=float32, numpy=0.003741188>, 'epoch_test_recall': <tf.Tensor: shape=(), dtype=float32, numpy=0.0048627453>, 'epoch_test_f1': <tf.Tensor: shape=(), dtype=float32, numpy=0.0033585993>}\n"
          ],
          "name": "stdout"
        },
        {
          "output_type": "stream",
          "text": [
            "\u001b[34m\u001b[1mwandb\u001b[0m: Visualizing heatmap.\n",
            "\u001b[34m\u001b[1mwandb\u001b[0m: Visualizing heatmap.\n",
            "\u001b[34m\u001b[1mwandb\u001b[0m: Visualizing heatmap.\n",
            "\u001b[34m\u001b[1mwandb\u001b[0m: Visualizing heatmap.\n",
            "\u001b[34m\u001b[1mwandb\u001b[0m: Visualizing heatmap.\n",
            "\u001b[34m\u001b[1mwandb\u001b[0m: Visualizing heatmap.\n",
            "\u001b[34m\u001b[1mwandb\u001b[0m: Visualizing heatmap.\n",
            "\u001b[34m\u001b[1mwandb\u001b[0m: Visualizing heatmap.\n",
            "\u001b[34m\u001b[1mwandb\u001b[0m: Visualizing heatmap.\n"
          ],
          "name": "stderr"
        },
        {
          "output_type": "stream",
          "text": [
            "epoch 9 saved checkpoint: models/checkpoints/baseline/ckpt-4\n",
            "epoch 10 - batch 10 - loss 2.1603944301605225 - precision 0.0036077341064810753 - recall 0.005090320948511362 - f1 0.0034875026904046535 - sparse_categorical_accuracy 0.2144252210855484\n",
            "epoch 10 - batch 20 - loss 2.1228044033050537 - precision 0.004348136484622955 - recall 0.005193044897168875 - f1 0.0035206566099077463 - sparse_categorical_accuracy 0.21446707844734192\n",
            "epoch 10 - batch 30 - loss 2.1640846729278564 - precision 0.004608626943081617 - recall 0.005251411348581314 - f1 0.0036129497457295656 - sparse_categorical_accuracy 0.21455542743206024\n",
            "epoch 10 - batch 40 - loss 2.115621566772461 - precision 0.004748726263642311 - recall 0.005280764307826757 - f1 0.003669676138088107 - sparse_categorical_accuracy 0.21462750434875488\n",
            "epoch 10 - batch 50 - loss 2.273580312728882 - precision 0.005184985231608152 - recall 0.005310369655489922 - f1 0.00373278115876019 - sparse_categorical_accuracy 0.21363839507102966\n",
            "epoch 10 - batch 60 - loss 2.2361643314361572 - precision 0.00545662734657526 - recall 0.005338628776371479 - f1 0.0037747074384242296 - sparse_categorical_accuracy 0.21318359673023224\n",
            "epoch 10 - batch 70 - loss 2.225498914718628 - precision 0.005788127891719341 - recall 0.005390970967710018 - f1 0.003844781778752804 - sparse_categorical_accuracy 0.21323341131210327\n",
            "epoch 10 - batch 80 - loss 2.2074763774871826 - precision 0.005986977834254503 - recall 0.005456008482724428 - f1 0.003920683171600103 - sparse_categorical_accuracy 0.2135707288980484\n",
            "epoch 10 - batch 90 - loss 2.207759380340576 - precision 0.005946439225226641 - recall 0.005473602097481489 - f1 0.0039590466767549515 - sparse_categorical_accuracy 0.21348896622657776\n",
            "epoch 10 - batch 100 - loss 2.053598165512085 - precision 0.005932760424911976 - recall 0.005494911223649979 - f1 0.003958236891776323 - sparse_categorical_accuracy 0.2137974351644516\n",
            "epoch 10 - batch 110 - loss 2.1647636890411377 - precision 0.006048338022083044 - recall 0.005520935636013746 - f1 0.0039721904322505 - sparse_categorical_accuracy 0.21398894488811493\n",
            "epoch 10 training time: 42.94863677024841 sec\n"
          ],
          "name": "stdout"
        },
        {
          "output_type": "stream",
          "text": [
            "\u001b[34m\u001b[1mwandb\u001b[0m: Visualizing heatmap.\n"
          ],
          "name": "stderr"
        },
        {
          "output_type": "stream",
          "text": [
            "epoch 10 evaluation time: 5.575531005859375 sec\n",
            "epoch evaluation:  {'epoch': 10, 'epoch_test_loss': <tf.Tensor: shape=(), dtype=float32, numpy=2.2346075>, 'epoch_test_sparse_categorical_accuracy': <tf.Tensor: shape=(), dtype=float32, numpy=0.21424994>, 'epoch_test_precision': <tf.Tensor: shape=(), dtype=float32, numpy=0.005433916>, 'epoch_test_recall': <tf.Tensor: shape=(), dtype=float32, numpy=0.0059809596>, 'epoch_test_f1': <tf.Tensor: shape=(), dtype=float32, numpy=0.004084104>}\n"
          ],
          "name": "stdout"
        },
        {
          "output_type": "stream",
          "text": [
            "\u001b[34m\u001b[1mwandb\u001b[0m: Visualizing heatmap.\n",
            "\u001b[34m\u001b[1mwandb\u001b[0m: Visualizing heatmap.\n",
            "\u001b[34m\u001b[1mwandb\u001b[0m: Visualizing heatmap.\n",
            "\u001b[34m\u001b[1mwandb\u001b[0m: Visualizing heatmap.\n",
            "\u001b[34m\u001b[1mwandb\u001b[0m: Visualizing heatmap.\n",
            "\u001b[34m\u001b[1mwandb\u001b[0m: Visualizing heatmap.\n",
            "\u001b[34m\u001b[1mwandb\u001b[0m: Visualizing heatmap.\n",
            "\u001b[34m\u001b[1mwandb\u001b[0m: Visualizing heatmap.\n",
            "\u001b[34m\u001b[1mwandb\u001b[0m: Visualizing heatmap.\n"
          ],
          "name": "stderr"
        },
        {
          "output_type": "stream",
          "text": [
            "epoch 11 - batch 10 - loss 2.0913751125335693 - precision 0.005694152787327766 - recall 0.00629292381927371 - f1 0.00447411835193634 - sparse_categorical_accuracy 0.21445313096046448\n",
            "epoch 11 - batch 20 - loss 2.154146671295166 - precision 0.005817458964884281 - recall 0.006351257208734751 - f1 0.004523338284343481 - sparse_categorical_accuracy 0.21558314561843872\n",
            "epoch 11 - batch 30 - loss 2.1536850929260254 - precision 0.005744662135839462 - recall 0.00621238024905324 - f1 0.004413506016135216 - sparse_categorical_accuracy 0.215913325548172\n",
            "epoch 11 - batch 40 - loss 2.1591529846191406 - precision 0.0059163691475987434 - recall 0.006222900934517384 - f1 0.0044264583848416805 - sparse_categorical_accuracy 0.21568778157234192\n",
            "epoch 11 - batch 50 - loss 2.110098123550415 - precision 0.006500843912363052 - recall 0.0062949019484221935 - f1 0.004570735618472099 - sparse_categorical_accuracy 0.21587052941322327\n",
            "epoch 11 - batch 60 - loss 2.2569873332977295 - precision 0.006733491085469723 - recall 0.006314261816442013 - f1 0.004606982693076134 - sparse_categorical_accuracy 0.21583890914916992\n",
            "epoch 11 - batch 70 - loss 2.2029387950897217 - precision 0.0068848617374897 - recall 0.0063288891687989235 - f1 0.004617022350430489 - sparse_categorical_accuracy 0.21591198444366455\n",
            "epoch 11 - batch 80 - loss 2.060459852218628 - precision 0.00684388168156147 - recall 0.006360946223139763 - f1 0.004653466399759054 - sparse_categorical_accuracy 0.21610282361507416\n",
            "epoch 11 - batch 90 - loss 2.1117210388183594 - precision 0.006971900817006826 - recall 0.006399058736860752 - f1 0.004710210021585226 - sparse_categorical_accuracy 0.21609623730182648\n",
            "epoch 11 - batch 100 - loss 2.110461711883545 - precision 0.007538672536611557 - recall 0.006476239301264286 - f1 0.004800030961632729 - sparse_categorical_accuracy 0.2163783460855484\n",
            "epoch 11 - batch 110 - loss 2.0921194553375244 - precision 0.007696856744587421 - recall 0.0065244343131780624 - f1 0.004848075099289417 - sparse_categorical_accuracy 0.21663199365139008\n",
            "epoch 11 training time: 42.837000131607056 sec\n"
          ],
          "name": "stdout"
        },
        {
          "output_type": "stream",
          "text": [
            "\u001b[34m\u001b[1mwandb\u001b[0m: Visualizing heatmap.\n"
          ],
          "name": "stderr"
        },
        {
          "output_type": "stream",
          "text": [
            "epoch 11 evaluation time: 5.597870826721191 sec\n",
            "epoch evaluation:  {'epoch': 11, 'epoch_test_loss': <tf.Tensor: shape=(), dtype=float32, numpy=2.2155368>, 'epoch_test_sparse_categorical_accuracy': <tf.Tensor: shape=(), dtype=float32, numpy=0.2177484>, 'epoch_test_precision': <tf.Tensor: shape=(), dtype=float32, numpy=0.00733288>, 'epoch_test_recall': <tf.Tensor: shape=(), dtype=float32, numpy=0.0072987657>, 'epoch_test_f1': <tf.Tensor: shape=(), dtype=float32, numpy=0.0053644106>}\n"
          ],
          "name": "stdout"
        },
        {
          "output_type": "stream",
          "text": [
            "\u001b[34m\u001b[1mwandb\u001b[0m: Visualizing heatmap.\n",
            "\u001b[34m\u001b[1mwandb\u001b[0m: Visualizing heatmap.\n",
            "\u001b[34m\u001b[1mwandb\u001b[0m: Visualizing heatmap.\n",
            "\u001b[34m\u001b[1mwandb\u001b[0m: Visualizing heatmap.\n",
            "\u001b[34m\u001b[1mwandb\u001b[0m: Visualizing heatmap.\n",
            "\u001b[34m\u001b[1mwandb\u001b[0m: Visualizing heatmap.\n",
            "\u001b[34m\u001b[1mwandb\u001b[0m: Visualizing heatmap.\n",
            "\u001b[34m\u001b[1mwandb\u001b[0m: Visualizing heatmap.\n",
            "\u001b[34m\u001b[1mwandb\u001b[0m: Visualizing heatmap.\n"
          ],
          "name": "stderr"
        },
        {
          "output_type": "stream",
          "text": [
            "epoch 12 - batch 10 - loss 2.1840059757232666 - precision 0.006088754162192345 - recall 0.007415035739541054 - f1 0.005367830861359835 - sparse_categorical_accuracy 0.21551339328289032\n",
            "epoch 12 - batch 20 - loss 2.066771984100342 - precision 0.006328276824206114 - recall 0.007446019444614649 - f1 0.005375337786972523 - sparse_categorical_accuracy 0.21788504719734192\n",
            "epoch 12 - batch 30 - loss 2.0849668979644775 - precision 0.006909241434186697 - recall 0.007452493533492088 - f1 0.0054260240867733955 - sparse_categorical_accuracy 0.21822915971279144\n",
            "epoch 12 - batch 40 - loss 2.099208354949951 - precision 0.007772508077323437 - recall 0.007491299416869879 - f1 0.005547224543988705 - sparse_categorical_accuracy 0.21947544813156128\n",
            "epoch 12 - batch 50 - loss 2.2180569171905518 - precision 0.00820219237357378 - recall 0.00757494056597352 - f1 0.005671320483088493 - sparse_categorical_accuracy 0.21883369982242584\n",
            "epoch 12 - batch 60 - loss 2.1584935188293457 - precision 0.008228751830756664 - recall 0.007719988934695721 - f1 0.005812664050608873 - sparse_categorical_accuracy 0.21910342574119568\n",
            "epoch 12 - batch 70 - loss 2.1311089992523193 - precision 0.008443143218755722 - recall 0.0077827200293540955 - f1 0.005880886223167181 - sparse_categorical_accuracy 0.21933594346046448\n",
            "epoch 12 - batch 80 - loss 2.143648147583008 - precision 0.00866012740880251 - recall 0.007824315689504147 - f1 0.0059478445909917355 - sparse_categorical_accuracy 0.21946150064468384\n",
            "epoch 12 - batch 90 - loss 2.1057279109954834 - precision 0.00863021332770586 - recall 0.007804864086210728 - f1 0.005943873897194862 - sparse_categorical_accuracy 0.2195250540971756\n",
            "epoch 12 - batch 100 - loss 2.1793007850646973 - precision 0.008633190765976906 - recall 0.007836871780455112 - f1 0.005960927344858646 - sparse_categorical_accuracy 0.21964843571186066\n",
            "epoch 12 - batch 110 - loss 2.0765151977539062 - precision 0.00881450716406107 - recall 0.007882623933255672 - f1 0.006017632782459259 - sparse_categorical_accuracy 0.2195870578289032\n",
            "epoch 12 training time: 43.04883289337158 sec\n"
          ],
          "name": "stdout"
        },
        {
          "output_type": "stream",
          "text": [
            "\u001b[34m\u001b[1mwandb\u001b[0m: Visualizing heatmap.\n"
          ],
          "name": "stderr"
        },
        {
          "output_type": "stream",
          "text": [
            "epoch 12 evaluation time: 5.580463886260986 sec\n",
            "epoch evaluation:  {'epoch': 12, 'epoch_test_loss': <tf.Tensor: shape=(), dtype=float32, numpy=2.201161>, 'epoch_test_sparse_categorical_accuracy': <tf.Tensor: shape=(), dtype=float32, numpy=0.21780564>, 'epoch_test_precision': <tf.Tensor: shape=(), dtype=float32, numpy=0.00730293>, 'epoch_test_recall': <tf.Tensor: shape=(), dtype=float32, numpy=0.008421577>, 'epoch_test_f1': <tf.Tensor: shape=(), dtype=float32, numpy=0.006224458>}\n"
          ],
          "name": "stdout"
        },
        {
          "output_type": "stream",
          "text": [
            "\u001b[34m\u001b[1mwandb\u001b[0m: Visualizing heatmap.\n",
            "\u001b[34m\u001b[1mwandb\u001b[0m: Visualizing heatmap.\n",
            "\u001b[34m\u001b[1mwandb\u001b[0m: Visualizing heatmap.\n",
            "\u001b[34m\u001b[1mwandb\u001b[0m: Visualizing heatmap.\n",
            "\u001b[34m\u001b[1mwandb\u001b[0m: Visualizing heatmap.\n",
            "\u001b[34m\u001b[1mwandb\u001b[0m: Visualizing heatmap.\n",
            "\u001b[34m\u001b[1mwandb\u001b[0m: Visualizing heatmap.\n",
            "\u001b[34m\u001b[1mwandb\u001b[0m: Visualizing heatmap.\n",
            "\u001b[34m\u001b[1mwandb\u001b[0m: Visualizing heatmap.\n"
          ],
          "name": "stderr"
        },
        {
          "output_type": "stream",
          "text": [
            "epoch 12 saved checkpoint: models/checkpoints/baseline/ckpt-5\n",
            "epoch 13 - batch 10 - loss 2.1188347339630127 - precision 0.0074857184663414955 - recall 0.008631843142211437 - f1 0.006304802373051643 - sparse_categorical_accuracy 0.21785713732242584\n",
            "epoch 13 - batch 20 - loss 2.033879041671753 - precision 0.008209106512367725 - recall 0.008615986444056034 - f1 0.006429826840758324 - sparse_categorical_accuracy 0.2196568101644516\n",
            "epoch 13 - batch 30 - loss 2.02309513092041 - precision 0.0086569394916296 - recall 0.008522194810211658 - f1 0.006525913253426552 - sparse_categorical_accuracy 0.21952195465564728\n",
            "epoch 13 - batch 40 - loss 2.156240224838257 - precision 0.009234322234988213 - recall 0.00856763031333685 - f1 0.006614528596401215 - sparse_categorical_accuracy 0.22051478922367096\n",
            "epoch 13 - batch 50 - loss 2.031017303466797 - precision 0.009494924917817116 - recall 0.008707263506948948 - f1 0.006775094196200371 - sparse_categorical_accuracy 0.22092634439468384\n",
            "epoch 13 - batch 60 - loss 2.0641610622406006 - precision 0.009665499441325665 - recall 0.008814690634608269 - f1 0.006834554485976696 - sparse_categorical_accuracy 0.22120070457458496\n",
            "epoch 13 - batch 70 - loss 2.0853447914123535 - precision 0.009661870077252388 - recall 0.008823365904390812 - f1 0.006853451952338219 - sparse_categorical_accuracy 0.2212252914905548\n",
            "epoch 13 - batch 80 - loss 2.159020185470581 - precision 0.009831281378865242 - recall 0.008887868374586105 - f1 0.006899643689393997 - sparse_categorical_accuracy 0.22153669595718384\n",
            "epoch 13 - batch 90 - loss 1.9936643838882446 - precision 0.009721796959638596 - recall 0.00899291317909956 - f1 0.00696752592921257 - sparse_categorical_accuracy 0.2214936763048172\n",
            "epoch 13 - batch 100 - loss 2.0543277263641357 - precision 0.009919209405779839 - recall 0.009054062888026237 - f1 0.007007190026342869 - sparse_categorical_accuracy 0.2217382788658142\n",
            "epoch 13 - batch 110 - loss 2.149965286254883 - precision 0.010074544697999954 - recall 0.009051897563040257 - f1 0.0070268199779093266 - sparse_categorical_accuracy 0.22197139263153076\n",
            "epoch 13 training time: 43.00349307060242 sec\n"
          ],
          "name": "stdout"
        },
        {
          "output_type": "stream",
          "text": [
            "\u001b[34m\u001b[1mwandb\u001b[0m: Visualizing heatmap.\n"
          ],
          "name": "stderr"
        },
        {
          "output_type": "stream",
          "text": [
            "epoch 13 evaluation time: 5.5852508544921875 sec\n",
            "epoch evaluation:  {'epoch': 13, 'epoch_test_loss': <tf.Tensor: shape=(), dtype=float32, numpy=2.181966>, 'epoch_test_sparse_categorical_accuracy': <tf.Tensor: shape=(), dtype=float32, numpy=0.22190505>, 'epoch_test_precision': <tf.Tensor: shape=(), dtype=float32, numpy=0.008957948>, 'epoch_test_recall': <tf.Tensor: shape=(), dtype=float32, numpy=0.01000339>, 'epoch_test_f1': <tf.Tensor: shape=(), dtype=float32, numpy=0.007466643>}\n"
          ],
          "name": "stdout"
        },
        {
          "output_type": "stream",
          "text": [
            "\u001b[34m\u001b[1mwandb\u001b[0m: Visualizing heatmap.\n",
            "\u001b[34m\u001b[1mwandb\u001b[0m: Visualizing heatmap.\n",
            "\u001b[34m\u001b[1mwandb\u001b[0m: Visualizing heatmap.\n",
            "\u001b[34m\u001b[1mwandb\u001b[0m: Visualizing heatmap.\n",
            "\u001b[34m\u001b[1mwandb\u001b[0m: Visualizing heatmap.\n",
            "\u001b[34m\u001b[1mwandb\u001b[0m: Visualizing heatmap.\n",
            "\u001b[34m\u001b[1mwandb\u001b[0m: Visualizing heatmap.\n",
            "\u001b[34m\u001b[1mwandb\u001b[0m: Visualizing heatmap.\n",
            "\u001b[34m\u001b[1mwandb\u001b[0m: Visualizing heatmap.\n"
          ],
          "name": "stderr"
        },
        {
          "output_type": "stream",
          "text": [
            "epoch 14 - batch 10 - loss 2.064260959625244 - precision 0.007434165105223656 - recall 0.0096385907381773 - f1 0.007091843988746405 - sparse_categorical_accuracy 0.22022879123687744\n",
            "epoch 14 - batch 20 - loss 2.040743350982666 - precision 0.00808454304933548 - recall 0.009588602930307388 - f1 0.007199663203209639 - sparse_categorical_accuracy 0.22269810736179352\n",
            "epoch 14 - batch 30 - loss 2.0668609142303467 - precision 0.008773750625550747 - recall 0.009552981704473495 - f1 0.007262883707880974 - sparse_categorical_accuracy 0.22392113506793976\n",
            "epoch 14 - batch 40 - loss 2.125560998916626 - precision 0.00938955694437027 - recall 0.009664583019912243 - f1 0.007460399530827999 - sparse_categorical_accuracy 0.22393973171710968\n",
            "epoch 14 - batch 50 - loss 2.0797173976898193 - precision 0.009778328239917755 - recall 0.009795503690838814 - f1 0.00753897987306118 - sparse_categorical_accuracy 0.22386719286441803\n",
            "epoch 14 - batch 60 - loss 2.118830442428589 - precision 0.010229342617094517 - recall 0.009909434244036674 - f1 0.007644860073924065 - sparse_categorical_accuracy 0.22386997938156128\n",
            "epoch 14 - batch 70 - loss 2.074737548828125 - precision 0.010716023854911327 - recall 0.009975538589060307 - f1 0.007765496615320444 - sparse_categorical_accuracy 0.22378428280353546\n",
            "epoch 14 - batch 80 - loss 2.054713487625122 - precision 0.010845155455172062 - recall 0.010046065784990788 - f1 0.007835100404918194 - sparse_categorical_accuracy 0.22427105903625488\n",
            "epoch 14 - batch 90 - loss 2.0552828311920166 - precision 0.010795447044074535 - recall 0.010066640563309193 - f1 0.007843627594411373 - sparse_categorical_accuracy 0.22421875596046448\n",
            "epoch 14 - batch 100 - loss 2.0246152877807617 - precision 0.011213503777980804 - recall 0.010096664540469646 - f1 0.007887938059866428 - sparse_categorical_accuracy 0.22437220811843872\n",
            "epoch 14 - batch 110 - loss 1.9852731227874756 - precision 0.011373937129974365 - recall 0.01012809481471777 - f1 0.007900307886302471 - sparse_categorical_accuracy 0.22467532753944397\n",
            "epoch 14 training time: 42.99896574020386 sec\n"
          ],
          "name": "stdout"
        },
        {
          "output_type": "stream",
          "text": [
            "\u001b[34m\u001b[1mwandb\u001b[0m: Visualizing heatmap.\n"
          ],
          "name": "stderr"
        },
        {
          "output_type": "stream",
          "text": [
            "epoch 14 evaluation time: 5.569990396499634 sec\n",
            "epoch evaluation:  {'epoch': 14, 'epoch_test_loss': <tf.Tensor: shape=(), dtype=float32, numpy=2.1698399>, 'epoch_test_sparse_categorical_accuracy': <tf.Tensor: shape=(), dtype=float32, numpy=0.2235863>, 'epoch_test_precision': <tf.Tensor: shape=(), dtype=float32, numpy=0.009569223>, 'epoch_test_recall': <tf.Tensor: shape=(), dtype=float32, numpy=0.010760815>, 'epoch_test_f1': <tf.Tensor: shape=(), dtype=float32, numpy=0.008096026>}\n"
          ],
          "name": "stdout"
        },
        {
          "output_type": "stream",
          "text": [
            "\u001b[34m\u001b[1mwandb\u001b[0m: Visualizing heatmap.\n",
            "\u001b[34m\u001b[1mwandb\u001b[0m: Visualizing heatmap.\n",
            "\u001b[34m\u001b[1mwandb\u001b[0m: Visualizing heatmap.\n",
            "\u001b[34m\u001b[1mwandb\u001b[0m: Visualizing heatmap.\n",
            "\u001b[34m\u001b[1mwandb\u001b[0m: Visualizing heatmap.\n",
            "\u001b[34m\u001b[1mwandb\u001b[0m: Visualizing heatmap.\n",
            "\u001b[34m\u001b[1mwandb\u001b[0m: Visualizing heatmap.\n",
            "\u001b[34m\u001b[1mwandb\u001b[0m: Visualizing heatmap.\n",
            "\u001b[34m\u001b[1mwandb\u001b[0m: Visualizing heatmap.\n"
          ],
          "name": "stderr"
        },
        {
          "output_type": "stream",
          "text": [
            "epoch 15 - batch 10 - loss 2.1055920124053955 - precision 0.008957413025200367 - recall 0.010832181200385094 - f1 0.00789930671453476 - sparse_categorical_accuracy 0.22508370876312256\n",
            "epoch 15 - batch 20 - loss 2.037630319595337 - precision 0.009633670561015606 - recall 0.010836029425263405 - f1 0.00790335237979889 - sparse_categorical_accuracy 0.22622768580913544\n",
            "epoch 15 - batch 30 - loss 2.2286550998687744 - precision 0.01045980490744114 - recall 0.01096612960100174 - f1 0.008153128437697887 - sparse_categorical_accuracy 0.2261904776096344\n",
            "epoch 15 - batch 40 - loss 2.106046438217163 - precision 0.0113509651273489 - recall 0.0110851489007473 - f1 0.008325163275003433 - sparse_categorical_accuracy 0.22657644748687744\n",
            "epoch 15 - batch 50 - loss 2.0339810848236084 - precision 0.011296026408672333 - recall 0.011230189353227615 - f1 0.008482356555759907 - sparse_categorical_accuracy 0.22618304193019867\n",
            "epoch 15 - batch 60 - loss 2.02582049369812 - precision 0.011624690145254135 - recall 0.011335986666381359 - f1 0.008651481941342354 - sparse_categorical_accuracy 0.2256556898355484\n",
            "epoch 15 - batch 70 - loss 1.9194080829620361 - precision 0.011764727532863617 - recall 0.011445711366832256 - f1 0.008837887085974216 - sparse_categorical_accuracy 0.22570551931858063\n",
            "epoch 15 - batch 80 - loss 2.0944159030914307 - precision 0.011743676848709583 - recall 0.011369490064680576 - f1 0.008838463574647903 - sparse_categorical_accuracy 0.22581613063812256\n",
            "epoch 15 - batch 90 - loss 2.0575952529907227 - precision 0.012450144626200199 - recall 0.011327171698212624 - f1 0.008845613338053226 - sparse_categorical_accuracy 0.22615946829319\n",
            "epoch 15 - batch 100 - loss 2.0246970653533936 - precision 0.012822480872273445 - recall 0.01133105717599392 - f1 0.00885875802487135 - sparse_categorical_accuracy 0.22628068923950195\n",
            "epoch 15 - batch 110 - loss 2.1200830936431885 - precision 0.012827028520405293 - recall 0.011340273544192314 - f1 0.00884953048080206 - sparse_categorical_accuracy 0.22609324753284454\n",
            "epoch 15 training time: 43.56937909126282 sec\n"
          ],
          "name": "stdout"
        },
        {
          "output_type": "stream",
          "text": [
            "\u001b[34m\u001b[1mwandb\u001b[0m: Visualizing heatmap.\n"
          ],
          "name": "stderr"
        },
        {
          "output_type": "stream",
          "text": [
            "epoch 15 evaluation time: 5.594502210617065 sec\n",
            "epoch evaluation:  {'epoch': 15, 'epoch_test_loss': <tf.Tensor: shape=(), dtype=float32, numpy=2.1534724>, 'epoch_test_sparse_categorical_accuracy': <tf.Tensor: shape=(), dtype=float32, numpy=0.22561814>, 'epoch_test_precision': <tf.Tensor: shape=(), dtype=float32, numpy=0.011512876>, 'epoch_test_recall': <tf.Tensor: shape=(), dtype=float32, numpy=0.01171692>, 'epoch_test_f1': <tf.Tensor: shape=(), dtype=float32, numpy=0.008902047>}\n"
          ],
          "name": "stdout"
        },
        {
          "output_type": "stream",
          "text": [
            "\u001b[34m\u001b[1mwandb\u001b[0m: Visualizing heatmap.\n",
            "\u001b[34m\u001b[1mwandb\u001b[0m: Visualizing heatmap.\n",
            "\u001b[34m\u001b[1mwandb\u001b[0m: Visualizing heatmap.\n",
            "\u001b[34m\u001b[1mwandb\u001b[0m: Visualizing heatmap.\n",
            "\u001b[34m\u001b[1mwandb\u001b[0m: Visualizing heatmap.\n",
            "\u001b[34m\u001b[1mwandb\u001b[0m: Visualizing heatmap.\n",
            "\u001b[34m\u001b[1mwandb\u001b[0m: Visualizing heatmap.\n",
            "\u001b[34m\u001b[1mwandb\u001b[0m: Visualizing heatmap.\n",
            "\u001b[34m\u001b[1mwandb\u001b[0m: Visualizing heatmap.\n"
          ],
          "name": "stderr"
        },
        {
          "output_type": "stream",
          "text": [
            "epoch 15 saved checkpoint: models/checkpoints/baseline/ckpt-6\n",
            "epoch 16 - batch 10 - loss 2.068047523498535 - precision 0.010381958447396755 - recall 0.012206639163196087 - f1 0.009032133966684341 - sparse_categorical_accuracy 0.22633928060531616\n",
            "epoch 16 - batch 20 - loss 1.9740097522735596 - precision 0.012208735570311546 - recall 0.011993815191090107 - f1 0.009192187339067459 - sparse_categorical_accuracy 0.22765067219734192\n",
            "epoch 16 - batch 30 - loss 2.1221964359283447 - precision 0.013260622508823872 - recall 0.012169948779046535 - f1 0.009523996151983738 - sparse_categorical_accuracy 0.22818081080913544\n",
            "epoch 16 - batch 40 - loss 2.1140973567962646 - precision 0.013190221041440964 - recall 0.012150907889008522 - f1 0.009564755484461784 - sparse_categorical_accuracy 0.22854351997375488\n",
            "epoch 16 - batch 50 - loss 2.0805418491363525 - precision 0.013580510392785072 - recall 0.012307838536798954 - f1 0.009717262350022793 - sparse_categorical_accuracy 0.22860491275787354\n",
            "epoch 16 - batch 60 - loss 2.136885404586792 - precision 0.013783019036054611 - recall 0.012374382466077805 - f1 0.009809503331780434 - sparse_categorical_accuracy 0.22836215794086456\n",
            "epoch 16 - batch 70 - loss 1.966779112815857 - precision 0.014052948914468288 - recall 0.012357023544609547 - f1 0.00982522964477539 - sparse_categorical_accuracy 0.2287866771221161\n",
            "epoch 16 - batch 80 - loss 2.0154690742492676 - precision 0.014104261063039303 - recall 0.012391430325806141 - f1 0.009832920506596565 - sparse_categorical_accuracy 0.2288818359375\n",
            "epoch 16 - batch 90 - loss 2.1160624027252197 - precision 0.014079827815294266 - recall 0.012438287027180195 - f1 0.009896649979054928 - sparse_categorical_accuracy 0.22874194383621216\n",
            "epoch 16 - batch 100 - loss 1.9768379926681519 - precision 0.014398165047168732 - recall 0.01239271555095911 - f1 0.009917638264596462 - sparse_categorical_accuracy 0.228666290640831\n",
            "epoch 16 - batch 110 - loss 2.0793204307556152 - precision 0.014668899588286877 - recall 0.012415959499776363 - f1 0.009911696426570415 - sparse_categorical_accuracy 0.22859172523021698\n",
            "epoch 16 training time: 43.14283299446106 sec\n"
          ],
          "name": "stdout"
        },
        {
          "output_type": "stream",
          "text": [
            "\u001b[34m\u001b[1mwandb\u001b[0m: Visualizing heatmap.\n"
          ],
          "name": "stderr"
        },
        {
          "output_type": "stream",
          "text": [
            "epoch 16 evaluation time: 5.563518285751343 sec\n",
            "epoch evaluation:  {'epoch': 16, 'epoch_test_loss': <tf.Tensor: shape=(), dtype=float32, numpy=2.1403387>, 'epoch_test_sparse_categorical_accuracy': <tf.Tensor: shape=(), dtype=float32, numpy=0.22543928>, 'epoch_test_precision': <tf.Tensor: shape=(), dtype=float32, numpy=0.013475589>, 'epoch_test_recall': <tf.Tensor: shape=(), dtype=float32, numpy=0.0131475255>, 'epoch_test_f1': <tf.Tensor: shape=(), dtype=float32, numpy=0.010102828>}\n"
          ],
          "name": "stdout"
        },
        {
          "output_type": "stream",
          "text": [
            "\u001b[34m\u001b[1mwandb\u001b[0m: Visualizing heatmap.\n",
            "\u001b[34m\u001b[1mwandb\u001b[0m: Visualizing heatmap.\n",
            "\u001b[34m\u001b[1mwandb\u001b[0m: Visualizing heatmap.\n",
            "\u001b[34m\u001b[1mwandb\u001b[0m: Visualizing heatmap.\n",
            "\u001b[34m\u001b[1mwandb\u001b[0m: Visualizing heatmap.\n",
            "\u001b[34m\u001b[1mwandb\u001b[0m: Visualizing heatmap.\n",
            "\u001b[34m\u001b[1mwandb\u001b[0m: Visualizing heatmap.\n",
            "\u001b[34m\u001b[1mwandb\u001b[0m: Visualizing heatmap.\n",
            "\u001b[34m\u001b[1mwandb\u001b[0m: Visualizing heatmap.\n"
          ],
          "name": "stderr"
        },
        {
          "output_type": "stream",
          "text": [
            "epoch 17 - batch 10 - loss 2.090106964111328 - precision 0.012200326658785343 - recall 0.013008945621550083 - f1 0.009786529466509819 - sparse_categorical_accuracy 0.22525112330913544\n",
            "epoch 17 - batch 20 - loss 2.030017375946045 - precision 0.013257601298391819 - recall 0.013333873823285103 - f1 0.010309114120900631 - sparse_categorical_accuracy 0.22752511501312256\n",
            "epoch 17 - batch 30 - loss 2.1386783123016357 - precision 0.014334120787680149 - recall 0.013233321718871593 - f1 0.010283341631293297 - sparse_categorical_accuracy 0.22854351997375488\n",
            "epoch 17 - batch 40 - loss 2.0881500244140625 - precision 0.014740310609340668 - recall 0.013169420883059502 - f1 0.010356849990785122 - sparse_categorical_accuracy 0.2282366007566452\n",
            "epoch 17 - batch 50 - loss 2.0035386085510254 - precision 0.015282461419701576 - recall 0.013322933577001095 - f1 0.010524031706154346 - sparse_categorical_accuracy 0.2282589226961136\n",
            "epoch 17 - batch 60 - loss 1.9621152877807617 - precision 0.015386664308607578 - recall 0.013460799120366573 - f1 0.01071271114051342 - sparse_categorical_accuracy 0.22808779776096344\n",
            "epoch 17 - batch 70 - loss 2.0709574222564697 - precision 0.01553545892238617 - recall 0.013375272043049335 - f1 0.010705825872719288 - sparse_categorical_accuracy 0.22783403098583221\n",
            "epoch 17 - batch 80 - loss 2.072800874710083 - precision 0.015609987080097198 - recall 0.013456357643008232 - f1 0.010747053660452366 - sparse_categorical_accuracy 0.2278878390789032\n",
            "epoch 17 - batch 90 - loss 2.096397638320923 - precision 0.015797032043337822 - recall 0.013441312126815319 - f1 0.010709014721214771 - sparse_categorical_accuracy 0.228159099817276\n",
            "epoch 17 - batch 100 - loss 2.130842685699463 - precision 0.01618345081806183 - recall 0.013399151153862476 - f1 0.010766933672130108 - sparse_categorical_accuracy 0.22812500596046448\n",
            "epoch 17 - batch 110 - loss 2.0838828086853027 - precision 0.016477936878800392 - recall 0.013451986014842987 - f1 0.010830510407686234 - sparse_categorical_accuracy 0.22817066311836243\n",
            "epoch 17 training time: 42.90679407119751 sec\n"
          ],
          "name": "stdout"
        },
        {
          "output_type": "stream",
          "text": [
            "\u001b[34m\u001b[1mwandb\u001b[0m: Visualizing heatmap.\n"
          ],
          "name": "stderr"
        },
        {
          "output_type": "stream",
          "text": [
            "epoch 17 evaluation time: 5.595157146453857 sec\n",
            "epoch evaluation:  {'epoch': 17, 'epoch_test_loss': <tf.Tensor: shape=(), dtype=float32, numpy=2.131829>, 'epoch_test_sparse_categorical_accuracy': <tf.Tensor: shape=(), dtype=float32, numpy=0.22533911>, 'epoch_test_precision': <tf.Tensor: shape=(), dtype=float32, numpy=0.014692917>, 'epoch_test_recall': <tf.Tensor: shape=(), dtype=float32, numpy=0.014266644>, 'epoch_test_f1': <tf.Tensor: shape=(), dtype=float32, numpy=0.011204026>}\n"
          ],
          "name": "stdout"
        },
        {
          "output_type": "stream",
          "text": [
            "\u001b[34m\u001b[1mwandb\u001b[0m: Visualizing heatmap.\n",
            "\u001b[34m\u001b[1mwandb\u001b[0m: Visualizing heatmap.\n",
            "\u001b[34m\u001b[1mwandb\u001b[0m: Visualizing heatmap.\n",
            "\u001b[34m\u001b[1mwandb\u001b[0m: Visualizing heatmap.\n",
            "\u001b[34m\u001b[1mwandb\u001b[0m: Visualizing heatmap.\n",
            "\u001b[34m\u001b[1mwandb\u001b[0m: Visualizing heatmap.\n",
            "\u001b[34m\u001b[1mwandb\u001b[0m: Visualizing heatmap.\n",
            "\u001b[34m\u001b[1mwandb\u001b[0m: Visualizing heatmap.\n",
            "\u001b[34m\u001b[1mwandb\u001b[0m: Visualizing heatmap.\n"
          ],
          "name": "stderr"
        },
        {
          "output_type": "stream",
          "text": [
            "epoch 18 - batch 10 - loss 1.9676843881607056 - precision 0.014527251943945885 - recall 0.014481944963335991 - f1 0.011325182393193245 - sparse_categorical_accuracy 0.23021763563156128\n",
            "epoch 18 - batch 20 - loss 1.9517818689346313 - precision 0.01569681614637375 - recall 0.014590882696211338 - f1 0.011464831419289112 - sparse_categorical_accuracy 0.23205915093421936\n",
            "epoch 18 - batch 30 - loss 1.9360870122909546 - precision 0.015869589522480965 - recall 0.01455481257289648 - f1 0.0115425456315279 - sparse_categorical_accuracy 0.23254278302192688\n",
            "epoch 18 - batch 40 - loss 1.9592033624649048 - precision 0.016558565199375153 - recall 0.014580046758055687 - f1 0.0117556257173419 - sparse_categorical_accuracy 0.233154296875\n",
            "epoch 18 - batch 50 - loss 2.0504491329193115 - precision 0.01675507053732872 - recall 0.01469243224710226 - f1 0.011791069060564041 - sparse_categorical_accuracy 0.23253905773162842\n",
            "epoch 18 - batch 60 - loss 1.9857981204986572 - precision 0.01705632172524929 - recall 0.01466685626655817 - f1 0.011826748959720135 - sparse_categorical_accuracy 0.2331426739692688\n",
            "epoch 18 - batch 70 - loss 2.0134565830230713 - precision 0.017785746604204178 - recall 0.014742201194167137 - f1 0.011979801580309868 - sparse_categorical_accuracy 0.2328922152519226\n",
            "epoch 18 - batch 80 - loss 1.9938267469406128 - precision 0.01818194054067135 - recall 0.014784827828407288 - f1 0.01201330590993166 - sparse_categorical_accuracy 0.23305663466453552\n",
            "epoch 18 - batch 90 - loss 2.0204007625579834 - precision 0.01834145188331604 - recall 0.014835268259048462 - f1 0.012032758444547653 - sparse_categorical_accuracy 0.23314732313156128\n",
            "epoch 18 - batch 100 - loss 1.9902122020721436 - precision 0.018380295485258102 - recall 0.01482109073549509 - f1 0.01202941033989191 - sparse_categorical_accuracy 0.2331361621618271\n",
            "epoch 18 - batch 110 - loss 1.998960256576538 - precision 0.01863751746714115 - recall 0.01486881636083126 - f1 0.012081035412847996 - sparse_categorical_accuracy 0.2330331802368164\n",
            "epoch 18 training time: 43.07874274253845 sec\n"
          ],
          "name": "stdout"
        },
        {
          "output_type": "stream",
          "text": [
            "\u001b[34m\u001b[1mwandb\u001b[0m: Visualizing heatmap.\n"
          ],
          "name": "stderr"
        },
        {
          "output_type": "stream",
          "text": [
            "epoch 18 evaluation time: 5.580002546310425 sec\n",
            "epoch evaluation:  {'epoch': 18, 'epoch_test_loss': <tf.Tensor: shape=(), dtype=float32, numpy=2.1124508>, 'epoch_test_sparse_categorical_accuracy': <tf.Tensor: shape=(), dtype=float32, numpy=0.22873741>, 'epoch_test_precision': <tf.Tensor: shape=(), dtype=float32, numpy=0.016143769>, 'epoch_test_recall': <tf.Tensor: shape=(), dtype=float32, numpy=0.015535866>, 'epoch_test_f1': <tf.Tensor: shape=(), dtype=float32, numpy=0.012182423>}\n"
          ],
          "name": "stdout"
        },
        {
          "output_type": "stream",
          "text": [
            "\u001b[34m\u001b[1mwandb\u001b[0m: Visualizing heatmap.\n",
            "\u001b[34m\u001b[1mwandb\u001b[0m: Visualizing heatmap.\n",
            "\u001b[34m\u001b[1mwandb\u001b[0m: Visualizing heatmap.\n",
            "\u001b[34m\u001b[1mwandb\u001b[0m: Visualizing heatmap.\n",
            "\u001b[34m\u001b[1mwandb\u001b[0m: Visualizing heatmap.\n",
            "\u001b[34m\u001b[1mwandb\u001b[0m: Visualizing heatmap.\n",
            "\u001b[34m\u001b[1mwandb\u001b[0m: Visualizing heatmap.\n",
            "\u001b[34m\u001b[1mwandb\u001b[0m: Visualizing heatmap.\n",
            "\u001b[34m\u001b[1mwandb\u001b[0m: Visualizing heatmap.\n"
          ],
          "name": "stderr"
        },
        {
          "output_type": "stream",
          "text": [
            "epoch 18 saved checkpoint: models/checkpoints/baseline/ckpt-7\n",
            "epoch 19 - batch 10 - loss 2.07327938079834 - precision 0.015363438054919243 - recall 0.01570981554687023 - f1 0.01233486458659172 - sparse_categorical_accuracy 0.22965960204601288\n",
            "epoch 19 - batch 20 - loss 1.9578068256378174 - precision 0.016606468707323074 - recall 0.016024215146899223 - f1 0.012768230400979519 - sparse_categorical_accuracy 0.23337054252624512\n",
            "epoch 19 - batch 30 - loss 1.9943000078201294 - precision 0.017578212544322014 - recall 0.016009805724024773 - f1 0.01292955782264471 - sparse_categorical_accuracy 0.23462611436843872\n",
            "epoch 19 - batch 40 - loss 2.0881192684173584 - precision 0.018013466149568558 - recall 0.016099635511636734 - f1 0.01307907234877348 - sparse_categorical_accuracy 0.23517020046710968\n",
            "epoch 19 - batch 50 - loss 2.0224997997283936 - precision 0.018598493188619614 - recall 0.016120273619890213 - f1 0.013148789294064045 - sparse_categorical_accuracy 0.23420201241970062\n",
            "epoch 19 - batch 60 - loss 1.9988633394241333 - precision 0.018817506730556488 - recall 0.016067683696746826 - f1 0.013174443505704403 - sparse_categorical_accuracy 0.23329612612724304\n",
            "epoch 19 - batch 70 - loss 2.011226177215576 - precision 0.019222674891352654 - recall 0.016175923869013786 - f1 0.013288936577737331 - sparse_categorical_accuracy 0.23332668840885162\n",
            "epoch 19 - batch 80 - loss 2.0150198936462402 - precision 0.0194264966994524 - recall 0.016110675409436226 - f1 0.013250991702079773 - sparse_categorical_accuracy 0.23336006700992584\n",
            "epoch 19 - batch 90 - loss 1.968972086906433 - precision 0.020187098532915115 - recall 0.01614949479699135 - f1 0.013284473679959774 - sparse_categorical_accuracy 0.23323722183704376\n",
            "epoch 19 - batch 100 - loss 2.011152744293213 - precision 0.02034396305680275 - recall 0.01609833352267742 - f1 0.013284157030284405 - sparse_categorical_accuracy 0.23310546576976776\n",
            "epoch 19 - batch 110 - loss 1.9259356260299683 - precision 0.02086879312992096 - recall 0.016087783500552177 - f1 0.013316702097654343 - sparse_categorical_accuracy 0.2332969754934311\n",
            "epoch 19 training time: 42.507373094558716 sec\n"
          ],
          "name": "stdout"
        },
        {
          "output_type": "stream",
          "text": [
            "\u001b[34m\u001b[1mwandb\u001b[0m: Visualizing heatmap.\n"
          ],
          "name": "stderr"
        },
        {
          "output_type": "stream",
          "text": [
            "epoch 19 evaluation time: 5.563204765319824 sec\n",
            "epoch evaluation:  {'epoch': 19, 'epoch_test_loss': <tf.Tensor: shape=(), dtype=float32, numpy=2.112494>, 'epoch_test_sparse_categorical_accuracy': <tf.Tensor: shape=(), dtype=float32, numpy=0.2279862>, 'epoch_test_precision': <tf.Tensor: shape=(), dtype=float32, numpy=0.017899951>, 'epoch_test_recall': <tf.Tensor: shape=(), dtype=float32, numpy=0.01683007>, 'epoch_test_f1': <tf.Tensor: shape=(), dtype=float32, numpy=0.013591446>}\n"
          ],
          "name": "stdout"
        },
        {
          "output_type": "stream",
          "text": [
            "\u001b[34m\u001b[1mwandb\u001b[0m: Visualizing heatmap.\n",
            "\u001b[34m\u001b[1mwandb\u001b[0m: Visualizing heatmap.\n",
            "\u001b[34m\u001b[1mwandb\u001b[0m: Visualizing heatmap.\n",
            "\u001b[34m\u001b[1mwandb\u001b[0m: Visualizing heatmap.\n",
            "\u001b[34m\u001b[1mwandb\u001b[0m: Visualizing heatmap.\n",
            "\u001b[34m\u001b[1mwandb\u001b[0m: Visualizing heatmap.\n",
            "\u001b[34m\u001b[1mwandb\u001b[0m: Visualizing heatmap.\n",
            "\u001b[34m\u001b[1mwandb\u001b[0m: Visualizing heatmap.\n",
            "\u001b[34m\u001b[1mwandb\u001b[0m: Visualizing heatmap.\n"
          ],
          "name": "stderr"
        },
        {
          "output_type": "stream",
          "text": [
            "epoch 20 - batch 10 - loss 2.0002119541168213 - precision 0.017359498888254166 - recall 0.01741301268339157 - f1 0.01356242410838604 - sparse_categorical_accuracy 0.23406808078289032\n",
            "epoch 20 - batch 20 - loss 1.999908208847046 - precision 0.018711606040596962 - recall 0.017288904637098312 - f1 0.013805490918457508 - sparse_categorical_accuracy 0.23515625298023224\n",
            "epoch 20 - batch 30 - loss 1.9754995107650757 - precision 0.019749699160456657 - recall 0.01740962639451027 - f1 0.014245180413126945 - sparse_categorical_accuracy 0.23566778004169464\n",
            "epoch 20 - batch 40 - loss 1.956849217414856 - precision 0.020443284884095192 - recall 0.017327403649687767 - f1 0.014371892437338829 - sparse_categorical_accuracy 0.23597237467765808\n",
            "epoch 20 - batch 50 - loss 2.009612560272217 - precision 0.02130884863436222 - recall 0.017436204478144646 - f1 0.014507506974041462 - sparse_categorical_accuracy 0.23626115918159485\n",
            "epoch 20 - batch 60 - loss 1.9927905797958374 - precision 0.021761247888207436 - recall 0.017513055354356766 - f1 0.014627703465521336 - sparse_categorical_accuracy 0.23562127351760864\n",
            "epoch 20 - batch 70 - loss 1.9857083559036255 - precision 0.02207414247095585 - recall 0.017470529302954674 - f1 0.014680263586342335 - sparse_categorical_accuracy 0.23510044813156128\n",
            "epoch 20 - batch 80 - loss 1.9219051599502563 - precision 0.02228148654103279 - recall 0.017499901354312897 - f1 0.014742624945938587 - sparse_categorical_accuracy 0.23541434109210968\n",
            "epoch 20 - batch 90 - loss 1.920719027519226 - precision 0.022320525720715523 - recall 0.01738332025706768 - f1 0.014590890146791935 - sparse_categorical_accuracy 0.23554687201976776\n",
            "epoch 20 - batch 100 - loss 1.886303186416626 - precision 0.022419242188334465 - recall 0.01732930727303028 - f1 0.014572088606655598 - sparse_categorical_accuracy 0.23549386858940125\n",
            "epoch 20 - batch 110 - loss 1.8950936794281006 - precision 0.022689590230584145 - recall 0.017373088747262955 - f1 0.014621476642787457 - sparse_categorical_accuracy 0.23533126711845398\n",
            "epoch 20 training time: 43.20285177230835 sec\n"
          ],
          "name": "stdout"
        },
        {
          "output_type": "stream",
          "text": [
            "\u001b[34m\u001b[1mwandb\u001b[0m: Visualizing heatmap.\n"
          ],
          "name": "stderr"
        },
        {
          "output_type": "stream",
          "text": [
            "epoch 20 evaluation time: 5.58293604850769 sec\n",
            "epoch evaluation:  {'epoch': 20, 'epoch_test_loss': <tf.Tensor: shape=(), dtype=float32, numpy=2.089577>, 'epoch_test_sparse_categorical_accuracy': <tf.Tensor: shape=(), dtype=float32, numpy=0.2316206>, 'epoch_test_precision': <tf.Tensor: shape=(), dtype=float32, numpy=0.019367278>, 'epoch_test_recall': <tf.Tensor: shape=(), dtype=float32, numpy=0.018430455>, 'epoch_test_f1': <tf.Tensor: shape=(), dtype=float32, numpy=0.014757967>}\n"
          ],
          "name": "stdout"
        },
        {
          "output_type": "stream",
          "text": [
            "\u001b[34m\u001b[1mwandb\u001b[0m: Visualizing heatmap.\n",
            "\u001b[34m\u001b[1mwandb\u001b[0m: Visualizing heatmap.\n",
            "\u001b[34m\u001b[1mwandb\u001b[0m: Visualizing heatmap.\n",
            "\u001b[34m\u001b[1mwandb\u001b[0m: Visualizing heatmap.\n",
            "\u001b[34m\u001b[1mwandb\u001b[0m: Visualizing heatmap.\n",
            "\u001b[34m\u001b[1mwandb\u001b[0m: Visualizing heatmap.\n",
            "\u001b[34m\u001b[1mwandb\u001b[0m: Visualizing heatmap.\n",
            "\u001b[34m\u001b[1mwandb\u001b[0m: Visualizing heatmap.\n",
            "\u001b[34m\u001b[1mwandb\u001b[0m: Visualizing heatmap.\n"
          ],
          "name": "stderr"
        },
        {
          "output_type": "stream",
          "text": [
            "epoch 21 - batch 10 - loss 1.9140716791152954 - precision 0.016435842961072922 - recall 0.017831679433584213 - f1 0.013812987133860588 - sparse_categorical_accuracy 0.23724888265132904\n",
            "epoch 21 - batch 20 - loss 2.017590045928955 - precision 0.01920679397881031 - recall 0.01792518049478531 - f1 0.014513778500258923 - sparse_categorical_accuracy 0.23638392984867096\n",
            "epoch 21 - batch 30 - loss 2.032741069793701 - precision 0.020298058167099953 - recall 0.01810467056930065 - f1 0.015024668537080288 - sparse_categorical_accuracy 0.2360956072807312\n",
            "epoch 21 - batch 40 - loss 1.9407918453216553 - precision 0.0216272734105587 - recall 0.01835029199719429 - f1 0.015578123740851879 - sparse_categorical_accuracy 0.23703962564468384\n",
            "epoch 21 - batch 50 - loss 1.9231796264648438 - precision 0.02294822968542576 - recall 0.018709024414420128 - f1 0.01592804118990898 - sparse_categorical_accuracy 0.23695312440395355\n",
            "epoch 21 - batch 60 - loss 1.9519367218017578 - precision 0.02289789356291294 - recall 0.018823133781552315 - f1 0.016054246574640274 - sparse_categorical_accuracy 0.23678851127624512\n",
            "epoch 21 - batch 70 - loss 1.843462586402893 - precision 0.023381046950817108 - recall 0.01894514262676239 - f1 0.01614488661289215 - sparse_categorical_accuracy 0.23738041520118713\n",
            "epoch 21 - batch 80 - loss 1.8660091161727905 - precision 0.02431551180779934 - recall 0.019004277884960175 - f1 0.01617484726011753 - sparse_categorical_accuracy 0.23732560873031616\n",
            "epoch 21 - batch 90 - loss 1.873862385749817 - precision 0.025528060272336006 - recall 0.018994858488440514 - f1 0.016278604045510292 - sparse_categorical_accuracy 0.23758061230182648\n",
            "epoch 21 - batch 100 - loss 2.0731961727142334 - precision 0.025588594377040863 - recall 0.019060524180531502 - f1 0.01633460260927677 - sparse_categorical_accuracy 0.23770368099212646\n",
            "epoch 21 - batch 110 - loss 1.908753514289856 - precision 0.026127392426133156 - recall 0.019214194267988205 - f1 0.01657954230904579 - sparse_categorical_accuracy 0.23804281651973724\n",
            "epoch 21 training time: 43.122381925582886 sec\n"
          ],
          "name": "stdout"
        },
        {
          "output_type": "stream",
          "text": [
            "\u001b[34m\u001b[1mwandb\u001b[0m: Visualizing heatmap.\n"
          ],
          "name": "stderr"
        },
        {
          "output_type": "stream",
          "text": [
            "epoch 21 evaluation time: 5.590165853500366 sec\n",
            "epoch evaluation:  {'epoch': 21, 'epoch_test_loss': <tf.Tensor: shape=(), dtype=float32, numpy=2.0746744>, 'epoch_test_sparse_categorical_accuracy': <tf.Tensor: shape=(), dtype=float32, numpy=0.23364526>, 'epoch_test_precision': <tf.Tensor: shape=(), dtype=float32, numpy=0.023288198>, 'epoch_test_recall': <tf.Tensor: shape=(), dtype=float32, numpy=0.020788621>, 'epoch_test_f1': <tf.Tensor: shape=(), dtype=float32, numpy=0.016940838>}\n"
          ],
          "name": "stdout"
        },
        {
          "output_type": "stream",
          "text": [
            "\u001b[34m\u001b[1mwandb\u001b[0m: Visualizing heatmap.\n",
            "\u001b[34m\u001b[1mwandb\u001b[0m: Visualizing heatmap.\n",
            "\u001b[34m\u001b[1mwandb\u001b[0m: Visualizing heatmap.\n",
            "\u001b[34m\u001b[1mwandb\u001b[0m: Visualizing heatmap.\n",
            "\u001b[34m\u001b[1mwandb\u001b[0m: Visualizing heatmap.\n",
            "\u001b[34m\u001b[1mwandb\u001b[0m: Visualizing heatmap.\n",
            "\u001b[34m\u001b[1mwandb\u001b[0m: Visualizing heatmap.\n",
            "\u001b[34m\u001b[1mwandb\u001b[0m: Visualizing heatmap.\n",
            "\u001b[34m\u001b[1mwandb\u001b[0m: Visualizing heatmap.\n"
          ],
          "name": "stderr"
        },
        {
          "output_type": "stream",
          "text": [
            "epoch 21 saved checkpoint: models/checkpoints/baseline/ckpt-8\n",
            "epoch 22 - batch 10 - loss 1.9055567979812622 - precision 0.021019192412495613 - recall 0.020638668909668922 - f1 0.01662236824631691 - sparse_categorical_accuracy 0.23724888265132904\n",
            "epoch 22 - batch 20 - loss 1.8596869707107544 - precision 0.02273130975663662 - recall 0.0203294325619936 - f1 0.01674257591366768 - sparse_categorical_accuracy 0.2383510023355484\n",
            "epoch 22 - batch 30 - loss 2.0244994163513184 - precision 0.02467481419444084 - recall 0.020507413893938065 - f1 0.017209704965353012 - sparse_categorical_accuracy 0.2391183078289032\n",
            "epoch 22 - batch 40 - loss 1.8935195207595825 - precision 0.025581883266568184 - recall 0.0206206776201725 - f1 0.01764880307018757 - sparse_categorical_accuracy 0.23980887234210968\n",
            "epoch 22 - batch 50 - loss 1.9157582521438599 - precision 0.025687292218208313 - recall 0.020789925009012222 - f1 0.01778740994632244 - sparse_categorical_accuracy 0.23914620280265808\n",
            "epoch 22 - batch 60 - loss 1.9621217250823975 - precision 0.02619660273194313 - recall 0.020880460739135742 - f1 0.017896480858325958 - sparse_categorical_accuracy 0.23987630009651184\n",
            "epoch 22 - batch 70 - loss 1.7495874166488647 - precision 0.026648424565792084 - recall 0.020827991887927055 - f1 0.017944490537047386 - sparse_categorical_accuracy 0.23970025777816772\n",
            "epoch 22 - batch 80 - loss 1.8930999040603638 - precision 0.0273139551281929 - recall 0.020809320732951164 - f1 0.017932303249835968 - sparse_categorical_accuracy 0.23994837701320648\n",
            "epoch 22 - batch 90 - loss 1.9659932851791382 - precision 0.027711089700460434 - recall 0.020854417234659195 - f1 0.01795409992337227 - sparse_categorical_accuracy 0.23982824385166168\n",
            "epoch 22 - batch 100 - loss 1.8557777404785156 - precision 0.028133051469922066 - recall 0.020908014848828316 - f1 0.018063291907310486 - sparse_categorical_accuracy 0.24024274945259094\n",
            "epoch 22 - batch 110 - loss 1.8651342391967773 - precision 0.028140200302004814 - recall 0.020921651273965836 - f1 0.018144208937883377 - sparse_categorical_accuracy 0.24035866558551788\n",
            "epoch 22 training time: 43.475224018096924 sec\n"
          ],
          "name": "stdout"
        },
        {
          "output_type": "stream",
          "text": [
            "\u001b[34m\u001b[1mwandb\u001b[0m: Visualizing heatmap.\n"
          ],
          "name": "stderr"
        },
        {
          "output_type": "stream",
          "text": [
            "epoch 22 evaluation time: 5.586493492126465 sec\n",
            "epoch evaluation:  {'epoch': 22, 'epoch_test_loss': <tf.Tensor: shape=(), dtype=float32, numpy=2.0683541>, 'epoch_test_sparse_categorical_accuracy': <tf.Tensor: shape=(), dtype=float32, numpy=0.23361665>, 'epoch_test_precision': <tf.Tensor: shape=(), dtype=float32, numpy=0.024034826>, 'epoch_test_recall': <tf.Tensor: shape=(), dtype=float32, numpy=0.021241823>, 'epoch_test_f1': <tf.Tensor: shape=(), dtype=float32, numpy=0.017583564>}\n"
          ],
          "name": "stdout"
        },
        {
          "output_type": "stream",
          "text": [
            "\u001b[34m\u001b[1mwandb\u001b[0m: Visualizing heatmap.\n",
            "\u001b[34m\u001b[1mwandb\u001b[0m: Visualizing heatmap.\n",
            "\u001b[34m\u001b[1mwandb\u001b[0m: Visualizing heatmap.\n",
            "\u001b[34m\u001b[1mwandb\u001b[0m: Visualizing heatmap.\n",
            "\u001b[34m\u001b[1mwandb\u001b[0m: Visualizing heatmap.\n",
            "\u001b[34m\u001b[1mwandb\u001b[0m: Visualizing heatmap.\n",
            "\u001b[34m\u001b[1mwandb\u001b[0m: Visualizing heatmap.\n",
            "\u001b[34m\u001b[1mwandb\u001b[0m: Visualizing heatmap.\n",
            "\u001b[34m\u001b[1mwandb\u001b[0m: Visualizing heatmap.\n"
          ],
          "name": "stderr"
        },
        {
          "output_type": "stream",
          "text": [
            "epoch 23 - batch 10 - loss 1.8302326202392578 - precision 0.021810337901115417 - recall 0.02040824107825756 - f1 0.017096128314733505 - sparse_categorical_accuracy 0.23749999701976776\n",
            "epoch 23 - batch 20 - loss 1.9151204824447632 - precision 0.024093376472592354 - recall 0.02115643583238125 - f1 0.017880922183394432 - sparse_categorical_accuracy 0.23888114094734192\n",
            "epoch 23 - batch 30 - loss 2.0619149208068848 - precision 0.02501075528562069 - recall 0.021061647683382034 - f1 0.018102150410413742 - sparse_categorical_accuracy 0.23942522704601288\n",
            "epoch 23 - batch 40 - loss 1.8708096742630005 - precision 0.026276523247361183 - recall 0.021491168066859245 - f1 0.018737439066171646 - sparse_categorical_accuracy 0.2403390109539032\n",
            "epoch 23 - batch 50 - loss 1.798280954360962 - precision 0.02745559625327587 - recall 0.02183007262647152 - f1 0.01916530728340149 - sparse_categorical_accuracy 0.24047991633415222\n",
            "epoch 23 - batch 60 - loss 1.9517953395843506 - precision 0.02771894633769989 - recall 0.022046951577067375 - f1 0.019314667209982872 - sparse_categorical_accuracy 0.2404203861951828\n",
            "epoch 23 - batch 70 - loss 1.9036005735397339 - precision 0.028207486495375633 - recall 0.02228536456823349 - f1 0.01954805478453636 - sparse_categorical_accuracy 0.2408362627029419\n",
            "epoch 23 - batch 80 - loss 1.9209740161895752 - precision 0.029266567900776863 - recall 0.022388651967048645 - f1 0.01968950405716896 - sparse_categorical_accuracy 0.24100865423679352\n",
            "epoch 23 - batch 90 - loss 1.9575525522232056 - precision 0.030002668499946594 - recall 0.022503692656755447 - f1 0.0199184101074934 - sparse_categorical_accuracy 0.24125124514102936\n",
            "epoch 23 - batch 100 - loss 1.8708113431930542 - precision 0.030409693717956543 - recall 0.022541889920830727 - f1 0.02000752091407776 - sparse_categorical_accuracy 0.24141740798950195\n",
            "epoch 23 - batch 110 - loss 1.900093674659729 - precision 0.03071509301662445 - recall 0.022610239684581757 - f1 0.020019056275486946 - sparse_categorical_accuracy 0.24147473275661469\n",
            "epoch 23 training time: 43.113970041275024 sec\n"
          ],
          "name": "stdout"
        },
        {
          "output_type": "stream",
          "text": [
            "\u001b[34m\u001b[1mwandb\u001b[0m: Visualizing heatmap.\n"
          ],
          "name": "stderr"
        },
        {
          "output_type": "stream",
          "text": [
            "epoch 23 evaluation time: 5.587988376617432 sec\n",
            "epoch evaluation:  {'epoch': 23, 'epoch_test_loss': <tf.Tensor: shape=(), dtype=float32, numpy=2.05127>, 'epoch_test_sparse_categorical_accuracy': <tf.Tensor: shape=(), dtype=float32, numpy=0.23649983>, 'epoch_test_precision': <tf.Tensor: shape=(), dtype=float32, numpy=0.025820024>, 'epoch_test_recall': <tf.Tensor: shape=(), dtype=float32, numpy=0.02269383>, 'epoch_test_f1': <tf.Tensor: shape=(), dtype=float32, numpy=0.019168684>}\n"
          ],
          "name": "stdout"
        },
        {
          "output_type": "stream",
          "text": [
            "\u001b[34m\u001b[1mwandb\u001b[0m: Visualizing heatmap.\n",
            "\u001b[34m\u001b[1mwandb\u001b[0m: Visualizing heatmap.\n",
            "\u001b[34m\u001b[1mwandb\u001b[0m: Visualizing heatmap.\n",
            "\u001b[34m\u001b[1mwandb\u001b[0m: Visualizing heatmap.\n",
            "\u001b[34m\u001b[1mwandb\u001b[0m: Visualizing heatmap.\n",
            "\u001b[34m\u001b[1mwandb\u001b[0m: Visualizing heatmap.\n",
            "\u001b[34m\u001b[1mwandb\u001b[0m: Visualizing heatmap.\n",
            "\u001b[34m\u001b[1mwandb\u001b[0m: Visualizing heatmap.\n",
            "\u001b[34m\u001b[1mwandb\u001b[0m: Visualizing heatmap.\n"
          ],
          "name": "stderr"
        },
        {
          "output_type": "stream",
          "text": [
            "epoch 24 - batch 10 - loss 1.7832000255584717 - precision 0.02367166057229042 - recall 0.021163364872336388 - f1 0.018177179619669914 - sparse_categorical_accuracy 0.24294084310531616\n",
            "epoch 24 - batch 20 - loss 1.816430926322937 - precision 0.02751833386719227 - recall 0.023482050746679306 - f1 0.020158926025032997 - sparse_categorical_accuracy 0.24282924830913544\n",
            "epoch 24 - batch 30 - loss 1.8304919004440308 - precision 0.028849110007286072 - recall 0.023519055917859077 - f1 0.020480500534176826 - sparse_categorical_accuracy 0.24310825765132904\n",
            "epoch 24 - batch 40 - loss 1.7785272598266602 - precision 0.02962123043835163 - recall 0.0235456470400095 - f1 0.02072450891137123 - sparse_categorical_accuracy 0.24355468153953552\n",
            "epoch 24 - batch 50 - loss 1.8892326354980469 - precision 0.031247202306985855 - recall 0.024051275104284286 - f1 0.021191729232668877 - sparse_categorical_accuracy 0.24318638443946838\n",
            "epoch 24 - batch 60 - loss 1.8996832370758057 - precision 0.031204745173454285 - recall 0.024114415049552917 - f1 0.021230021491646767 - sparse_categorical_accuracy 0.24334542453289032\n",
            "epoch 24 - batch 70 - loss 1.7680233716964722 - precision 0.03230483829975128 - recall 0.02451239340007305 - f1 0.021654022857546806 - sparse_categorical_accuracy 0.24293287098407745\n",
            "epoch 24 - batch 80 - loss 1.9210232496261597 - precision 0.03321158513426781 - recall 0.024530557915568352 - f1 0.02178182452917099 - sparse_categorical_accuracy 0.24288852512836456\n",
            "epoch 24 - batch 90 - loss 1.8464609384536743 - precision 0.03398570418357849 - recall 0.024645522236824036 - f1 0.021978143602609634 - sparse_categorical_accuracy 0.24314546585083008\n",
            "epoch 24 - batch 100 - loss 1.797608494758606 - precision 0.03457368537783623 - recall 0.024552589282393456 - f1 0.021992281079292297 - sparse_categorical_accuracy 0.24327288568019867\n",
            "epoch 24 - batch 110 - loss 1.8375120162963867 - precision 0.03514106944203377 - recall 0.024641113355755806 - f1 0.02211289294064045 - sparse_categorical_accuracy 0.2436409294605255\n",
            "epoch 24 training time: 42.864829301834106 sec\n"
          ],
          "name": "stdout"
        },
        {
          "output_type": "stream",
          "text": [
            "\u001b[34m\u001b[1mwandb\u001b[0m: Visualizing heatmap.\n"
          ],
          "name": "stderr"
        },
        {
          "output_type": "stream",
          "text": [
            "epoch 24 evaluation time: 5.552903413772583 sec\n",
            "epoch evaluation:  {'epoch': 24, 'epoch_test_loss': <tf.Tensor: shape=(), dtype=float32, numpy=2.0527627>, 'epoch_test_sparse_categorical_accuracy': <tf.Tensor: shape=(), dtype=float32, numpy=0.23498312>, 'epoch_test_precision': <tf.Tensor: shape=(), dtype=float32, numpy=0.027164252>, 'epoch_test_recall': <tf.Tensor: shape=(), dtype=float32, numpy=0.023883153>, 'epoch_test_f1': <tf.Tensor: shape=(), dtype=float32, numpy=0.019859148>}\n"
          ],
          "name": "stdout"
        },
        {
          "output_type": "stream",
          "text": [
            "\u001b[34m\u001b[1mwandb\u001b[0m: Visualizing heatmap.\n",
            "\u001b[34m\u001b[1mwandb\u001b[0m: Visualizing heatmap.\n",
            "\u001b[34m\u001b[1mwandb\u001b[0m: Visualizing heatmap.\n",
            "\u001b[34m\u001b[1mwandb\u001b[0m: Visualizing heatmap.\n",
            "\u001b[34m\u001b[1mwandb\u001b[0m: Visualizing heatmap.\n",
            "\u001b[34m\u001b[1mwandb\u001b[0m: Visualizing heatmap.\n",
            "\u001b[34m\u001b[1mwandb\u001b[0m: Visualizing heatmap.\n",
            "\u001b[34m\u001b[1mwandb\u001b[0m: Visualizing heatmap.\n",
            "\u001b[34m\u001b[1mwandb\u001b[0m: Visualizing heatmap.\n"
          ],
          "name": "stderr"
        },
        {
          "output_type": "stream",
          "text": [
            "epoch 24 saved checkpoint: models/checkpoints/baseline/ckpt-9\n",
            "epoch 25 - batch 10 - loss 1.8116103410720825 - precision 0.024563370272517204 - recall 0.021997570991516113 - f1 0.018564807251095772 - sparse_categorical_accuracy 0.2416294664144516\n",
            "epoch 25 - batch 20 - loss 1.8441451787948608 - precision 0.028697019442915916 - recall 0.02444620430469513 - f1 0.02108096331357956 - sparse_categorical_accuracy 0.24362444877624512\n",
            "epoch 25 - batch 30 - loss 1.8815268278121948 - precision 0.03161069378256798 - recall 0.025292091071605682 - f1 0.022136835381388664 - sparse_categorical_accuracy 0.24435454607009888\n",
            "epoch 25 - batch 40 - loss 1.8673632144927979 - precision 0.033496253192424774 - recall 0.025618279352784157 - f1 0.022913891822099686 - sparse_categorical_accuracy 0.2450823038816452\n",
            "epoch 25 - batch 50 - loss 1.8937957286834717 - precision 0.033888962119817734 - recall 0.026006018742918968 - f1 0.023259956389665604 - sparse_categorical_accuracy 0.2451171875\n",
            "epoch 25 - batch 60 - loss 1.927984356880188 - precision 0.03460640460252762 - recall 0.025994963943958282 - f1 0.023270247504115105 - sparse_categorical_accuracy 0.24503813683986664\n",
            "epoch 25 - batch 70 - loss 1.8060942888259888 - precision 0.035746730864048004 - recall 0.02635430358350277 - f1 0.023792803287506104 - sparse_categorical_accuracy 0.24548788368701935\n",
            "epoch 25 - batch 80 - loss 1.8307151794433594 - precision 0.036349158734083176 - recall 0.026244454085826874 - f1 0.02372092753648758 - sparse_categorical_accuracy 0.24554617702960968\n",
            "epoch 25 - batch 90 - loss 1.8538764715194702 - precision 0.03676513582468033 - recall 0.02639457769691944 - f1 0.023940371349453926 - sparse_categorical_accuracy 0.24560081958770752\n",
            "epoch 25 - batch 100 - loss 1.9012972116470337 - precision 0.037497084587812424 - recall 0.02649138867855072 - f1 0.024162806570529938 - sparse_categorical_accuracy 0.24596260488033295\n",
            "epoch 25 - batch 110 - loss 1.9377638101577759 - precision 0.03874564543366432 - recall 0.026707584038376808 - f1 0.024429824203252792 - sparse_categorical_accuracy 0.2456270307302475\n",
            "epoch 25 training time: 42.58130764961243 sec\n"
          ],
          "name": "stdout"
        },
        {
          "output_type": "stream",
          "text": [
            "\u001b[34m\u001b[1mwandb\u001b[0m: Visualizing heatmap.\n"
          ],
          "name": "stderr"
        },
        {
          "output_type": "stream",
          "text": [
            "epoch 25 evaluation time: 5.6209986209869385 sec\n",
            "epoch evaluation:  {'epoch': 25, 'epoch_test_loss': <tf.Tensor: shape=(), dtype=float32, numpy=2.0465825>, 'epoch_test_sparse_categorical_accuracy': <tf.Tensor: shape=(), dtype=float32, numpy=0.23766598>, 'epoch_test_precision': <tf.Tensor: shape=(), dtype=float32, numpy=0.031478256>, 'epoch_test_recall': <tf.Tensor: shape=(), dtype=float32, numpy=0.025963198>, 'epoch_test_f1': <tf.Tensor: shape=(), dtype=float32, numpy=0.022247516>}\n"
          ],
          "name": "stdout"
        },
        {
          "output_type": "stream",
          "text": [
            "\u001b[34m\u001b[1mwandb\u001b[0m: Visualizing heatmap.\n",
            "\u001b[34m\u001b[1mwandb\u001b[0m: Visualizing heatmap.\n",
            "\u001b[34m\u001b[1mwandb\u001b[0m: Visualizing heatmap.\n",
            "\u001b[34m\u001b[1mwandb\u001b[0m: Visualizing heatmap.\n",
            "\u001b[34m\u001b[1mwandb\u001b[0m: Visualizing heatmap.\n",
            "\u001b[34m\u001b[1mwandb\u001b[0m: Visualizing heatmap.\n",
            "\u001b[34m\u001b[1mwandb\u001b[0m: Visualizing heatmap.\n",
            "\u001b[34m\u001b[1mwandb\u001b[0m: Visualizing heatmap.\n",
            "\u001b[34m\u001b[1mwandb\u001b[0m: Visualizing heatmap.\n"
          ],
          "name": "stderr"
        },
        {
          "output_type": "stream",
          "text": [
            "Saving checkpoint...\n",
            "Saved checkpoint: models/checkpoints/baseline/ckpt-10\n",
            "Done saving model\n"
          ],
          "name": "stdout"
        }
      ]
    }
  ]
}