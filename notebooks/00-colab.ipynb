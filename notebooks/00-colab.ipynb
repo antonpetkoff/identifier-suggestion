{
  "nbformat": 4,
  "nbformat_minor": 0,
  "metadata": {
    "kernelspec": {
      "display_name": "Python 3",
      "language": "python",
      "name": "python3"
    },
    "language_info": {
      "codemirror_mode": {
        "name": "ipython",
        "version": 3
      },
      "file_extension": ".py",
      "mimetype": "text/x-python",
      "name": "python",
      "nbconvert_exporter": "python",
      "pygments_lexer": "ipython3",
      "version": "3.7.3"
    },
    "colab": {
      "name": "00-colab.ipynb",
      "provenance": [],
      "include_colab_link": true
    },
    "accelerator": "GPU"
  },
  "cells": [
    {
      "cell_type": "markdown",
      "metadata": {
        "id": "view-in-github",
        "colab_type": "text"
      },
      "source": [
        "<a href=\"https://colab.research.google.com/github/antonpetkoff/identifier-suggestion/blob/master/notebooks/00-colab.ipynb\" target=\"_parent\"><img src=\"https://colab.research.google.com/assets/colab-badge.svg\" alt=\"Open In Colab\"/></a>"
      ]
    },
    {
      "cell_type": "code",
      "metadata": {
        "id": "WeJd9knlVGS_",
        "colab_type": "code",
        "colab": {}
      },
      "source": [
        "# import utilities\n",
        "import os\n",
        "import shutil\n",
        "from subprocess import check_output"
      ],
      "execution_count": 0,
      "outputs": []
    },
    {
      "cell_type": "code",
      "metadata": {
        "id": "ntLDgQhocMeE",
        "colab_type": "code",
        "outputId": "7d13eb61-fa88-4391-d252-1f9c343480df",
        "colab": {
          "base_uri": "https://localhost:8080/",
          "height": 326
        }
      },
      "source": [
        "!nvidia-smi"
      ],
      "execution_count": 2,
      "outputs": [
        {
          "output_type": "stream",
          "text": [
            "Tue May 26 17:17:56 2020       \n",
            "+-----------------------------------------------------------------------------+\n",
            "| NVIDIA-SMI 440.82       Driver Version: 418.67       CUDA Version: 10.1     |\n",
            "|-------------------------------+----------------------+----------------------+\n",
            "| GPU  Name        Persistence-M| Bus-Id        Disp.A | Volatile Uncorr. ECC |\n",
            "| Fan  Temp  Perf  Pwr:Usage/Cap|         Memory-Usage | GPU-Util  Compute M. |\n",
            "|===============================+======================+======================|\n",
            "|   0  Tesla P100-PCIE...  Off  | 00000000:00:04.0 Off |                    0 |\n",
            "| N/A   31C    P0    25W / 250W |      0MiB / 16280MiB |      0%      Default |\n",
            "+-------------------------------+----------------------+----------------------+\n",
            "                                                                               \n",
            "+-----------------------------------------------------------------------------+\n",
            "| Processes:                                                       GPU Memory |\n",
            "|  GPU       PID   Type   Process name                             Usage      |\n",
            "|=============================================================================|\n",
            "|  No running processes found                                                 |\n",
            "+-----------------------------------------------------------------------------+\n"
          ],
          "name": "stdout"
        }
      ]
    },
    {
      "cell_type": "code",
      "metadata": {
        "id": "Z_PqX9NDdEJh",
        "colab_type": "code",
        "outputId": "e9181d4f-7b85-4770-da70-69e3d93342ce",
        "colab": {
          "base_uri": "https://localhost:8080/",
          "height": 128
        }
      },
      "source": [
        "from google.colab import drive\n",
        "drive.mount('/content/gdrive')"
      ],
      "execution_count": 3,
      "outputs": [
        {
          "output_type": "stream",
          "text": [
            "Go to this URL in a browser: https://accounts.google.com/o/oauth2/auth?client_id=947318989803-6bn6qk8qdgf4n4g3pfee6491hc0brc4i.apps.googleusercontent.com&redirect_uri=urn%3aietf%3awg%3aoauth%3a2.0%3aoob&response_type=code&scope=email%20https%3a%2f%2fwww.googleapis.com%2fauth%2fdocs.test%20https%3a%2f%2fwww.googleapis.com%2fauth%2fdrive%20https%3a%2f%2fwww.googleapis.com%2fauth%2fdrive.photos.readonly%20https%3a%2f%2fwww.googleapis.com%2fauth%2fpeopleapi.readonly\n",
            "\n",
            "Enter your authorization code:\n",
            "··········\n",
            "Mounted at /content/gdrive\n"
          ],
          "name": "stdout"
        }
      ]
    },
    {
      "cell_type": "code",
      "metadata": {
        "id": "Dvcl4iohdWEi",
        "colab_type": "code",
        "outputId": "09447f06-613b-473d-d58d-de29cf550bcf",
        "colab": {
          "base_uri": "https://localhost:8080/",
          "height": 54
        }
      },
      "source": [
        "%env WORKSPACE_DIR=/content/gdrive/My Drive/src\n",
        "\n",
        "# TODO: how can one read an environment variable?!?\n",
        "%cd '/content/gdrive/My Drive/src'"
      ],
      "execution_count": 4,
      "outputs": [
        {
          "output_type": "stream",
          "text": [
            "env: WORKSPACE_DIR=/content/gdrive/My Drive/src\n",
            "/content/gdrive/My Drive/src\n"
          ],
          "name": "stdout"
        }
      ]
    },
    {
      "cell_type": "code",
      "metadata": {
        "id": "vNR4ZqljgeyP",
        "colab_type": "code",
        "colab": {}
      },
      "source": [
        "timestamp = check_output(['date', '-u', \"+%Y-%m-%dT%H-%M-%S\"]).decode('utf-8').strip()\n",
        "\n",
        "os.environ['PROJECT_DIR'] = os.path.join(\n",
        "    os.environ['WORKSPACE_DIR'],\n",
        "    f'identifier-suggestion-{timestamp}',\n",
        ")"
      ],
      "execution_count": 0,
      "outputs": []
    },
    {
      "cell_type": "code",
      "metadata": {
        "id": "9PoI39h1dEJ0",
        "colab_type": "code",
        "outputId": "70b71f43-d577-457a-cd81-4004e13b2456",
        "colab": {
          "base_uri": "https://localhost:8080/",
          "height": 126
        }
      },
      "source": [
        "!git clone https://github.com/antonpetkoff/identifier-suggestion.git --depth 1 \"${PROJECT_DIR}\""
      ],
      "execution_count": 6,
      "outputs": [
        {
          "output_type": "stream",
          "text": [
            "Cloning into '/content/gdrive/My Drive/src/identifier-suggestion-2020-05-26T17-18-20'...\n",
            "remote: Enumerating objects: 67, done.\u001b[K\n",
            "remote: Counting objects: 100% (67/67), done.\u001b[K\n",
            "remote: Compressing objects: 100% (60/60), done.\u001b[K\n",
            "remote: Total 67 (delta 0), reused 41 (delta 0), pack-reused 0\u001b[K\n",
            "Unpacking objects: 100% (67/67), done.\n"
          ],
          "name": "stdout"
        }
      ]
    },
    {
      "cell_type": "code",
      "metadata": {
        "id": "mki1yqMgixt1",
        "colab_type": "code",
        "colab": {}
      },
      "source": [
        "os.chdir(os.environ['PROJECT_DIR'])"
      ],
      "execution_count": 0,
      "outputs": []
    },
    {
      "cell_type": "code",
      "metadata": {
        "id": "4HjKIGx4i2dr",
        "colab_type": "code",
        "outputId": "af6b5b69-2f27-4519-d9d9-0cde0ea4a727",
        "colab": {
          "base_uri": "https://localhost:8080/",
          "height": 145
        }
      },
      "source": [
        "!pwd\n",
        "!ls -l"
      ],
      "execution_count": 8,
      "outputs": [
        {
          "output_type": "stream",
          "text": [
            "/content/gdrive/My Drive/src/identifier-suggestion-2020-05-26T17-18-20\n",
            "total 55\n",
            "-rw-------  1 root root 35149 May 26 17:18 LICENSE\n",
            "drwx------  2 root root  4096 May 26 17:18 notebooks\n",
            "-rw-------  1 root root  8695 May 26 17:18 README.md\n",
            "drwx------  2 root root  4096 May 26 17:18 requirements\n",
            "drwx------ 11 root root  4096 May 26 17:18 src\n"
          ],
          "name": "stdout"
        }
      ]
    },
    {
      "cell_type": "code",
      "metadata": {
        "id": "JCr-lrn4SRhW",
        "colab_type": "code",
        "outputId": "2ca045b6-18cf-4f48-ba34-30285c94d71c",
        "colab": {
          "base_uri": "https://localhost:8080/",
          "height": 35
        }
      },
      "source": [
        "%tensorflow_version 2.x\n",
        "\n",
        "import tensorflow\n",
        "print(tensorflow.__version__)"
      ],
      "execution_count": 9,
      "outputs": [
        {
          "output_type": "stream",
          "text": [
            "2.2.0\n"
          ],
          "name": "stdout"
        }
      ]
    },
    {
      "cell_type": "code",
      "metadata": {
        "id": "4M7BkvE4dEJ-",
        "colab_type": "code",
        "outputId": "78699fbc-7490-43fa-dc50-9048f5d77c77",
        "colab": {
          "base_uri": "https://localhost:8080/",
          "height": 1000
        }
      },
      "source": [
        "# Google Colab has standard libraries like numpy, pandas, matplotlib and TF (of course) pre-installed\n",
        "!pip install -r requirements/colab.txt"
      ],
      "execution_count": 10,
      "outputs": [
        {
          "output_type": "stream",
          "text": [
            "Collecting javalang==0.13.0\n",
            "  Downloading https://files.pythonhosted.org/packages/cb/e0/12344443d66b9a84844171be90112892a371da6db09866741774b8bc0a2f/javalang-0.13.0-py3-none-any.whl\n",
            "Collecting python-dotenv==0.13.0\n",
            "  Downloading https://files.pythonhosted.org/packages/cb/2a/07f87440444fdf2c5870a710b6770d766a1c7df9c827b0c90e807f1fb4c5/python_dotenv-0.13.0-py2.py3-none-any.whl\n",
            "Collecting wandb==0.8.35\n",
            "\u001b[?25l  Downloading https://files.pythonhosted.org/packages/2d/c9/ebbcefa6ef2ba14a7c62a4ee4415a5fecef8fac5e4d1b4e22af26fd9fe22/wandb-0.8.35-py2.py3-none-any.whl (1.4MB)\n",
            "\u001b[K     |████████████████████████████████| 1.4MB 9.0MB/s \n",
            "\u001b[?25hCollecting tables==3.6.1\n",
            "\u001b[?25l  Downloading https://files.pythonhosted.org/packages/ed/c3/8fd9e3bb21872f9d69eb93b3014c86479864cca94e625fd03713ccacec80/tables-3.6.1-cp36-cp36m-manylinux1_x86_64.whl (4.3MB)\n",
            "\u001b[K     |████████████████████████████████| 4.3MB 31.1MB/s \n",
            "\u001b[?25hRequirement already satisfied: six in /usr/local/lib/python3.6/dist-packages (from javalang==0.13.0->-r requirements/colab.txt (line 1)) (1.12.0)\n",
            "Collecting GitPython>=1.0.0\n",
            "\u001b[?25l  Downloading https://files.pythonhosted.org/packages/44/33/917e6fde1cad13daa7053f39b7c8af3be287314f75f1b1ea8d3fe37a8571/GitPython-3.1.2-py3-none-any.whl (451kB)\n",
            "\u001b[K     |████████████████████████████████| 460kB 52.9MB/s \n",
            "\u001b[?25hCollecting shortuuid>=0.5.0\n",
            "  Downloading https://files.pythonhosted.org/packages/25/a6/2ecc1daa6a304e7f1b216f0896b26156b78e7c38e1211e9b798b4716c53d/shortuuid-1.0.1-py3-none-any.whl\n",
            "Collecting sentry-sdk>=0.4.0\n",
            "\u001b[?25l  Downloading https://files.pythonhosted.org/packages/1b/95/9a20eebcedab2c1c63fad59fe19a0469edfc2a25b8576497e8084629c2ff/sentry_sdk-0.14.4-py2.py3-none-any.whl (104kB)\n",
            "\u001b[K     |████████████████████████████████| 112kB 62.6MB/s \n",
            "\u001b[?25hCollecting docker-pycreds>=0.4.0\n",
            "  Downloading https://files.pythonhosted.org/packages/f5/e8/f6bd1eee09314e7e6dee49cbe2c5e22314ccdb38db16c9fc72d2fa80d054/docker_pycreds-0.4.0-py2.py3-none-any.whl\n",
            "Collecting watchdog>=0.8.3\n",
            "\u001b[?25l  Downloading https://files.pythonhosted.org/packages/73/c3/ed6d992006837e011baca89476a4bbffb0a91602432f73bd4473816c76e2/watchdog-0.10.2.tar.gz (95kB)\n",
            "\u001b[K     |████████████████████████████████| 102kB 12.3MB/s \n",
            "\u001b[?25hRequirement already satisfied: Click>=7.0 in /usr/local/lib/python3.6/dist-packages (from wandb==0.8.35->-r requirements/colab.txt (line 3)) (7.1.2)\n",
            "Requirement already satisfied: nvidia-ml-py3>=7.352.0 in /usr/local/lib/python3.6/dist-packages (from wandb==0.8.35->-r requirements/colab.txt (line 3)) (7.352.0)\n",
            "Collecting gql==0.2.0\n",
            "  Downloading https://files.pythonhosted.org/packages/c4/6f/cf9a3056045518f06184e804bae89390eb706168349daa9dff8ac609962a/gql-0.2.0.tar.gz\n",
            "Collecting configparser>=3.8.1\n",
            "  Downloading https://files.pythonhosted.org/packages/4b/6b/01baa293090240cf0562cc5eccb69c6f5006282127f2b846fad011305c79/configparser-5.0.0-py3-none-any.whl\n",
            "Requirement already satisfied: python-dateutil>=2.6.1 in /usr/local/lib/python3.6/dist-packages (from wandb==0.8.35->-r requirements/colab.txt (line 3)) (2.8.1)\n",
            "Requirement already satisfied: requests>=2.0.0 in /usr/local/lib/python3.6/dist-packages (from wandb==0.8.35->-r requirements/colab.txt (line 3)) (2.23.0)\n",
            "Requirement already satisfied: PyYAML>=3.10 in /usr/local/lib/python3.6/dist-packages (from wandb==0.8.35->-r requirements/colab.txt (line 3)) (3.13)\n",
            "Collecting subprocess32>=3.5.3\n",
            "\u001b[?25l  Downloading https://files.pythonhosted.org/packages/32/c8/564be4d12629b912ea431f1a50eb8b3b9d00f1a0b1ceff17f266be190007/subprocess32-3.5.4.tar.gz (97kB)\n",
            "\u001b[K     |████████████████████████████████| 102kB 13.6MB/s \n",
            "\u001b[?25hRequirement already satisfied: psutil>=5.0.0 in /usr/local/lib/python3.6/dist-packages (from wandb==0.8.35->-r requirements/colab.txt (line 3)) (5.4.8)\n",
            "Requirement already satisfied: numpy>=1.9.3 in /usr/local/lib/python3.6/dist-packages (from tables==3.6.1->-r requirements/colab.txt (line 4)) (1.18.4)\n",
            "Requirement already satisfied: numexpr>=2.6.2 in /usr/local/lib/python3.6/dist-packages (from tables==3.6.1->-r requirements/colab.txt (line 4)) (2.7.1)\n",
            "Collecting gitdb<5,>=4.0.1\n",
            "\u001b[?25l  Downloading https://files.pythonhosted.org/packages/48/11/d1800bca0a3bae820b84b7d813ad1eff15a48a64caea9c823fc8c1b119e8/gitdb-4.0.5-py3-none-any.whl (63kB)\n",
            "\u001b[K     |████████████████████████████████| 71kB 10.4MB/s \n",
            "\u001b[?25hRequirement already satisfied: certifi in /usr/local/lib/python3.6/dist-packages (from sentry-sdk>=0.4.0->wandb==0.8.35->-r requirements/colab.txt (line 3)) (2020.4.5.1)\n",
            "Requirement already satisfied: urllib3>=1.10.0 in /usr/local/lib/python3.6/dist-packages (from sentry-sdk>=0.4.0->wandb==0.8.35->-r requirements/colab.txt (line 3)) (1.24.3)\n",
            "Collecting pathtools>=0.1.1\n",
            "  Downloading https://files.pythonhosted.org/packages/e7/7f/470d6fcdf23f9f3518f6b0b76be9df16dcc8630ad409947f8be2eb0ed13a/pathtools-0.1.2.tar.gz\n",
            "Collecting graphql-core<2,>=0.5.0\n",
            "\u001b[?25l  Downloading https://files.pythonhosted.org/packages/b0/89/00ad5e07524d8c523b14d70c685e0299a8b0de6d0727e368c41b89b7ed0b/graphql-core-1.1.tar.gz (70kB)\n",
            "\u001b[K     |████████████████████████████████| 71kB 10.0MB/s \n",
            "\u001b[?25hRequirement already satisfied: promise<3,>=2.0 in /usr/local/lib/python3.6/dist-packages (from gql==0.2.0->wandb==0.8.35->-r requirements/colab.txt (line 3)) (2.3)\n",
            "Requirement already satisfied: chardet<4,>=3.0.2 in /usr/local/lib/python3.6/dist-packages (from requests>=2.0.0->wandb==0.8.35->-r requirements/colab.txt (line 3)) (3.0.4)\n",
            "Requirement already satisfied: idna<3,>=2.5 in /usr/local/lib/python3.6/dist-packages (from requests>=2.0.0->wandb==0.8.35->-r requirements/colab.txt (line 3)) (2.9)\n",
            "Collecting smmap<4,>=3.0.1\n",
            "  Downloading https://files.pythonhosted.org/packages/b0/9a/4d409a6234eb940e6a78dfdfc66156e7522262f5f2fecca07dc55915952d/smmap-3.0.4-py2.py3-none-any.whl\n",
            "Building wheels for collected packages: watchdog, gql, subprocess32, pathtools, graphql-core\n",
            "  Building wheel for watchdog (setup.py) ... \u001b[?25l\u001b[?25hdone\n",
            "  Created wheel for watchdog: filename=watchdog-0.10.2-cp36-none-any.whl size=73605 sha256=58d5758215ed5fe4ccdf564dadfdc399741ff8ea82c4df8bd9a047176d4f47b8\n",
            "  Stored in directory: /root/.cache/pip/wheels/bc/ed/6c/028dea90d31b359cd2a7c8b0da4db80e41d24a59614154072e\n",
            "  Building wheel for gql (setup.py) ... \u001b[?25l\u001b[?25hdone\n",
            "  Created wheel for gql: filename=gql-0.2.0-cp36-none-any.whl size=7630 sha256=3b74406c67e5fc65fb539b0af920af36c00e8f084374f54f1b1443172ae811e9\n",
            "  Stored in directory: /root/.cache/pip/wheels/ce/0e/7b/58a8a5268655b3ad74feef5aa97946f0addafb3cbb6bd2da23\n",
            "  Building wheel for subprocess32 (setup.py) ... \u001b[?25l\u001b[?25hdone\n",
            "  Created wheel for subprocess32: filename=subprocess32-3.5.4-cp36-none-any.whl size=6489 sha256=c9f384c9c6009e872ebc993f92005aafb223d75e2bf0756fe420eee160dd10f9\n",
            "  Stored in directory: /root/.cache/pip/wheels/68/39/1a/5e402bdfdf004af1786c8b853fd92f8c4a04f22aad179654d1\n",
            "  Building wheel for pathtools (setup.py) ... \u001b[?25l\u001b[?25hdone\n",
            "  Created wheel for pathtools: filename=pathtools-0.1.2-cp36-none-any.whl size=8784 sha256=f977d660df67d69699080cf7a197516f82788086dc2bc966e4f3901a5f3a3a6c\n",
            "  Stored in directory: /root/.cache/pip/wheels/0b/04/79/c3b0c3a0266a3cb4376da31e5bfe8bba0c489246968a68e843\n",
            "  Building wheel for graphql-core (setup.py) ... \u001b[?25l\u001b[?25hdone\n",
            "  Created wheel for graphql-core: filename=graphql_core-1.1-cp36-none-any.whl size=104650 sha256=86c2ddb079357654a0b49c051823919514d3314a5c1d0f629a6e4f0ce3356212\n",
            "  Stored in directory: /root/.cache/pip/wheels/45/99/d7/c424029bb0fe910c63b68dbf2aa20d3283d023042521bcd7d5\n",
            "Successfully built watchdog gql subprocess32 pathtools graphql-core\n",
            "Installing collected packages: javalang, python-dotenv, smmap, gitdb, GitPython, shortuuid, sentry-sdk, docker-pycreds, pathtools, watchdog, graphql-core, gql, configparser, subprocess32, wandb, tables\n",
            "  Found existing installation: tables 3.4.4\n",
            "    Uninstalling tables-3.4.4:\n",
            "      Successfully uninstalled tables-3.4.4\n",
            "Successfully installed GitPython-3.1.2 configparser-5.0.0 docker-pycreds-0.4.0 gitdb-4.0.5 gql-0.2.0 graphql-core-1.1 javalang-0.13.0 pathtools-0.1.2 python-dotenv-0.13.0 sentry-sdk-0.14.4 shortuuid-1.0.1 smmap-3.0.4 subprocess32-3.5.4 tables-3.6.1 wandb-0.8.35 watchdog-0.10.2\n"
          ],
          "name": "stdout"
        }
      ]
    },
    {
      "cell_type": "code",
      "metadata": {
        "id": "ASrqt3o4TP5E",
        "colab_type": "code",
        "outputId": "d2330039-59e4-48fe-f3bf-fa372daca541",
        "colab": {
          "base_uri": "https://localhost:8080/",
          "height": 35
        }
      },
      "source": [
        "# provide secrets to the project, e.g. access to wandb\n",
        "shutil.copy(\n",
        "    os.path.join(os.environ['WORKSPACE_DIR'], 'secrets/.env'),\n",
        "    os.environ['PROJECT_DIR']\n",
        ")"
      ],
      "execution_count": 11,
      "outputs": [
        {
          "output_type": "execute_result",
          "data": {
            "text/plain": [
              "'/content/gdrive/My Drive/src/identifier-suggestion-2020-05-26T17-18-20/.env'"
            ]
          },
          "metadata": {
            "tags": []
          },
          "execution_count": 11
        }
      ]
    },
    {
      "cell_type": "code",
      "metadata": {
        "id": "VBhbZ4muuveC",
        "colab_type": "code",
        "colab": {}
      },
      "source": [
        "# monkey-patch (mock) os.symlink to be a noop, because wandb.save() uses it, but it is not supported by Google Colab Notebooks\n",
        "os.symlink = lambda *x: print('Executing mocked noop symlink with arguments', x)"
      ],
      "execution_count": 0,
      "outputs": []
    },
    {
      "cell_type": "code",
      "metadata": {
        "id": "cY3fkLJIm7ja",
        "colab_type": "code",
        "outputId": "a53558a8-d42c-423a-9ef3-23909d746a43",
        "colab": {
          "base_uri": "https://localhost:8080/",
          "height": 1000
        }
      },
      "source": [
        "from argparse import Namespace\n",
        "from src.pipelines.baseline import run\n",
        "\n",
        "params = {\n",
        "  'file_data_raw': '../data/interim/method-names-rich/elasticsearch.csv',\n",
        "  'file_checkpoint_dir': 'models/checkpoints/baseline/',\n",
        "  'dir_preprocessed_data': '../data/interim/preprocessed/',\n",
        "  'max_input_length': 200,\n",
        "  'max_output_length': 8,\n",
        "  'input_vocab_size': 20000,\n",
        "  'input_embedding_dim': 128,\n",
        "  'output_vocab_size': 6000,\n",
        "  'output_embedding_dim': 128,\n",
        "  'latent_dim': 512,\n",
        "  'learning_rate': 0.0001,\n",
        "  'epochs': 50,\n",
        "  'batch_size': 512,\n",
        "  'random_seed': 1,\n",
        "  'eval_averaging': 'macro'\n",
        "}\n",
        "\n",
        "run(Namespace(**params))"
      ],
      "execution_count": 13,
      "outputs": [
        {
          "output_type": "stream",
          "text": [
            "Experiment parameters:  Namespace(batch_size=512, dir_preprocessed_data='../data/interim/preprocessed/', epochs=50, eval_averaging='macro', file_checkpoint_dir='models/checkpoints/baseline/', file_data_raw='../data/interim/method-names-rich/elasticsearch.csv', input_embedding_dim=128, input_vocab_size=20000, latent_dim=512, learning_rate=0.0001, max_input_length=200, max_output_length=8, output_embedding_dim=128, output_vocab_size=6000, random_seed=1)\n"
          ],
          "name": "stdout"
        },
        {
          "output_type": "display_data",
          "data": {
            "text/html": [
              "\n",
              "                Logging results to <a href=\"https://wandb.com\" target=\"_blank\">Weights & Biases</a> <a href=\"https://docs.wandb.com/integrations/jupyter.html\" target=\"_blank\">(Documentation)</a>.<br/>\n",
              "                Project page: <a href=\"https://app.wandb.ai/antonpetkoff/identifier-suggestion\" target=\"_blank\">https://app.wandb.ai/antonpetkoff/identifier-suggestion</a><br/>\n",
              "                Run page: <a href=\"https://app.wandb.ai/antonpetkoff/identifier-suggestion/runs/3ukbu751\" target=\"_blank\">https://app.wandb.ai/antonpetkoff/identifier-suggestion/runs/3ukbu751</a><br/>\n",
              "            "
            ],
            "text/plain": [
              "<IPython.core.display.HTML object>"
            ]
          },
          "metadata": {
            "tags": []
          }
        },
        {
          "output_type": "stream",
          "text": [
            "\u001b[34m\u001b[1mwandb\u001b[0m: Wandb version 0.8.36 is available!  To upgrade, please run:\n",
            "\u001b[34m\u001b[1mwandb\u001b[0m:  $ pip install wandb --upgrade\n"
          ],
          "name": "stderr"
        },
        {
          "output_type": "stream",
          "text": [
            "Loading preprocessed files...\n",
            "Loaded input vocabulary.\n",
            "Loaded output vocabulary.\n",
            "Loaded preprocessed files.\n",
            "Model: \"encoder\"\n",
            "_________________________________________________________________\n",
            "Layer (type)                 Output Shape              Param #   \n",
            "=================================================================\n",
            "EncoderEmbedding (Embedding) multiple                  2560000   \n",
            "_________________________________________________________________\n",
            "EncoderLSTM (LSTM)           multiple                  1312768   \n",
            "=================================================================\n",
            "Total params: 3,872,768\n",
            "Trainable params: 3,872,768\n",
            "Non-trainable params: 0\n",
            "_________________________________________________________________\n",
            "Model: \"decoder\"\n",
            "_________________________________________________________________\n",
            "Layer (type)                 Output Shape              Param #   \n",
            "=================================================================\n",
            "DecoderEmbedding (Embedding) multiple                  768000    \n",
            "_________________________________________________________________\n",
            "DenseOutput (Dense)          multiple                  3078000   \n",
            "_________________________________________________________________\n",
            "DecoderLSTMCell (LSTMCell)   multiple                  2361344   \n",
            "_________________________________________________________________\n",
            "LuongAttention (LuongAttenti multiple                  262144    \n",
            "_________________________________________________________________\n",
            "attention_wrapper (Attention multiple                  3147776   \n",
            "_________________________________________________________________\n",
            "basic_decoder (BasicDecoder) multiple                  6225776   \n",
            "=================================================================\n",
            "Total params: 6,993,776\n",
            "Trainable params: 6,993,776\n",
            "Non-trainable params: 0\n",
            "_________________________________________________________________\n",
            "Saving checkpoint in wandb\n",
            "Executing mocked noop symlink with arguments ('/content/gdrive/My Drive/src/identifier-suggestion-2020-05-26T17-18-20/models/checkpoints/baseline/config.json', './reports/wandb/run-20200526_171847-3ukbu751/config.json')\n",
            "Done saving model\n",
            "Restored from models/checkpoints/baseline/ckpt-1\n",
            "epoch 1 - batch 10 - loss 3.0257160663604736 - precision 0.001864371937699616 - recall 0.0014263007324188948 - f1 0.0012793593341484666 - sparse_categorical_accuracy 0.12452566623687744\n",
            "epoch 1 - batch 20 - loss 2.7618870735168457 - precision 0.0018639769405126572 - recall 0.0012280979426577687 - f1 0.001112371333874762 - sparse_categorical_accuracy 0.14464285969734192\n",
            "epoch 1 - batch 30 - loss 2.8922581672668457 - precision 0.0018666198011487722 - recall 0.0010536437621340156 - f1 0.0009596129530109465 - sparse_categorical_accuracy 0.15272507071495056\n",
            "epoch 1 - batch 40 - loss 2.8170526027679443 - precision 0.001867192448116839 - recall 0.0009586148080416024 - f1 0.0008533411892130971 - sparse_categorical_accuracy 0.15661272406578064\n",
            "epoch 1 - batch 50 - loss 2.6859869956970215 - precision 0.0018675548490136862 - recall 0.0008036959334276617 - f1 0.0007466707029379904 - sparse_categorical_accuracy 0.15887276828289032\n",
            "epoch 1 - batch 60 - loss 2.750744581222534 - precision 0.0018680710345506668 - recall 0.0006823905277997255 - f1 0.0006390716298483312 - sparse_categorical_accuracy 0.16057942807674408\n",
            "epoch 1 - batch 70 - loss 2.658618211746216 - precision 0.0018680396024137735 - recall 0.0006562141934409738 - f1 0.0005963347502984107 - sparse_categorical_accuracy 0.16151148080825806\n",
            "epoch 1 - batch 80 - loss 2.731344699859619 - precision 0.0018681096844375134 - recall 0.0006322700646705925 - f1 0.000558909960091114 - sparse_categorical_accuracy 0.16236746311187744\n",
            "epoch 1 - batch 90 - loss 2.544428586959839 - precision 0.0018682797672227025 - recall 0.0006216932670213282 - f1 0.0005420328234322369 - sparse_categorical_accuracy 0.16309523582458496\n",
            "epoch 1 - batch 100 - loss 2.527106523513794 - precision 0.0018810841720551252 - recall 0.0006132986745797098 - f1 0.0005247015506029129 - sparse_categorical_accuracy 0.16374999284744263\n",
            "epoch 1 - batch 110 - loss 2.622760772705078 - precision 0.0020435445476323366 - recall 0.0006217630580067635 - f1 0.0005205959314480424 - sparse_categorical_accuracy 0.1642831712961197\n",
            "epoch 1 training time: 49.774821281433105 sec\n",
            "epoch 1 evaluation time: 6.157505750656128 sec\n",
            "epoch evaluation:  {'epoch': 1, 'epoch_test_loss': <tf.Tensor: shape=(), dtype=float32, numpy=2.5855198>, 'epoch_test_sparse_categorical_accuracy': <tf.Tensor: shape=(), dtype=float32, numpy=0.16826208>, 'epoch_test_precision': <tf.Tensor: shape=(), dtype=float32, numpy=7.2212744e-05>, 'epoch_test_recall': <tf.Tensor: shape=(), dtype=float32, numpy=0.0005>, 'epoch_test_f1': <tf.Tensor: shape=(), dtype=float32, numpy=0.00012265371>}\n",
            "epoch 2 - batch 10 - loss 2.5706570148468018 - precision 0.00040425508632324636 - recall 0.0005205750348977745 - f1 0.00015912638627924025 - sparse_categorical_accuracy 0.16763393580913544\n",
            "epoch 2 - batch 20 - loss 2.570592164993286 - precision 0.0007291819201782346 - recall 0.0005935461376793683 - f1 0.000271404831437394 - sparse_categorical_accuracy 0.16848492622375488\n",
            "epoch 2 - batch 30 - loss 2.5118916034698486 - precision 0.0010664592264220119 - recall 0.0007250463822856545 - f1 0.00041801444604061544 - sparse_categorical_accuracy 0.1720145046710968\n",
            "epoch 2 - batch 40 - loss 2.5189273357391357 - precision 0.0013576599303632975 - recall 0.0008577081607654691 - f1 0.0005478544626384974 - sparse_categorical_accuracy 0.17499999701976776\n",
            "epoch 2 - batch 50 - loss 2.6215710639953613 - precision 0.001458522747270763 - recall 0.0010134846670553088 - f1 0.0007266891770996153 - sparse_categorical_accuracy 0.17725446820259094\n",
            "epoch 2 - batch 60 - loss 2.5333774089813232 - precision 0.0019073882140219212 - recall 0.001134827034547925 - f1 0.000871469674166292 - sparse_categorical_accuracy 0.17641368508338928\n",
            "epoch 2 - batch 70 - loss 2.4317095279693604 - precision 0.0017506118165329099 - recall 0.0012180953053757548 - f1 0.0009381973650306463 - sparse_categorical_accuracy 0.1778380125761032\n",
            "epoch 2 - batch 80 - loss 2.4173338413238525 - precision 0.0024051826912909746 - recall 0.0013573388569056988 - f1 0.0010823423508554697 - sparse_categorical_accuracy 0.17986537516117096\n",
            "epoch 2 - batch 90 - loss 2.3415703773498535 - precision 0.002807385753840208 - recall 0.001476293196901679 - f1 0.0011973270447924733 - sparse_categorical_accuracy 0.18180803954601288\n",
            "epoch 2 - batch 100 - loss 2.3628642559051514 - precision 0.0028159471694380045 - recall 0.001597332302480936 - f1 0.0012942854082211852 - sparse_categorical_accuracy 0.18364955484867096\n",
            "epoch 2 - batch 110 - loss 2.363647222518921 - precision 0.003425442613661289 - recall 0.0017675309209153056 - f1 0.0014637031126767397 - sparse_categorical_accuracy 0.18528307974338531\n",
            "epoch 2 training time: 44.94204616546631 sec\n",
            "epoch 2 evaluation time: 6.218380451202393 sec\n",
            "epoch evaluation:  {'epoch': 2, 'epoch_test_loss': <tf.Tensor: shape=(), dtype=float32, numpy=2.3733337>, 'epoch_test_sparse_categorical_accuracy': <tf.Tensor: shape=(), dtype=float32, numpy=0.20218779>, 'epoch_test_precision': <tf.Tensor: shape=(), dtype=float32, numpy=0.0037721759>, 'epoch_test_recall': <tf.Tensor: shape=(), dtype=float32, numpy=0.0035534839>, 'epoch_test_f1': <tf.Tensor: shape=(), dtype=float32, numpy=0.002461407>}\n",
            "epoch 3 - batch 10 - loss 2.3242201805114746 - precision 0.0038016331382095814 - recall 0.003836090676486492 - f1 0.002728820778429508 - sparse_categorical_accuracy 0.2024274617433548\n",
            "epoch 3 - batch 20 - loss 2.287614107131958 - precision 0.004445250611752272 - recall 0.003887140192091465 - f1 0.0027732185553759336 - sparse_categorical_accuracy 0.20332030951976776\n",
            "epoch 3 - batch 30 - loss 2.2492311000823975 - precision 0.005169049836695194 - recall 0.004015540238469839 - f1 0.002907602349296212 - sparse_categorical_accuracy 0.20533853769302368\n",
            "epoch 3 - batch 40 - loss 2.456418991088867 - precision 0.005748783238232136 - recall 0.004047482740134001 - f1 0.0029092279728502035 - sparse_categorical_accuracy 0.2068219929933548\n",
            "epoch 3 - batch 50 - loss 2.446119546890259 - precision 0.005919371731579304 - recall 0.004258360713720322 - f1 0.0031134141609072685 - sparse_categorical_accuracy 0.20709821581840515\n",
            "epoch 3 - batch 60 - loss 2.3169591426849365 - precision 0.006535147782415152 - recall 0.004430477973073721 - f1 0.0033207591623067856 - sparse_categorical_accuracy 0.208054319024086\n",
            "epoch 3 - batch 70 - loss 2.177050828933716 - precision 0.007002761121839285 - recall 0.004586387425661087 - f1 0.0034759067930281162 - sparse_categorical_accuracy 0.20860570669174194\n",
            "epoch 3 - batch 80 - loss 2.2180755138397217 - precision 0.007120336405932903 - recall 0.004810065031051636 - f1 0.0037145763635635376 - sparse_categorical_accuracy 0.20907504856586456\n",
            "epoch 3 - batch 90 - loss 2.2653064727783203 - precision 0.008011985570192337 - recall 0.004976844415068626 - f1 0.00388687988743186 - sparse_categorical_accuracy 0.20971912145614624\n",
            "epoch 3 - batch 100 - loss 2.184704065322876 - precision 0.008440127596259117 - recall 0.005130344536155462 - f1 0.00405085226520896 - sparse_categorical_accuracy 0.21067243814468384\n",
            "epoch 3 - batch 110 - loss 2.3103396892547607 - precision 0.009118272922933102 - recall 0.005321932025253773 - f1 0.00428226450458169 - sparse_categorical_accuracy 0.2111581712961197\n",
            "epoch 3 training time: 45.18668842315674 sec\n",
            "epoch 3 evaluation time: 6.202775955200195 sec\n",
            "epoch evaluation:  {'epoch': 3, 'epoch_test_loss': <tf.Tensor: shape=(), dtype=float32, numpy=2.2402666>, 'epoch_test_sparse_categorical_accuracy': <tf.Tensor: shape=(), dtype=float32, numpy=0.21953698>, 'epoch_test_precision': <tf.Tensor: shape=(), dtype=float32, numpy=0.008307178>, 'epoch_test_recall': <tf.Tensor: shape=(), dtype=float32, numpy=0.0077531147>, 'epoch_test_f1': <tf.Tensor: shape=(), dtype=float32, numpy=0.006282448>}\n",
            "epoch 3 saved checkpoint: models/checkpoints/baseline/ckpt-2\n",
            "epoch 4 - batch 10 - loss 2.8534700870513916 - precision 0.007376580499112606 - recall 0.006355935242027044 - f1 0.005139211192727089 - sparse_categorical_accuracy 0.19469866156578064\n",
            "epoch 4 - batch 20 - loss 2.5157856941223145 - precision 0.007406580727547407 - recall 0.005055489484220743 - f1 0.004161512479186058 - sparse_categorical_accuracy 0.19068080186843872\n",
            "epoch 4 - batch 30 - loss 2.422672748565674 - precision 0.007627999410033226 - recall 0.004783188924193382 - f1 0.003947515040636063 - sparse_categorical_accuracy 0.19021576642990112\n",
            "epoch 4 - batch 40 - loss 2.3418080806732178 - precision 0.008251912891864777 - recall 0.004898739513009787 - f1 0.004026914481073618 - sparse_categorical_accuracy 0.19256417453289032\n",
            "epoch 4 - batch 50 - loss 2.399862051010132 - precision 0.009765313006937504 - recall 0.0051454645581543446 - f1 0.00432299030944705 - sparse_categorical_accuracy 0.19415736198425293\n",
            "epoch 4 - batch 60 - loss 2.2049965858459473 - precision 0.010311338119208813 - recall 0.0053463950753211975 - f1 0.004525512922555208 - sparse_categorical_accuracy 0.19536365568637848\n",
            "epoch 4 - batch 70 - loss 2.2027413845062256 - precision 0.010967845097184181 - recall 0.005536937620490789 - f1 0.004703141748905182 - sparse_categorical_accuracy 0.19687101244926453\n",
            "epoch 4 - batch 80 - loss 2.371185541152954 - precision 0.011228258721530437 - recall 0.0057328795082867146 - f1 0.004878494888544083 - sparse_categorical_accuracy 0.19776785373687744\n",
            "epoch 4 - batch 90 - loss 2.213902711868286 - precision 0.01132582500576973 - recall 0.005904268939048052 - f1 0.0049892691895365715 - sparse_categorical_accuracy 0.19874131679534912\n",
            "epoch 4 - batch 100 - loss 2.2506988048553467 - precision 0.011538264341652393 - recall 0.006059745326638222 - f1 0.005113398656249046 - sparse_categorical_accuracy 0.19959542155265808\n",
            "epoch 4 - batch 110 - loss 2.2405283451080322 - precision 0.012180613353848457 - recall 0.006227434612810612 - f1 0.005314392503350973 - sparse_categorical_accuracy 0.20051999390125275\n",
            "epoch 4 training time: 45.02877140045166 sec\n",
            "epoch 4 evaluation time: 6.181540489196777 sec\n",
            "epoch evaluation:  {'epoch': 4, 'epoch_test_loss': <tf.Tensor: shape=(), dtype=float32, numpy=2.2716377>, 'epoch_test_sparse_categorical_accuracy': <tf.Tensor: shape=(), dtype=float32, numpy=0.2092777>, 'epoch_test_precision': <tf.Tensor: shape=(), dtype=float32, numpy=0.010418916>, 'epoch_test_recall': <tf.Tensor: shape=(), dtype=float32, numpy=0.009567143>, 'epoch_test_f1': <tf.Tensor: shape=(), dtype=float32, numpy=0.007411637>}\n",
            "epoch 5 - batch 10 - loss 2.1794745922088623 - precision 0.010431776754558086 - recall 0.009208261035382748 - f1 0.007449651602655649 - sparse_categorical_accuracy 0.21096539497375488\n",
            "epoch 5 - batch 20 - loss 2.0756795406341553 - precision 0.011418802663683891 - recall 0.00934909749776125 - f1 0.007649823557585478 - sparse_categorical_accuracy 0.21250000596046448\n",
            "epoch 5 - batch 30 - loss 2.238105535507202 - precision 0.012797591276466846 - recall 0.009295091964304447 - f1 0.007747241761535406 - sparse_categorical_accuracy 0.21341146528720856\n",
            "epoch 5 - batch 40 - loss 2.1708595752716064 - precision 0.012913173995912075 - recall 0.00949079915881157 - f1 0.008031048811972141 - sparse_categorical_accuracy 0.21416015923023224\n",
            "epoch 5 - batch 50 - loss 2.1767945289611816 - precision 0.014191213063895702 - recall 0.009693671949207783 - f1 0.008309184573590755 - sparse_categorical_accuracy 0.21422991156578064\n",
            "epoch 5 - batch 60 - loss 2.156515598297119 - precision 0.015593496151268482 - recall 0.009941679425537586 - f1 0.008650630712509155 - sparse_categorical_accuracy 0.21489490568637848\n",
            "epoch 5 - batch 70 - loss 2.083303451538086 - precision 0.016217557713389397 - recall 0.010125719010829926 - f1 0.008872101083397865 - sparse_categorical_accuracy 0.21565689146518707\n",
            "epoch 5 - batch 80 - loss 2.164264678955078 - precision 0.01663769967854023 - recall 0.01029945071786642 - f1 0.009083940647542477 - sparse_categorical_accuracy 0.21594935655593872\n",
            "epoch 5 - batch 90 - loss 2.1652884483337402 - precision 0.01728765293955803 - recall 0.010518556460738182 - f1 0.009323492646217346 - sparse_categorical_accuracy 0.21657055616378784\n",
            "epoch 5 - batch 100 - loss 2.055417776107788 - precision 0.01811196841299534 - recall 0.010837857611477375 - f1 0.009700181894004345 - sparse_categorical_accuracy 0.21717076003551483\n",
            "epoch 5 - batch 110 - loss 2.1580910682678223 - precision 0.019404171034693718 - recall 0.011048570275306702 - f1 0.009957943111658096 - sparse_categorical_accuracy 0.21755529940128326\n",
            "epoch 5 training time: 44.97851634025574 sec\n",
            "epoch 5 evaluation time: 6.173572063446045 sec\n",
            "epoch evaluation:  {'epoch': 5, 'epoch_test_loss': <tf.Tensor: shape=(), dtype=float32, numpy=2.1972406>, 'epoch_test_sparse_categorical_accuracy': <tf.Tensor: shape=(), dtype=float32, numpy=0.22349331>, 'epoch_test_precision': <tf.Tensor: shape=(), dtype=float32, numpy=0.017486477>, 'epoch_test_recall': <tf.Tensor: shape=(), dtype=float32, numpy=0.013749909>, 'epoch_test_f1': <tf.Tensor: shape=(), dtype=float32, numpy=0.011197528>}\n",
            "epoch 6 - batch 10 - loss 2.1525444984436035 - precision 0.013987582176923752 - recall 0.0132813835516572 - f1 0.01096967700868845 - sparse_categorical_accuracy 0.2237723171710968\n",
            "epoch 6 - batch 20 - loss 2.1815078258514404 - precision 0.01661364920437336 - recall 0.013509554788470268 - f1 0.011466496624052525 - sparse_categorical_accuracy 0.22368861734867096\n",
            "epoch 6 - batch 30 - loss 2.0644750595092773 - precision 0.019409216940402985 - recall 0.013836294412612915 - f1 0.01200577337294817 - sparse_categorical_accuracy 0.22492559254169464\n",
            "epoch 6 - batch 40 - loss 2.1797432899475098 - precision 0.02103142999112606 - recall 0.013843121938407421 - f1 0.012178188189864159 - sparse_categorical_accuracy 0.22595563530921936\n",
            "epoch 6 - batch 50 - loss 2.050889492034912 - precision 0.021706530824303627 - recall 0.014233331196010113 - f1 0.012469719164073467 - sparse_categorical_accuracy 0.22635602951049805\n",
            "epoch 6 - batch 60 - loss 2.0545406341552734 - precision 0.023915842175483704 - recall 0.014760678634047508 - f1 0.013266642577946186 - sparse_categorical_accuracy 0.2267020046710968\n",
            "epoch 6 - batch 70 - loss 2.0949103832244873 - precision 0.02475016564130783 - recall 0.015202810987830162 - f1 0.013735596090555191 - sparse_categorical_accuracy 0.22696508467197418\n",
            "epoch 6 - batch 80 - loss 2.080486297607422 - precision 0.025197112932801247 - recall 0.015454589389264584 - f1 0.01400144211947918 - sparse_categorical_accuracy 0.22710658609867096\n",
            "epoch 6 - batch 90 - loss 1.9582914113998413 - precision 0.02695729397237301 - recall 0.01565154828131199 - f1 0.014346065931022167 - sparse_categorical_accuracy 0.2275390625\n",
            "epoch 6 - batch 100 - loss 1.882435917854309 - precision 0.028798358514904976 - recall 0.016192493960261345 - f1 0.01507074385881424 - sparse_categorical_accuracy 0.22807756066322327\n",
            "epoch 6 - batch 110 - loss 2.1301605701446533 - precision 0.0301566943526268 - recall 0.016668999567627907 - f1 0.015591701492667198 - sparse_categorical_accuracy 0.22841669619083405\n",
            "epoch 6 training time: 44.84189701080322 sec\n",
            "epoch 6 evaluation time: 6.172152280807495 sec\n",
            "epoch evaluation:  {'epoch': 6, 'epoch_test_loss': <tf.Tensor: shape=(), dtype=float32, numpy=2.1384876>, 'epoch_test_sparse_categorical_accuracy': <tf.Tensor: shape=(), dtype=float32, numpy=0.23081216>, 'epoch_test_precision': <tf.Tensor: shape=(), dtype=float32, numpy=0.02574707>, 'epoch_test_recall': <tf.Tensor: shape=(), dtype=float32, numpy=0.019330604>, 'epoch_test_f1': <tf.Tensor: shape=(), dtype=float32, numpy=0.016317355>}\n",
            "epoch 6 saved checkpoint: models/checkpoints/baseline/ckpt-3\n",
            "epoch 7 - batch 10 - loss 1.9150378704071045 - precision 0.02231336385011673 - recall 0.01830146089196205 - f1 0.01625896245241165 - sparse_categorical_accuracy 0.22952008247375488\n",
            "epoch 7 - batch 20 - loss 2.002932071685791 - precision 0.026226799935102463 - recall 0.018908118829131126 - f1 0.01710023730993271 - sparse_categorical_accuracy 0.2331891804933548\n",
            "epoch 7 - batch 30 - loss 2.036073684692383 - precision 0.029579762369394302 - recall 0.01954934559762478 - f1 0.017961423844099045 - sparse_categorical_accuracy 0.23317521810531616\n",
            "epoch 7 - batch 40 - loss 2.009690523147583 - precision 0.03245967999100685 - recall 0.020271018147468567 - f1 0.01892133243381977 - sparse_categorical_accuracy 0.23388671875\n",
            "epoch 7 - batch 50 - loss 2.0443286895751953 - precision 0.03320919722318649 - recall 0.020995303988456726 - f1 0.01960037276148796 - sparse_categorical_accuracy 0.23392857611179352\n",
            "epoch 7 - batch 60 - loss 2.0227792263031006 - precision 0.03536711260676384 - recall 0.021467750892043114 - f1 0.02027679979801178 - sparse_categorical_accuracy 0.2343982458114624\n",
            "epoch 7 - batch 70 - loss 1.906502366065979 - precision 0.03769148886203766 - recall 0.0221616942435503 - f1 0.02103538066148758 - sparse_categorical_accuracy 0.23478156328201294\n",
            "epoch 7 - batch 80 - loss 2.0159003734588623 - precision 0.03976639732718468 - recall 0.022578777745366096 - f1 0.02164485864341259 - sparse_categorical_accuracy 0.23469935357570648\n",
            "epoch 7 - batch 90 - loss 1.9752811193466187 - precision 0.040754690766334534 - recall 0.02309550531208515 - f1 0.02215520665049553 - sparse_categorical_accuracy 0.23494853079319\n",
            "epoch 7 - batch 100 - loss 1.9748224020004272 - precision 0.042228251695632935 - recall 0.023519085720181465 - f1 0.02264731004834175 - sparse_categorical_accuracy 0.23526506125926971\n",
            "epoch 7 - batch 110 - loss 2.010773181915283 - precision 0.043864767998456955 - recall 0.02391226217150688 - f1 0.023084403946995735 - sparse_categorical_accuracy 0.23558999598026276\n",
            "epoch 7 training time: 45.38556456565857 sec\n",
            "epoch 7 evaluation time: 6.249262571334839 sec\n",
            "epoch evaluation:  {'epoch': 7, 'epoch_test_loss': <tf.Tensor: shape=(), dtype=float32, numpy=2.0870862>, 'epoch_test_sparse_categorical_accuracy': <tf.Tensor: shape=(), dtype=float32, numpy=0.23658568>, 'epoch_test_precision': <tf.Tensor: shape=(), dtype=float32, numpy=0.0385106>, 'epoch_test_recall': <tf.Tensor: shape=(), dtype=float32, numpy=0.02806001>, 'epoch_test_f1': <tf.Tensor: shape=(), dtype=float32, numpy=0.024343114>}\n",
            "epoch 8 - batch 10 - loss 1.9481279850006104 - precision 0.029922902584075928 - recall 0.023428646847605705 - f1 0.021168839186429977 - sparse_categorical_accuracy 0.2361886203289032\n",
            "epoch 8 - batch 20 - loss 1.8710857629776 - precision 0.036149099469184875 - recall 0.026030974462628365 - f1 0.024181757122278214 - sparse_categorical_accuracy 0.23903459310531616\n",
            "epoch 8 - batch 30 - loss 1.9349130392074585 - precision 0.04179628565907478 - recall 0.026778003200888634 - f1 0.025592561811208725 - sparse_categorical_accuracy 0.23909039795398712\n",
            "epoch 8 - batch 40 - loss 1.9309686422348022 - precision 0.04456743970513344 - recall 0.02796786278486252 - f1 0.02657361514866352 - sparse_categorical_accuracy 0.23998326063156128\n",
            "epoch 8 - batch 50 - loss 1.924250841140747 - precision 0.04645220562815666 - recall 0.0287641491740942 - f1 0.027410395443439484 - sparse_categorical_accuracy 0.23973771929740906\n",
            "epoch 8 - batch 60 - loss 1.9361927509307861 - precision 0.05090741068124771 - recall 0.03005119040608406 - f1 0.029039042070508003 - sparse_categorical_accuracy 0.23966239392757416\n",
            "epoch 8 - batch 70 - loss 1.8225727081298828 - precision 0.05378839746117592 - recall 0.030626635998487473 - f1 0.02983822114765644 - sparse_categorical_accuracy 0.2400071769952774\n",
            "epoch 8 - batch 80 - loss 1.9417047500610352 - precision 0.05571398511528969 - recall 0.031260691583156586 - f1 0.030556805431842804 - sparse_categorical_accuracy 0.24014370143413544\n",
            "epoch 8 - batch 90 - loss 1.934680700302124 - precision 0.058224089443683624 - recall 0.03232831135392189 - f1 0.03181234002113342 - sparse_categorical_accuracy 0.24033048748970032\n",
            "epoch 8 - batch 100 - loss 1.9313732385635376 - precision 0.06039494648575783 - recall 0.03298056870698929 - f1 0.03262462466955185 - sparse_categorical_accuracy 0.2405133992433548\n",
            "epoch 8 - batch 110 - loss 1.7617323398590088 - precision 0.062493667006492615 - recall 0.03394706919789314 - f1 0.03367617353796959 - sparse_categorical_accuracy 0.24091923236846924\n",
            "epoch 8 training time: 45.13025999069214 sec\n",
            "epoch 8 evaluation time: 6.365709066390991 sec\n",
            "epoch evaluation:  {'epoch': 8, 'epoch_test_loss': <tf.Tensor: shape=(), dtype=float32, numpy=2.0417998>, 'epoch_test_sparse_categorical_accuracy': <tf.Tensor: shape=(), dtype=float32, numpy=0.24106428>, 'epoch_test_precision': <tf.Tensor: shape=(), dtype=float32, numpy=0.047023665>, 'epoch_test_recall': <tf.Tensor: shape=(), dtype=float32, numpy=0.031175425>, 'epoch_test_f1': <tf.Tensor: shape=(), dtype=float32, numpy=0.029366098>}\n",
            "epoch 9 - batch 10 - loss 1.8548862934112549 - precision 0.04094568267464638 - recall 0.030789131298661232 - f1 0.029239725321531296 - sparse_categorical_accuracy 0.2405133992433548\n",
            "epoch 9 - batch 20 - loss 1.8934673070907593 - precision 0.04843548685312271 - recall 0.03378760814666748 - f1 0.03274533152580261 - sparse_categorical_accuracy 0.24315011501312256\n",
            "epoch 9 - batch 30 - loss 1.8454904556274414 - precision 0.05414237454533577 - recall 0.03510298579931259 - f1 0.034390680491924286 - sparse_categorical_accuracy 0.24322916567325592\n",
            "epoch 9 - batch 40 - loss 1.735123634338379 - precision 0.05854807421565056 - recall 0.03622151538729668 - f1 0.035992976278066635 - sparse_categorical_accuracy 0.24437779188156128\n",
            "epoch 9 - batch 50 - loss 1.9151909351348877 - precision 0.06329559534788132 - recall 0.038668565452098846 - f1 0.03853440284729004 - sparse_categorical_accuracy 0.24432477355003357\n",
            "epoch 9 - batch 60 - loss 1.8212701082229614 - precision 0.06534767895936966 - recall 0.040246061980724335 - f1 0.04006322845816612 - sparse_categorical_accuracy 0.24501952528953552\n",
            "epoch 9 - batch 70 - loss 1.7497854232788086 - precision 0.06755122542381287 - recall 0.041257962584495544 - f1 0.04115423932671547 - sparse_categorical_accuracy 0.24537627398967743\n",
            "epoch 9 - batch 80 - loss 1.8888458013534546 - precision 0.07167039811611176 - recall 0.04255273938179016 - f1 0.04262812063097954 - sparse_categorical_accuracy 0.24558454751968384\n",
            "epoch 9 - batch 90 - loss 1.8639047145843506 - precision 0.0731806829571724 - recall 0.04290033504366875 - f1 0.04291188716888428 - sparse_categorical_accuracy 0.2451946884393692\n",
            "epoch 9 - batch 100 - loss 1.8561813831329346 - precision 0.07521442323923111 - recall 0.043793268501758575 - f1 0.04398869350552559 - sparse_categorical_accuracy 0.24541015923023224\n",
            "epoch 9 - batch 110 - loss 1.9253101348876953 - precision 0.07724811136722565 - recall 0.04427042603492737 - f1 0.044607438147068024 - sparse_categorical_accuracy 0.24572087824344635\n",
            "epoch 9 training time: 45.3530969619751 sec\n",
            "epoch 9 evaluation time: 6.212396621704102 sec\n",
            "epoch evaluation:  {'epoch': 9, 'epoch_test_loss': <tf.Tensor: shape=(), dtype=float32, numpy=2.0240223>, 'epoch_test_sparse_categorical_accuracy': <tf.Tensor: shape=(), dtype=float32, numpy=0.24262391>, 'epoch_test_precision': <tf.Tensor: shape=(), dtype=float32, numpy=0.05464284>, 'epoch_test_recall': <tf.Tensor: shape=(), dtype=float32, numpy=0.03858735>, 'epoch_test_f1': <tf.Tensor: shape=(), dtype=float32, numpy=0.035974704>}\n",
            "epoch 9 saved checkpoint: models/checkpoints/baseline/ckpt-4\n",
            "epoch 10 - batch 10 - loss 1.8369362354278564 - precision 0.04569218307733536 - recall 0.03406751900911331 - f1 0.032980240881443024 - sparse_categorical_accuracy 0.24681919813156128\n",
            "epoch 10 - batch 20 - loss 1.7825323343276978 - precision 0.05358031392097473 - recall 0.0385453924536705 - f1 0.03748202323913574 - sparse_categorical_accuracy 0.24669364094734192\n",
            "epoch 10 - batch 30 - loss 1.8559284210205078 - precision 0.06418851017951965 - recall 0.042147256433963776 - f1 0.041951462626457214 - sparse_categorical_accuracy 0.248046875\n",
            "epoch 10 - batch 40 - loss 1.7129188776016235 - precision 0.0692947655916214 - recall 0.04392579570412636 - f1 0.044272154569625854 - sparse_categorical_accuracy 0.24873743951320648\n",
            "epoch 10 - batch 50 - loss 1.7738142013549805 - precision 0.0753774344921112 - recall 0.04688660055398941 - f1 0.0472281277179718 - sparse_categorical_accuracy 0.24878348410129547\n",
            "epoch 10 - batch 60 - loss 1.832371711730957 - precision 0.08021369576454163 - recall 0.04891512170433998 - f1 0.049652084708213806 - sparse_categorical_accuracy 0.24973028898239136\n",
            "epoch 10 - batch 70 - loss 1.7120254039764404 - precision 0.08371519297361374 - recall 0.05086319521069527 - f1 0.05162671580910683 - sparse_categorical_accuracy 0.25015145540237427\n",
            "epoch 10 - batch 80 - loss 1.6457784175872803 - precision 0.08630695939064026 - recall 0.051965851336717606 - f1 0.052737314254045486 - sparse_categorical_accuracy 0.2506208121776581\n",
            "epoch 10 - batch 90 - loss 1.7369619607925415 - precision 0.09110832959413528 - recall 0.05458968132734299 - f1 0.05567403510212898 - sparse_categorical_accuracy 0.25061073899269104\n",
            "epoch 10 - batch 100 - loss 1.7892332077026367 - precision 0.09461914747953415 - recall 0.05671132728457451 - f1 0.05781649798154831 - sparse_categorical_accuracy 0.2509988844394684\n",
            "epoch 10 - batch 110 - loss 1.7155482769012451 - precision 0.09741099178791046 - recall 0.05816652253270149 - f1 0.05929423123598099 - sparse_categorical_accuracy 0.2515396773815155\n",
            "epoch 10 training time: 45.15292477607727 sec\n",
            "epoch 10 evaluation time: 6.232870817184448 sec\n",
            "epoch evaluation:  {'epoch': 10, 'epoch_test_loss': <tf.Tensor: shape=(), dtype=float32, numpy=1.9661807>, 'epoch_test_sparse_categorical_accuracy': <tf.Tensor: shape=(), dtype=float32, numpy=0.2490771>, 'epoch_test_precision': <tf.Tensor: shape=(), dtype=float32, numpy=0.070869915>, 'epoch_test_recall': <tf.Tensor: shape=(), dtype=float32, numpy=0.048104737>, 'epoch_test_f1': <tf.Tensor: shape=(), dtype=float32, numpy=0.04598801>}\n",
            "epoch 11 - batch 10 - loss 1.7309633493423462 - precision 0.05984967201948166 - recall 0.046491995453834534 - f1 0.04543017968535423 - sparse_categorical_accuracy 0.2544921934604645\n",
            "epoch 11 - batch 20 - loss 1.6552469730377197 - precision 0.07514923810958862 - recall 0.0552438423037529 - f1 0.055082112550735474 - sparse_categorical_accuracy 0.2563755512237549\n",
            "epoch 11 - batch 30 - loss 1.7440217733383179 - precision 0.08472177386283875 - recall 0.05942552164196968 - f1 0.05993416905403137 - sparse_categorical_accuracy 0.2566778361797333\n",
            "epoch 11 - batch 40 - loss 1.7014827728271484 - precision 0.09341602772474289 - recall 0.062372177839279175 - f1 0.0637463852763176 - sparse_categorical_accuracy 0.25732421875\n",
            "epoch 11 - batch 50 - loss 1.8047351837158203 - precision 0.09961024671792984 - recall 0.06608303636312485 - f1 0.0672970712184906 - sparse_categorical_accuracy 0.2572154104709625\n",
            "epoch 11 - batch 60 - loss 1.6461049318313599 - precision 0.10633870214223862 - recall 0.07017029076814651 - f1 0.07178209722042084 - sparse_categorical_accuracy 0.2577939033508301\n",
            "epoch 11 - batch 70 - loss 1.7242673635482788 - precision 0.11279886960983276 - recall 0.07291059195995331 - f1 0.07509812712669373 - sparse_categorical_accuracy 0.2583426237106323\n",
            "epoch 11 - batch 80 - loss 1.699973225593567 - precision 0.11648645997047424 - recall 0.07532583922147751 - f1 0.07750671356916428 - sparse_categorical_accuracy 0.2588867247104645\n",
            "epoch 11 - batch 90 - loss 1.6853071451187134 - precision 0.11952248215675354 - recall 0.07785366475582123 - f1 0.07992953807115555 - sparse_categorical_accuracy 0.2588231563568115\n",
            "epoch 11 - batch 100 - loss 1.7151941061019897 - precision 0.12288155406713486 - recall 0.08032243698835373 - f1 0.08259660005569458 - sparse_categorical_accuracy 0.25920480489730835\n",
            "epoch 11 - batch 110 - loss 1.6540027856826782 - precision 0.12949956953525543 - recall 0.08319360017776489 - f1 0.08604846894741058 - sparse_categorical_accuracy 0.2595728635787964\n",
            "epoch 11 training time: 44.98832416534424 sec\n",
            "epoch 11 evaluation time: 6.250235080718994 sec\n",
            "epoch evaluation:  {'epoch': 11, 'epoch_test_loss': <tf.Tensor: shape=(), dtype=float32, numpy=1.9268955>, 'epoch_test_sparse_categorical_accuracy': <tf.Tensor: shape=(), dtype=float32, numpy=0.25409228>, 'epoch_test_precision': <tf.Tensor: shape=(), dtype=float32, numpy=0.08633898>, 'epoch_test_recall': <tf.Tensor: shape=(), dtype=float32, numpy=0.06107109>, 'epoch_test_f1': <tf.Tensor: shape=(), dtype=float32, numpy=0.057910975>}\n",
            "epoch 12 - batch 10 - loss 1.6574678421020508 - precision 0.07535826414823532 - recall 0.06089121848344803 - f1 0.05918871611356735 - sparse_categorical_accuracy 0.2619977593421936\n",
            "epoch 12 - batch 20 - loss 1.610653281211853 - precision 0.09565192461013794 - recall 0.07064338773488998 - f1 0.07060583680868149 - sparse_categorical_accuracy 0.2649274468421936\n",
            "epoch 12 - batch 30 - loss 1.624040961265564 - precision 0.10866773128509521 - recall 0.07842626422643661 - f1 0.07905495166778564 - sparse_categorical_accuracy 0.2647600471973419\n",
            "epoch 12 - batch 40 - loss 1.5126874446868896 - precision 0.11874841153621674 - recall 0.08355840295553207 - f1 0.0847897008061409 - sparse_categorical_accuracy 0.26577845215797424\n",
            "epoch 12 - batch 50 - loss 1.6396493911743164 - precision 0.1282762885093689 - recall 0.09010807424783707 - f1 0.09151314198970795 - sparse_categorical_accuracy 0.26552456617355347\n",
            "epoch 12 - batch 60 - loss 1.5906504392623901 - precision 0.13475917279720306 - recall 0.09287111461162567 - f1 0.09506223350763321 - sparse_categorical_accuracy 0.26633650064468384\n",
            "epoch 12 - batch 70 - loss 1.5675309896469116 - precision 0.1432095170021057 - recall 0.09894157946109772 - f1 0.10119117051362991 - sparse_categorical_accuracy 0.26737484335899353\n",
            "epoch 12 - batch 80 - loss 1.6023107767105103 - precision 0.1485743224620819 - recall 0.10260985046625137 - f1 0.10478360205888748 - sparse_categorical_accuracy 0.2672467827796936\n",
            "epoch 12 - batch 90 - loss 1.5579713582992554 - precision 0.1555461287498474 - recall 0.1070384755730629 - f1 0.10951767861843109 - sparse_categorical_accuracy 0.2675130069255829\n",
            "epoch 12 - batch 100 - loss 1.6380223035812378 - precision 0.16218021512031555 - recall 0.11122312396764755 - f1 0.11406730115413666 - sparse_categorical_accuracy 0.2678041160106659\n",
            "epoch 12 - batch 110 - loss 1.599881887435913 - precision 0.16600219905376434 - recall 0.11352386325597763 - f1 0.11626080423593521 - sparse_categorical_accuracy 0.2680397629737854\n",
            "epoch 12 training time: 45.227033376693726 sec\n",
            "epoch 12 evaluation time: 6.233981609344482 sec\n",
            "epoch evaluation:  {'epoch': 12, 'epoch_test_loss': <tf.Tensor: shape=(), dtype=float32, numpy=1.8971652>, 'epoch_test_sparse_categorical_accuracy': <tf.Tensor: shape=(), dtype=float32, numpy=0.25902873>, 'epoch_test_precision': <tf.Tensor: shape=(), dtype=float32, numpy=0.095269784>, 'epoch_test_recall': <tf.Tensor: shape=(), dtype=float32, numpy=0.07384573>, 'epoch_test_f1': <tf.Tensor: shape=(), dtype=float32, numpy=0.068605565>}\n",
            "epoch 12 saved checkpoint: models/checkpoints/baseline/ckpt-5\n",
            "epoch 13 - batch 10 - loss 1.551207423210144 - precision 0.087304025888443 - recall 0.06999363005161285 - f1 0.06901761144399643 - sparse_categorical_accuracy 0.2739955484867096\n",
            "epoch 13 - batch 20 - loss 1.5202194452285767 - precision 0.11148893088102341 - recall 0.08431769907474518 - f1 0.08424071967601776 - sparse_categorical_accuracy 0.27400949597358704\n",
            "epoch 13 - batch 30 - loss 1.5823519229888916 - precision 0.12645485997200012 - recall 0.09531410038471222 - f1 0.09535401314496994 - sparse_categorical_accuracy 0.2735119163990021\n",
            "epoch 13 - batch 40 - loss 1.490108847618103 - precision 0.13882049918174744 - recall 0.10373888909816742 - f1 0.10457292944192886 - sparse_categorical_accuracy 0.2743373215198517\n",
            "epoch 13 - batch 50 - loss 1.5658540725708008 - precision 0.15237130224704742 - recall 0.11146849393844604 - f1 0.1130056232213974 - sparse_categorical_accuracy 0.2742745578289032\n",
            "epoch 13 - batch 60 - loss 1.523072600364685 - precision 0.1615442931652069 - recall 0.11801736801862717 - f1 0.11981573700904846 - sparse_categorical_accuracy 0.2746279835700989\n",
            "epoch 13 - batch 70 - loss 1.4986878633499146 - precision 0.17188383638858795 - recall 0.12437918782234192 - f1 0.1269744634628296 - sparse_categorical_accuracy 0.2754703462123871\n",
            "epoch 13 - batch 80 - loss 1.564893126487732 - precision 0.18211843073368073 - recall 0.13029205799102783 - f1 0.13366617262363434 - sparse_categorical_accuracy 0.27596262097358704\n",
            "epoch 13 - batch 90 - loss 1.5938085317611694 - precision 0.19024695456027985 - recall 0.13664208352565765 - f1 0.13971734046936035 - sparse_categorical_accuracy 0.27604785561561584\n",
            "epoch 13 - batch 100 - loss 1.4120213985443115 - precision 0.19720302522182465 - recall 0.14047014713287354 - f1 0.1439247876405716 - sparse_categorical_accuracy 0.276470422744751\n",
            "epoch 13 - batch 110 - loss 1.5646995306015015 - precision 0.2026616632938385 - recall 0.14461618661880493 - f1 0.1481245756149292 - sparse_categorical_accuracy 0.27691760659217834\n",
            "epoch 13 training time: 45.80306839942932 sec\n",
            "epoch 13 evaluation time: 6.217149257659912 sec\n",
            "epoch evaluation:  {'epoch': 13, 'epoch_test_loss': <tf.Tensor: shape=(), dtype=float32, numpy=1.861225>, 'epoch_test_sparse_categorical_accuracy': <tf.Tensor: shape=(), dtype=float32, numpy=0.26458046>, 'epoch_test_precision': <tf.Tensor: shape=(), dtype=float32, numpy=0.10831304>, 'epoch_test_recall': <tf.Tensor: shape=(), dtype=float32, numpy=0.07780806>, 'epoch_test_f1': <tf.Tensor: shape=(), dtype=float32, numpy=0.07598193>}\n",
            "epoch 14 - batch 10 - loss 1.4184839725494385 - precision 0.10207154601812363 - recall 0.08559456467628479 - f1 0.08345382660627365 - sparse_categorical_accuracy 0.28272879123687744\n",
            "epoch 14 - batch 20 - loss 1.488066554069519 - precision 0.13158373534679413 - recall 0.10480568557977676 - f1 0.10444100201129913 - sparse_categorical_accuracy 0.28370535373687744\n",
            "epoch 14 - batch 30 - loss 1.4738603830337524 - precision 0.1490127295255661 - recall 0.11628858745098114 - f1 0.11671372503042221 - sparse_categorical_accuracy 0.2837146520614624\n",
            "epoch 14 - batch 40 - loss 1.5038774013519287 - precision 0.16544410586357117 - recall 0.12707456946372986 - f1 0.12862461805343628 - sparse_categorical_accuracy 0.2843540608882904\n",
            "epoch 14 - batch 50 - loss 1.473915457725525 - precision 0.17938828468322754 - recall 0.13677091896533966 - f1 0.13913816213607788 - sparse_categorical_accuracy 0.2837444245815277\n",
            "epoch 14 - batch 60 - loss 1.4859079122543335 - precision 0.1966734230518341 - recall 0.14760766923427582 - f1 0.1506238579750061 - sparse_categorical_accuracy 0.28430989384651184\n",
            "epoch 14 - batch 70 - loss 1.4146977663040161 - precision 0.20928238332271576 - recall 0.1563437134027481 - f1 0.15966252982616425 - sparse_categorical_accuracy 0.28523197770118713\n",
            "epoch 14 - batch 80 - loss 1.449799656867981 - precision 0.21844761073589325 - recall 0.16342154145240784 - f1 0.16641974449157715 - sparse_categorical_accuracy 0.28556081652641296\n",
            "epoch 14 - batch 90 - loss 1.4355523586273193 - precision 0.22611725330352783 - recall 0.16811680793762207 - f1 0.17159949243068695 - sparse_categorical_accuracy 0.2857328951358795\n",
            "epoch 14 - batch 100 - loss 1.4338349103927612 - precision 0.23340477049350739 - recall 0.17374639213085175 - f1 0.17714402079582214 - sparse_categorical_accuracy 0.28587889671325684\n",
            "epoch 14 - batch 110 - loss 1.5033191442489624 - precision 0.24173234403133392 - recall 0.18008656799793243 - f1 0.18394872546195984 - sparse_categorical_accuracy 0.28649553656578064\n",
            "epoch 14 training time: 45.21345663070679 sec\n",
            "epoch 14 evaluation time: 6.289495229721069 sec\n",
            "epoch evaluation:  {'epoch': 14, 'epoch_test_loss': <tf.Tensor: shape=(), dtype=float32, numpy=1.8313851>, 'epoch_test_sparse_categorical_accuracy': <tf.Tensor: shape=(), dtype=float32, numpy=0.26968864>, 'epoch_test_precision': <tf.Tensor: shape=(), dtype=float32, numpy=0.123710304>, 'epoch_test_recall': <tf.Tensor: shape=(), dtype=float32, numpy=0.08725757>, 'epoch_test_f1': <tf.Tensor: shape=(), dtype=float32, numpy=0.08739201>}\n",
            "epoch 15 - batch 10 - loss 1.3888015747070312 - precision 0.11270511150360107 - recall 0.09425695985555649 - f1 0.09282585978507996 - sparse_categorical_accuracy 0.29148995876312256\n",
            "epoch 15 - batch 20 - loss 1.4639300107955933 - precision 0.14925257861614227 - recall 0.12094376981258392 - f1 0.12114827334880829 - sparse_categorical_accuracy 0.29242467880249023\n",
            "epoch 15 - batch 30 - loss 1.354200005531311 - precision 0.17286543548107147 - recall 0.1368369460105896 - f1 0.138714998960495 - sparse_categorical_accuracy 0.29325705766677856\n",
            "epoch 15 - batch 40 - loss 1.415127158164978 - precision 0.19261029362678528 - recall 0.1521397829055786 - f1 0.15430279076099396 - sparse_categorical_accuracy 0.2924386262893677\n",
            "epoch 15 - batch 50 - loss 1.3943644762039185 - precision 0.21211020648479462 - recall 0.16675899922847748 - f1 0.16955970227718353 - sparse_categorical_accuracy 0.2931361496448517\n",
            "epoch 15 - batch 60 - loss 1.310569405555725 - precision 0.22571218013763428 - recall 0.17530210316181183 - f1 0.17923319339752197 - sparse_categorical_accuracy 0.2932942807674408\n",
            "epoch 15 - batch 70 - loss 1.3000221252441406 - precision 0.23787450790405273 - recall 0.18558795750141144 - f1 0.189183309674263 - sparse_categorical_accuracy 0.294048935174942\n",
            "epoch 15 - batch 80 - loss 1.4063771963119507 - precision 0.2515837550163269 - recall 0.19522811472415924 - f1 0.1991446167230606 - sparse_categorical_accuracy 0.2943987250328064\n",
            "epoch 15 - batch 90 - loss 1.3420146703720093 - precision 0.2619682550430298 - recall 0.20444270968437195 - f1 0.20808762311935425 - sparse_categorical_accuracy 0.2946273684501648\n",
            "epoch 15 - batch 100 - loss 1.3431130647659302 - precision 0.2717302441596985 - recall 0.21248950064182281 - f1 0.21566373109817505 - sparse_categorical_accuracy 0.29517579078674316\n",
            "epoch 15 - batch 110 - loss 1.3020925521850586 - precision 0.2803327143192291 - recall 0.219729945063591 - f1 0.22296956181526184 - sparse_categorical_accuracy 0.29569298028945923\n",
            "epoch 15 training time: 45.23756146430969 sec\n",
            "epoch 15 evaluation time: 6.245822906494141 sec\n",
            "epoch evaluation:  {'epoch': 15, 'epoch_test_loss': <tf.Tensor: shape=(), dtype=float32, numpy=1.804945>, 'epoch_test_sparse_categorical_accuracy': <tf.Tensor: shape=(), dtype=float32, numpy=0.27463943>, 'epoch_test_precision': <tf.Tensor: shape=(), dtype=float32, numpy=0.13224044>, 'epoch_test_recall': <tf.Tensor: shape=(), dtype=float32, numpy=0.09923955>, 'epoch_test_f1': <tf.Tensor: shape=(), dtype=float32, numpy=0.09806648>}\n",
            "epoch 15 saved checkpoint: models/checkpoints/baseline/ckpt-6\n",
            "epoch 16 - batch 10 - loss 1.3438111543655396 - precision 0.13253289461135864 - recall 0.11216776818037033 - f1 0.11139455437660217 - sparse_categorical_accuracy 0.29919084906578064\n",
            "epoch 16 - batch 20 - loss 1.3200900554656982 - precision 0.17172101140022278 - recall 0.14072933793067932 - f1 0.14135558903217316 - sparse_categorical_accuracy 0.3007533550262451\n",
            "epoch 16 - batch 30 - loss 1.2942454814910889 - precision 0.19852624833583832 - recall 0.16216318309307098 - f1 0.16325196623802185 - sparse_categorical_accuracy 0.30100446939468384\n",
            "epoch 16 - batch 40 - loss 1.28057861328125 - precision 0.22679604589939117 - recall 0.18253102898597717 - f1 0.1850372701883316 - sparse_categorical_accuracy 0.3017647862434387\n",
            "epoch 16 - batch 50 - loss 1.3189523220062256 - precision 0.24709145724773407 - recall 0.19775119423866272 - f1 0.20076195895671844 - sparse_categorical_accuracy 0.3019252121448517\n",
            "epoch 16 - batch 60 - loss 1.3825632333755493 - precision 0.26633238792419434 - recall 0.21036091446876526 - f1 0.2149355113506317 - sparse_categorical_accuracy 0.3030413091182709\n",
            "epoch 16 - batch 70 - loss 1.3006166219711304 - precision 0.28078022599220276 - recall 0.2213817983865738 - f1 0.22634531557559967 - sparse_categorical_accuracy 0.30329638719558716\n",
            "epoch 16 - batch 80 - loss 1.3039103746414185 - precision 0.2961985766887665 - recall 0.23289546370506287 - f1 0.23790018260478973 - sparse_categorical_accuracy 0.3039027750492096\n",
            "epoch 16 - batch 90 - loss 1.3544052839279175 - precision 0.3068124055862427 - recall 0.24068310856819153 - f1 0.24630871415138245 - sparse_categorical_accuracy 0.3041170537471771\n",
            "epoch 16 - batch 100 - loss 1.2491916418075562 - precision 0.31742656230926514 - recall 0.2493109405040741 - f1 0.25494760274887085 - sparse_categorical_accuracy 0.304790735244751\n",
            "epoch 16 - batch 110 - loss 1.2580252885818481 - precision 0.3253639042377472 - recall 0.25445663928985596 - f1 0.260854035615921 - sparse_categorical_accuracy 0.3050730526447296\n",
            "epoch 16 training time: 45.384549617767334 sec\n",
            "epoch 16 evaluation time: 6.227060794830322 sec\n",
            "epoch evaluation:  {'epoch': 16, 'epoch_test_loss': <tf.Tensor: shape=(), dtype=float32, numpy=1.7971506>, 'epoch_test_sparse_categorical_accuracy': <tf.Tensor: shape=(), dtype=float32, numpy=0.27798048>, 'epoch_test_precision': <tf.Tensor: shape=(), dtype=float32, numpy=0.14541623>, 'epoch_test_recall': <tf.Tensor: shape=(), dtype=float32, numpy=0.11035635>, 'epoch_test_f1': <tf.Tensor: shape=(), dtype=float32, numpy=0.10926457>}\n",
            "epoch 17 - batch 10 - loss 1.2017351388931274 - precision 0.14469465613365173 - recall 0.12566721439361572 - f1 0.1237703263759613 - sparse_categorical_accuracy 0.3092913031578064\n",
            "epoch 17 - batch 20 - loss 1.3171765804290771 - precision 0.18874599039554596 - recall 0.1605442464351654 - f1 0.1594691425561905 - sparse_categorical_accuracy 0.3091517984867096\n",
            "epoch 17 - batch 30 - loss 1.251794695854187 - precision 0.21856370568275452 - recall 0.1833707094192505 - f1 0.18465690314769745 - sparse_categorical_accuracy 0.31123512983322144\n",
            "epoch 17 - batch 40 - loss 1.206102967262268 - precision 0.2518957257270813 - recall 0.20934884250164032 - f1 0.21132491528987885 - sparse_categorical_accuracy 0.3124023377895355\n",
            "epoch 17 - batch 50 - loss 1.2174832820892334 - precision 0.27607962489128113 - recall 0.22858402132987976 - f1 0.23135672509670258 - sparse_categorical_accuracy 0.3129408359527588\n",
            "epoch 17 - batch 60 - loss 1.2242859601974487 - precision 0.2930251955986023 - recall 0.2421431839466095 - f1 0.2459692358970642 - sparse_categorical_accuracy 0.3136439621448517\n",
            "epoch 17 - batch 70 - loss 1.286264181137085 - precision 0.3105837404727936 - recall 0.254585325717926 - f1 0.2594056725502014 - sparse_categorical_accuracy 0.3141661286354065\n",
            "epoch 17 - batch 80 - loss 1.1499437093734741 - precision 0.32418882846832275 - recall 0.26730209589004517 - f1 0.27172571420669556 - sparse_categorical_accuracy 0.31417760252952576\n",
            "epoch 17 - batch 90 - loss 1.1602872610092163 - precision 0.3388236463069916 - recall 0.27937808632850647 - f1 0.2840004563331604 - sparse_categorical_accuracy 0.3147352337837219\n",
            "epoch 17 - batch 100 - loss 1.1877872943878174 - precision 0.35267263650894165 - recall 0.2886265814304352 - f1 0.2941652834415436 - sparse_categorical_accuracy 0.3151032328605652\n",
            "epoch 17 - batch 110 - loss 1.2134844064712524 - precision 0.36223241686820984 - recall 0.2957594692707062 - f1 0.30157262086868286 - sparse_categorical_accuracy 0.315452516078949\n",
            "epoch 17 training time: 45.6051709651947 sec\n",
            "epoch 17 evaluation time: 6.237750053405762 sec\n",
            "epoch evaluation:  {'epoch': 17, 'epoch_test_loss': <tf.Tensor: shape=(), dtype=float32, numpy=1.7643119>, 'epoch_test_sparse_categorical_accuracy': <tf.Tensor: shape=(), dtype=float32, numpy=0.28299564>, 'epoch_test_precision': <tf.Tensor: shape=(), dtype=float32, numpy=0.15820228>, 'epoch_test_recall': <tf.Tensor: shape=(), dtype=float32, numpy=0.124149375>, 'epoch_test_f1': <tf.Tensor: shape=(), dtype=float32, numpy=0.122340284>}\n",
            "epoch 18 - batch 10 - loss 1.1860026121139526 - precision 0.16267190873622894 - recall 0.14233888685703278 - f1 0.1418270766735077 - sparse_categorical_accuracy 0.31830358505249023\n",
            "epoch 18 - batch 20 - loss 1.1375720500946045 - precision 0.2187955379486084 - recall 0.18751992285251617 - f1 0.18769587576389313 - sparse_categorical_accuracy 0.32162389159202576\n",
            "epoch 18 - batch 30 - loss 1.2106150388717651 - precision 0.25550520420074463 - recall 0.2164715826511383 - f1 0.21816644072532654 - sparse_categorical_accuracy 0.3221540153026581\n",
            "epoch 18 - batch 40 - loss 1.161849021911621 - precision 0.2869797646999359 - recall 0.2403521090745926 - f1 0.24438202381134033 - sparse_categorical_accuracy 0.3226911127567291\n",
            "epoch 18 - batch 50 - loss 1.1730684041976929 - precision 0.31320634484291077 - recall 0.26222601532936096 - f1 0.2667573094367981 - sparse_categorical_accuracy 0.32233259081840515\n",
            "epoch 18 - batch 60 - loss 1.124884009361267 - precision 0.3340672552585602 - recall 0.2776384949684143 - f1 0.28353580832481384 - sparse_categorical_accuracy 0.3226841390132904\n",
            "epoch 18 - batch 70 - loss 1.1149605512619019 - precision 0.3489428758621216 - recall 0.2893437147140503 - f1 0.2959316670894623 - sparse_categorical_accuracy 0.323537141084671\n",
            "epoch 18 - batch 80 - loss 1.1899292469024658 - precision 0.3663945198059082 - recall 0.30490928888320923 - f1 0.3109092116355896 - sparse_categorical_accuracy 0.3236083984375\n",
            "epoch 18 - batch 90 - loss 1.1929819583892822 - precision 0.37987104058265686 - recall 0.31535983085632324 - f1 0.32213094830513 - sparse_categorical_accuracy 0.32379090785980225\n",
            "epoch 18 - batch 100 - loss 1.1116979122161865 - precision 0.392200231552124 - recall 0.32737526297569275 - f1 0.33365917205810547 - sparse_categorical_accuracy 0.324508935213089\n",
            "epoch 18 - batch 110 - loss 1.1188812255859375 - precision 0.40083014965057373 - recall 0.33500874042510986 - f1 0.3413637578487396 - sparse_categorical_accuracy 0.3248300552368164\n",
            "epoch 18 training time: 45.30682063102722 sec\n",
            "epoch 18 evaluation time: 6.269408226013184 sec\n",
            "epoch evaluation:  {'epoch': 18, 'epoch_test_loss': <tf.Tensor: shape=(), dtype=float32, numpy=1.7613461>, 'epoch_test_sparse_categorical_accuracy': <tf.Tensor: shape=(), dtype=float32, numpy=0.28610778>, 'epoch_test_precision': <tf.Tensor: shape=(), dtype=float32, numpy=0.16521265>, 'epoch_test_recall': <tf.Tensor: shape=(), dtype=float32, numpy=0.13135819>, 'epoch_test_f1': <tf.Tensor: shape=(), dtype=float32, numpy=0.1301746>}\n",
            "epoch 18 saved checkpoint: models/checkpoints/baseline/ckpt-7\n",
            "epoch 19 - batch 10 - loss 1.1339861154556274 - precision 0.17863810062408447 - recall 0.1607048660516739 - f1 0.15815941989421844 - sparse_categorical_accuracy 0.3277343809604645\n",
            "epoch 19 - batch 20 - loss 1.100267767906189 - precision 0.23952780663967133 - recall 0.21218274533748627 - f1 0.21165236830711365 - sparse_categorical_accuracy 0.33056640625\n",
            "epoch 19 - batch 30 - loss 1.1006176471710205 - precision 0.28094062209129333 - recall 0.24436672031879425 - f1 0.2458622306585312 - sparse_categorical_accuracy 0.3318266272544861\n",
            "epoch 19 - batch 40 - loss 1.1676380634307861 - precision 0.31690531969070435 - recall 0.27528852224349976 - f1 0.27762454748153687 - sparse_categorical_accuracy 0.33229631185531616\n",
            "epoch 19 - batch 50 - loss 1.1583820581436157 - precision 0.34219884872436523 - recall 0.29601436853408813 - f1 0.2990448772907257 - sparse_categorical_accuracy 0.3318973183631897\n",
            "epoch 19 - batch 60 - loss 1.1019999980926514 - precision 0.3616810739040375 - recall 0.3124792277812958 - f1 0.3159247934818268 - sparse_categorical_accuracy 0.3326822817325592\n",
            "epoch 19 - batch 70 - loss 1.010128378868103 - precision 0.38234174251556396 - recall 0.3294263184070587 - f1 0.33354783058166504 - sparse_categorical_accuracy 0.3333585858345032\n",
            "epoch 19 - batch 80 - loss 1.0948542356491089 - precision 0.3994618356227875 - recall 0.34213435649871826 - f1 0.3469938635826111 - sparse_categorical_accuracy 0.3333984315395355\n",
            "epoch 19 - batch 90 - loss 1.0581773519515991 - precision 0.41335606575012207 - recall 0.35377824306488037 - f1 0.35942143201828003 - sparse_categorical_accuracy 0.3338448703289032\n",
            "epoch 19 - batch 100 - loss 1.007401704788208 - precision 0.42772021889686584 - recall 0.3673914074897766 - f1 0.3726292848587036 - sparse_categorical_accuracy 0.33419084548950195\n",
            "epoch 19 - batch 110 - loss 1.1032066345214844 - precision 0.435577392578125 - recall 0.37372806668281555 - f1 0.379628986120224 - sparse_categorical_accuracy 0.33435216546058655\n",
            "epoch 19 training time: 45.59158778190613 sec\n",
            "epoch 19 evaluation time: 6.283939599990845 sec\n",
            "epoch evaluation:  {'epoch': 19, 'epoch_test_loss': <tf.Tensor: shape=(), dtype=float32, numpy=1.7579017>, 'epoch_test_sparse_categorical_accuracy': <tf.Tensor: shape=(), dtype=float32, numpy=0.28892657>, 'epoch_test_precision': <tf.Tensor: shape=(), dtype=float32, numpy=0.1755756>, 'epoch_test_recall': <tf.Tensor: shape=(), dtype=float32, numpy=0.14428504>, 'epoch_test_f1': <tf.Tensor: shape=(), dtype=float32, numpy=0.14109115>}\n",
            "epoch 20 - batch 10 - loss 1.0118025541305542 - precision 0.197255939245224 - recall 0.18018938601016998 - f1 0.17741544544696808 - sparse_categorical_accuracy 0.33978796005249023\n",
            "epoch 20 - batch 20 - loss 1.0832351446151733 - precision 0.26779964566230774 - recall 0.23811104893684387 - f1 0.2383393794298172 - sparse_categorical_accuracy 0.3426618278026581\n",
            "epoch 20 - batch 30 - loss 1.0326220989227295 - precision 0.30863553285598755 - recall 0.2721205949783325 - f1 0.27377834916114807 - sparse_categorical_accuracy 0.3428850471973419\n",
            "epoch 20 - batch 40 - loss 0.9717828035354614 - precision 0.3448731005191803 - recall 0.3040578067302704 - f1 0.305551677942276 - sparse_categorical_accuracy 0.34366628527641296\n",
            "epoch 20 - batch 50 - loss 1.0530465841293335 - precision 0.37200960516929626 - recall 0.32901132106781006 - f1 0.33096033334732056 - sparse_categorical_accuracy 0.34352120757102966\n",
            "epoch 20 - batch 60 - loss 1.0440595149993896 - precision 0.39137476682662964 - recall 0.3462347090244293 - f1 0.3486356735229492 - sparse_categorical_accuracy 0.3426850736141205\n",
            "epoch 20 - batch 70 - loss 1.0177898406982422 - precision 0.4126613736152649 - recall 0.3648199737071991 - f1 0.3673017621040344 - sparse_categorical_accuracy 0.3434430658817291\n",
            "epoch 20 - batch 80 - loss 1.04281485080719 - precision 0.4289325773715973 - recall 0.3790856599807739 - f1 0.38173824548721313 - sparse_categorical_accuracy 0.3438372015953064\n",
            "epoch 20 - batch 90 - loss 1.0219900608062744 - precision 0.4433838725090027 - recall 0.39147958159446716 - f1 0.3947506546974182 - sparse_categorical_accuracy 0.3440445065498352\n",
            "epoch 20 - batch 100 - loss 0.9672200083732605 - precision 0.4573615789413452 - recall 0.40450429916381836 - f1 0.4078001379966736 - sparse_categorical_accuracy 0.3444419503211975\n",
            "epoch 20 - batch 110 - loss 1.0532807111740112 - precision 0.46721556782722473 - recall 0.41403937339782715 - f1 0.41692617535591125 - sparse_categorical_accuracy 0.34466060996055603\n",
            "epoch 20 training time: 45.7009551525116 sec\n",
            "epoch 20 evaluation time: 6.311239957809448 sec\n",
            "epoch evaluation:  {'epoch': 20, 'epoch_test_loss': <tf.Tensor: shape=(), dtype=float32, numpy=1.7470343>, 'epoch_test_sparse_categorical_accuracy': <tf.Tensor: shape=(), dtype=float32, numpy=0.2928042>, 'epoch_test_precision': <tf.Tensor: shape=(), dtype=float32, numpy=0.18641874>, 'epoch_test_recall': <tf.Tensor: shape=(), dtype=float32, numpy=0.1466809>, 'epoch_test_f1': <tf.Tensor: shape=(), dtype=float32, numpy=0.14730087>}\n",
            "epoch 21 - batch 10 - loss 0.9917624592781067 - precision 0.2043343037366867 - recall 0.18948794901371002 - f1 0.1859399676322937 - sparse_categorical_accuracy 0.3480747640132904\n",
            "epoch 21 - batch 20 - loss 0.9708911180496216 - precision 0.27669042348861694 - recall 0.2519022226333618 - f1 0.24985024333000183 - sparse_categorical_accuracy 0.3512555658817291\n",
            "epoch 21 - batch 30 - loss 1.0188101530075073 - precision 0.3264833390712738 - recall 0.29632213711738586 - f1 0.2943269908428192 - sparse_categorical_accuracy 0.35048362612724304\n",
            "epoch 21 - batch 40 - loss 1.0445181131362915 - precision 0.3593807518482208 - recall 0.32433342933654785 - f1 0.32368093729019165 - sparse_categorical_accuracy 0.3510463237762451\n",
            "epoch 21 - batch 50 - loss 0.9298312067985535 - precision 0.39045313000679016 - recall 0.3528895378112793 - f1 0.352638840675354 - sparse_categorical_accuracy 0.3509765565395355\n",
            "epoch 21 - batch 60 - loss 0.9651455283164978 - precision 0.4129161834716797 - recall 0.3720672130584717 - f1 0.37266016006469727 - sparse_categorical_accuracy 0.3514183461666107\n",
            "epoch 21 - batch 70 - loss 0.9831845164299011 - precision 0.43234696984291077 - recall 0.38907426595687866 - f1 0.3905692994594574 - sparse_categorical_accuracy 0.3520966172218323\n",
            "epoch 21 - batch 80 - loss 0.9862162470817566 - precision 0.4532325863838196 - recall 0.40734365582466125 - f1 0.4093412160873413 - sparse_categorical_accuracy 0.35254254937171936\n",
            "epoch 21 - batch 90 - loss 0.9859905242919922 - precision 0.467704713344574 - recall 0.42008060216903687 - f1 0.42215943336486816 - sparse_categorical_accuracy 0.35293588042259216\n",
            "epoch 21 - batch 100 - loss 1.0220229625701904 - precision 0.4812237024307251 - recall 0.43097245693206787 - f1 0.4334217607975006 - sparse_categorical_accuracy 0.35337889194488525\n",
            "epoch 21 - batch 110 - loss 0.9675626754760742 - precision 0.4933987557888031 - recall 0.44339022040367126 - f1 0.4457407295703888 - sparse_categorical_accuracy 0.35368555784225464\n",
            "epoch 21 training time: 45.565922021865845 sec\n",
            "epoch 21 evaluation time: 6.238815546035767 sec\n",
            "epoch evaluation:  {'epoch': 21, 'epoch_test_loss': <tf.Tensor: shape=(), dtype=float32, numpy=1.7570312>, 'epoch_test_sparse_categorical_accuracy': <tf.Tensor: shape=(), dtype=float32, numpy=0.2949505>, 'epoch_test_precision': <tf.Tensor: shape=(), dtype=float32, numpy=0.18831472>, 'epoch_test_recall': <tf.Tensor: shape=(), dtype=float32, numpy=0.15617888>, 'epoch_test_f1': <tf.Tensor: shape=(), dtype=float32, numpy=0.15360667>}\n",
            "epoch 21 saved checkpoint: models/checkpoints/baseline/ckpt-8\n",
            "epoch 22 - batch 10 - loss 0.9927647709846497 - precision 0.21543288230895996 - recall 0.2030421495437622 - f1 0.19839361310005188 - sparse_categorical_accuracy 0.35664063692092896\n",
            "epoch 22 - batch 20 - loss 0.8905213475227356 - precision 0.2944091260433197 - recall 0.2732298970222473 - f1 0.26952236890792847 - sparse_categorical_accuracy 0.36050501465797424\n",
            "epoch 22 - batch 30 - loss 0.9197913408279419 - precision 0.3426049053668976 - recall 0.3144444525241852 - f1 0.3120669424533844 - sparse_categorical_accuracy 0.35929128527641296\n",
            "epoch 22 - batch 40 - loss 0.9549725651741028 - precision 0.3829377293586731 - recall 0.3497578799724579 - f1 0.3481577932834625 - sparse_categorical_accuracy 0.36029577255249023\n",
            "epoch 22 - batch 50 - loss 0.9813960194587708 - precision 0.41118401288986206 - recall 0.37492692470550537 - f1 0.37364456057548523 - sparse_categorical_accuracy 0.3603683114051819\n",
            "epoch 22 - batch 60 - loss 0.9660607576370239 - precision 0.4377914369106293 - recall 0.39819222688674927 - f1 0.39802953600883484 - sparse_categorical_accuracy 0.3609793484210968\n",
            "epoch 22 - batch 70 - loss 0.8837359547615051 - precision 0.4615876078605652 - recall 0.42026662826538086 - f1 0.4205169677734375 - sparse_categorical_accuracy 0.3615473508834839\n",
            "epoch 22 - batch 80 - loss 0.9538614153862 - precision 0.4785977005958557 - recall 0.43692001700401306 - f1 0.43687117099761963 - sparse_categorical_accuracy 0.3614746034145355\n",
            "epoch 22 - batch 90 - loss 0.950895369052887 - precision 0.49299341440200806 - recall 0.4503992795944214 - f1 0.45065876841545105 - sparse_categorical_accuracy 0.3622550964355469\n",
            "epoch 22 - batch 100 - loss 0.8944725394248962 - precision 0.5053399801254272 - recall 0.46323493123054504 - f1 0.46314460039138794 - sparse_categorical_accuracy 0.36236608028411865\n",
            "epoch 22 - batch 110 - loss 0.9210638403892517 - precision 0.5169793367385864 - recall 0.4729633033275604 - f1 0.47334912419319153 - sparse_categorical_accuracy 0.3625735640525818\n",
            "epoch 22 training time: 45.88731908798218 sec\n",
            "epoch 22 evaluation time: 6.258936643600464 sec\n",
            "epoch evaluation:  {'epoch': 22, 'epoch_test_loss': <tf.Tensor: shape=(), dtype=float32, numpy=1.760319>, 'epoch_test_sparse_categorical_accuracy': <tf.Tensor: shape=(), dtype=float32, numpy=0.29781222>, 'epoch_test_precision': <tf.Tensor: shape=(), dtype=float32, numpy=0.19218883>, 'epoch_test_recall': <tf.Tensor: shape=(), dtype=float32, numpy=0.16065982>, 'epoch_test_f1': <tf.Tensor: shape=(), dtype=float32, numpy=0.15851071>}\n",
            "epoch 23 - batch 10 - loss 0.9140681028366089 - precision 0.2252790927886963 - recall 0.21368201076984406 - f1 0.2086443305015564 - sparse_categorical_accuracy 0.3695591390132904\n",
            "epoch 23 - batch 20 - loss 0.8628478646278381 - precision 0.3047221302986145 - recall 0.28751999139785767 - f1 0.282814621925354 - sparse_categorical_accuracy 0.3702287971973419\n",
            "epoch 23 - batch 30 - loss 0.9422427415847778 - precision 0.3574513792991638 - recall 0.33647817373275757 - f1 0.33123844861984253 - sparse_categorical_accuracy 0.3708891272544861\n",
            "epoch 23 - batch 40 - loss 0.8750802278518677 - precision 0.39768660068511963 - recall 0.3731115758419037 - f1 0.3682739734649658 - sparse_categorical_accuracy 0.36978235840797424\n",
            "epoch 23 - batch 50 - loss 0.8412529826164246 - precision 0.4303871691226959 - recall 0.4027850329875946 - f1 0.39903873205184937 - sparse_categorical_accuracy 0.3697042465209961\n",
            "epoch 23 - batch 60 - loss 0.8936480283737183 - precision 0.4593559205532074 - recall 0.4271712601184845 - f1 0.425053209066391 - sparse_categorical_accuracy 0.37082403898239136\n",
            "epoch 23 - batch 70 - loss 0.8215528130531311 - precision 0.4811668395996094 - recall 0.4472152888774872 - f1 0.4453389346599579 - sparse_categorical_accuracy 0.3706552982330322\n",
            "epoch 23 - batch 80 - loss 0.8712736964225769 - precision 0.4998437464237213 - recall 0.4637461006641388 - f1 0.4626668393611908 - sparse_categorical_accuracy 0.3706926703453064\n",
            "epoch 23 - batch 90 - loss 0.8921278119087219 - precision 0.5150009393692017 - recall 0.47968798875808716 - f1 0.47788241505622864 - sparse_categorical_accuracy 0.3710441589355469\n",
            "epoch 23 - batch 100 - loss 0.8527612686157227 - precision 0.5272862315177917 - recall 0.491862028837204 - f1 0.4896343946456909 - sparse_categorical_accuracy 0.37143972516059875\n",
            "epoch 23 - batch 110 - loss 0.9114695191383362 - precision 0.5376973748207092 - recall 0.5019585490226746 - f1 0.5001876354217529 - sparse_categorical_accuracy 0.3715071976184845\n",
            "epoch 23 training time: 45.27870726585388 sec\n",
            "epoch 23 evaluation time: 6.29890513420105 sec\n",
            "epoch evaluation:  {'epoch': 23, 'epoch_test_loss': <tf.Tensor: shape=(), dtype=float32, numpy=1.7712582>, 'epoch_test_sparse_categorical_accuracy': <tf.Tensor: shape=(), dtype=float32, numpy=0.29643142>, 'epoch_test_precision': <tf.Tensor: shape=(), dtype=float32, numpy=0.19535662>, 'epoch_test_recall': <tf.Tensor: shape=(), dtype=float32, numpy=0.17198823>, 'epoch_test_f1': <tf.Tensor: shape=(), dtype=float32, numpy=0.16458149>}\n",
            "epoch 24 - batch 10 - loss 0.8243876695632935 - precision 0.2379540205001831 - recall 0.22774550318717957 - f1 0.22200016677379608 - sparse_categorical_accuracy 0.3742745518684387\n",
            "epoch 24 - batch 20 - loss 0.8503398895263672 - precision 0.3231048882007599 - recall 0.30418720841407776 - f1 0.2994728088378906 - sparse_categorical_accuracy 0.3772600591182709\n",
            "epoch 24 - batch 30 - loss 0.8272673487663269 - precision 0.3773311674594879 - recall 0.35426583886146545 - f1 0.3499310314655304 - sparse_categorical_accuracy 0.378720223903656\n",
            "epoch 24 - batch 40 - loss 0.8442934155464172 - precision 0.41714367270469666 - recall 0.392550528049469 - f1 0.38856562972068787 - sparse_categorical_accuracy 0.37760183215141296\n",
            "epoch 24 - batch 50 - loss 0.8018814325332642 - precision 0.4567472040653229 - recall 0.42814233899116516 - f1 0.4256781339645386 - sparse_categorical_accuracy 0.3779129385948181\n",
            "epoch 24 - batch 60 - loss 0.833836555480957 - precision 0.48258963227272034 - recall 0.450798898935318 - f1 0.44953587651252747 - sparse_categorical_accuracy 0.3777483403682709\n",
            "epoch 24 - batch 70 - loss 0.7657918930053711 - precision 0.505603015422821 - recall 0.4726755917072296 - f1 0.4714307487010956 - sparse_categorical_accuracy 0.37859535217285156\n",
            "epoch 24 - batch 80 - loss 0.8313502073287964 - precision 0.5256722569465637 - recall 0.4906381368637085 - f1 0.48931869864463806 - sparse_categorical_accuracy 0.37852609157562256\n",
            "epoch 24 - batch 90 - loss 0.866423487663269 - precision 0.5421088933944702 - recall 0.50740647315979 - f1 0.5056502223014832 - sparse_categorical_accuracy 0.3787388503551483\n",
            "epoch 24 - batch 100 - loss 0.8136682510375977 - precision 0.5558958053588867 - recall 0.5207281708717346 - f1 0.518735945224762 - sparse_categorical_accuracy 0.3790625035762787\n",
            "epoch 24 - batch 110 - loss 0.8866671323776245 - precision 0.5651482939720154 - recall 0.5302855372428894 - f1 0.5282553434371948 - sparse_categorical_accuracy 0.37918272614479065\n",
            "epoch 24 training time: 45.49561882019043 sec\n",
            "epoch 24 evaluation time: 6.309958219528198 sec\n",
            "epoch evaluation:  {'epoch': 24, 'epoch_test_loss': <tf.Tensor: shape=(), dtype=float32, numpy=1.7829357>, 'epoch_test_sparse_categorical_accuracy': <tf.Tensor: shape=(), dtype=float32, numpy=0.3003019>, 'epoch_test_precision': <tf.Tensor: shape=(), dtype=float32, numpy=0.1991863>, 'epoch_test_recall': <tf.Tensor: shape=(), dtype=float32, numpy=0.17060052>, 'epoch_test_f1': <tf.Tensor: shape=(), dtype=float32, numpy=0.1667802>}\n",
            "epoch 24 saved checkpoint: models/checkpoints/baseline/ckpt-9\n",
            "epoch 25 - batch 10 - loss 0.7934723496437073 - precision 0.24448738992214203 - recall 0.23509791493415833 - f1 0.22936521470546722 - sparse_categorical_accuracy 0.3829241096973419\n",
            "epoch 25 - batch 20 - loss 0.7532817721366882 - precision 0.3278103768825531 - recall 0.314162939786911 - f1 0.3075665831565857 - sparse_categorical_accuracy 0.3845284581184387\n",
            "epoch 25 - batch 30 - loss 0.8047133684158325 - precision 0.3879689574241638 - recall 0.367664635181427 - f1 0.36281275749206543 - sparse_categorical_accuracy 0.3854910731315613\n",
            "epoch 25 - batch 40 - loss 0.7991490960121155 - precision 0.43430325388908386 - recall 0.4123553931713104 - f1 0.40730488300323486 - sparse_categorical_accuracy 0.38572126626968384\n",
            "epoch 25 - batch 50 - loss 0.7921686172485352 - precision 0.46543529629707336 - recall 0.44312289357185364 - f1 0.43803057074546814 - sparse_categorical_accuracy 0.38667410612106323\n",
            "epoch 25 - batch 60 - loss 0.8220952153205872 - precision 0.4925081729888916 - recall 0.46836093068122864 - f1 0.4639092981815338 - sparse_categorical_accuracy 0.38675129413604736\n",
            "epoch 25 - batch 70 - loss 0.7484235167503357 - precision 0.5177775025367737 - recall 0.4912581443786621 - f1 0.48687857389450073 - sparse_categorical_accuracy 0.3868582546710968\n",
            "epoch 25 - batch 80 - loss 0.7677540183067322 - precision 0.5383816361427307 - recall 0.5093651413917542 - f1 0.5054068565368652 - sparse_categorical_accuracy 0.3867013156414032\n",
            "epoch 25 - batch 90 - loss 0.8458420038223267 - precision 0.5528749227523804 - recall 0.5243315100669861 - f1 0.5204100012779236 - sparse_categorical_accuracy 0.38682106137275696\n",
            "epoch 25 - batch 100 - loss 0.7458778619766235 - precision 0.5686972737312317 - recall 0.5398384928703308 - f1 0.5357584357261658 - sparse_categorical_accuracy 0.3871428668498993\n",
            "epoch 25 - batch 110 - loss 0.80496746301651 - precision 0.5827401280403137 - recall 0.552528977394104 - f1 0.5485801696777344 - sparse_categorical_accuracy 0.38717278838157654\n",
            "epoch 25 training time: 46.50696516036987 sec\n",
            "epoch 25 evaluation time: 6.363494157791138 sec\n",
            "epoch evaluation:  {'epoch': 25, 'epoch_test_loss': <tf.Tensor: shape=(), dtype=float32, numpy=1.7957196>, 'epoch_test_sparse_categorical_accuracy': <tf.Tensor: shape=(), dtype=float32, numpy=0.2997582>, 'epoch_test_precision': <tf.Tensor: shape=(), dtype=float32, numpy=0.20339555>, 'epoch_test_recall': <tf.Tensor: shape=(), dtype=float32, numpy=0.18076381>, 'epoch_test_f1': <tf.Tensor: shape=(), dtype=float32, numpy=0.17389502>}\n"
          ],
          "name": "stdout"
        },
        {
          "output_type": "error",
          "ename": "KeyboardInterrupt",
          "evalue": "ignored",
          "traceback": [
            "\u001b[0;31m---------------------------------------------------------------------------\u001b[0m",
            "\u001b[0;31mKeyboardInterrupt\u001b[0m                         Traceback (most recent call last)",
            "\u001b[0;32m<ipython-input-13-22ee111e2717>\u001b[0m in \u001b[0;36m<module>\u001b[0;34m()\u001b[0m\n\u001b[1;32m     20\u001b[0m }\n\u001b[1;32m     21\u001b[0m \u001b[0;34m\u001b[0m\u001b[0m\n\u001b[0;32m---> 22\u001b[0;31m \u001b[0mrun\u001b[0m\u001b[0;34m(\u001b[0m\u001b[0mNamespace\u001b[0m\u001b[0;34m(\u001b[0m\u001b[0;34m**\u001b[0m\u001b[0mparams\u001b[0m\u001b[0;34m)\u001b[0m\u001b[0;34m)\u001b[0m\u001b[0;34m\u001b[0m\u001b[0;34m\u001b[0m\u001b[0m\n\u001b[0m",
            "\u001b[0;32m/content/gdrive/My Drive/src/identifier-suggestion-2020-05-26T17-18-20/src/pipelines/baseline.py\u001b[0m in \u001b[0;36mrun\u001b[0;34m(args)\u001b[0m\n\u001b[1;32m    225\u001b[0m         \u001b[0mY_test\u001b[0m\u001b[0;34m=\u001b[0m\u001b[0mnp\u001b[0m\u001b[0;34m.\u001b[0m\u001b[0mstack\u001b[0m\u001b[0;34m(\u001b[0m\u001b[0mdf_test\u001b[0m\u001b[0;34m[\u001b[0m\u001b[0;34m'outputs'\u001b[0m\u001b[0;34m]\u001b[0m\u001b[0;34m.\u001b[0m\u001b[0mvalues\u001b[0m\u001b[0;34m)\u001b[0m\u001b[0;34m,\u001b[0m\u001b[0;34m\u001b[0m\u001b[0;34m\u001b[0m\u001b[0m\n\u001b[1;32m    226\u001b[0m         \u001b[0mepochs\u001b[0m\u001b[0;34m=\u001b[0m\u001b[0margs\u001b[0m\u001b[0;34m.\u001b[0m\u001b[0mepochs\u001b[0m\u001b[0;34m,\u001b[0m\u001b[0;34m\u001b[0m\u001b[0;34m\u001b[0m\u001b[0m\n\u001b[0;32m--> 227\u001b[0;31m         \u001b[0mon_epoch_end\u001b[0m\u001b[0;34m=\u001b[0m\u001b[0mon_epoch_end\u001b[0m\u001b[0;34m,\u001b[0m\u001b[0;34m\u001b[0m\u001b[0;34m\u001b[0m\u001b[0m\n\u001b[0m\u001b[1;32m    228\u001b[0m     )\n\u001b[1;32m    229\u001b[0m \u001b[0;34m\u001b[0m\u001b[0m\n",
            "\u001b[0;32m/content/gdrive/My Drive/src/identifier-suggestion-2020-05-26T17-18-20/src/models/seq2seq_attention.py\u001b[0m in \u001b[0;36mtrain\u001b[0;34m(self, X_train, Y_train, X_test, Y_test, epochs, on_epoch_end)\u001b[0m\n\u001b[1;32m    505\u001b[0m                     \u001b[0;31m# the models expect tf.float32\u001b[0m\u001b[0;34m\u001b[0m\u001b[0;34m\u001b[0m\u001b[0;34m\u001b[0m\u001b[0m\n\u001b[1;32m    506\u001b[0m                     \u001b[0mtf\u001b[0m\u001b[0;34m.\u001b[0m\u001b[0mcast\u001b[0m\u001b[0;34m(\u001b[0m\u001b[0minput_batch\u001b[0m\u001b[0;34m,\u001b[0m \u001b[0mdtype\u001b[0m\u001b[0;34m=\u001b[0m\u001b[0mtf\u001b[0m\u001b[0;34m.\u001b[0m\u001b[0mfloat32\u001b[0m\u001b[0;34m)\u001b[0m\u001b[0;34m,\u001b[0m\u001b[0;34m\u001b[0m\u001b[0;34m\u001b[0m\u001b[0m\n\u001b[0;32m--> 507\u001b[0;31m                     \u001b[0mtf\u001b[0m\u001b[0;34m.\u001b[0m\u001b[0mcast\u001b[0m\u001b[0;34m(\u001b[0m\u001b[0moutput_batch\u001b[0m\u001b[0;34m,\u001b[0m \u001b[0mdtype\u001b[0m\u001b[0;34m=\u001b[0m\u001b[0mtf\u001b[0m\u001b[0;34m.\u001b[0m\u001b[0mfloat32\u001b[0m\u001b[0;34m)\u001b[0m\u001b[0;34m,\u001b[0m\u001b[0;34m\u001b[0m\u001b[0;34m\u001b[0m\u001b[0m\n\u001b[0m\u001b[1;32m    508\u001b[0m                 )\n\u001b[1;32m    509\u001b[0m \u001b[0;34m\u001b[0m\u001b[0m\n",
            "\u001b[0;32m/content/gdrive/My Drive/src/identifier-suggestion-2020-05-26T17-18-20/src/models/seq2seq_attention.py\u001b[0m in \u001b[0;36mtrain_step\u001b[0;34m(self, input_batch, output_batch)\u001b[0m\n\u001b[1;32m    451\u001b[0m \u001b[0;34m\u001b[0m\u001b[0m\n\u001b[1;32m    452\u001b[0m             \u001b[0;31m# feed forward\u001b[0m\u001b[0;34m\u001b[0m\u001b[0;34m\u001b[0m\u001b[0;34m\u001b[0m\u001b[0m\n\u001b[0;32m--> 453\u001b[0;31m             \u001b[0mlogits\u001b[0m \u001b[0;34m=\u001b[0m \u001b[0mself\u001b[0m\u001b[0;34m.\u001b[0m\u001b[0mcall\u001b[0m\u001b[0;34m(\u001b[0m\u001b[0minputs\u001b[0m\u001b[0;34m=\u001b[0m\u001b[0;34m[\u001b[0m\u001b[0minput_batch\u001b[0m\u001b[0;34m,\u001b[0m \u001b[0mdecoder_input\u001b[0m\u001b[0;34m]\u001b[0m\u001b[0;34m,\u001b[0m \u001b[0mtraining\u001b[0m \u001b[0;34m=\u001b[0m \u001b[0;32mTrue\u001b[0m\u001b[0;34m)\u001b[0m\u001b[0;34m\u001b[0m\u001b[0;34m\u001b[0m\u001b[0m\n\u001b[0m\u001b[1;32m    454\u001b[0m             \u001b[0;31m# logits.shape is [batch_size, output_seq_length, output_vocab_size]\u001b[0m\u001b[0;34m\u001b[0m\u001b[0;34m\u001b[0m\u001b[0;34m\u001b[0m\u001b[0m\n\u001b[1;32m    455\u001b[0m \u001b[0;34m\u001b[0m\u001b[0m\n",
            "\u001b[0;32m/content/gdrive/My Drive/src/identifier-suggestion-2020-05-26T17-18-20/src/models/seq2seq_attention.py\u001b[0m in \u001b[0;36mcall\u001b[0;34m(self, inputs, training)\u001b[0m\n\u001b[1;32m    311\u001b[0m         self.decoder.setup_memory_and_initial_state(\n\u001b[1;32m    312\u001b[0m             \u001b[0mencoder_outputs\u001b[0m\u001b[0;34m=\u001b[0m\u001b[0mencoder_outputs\u001b[0m\u001b[0;34m,\u001b[0m\u001b[0;34m\u001b[0m\u001b[0;34m\u001b[0m\u001b[0m\n\u001b[0;32m--> 313\u001b[0;31m             \u001b[0mencoder_states\u001b[0m\u001b[0;34m=\u001b[0m\u001b[0;34m[\u001b[0m\u001b[0mencoder_hidden_state\u001b[0m\u001b[0;34m,\u001b[0m \u001b[0mencoder_memory_state\u001b[0m\u001b[0;34m]\u001b[0m\u001b[0;34m,\u001b[0m\u001b[0;34m\u001b[0m\u001b[0;34m\u001b[0m\u001b[0m\n\u001b[0m\u001b[1;32m    314\u001b[0m         )\n\u001b[1;32m    315\u001b[0m \u001b[0;34m\u001b[0m\u001b[0m\n",
            "\u001b[0;32m/content/gdrive/My Drive/src/identifier-suggestion-2020-05-26T17-18-20/src/models/seq2seq_attention.py\u001b[0m in \u001b[0;36msetup_memory_and_initial_state\u001b[0;34m(self, encoder_outputs, encoder_states, batch_size)\u001b[0m\n\u001b[1;32m    177\u001b[0m             encoder_state = encoder_states if encoder_states is not None else [\n\u001b[1;32m    178\u001b[0m                 \u001b[0mtf\u001b[0m\u001b[0;34m.\u001b[0m\u001b[0mzeros\u001b[0m\u001b[0;34m(\u001b[0m\u001b[0;34m(\u001b[0m\u001b[0mself\u001b[0m\u001b[0;34m.\u001b[0m\u001b[0mconfig\u001b[0m\u001b[0;34m[\u001b[0m\u001b[0;34m'batch_size'\u001b[0m\u001b[0;34m]\u001b[0m\u001b[0;34m,\u001b[0m \u001b[0mself\u001b[0m\u001b[0;34m.\u001b[0m\u001b[0mconfig\u001b[0m\u001b[0;34m[\u001b[0m\u001b[0;34m'rnn_units'\u001b[0m\u001b[0;34m]\u001b[0m\u001b[0;34m)\u001b[0m\u001b[0;34m)\u001b[0m\u001b[0;34m,\u001b[0m\u001b[0;34m\u001b[0m\u001b[0;34m\u001b[0m\u001b[0m\n\u001b[0;32m--> 179\u001b[0;31m                 \u001b[0mtf\u001b[0m\u001b[0;34m.\u001b[0m\u001b[0mzeros\u001b[0m\u001b[0;34m(\u001b[0m\u001b[0;34m(\u001b[0m\u001b[0mself\u001b[0m\u001b[0;34m.\u001b[0m\u001b[0mconfig\u001b[0m\u001b[0;34m[\u001b[0m\u001b[0;34m'batch_size'\u001b[0m\u001b[0;34m]\u001b[0m\u001b[0;34m,\u001b[0m \u001b[0mself\u001b[0m\u001b[0;34m.\u001b[0m\u001b[0mconfig\u001b[0m\u001b[0;34m[\u001b[0m\u001b[0;34m'rnn_units'\u001b[0m\u001b[0;34m]\u001b[0m\u001b[0;34m)\u001b[0m\u001b[0;34m)\u001b[0m\u001b[0;34m,\u001b[0m\u001b[0;34m\u001b[0m\u001b[0;34m\u001b[0m\u001b[0m\n\u001b[0m\u001b[1;32m    180\u001b[0m             ],\n\u001b[1;32m    181\u001b[0m         )\n",
            "\u001b[0;32m/content/gdrive/My Drive/src/identifier-suggestion-2020-05-26T17-18-20/src/models/seq2seq_attention.py\u001b[0m in \u001b[0;36mbuild_decoder_initial_state\u001b[0;34m(self, batch_size, encoder_state)\u001b[0m\n\u001b[1;32m    149\u001b[0m         decoder_initial_state = self.rnn_cell.get_initial_state(\n\u001b[1;32m    150\u001b[0m             \u001b[0mbatch_size\u001b[0m\u001b[0;34m=\u001b[0m\u001b[0mbatch_size\u001b[0m\u001b[0;34m,\u001b[0m\u001b[0;34m\u001b[0m\u001b[0;34m\u001b[0m\u001b[0m\n\u001b[0;32m--> 151\u001b[0;31m             \u001b[0mdtype\u001b[0m\u001b[0;34m=\u001b[0m\u001b[0mtf\u001b[0m\u001b[0;34m.\u001b[0m\u001b[0mfloat32\u001b[0m\u001b[0;34m,\u001b[0m \u001b[0;31m# TODO: do we need this dtype at all?\u001b[0m\u001b[0;34m\u001b[0m\u001b[0;34m\u001b[0m\u001b[0m\n\u001b[0m\u001b[1;32m    152\u001b[0m         )\n\u001b[1;32m    153\u001b[0m \u001b[0;34m\u001b[0m\u001b[0m\n",
            "\u001b[0;32m/usr/local/lib/python3.6/dist-packages/tensorflow_addons/seq2seq/attention_wrapper.py\u001b[0m in \u001b[0;36mget_initial_state\u001b[0;34m(self, inputs, batch_size, dtype)\u001b[0m\n\u001b[1;32m   1960\u001b[0m             )\n\u001b[1;32m   1961\u001b[0m             with tf.control_dependencies(\n\u001b[0;32m-> 1962\u001b[0;31m                 \u001b[0mself\u001b[0m\u001b[0;34m.\u001b[0m\u001b[0m_batch_size_checks\u001b[0m\u001b[0;34m(\u001b[0m\u001b[0mbatch_size\u001b[0m\u001b[0;34m,\u001b[0m \u001b[0merror_message\u001b[0m\u001b[0;34m)\u001b[0m\u001b[0;34m\u001b[0m\u001b[0;34m\u001b[0m\u001b[0m\n\u001b[0m\u001b[1;32m   1963\u001b[0m             ):  # pylint: disable=bad-continuation\n\u001b[1;32m   1964\u001b[0m                 cell_state = tf.nest.map_structure(\n",
            "\u001b[0;32m/usr/local/lib/python3.6/dist-packages/tensorflow_addons/seq2seq/attention_wrapper.py\u001b[0m in \u001b[0;36m_batch_size_checks\u001b[0;34m(self, batch_size, error_message)\u001b[0m\n\u001b[1;32m   1839\u001b[0m                 \u001b[0mbatch_size\u001b[0m\u001b[0;34m,\u001b[0m \u001b[0mattention_mechanism\u001b[0m\u001b[0;34m.\u001b[0m\u001b[0mbatch_size\u001b[0m\u001b[0;34m,\u001b[0m \u001b[0mmessage\u001b[0m\u001b[0;34m=\u001b[0m\u001b[0merror_message\u001b[0m\u001b[0;34m\u001b[0m\u001b[0;34m\u001b[0m\u001b[0m\n\u001b[1;32m   1840\u001b[0m             )\n\u001b[0;32m-> 1841\u001b[0;31m             \u001b[0;32mfor\u001b[0m \u001b[0mattention_mechanism\u001b[0m \u001b[0;32min\u001b[0m \u001b[0mself\u001b[0m\u001b[0;34m.\u001b[0m\u001b[0m_attention_mechanisms\u001b[0m\u001b[0;34m\u001b[0m\u001b[0;34m\u001b[0m\u001b[0m\n\u001b[0m\u001b[1;32m   1842\u001b[0m         ]\n\u001b[1;32m   1843\u001b[0m \u001b[0;34m\u001b[0m\u001b[0m\n",
            "\u001b[0;32m/usr/local/lib/python3.6/dist-packages/tensorflow_addons/seq2seq/attention_wrapper.py\u001b[0m in \u001b[0;36m<listcomp>\u001b[0;34m(.0)\u001b[0m\n\u001b[1;32m   1839\u001b[0m                 \u001b[0mbatch_size\u001b[0m\u001b[0;34m,\u001b[0m \u001b[0mattention_mechanism\u001b[0m\u001b[0;34m.\u001b[0m\u001b[0mbatch_size\u001b[0m\u001b[0;34m,\u001b[0m \u001b[0mmessage\u001b[0m\u001b[0;34m=\u001b[0m\u001b[0merror_message\u001b[0m\u001b[0;34m\u001b[0m\u001b[0;34m\u001b[0m\u001b[0m\n\u001b[1;32m   1840\u001b[0m             )\n\u001b[0;32m-> 1841\u001b[0;31m             \u001b[0;32mfor\u001b[0m \u001b[0mattention_mechanism\u001b[0m \u001b[0;32min\u001b[0m \u001b[0mself\u001b[0m\u001b[0;34m.\u001b[0m\u001b[0m_attention_mechanisms\u001b[0m\u001b[0;34m\u001b[0m\u001b[0;34m\u001b[0m\u001b[0m\n\u001b[0m\u001b[1;32m   1842\u001b[0m         ]\n\u001b[1;32m   1843\u001b[0m \u001b[0;34m\u001b[0m\u001b[0m\n",
            "\u001b[0;32m/usr/local/lib/python3.6/dist-packages/tensorflow/python/ops/check_ops.py\u001b[0m in \u001b[0;36massert_equal_v2\u001b[0;34m(x, y, message, summarize, name)\u001b[0m\n\u001b[1;32m    646\u001b[0m       \u001b[0mexecution\u001b[0m \u001b[0;32mor\u001b[0m \u001b[0;32mif\u001b[0m\u001b[0;31m \u001b[0m\u001b[0;31m`\u001b[0m\u001b[0mx\u001b[0m\u001b[0;31m`\u001b[0m \u001b[0;32mand\u001b[0m\u001b[0;31m \u001b[0m\u001b[0;31m`\u001b[0m\u001b[0my\u001b[0m\u001b[0;31m`\u001b[0m \u001b[0mare\u001b[0m \u001b[0mstatically\u001b[0m \u001b[0mknown\u001b[0m\u001b[0;34m.\u001b[0m\u001b[0;34m\u001b[0m\u001b[0;34m\u001b[0m\u001b[0m\n\u001b[1;32m    647\u001b[0m   \"\"\"\n\u001b[0;32m--> 648\u001b[0;31m   \u001b[0;32mreturn\u001b[0m \u001b[0massert_equal\u001b[0m\u001b[0;34m(\u001b[0m\u001b[0mx\u001b[0m\u001b[0;34m=\u001b[0m\u001b[0mx\u001b[0m\u001b[0;34m,\u001b[0m \u001b[0my\u001b[0m\u001b[0;34m=\u001b[0m\u001b[0my\u001b[0m\u001b[0;34m,\u001b[0m \u001b[0msummarize\u001b[0m\u001b[0;34m=\u001b[0m\u001b[0msummarize\u001b[0m\u001b[0;34m,\u001b[0m \u001b[0mmessage\u001b[0m\u001b[0;34m=\u001b[0m\u001b[0mmessage\u001b[0m\u001b[0;34m,\u001b[0m \u001b[0mname\u001b[0m\u001b[0;34m=\u001b[0m\u001b[0mname\u001b[0m\u001b[0;34m)\u001b[0m\u001b[0;34m\u001b[0m\u001b[0;34m\u001b[0m\u001b[0m\n\u001b[0m\u001b[1;32m    649\u001b[0m \u001b[0;34m\u001b[0m\u001b[0m\n\u001b[1;32m    650\u001b[0m \u001b[0;34m\u001b[0m\u001b[0m\n",
            "\u001b[0;32m/usr/local/lib/python3.6/dist-packages/tensorflow/python/ops/check_ops.py\u001b[0m in \u001b[0;36massert_equal\u001b[0;34m(x, y, data, summarize, message, name)\u001b[0m\n\u001b[1;32m    657\u001b[0m       \u001b[0;32mreturn\u001b[0m \u001b[0;32mNone\u001b[0m \u001b[0;32mif\u001b[0m \u001b[0mcontext\u001b[0m\u001b[0;34m.\u001b[0m\u001b[0mexecuting_eagerly\u001b[0m\u001b[0;34m(\u001b[0m\u001b[0;34m)\u001b[0m \u001b[0;32melse\u001b[0m \u001b[0mcontrol_flow_ops\u001b[0m\u001b[0;34m.\u001b[0m\u001b[0mno_op\u001b[0m\u001b[0;34m(\u001b[0m\u001b[0;34m)\u001b[0m\u001b[0;34m\u001b[0m\u001b[0;34m\u001b[0m\u001b[0m\n\u001b[1;32m    658\u001b[0m   return _binary_assert('==', 'assert_equal', math_ops.equal, np.equal, x, y,\n\u001b[0;32m--> 659\u001b[0;31m                         data, summarize, message, name)\n\u001b[0m\u001b[1;32m    660\u001b[0m \u001b[0;34m\u001b[0m\u001b[0m\n\u001b[1;32m    661\u001b[0m \u001b[0;34m\u001b[0m\u001b[0m\n",
            "\u001b[0;32m/usr/local/lib/python3.6/dist-packages/tensorflow/python/ops/check_ops.py\u001b[0m in \u001b[0;36m_binary_assert\u001b[0;34m(sym, opname, op_func, static_func, x, y, data, summarize, message, name)\u001b[0m\n\u001b[1;32m    331\u001b[0m     \u001b[0;32mif\u001b[0m \u001b[0mcontext\u001b[0m\u001b[0;34m.\u001b[0m\u001b[0mexecuting_eagerly\u001b[0m\u001b[0;34m(\u001b[0m\u001b[0;34m)\u001b[0m\u001b[0;34m:\u001b[0m\u001b[0;34m\u001b[0m\u001b[0;34m\u001b[0m\u001b[0m\n\u001b[1;32m    332\u001b[0m       \u001b[0mtest_op\u001b[0m \u001b[0;34m=\u001b[0m \u001b[0mop_func\u001b[0m\u001b[0;34m(\u001b[0m\u001b[0mx\u001b[0m\u001b[0;34m,\u001b[0m \u001b[0my\u001b[0m\u001b[0;34m)\u001b[0m\u001b[0;34m\u001b[0m\u001b[0;34m\u001b[0m\u001b[0m\n\u001b[0;32m--> 333\u001b[0;31m       \u001b[0mcondition\u001b[0m \u001b[0;34m=\u001b[0m \u001b[0mmath_ops\u001b[0m\u001b[0;34m.\u001b[0m\u001b[0mreduce_all\u001b[0m\u001b[0;34m(\u001b[0m\u001b[0mtest_op\u001b[0m\u001b[0;34m)\u001b[0m\u001b[0;34m\u001b[0m\u001b[0;34m\u001b[0m\u001b[0m\n\u001b[0m\u001b[1;32m    334\u001b[0m       \u001b[0;32mif\u001b[0m \u001b[0mcondition\u001b[0m\u001b[0;34m:\u001b[0m\u001b[0;34m\u001b[0m\u001b[0;34m\u001b[0m\u001b[0m\n\u001b[1;32m    335\u001b[0m         \u001b[0;32mreturn\u001b[0m\u001b[0;34m\u001b[0m\u001b[0;34m\u001b[0m\u001b[0m\n",
            "\u001b[0;32m/usr/local/lib/python3.6/dist-packages/tensorflow/python/util/dispatch.py\u001b[0m in \u001b[0;36mwrapper\u001b[0;34m(*args, **kwargs)\u001b[0m\n\u001b[1;32m    178\u001b[0m     \u001b[0;34m\"\"\"Call target, and fall back on dispatchers if there is a TypeError.\"\"\"\u001b[0m\u001b[0;34m\u001b[0m\u001b[0;34m\u001b[0m\u001b[0m\n\u001b[1;32m    179\u001b[0m     \u001b[0;32mtry\u001b[0m\u001b[0;34m:\u001b[0m\u001b[0;34m\u001b[0m\u001b[0;34m\u001b[0m\u001b[0m\n\u001b[0;32m--> 180\u001b[0;31m       \u001b[0;32mreturn\u001b[0m \u001b[0mtarget\u001b[0m\u001b[0;34m(\u001b[0m\u001b[0;34m*\u001b[0m\u001b[0margs\u001b[0m\u001b[0;34m,\u001b[0m \u001b[0;34m**\u001b[0m\u001b[0mkwargs\u001b[0m\u001b[0;34m)\u001b[0m\u001b[0;34m\u001b[0m\u001b[0;34m\u001b[0m\u001b[0m\n\u001b[0m\u001b[1;32m    181\u001b[0m     \u001b[0;32mexcept\u001b[0m \u001b[0;34m(\u001b[0m\u001b[0mTypeError\u001b[0m\u001b[0;34m,\u001b[0m \u001b[0mValueError\u001b[0m\u001b[0;34m)\u001b[0m\u001b[0;34m:\u001b[0m\u001b[0;34m\u001b[0m\u001b[0;34m\u001b[0m\u001b[0m\n\u001b[1;32m    182\u001b[0m       \u001b[0;31m# Note: convert_to_eager_tensor currently raises a ValueError, not a\u001b[0m\u001b[0;34m\u001b[0m\u001b[0;34m\u001b[0m\u001b[0;34m\u001b[0m\u001b[0m\n",
            "\u001b[0;32m/usr/local/lib/python3.6/dist-packages/tensorflow/python/ops/math_ops.py\u001b[0m in \u001b[0;36mreduce_all\u001b[0;34m(input_tensor, axis, keepdims, name)\u001b[0m\n\u001b[1;32m   2528\u001b[0m       gen_math_ops._all(\n\u001b[1;32m   2529\u001b[0m           \u001b[0minput_tensor\u001b[0m\u001b[0;34m,\u001b[0m \u001b[0m_ReductionDims\u001b[0m\u001b[0;34m(\u001b[0m\u001b[0minput_tensor\u001b[0m\u001b[0;34m,\u001b[0m \u001b[0maxis\u001b[0m\u001b[0;34m)\u001b[0m\u001b[0;34m,\u001b[0m \u001b[0mkeepdims\u001b[0m\u001b[0;34m,\u001b[0m\u001b[0;34m\u001b[0m\u001b[0;34m\u001b[0m\u001b[0m\n\u001b[0;32m-> 2530\u001b[0;31m           name=name))\n\u001b[0m\u001b[1;32m   2531\u001b[0m \u001b[0;34m\u001b[0m\u001b[0m\n\u001b[1;32m   2532\u001b[0m \u001b[0;34m\u001b[0m\u001b[0m\n",
            "\u001b[0;32m/usr/local/lib/python3.6/dist-packages/tensorflow/python/ops/gen_math_ops.py\u001b[0m in \u001b[0;36m_all\u001b[0;34m(input, axis, keep_dims, name)\u001b[0m\n\u001b[1;32m    534\u001b[0m       _result = pywrap_tfe.TFE_Py_FastPathExecute(\n\u001b[1;32m    535\u001b[0m         \u001b[0m_ctx\u001b[0m\u001b[0;34m.\u001b[0m\u001b[0m_context_handle\u001b[0m\u001b[0;34m,\u001b[0m \u001b[0mtld\u001b[0m\u001b[0;34m.\u001b[0m\u001b[0mdevice_name\u001b[0m\u001b[0;34m,\u001b[0m \u001b[0;34m\"All\"\u001b[0m\u001b[0;34m,\u001b[0m \u001b[0mname\u001b[0m\u001b[0;34m,\u001b[0m \u001b[0mtld\u001b[0m\u001b[0;34m.\u001b[0m\u001b[0mop_callbacks\u001b[0m\u001b[0;34m,\u001b[0m\u001b[0;34m\u001b[0m\u001b[0;34m\u001b[0m\u001b[0m\n\u001b[0;32m--> 536\u001b[0;31m         input, axis, \"keep_dims\", keep_dims)\n\u001b[0m\u001b[1;32m    537\u001b[0m       \u001b[0;32mreturn\u001b[0m \u001b[0m_result\u001b[0m\u001b[0;34m\u001b[0m\u001b[0;34m\u001b[0m\u001b[0m\n\u001b[1;32m    538\u001b[0m     \u001b[0;32mexcept\u001b[0m \u001b[0m_core\u001b[0m\u001b[0;34m.\u001b[0m\u001b[0m_FallbackException\u001b[0m\u001b[0;34m:\u001b[0m\u001b[0;34m\u001b[0m\u001b[0;34m\u001b[0m\u001b[0m\n",
            "\u001b[0;31mKeyboardInterrupt\u001b[0m: "
          ]
        }
      ]
    }
  ]
}