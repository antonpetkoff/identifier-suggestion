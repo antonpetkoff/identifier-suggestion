{
 "cells": [
  {
   "cell_type": "code",
   "execution_count": 11,
   "metadata": {},
   "outputs": [],
   "source": [
    "import tensorflow as tf\n",
    "from tensorboard.plugins import projector\n",
    "\n",
    "import os\n",
    "import json"
   ]
  },
  {
   "cell_type": "code",
   "execution_count": 2,
   "metadata": {},
   "outputs": [],
   "source": [
    "%load_ext tensorboard"
   ]
  },
  {
   "cell_type": "code",
   "execution_count": 6,
   "metadata": {},
   "outputs": [],
   "source": [
    "input_vocab_path = '../data/interim/preprocessed/input_vocab_index.json'\n",
    "with open(input_vocab_path) as f:\n",
    "    input_vocab_index = json.load(f)"
   ]
  },
  {
   "cell_type": "code",
   "execution_count": 12,
   "metadata": {},
   "outputs": [],
   "source": [
    "log_dir = '../reports/embeddings/'\n",
    "os.makedirs(log_dir, exist_ok=True)"
   ]
  },
  {
   "cell_type": "code",
   "execution_count": 23,
   "metadata": {},
   "outputs": [],
   "source": [
    "max_vocab_size = 20000"
   ]
  },
  {
   "cell_type": "code",
   "execution_count": 24,
   "metadata": {},
   "outputs": [],
   "source": [
    "with open(os.path.join(log_dir, 'metadata.tsv'), 'w') as f:\n",
    "    word_index = input_vocab_index.keys()\n",
    "    for word in word_index:\n",
    "        f.write(f'{word}\\n')\n",
    "\n",
    "    # Fill in the rest of the labels with \"unknown\"\n",
    "    for unknown in range(1, max_vocab_size - len(word_index)):\n",
    "        f.write(f'unknown #{unknown}\\n')"
   ]
  },
  {
   "cell_type": "code",
   "execution_count": 26,
   "metadata": {},
   "outputs": [
    {
     "name": "stdout",
     "output_type": "stream",
     "text": [
      "unknown #2648\r\n",
      "unknown #2649\r\n",
      "unknown #2650\r\n",
      "unknown #2651\r\n",
      "unknown #2652\r\n",
      "unknown #2653\r\n",
      "unknown #2654\r\n",
      "unknown #2655\r\n",
      "unknown #2656\r\n",
      "unknown #2657\r\n"
     ]
    }
   ],
   "source": [
    "!tail ../reports/embeddings/metadata.tsv"
   ]
  },
  {
   "cell_type": "code",
   "execution_count": 27,
   "metadata": {},
   "outputs": [
    {
     "name": "stdout",
     "output_type": "stream",
     "text": [
      " 19999  22660 200463 ../reports/embeddings/metadata.tsv\r\n"
     ]
    }
   ],
   "source": [
    "!wc ../reports/embeddings/metadata.tsv"
   ]
  },
  {
   "cell_type": "code",
   "execution_count": 15,
   "metadata": {},
   "outputs": [],
   "source": [
    "\n",
    "checkpoint = tf.train.Checkpoint()"
   ]
  },
  {
   "cell_type": "code",
   "execution_count": 16,
   "metadata": {},
   "outputs": [
    {
     "data": {
      "text/plain": [
       "<tensorflow.python.training.tracking.util.CheckpointLoadStatus at 0x7f3eb5933c18>"
      ]
     },
     "execution_count": 16,
     "metadata": {},
     "output_type": "execute_result"
    }
   ],
   "source": [
    "checkpoint.restore(tf.train.latest_checkpoint(log_dir))"
   ]
  },
  {
   "cell_type": "code",
   "execution_count": 18,
   "metadata": {},
   "outputs": [
    {
     "data": {
      "text/plain": [
       "[('_CHECKPOINTABLE_OBJECT_GRAPH', []),\n",
       " ('decoder/attention_mechanism/memory_layer/kernel/.ATTRIBUTES/VARIABLE_VALUE',\n",
       "  [512, 512]),\n",
       " ('decoder/attention_mechanism/memory_layer/kernel/.OPTIMIZER_SLOT/optimizer/m/.ATTRIBUTES/VARIABLE_VALUE',\n",
       "  [512, 512]),\n",
       " ('decoder/attention_mechanism/memory_layer/kernel/.OPTIMIZER_SLOT/optimizer/v/.ATTRIBUTES/VARIABLE_VALUE',\n",
       "  [512, 512]),\n",
       " ('decoder/decoder_rnn_cell/bias/.ATTRIBUTES/VARIABLE_VALUE', [2048]),\n",
       " ('decoder/decoder_rnn_cell/bias/.OPTIMIZER_SLOT/optimizer/m/.ATTRIBUTES/VARIABLE_VALUE',\n",
       "  [2048]),\n",
       " ('decoder/decoder_rnn_cell/bias/.OPTIMIZER_SLOT/optimizer/v/.ATTRIBUTES/VARIABLE_VALUE',\n",
       "  [2048]),\n",
       " ('decoder/decoder_rnn_cell/kernel/.ATTRIBUTES/VARIABLE_VALUE', [640, 2048]),\n",
       " ('decoder/decoder_rnn_cell/kernel/.OPTIMIZER_SLOT/optimizer/m/.ATTRIBUTES/VARIABLE_VALUE',\n",
       "  [640, 2048]),\n",
       " ('decoder/decoder_rnn_cell/kernel/.OPTIMIZER_SLOT/optimizer/v/.ATTRIBUTES/VARIABLE_VALUE',\n",
       "  [640, 2048]),\n",
       " ('decoder/decoder_rnn_cell/recurrent_kernel/.ATTRIBUTES/VARIABLE_VALUE',\n",
       "  [512, 2048]),\n",
       " ('decoder/decoder_rnn_cell/recurrent_kernel/.OPTIMIZER_SLOT/optimizer/m/.ATTRIBUTES/VARIABLE_VALUE',\n",
       "  [512, 2048]),\n",
       " ('decoder/decoder_rnn_cell/recurrent_kernel/.OPTIMIZER_SLOT/optimizer/v/.ATTRIBUTES/VARIABLE_VALUE',\n",
       "  [512, 2048]),\n",
       " ('decoder/dense_layer/bias/.ATTRIBUTES/VARIABLE_VALUE', [6000]),\n",
       " ('decoder/dense_layer/bias/.OPTIMIZER_SLOT/optimizer/m/.ATTRIBUTES/VARIABLE_VALUE',\n",
       "  [6000]),\n",
       " ('decoder/dense_layer/bias/.OPTIMIZER_SLOT/optimizer/v/.ATTRIBUTES/VARIABLE_VALUE',\n",
       "  [6000]),\n",
       " ('decoder/dense_layer/kernel/.ATTRIBUTES/VARIABLE_VALUE', [512, 6000]),\n",
       " ('decoder/dense_layer/kernel/.OPTIMIZER_SLOT/optimizer/m/.ATTRIBUTES/VARIABLE_VALUE',\n",
       "  [512, 6000]),\n",
       " ('decoder/dense_layer/kernel/.OPTIMIZER_SLOT/optimizer/v/.ATTRIBUTES/VARIABLE_VALUE',\n",
       "  [512, 6000]),\n",
       " ('decoder/embedding/embeddings/.ATTRIBUTES/VARIABLE_VALUE', [6000, 128]),\n",
       " ('decoder/embedding/embeddings/.OPTIMIZER_SLOT/optimizer/m/.ATTRIBUTES/VARIABLE_VALUE',\n",
       "  [6000, 128]),\n",
       " ('decoder/embedding/embeddings/.OPTIMIZER_SLOT/optimizer/v/.ATTRIBUTES/VARIABLE_VALUE',\n",
       "  [6000, 128]),\n",
       " ('decoder/rnn_cell/_attention_layers/0/kernel/.ATTRIBUTES/VARIABLE_VALUE',\n",
       "  [1024, 512]),\n",
       " ('decoder/rnn_cell/_attention_layers/0/kernel/.OPTIMIZER_SLOT/optimizer/m/.ATTRIBUTES/VARIABLE_VALUE',\n",
       "  [1024, 512]),\n",
       " ('decoder/rnn_cell/_attention_layers/0/kernel/.OPTIMIZER_SLOT/optimizer/v/.ATTRIBUTES/VARIABLE_VALUE',\n",
       "  [1024, 512]),\n",
       " ('encoder/embedding/embeddings/.ATTRIBUTES/VARIABLE_VALUE', [20000, 128]),\n",
       " ('encoder/embedding/embeddings/.OPTIMIZER_SLOT/optimizer/m/.ATTRIBUTES/VARIABLE_VALUE',\n",
       "  [20000, 128]),\n",
       " ('encoder/embedding/embeddings/.OPTIMIZER_SLOT/optimizer/v/.ATTRIBUTES/VARIABLE_VALUE',\n",
       "  [20000, 128]),\n",
       " ('encoder/encoder_rnn/cell/bias/.ATTRIBUTES/VARIABLE_VALUE', [2048]),\n",
       " ('encoder/encoder_rnn/cell/bias/.OPTIMIZER_SLOT/optimizer/m/.ATTRIBUTES/VARIABLE_VALUE',\n",
       "  [2048]),\n",
       " ('encoder/encoder_rnn/cell/bias/.OPTIMIZER_SLOT/optimizer/v/.ATTRIBUTES/VARIABLE_VALUE',\n",
       "  [2048]),\n",
       " ('encoder/encoder_rnn/cell/kernel/.ATTRIBUTES/VARIABLE_VALUE', [128, 2048]),\n",
       " ('encoder/encoder_rnn/cell/kernel/.OPTIMIZER_SLOT/optimizer/m/.ATTRIBUTES/VARIABLE_VALUE',\n",
       "  [128, 2048]),\n",
       " ('encoder/encoder_rnn/cell/kernel/.OPTIMIZER_SLOT/optimizer/v/.ATTRIBUTES/VARIABLE_VALUE',\n",
       "  [128, 2048]),\n",
       " ('encoder/encoder_rnn/cell/recurrent_kernel/.ATTRIBUTES/VARIABLE_VALUE',\n",
       "  [512, 2048]),\n",
       " ('encoder/encoder_rnn/cell/recurrent_kernel/.OPTIMIZER_SLOT/optimizer/m/.ATTRIBUTES/VARIABLE_VALUE',\n",
       "  [512, 2048]),\n",
       " ('encoder/encoder_rnn/cell/recurrent_kernel/.OPTIMIZER_SLOT/optimizer/v/.ATTRIBUTES/VARIABLE_VALUE',\n",
       "  [512, 2048]),\n",
       " ('optimizer/beta_1/.ATTRIBUTES/VARIABLE_VALUE', []),\n",
       " ('optimizer/beta_2/.ATTRIBUTES/VARIABLE_VALUE', []),\n",
       " ('optimizer/decay/.ATTRIBUTES/VARIABLE_VALUE', []),\n",
       " ('optimizer/iter/.ATTRIBUTES/VARIABLE_VALUE', []),\n",
       " ('optimizer/learning_rate/.ATTRIBUTES/VARIABLE_VALUE', []),\n",
       " ('save_counter/.ATTRIBUTES/VARIABLE_VALUE', [])]"
      ]
     },
     "execution_count": 18,
     "metadata": {},
     "output_type": "execute_result"
    }
   ],
   "source": [
    "tf.train.list_variables(log_dir)"
   ]
  },
  {
   "cell_type": "code",
   "execution_count": 20,
   "metadata": {},
   "outputs": [
    {
     "data": {
      "text/plain": [
       "(20000, 128)"
      ]
     },
     "execution_count": 20,
     "metadata": {},
     "output_type": "execute_result"
    }
   ],
   "source": [
    "tf.train.load_variable(log_dir, 'encoder/embedding/embeddings/.ATTRIBUTES/VARIABLE_VALUE').shape"
   ]
  },
  {
   "cell_type": "code",
   "execution_count": 28,
   "metadata": {},
   "outputs": [],
   "source": [
    "# Set up config\n",
    "config = projector.ProjectorConfig()\n",
    "embedding = config.embeddings.add()\n",
    "# The name of the tensor will be suffixed by `/.ATTRIBUTES/VARIABLE_VALUE`\n",
    "embedding.tensor_name = 'encoder/embedding/embeddings/.ATTRIBUTES/VARIABLE_VALUE'\n",
    "embedding.metadata_path = 'metadata.tsv'\n",
    "projector.visualize_embeddings(log_dir, config)"
   ]
  },
  {
   "cell_type": "code",
   "execution_count": 29,
   "metadata": {},
   "outputs": [
    {
     "data": {
      "text/html": [
       "\n",
       "      <iframe id=\"tensorboard-frame-e614f111cf8d0aec\" width=\"100%\" height=\"800\" frameborder=\"0\">\n",
       "      </iframe>\n",
       "      <script>\n",
       "        (function() {\n",
       "          const frame = document.getElementById(\"tensorboard-frame-e614f111cf8d0aec\");\n",
       "          const url = new URL(\"/\", window.location);\n",
       "          url.port = 6006;\n",
       "          frame.src = url;\n",
       "        })();\n",
       "      </script>\n",
       "  "
      ],
      "text/plain": [
       "<IPython.core.display.HTML object>"
      ]
     },
     "metadata": {},
     "output_type": "display_data"
    }
   ],
   "source": [
    "%tensorboard --logdir ../reports/embeddings/"
   ]
  }
 ],
 "metadata": {
  "kernelspec": {
   "display_name": "Python 3",
   "language": "python",
   "name": "python3"
  },
  "language_info": {
   "codemirror_mode": {
    "name": "ipython",
    "version": 3
   },
   "file_extension": ".py",
   "mimetype": "text/x-python",
   "name": "python",
   "nbconvert_exporter": "python",
   "pygments_lexer": "ipython3",
   "version": "3.7.3"
  }
 },
 "nbformat": 4,
 "nbformat_minor": 4
}
