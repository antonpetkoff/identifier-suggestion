{
 "cells": [
  {
   "cell_type": "code",
   "execution_count": 1,
   "metadata": {},
   "outputs": [],
   "source": [
    "import tensorflow as tf\n",
    "from tensorboard.plugins import projector\n",
    "\n",
    "import os\n",
    "import json"
   ]
  },
  {
   "cell_type": "code",
   "execution_count": 2,
   "metadata": {},
   "outputs": [],
   "source": [
    "%load_ext tensorboard"
   ]
  },
  {
   "cell_type": "code",
   "execution_count": 3,
   "metadata": {},
   "outputs": [],
   "source": [
    "input_vocab_path = '../data/processed/seq2seq/input_vocab_index.json'\n",
    "with open(input_vocab_path) as f:\n",
    "    input_vocab_index = json.load(f)"
   ]
  },
  {
   "cell_type": "code",
   "execution_count": 4,
   "metadata": {},
   "outputs": [],
   "source": [
    "log_dir = '../reports/embeddings/attempt-2/'\n",
    "os.makedirs(log_dir, exist_ok=True)"
   ]
  },
  {
   "cell_type": "code",
   "execution_count": 5,
   "metadata": {},
   "outputs": [],
   "source": [
    "max_vocab_size = 5000"
   ]
  },
  {
   "cell_type": "code",
   "execution_count": 6,
   "metadata": {},
   "outputs": [],
   "source": [
    "with open(os.path.join(log_dir, 'metadata.tsv'), 'w') as f:\n",
    "    word_index = input_vocab_index.keys()\n",
    "    for word in word_index:\n",
    "        f.write(f'{word}\\n')\n",
    "\n",
    "    # Fill in the rest of the labels with \"unknown\"\n",
    "    for unknown in range(1, max_vocab_size - len(word_index)):\n",
    "        f.write(f'unknown #{unknown}\\n')"
   ]
  },
  {
   "cell_type": "code",
   "execution_count": 7,
   "metadata": {},
   "outputs": [
    {
     "name": "stdout",
     "output_type": "stream",
     "text": [
      "setstacksize\r\n",
      "multiblock\r\n",
      "vrfy\r\n",
      "vfsfile\r\n",
      "permut\r\n",
      "tstamp\r\n",
      "cih\r\n",
      "visibilty\r\n",
      "rview\r\n",
      "6602\r\n"
     ]
    }
   ],
   "source": [
    "!tail ../reports/embeddings/attempt-2/metadata.tsv"
   ]
  },
  {
   "cell_type": "code",
   "execution_count": 8,
   "metadata": {},
   "outputs": [
    {
     "name": "stdout",
     "output_type": "stream",
     "text": [
      " 24266  24266 187420 ../reports/embeddings/attempt-2/metadata.tsv\r\n"
     ]
    }
   ],
   "source": [
    "!wc ../reports/embeddings/attempt-2/metadata.tsv"
   ]
  },
  {
   "cell_type": "code",
   "execution_count": 9,
   "metadata": {},
   "outputs": [],
   "source": [
    "checkpoint = tf.train.Checkpoint()"
   ]
  },
  {
   "cell_type": "code",
   "execution_count": 10,
   "metadata": {},
   "outputs": [
    {
     "data": {
      "text/plain": [
       "<tensorflow.python.training.tracking.util.CheckpointLoadStatus at 0x7f118b290eb8>"
      ]
     },
     "execution_count": 10,
     "metadata": {},
     "output_type": "execute_result"
    }
   ],
   "source": [
    "checkpoint.restore(tf.train.latest_checkpoint(log_dir))"
   ]
  },
  {
   "cell_type": "code",
   "execution_count": 11,
   "metadata": {},
   "outputs": [
    {
     "data": {
      "text/plain": [
       "[('_CHECKPOINTABLE_OBJECT_GRAPH', []),\n",
       " ('decoder/attention/V/bias/.ATTRIBUTES/VARIABLE_VALUE', [1]),\n",
       " ('decoder/attention/V/bias/.OPTIMIZER_SLOT/optimizer/m/.ATTRIBUTES/VARIABLE_VALUE',\n",
       "  [1]),\n",
       " ('decoder/attention/V/bias/.OPTIMIZER_SLOT/optimizer/v/.ATTRIBUTES/VARIABLE_VALUE',\n",
       "  [1]),\n",
       " ('decoder/attention/V/kernel/.ATTRIBUTES/VARIABLE_VALUE', [320, 1]),\n",
       " ('decoder/attention/V/kernel/.OPTIMIZER_SLOT/optimizer/m/.ATTRIBUTES/VARIABLE_VALUE',\n",
       "  [320, 1]),\n",
       " ('decoder/attention/V/kernel/.OPTIMIZER_SLOT/optimizer/v/.ATTRIBUTES/VARIABLE_VALUE',\n",
       "  [320, 1]),\n",
       " ('decoder/attention/W1/bias/.ATTRIBUTES/VARIABLE_VALUE', [320]),\n",
       " ('decoder/attention/W1/bias/.OPTIMIZER_SLOT/optimizer/m/.ATTRIBUTES/VARIABLE_VALUE',\n",
       "  [320]),\n",
       " ('decoder/attention/W1/bias/.OPTIMIZER_SLOT/optimizer/v/.ATTRIBUTES/VARIABLE_VALUE',\n",
       "  [320]),\n",
       " ('decoder/attention/W1/kernel/.ATTRIBUTES/VARIABLE_VALUE', [320, 320]),\n",
       " ('decoder/attention/W1/kernel/.OPTIMIZER_SLOT/optimizer/m/.ATTRIBUTES/VARIABLE_VALUE',\n",
       "  [320, 320]),\n",
       " ('decoder/attention/W1/kernel/.OPTIMIZER_SLOT/optimizer/v/.ATTRIBUTES/VARIABLE_VALUE',\n",
       "  [320, 320]),\n",
       " ('decoder/attention/W2/bias/.ATTRIBUTES/VARIABLE_VALUE', [320]),\n",
       " ('decoder/attention/W2/bias/.OPTIMIZER_SLOT/optimizer/m/.ATTRIBUTES/VARIABLE_VALUE',\n",
       "  [320]),\n",
       " ('decoder/attention/W2/bias/.OPTIMIZER_SLOT/optimizer/v/.ATTRIBUTES/VARIABLE_VALUE',\n",
       "  [320]),\n",
       " ('decoder/attention/W2/kernel/.ATTRIBUTES/VARIABLE_VALUE', [320, 320]),\n",
       " ('decoder/attention/W2/kernel/.OPTIMIZER_SLOT/optimizer/m/.ATTRIBUTES/VARIABLE_VALUE',\n",
       "  [320, 320]),\n",
       " ('decoder/attention/W2/kernel/.OPTIMIZER_SLOT/optimizer/v/.ATTRIBUTES/VARIABLE_VALUE',\n",
       "  [320, 320]),\n",
       " ('decoder/decoder_rnn/cell/bias/.ATTRIBUTES/VARIABLE_VALUE', [1280]),\n",
       " ('decoder/decoder_rnn/cell/bias/.OPTIMIZER_SLOT/optimizer/m/.ATTRIBUTES/VARIABLE_VALUE',\n",
       "  [1280]),\n",
       " ('decoder/decoder_rnn/cell/bias/.OPTIMIZER_SLOT/optimizer/v/.ATTRIBUTES/VARIABLE_VALUE',\n",
       "  [1280]),\n",
       " ('decoder/decoder_rnn/cell/kernel/.ATTRIBUTES/VARIABLE_VALUE', [370, 1280]),\n",
       " ('decoder/decoder_rnn/cell/kernel/.OPTIMIZER_SLOT/optimizer/m/.ATTRIBUTES/VARIABLE_VALUE',\n",
       "  [370, 1280]),\n",
       " ('decoder/decoder_rnn/cell/kernel/.OPTIMIZER_SLOT/optimizer/v/.ATTRIBUTES/VARIABLE_VALUE',\n",
       "  [370, 1280]),\n",
       " ('decoder/decoder_rnn/cell/recurrent_kernel/.ATTRIBUTES/VARIABLE_VALUE',\n",
       "  [320, 1280]),\n",
       " ('decoder/decoder_rnn/cell/recurrent_kernel/.OPTIMIZER_SLOT/optimizer/m/.ATTRIBUTES/VARIABLE_VALUE',\n",
       "  [320, 1280]),\n",
       " ('decoder/decoder_rnn/cell/recurrent_kernel/.OPTIMIZER_SLOT/optimizer/v/.ATTRIBUTES/VARIABLE_VALUE',\n",
       "  [320, 1280]),\n",
       " ('decoder/embedding/embeddings/.ATTRIBUTES/VARIABLE_VALUE', [5000, 50]),\n",
       " ('decoder/embedding/embeddings/.OPTIMIZER_SLOT/optimizer/m/.ATTRIBUTES/VARIABLE_VALUE',\n",
       "  [5000, 50]),\n",
       " ('decoder/embedding/embeddings/.OPTIMIZER_SLOT/optimizer/v/.ATTRIBUTES/VARIABLE_VALUE',\n",
       "  [5000, 50]),\n",
       " ('decoder/output_layer/bias/.ATTRIBUTES/VARIABLE_VALUE', [5000]),\n",
       " ('decoder/output_layer/bias/.OPTIMIZER_SLOT/optimizer/m/.ATTRIBUTES/VARIABLE_VALUE',\n",
       "  [5000]),\n",
       " ('decoder/output_layer/bias/.OPTIMIZER_SLOT/optimizer/v/.ATTRIBUTES/VARIABLE_VALUE',\n",
       "  [5000]),\n",
       " ('decoder/output_layer/kernel/.ATTRIBUTES/VARIABLE_VALUE', [320, 5000]),\n",
       " ('decoder/output_layer/kernel/.OPTIMIZER_SLOT/optimizer/m/.ATTRIBUTES/VARIABLE_VALUE',\n",
       "  [320, 5000]),\n",
       " ('decoder/output_layer/kernel/.OPTIMIZER_SLOT/optimizer/v/.ATTRIBUTES/VARIABLE_VALUE',\n",
       "  [320, 5000]),\n",
       " ('encoder/embedding/embeddings/.ATTRIBUTES/VARIABLE_VALUE', [5000, 50]),\n",
       " ('encoder/embedding/embeddings/.OPTIMIZER_SLOT/optimizer/m/.ATTRIBUTES/VARIABLE_VALUE',\n",
       "  [5000, 50]),\n",
       " ('encoder/embedding/embeddings/.OPTIMIZER_SLOT/optimizer/v/.ATTRIBUTES/VARIABLE_VALUE',\n",
       "  [5000, 50]),\n",
       " ('encoder/encoder_rnn/cell/bias/.ATTRIBUTES/VARIABLE_VALUE', [1280]),\n",
       " ('encoder/encoder_rnn/cell/bias/.OPTIMIZER_SLOT/optimizer/m/.ATTRIBUTES/VARIABLE_VALUE',\n",
       "  [1280]),\n",
       " ('encoder/encoder_rnn/cell/bias/.OPTIMIZER_SLOT/optimizer/v/.ATTRIBUTES/VARIABLE_VALUE',\n",
       "  [1280]),\n",
       " ('encoder/encoder_rnn/cell/kernel/.ATTRIBUTES/VARIABLE_VALUE', [50, 1280]),\n",
       " ('encoder/encoder_rnn/cell/kernel/.OPTIMIZER_SLOT/optimizer/m/.ATTRIBUTES/VARIABLE_VALUE',\n",
       "  [50, 1280]),\n",
       " ('encoder/encoder_rnn/cell/kernel/.OPTIMIZER_SLOT/optimizer/v/.ATTRIBUTES/VARIABLE_VALUE',\n",
       "  [50, 1280]),\n",
       " ('encoder/encoder_rnn/cell/recurrent_kernel/.ATTRIBUTES/VARIABLE_VALUE',\n",
       "  [320, 1280]),\n",
       " ('encoder/encoder_rnn/cell/recurrent_kernel/.OPTIMIZER_SLOT/optimizer/m/.ATTRIBUTES/VARIABLE_VALUE',\n",
       "  [320, 1280]),\n",
       " ('encoder/encoder_rnn/cell/recurrent_kernel/.OPTIMIZER_SLOT/optimizer/v/.ATTRIBUTES/VARIABLE_VALUE',\n",
       "  [320, 1280]),\n",
       " ('optimizer/beta_1/.ATTRIBUTES/VARIABLE_VALUE', []),\n",
       " ('optimizer/beta_2/.ATTRIBUTES/VARIABLE_VALUE', []),\n",
       " ('optimizer/decay/.ATTRIBUTES/VARIABLE_VALUE', []),\n",
       " ('optimizer/iter/.ATTRIBUTES/VARIABLE_VALUE', []),\n",
       " ('optimizer/learning_rate/.ATTRIBUTES/VARIABLE_VALUE', []),\n",
       " ('save_counter/.ATTRIBUTES/VARIABLE_VALUE', [])]"
      ]
     },
     "execution_count": 11,
     "metadata": {},
     "output_type": "execute_result"
    }
   ],
   "source": [
    "tf.train.list_variables(log_dir)"
   ]
  },
  {
   "cell_type": "code",
   "execution_count": 12,
   "metadata": {},
   "outputs": [
    {
     "data": {
      "text/plain": [
       "(5000, 50)"
      ]
     },
     "execution_count": 12,
     "metadata": {},
     "output_type": "execute_result"
    }
   ],
   "source": [
    "tf.train.load_variable(log_dir, 'encoder/embedding/embeddings/.ATTRIBUTES/VARIABLE_VALUE').shape"
   ]
  },
  {
   "cell_type": "code",
   "execution_count": 13,
   "metadata": {},
   "outputs": [],
   "source": [
    "# Set up config\n",
    "config = projector.ProjectorConfig()\n",
    "embedding = config.embeddings.add()\n",
    "# The name of the tensor will be suffixed by `/.ATTRIBUTES/VARIABLE_VALUE`\n",
    "embedding.tensor_name = 'encoder/embedding/embeddings/.ATTRIBUTES/VARIABLE_VALUE'\n",
    "embedding.metadata_path = 'metadata.tsv'\n",
    "projector.visualize_embeddings(log_dir, config)"
   ]
  },
  {
   "cell_type": "code",
   "execution_count": 15,
   "metadata": {},
   "outputs": [
    {
     "data": {
      "text/html": [
       "\n",
       "      <iframe id=\"tensorboard-frame-a05d070694bef6b2\" width=\"100%\" height=\"800\" frameborder=\"0\">\n",
       "      </iframe>\n",
       "      <script>\n",
       "        (function() {\n",
       "          const frame = document.getElementById(\"tensorboard-frame-a05d070694bef6b2\");\n",
       "          const url = new URL(\"/\", window.location);\n",
       "          url.port = 6006;\n",
       "          frame.src = url;\n",
       "        })();\n",
       "      </script>\n",
       "  "
      ],
      "text/plain": [
       "<IPython.core.display.HTML object>"
      ]
     },
     "metadata": {},
     "output_type": "display_data"
    }
   ],
   "source": [
    "%tensorboard --logdir ../reports/embeddings/attempt-2/"
   ]
  }
 ],
 "metadata": {
  "kernelspec": {
   "display_name": "Python 3",
   "language": "python",
   "name": "python3"
  },
  "language_info": {
   "codemirror_mode": {
    "name": "ipython",
    "version": 3
   },
   "file_extension": ".py",
   "mimetype": "text/x-python",
   "name": "python",
   "nbconvert_exporter": "python",
   "pygments_lexer": "ipython3",
   "version": "3.7.3"
  }
 },
 "nbformat": 4,
 "nbformat_minor": 4
}
