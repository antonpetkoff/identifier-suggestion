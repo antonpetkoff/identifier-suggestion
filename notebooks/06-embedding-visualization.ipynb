{
 "cells": [
  {
   "cell_type": "code",
   "execution_count": 1,
   "metadata": {},
   "outputs": [],
   "source": [
    "import tensorflow as tf\n",
    "from tensorboard.plugins import projector\n",
    "\n",
    "import os\n",
    "import json"
   ]
  },
  {
   "cell_type": "code",
   "execution_count": 2,
   "metadata": {},
   "outputs": [],
   "source": [
    "%load_ext tensorboard"
   ]
  },
  {
   "cell_type": "code",
   "execution_count": 3,
   "metadata": {},
   "outputs": [],
   "source": [
    "input_vocab_path = '../models/checkpoints/seq2seq-best-july-8/input_vocab_index.json'\n",
    "with open(input_vocab_path) as f:\n",
    "    input_vocab_index = json.load(f)"
   ]
  },
  {
   "cell_type": "code",
   "execution_count": 4,
   "metadata": {},
   "outputs": [],
   "source": [
    "log_dir = '../reports/embeddings/attempt-3/'\n",
    "os.makedirs(log_dir, exist_ok=True)"
   ]
  },
  {
   "cell_type": "code",
   "execution_count": 5,
   "metadata": {},
   "outputs": [],
   "source": [
    "max_vocab_size = 7000"
   ]
  },
  {
   "cell_type": "code",
   "execution_count": 6,
   "metadata": {},
   "outputs": [],
   "source": [
    "with open(os.path.join(log_dir, 'metadata.tsv'), 'w') as f:\n",
    "    word_index = input_vocab_index.keys()\n",
    "    for word in list(word_index)[:max_vocab_size]:\n",
    "        f.write(f'{word}\\n')\n",
    "\n",
    "    # Fill in the rest of the labels with \"unknown\"\n",
    "    for unknown in range(1, len(word_index) - max_vocab_size):\n",
    "        f.write(f'unknown #{unknown}\\n')"
   ]
  },
  {
   "cell_type": "code",
   "execution_count": 7,
   "metadata": {},
   "outputs": [
    {
     "name": "stdout",
     "output_type": "stream",
     "text": [
      "unknown #17256\r\n",
      "unknown #17257\r\n",
      "unknown #17258\r\n",
      "unknown #17259\r\n",
      "unknown #17260\r\n",
      "unknown #17261\r\n",
      "unknown #17262\r\n",
      "unknown #17263\r\n",
      "unknown #17264\r\n",
      "unknown #17265\r\n"
     ]
    }
   ],
   "source": [
    "!tail ../reports/embeddings/attempt-3/metadata.tsv"
   ]
  },
  {
   "cell_type": "code",
   "execution_count": 8,
   "metadata": {},
   "outputs": [
    {
     "name": "stdout",
     "output_type": "stream",
     "text": [
      " 24265  41530 298959 ../reports/embeddings/attempt-3/metadata.tsv\r\n"
     ]
    }
   ],
   "source": [
    "!wc ../reports/embeddings/attempt-3/metadata.tsv"
   ]
  },
  {
   "cell_type": "code",
   "execution_count": 9,
   "metadata": {},
   "outputs": [],
   "source": [
    "checkpoint = tf.train.Checkpoint()"
   ]
  },
  {
   "cell_type": "code",
   "execution_count": 10,
   "metadata": {},
   "outputs": [
    {
     "data": {
      "text/plain": [
       "<tensorflow.python.training.tracking.util.CheckpointLoadStatus at 0x7f43412bf630>"
      ]
     },
     "execution_count": 10,
     "metadata": {},
     "output_type": "execute_result"
    }
   ],
   "source": [
    "checkpoint.restore(tf.train.latest_checkpoint(log_dir))"
   ]
  },
  {
   "cell_type": "code",
   "execution_count": 11,
   "metadata": {},
   "outputs": [
    {
     "data": {
      "text/plain": [
       "[('_CHECKPOINTABLE_OBJECT_GRAPH', []),\n",
       " ('decoder/attention/V/bias/.ATTRIBUTES/VARIABLE_VALUE', [1]),\n",
       " ('decoder/attention/V/bias/.OPTIMIZER_SLOT/optimizer/m/.ATTRIBUTES/VARIABLE_VALUE',\n",
       "  [1]),\n",
       " ('decoder/attention/V/bias/.OPTIMIZER_SLOT/optimizer/v/.ATTRIBUTES/VARIABLE_VALUE',\n",
       "  [1]),\n",
       " ('decoder/attention/V/kernel/.ATTRIBUTES/VARIABLE_VALUE', [768, 1]),\n",
       " ('decoder/attention/V/kernel/.OPTIMIZER_SLOT/optimizer/m/.ATTRIBUTES/VARIABLE_VALUE',\n",
       "  [768, 1]),\n",
       " ('decoder/attention/V/kernel/.OPTIMIZER_SLOT/optimizer/v/.ATTRIBUTES/VARIABLE_VALUE',\n",
       "  [768, 1]),\n",
       " ('decoder/attention/W1/bias/.ATTRIBUTES/VARIABLE_VALUE', [768]),\n",
       " ('decoder/attention/W1/bias/.OPTIMIZER_SLOT/optimizer/m/.ATTRIBUTES/VARIABLE_VALUE',\n",
       "  [768]),\n",
       " ('decoder/attention/W1/bias/.OPTIMIZER_SLOT/optimizer/v/.ATTRIBUTES/VARIABLE_VALUE',\n",
       "  [768]),\n",
       " ('decoder/attention/W1/kernel/.ATTRIBUTES/VARIABLE_VALUE', [768, 768]),\n",
       " ('decoder/attention/W1/kernel/.OPTIMIZER_SLOT/optimizer/m/.ATTRIBUTES/VARIABLE_VALUE',\n",
       "  [768, 768]),\n",
       " ('decoder/attention/W1/kernel/.OPTIMIZER_SLOT/optimizer/v/.ATTRIBUTES/VARIABLE_VALUE',\n",
       "  [768, 768]),\n",
       " ('decoder/attention/W2/bias/.ATTRIBUTES/VARIABLE_VALUE', [768]),\n",
       " ('decoder/attention/W2/bias/.OPTIMIZER_SLOT/optimizer/m/.ATTRIBUTES/VARIABLE_VALUE',\n",
       "  [768]),\n",
       " ('decoder/attention/W2/bias/.OPTIMIZER_SLOT/optimizer/v/.ATTRIBUTES/VARIABLE_VALUE',\n",
       "  [768]),\n",
       " ('decoder/attention/W2/kernel/.ATTRIBUTES/VARIABLE_VALUE', [768, 768]),\n",
       " ('decoder/attention/W2/kernel/.OPTIMIZER_SLOT/optimizer/m/.ATTRIBUTES/VARIABLE_VALUE',\n",
       "  [768, 768]),\n",
       " ('decoder/attention/W2/kernel/.OPTIMIZER_SLOT/optimizer/v/.ATTRIBUTES/VARIABLE_VALUE',\n",
       "  [768, 768]),\n",
       " ('decoder/decoder_rnn/cell/bias/.ATTRIBUTES/VARIABLE_VALUE', [3072]),\n",
       " ('decoder/decoder_rnn/cell/bias/.OPTIMIZER_SLOT/optimizer/m/.ATTRIBUTES/VARIABLE_VALUE',\n",
       "  [3072]),\n",
       " ('decoder/decoder_rnn/cell/bias/.OPTIMIZER_SLOT/optimizer/v/.ATTRIBUTES/VARIABLE_VALUE',\n",
       "  [3072]),\n",
       " ('decoder/decoder_rnn/cell/kernel/.ATTRIBUTES/VARIABLE_VALUE', [896, 3072]),\n",
       " ('decoder/decoder_rnn/cell/kernel/.OPTIMIZER_SLOT/optimizer/m/.ATTRIBUTES/VARIABLE_VALUE',\n",
       "  [896, 3072]),\n",
       " ('decoder/decoder_rnn/cell/kernel/.OPTIMIZER_SLOT/optimizer/v/.ATTRIBUTES/VARIABLE_VALUE',\n",
       "  [896, 3072]),\n",
       " ('decoder/decoder_rnn/cell/recurrent_kernel/.ATTRIBUTES/VARIABLE_VALUE',\n",
       "  [768, 3072]),\n",
       " ('decoder/decoder_rnn/cell/recurrent_kernel/.OPTIMIZER_SLOT/optimizer/m/.ATTRIBUTES/VARIABLE_VALUE',\n",
       "  [768, 3072]),\n",
       " ('decoder/decoder_rnn/cell/recurrent_kernel/.OPTIMIZER_SLOT/optimizer/v/.ATTRIBUTES/VARIABLE_VALUE',\n",
       "  [768, 3072]),\n",
       " ('decoder/embedding/embeddings/.ATTRIBUTES/VARIABLE_VALUE', [7000, 128]),\n",
       " ('decoder/embedding/embeddings/.OPTIMIZER_SLOT/optimizer/m/.ATTRIBUTES/VARIABLE_VALUE',\n",
       "  [7000, 128]),\n",
       " ('decoder/embedding/embeddings/.OPTIMIZER_SLOT/optimizer/v/.ATTRIBUTES/VARIABLE_VALUE',\n",
       "  [7000, 128]),\n",
       " ('decoder/output_layer/bias/.ATTRIBUTES/VARIABLE_VALUE', [7000]),\n",
       " ('decoder/output_layer/bias/.OPTIMIZER_SLOT/optimizer/m/.ATTRIBUTES/VARIABLE_VALUE',\n",
       "  [7000]),\n",
       " ('decoder/output_layer/bias/.OPTIMIZER_SLOT/optimizer/v/.ATTRIBUTES/VARIABLE_VALUE',\n",
       "  [7000]),\n",
       " ('decoder/output_layer/kernel/.ATTRIBUTES/VARIABLE_VALUE', [768, 7000]),\n",
       " ('decoder/output_layer/kernel/.OPTIMIZER_SLOT/optimizer/m/.ATTRIBUTES/VARIABLE_VALUE',\n",
       "  [768, 7000]),\n",
       " ('decoder/output_layer/kernel/.OPTIMIZER_SLOT/optimizer/v/.ATTRIBUTES/VARIABLE_VALUE',\n",
       "  [768, 7000]),\n",
       " ('encoder/embedding/embeddings/.ATTRIBUTES/VARIABLE_VALUE', [7000, 128]),\n",
       " ('encoder/embedding/embeddings/.OPTIMIZER_SLOT/optimizer/m/.ATTRIBUTES/VARIABLE_VALUE',\n",
       "  [7000, 128]),\n",
       " ('encoder/embedding/embeddings/.OPTIMIZER_SLOT/optimizer/v/.ATTRIBUTES/VARIABLE_VALUE',\n",
       "  [7000, 128]),\n",
       " ('encoder/encoder_rnn/cell/bias/.ATTRIBUTES/VARIABLE_VALUE', [3072]),\n",
       " ('encoder/encoder_rnn/cell/bias/.OPTIMIZER_SLOT/optimizer/m/.ATTRIBUTES/VARIABLE_VALUE',\n",
       "  [3072]),\n",
       " ('encoder/encoder_rnn/cell/bias/.OPTIMIZER_SLOT/optimizer/v/.ATTRIBUTES/VARIABLE_VALUE',\n",
       "  [3072]),\n",
       " ('encoder/encoder_rnn/cell/kernel/.ATTRIBUTES/VARIABLE_VALUE', [128, 3072]),\n",
       " ('encoder/encoder_rnn/cell/kernel/.OPTIMIZER_SLOT/optimizer/m/.ATTRIBUTES/VARIABLE_VALUE',\n",
       "  [128, 3072]),\n",
       " ('encoder/encoder_rnn/cell/kernel/.OPTIMIZER_SLOT/optimizer/v/.ATTRIBUTES/VARIABLE_VALUE',\n",
       "  [128, 3072]),\n",
       " ('encoder/encoder_rnn/cell/recurrent_kernel/.ATTRIBUTES/VARIABLE_VALUE',\n",
       "  [768, 3072]),\n",
       " ('encoder/encoder_rnn/cell/recurrent_kernel/.OPTIMIZER_SLOT/optimizer/m/.ATTRIBUTES/VARIABLE_VALUE',\n",
       "  [768, 3072]),\n",
       " ('encoder/encoder_rnn/cell/recurrent_kernel/.OPTIMIZER_SLOT/optimizer/v/.ATTRIBUTES/VARIABLE_VALUE',\n",
       "  [768, 3072]),\n",
       " ('optimizer/beta_1/.ATTRIBUTES/VARIABLE_VALUE', []),\n",
       " ('optimizer/beta_2/.ATTRIBUTES/VARIABLE_VALUE', []),\n",
       " ('optimizer/decay/.ATTRIBUTES/VARIABLE_VALUE', []),\n",
       " ('optimizer/iter/.ATTRIBUTES/VARIABLE_VALUE', []),\n",
       " ('optimizer/learning_rate/.ATTRIBUTES/VARIABLE_VALUE', []),\n",
       " ('save_counter/.ATTRIBUTES/VARIABLE_VALUE', [])]"
      ]
     },
     "execution_count": 11,
     "metadata": {},
     "output_type": "execute_result"
    }
   ],
   "source": [
    "tf.train.list_variables(log_dir)"
   ]
  },
  {
   "cell_type": "code",
   "execution_count": 12,
   "metadata": {},
   "outputs": [
    {
     "data": {
      "text/plain": [
       "(7000, 128)"
      ]
     },
     "execution_count": 12,
     "metadata": {},
     "output_type": "execute_result"
    }
   ],
   "source": [
    "tf.train.load_variable(log_dir, 'encoder/embedding/embeddings/.ATTRIBUTES/VARIABLE_VALUE').shape"
   ]
  },
  {
   "cell_type": "code",
   "execution_count": 13,
   "metadata": {},
   "outputs": [],
   "source": [
    "# Set up config\n",
    "config = projector.ProjectorConfig()\n",
    "embedding = config.embeddings.add()\n",
    "# The name of the tensor will be suffixed by `/.ATTRIBUTES/VARIABLE_VALUE`\n",
    "embedding.tensor_name = 'encoder/embedding/embeddings/.ATTRIBUTES/VARIABLE_VALUE'\n",
    "embedding.metadata_path = 'metadata.tsv'\n",
    "projector.visualize_embeddings(log_dir, config)"
   ]
  },
  {
   "cell_type": "code",
   "execution_count": 14,
   "metadata": {},
   "outputs": [
    {
     "data": {
      "text/html": [
       "\n",
       "      <iframe id=\"tensorboard-frame-d22695788afafb20\" width=\"100%\" height=\"800\" frameborder=\"0\">\n",
       "      </iframe>\n",
       "      <script>\n",
       "        (function() {\n",
       "          const frame = document.getElementById(\"tensorboard-frame-d22695788afafb20\");\n",
       "          const url = new URL(\"/\", window.location);\n",
       "          url.port = 6006;\n",
       "          frame.src = url;\n",
       "        })();\n",
       "      </script>\n",
       "  "
      ],
      "text/plain": [
       "<IPython.core.display.HTML object>"
      ]
     },
     "metadata": {},
     "output_type": "display_data"
    }
   ],
   "source": [
    "%tensorboard --logdir ../reports/embeddings/attempt-3/"
   ]
  }
 ],
 "metadata": {
  "kernelspec": {
   "display_name": "Python 3",
   "language": "python",
   "name": "python3"
  },
  "language_info": {
   "codemirror_mode": {
    "name": "ipython",
    "version": 3
   },
   "file_extension": ".py",
   "mimetype": "text/x-python",
   "name": "python",
   "nbconvert_exporter": "python",
   "pygments_lexer": "ipython3",
   "version": "3.7.3"
  }
 },
 "nbformat": 4,
 "nbformat_minor": 4
}
