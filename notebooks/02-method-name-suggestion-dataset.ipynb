{
 "cells": [
  {
   "cell_type": "code",
   "execution_count": 1,
   "metadata": {},
   "outputs": [],
   "source": [
    "import javalang\n",
    "import itertools\n",
    "\n",
    "from pipe import *"
   ]
  },
  {
   "cell_type": "markdown",
   "metadata": {},
   "source": [
    "Attributes:\n",
    "* method body\n",
    "* return type\n",
    "* argument list\n",
    "* containing class name\n",
    "* method name (label)\n",
    "\n",
    "Attribute extensions:"
   ]
  },
  {
   "cell_type": "code",
   "execution_count": 8,
   "metadata": {},
   "outputs": [],
   "source": [
    "code_snippet = \"\"\"/*\n",
    " * Licensed to Elasticsearch under one or more contributor\n",
    " * license agreements. See the NOTICE file distributed with\n",
    " * this work for additional information regarding copyright\n",
    " * ownership. Elasticsearch licenses this file to you under\n",
    " * the Apache License, Version 2.0 (the \"License\"); you may\n",
    " * not use this file except in compliance with the License.\n",
    " * You may obtain a copy of the License at\n",
    " *\n",
    " *    http://www.apache.org/licenses/LICENSE-2.0\n",
    " *\n",
    " * Unless required by applicable law or agreed to in writing,\n",
    " * software distributed under the License is distributed on an\n",
    " * \"AS IS\" BASIS, WITHOUT WARRANTIES OR CONDITIONS OF ANY\n",
    " * KIND, either express or implied.  See the License for the\n",
    " * specific language governing permissions and limitations\n",
    " * under the License.\n",
    " */\n",
    "\n",
    "package org.elasticsearch.ingest.useragent;\n",
    "\n",
    "import org.elasticsearch.common.cache.Cache;\n",
    "import org.elasticsearch.common.cache.CacheBuilder;\n",
    "import org.elasticsearch.ingest.useragent.UserAgentParser.Details;\n",
    "\n",
    "import java.util.Objects;\n",
    "\n",
    "class UserAgentCache {\n",
    "    private final Cache<CompositeCacheKey, Details> cache;\n",
    "\n",
    "    UserAgentCache(long cacheSize) {\n",
    "        cache = CacheBuilder.<CompositeCacheKey, Details>builder().setMaximumWeight(cacheSize).build();\n",
    "    }\n",
    "\n",
    "    public Details get(String parserName, String userAgent) {\n",
    "        return cache.get(new CompositeCacheKey(parserName, userAgent));\n",
    "    }\n",
    "\n",
    "    public void put(String parserName, String userAgent, Details details) {\n",
    "        cache.put(new CompositeCacheKey(parserName, userAgent), details);\n",
    "    }\n",
    "\n",
    "    private static final class CompositeCacheKey {\n",
    "        private final String parserName;\n",
    "        private final String userAgent;\n",
    "\n",
    "        CompositeCacheKey(String parserName, String userAgent) {\n",
    "            this.parserName = parserName;\n",
    "            this.userAgent = userAgent;\n",
    "        }\n",
    "\n",
    "        @Override\n",
    "        public boolean equals(Object obj) {\n",
    "            if(obj != null && obj instanceof CompositeCacheKey) {\n",
    "                CompositeCacheKey s = (CompositeCacheKey)obj;\n",
    "                return parserName.equals(s.parserName) && userAgent.equals(s.userAgent);\n",
    "            }\n",
    "            return false;\n",
    "        }\n",
    "\n",
    "        @Override\n",
    "        public int hashCode() {\n",
    "            return Objects.hash(parserName, userAgent);\n",
    "        }\n",
    "    }\n",
    "}\n",
    "\"\"\""
   ]
  },
  {
   "cell_type": "code",
   "execution_count": 9,
   "metadata": {},
   "outputs": [
    {
     "data": {
      "text/plain": [
       "CompilationUnit(imports=[Import(path=org.elasticsearch.common.cache.Cache, static=False, wildcard=False), Import(path=org.elasticsearch.common.cache.CacheBuilder, static=False, wildcard=False), Import(path=org.elasticsearch.ingest.useragent.UserAgentParser.Details, static=False, wildcard=False), Import(path=java.util.Objects, static=False, wildcard=False)], package=PackageDeclaration(annotations=None, documentation=None, modifiers=None, name=org.elasticsearch.ingest.useragent), types=[ClassDeclaration(annotations=[], body=[FieldDeclaration(annotations=[], declarators=[VariableDeclarator(dimensions=[], initializer=None, name=cache)], documentation=None, modifiers={'final', 'private'}, type=ReferenceType(arguments=[TypeArgument(pattern_type=None, type=ReferenceType(arguments=None, dimensions=[], name=CompositeCacheKey, sub_type=None)), TypeArgument(pattern_type=None, type=ReferenceType(arguments=None, dimensions=[], name=Details, sub_type=None))], dimensions=[], name=Cache, sub_type=None)), ConstructorDeclaration(annotations=[], body=[StatementExpression(expression=Assignment(expressionl=MemberReference(member=cache, postfix_operators=[], prefix_operators=[], qualifier=, selectors=[]), type==, value=MethodInvocation(arguments=[], member=CacheBuilder, postfix_operators=[], prefix_operators=[], qualifier=, selectors=[MethodInvocation(arguments=[MemberReference(member=cacheSize, postfix_operators=[], prefix_operators=[], qualifier=, selectors=[])], member=setMaximumWeight, postfix_operators=None, prefix_operators=None, qualifier=None, selectors=None, type_arguments=None), MethodInvocation(arguments=[], member=build, postfix_operators=None, prefix_operators=None, qualifier=None, selectors=None, type_arguments=None)], type_arguments=[TypeArgument(pattern_type=None, type=ReferenceType(arguments=None, dimensions=[], name=CompositeCacheKey, sub_type=None)), TypeArgument(pattern_type=None, type=ReferenceType(arguments=None, dimensions=[], name=Details, sub_type=None))])), label=None)], documentation=None, modifiers=set(), name=UserAgentCache, parameters=[FormalParameter(annotations=[], modifiers=set(), name=cacheSize, type=BasicType(dimensions=[], name=long), varargs=False)], throws=None, type_parameters=None), MethodDeclaration(annotations=[], body=[ReturnStatement(expression=MethodInvocation(arguments=[ClassCreator(arguments=[MemberReference(member=parserName, postfix_operators=[], prefix_operators=[], qualifier=, selectors=[]), MemberReference(member=userAgent, postfix_operators=[], prefix_operators=[], qualifier=, selectors=[])], body=None, constructor_type_arguments=None, postfix_operators=[], prefix_operators=[], qualifier=None, selectors=[], type=ReferenceType(arguments=None, dimensions=None, name=CompositeCacheKey, sub_type=None))], member=get, postfix_operators=[], prefix_operators=[], qualifier=cache, selectors=[], type_arguments=None), label=None)], documentation=None, modifiers={'public'}, name=get, parameters=[FormalParameter(annotations=[], modifiers=set(), name=parserName, type=ReferenceType(arguments=None, dimensions=[], name=String, sub_type=None), varargs=False), FormalParameter(annotations=[], modifiers=set(), name=userAgent, type=ReferenceType(arguments=None, dimensions=[], name=String, sub_type=None), varargs=False)], return_type=ReferenceType(arguments=None, dimensions=[], name=Details, sub_type=None), throws=None, type_parameters=None), MethodDeclaration(annotations=[], body=[StatementExpression(expression=MethodInvocation(arguments=[ClassCreator(arguments=[MemberReference(member=parserName, postfix_operators=[], prefix_operators=[], qualifier=, selectors=[]), MemberReference(member=userAgent, postfix_operators=[], prefix_operators=[], qualifier=, selectors=[])], body=None, constructor_type_arguments=None, postfix_operators=[], prefix_operators=[], qualifier=None, selectors=[], type=ReferenceType(arguments=None, dimensions=None, name=CompositeCacheKey, sub_type=None)), MemberReference(member=details, postfix_operators=[], prefix_operators=[], qualifier=, selectors=[])], member=put, postfix_operators=[], prefix_operators=[], qualifier=cache, selectors=[], type_arguments=None), label=None)], documentation=None, modifiers={'public'}, name=put, parameters=[FormalParameter(annotations=[], modifiers=set(), name=parserName, type=ReferenceType(arguments=None, dimensions=[], name=String, sub_type=None), varargs=False), FormalParameter(annotations=[], modifiers=set(), name=userAgent, type=ReferenceType(arguments=None, dimensions=[], name=String, sub_type=None), varargs=False), FormalParameter(annotations=[], modifiers=set(), name=details, type=ReferenceType(arguments=None, dimensions=[], name=Details, sub_type=None), varargs=False)], return_type=None, throws=None, type_parameters=None), ClassDeclaration(annotations=[], body=[FieldDeclaration(annotations=[], declarators=[VariableDeclarator(dimensions=[], initializer=None, name=parserName)], documentation=None, modifiers={'final', 'private'}, type=ReferenceType(arguments=None, dimensions=[], name=String, sub_type=None)), FieldDeclaration(annotations=[], declarators=[VariableDeclarator(dimensions=[], initializer=None, name=userAgent)], documentation=None, modifiers={'final', 'private'}, type=ReferenceType(arguments=None, dimensions=[], name=String, sub_type=None)), ConstructorDeclaration(annotations=[], body=[StatementExpression(expression=Assignment(expressionl=This(postfix_operators=[], prefix_operators=[], qualifier=None, selectors=[MemberReference(member=parserName, postfix_operators=None, prefix_operators=None, qualifier=None, selectors=None)]), type==, value=MemberReference(member=parserName, postfix_operators=[], prefix_operators=[], qualifier=, selectors=[])), label=None), StatementExpression(expression=Assignment(expressionl=This(postfix_operators=[], prefix_operators=[], qualifier=None, selectors=[MemberReference(member=userAgent, postfix_operators=None, prefix_operators=None, qualifier=None, selectors=None)]), type==, value=MemberReference(member=userAgent, postfix_operators=[], prefix_operators=[], qualifier=, selectors=[])), label=None)], documentation=None, modifiers=set(), name=CompositeCacheKey, parameters=[FormalParameter(annotations=[], modifiers=set(), name=parserName, type=ReferenceType(arguments=None, dimensions=[], name=String, sub_type=None), varargs=False), FormalParameter(annotations=[], modifiers=set(), name=userAgent, type=ReferenceType(arguments=None, dimensions=[], name=String, sub_type=None), varargs=False)], throws=None, type_parameters=None), MethodDeclaration(annotations=[Annotation(element=None, name=Override)], body=[IfStatement(condition=BinaryOperation(operandl=BinaryOperation(operandl=MemberReference(member=obj, postfix_operators=[], prefix_operators=[], qualifier=, selectors=[]), operandr=Literal(postfix_operators=[], prefix_operators=[], qualifier=None, selectors=[], value=null), operator=!=), operandr=BinaryOperation(operandl=MemberReference(member=obj, postfix_operators=[], prefix_operators=[], qualifier=, selectors=[]), operandr=ReferenceType(arguments=None, dimensions=[], name=CompositeCacheKey, sub_type=None), operator=instanceof), operator=&&), else_statement=None, label=None, then_statement=BlockStatement(label=None, statements=[LocalVariableDeclaration(annotations=[], declarators=[VariableDeclarator(dimensions=[], initializer=Cast(expression=MemberReference(member=obj, postfix_operators=[], prefix_operators=[], qualifier=, selectors=[]), type=ReferenceType(arguments=None, dimensions=[], name=CompositeCacheKey, sub_type=None)), name=s)], modifiers=set(), type=ReferenceType(arguments=None, dimensions=[], name=CompositeCacheKey, sub_type=None)), ReturnStatement(expression=BinaryOperation(operandl=MethodInvocation(arguments=[MemberReference(member=parserName, postfix_operators=[], prefix_operators=[], qualifier=s, selectors=[])], member=equals, postfix_operators=[], prefix_operators=[], qualifier=parserName, selectors=[], type_arguments=None), operandr=MethodInvocation(arguments=[MemberReference(member=userAgent, postfix_operators=[], prefix_operators=[], qualifier=s, selectors=[])], member=equals, postfix_operators=[], prefix_operators=[], qualifier=userAgent, selectors=[], type_arguments=None), operator=&&), label=None)])), ReturnStatement(expression=Literal(postfix_operators=[], prefix_operators=[], qualifier=None, selectors=[], value=false), label=None)], documentation=None, modifiers={'public'}, name=equals, parameters=[FormalParameter(annotations=[], modifiers=set(), name=obj, type=ReferenceType(arguments=None, dimensions=[], name=Object, sub_type=None), varargs=False)], return_type=BasicType(dimensions=[], name=boolean), throws=None, type_parameters=None), MethodDeclaration(annotations=[Annotation(element=None, name=Override)], body=[ReturnStatement(expression=MethodInvocation(arguments=[MemberReference(member=parserName, postfix_operators=[], prefix_operators=[], qualifier=, selectors=[]), MemberReference(member=userAgent, postfix_operators=[], prefix_operators=[], qualifier=, selectors=[])], member=hash, postfix_operators=[], prefix_operators=[], qualifier=Objects, selectors=[], type_arguments=None), label=None)], documentation=None, modifiers={'public'}, name=hashCode, parameters=[], return_type=BasicType(dimensions=[], name=int), throws=None, type_parameters=None)], documentation=None, extends=None, implements=None, modifiers={'static', 'final', 'private'}, name=CompositeCacheKey, type_parameters=None)], documentation=None, extends=None, implements=None, modifiers=set(), name=UserAgentCache, type_parameters=None)])"
      ]
     },
     "execution_count": 9,
     "metadata": {},
     "output_type": "execute_result"
    }
   ],
   "source": [
    "tree = javalang.parse.parse(code_snippet)\n",
    "tree"
   ]
  },
  {
   "cell_type": "code",
   "execution_count": 30,
   "metadata": {},
   "outputs": [],
   "source": [
    "def get_matching_closing_bracket_position(tokens):\n",
    "    brackets = tokens | where(lambda token: token.value == '{' or token.value == '}')\n",
    "    started_counting = False\n",
    "    counter = 0\n",
    "    end_position = None\n",
    "    \n",
    "    for bracket in brackets:\n",
    "        if bracket.value == '{':\n",
    "            started_counting = True\n",
    "            counter += 1\n",
    "        elif bracket.value == '}':\n",
    "            counter -= 1\n",
    "\n",
    "        if started_counting and counter == 0:\n",
    "            end_position = bracket.position\n",
    "            break\n",
    "    \n",
    "    return end_position\n",
    "\n",
    "def get_method_body(tokens, line, column):\n",
    "    filtered_tokens = tokens \\\n",
    "        | skip_while(lambda token: token.position.line < line) \\\n",
    "        | skip_while(lambda token: token.position.column < column) \\\n",
    "        | skip_while(lambda token: token.value != '{')\n",
    "    \n",
    "    # TODO: can we omit the generator copying\n",
    "    filtered_tokens, filtered_tokens_copy = itertools.tee(filtered_tokens)\n",
    "    closing_bracket_position = get_matching_closing_bracket_position(filtered_tokens_copy)\n",
    "    \n",
    "    body_tokens = filtered_tokens \\\n",
    "        | take_while(lambda token: token.position.line <= closing_bracket_position.line or \\\n",
    "                                   (token.position.line == closing_bracket_position.line and token.position.column == closing_bracket_position.column)) \\\n",
    "        | map(lambda token: token.value)\n",
    "\n",
    "    return ' '.join(body_tokens)"
   ]
  },
  {
   "cell_type": "code",
   "execution_count": 31,
   "metadata": {},
   "outputs": [
    {
     "data": {
      "text/plain": [
       "'{ if ( obj != null && obj instanceof CompositeCacheKey ) { CompositeCacheKey s = ( CompositeCacheKey ) obj ; return parserName . equals ( s . parserName ) && userAgent . equals ( s . userAgent ) ; } return false ; }'"
      ]
     },
     "execution_count": 31,
     "metadata": {},
     "output_type": "execute_result"
    }
   ],
   "source": [
    "tokens = list(javalang.tokenizer.tokenize(code_snippet))\n",
    "\n",
    "get_method_body(tokens, line=53, column=16)"
   ]
  },
  {
   "cell_type": "code",
   "execution_count": 32,
   "metadata": {},
   "outputs": [],
   "source": [
    "def get_attributes(tree_node_tuple):\n",
    "    tree, node = tree_node_tuple\n",
    "    body = get_method_body(tokens, line=node.position.line, column=node.position.column)\n",
    "    return body"
   ]
  },
  {
   "cell_type": "code",
   "execution_count": 34,
   "metadata": {},
   "outputs": [
    {
     "data": {
      "text/plain": [
       "['{ return cache . get ( new CompositeCacheKey ( parserName , userAgent ) ) ; }',\n",
       " '{ cache . put ( new CompositeCacheKey ( parserName , userAgent ) , details ) ; }',\n",
       " '{ if ( obj != null && obj instanceof CompositeCacheKey ) { CompositeCacheKey s = ( CompositeCacheKey ) obj ; return parserName . equals ( s . parserName ) && userAgent . equals ( s . userAgent ) ; } return false ; }',\n",
       " '{ return Objects . hash ( parserName , userAgent ) ; }']"
      ]
     },
     "execution_count": 34,
     "metadata": {},
     "output_type": "execute_result"
    }
   ],
   "source": [
    "val = tree.filter(javalang.tree.MethodDeclaration) \\\n",
    "    | map(get_attributes)\n",
    "\n",
    "list(val)"
   ]
  },
  {
   "cell_type": "code",
   "execution_count": 9,
   "metadata": {},
   "outputs": [
    {
     "data": {
      "text/plain": [
       "[Identifier \"System\" line 1, position 1,\n",
       " Separator \".\" line 1, position 7,\n",
       " Identifier \"out\" line 1, position 8,\n",
       " Separator \".\" line 1, position 11,\n",
       " Identifier \"println\" line 1, position 12,\n",
       " Separator \"(\" line 1, position 19,\n",
       " String \"\"Hello \"\" line 1, position 20,\n",
       " Operator \"+\" line 1, position 29,\n",
       " String \"\"world\"\" line 1, position 31,\n",
       " Separator \")\" line 1, position 38,\n",
       " Separator \";\" line 1, position 39]"
      ]
     },
     "execution_count": 9,
     "metadata": {},
     "output_type": "execute_result"
    }
   ],
   "source": [
    "tokens = javalang.tokenizer.tokenize('System.out.println(\"Hello \" + \"world\");')\n",
    "list(tokens)"
   ]
  }
 ],
 "metadata": {
  "kernelspec": {
   "display_name": "Python 3",
   "language": "python",
   "name": "python3"
  },
  "language_info": {
   "codemirror_mode": {
    "name": "ipython",
    "version": 3
   },
   "file_extension": ".py",
   "mimetype": "text/x-python",
   "name": "python",
   "nbconvert_exporter": "python",
   "pygments_lexer": "ipython3",
   "version": "3.7.3"
  }
 },
 "nbformat": 4,
 "nbformat_minor": 4
}
