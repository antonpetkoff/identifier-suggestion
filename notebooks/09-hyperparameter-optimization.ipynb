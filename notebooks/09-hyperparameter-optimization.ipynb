{
 "cells": [
  {
   "cell_type": "code",
   "execution_count": 26,
   "metadata": {},
   "outputs": [],
   "source": [
    "import json\n",
    "import numpy as np\n",
    "\n",
    "from sklearn.model_selection import ParameterSampler\n",
    "from scipy.stats.distributions import lognorm"
   ]
  },
  {
   "cell_type": "code",
   "execution_count": 4,
   "metadata": {},
   "outputs": [],
   "source": [
    "rng = np.random.RandomState(0)"
   ]
  },
  {
   "cell_type": "code",
   "execution_count": 52,
   "metadata": {},
   "outputs": [],
   "source": [
    "parameter_grid = {\n",
    "    'batch_size': [128, 256, 512, 768, 1024],\n",
    "    'learning_rate': [0.00001, 0.0001, 0.001, 0.01, 0.1],\n",
    "#     'learning_rate_distro': lognorm([0.01], loc=-0.8),\n",
    "    'regularization_rate': [0.1, 0.001, 0.0001],\n",
    "    'bi_lstm': [True, False],\n",
    "}"
   ]
  },
  {
   "cell_type": "code",
   "execution_count": 51,
   "metadata": {},
   "outputs": [
    {
     "data": {
      "text/plain": [
       "[{'batch_size': 1024,\n",
       "  'bi_lstm': True,\n",
       "  'learning_rate': 0.1,\n",
       "  'learning_rate_distro': 0.20131795570197064,\n",
       "  'regularization_rate': 0.0001},\n",
       " {'batch_size': 128,\n",
       "  'bi_lstm': False,\n",
       "  'learning_rate': 0.0001,\n",
       "  'learning_rate_distro': 0.19730256395184131,\n",
       "  'regularization_rate': 0.0001},\n",
       " {'batch_size': 768,\n",
       "  'bi_lstm': True,\n",
       "  'learning_rate': 0.001,\n",
       "  'learning_rate_distro': 0.18178268248290375,\n",
       "  'regularization_rate': 0.0001},\n",
       " {'batch_size': 128,\n",
       "  'bi_lstm': False,\n",
       "  'learning_rate': 0.01,\n",
       "  'learning_rate_distro': 0.19996293550692312,\n",
       "  'regularization_rate': 0.1},\n",
       " {'batch_size': 1024,\n",
       "  'bi_lstm': False,\n",
       "  'learning_rate': 0.01,\n",
       "  'learning_rate_distro': 0.19276430836606706,\n",
       "  'regularization_rate': 0.001},\n",
       " {'batch_size': 128,\n",
       "  'bi_lstm': True,\n",
       "  'learning_rate': 0.0001,\n",
       "  'learning_rate_distro': 0.20015294665509598,\n",
       "  'regularization_rate': 0.0001},\n",
       " {'batch_size': 768,\n",
       "  'bi_lstm': True,\n",
       "  'learning_rate': 1e-05,\n",
       "  'learning_rate_distro': 0.19163314936978804,\n",
       "  'regularization_rate': 0.1},\n",
       " {'batch_size': 256,\n",
       "  'bi_lstm': True,\n",
       "  'learning_rate': 1e-05,\n",
       "  'learning_rate_distro': 0.20057065852309663,\n",
       "  'regularization_rate': 0.001},\n",
       " {'batch_size': 1024,\n",
       "  'bi_lstm': False,\n",
       "  'learning_rate': 1e-05,\n",
       "  'learning_rate_distro': 0.21080571287256178,\n",
       "  'regularization_rate': 0.001},\n",
       " {'batch_size': 768,\n",
       "  'bi_lstm': True,\n",
       "  'learning_rate': 0.001,\n",
       "  'learning_rate_distro': 0.20428806690296586,\n",
       "  'regularization_rate': 0.001},\n",
       " {'batch_size': 1024,\n",
       "  'bi_lstm': False,\n",
       "  'learning_rate': 0.01,\n",
       "  'learning_rate_distro': 0.19557011037655636,\n",
       "  'regularization_rate': 0.0001},\n",
       " {'batch_size': 1024,\n",
       "  'bi_lstm': True,\n",
       "  'learning_rate': 0.1,\n",
       "  'learning_rate_distro': 0.19378766523294289,\n",
       "  'regularization_rate': 0.1},\n",
       " {'batch_size': 768,\n",
       "  'bi_lstm': False,\n",
       "  'learning_rate': 0.001,\n",
       "  'learning_rate_distro': 0.20855929997544065,\n",
       "  'regularization_rate': 0.1},\n",
       " {'batch_size': 1024,\n",
       "  'bi_lstm': True,\n",
       "  'learning_rate': 0.1,\n",
       "  'learning_rate_distro': 0.20190773062776746,\n",
       "  'regularization_rate': 0.001},\n",
       " {'batch_size': 256,\n",
       "  'bi_lstm': False,\n",
       "  'learning_rate': 0.0001,\n",
       "  'learning_rate_distro': 0.21083753274176198,\n",
       "  'regularization_rate': 0.0001},\n",
       " {'batch_size': 256,\n",
       "  'bi_lstm': True,\n",
       "  'learning_rate': 0.001,\n",
       "  'learning_rate_distro': 0.2193200774039603,\n",
       "  'regularization_rate': 0.001}]"
      ]
     },
     "execution_count": 51,
     "metadata": {},
     "output_type": "execute_result"
    }
   ],
   "source": [
    "random_search_candidates = list(ParameterSampler(parameter_grid, n_iter=16))\n",
    "random_search_candidates"
   ]
  },
  {
   "cell_type": "code",
   "execution_count": 19,
   "metadata": {},
   "outputs": [
    {
     "name": "stdout",
     "output_type": "stream",
     "text": [
      "[\n",
      "  {\n",
      "    \"learning_rate\": 0.001,\n",
      "    \"bi_lstm\": true,\n",
      "    \"batch_size\": 512\n",
      "  },\n",
      "  {\n",
      "    \"learning_rate\": 0.01,\n",
      "    \"bi_lstm\": true,\n",
      "    \"batch_size\": 128\n",
      "  },\n",
      "  {\n",
      "    \"learning_rate\": 1e-05,\n",
      "    \"bi_lstm\": false,\n",
      "    \"batch_size\": 512\n",
      "  },\n",
      "  {\n",
      "    \"learning_rate\": 1e-05,\n",
      "    \"bi_lstm\": false,\n",
      "    \"batch_size\": 256\n",
      "  },\n",
      "  {\n",
      "    \"learning_rate\": 0.01,\n",
      "    \"bi_lstm\": false,\n",
      "    \"batch_size\": 512\n",
      "  },\n",
      "  {\n",
      "    \"learning_rate\": 0.0001,\n",
      "    \"bi_lstm\": false,\n",
      "    \"batch_size\": 1024\n",
      "  },\n",
      "  {\n",
      "    \"learning_rate\": 1e-05,\n",
      "    \"bi_lstm\": true,\n",
      "    \"batch_size\": 1024\n",
      "  },\n",
      "  {\n",
      "    \"learning_rate\": 0.0001,\n",
      "    \"bi_lstm\": true,\n",
      "    \"batch_size\": 256\n",
      "  },\n",
      "  {\n",
      "    \"learning_rate\": 1e-05,\n",
      "    \"bi_lstm\": true,\n",
      "    \"batch_size\": 512\n",
      "  },\n",
      "  {\n",
      "    \"learning_rate\": 0.0001,\n",
      "    \"bi_lstm\": true,\n",
      "    \"batch_size\": 512\n",
      "  }\n",
      "]\n"
     ]
    }
   ],
   "source": [
    "print(json.dumps(random_search_candidates, indent=2))"
   ]
  }
 ],
 "metadata": {
  "kernelspec": {
   "display_name": "Python 3",
   "language": "python",
   "name": "python3"
  },
  "language_info": {
   "codemirror_mode": {
    "name": "ipython",
    "version": 3
   },
   "file_extension": ".py",
   "mimetype": "text/x-python",
   "name": "python",
   "nbconvert_exporter": "python",
   "pygments_lexer": "ipython3",
   "version": "3.7.3"
  }
 },
 "nbformat": 4,
 "nbformat_minor": 4
}
